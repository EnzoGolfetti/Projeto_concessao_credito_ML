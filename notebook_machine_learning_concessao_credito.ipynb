{
  "nbformat": 4,
  "nbformat_minor": 0,
  "metadata": {
    "colab": {
      "name": "notebook_machine_learning_concessao_credito.ipynb",
      "provenance": [],
      "collapsed_sections": [],
      "authorship_tag": "ABX9TyMVOMjc1uys7JlCmWQzZpHV",
      "include_colab_link": true
    },
    "kernelspec": {
      "display_name": "Python 3",
      "name": "python3"
    },
    "language_info": {
      "name": "python"
    },
    "widgets": {
      "application/vnd.jupyter.widget-state+json": {
        "4e3050300b75482f823a4f1928b27919": {
          "model_module": "@jupyter-widgets/controls",
          "model_name": "IntProgressModel",
          "model_module_version": "1.5.0",
          "state": {
            "_view_name": "ProgressView",
            "style": "IPY_MODEL_17c8342097b84e588a4450176f062784",
            "_dom_classes": [],
            "description": "Processing: ",
            "_model_name": "IntProgressModel",
            "bar_style": "",
            "max": 4,
            "_view_module": "@jupyter-widgets/controls",
            "_model_module_version": "1.5.0",
            "value": 4,
            "_view_count": null,
            "_view_module_version": "1.5.0",
            "orientation": "horizontal",
            "min": 0,
            "description_tooltip": null,
            "_model_module": "@jupyter-widgets/controls",
            "layout": "IPY_MODEL_f6eb36debc5e4eeaacef6383dd520520"
          }
        },
        "17c8342097b84e588a4450176f062784": {
          "model_module": "@jupyter-widgets/controls",
          "model_name": "ProgressStyleModel",
          "model_module_version": "1.5.0",
          "state": {
            "_view_name": "StyleView",
            "_model_name": "ProgressStyleModel",
            "description_width": "",
            "_view_module": "@jupyter-widgets/base",
            "_model_module_version": "1.5.0",
            "_view_count": null,
            "_view_module_version": "1.2.0",
            "bar_color": null,
            "_model_module": "@jupyter-widgets/controls"
          }
        },
        "f6eb36debc5e4eeaacef6383dd520520": {
          "model_module": "@jupyter-widgets/base",
          "model_name": "LayoutModel",
          "model_module_version": "1.2.0",
          "state": {
            "_view_name": "LayoutView",
            "grid_template_rows": null,
            "right": null,
            "justify_content": null,
            "_view_module": "@jupyter-widgets/base",
            "overflow": null,
            "_model_module_version": "1.2.0",
            "_view_count": null,
            "flex_flow": null,
            "width": null,
            "min_width": null,
            "border": null,
            "align_items": null,
            "bottom": null,
            "_model_module": "@jupyter-widgets/base",
            "top": null,
            "grid_column": null,
            "overflow_y": null,
            "overflow_x": null,
            "grid_auto_flow": null,
            "grid_area": null,
            "grid_template_columns": null,
            "flex": null,
            "_model_name": "LayoutModel",
            "justify_items": null,
            "grid_row": null,
            "max_height": null,
            "align_content": null,
            "visibility": null,
            "align_self": null,
            "height": null,
            "min_height": null,
            "padding": null,
            "grid_auto_rows": null,
            "grid_gap": null,
            "max_width": null,
            "order": null,
            "_view_module_version": "1.2.0",
            "grid_template_areas": null,
            "object_position": null,
            "object_fit": null,
            "grid_auto_columns": null,
            "margin": null,
            "display": null,
            "left": null
          }
        },
        "9d7a5b9907074f2da0ad32a95245ca0c": {
          "model_module": "@jupyter-widgets/controls",
          "model_name": "IntProgressModel",
          "model_module_version": "1.5.0",
          "state": {
            "_view_name": "ProgressView",
            "style": "IPY_MODEL_3114143ce6d44ad39a20c67d4f736890",
            "_dom_classes": [],
            "description": "Processing: ",
            "_model_name": "IntProgressModel",
            "bar_style": "",
            "max": 4,
            "_view_module": "@jupyter-widgets/controls",
            "_model_module_version": "1.5.0",
            "value": 4,
            "_view_count": null,
            "_view_module_version": "1.5.0",
            "orientation": "horizontal",
            "min": 0,
            "description_tooltip": null,
            "_model_module": "@jupyter-widgets/controls",
            "layout": "IPY_MODEL_6b6b101a75044d4aa2dab64c9696991c"
          }
        },
        "3114143ce6d44ad39a20c67d4f736890": {
          "model_module": "@jupyter-widgets/controls",
          "model_name": "ProgressStyleModel",
          "model_module_version": "1.5.0",
          "state": {
            "_view_name": "StyleView",
            "_model_name": "ProgressStyleModel",
            "description_width": "",
            "_view_module": "@jupyter-widgets/base",
            "_model_module_version": "1.5.0",
            "_view_count": null,
            "_view_module_version": "1.2.0",
            "bar_color": null,
            "_model_module": "@jupyter-widgets/controls"
          }
        },
        "6b6b101a75044d4aa2dab64c9696991c": {
          "model_module": "@jupyter-widgets/base",
          "model_name": "LayoutModel",
          "model_module_version": "1.2.0",
          "state": {
            "_view_name": "LayoutView",
            "grid_template_rows": null,
            "right": null,
            "justify_content": null,
            "_view_module": "@jupyter-widgets/base",
            "overflow": null,
            "_model_module_version": "1.2.0",
            "_view_count": null,
            "flex_flow": null,
            "width": null,
            "min_width": null,
            "border": null,
            "align_items": null,
            "bottom": null,
            "_model_module": "@jupyter-widgets/base",
            "top": null,
            "grid_column": null,
            "overflow_y": null,
            "overflow_x": null,
            "grid_auto_flow": null,
            "grid_area": null,
            "grid_template_columns": null,
            "flex": null,
            "_model_name": "LayoutModel",
            "justify_items": null,
            "grid_row": null,
            "max_height": null,
            "align_content": null,
            "visibility": null,
            "align_self": null,
            "height": null,
            "min_height": null,
            "padding": null,
            "grid_auto_rows": null,
            "grid_gap": null,
            "max_width": null,
            "order": null,
            "_view_module_version": "1.2.0",
            "grid_template_areas": null,
            "object_position": null,
            "object_fit": null,
            "grid_auto_columns": null,
            "margin": null,
            "display": null,
            "left": null
          }
        },
        "96fb587284f649dca5f9257fcb3a8b4b": {
          "model_module": "@jupyter-widgets/controls",
          "model_name": "IntProgressModel",
          "model_module_version": "1.5.0",
          "state": {
            "_dom_classes": [],
            "_model_module": "@jupyter-widgets/controls",
            "_model_module_version": "1.5.0",
            "_model_name": "IntProgressModel",
            "_view_count": null,
            "_view_module": "@jupyter-widgets/controls",
            "_view_module_version": "1.5.0",
            "_view_name": "ProgressView",
            "bar_style": "",
            "description": "Processing: ",
            "description_tooltip": null,
            "layout": "IPY_MODEL_bafc551f5db64c1c8822a9b35bd12929",
            "max": 3,
            "min": 0,
            "orientation": "horizontal",
            "style": "IPY_MODEL_0e4778d9ce364445a3fbdc929a8961ca",
            "value": 3
          }
        },
        "bafc551f5db64c1c8822a9b35bd12929": {
          "model_module": "@jupyter-widgets/base",
          "model_name": "LayoutModel",
          "model_module_version": "1.2.0",
          "state": {
            "_model_module": "@jupyter-widgets/base",
            "_model_module_version": "1.2.0",
            "_model_name": "LayoutModel",
            "_view_count": null,
            "_view_module": "@jupyter-widgets/base",
            "_view_module_version": "1.2.0",
            "_view_name": "LayoutView",
            "align_content": null,
            "align_items": null,
            "align_self": null,
            "border": null,
            "bottom": null,
            "display": null,
            "flex": null,
            "flex_flow": null,
            "grid_area": null,
            "grid_auto_columns": null,
            "grid_auto_flow": null,
            "grid_auto_rows": null,
            "grid_column": null,
            "grid_gap": null,
            "grid_row": null,
            "grid_template_areas": null,
            "grid_template_columns": null,
            "grid_template_rows": null,
            "height": null,
            "justify_content": null,
            "justify_items": null,
            "left": null,
            "margin": null,
            "max_height": null,
            "max_width": null,
            "min_height": null,
            "min_width": null,
            "object_fit": null,
            "object_position": null,
            "order": null,
            "overflow": null,
            "overflow_x": null,
            "overflow_y": null,
            "padding": null,
            "right": null,
            "top": null,
            "visibility": null,
            "width": null
          }
        },
        "0e4778d9ce364445a3fbdc929a8961ca": {
          "model_module": "@jupyter-widgets/controls",
          "model_name": "ProgressStyleModel",
          "model_module_version": "1.5.0",
          "state": {
            "_model_module": "@jupyter-widgets/controls",
            "_model_module_version": "1.5.0",
            "_model_name": "ProgressStyleModel",
            "_view_count": null,
            "_view_module": "@jupyter-widgets/base",
            "_view_module_version": "1.2.0",
            "_view_name": "StyleView",
            "bar_color": null,
            "description_width": ""
          }
        },
        "42f1eb7665f34ae6af30f4228660fc84": {
          "model_module": "@jupyter-widgets/controls",
          "model_name": "TextModel",
          "model_module_version": "1.5.0",
          "state": {
            "_dom_classes": [],
            "_model_module": "@jupyter-widgets/controls",
            "_model_module_version": "1.5.0",
            "_model_name": "TextModel",
            "_view_count": null,
            "_view_module": "@jupyter-widgets/controls",
            "_view_module_version": "1.5.0",
            "_view_name": "TextView",
            "continuous_update": true,
            "description": "",
            "description_tooltip": null,
            "disabled": false,
            "layout": "IPY_MODEL_ed4cc456468748b0af3c4bc48faaee49",
            "placeholder": "​",
            "style": "IPY_MODEL_3040cba851ac4e6bbe7c05df40dc02b9",
            "value": "Following data types have been inferred automatically, if they are correct press enter to continue or type 'quit' otherwise."
          }
        },
        "ed4cc456468748b0af3c4bc48faaee49": {
          "model_module": "@jupyter-widgets/base",
          "model_name": "LayoutModel",
          "model_module_version": "1.2.0",
          "state": {
            "_model_module": "@jupyter-widgets/base",
            "_model_module_version": "1.2.0",
            "_model_name": "LayoutModel",
            "_view_count": null,
            "_view_module": "@jupyter-widgets/base",
            "_view_module_version": "1.2.0",
            "_view_name": "LayoutView",
            "align_content": null,
            "align_items": null,
            "align_self": null,
            "border": null,
            "bottom": null,
            "display": null,
            "flex": null,
            "flex_flow": null,
            "grid_area": null,
            "grid_auto_columns": null,
            "grid_auto_flow": null,
            "grid_auto_rows": null,
            "grid_column": null,
            "grid_gap": null,
            "grid_row": null,
            "grid_template_areas": null,
            "grid_template_columns": null,
            "grid_template_rows": null,
            "height": null,
            "justify_content": null,
            "justify_items": null,
            "left": null,
            "margin": null,
            "max_height": null,
            "max_width": null,
            "min_height": null,
            "min_width": null,
            "object_fit": null,
            "object_position": null,
            "order": null,
            "overflow": null,
            "overflow_x": null,
            "overflow_y": null,
            "padding": null,
            "right": null,
            "top": null,
            "visibility": null,
            "width": "100%"
          }
        },
        "3040cba851ac4e6bbe7c05df40dc02b9": {
          "model_module": "@jupyter-widgets/controls",
          "model_name": "DescriptionStyleModel",
          "model_module_version": "1.5.0",
          "state": {
            "_model_module": "@jupyter-widgets/controls",
            "_model_module_version": "1.5.0",
            "_model_name": "DescriptionStyleModel",
            "_view_count": null,
            "_view_module": "@jupyter-widgets/base",
            "_view_module_version": "1.2.0",
            "_view_name": "StyleView",
            "description_width": ""
          }
        },
        "4a5caa97bdcf499bb38e5d5a973183a2": {
          "model_module": "@jupyter-widgets/controls",
          "model_name": "IntProgressModel",
          "model_module_version": "1.5.0",
          "state": {
            "_view_name": "ProgressView",
            "style": "IPY_MODEL_90a4054564784702ab9b99923600ab29",
            "_dom_classes": [],
            "description": "Processing: ",
            "_model_name": "IntProgressModel",
            "bar_style": "",
            "max": 74,
            "_view_module": "@jupyter-widgets/controls",
            "_model_module_version": "1.5.0",
            "value": 74,
            "_view_count": null,
            "_view_module_version": "1.5.0",
            "orientation": "horizontal",
            "min": 0,
            "description_tooltip": null,
            "_model_module": "@jupyter-widgets/controls",
            "layout": "IPY_MODEL_2a6bfd407daf479a8b2a3612339eae8d"
          }
        },
        "90a4054564784702ab9b99923600ab29": {
          "model_module": "@jupyter-widgets/controls",
          "model_name": "ProgressStyleModel",
          "model_module_version": "1.5.0",
          "state": {
            "_view_name": "StyleView",
            "_model_name": "ProgressStyleModel",
            "description_width": "",
            "_view_module": "@jupyter-widgets/base",
            "_model_module_version": "1.5.0",
            "_view_count": null,
            "_view_module_version": "1.2.0",
            "bar_color": null,
            "_model_module": "@jupyter-widgets/controls"
          }
        },
        "2a6bfd407daf479a8b2a3612339eae8d": {
          "model_module": "@jupyter-widgets/base",
          "model_name": "LayoutModel",
          "model_module_version": "1.2.0",
          "state": {
            "_view_name": "LayoutView",
            "grid_template_rows": null,
            "right": null,
            "justify_content": null,
            "_view_module": "@jupyter-widgets/base",
            "overflow": null,
            "_model_module_version": "1.2.0",
            "_view_count": null,
            "flex_flow": null,
            "width": null,
            "min_width": null,
            "border": null,
            "align_items": null,
            "bottom": null,
            "_model_module": "@jupyter-widgets/base",
            "top": null,
            "grid_column": null,
            "overflow_y": null,
            "overflow_x": null,
            "grid_auto_flow": null,
            "grid_area": null,
            "grid_template_columns": null,
            "flex": null,
            "_model_name": "LayoutModel",
            "justify_items": null,
            "grid_row": null,
            "max_height": null,
            "align_content": null,
            "visibility": null,
            "align_self": null,
            "height": null,
            "min_height": null,
            "padding": null,
            "grid_auto_rows": null,
            "grid_gap": null,
            "max_width": null,
            "order": null,
            "_view_module_version": "1.2.0",
            "grid_template_areas": null,
            "object_position": null,
            "object_fit": null,
            "grid_auto_columns": null,
            "margin": null,
            "display": null,
            "left": null
          }
        },
        "3ff12fa4c492459091ad68f898247e14": {
          "model_module": "@jupyter-widgets/controls",
          "model_name": "IntProgressModel",
          "model_module_version": "1.5.0",
          "state": {
            "_view_name": "ProgressView",
            "style": "IPY_MODEL_3b4debf09e16431cb59ec8e065b74e3a",
            "_dom_classes": [],
            "description": "Processing: ",
            "_model_name": "IntProgressModel",
            "bar_style": "",
            "max": 7,
            "_view_module": "@jupyter-widgets/controls",
            "_model_module_version": "1.5.0",
            "value": 7,
            "_view_count": null,
            "_view_module_version": "1.5.0",
            "orientation": "horizontal",
            "min": 0,
            "description_tooltip": null,
            "_model_module": "@jupyter-widgets/controls",
            "layout": "IPY_MODEL_4de470744ccd4eb99ff83bb1de8c107e"
          }
        },
        "3b4debf09e16431cb59ec8e065b74e3a": {
          "model_module": "@jupyter-widgets/controls",
          "model_name": "ProgressStyleModel",
          "model_module_version": "1.5.0",
          "state": {
            "_view_name": "StyleView",
            "_model_name": "ProgressStyleModel",
            "description_width": "",
            "_view_module": "@jupyter-widgets/base",
            "_model_module_version": "1.5.0",
            "_view_count": null,
            "_view_module_version": "1.2.0",
            "bar_color": null,
            "_model_module": "@jupyter-widgets/controls"
          }
        },
        "4de470744ccd4eb99ff83bb1de8c107e": {
          "model_module": "@jupyter-widgets/base",
          "model_name": "LayoutModel",
          "model_module_version": "1.2.0",
          "state": {
            "_view_name": "LayoutView",
            "grid_template_rows": null,
            "right": null,
            "justify_content": null,
            "_view_module": "@jupyter-widgets/base",
            "overflow": null,
            "_model_module_version": "1.2.0",
            "_view_count": null,
            "flex_flow": null,
            "width": null,
            "min_width": null,
            "border": null,
            "align_items": null,
            "bottom": null,
            "_model_module": "@jupyter-widgets/base",
            "top": null,
            "grid_column": null,
            "overflow_y": null,
            "overflow_x": null,
            "grid_auto_flow": null,
            "grid_area": null,
            "grid_template_columns": null,
            "flex": null,
            "_model_name": "LayoutModel",
            "justify_items": null,
            "grid_row": null,
            "max_height": null,
            "align_content": null,
            "visibility": null,
            "align_self": null,
            "height": null,
            "min_height": null,
            "padding": null,
            "grid_auto_rows": null,
            "grid_gap": null,
            "max_width": null,
            "order": null,
            "_view_module_version": "1.2.0",
            "grid_template_areas": null,
            "object_position": null,
            "object_fit": null,
            "grid_auto_columns": null,
            "margin": null,
            "display": null,
            "left": null
          }
        },
        "763e4139ba7f47dda033a33f42fab355": {
          "model_module": "@jupyter-widgets/controls",
          "model_name": "IntProgressModel",
          "model_module_version": "1.5.0",
          "state": {
            "_view_name": "ProgressView",
            "style": "IPY_MODEL_1cdecdf320704b2c90803c9346eb6ec2",
            "_dom_classes": [],
            "description": "Processing: ",
            "_model_name": "IntProgressModel",
            "bar_style": "",
            "max": 7,
            "_view_module": "@jupyter-widgets/controls",
            "_model_module_version": "1.5.0",
            "value": 7,
            "_view_count": null,
            "_view_module_version": "1.5.0",
            "orientation": "horizontal",
            "min": 0,
            "description_tooltip": null,
            "_model_module": "@jupyter-widgets/controls",
            "layout": "IPY_MODEL_a13f8a248a1847bf9b7d461364afecd2"
          }
        },
        "1cdecdf320704b2c90803c9346eb6ec2": {
          "model_module": "@jupyter-widgets/controls",
          "model_name": "ProgressStyleModel",
          "model_module_version": "1.5.0",
          "state": {
            "_view_name": "StyleView",
            "_model_name": "ProgressStyleModel",
            "description_width": "",
            "_view_module": "@jupyter-widgets/base",
            "_model_module_version": "1.5.0",
            "_view_count": null,
            "_view_module_version": "1.2.0",
            "bar_color": null,
            "_model_module": "@jupyter-widgets/controls"
          }
        },
        "a13f8a248a1847bf9b7d461364afecd2": {
          "model_module": "@jupyter-widgets/base",
          "model_name": "LayoutModel",
          "model_module_version": "1.2.0",
          "state": {
            "_view_name": "LayoutView",
            "grid_template_rows": null,
            "right": null,
            "justify_content": null,
            "_view_module": "@jupyter-widgets/base",
            "overflow": null,
            "_model_module_version": "1.2.0",
            "_view_count": null,
            "flex_flow": null,
            "width": null,
            "min_width": null,
            "border": null,
            "align_items": null,
            "bottom": null,
            "_model_module": "@jupyter-widgets/base",
            "top": null,
            "grid_column": null,
            "overflow_y": null,
            "overflow_x": null,
            "grid_auto_flow": null,
            "grid_area": null,
            "grid_template_columns": null,
            "flex": null,
            "_model_name": "LayoutModel",
            "justify_items": null,
            "grid_row": null,
            "max_height": null,
            "align_content": null,
            "visibility": null,
            "align_self": null,
            "height": null,
            "min_height": null,
            "padding": null,
            "grid_auto_rows": null,
            "grid_gap": null,
            "max_width": null,
            "order": null,
            "_view_module_version": "1.2.0",
            "grid_template_areas": null,
            "object_position": null,
            "object_fit": null,
            "grid_auto_columns": null,
            "margin": null,
            "display": null,
            "left": null
          }
        }
      }
    }
  },
  "cells": [
    {
      "cell_type": "markdown",
      "metadata": {
        "id": "view-in-github",
        "colab_type": "text"
      },
      "source": [
        "<a href=\"https://colab.research.google.com/github/EnzoGolfetti/Projeto_concessao_credito_ML/blob/main/notebook_machine_learning_concessao_credito.ipynb\" target=\"_parent\"><img src=\"https://colab.research.google.com/assets/colab-badge.svg\" alt=\"Open In Colab\"/></a>"
      ]
    },
    {
      "cell_type": "markdown",
      "metadata": {
        "id": "BbmkSACAtK0L"
      },
      "source": [
        "#Desenvolvendo e selecionando o melhor modelo para o problema.\n",
        "\n",
        "---\n",
        "Este notebook é dedicado à seção de aplicação de Machine Learning para o projeto de Concessão de Crédito.\n",
        "\n",
        "Ele usa como input o dataset pré-processado salvo no notebook de análise e pré-processamento anterior.\n",
        "\n",
        "Logo temos nele: Features e um Target (coluna \"mau\")\n",
        "\n",
        "Primeiro vamos observar e tratar o desbalanceamento do Target e em seguida aplicar os modelos para treinamento e tomada de decisão.\n",
        "\n",
        "Volte ao notebook anterior [aqui](https://) inserir link\n"
      ]
    },
    {
      "cell_type": "code",
      "metadata": {
        "colab": {
          "base_uri": "https://localhost:8080/",
          "height": 1000
        },
        "id": "nOk3DQ_6vjwF",
        "outputId": "5666bd4a-affd-4e04-ea16-c24e5a31de25"
      },
      "source": [
        "!pip install pyforest\n",
        "!pip install pycaret\n",
        "!pip install scikit-learn==0.23.2 imbalanced-learn==0.7.0\n",
        "!pip install lazypredict\n",
        "!pip install mlxtend"
      ],
      "execution_count": null,
      "outputs": [
        {
          "output_type": "stream",
          "name": "stdout",
          "text": [
            "Requirement already satisfied: pyforest in /usr/local/lib/python3.7/dist-packages (1.1.0)\n",
            "Requirement already satisfied: pycaret in /usr/local/lib/python3.7/dist-packages (2.3.3)\n",
            "Requirement already satisfied: umap-learn in /usr/local/lib/python3.7/dist-packages (from pycaret) (0.5.1)\n",
            "Requirement already satisfied: kmodes>=0.10.1 in /usr/local/lib/python3.7/dist-packages (from pycaret) (0.11.0)\n",
            "Collecting scikit-learn==0.23.2\n",
            "  Using cached scikit_learn-0.23.2-cp37-cp37m-manylinux1_x86_64.whl (6.8 MB)\n",
            "Requirement already satisfied: pyLDAvis in /usr/local/lib/python3.7/dist-packages (from pycaret) (3.2.2)\n",
            "Requirement already satisfied: matplotlib in /usr/local/lib/python3.7/dist-packages (from pycaret) (3.2.2)\n",
            "Requirement already satisfied: joblib in /usr/local/lib/python3.7/dist-packages (from pycaret) (1.0.0)\n",
            "Requirement already satisfied: pyod in /usr/local/lib/python3.7/dist-packages (from pycaret) (0.9.3)\n",
            "Requirement already satisfied: mlflow in /usr/local/lib/python3.7/dist-packages (from pycaret) (1.20.2)\n",
            "Requirement already satisfied: spacy<2.4.0 in /usr/local/lib/python3.7/dist-packages (from pycaret) (2.2.4)\n",
            "Requirement already satisfied: yellowbrick>=1.0.1 in /usr/local/lib/python3.7/dist-packages (from pycaret) (1.3.post1)\n",
            "Requirement already satisfied: pandas-profiling>=2.8.0 in /usr/local/lib/python3.7/dist-packages (from pycaret) (3.0.0)\n",
            "Requirement already satisfied: scipy<=1.5.4 in /usr/local/lib/python3.7/dist-packages (from pycaret) (1.5.4)\n",
            "Requirement already satisfied: cufflinks>=0.17.0 in /usr/local/lib/python3.7/dist-packages (from pycaret) (0.17.3)\n",
            "Requirement already satisfied: textblob in /usr/local/lib/python3.7/dist-packages (from pycaret) (0.15.3)\n",
            "Requirement already satisfied: nltk in /usr/local/lib/python3.7/dist-packages (from pycaret) (3.2.5)\n",
            "Requirement already satisfied: IPython in /usr/local/lib/python3.7/dist-packages (from pycaret) (5.5.0)\n",
            "Requirement already satisfied: plotly>=4.4.1 in /usr/local/lib/python3.7/dist-packages (from pycaret) (4.4.1)\n",
            "Requirement already satisfied: imbalanced-learn==0.7.0 in /usr/local/lib/python3.7/dist-packages (from pycaret) (0.7.0)\n",
            "Requirement already satisfied: gensim<4.0.0 in /usr/local/lib/python3.7/dist-packages (from pycaret) (3.6.0)\n",
            "Requirement already satisfied: pandas in /usr/local/lib/python3.7/dist-packages (from pycaret) (1.0.5)\n",
            "Requirement already satisfied: lightgbm>=2.3.1 in /usr/local/lib/python3.7/dist-packages (from pycaret) (2.3.1)\n",
            "Requirement already satisfied: Boruta in /usr/local/lib/python3.7/dist-packages (from pycaret) (0.3)\n",
            "Requirement already satisfied: scikit-plot in /usr/local/lib/python3.7/dist-packages (from pycaret) (0.3.7)\n",
            "Requirement already satisfied: ipywidgets in /usr/local/lib/python3.7/dist-packages (from pycaret) (7.6.5)\n",
            "Collecting numpy==1.19.5\n",
            "  Downloading numpy-1.19.5-cp37-cp37m-manylinux2010_x86_64.whl (14.8 MB)\n",
            "\u001b[K     |████████████████████████████████| 14.8 MB 183 kB/s \n",
            "\u001b[?25hRequirement already satisfied: seaborn in /usr/local/lib/python3.7/dist-packages (from pycaret) (0.11.2)\n",
            "Requirement already satisfied: mlxtend>=0.17.0 in /usr/local/lib/python3.7/dist-packages (from pycaret) (0.19.0)\n",
            "Requirement already satisfied: wordcloud in /usr/local/lib/python3.7/dist-packages (from pycaret) (1.5.0)\n",
            "Requirement already satisfied: threadpoolctl>=2.0.0 in /usr/local/lib/python3.7/dist-packages (from scikit-learn==0.23.2->pycaret) (2.2.0)\n",
            "Requirement already satisfied: setuptools>=34.4.1 in /usr/local/lib/python3.7/dist-packages (from cufflinks>=0.17.0->pycaret) (57.4.0)\n",
            "Requirement already satisfied: six>=1.9.0 in /usr/local/lib/python3.7/dist-packages (from cufflinks>=0.17.0->pycaret) (1.15.0)\n",
            "Requirement already satisfied: colorlover>=0.2.1 in /usr/local/lib/python3.7/dist-packages (from cufflinks>=0.17.0->pycaret) (0.3.0)\n",
            "Requirement already satisfied: smart-open>=1.2.1 in /usr/local/lib/python3.7/dist-packages (from gensim<4.0.0->pycaret) (5.2.1)\n",
            "Requirement already satisfied: decorator in /usr/local/lib/python3.7/dist-packages (from IPython->pycaret) (4.4.2)\n",
            "Requirement already satisfied: pickleshare in /usr/local/lib/python3.7/dist-packages (from IPython->pycaret) (0.7.5)\n",
            "Requirement already satisfied: pexpect in /usr/local/lib/python3.7/dist-packages (from IPython->pycaret) (4.8.0)\n",
            "Requirement already satisfied: prompt-toolkit<2.0.0,>=1.0.4 in /usr/local/lib/python3.7/dist-packages (from IPython->pycaret) (1.0.18)\n",
            "Requirement already satisfied: traitlets>=4.2 in /usr/local/lib/python3.7/dist-packages (from IPython->pycaret) (5.1.0)\n",
            "Requirement already satisfied: pygments in /usr/local/lib/python3.7/dist-packages (from IPython->pycaret) (2.6.1)\n",
            "Requirement already satisfied: simplegeneric>0.8 in /usr/local/lib/python3.7/dist-packages (from IPython->pycaret) (0.8.1)\n",
            "Requirement already satisfied: ipython-genutils~=0.2.0 in /usr/local/lib/python3.7/dist-packages (from ipywidgets->pycaret) (0.2.0)\n",
            "Requirement already satisfied: jupyterlab-widgets>=1.0.0 in /usr/local/lib/python3.7/dist-packages (from ipywidgets->pycaret) (1.0.2)\n",
            "Requirement already satisfied: ipykernel>=4.5.1 in /usr/local/lib/python3.7/dist-packages (from ipywidgets->pycaret) (4.10.1)\n",
            "Requirement already satisfied: nbformat>=4.2.0 in /usr/local/lib/python3.7/dist-packages (from ipywidgets->pycaret) (5.1.3)\n",
            "Requirement already satisfied: widgetsnbextension~=3.5.0 in /usr/local/lib/python3.7/dist-packages (from ipywidgets->pycaret) (3.5.1)\n",
            "Requirement already satisfied: tornado>=4.0 in /usr/local/lib/python3.7/dist-packages (from ipykernel>=4.5.1->ipywidgets->pycaret) (5.1.1)\n",
            "Requirement already satisfied: jupyter-client in /usr/local/lib/python3.7/dist-packages (from ipykernel>=4.5.1->ipywidgets->pycaret) (5.3.5)\n",
            "Requirement already satisfied: kiwisolver>=1.0.1 in /usr/local/lib/python3.7/dist-packages (from matplotlib->pycaret) (1.3.2)\n",
            "Requirement already satisfied: cycler>=0.10 in /usr/local/lib/python3.7/dist-packages (from matplotlib->pycaret) (0.10.0)\n",
            "Requirement already satisfied: python-dateutil>=2.1 in /usr/local/lib/python3.7/dist-packages (from matplotlib->pycaret) (2.8.2)\n",
            "Requirement already satisfied: pyparsing!=2.0.4,!=2.1.2,!=2.1.6,>=2.0.1 in /usr/local/lib/python3.7/dist-packages (from matplotlib->pycaret) (2.4.7)\n",
            "Requirement already satisfied: jupyter-core in /usr/local/lib/python3.7/dist-packages (from nbformat>=4.2.0->ipywidgets->pycaret) (4.7.1)\n",
            "Requirement already satisfied: jsonschema!=2.5.0,>=2.4 in /usr/local/lib/python3.7/dist-packages (from nbformat>=4.2.0->ipywidgets->pycaret) (2.6.0)\n",
            "Requirement already satisfied: pytz>=2017.2 in /usr/local/lib/python3.7/dist-packages (from pandas->pycaret) (2018.9)\n",
            "Requirement already satisfied: missingno>=0.4.2 in /usr/local/lib/python3.7/dist-packages (from pandas-profiling>=2.8.0->pycaret) (0.5.0)\n",
            "Requirement already satisfied: tqdm>=4.48.2 in /usr/local/lib/python3.7/dist-packages (from pandas-profiling>=2.8.0->pycaret) (4.56.0)\n",
            "Requirement already satisfied: visions[type_image_path]==0.7.1 in /usr/local/lib/python3.7/dist-packages (from pandas-profiling>=2.8.0->pycaret) (0.7.1)\n",
            "Requirement already satisfied: phik>=0.11.1 in /usr/local/lib/python3.7/dist-packages (from pandas-profiling>=2.8.0->pycaret) (0.12.0)\n",
            "Requirement already satisfied: tangled-up-in-unicode==0.1.0 in /usr/local/lib/python3.7/dist-packages (from pandas-profiling>=2.8.0->pycaret) (0.1.0)\n",
            "Requirement already satisfied: jinja2>=2.11.1 in /usr/local/lib/python3.7/dist-packages (from pandas-profiling>=2.8.0->pycaret) (2.11.3)\n",
            "Requirement already satisfied: htmlmin>=0.1.12 in /usr/local/lib/python3.7/dist-packages (from pandas-profiling>=2.8.0->pycaret) (0.1.12)\n",
            "Requirement already satisfied: pydantic>=1.8.1 in /usr/local/lib/python3.7/dist-packages (from pandas-profiling>=2.8.0->pycaret) (1.8.2)\n",
            "Requirement already satisfied: PyYAML>=5.0.0 in /usr/local/lib/python3.7/dist-packages (from pandas-profiling>=2.8.0->pycaret) (5.3.1)\n",
            "Requirement already satisfied: requests>=2.24.0 in /usr/local/lib/python3.7/dist-packages (from pandas-profiling>=2.8.0->pycaret) (2.26.0)\n",
            "Requirement already satisfied: bottleneck in /usr/local/lib/python3.7/dist-packages (from visions[type_image_path]==0.7.1->pandas-profiling>=2.8.0->pycaret) (1.3.2)\n",
            "Requirement already satisfied: attrs>=19.3.0 in /usr/local/lib/python3.7/dist-packages (from visions[type_image_path]==0.7.1->pandas-profiling>=2.8.0->pycaret) (21.2.0)\n",
            "Requirement already satisfied: multimethod==1.4 in /usr/local/lib/python3.7/dist-packages (from visions[type_image_path]==0.7.1->pandas-profiling>=2.8.0->pycaret) (1.4)\n",
            "Requirement already satisfied: networkx>=2.4 in /usr/local/lib/python3.7/dist-packages (from visions[type_image_path]==0.7.1->pandas-profiling>=2.8.0->pycaret) (2.6.3)\n",
            "Requirement already satisfied: Pillow in /usr/local/lib/python3.7/dist-packages (from visions[type_image_path]==0.7.1->pandas-profiling>=2.8.0->pycaret) (7.1.2)\n",
            "Requirement already satisfied: imagehash in /usr/local/lib/python3.7/dist-packages (from visions[type_image_path]==0.7.1->pandas-profiling>=2.8.0->pycaret) (4.2.1)\n",
            "Requirement already satisfied: MarkupSafe>=0.23 in /usr/local/lib/python3.7/dist-packages (from jinja2>=2.11.1->pandas-profiling>=2.8.0->pycaret) (2.0.1)\n",
            "Requirement already satisfied: retrying>=1.3.3 in /usr/local/lib/python3.7/dist-packages (from plotly>=4.4.1->pycaret) (1.3.3)\n",
            "Requirement already satisfied: wcwidth in /usr/local/lib/python3.7/dist-packages (from prompt-toolkit<2.0.0,>=1.0.4->IPython->pycaret) (0.2.5)\n",
            "Requirement already satisfied: typing-extensions>=3.7.4.3 in /usr/local/lib/python3.7/dist-packages (from pydantic>=1.8.1->pandas-profiling>=2.8.0->pycaret) (3.7.4.3)\n",
            "Requirement already satisfied: urllib3<1.27,>=1.21.1 in /usr/local/lib/python3.7/dist-packages (from requests>=2.24.0->pandas-profiling>=2.8.0->pycaret) (1.24.3)\n",
            "Requirement already satisfied: charset-normalizer~=2.0.0 in /usr/local/lib/python3.7/dist-packages (from requests>=2.24.0->pandas-profiling>=2.8.0->pycaret) (2.0.5)\n",
            "Requirement already satisfied: certifi>=2017.4.17 in /usr/local/lib/python3.7/dist-packages (from requests>=2.24.0->pandas-profiling>=2.8.0->pycaret) (2021.5.30)\n",
            "Requirement already satisfied: idna<4,>=2.5 in /usr/local/lib/python3.7/dist-packages (from requests>=2.24.0->pandas-profiling>=2.8.0->pycaret) (2.10)\n",
            "Requirement already satisfied: murmurhash<1.1.0,>=0.28.0 in /usr/local/lib/python3.7/dist-packages (from spacy<2.4.0->pycaret) (1.0.5)\n",
            "Requirement already satisfied: blis<0.5.0,>=0.4.0 in /usr/local/lib/python3.7/dist-packages (from spacy<2.4.0->pycaret) (0.4.1)\n",
            "Requirement already satisfied: srsly<1.1.0,>=1.0.2 in /usr/local/lib/python3.7/dist-packages (from spacy<2.4.0->pycaret) (1.0.5)\n",
            "Requirement already satisfied: plac<1.2.0,>=0.9.6 in /usr/local/lib/python3.7/dist-packages (from spacy<2.4.0->pycaret) (1.1.3)\n",
            "Requirement already satisfied: catalogue<1.1.0,>=0.0.7 in /usr/local/lib/python3.7/dist-packages (from spacy<2.4.0->pycaret) (1.0.0)\n",
            "Requirement already satisfied: preshed<3.1.0,>=3.0.2 in /usr/local/lib/python3.7/dist-packages (from spacy<2.4.0->pycaret) (3.0.5)\n",
            "Requirement already satisfied: cymem<2.1.0,>=2.0.2 in /usr/local/lib/python3.7/dist-packages (from spacy<2.4.0->pycaret) (2.0.5)\n",
            "Requirement already satisfied: thinc==7.4.0 in /usr/local/lib/python3.7/dist-packages (from spacy<2.4.0->pycaret) (7.4.0)\n",
            "Requirement already satisfied: wasabi<1.1.0,>=0.4.0 in /usr/local/lib/python3.7/dist-packages (from spacy<2.4.0->pycaret) (0.8.2)\n",
            "Requirement already satisfied: importlib-metadata>=0.20 in /usr/local/lib/python3.7/dist-packages (from catalogue<1.1.0,>=0.0.7->spacy<2.4.0->pycaret) (4.8.1)\n",
            "Requirement already satisfied: zipp>=0.5 in /usr/local/lib/python3.7/dist-packages (from importlib-metadata>=0.20->catalogue<1.1.0,>=0.0.7->spacy<2.4.0->pycaret) (3.5.0)\n",
            "Requirement already satisfied: notebook>=4.4.1 in /usr/local/lib/python3.7/dist-packages (from widgetsnbextension~=3.5.0->ipywidgets->pycaret) (5.3.1)\n",
            "Requirement already satisfied: Send2Trash in /usr/local/lib/python3.7/dist-packages (from notebook>=4.4.1->widgetsnbextension~=3.5.0->ipywidgets->pycaret) (1.8.0)\n",
            "Requirement already satisfied: nbconvert in /usr/local/lib/python3.7/dist-packages (from notebook>=4.4.1->widgetsnbextension~=3.5.0->ipywidgets->pycaret) (5.6.1)\n",
            "Requirement already satisfied: terminado>=0.8.1 in /usr/local/lib/python3.7/dist-packages (from notebook>=4.4.1->widgetsnbextension~=3.5.0->ipywidgets->pycaret) (0.12.1)\n",
            "Requirement already satisfied: pyzmq>=13 in /usr/local/lib/python3.7/dist-packages (from jupyter-client->ipykernel>=4.5.1->ipywidgets->pycaret) (22.2.1)\n",
            "Requirement already satisfied: ptyprocess in /usr/local/lib/python3.7/dist-packages (from terminado>=0.8.1->notebook>=4.4.1->widgetsnbextension~=3.5.0->ipywidgets->pycaret) (0.7.0)\n",
            "Requirement already satisfied: PyWavelets in /usr/local/lib/python3.7/dist-packages (from imagehash->visions[type_image_path]==0.7.1->pandas-profiling>=2.8.0->pycaret) (1.1.1)\n",
            "Requirement already satisfied: packaging in /usr/local/lib/python3.7/dist-packages (from mlflow->pycaret) (21.0)\n",
            "Requirement already satisfied: click>=7.0 in /usr/local/lib/python3.7/dist-packages (from mlflow->pycaret) (7.1.2)\n",
            "Requirement already satisfied: querystring-parser in /usr/local/lib/python3.7/dist-packages (from mlflow->pycaret) (1.2.4)\n",
            "Requirement already satisfied: gitpython>=2.1.0 in /usr/local/lib/python3.7/dist-packages (from mlflow->pycaret) (3.1.24)\n",
            "Requirement already satisfied: alembic<=1.4.1 in /usr/local/lib/python3.7/dist-packages (from mlflow->pycaret) (1.4.1)\n",
            "Requirement already satisfied: protobuf>=3.7.0 in /usr/local/lib/python3.7/dist-packages (from mlflow->pycaret) (3.17.3)\n",
            "Requirement already satisfied: sqlalchemy in /usr/local/lib/python3.7/dist-packages (from mlflow->pycaret) (1.4.23)\n",
            "Requirement already satisfied: prometheus-flask-exporter in /usr/local/lib/python3.7/dist-packages (from mlflow->pycaret) (0.18.2)\n",
            "Requirement already satisfied: Flask in /usr/local/lib/python3.7/dist-packages (from mlflow->pycaret) (1.1.4)\n",
            "Requirement already satisfied: gunicorn in /usr/local/lib/python3.7/dist-packages (from mlflow->pycaret) (20.1.0)\n",
            "Requirement already satisfied: entrypoints in /usr/local/lib/python3.7/dist-packages (from mlflow->pycaret) (0.3)\n",
            "Requirement already satisfied: databricks-cli>=0.8.7 in /usr/local/lib/python3.7/dist-packages (from mlflow->pycaret) (0.15.0)\n",
            "Requirement already satisfied: cloudpickle in /usr/local/lib/python3.7/dist-packages (from mlflow->pycaret) (1.3.0)\n",
            "Requirement already satisfied: docker>=4.0.0 in /usr/local/lib/python3.7/dist-packages (from mlflow->pycaret) (5.0.2)\n",
            "Requirement already satisfied: sqlparse>=0.3.1 in /usr/local/lib/python3.7/dist-packages (from mlflow->pycaret) (0.4.2)\n",
            "Requirement already satisfied: python-editor>=0.3 in /usr/local/lib/python3.7/dist-packages (from alembic<=1.4.1->mlflow->pycaret) (1.0.4)\n",
            "Requirement already satisfied: Mako in /usr/local/lib/python3.7/dist-packages (from alembic<=1.4.1->mlflow->pycaret) (1.1.5)\n",
            "Requirement already satisfied: tabulate>=0.7.7 in /usr/local/lib/python3.7/dist-packages (from databricks-cli>=0.8.7->mlflow->pycaret) (0.8.9)\n",
            "Requirement already satisfied: websocket-client>=0.32.0 in /usr/local/lib/python3.7/dist-packages (from docker>=4.0.0->mlflow->pycaret) (1.2.1)\n",
            "Requirement already satisfied: gitdb<5,>=4.0.1 in /usr/local/lib/python3.7/dist-packages (from gitpython>=2.1.0->mlflow->pycaret) (4.0.7)\n",
            "Requirement already satisfied: smmap<5,>=3.0.1 in /usr/local/lib/python3.7/dist-packages (from gitdb<5,>=4.0.1->gitpython>=2.1.0->mlflow->pycaret) (4.0.0)\n",
            "Requirement already satisfied: greenlet!=0.4.17 in /usr/local/lib/python3.7/dist-packages (from sqlalchemy->mlflow->pycaret) (1.1.1)\n",
            "Requirement already satisfied: Werkzeug<2.0,>=0.15 in /usr/local/lib/python3.7/dist-packages (from Flask->mlflow->pycaret) (1.0.1)\n",
            "Requirement already satisfied: itsdangerous<2.0,>=0.24 in /usr/local/lib/python3.7/dist-packages (from Flask->mlflow->pycaret) (1.1.0)\n",
            "Requirement already satisfied: defusedxml in /usr/local/lib/python3.7/dist-packages (from nbconvert->notebook>=4.4.1->widgetsnbextension~=3.5.0->ipywidgets->pycaret) (0.7.1)\n",
            "Requirement already satisfied: pandocfilters>=1.4.1 in /usr/local/lib/python3.7/dist-packages (from nbconvert->notebook>=4.4.1->widgetsnbextension~=3.5.0->ipywidgets->pycaret) (1.5.0)\n",
            "Requirement already satisfied: testpath in /usr/local/lib/python3.7/dist-packages (from nbconvert->notebook>=4.4.1->widgetsnbextension~=3.5.0->ipywidgets->pycaret) (0.5.0)\n",
            "Requirement already satisfied: mistune<2,>=0.8.1 in /usr/local/lib/python3.7/dist-packages (from nbconvert->notebook>=4.4.1->widgetsnbextension~=3.5.0->ipywidgets->pycaret) (0.8.4)\n",
            "Requirement already satisfied: bleach in /usr/local/lib/python3.7/dist-packages (from nbconvert->notebook>=4.4.1->widgetsnbextension~=3.5.0->ipywidgets->pycaret) (4.1.0)\n",
            "Requirement already satisfied: webencodings in /usr/local/lib/python3.7/dist-packages (from bleach->nbconvert->notebook>=4.4.1->widgetsnbextension~=3.5.0->ipywidgets->pycaret) (0.5.1)\n",
            "Requirement already satisfied: prometheus-client in /usr/local/lib/python3.7/dist-packages (from prometheus-flask-exporter->mlflow->pycaret) (0.11.0)\n",
            "Requirement already satisfied: numexpr in /usr/local/lib/python3.7/dist-packages (from pyLDAvis->pycaret) (2.7.3)\n",
            "Requirement already satisfied: wheel>=0.23.0 in /usr/local/lib/python3.7/dist-packages (from pyLDAvis->pycaret) (0.37.0)\n",
            "Requirement already satisfied: future in /usr/local/lib/python3.7/dist-packages (from pyLDAvis->pycaret) (0.16.0)\n",
            "Requirement already satisfied: funcy in /usr/local/lib/python3.7/dist-packages (from pyLDAvis->pycaret) (1.16)\n",
            "Requirement already satisfied: statsmodels in /usr/local/lib/python3.7/dist-packages (from pyod->pycaret) (0.10.2)\n",
            "Requirement already satisfied: numba>=0.35 in /usr/local/lib/python3.7/dist-packages (from pyod->pycaret) (0.51.2)\n",
            "Requirement already satisfied: llvmlite<0.35,>=0.34.0.dev0 in /usr/local/lib/python3.7/dist-packages (from numba>=0.35->pyod->pycaret) (0.34.0)\n",
            "Requirement already satisfied: patsy>=0.4.0 in /usr/local/lib/python3.7/dist-packages (from statsmodels->pyod->pycaret) (0.5.1)\n",
            "Requirement already satisfied: pynndescent>=0.5 in /usr/local/lib/python3.7/dist-packages (from umap-learn->pycaret) (0.5.4)\n",
            "Installing collected packages: numpy, scikit-learn\n",
            "  Attempting uninstall: numpy\n",
            "    Found existing installation: numpy 1.19.1\n",
            "    Uninstalling numpy-1.19.1:\n",
            "      Successfully uninstalled numpy-1.19.1\n",
            "  Attempting uninstall: scikit-learn\n",
            "    Found existing installation: scikit-learn 0.23.1\n",
            "    Uninstalling scikit-learn-0.23.1:\n",
            "      Successfully uninstalled scikit-learn-0.23.1\n",
            "\u001b[31mERROR: pip's dependency resolver does not currently take into account all the packages that are installed. This behaviour is the source of the following dependency conflicts.\n",
            "lazypredict 0.2.9 requires numpy==1.19.1, but you have numpy 1.19.5 which is incompatible.\n",
            "lazypredict 0.2.9 requires scikit-learn==0.23.1, but you have scikit-learn 0.23.2 which is incompatible.\n",
            "google-colab 1.0.0 requires pandas~=1.1.0; python_version >= \"3.0\", but you have pandas 1.0.5 which is incompatible.\n",
            "google-colab 1.0.0 requires requests~=2.23.0, but you have requests 2.26.0 which is incompatible.\n",
            "datascience 0.10.6 requires folium==0.2.1, but you have folium 0.8.3 which is incompatible.\n",
            "albumentations 0.1.12 requires imgaug<0.2.7,>=0.2.5, but you have imgaug 0.2.9 which is incompatible.\u001b[0m\n",
            "Successfully installed numpy-1.19.5 scikit-learn-0.23.2\n"
          ]
        },
        {
          "output_type": "display_data",
          "data": {
            "application/vnd.colab-display-data+json": {
              "pip_warning": {
                "packages": [
                  "numpy"
                ]
              }
            }
          },
          "metadata": {}
        },
        {
          "output_type": "stream",
          "name": "stdout",
          "text": [
            "Requirement already satisfied: scikit-learn==0.23.2 in /usr/local/lib/python3.7/dist-packages (0.23.2)\n",
            "Requirement already satisfied: imbalanced-learn==0.7.0 in /usr/local/lib/python3.7/dist-packages (0.7.0)\n",
            "Requirement already satisfied: threadpoolctl>=2.0.0 in /usr/local/lib/python3.7/dist-packages (from scikit-learn==0.23.2) (2.2.0)\n",
            "Requirement already satisfied: numpy>=1.13.3 in /usr/local/lib/python3.7/dist-packages (from scikit-learn==0.23.2) (1.19.5)\n",
            "Requirement already satisfied: joblib>=0.11 in /usr/local/lib/python3.7/dist-packages (from scikit-learn==0.23.2) (1.0.0)\n",
            "Requirement already satisfied: scipy>=0.19.1 in /usr/local/lib/python3.7/dist-packages (from scikit-learn==0.23.2) (1.5.4)\n",
            "Requirement already satisfied: lazypredict in /usr/local/lib/python3.7/dist-packages (0.2.9)\n",
            "Collecting scikit-learn==0.23.1\n",
            "  Using cached scikit_learn-0.23.1-cp37-cp37m-manylinux1_x86_64.whl (6.8 MB)\n",
            "Requirement already satisfied: joblib==1.0.0 in /usr/local/lib/python3.7/dist-packages (from lazypredict) (1.0.0)\n",
            "Requirement already satisfied: six==1.15.0 in /usr/local/lib/python3.7/dist-packages (from lazypredict) (1.15.0)\n",
            "Requirement already satisfied: PyYAML==5.3.1 in /usr/local/lib/python3.7/dist-packages (from lazypredict) (5.3.1)\n",
            "Requirement already satisfied: pandas==1.0.5 in /usr/local/lib/python3.7/dist-packages (from lazypredict) (1.0.5)\n",
            "Requirement already satisfied: tqdm==4.56.0 in /usr/local/lib/python3.7/dist-packages (from lazypredict) (4.56.0)\n",
            "Requirement already satisfied: pytest==5.4.3 in /usr/local/lib/python3.7/dist-packages (from lazypredict) (5.4.3)\n",
            "Requirement already satisfied: scipy==1.5.4 in /usr/local/lib/python3.7/dist-packages (from lazypredict) (1.5.4)\n",
            "Requirement already satisfied: xgboost==1.1.1 in /usr/local/lib/python3.7/dist-packages (from lazypredict) (1.1.1)\n",
            "Requirement already satisfied: lightgbm==2.3.1 in /usr/local/lib/python3.7/dist-packages (from lazypredict) (2.3.1)\n",
            "Collecting numpy==1.19.1\n",
            "  Using cached numpy-1.19.1-cp37-cp37m-manylinux2010_x86_64.whl (14.5 MB)\n",
            "Requirement already satisfied: click==7.1.2 in /usr/local/lib/python3.7/dist-packages (from lazypredict) (7.1.2)\n",
            "Requirement already satisfied: pytz>=2017.2 in /usr/local/lib/python3.7/dist-packages (from pandas==1.0.5->lazypredict) (2018.9)\n",
            "Requirement already satisfied: python-dateutil>=2.6.1 in /usr/local/lib/python3.7/dist-packages (from pandas==1.0.5->lazypredict) (2.8.2)\n",
            "Requirement already satisfied: wcwidth in /usr/local/lib/python3.7/dist-packages (from pytest==5.4.3->lazypredict) (0.2.5)\n",
            "Requirement already satisfied: importlib-metadata>=0.12 in /usr/local/lib/python3.7/dist-packages (from pytest==5.4.3->lazypredict) (4.8.1)\n",
            "Requirement already satisfied: more-itertools>=4.0.0 in /usr/local/lib/python3.7/dist-packages (from pytest==5.4.3->lazypredict) (8.9.0)\n",
            "Requirement already satisfied: packaging in /usr/local/lib/python3.7/dist-packages (from pytest==5.4.3->lazypredict) (21.0)\n",
            "Requirement already satisfied: attrs>=17.4.0 in /usr/local/lib/python3.7/dist-packages (from pytest==5.4.3->lazypredict) (21.2.0)\n",
            "Requirement already satisfied: py>=1.5.0 in /usr/local/lib/python3.7/dist-packages (from pytest==5.4.3->lazypredict) (1.10.0)\n",
            "Requirement already satisfied: pluggy<1.0,>=0.12 in /usr/local/lib/python3.7/dist-packages (from pytest==5.4.3->lazypredict) (0.13.1)\n",
            "Requirement already satisfied: threadpoolctl>=2.0.0 in /usr/local/lib/python3.7/dist-packages (from scikit-learn==0.23.1->lazypredict) (2.2.0)\n",
            "Requirement already satisfied: zipp>=0.5 in /usr/local/lib/python3.7/dist-packages (from importlib-metadata>=0.12->pytest==5.4.3->lazypredict) (3.5.0)\n",
            "Requirement already satisfied: typing-extensions>=3.6.4 in /usr/local/lib/python3.7/dist-packages (from importlib-metadata>=0.12->pytest==5.4.3->lazypredict) (3.7.4.3)\n",
            "Requirement already satisfied: pyparsing>=2.0.2 in /usr/local/lib/python3.7/dist-packages (from packaging->pytest==5.4.3->lazypredict) (2.4.7)\n",
            "Installing collected packages: numpy, scikit-learn\n",
            "  Attempting uninstall: numpy\n",
            "    Found existing installation: numpy 1.19.5\n",
            "    Uninstalling numpy-1.19.5:\n",
            "      Successfully uninstalled numpy-1.19.5\n",
            "  Attempting uninstall: scikit-learn\n",
            "    Found existing installation: scikit-learn 0.23.2\n",
            "    Uninstalling scikit-learn-0.23.2:\n",
            "      Successfully uninstalled scikit-learn-0.23.2\n",
            "\u001b[31mERROR: pip's dependency resolver does not currently take into account all the packages that are installed. This behaviour is the source of the following dependency conflicts.\n",
            "tensorflow 2.6.0 requires numpy~=1.19.2, but you have numpy 1.19.1 which is incompatible.\n",
            "pycaret 2.3.3 requires numpy==1.19.5, but you have numpy 1.19.1 which is incompatible.\n",
            "pycaret 2.3.3 requires scikit-learn==0.23.2, but you have scikit-learn 0.23.1 which is incompatible.\n",
            "google-colab 1.0.0 requires pandas~=1.1.0; python_version >= \"3.0\", but you have pandas 1.0.5 which is incompatible.\n",
            "google-colab 1.0.0 requires requests~=2.23.0, but you have requests 2.26.0 which is incompatible.\n",
            "datascience 0.10.6 requires folium==0.2.1, but you have folium 0.8.3 which is incompatible.\n",
            "albumentations 0.1.12 requires imgaug<0.2.7,>=0.2.5, but you have imgaug 0.2.9 which is incompatible.\u001b[0m\n",
            "Successfully installed numpy-1.19.1 scikit-learn-0.23.1\n"
          ]
        },
        {
          "output_type": "display_data",
          "data": {
            "application/vnd.colab-display-data+json": {
              "pip_warning": {
                "packages": [
                  "numpy"
                ]
              }
            }
          },
          "metadata": {}
        }
      ]
    },
    {
      "cell_type": "code",
      "metadata": {
        "colab": {
          "base_uri": "https://localhost:8080/"
        },
        "id": "VFESq6Glv0Hk",
        "outputId": "736cabb1-d4f1-4bfd-c0ef-f2d375a83220"
      },
      "source": [
        "import pyforest #importação de mais de 40 bibliotecas populares para Data Science de forma automática\n",
        "#Importando métodos do sklearn não inclusos no pyforest\n",
        "from sklearn.dummy import DummyClassifier\n",
        "from sklearn.metrics import roc_auc_score, classification_report, plot_confusion_matrix, recall_score\n",
        "from sklearn.model_selection import train_test_split\n",
        "from sklearn.model_selection import RepeatedStratifiedKFold, cross_validate\n",
        "from sklearn.base import BaseEstimator, TransformerMixin\n",
        "from sklearn.pipeline import Pipeline\n",
        "from sklearn.tree import DecisionTreeClassifier\n",
        "from sklearn.tree import ExtraTreeClassifier\n",
        "import xgboost as xgb\n",
        "import six\n",
        "import sys\n",
        "sys.modules[\"sklearn.externals.six\"] = six\n",
        "from mlxtend.classifier import StackingCVClassifier\n",
        "#Importando os métodos de balanceamento\n",
        "from imblearn.over_sampling import RandomOverSampler\n",
        "from imblearn.over_sampling import SMOTE\n",
        "from imblearn.under_sampling import RandomUnderSampler\n",
        "from imblearn.under_sampling import RepeatedEditedNearestNeighbours\n",
        "from imblearn.combine import SMOTETomek\n",
        "from imblearn.ensemble import BalancedRandomForestClassifier\n",
        "from imblearn.pipeline import Pipeline\n",
        "#Importando bibliotecas de busca por ML models\n",
        "from lazypredict.Supervised import LazyClassifier\n",
        "from pycaret.classification import *\n",
        "#Importando biblioteca para exportação do model\n",
        "from joblib import * \n",
        "lazy_imports()"
      ],
      "execution_count": null,
      "outputs": [
        {
          "output_type": "stream",
          "name": "stderr",
          "text": [
            "/usr/local/lib/python3.7/dist-packages/sklearn/utils/deprecation.py:143: FutureWarning:\n",
            "\n",
            "The sklearn.utils.testing module is  deprecated in version 0.22 and will be removed in version 0.24. The corresponding classes / functions should instead be imported from sklearn.utils. Anything that cannot be imported from sklearn.utils is now part of the private API.\n",
            "\n"
          ]
        },
        {
          "output_type": "execute_result",
          "data": {
            "text/plain": [
              "['import plotly.express as px',\n",
              " 'import statistics',\n",
              " 'from xlrd import open_workbook',\n",
              " 'from sklearn.model_selection import cross_val_score',\n",
              " 'from sklearn.model_selection import GridSearchCV',\n",
              " 'import matplotlib.pyplot as plt',\n",
              " 'from sklearn.decomposition import PCA',\n",
              " 'import datetime as dt',\n",
              " 'from sklearn.linear_model import Lasso',\n",
              " 'from sklearn.preprocessing import MinMaxScaler',\n",
              " 'from sklearn.model_selection import RandomizedSearchCV',\n",
              " 'import os',\n",
              " 'from sklearn.model_selection import KFold',\n",
              " 'import spacy',\n",
              " 'from sklearn import metrics',\n",
              " 'from sklearn.linear_model import LinearRegression',\n",
              " 'import glob',\n",
              " 'import altair as alt',\n",
              " 'from PIL import Image',\n",
              " 'from sklearn.linear_model import RidgeCV',\n",
              " 'import statsmodels.api as sm',\n",
              " 'from sklearn.impute import SimpleImputer',\n",
              " 'import bokeh',\n",
              " 'import re',\n",
              " 'import pandas as pd',\n",
              " 'import torch',\n",
              " 'from sklearn.linear_model import LassoCV',\n",
              " 'import numpy as np',\n",
              " 'from sklearn.linear_model import LogisticRegression',\n",
              " 'from sklearn.preprocessing import LabelEncoder',\n",
              " 'from sklearn.ensemble import GradientBoostingClassifier',\n",
              " 'from scipy import signal as sg',\n",
              " 'from sklearn.cluster import KMeans',\n",
              " 'import lightgbm as lgb',\n",
              " 'from sklearn.preprocessing import PolynomialFeatures',\n",
              " 'import sys',\n",
              " 'import plotly.graph_objs as go',\n",
              " 'from pyspark import SparkContext',\n",
              " 'from scipy import stats',\n",
              " 'import pickle',\n",
              " 'from sklearn import svm',\n",
              " 'from sklearn.feature_extraction.text import CountVectorizer',\n",
              " 'import sklearn',\n",
              " 'import nltk',\n",
              " 'import xgboost as xgb',\n",
              " 'from sklearn.linear_model import ElasticNetCV',\n",
              " 'import matplotlib as mpl',\n",
              " 'import cv2',\n",
              " 'import plotly as py',\n",
              " 'import pydot',\n",
              " 'from dask import dataframe as dd',\n",
              " 'from sklearn.preprocessing import OneHotEncoder',\n",
              " 'from sklearn.ensemble import GradientBoostingRegressor',\n",
              " 'import textblob',\n",
              " 'from sklearn.model_selection import StratifiedKFold',\n",
              " 'from openpyxl import load_workbook',\n",
              " 'from sklearn.linear_model import ElasticNet',\n",
              " 'from statsmodels.tsa.arima_model import ARIMA',\n",
              " 'from sklearn.manifold import TSNE',\n",
              " 'from pathlib import Path',\n",
              " 'import dash',\n",
              " 'from fbprophet import Prophet',\n",
              " 'import tensorflow as tf',\n",
              " 'import tqdm',\n",
              " 'from sklearn.model_selection import train_test_split',\n",
              " 'from sklearn.preprocessing import RobustScaler',\n",
              " 'from sklearn.preprocessing import StandardScaler',\n",
              " 'import seaborn as sns',\n",
              " 'from sklearn.ensemble import RandomForestRegressor',\n",
              " 'from sklearn.ensemble import RandomForestClassifier',\n",
              " 'import awswrangler as wr',\n",
              " 'import keras',\n",
              " 'from sklearn.feature_extraction.text import TfidfVectorizer',\n",
              " 'import gensim',\n",
              " 'import skimage',\n",
              " 'from sklearn.linear_model import Ridge']"
            ]
          },
          "metadata": {},
          "execution_count": 2
        }
      ]
    },
    {
      "cell_type": "code",
      "metadata": {
        "colab": {
          "base_uri": "https://localhost:8080/",
          "height": 275
        },
        "id": "vJKTMK_wvaOO",
        "outputId": "7795e395-0229-4ad2-a93c-50bcc569329e"
      },
      "source": [
        "#Lendo dataframe output preparado e clean do notebook de EDA e pre-processing\n",
        "df_registro_clientes_targets = pd.read_csv('https://raw.githubusercontent.com/EnzoGolfetti/Projeto_concessao_credito_ML/main/df_registro_clientes_targets.csv',\n",
        "                                           sep=',', encoding='utf-8', index_col='Unnamed: 0')\n",
        "df_registro_clientes_targets.head()"
      ],
      "execution_count": null,
      "outputs": [
        {
          "output_type": "execute_result",
          "data": {
            "text/html": [
              "<div>\n",
              "<style scoped>\n",
              "    .dataframe tbody tr th:only-of-type {\n",
              "        vertical-align: middle;\n",
              "    }\n",
              "\n",
              "    .dataframe tbody tr th {\n",
              "        vertical-align: top;\n",
              "    }\n",
              "\n",
              "    .dataframe thead th {\n",
              "        text-align: right;\n",
              "    }\n",
              "</style>\n",
              "<table border=\"1\" class=\"dataframe\">\n",
              "  <thead>\n",
              "    <tr style=\"text-align: right;\">\n",
              "      <th></th>\n",
              "      <th>id_cliente</th>\n",
              "      <th>qtd_filhos</th>\n",
              "      <th>rendimento_anual</th>\n",
              "      <th>idade</th>\n",
              "      <th>tamanho_familia</th>\n",
              "      <th>anos_empregado</th>\n",
              "      <th>tem_carro</th>\n",
              "      <th>tem_casa_propria</th>\n",
              "      <th>tem_telefone_trabalho</th>\n",
              "      <th>tem_telefone_fixo</th>\n",
              "      <th>tem_email</th>\n",
              "      <th>categoria_de_renda</th>\n",
              "      <th>estado_civil</th>\n",
              "      <th>moradia</th>\n",
              "      <th>ocupacao</th>\n",
              "      <th>grau_escolaridade</th>\n",
              "      <th>mau</th>\n",
              "    </tr>\n",
              "  </thead>\n",
              "  <tbody>\n",
              "    <tr>\n",
              "      <th>0</th>\n",
              "      <td>5008804</td>\n",
              "      <td>0</td>\n",
              "      <td>161100.0</td>\n",
              "      <td>33</td>\n",
              "      <td>2</td>\n",
              "      <td>12.4</td>\n",
              "      <td>1</td>\n",
              "      <td>1</td>\n",
              "      <td>1</td>\n",
              "      <td>0</td>\n",
              "      <td>0</td>\n",
              "      <td>Empregado</td>\n",
              "      <td>Uniao estavel</td>\n",
              "      <td>Alugado</td>\n",
              "      <td>Outros</td>\n",
              "      <td>Ensino superior</td>\n",
              "      <td>0</td>\n",
              "    </tr>\n",
              "    <tr>\n",
              "      <th>1</th>\n",
              "      <td>5008805</td>\n",
              "      <td>0</td>\n",
              "      <td>161100.0</td>\n",
              "      <td>33</td>\n",
              "      <td>2</td>\n",
              "      <td>12.4</td>\n",
              "      <td>1</td>\n",
              "      <td>1</td>\n",
              "      <td>1</td>\n",
              "      <td>0</td>\n",
              "      <td>0</td>\n",
              "      <td>Empregado</td>\n",
              "      <td>Uniao estavel</td>\n",
              "      <td>Alugado</td>\n",
              "      <td>Outros</td>\n",
              "      <td>Ensino superior</td>\n",
              "      <td>0</td>\n",
              "    </tr>\n",
              "    <tr>\n",
              "      <th>2</th>\n",
              "      <td>5008806</td>\n",
              "      <td>0</td>\n",
              "      <td>112500.0</td>\n",
              "      <td>59</td>\n",
              "      <td>2</td>\n",
              "      <td>3.1</td>\n",
              "      <td>1</td>\n",
              "      <td>1</td>\n",
              "      <td>0</td>\n",
              "      <td>0</td>\n",
              "      <td>0</td>\n",
              "      <td>Empregado</td>\n",
              "      <td>Casado</td>\n",
              "      <td>Casa propria</td>\n",
              "      <td>Seguranca</td>\n",
              "      <td>Ensino medio</td>\n",
              "      <td>0</td>\n",
              "    </tr>\n",
              "    <tr>\n",
              "      <th>3</th>\n",
              "      <td>5008810</td>\n",
              "      <td>0</td>\n",
              "      <td>270000.0</td>\n",
              "      <td>52</td>\n",
              "      <td>1</td>\n",
              "      <td>8.4</td>\n",
              "      <td>0</td>\n",
              "      <td>1</td>\n",
              "      <td>0</td>\n",
              "      <td>1</td>\n",
              "      <td>1</td>\n",
              "      <td>Associado comercial</td>\n",
              "      <td>Solteiro</td>\n",
              "      <td>Casa propria</td>\n",
              "      <td>Venda</td>\n",
              "      <td>Ensino medio</td>\n",
              "      <td>0</td>\n",
              "    </tr>\n",
              "    <tr>\n",
              "      <th>4</th>\n",
              "      <td>5008811</td>\n",
              "      <td>0</td>\n",
              "      <td>270000.0</td>\n",
              "      <td>52</td>\n",
              "      <td>1</td>\n",
              "      <td>8.4</td>\n",
              "      <td>0</td>\n",
              "      <td>1</td>\n",
              "      <td>0</td>\n",
              "      <td>1</td>\n",
              "      <td>1</td>\n",
              "      <td>Associado comercial</td>\n",
              "      <td>Solteiro</td>\n",
              "      <td>Casa propria</td>\n",
              "      <td>Venda</td>\n",
              "      <td>Ensino medio</td>\n",
              "      <td>0</td>\n",
              "    </tr>\n",
              "  </tbody>\n",
              "</table>\n",
              "</div>"
            ],
            "text/plain": [
              "   id_cliente  qtd_filhos  rendimento_anual  ...   ocupacao  grau_escolaridade  mau\n",
              "0     5008804           0          161100.0  ...     Outros    Ensino superior    0\n",
              "1     5008805           0          161100.0  ...     Outros    Ensino superior    0\n",
              "2     5008806           0          112500.0  ...  Seguranca       Ensino medio    0\n",
              "3     5008810           0          270000.0  ...      Venda       Ensino medio    0\n",
              "4     5008811           0          270000.0  ...      Venda       Ensino medio    0\n",
              "\n",
              "[5 rows x 17 columns]"
            ]
          },
          "metadata": {},
          "execution_count": 3
        }
      ]
    },
    {
      "cell_type": "code",
      "metadata": {
        "id": "m2Cq5poew0Al"
      },
      "source": [
        "#Criando as listas com nomes das colunas por tipo de variável\n",
        "categorical_columns = ['categoria_de_renda', 'estado_civil', 'moradia', 'ocupacao','grau_escolaridade']\n",
        "cat_binary_columns = ['tem_carro', 'tem_casa_propria', 'tem_telefone_trabalho', 'tem_telefone_fixo', 'tem_email']\n",
        "quant_columns = ['qtd_filhos', 'rendimento_anual', 'idade', 'tamanho_familia', 'anos_empregado']\n",
        "cat_columns = categorical_columns + cat_binary_columns"
      ],
      "execution_count": null,
      "outputs": []
    },
    {
      "cell_type": "code",
      "metadata": {
        "colab": {
          "base_uri": "https://localhost:8080/",
          "height": 17
        },
        "id": "PiSKHUjelmsU",
        "outputId": "53692d00-bab0-42f8-800d-0cc714c10688"
      },
      "source": [
        "enc = OneHotEncoder()\n",
        "scaler = MinMaxScaler()"
      ],
      "execution_count": null,
      "outputs": [
        {
          "output_type": "display_data",
          "data": {
            "application/javascript": [
              "\n",
              "        if (window._pyforest_update_imports_cell) { window._pyforest_update_imports_cell('import fbprophet\\nimport imutils\\nimport fastai\\nfrom sklearn.preprocessing import OneHotEncoder'); }\n",
              "    "
            ],
            "text/plain": [
              "<IPython.core.display.Javascript object>"
            ]
          },
          "metadata": {}
        },
        {
          "output_type": "display_data",
          "data": {
            "application/javascript": [
              "\n",
              "        if (window._pyforest_update_imports_cell) { window._pyforest_update_imports_cell('import imutils\\nfrom sklearn.preprocessing import MinMaxScaler\\nimport fbprophet\\nfrom sklearn.preprocessing import OneHotEncoder\\nimport fastai'); }\n",
              "    "
            ],
            "text/plain": [
              "<IPython.core.display.Javascript object>"
            ]
          },
          "metadata": {}
        }
      ]
    },
    {
      "cell_type": "code",
      "metadata": {
        "id": "VKgIsWKItRFn"
      },
      "source": [
        "enc_columns = enc.fit_transform(df_registro_clientes_targets[categorical_columns]).toarray() #Uso do OneHotEncoder nas colunas categoricas\n",
        "enc_columns = pd.DataFrame(enc_columns, index=df_registro_clientes_targets.index) #Transforma para DataFrame para poder concatenar no Original"
      ],
      "execution_count": null,
      "outputs": []
    },
    {
      "cell_type": "code",
      "metadata": {
        "colab": {
          "base_uri": "https://localhost:8080/",
          "height": 575
        },
        "id": "IeohGqD0tTP1",
        "outputId": "6591ea91-e1a1-4a3a-8850-9a31aef61cae"
      },
      "source": [
        "df_teste = pd.concat([df_registro_clientes_targets, enc_columns], axis=1)\n",
        "df_teste"
      ],
      "execution_count": null,
      "outputs": [
        {
          "output_type": "execute_result",
          "data": {
            "text/html": [
              "<div>\n",
              "<style scoped>\n",
              "    .dataframe tbody tr th:only-of-type {\n",
              "        vertical-align: middle;\n",
              "    }\n",
              "\n",
              "    .dataframe tbody tr th {\n",
              "        vertical-align: top;\n",
              "    }\n",
              "\n",
              "    .dataframe thead th {\n",
              "        text-align: right;\n",
              "    }\n",
              "</style>\n",
              "<table border=\"1\" class=\"dataframe\">\n",
              "  <thead>\n",
              "    <tr style=\"text-align: right;\">\n",
              "      <th></th>\n",
              "      <th>id_cliente</th>\n",
              "      <th>qtd_filhos</th>\n",
              "      <th>rendimento_anual</th>\n",
              "      <th>idade</th>\n",
              "      <th>tamanho_familia</th>\n",
              "      <th>anos_empregado</th>\n",
              "      <th>tem_carro</th>\n",
              "      <th>tem_casa_propria</th>\n",
              "      <th>tem_telefone_trabalho</th>\n",
              "      <th>tem_telefone_fixo</th>\n",
              "      <th>tem_email</th>\n",
              "      <th>categoria_de_renda</th>\n",
              "      <th>estado_civil</th>\n",
              "      <th>moradia</th>\n",
              "      <th>ocupacao</th>\n",
              "      <th>grau_escolaridade</th>\n",
              "      <th>mau</th>\n",
              "      <th>0</th>\n",
              "      <th>1</th>\n",
              "      <th>2</th>\n",
              "      <th>3</th>\n",
              "      <th>4</th>\n",
              "      <th>5</th>\n",
              "      <th>6</th>\n",
              "      <th>7</th>\n",
              "      <th>8</th>\n",
              "      <th>9</th>\n",
              "      <th>10</th>\n",
              "      <th>11</th>\n",
              "      <th>12</th>\n",
              "      <th>13</th>\n",
              "      <th>14</th>\n",
              "      <th>15</th>\n",
              "      <th>16</th>\n",
              "      <th>17</th>\n",
              "      <th>18</th>\n",
              "      <th>19</th>\n",
              "      <th>20</th>\n",
              "      <th>21</th>\n",
              "      <th>22</th>\n",
              "      <th>23</th>\n",
              "      <th>24</th>\n",
              "      <th>25</th>\n",
              "      <th>26</th>\n",
              "      <th>27</th>\n",
              "      <th>28</th>\n",
              "      <th>29</th>\n",
              "      <th>30</th>\n",
              "      <th>31</th>\n",
              "      <th>32</th>\n",
              "      <th>33</th>\n",
              "      <th>34</th>\n",
              "      <th>35</th>\n",
              "      <th>36</th>\n",
              "      <th>37</th>\n",
              "      <th>38</th>\n",
              "      <th>39</th>\n",
              "    </tr>\n",
              "  </thead>\n",
              "  <tbody>\n",
              "    <tr>\n",
              "      <th>0</th>\n",
              "      <td>5008804</td>\n",
              "      <td>0</td>\n",
              "      <td>161100.00</td>\n",
              "      <td>33</td>\n",
              "      <td>2</td>\n",
              "      <td>12.40</td>\n",
              "      <td>1</td>\n",
              "      <td>1</td>\n",
              "      <td>1</td>\n",
              "      <td>0</td>\n",
              "      <td>0</td>\n",
              "      <td>Empregado</td>\n",
              "      <td>Uniao estavel</td>\n",
              "      <td>Alugado</td>\n",
              "      <td>Outros</td>\n",
              "      <td>Ensino superior</td>\n",
              "      <td>0</td>\n",
              "      <td>0.00</td>\n",
              "      <td>1.00</td>\n",
              "      <td>0.00</td>\n",
              "      <td>0.00</td>\n",
              "      <td>0.00</td>\n",
              "      <td>0.00</td>\n",
              "      <td>0.00</td>\n",
              "      <td>0.00</td>\n",
              "      <td>1.00</td>\n",
              "      <td>0.00</td>\n",
              "      <td>1.00</td>\n",
              "      <td>0.00</td>\n",
              "      <td>0.00</td>\n",
              "      <td>0.00</td>\n",
              "      <td>0.00</td>\n",
              "      <td>0.00</td>\n",
              "      <td>0.00</td>\n",
              "      <td>0.00</td>\n",
              "      <td>0.00</td>\n",
              "      <td>0.00</td>\n",
              "      <td>0.00</td>\n",
              "      <td>0.00</td>\n",
              "      <td>0.00</td>\n",
              "      <td>0.00</td>\n",
              "      <td>0.00</td>\n",
              "      <td>0.00</td>\n",
              "      <td>0.00</td>\n",
              "      <td>0.00</td>\n",
              "      <td>1.00</td>\n",
              "      <td>0.00</td>\n",
              "      <td>0.00</td>\n",
              "      <td>0.00</td>\n",
              "      <td>0.00</td>\n",
              "      <td>0.00</td>\n",
              "      <td>0.00</td>\n",
              "      <td>0.00</td>\n",
              "      <td>0.00</td>\n",
              "      <td>1.00</td>\n",
              "      <td>0.00</td>\n",
              "      <td>0.00</td>\n",
              "    </tr>\n",
              "    <tr>\n",
              "      <th>1</th>\n",
              "      <td>5008805</td>\n",
              "      <td>0</td>\n",
              "      <td>161100.00</td>\n",
              "      <td>33</td>\n",
              "      <td>2</td>\n",
              "      <td>12.40</td>\n",
              "      <td>1</td>\n",
              "      <td>1</td>\n",
              "      <td>1</td>\n",
              "      <td>0</td>\n",
              "      <td>0</td>\n",
              "      <td>Empregado</td>\n",
              "      <td>Uniao estavel</td>\n",
              "      <td>Alugado</td>\n",
              "      <td>Outros</td>\n",
              "      <td>Ensino superior</td>\n",
              "      <td>0</td>\n",
              "      <td>0.00</td>\n",
              "      <td>1.00</td>\n",
              "      <td>0.00</td>\n",
              "      <td>0.00</td>\n",
              "      <td>0.00</td>\n",
              "      <td>0.00</td>\n",
              "      <td>0.00</td>\n",
              "      <td>0.00</td>\n",
              "      <td>1.00</td>\n",
              "      <td>0.00</td>\n",
              "      <td>1.00</td>\n",
              "      <td>0.00</td>\n",
              "      <td>0.00</td>\n",
              "      <td>0.00</td>\n",
              "      <td>0.00</td>\n",
              "      <td>0.00</td>\n",
              "      <td>0.00</td>\n",
              "      <td>0.00</td>\n",
              "      <td>0.00</td>\n",
              "      <td>0.00</td>\n",
              "      <td>0.00</td>\n",
              "      <td>0.00</td>\n",
              "      <td>0.00</td>\n",
              "      <td>0.00</td>\n",
              "      <td>0.00</td>\n",
              "      <td>0.00</td>\n",
              "      <td>0.00</td>\n",
              "      <td>0.00</td>\n",
              "      <td>1.00</td>\n",
              "      <td>0.00</td>\n",
              "      <td>0.00</td>\n",
              "      <td>0.00</td>\n",
              "      <td>0.00</td>\n",
              "      <td>0.00</td>\n",
              "      <td>0.00</td>\n",
              "      <td>0.00</td>\n",
              "      <td>0.00</td>\n",
              "      <td>1.00</td>\n",
              "      <td>0.00</td>\n",
              "      <td>0.00</td>\n",
              "    </tr>\n",
              "    <tr>\n",
              "      <th>2</th>\n",
              "      <td>5008806</td>\n",
              "      <td>0</td>\n",
              "      <td>112500.00</td>\n",
              "      <td>59</td>\n",
              "      <td>2</td>\n",
              "      <td>3.10</td>\n",
              "      <td>1</td>\n",
              "      <td>1</td>\n",
              "      <td>0</td>\n",
              "      <td>0</td>\n",
              "      <td>0</td>\n",
              "      <td>Empregado</td>\n",
              "      <td>Casado</td>\n",
              "      <td>Casa propria</td>\n",
              "      <td>Seguranca</td>\n",
              "      <td>Ensino medio</td>\n",
              "      <td>0</td>\n",
              "      <td>0.00</td>\n",
              "      <td>1.00</td>\n",
              "      <td>0.00</td>\n",
              "      <td>0.00</td>\n",
              "      <td>0.00</td>\n",
              "      <td>1.00</td>\n",
              "      <td>0.00</td>\n",
              "      <td>0.00</td>\n",
              "      <td>0.00</td>\n",
              "      <td>0.00</td>\n",
              "      <td>0.00</td>\n",
              "      <td>0.00</td>\n",
              "      <td>1.00</td>\n",
              "      <td>0.00</td>\n",
              "      <td>0.00</td>\n",
              "      <td>0.00</td>\n",
              "      <td>0.00</td>\n",
              "      <td>0.00</td>\n",
              "      <td>0.00</td>\n",
              "      <td>0.00</td>\n",
              "      <td>0.00</td>\n",
              "      <td>0.00</td>\n",
              "      <td>0.00</td>\n",
              "      <td>0.00</td>\n",
              "      <td>0.00</td>\n",
              "      <td>0.00</td>\n",
              "      <td>0.00</td>\n",
              "      <td>0.00</td>\n",
              "      <td>0.00</td>\n",
              "      <td>0.00</td>\n",
              "      <td>0.00</td>\n",
              "      <td>1.00</td>\n",
              "      <td>0.00</td>\n",
              "      <td>0.00</td>\n",
              "      <td>0.00</td>\n",
              "      <td>0.00</td>\n",
              "      <td>1.00</td>\n",
              "      <td>0.00</td>\n",
              "      <td>0.00</td>\n",
              "      <td>0.00</td>\n",
              "    </tr>\n",
              "    <tr>\n",
              "      <th>3</th>\n",
              "      <td>5008810</td>\n",
              "      <td>0</td>\n",
              "      <td>270000.00</td>\n",
              "      <td>52</td>\n",
              "      <td>1</td>\n",
              "      <td>8.40</td>\n",
              "      <td>0</td>\n",
              "      <td>1</td>\n",
              "      <td>0</td>\n",
              "      <td>1</td>\n",
              "      <td>1</td>\n",
              "      <td>Associado comercial</td>\n",
              "      <td>Solteiro</td>\n",
              "      <td>Casa propria</td>\n",
              "      <td>Venda</td>\n",
              "      <td>Ensino medio</td>\n",
              "      <td>0</td>\n",
              "      <td>1.00</td>\n",
              "      <td>0.00</td>\n",
              "      <td>0.00</td>\n",
              "      <td>0.00</td>\n",
              "      <td>0.00</td>\n",
              "      <td>0.00</td>\n",
              "      <td>0.00</td>\n",
              "      <td>1.00</td>\n",
              "      <td>0.00</td>\n",
              "      <td>0.00</td>\n",
              "      <td>0.00</td>\n",
              "      <td>0.00</td>\n",
              "      <td>1.00</td>\n",
              "      <td>0.00</td>\n",
              "      <td>0.00</td>\n",
              "      <td>0.00</td>\n",
              "      <td>0.00</td>\n",
              "      <td>0.00</td>\n",
              "      <td>0.00</td>\n",
              "      <td>0.00</td>\n",
              "      <td>0.00</td>\n",
              "      <td>0.00</td>\n",
              "      <td>0.00</td>\n",
              "      <td>0.00</td>\n",
              "      <td>0.00</td>\n",
              "      <td>0.00</td>\n",
              "      <td>0.00</td>\n",
              "      <td>0.00</td>\n",
              "      <td>0.00</td>\n",
              "      <td>0.00</td>\n",
              "      <td>0.00</td>\n",
              "      <td>0.00</td>\n",
              "      <td>0.00</td>\n",
              "      <td>0.00</td>\n",
              "      <td>1.00</td>\n",
              "      <td>0.00</td>\n",
              "      <td>1.00</td>\n",
              "      <td>0.00</td>\n",
              "      <td>0.00</td>\n",
              "      <td>0.00</td>\n",
              "    </tr>\n",
              "    <tr>\n",
              "      <th>4</th>\n",
              "      <td>5008811</td>\n",
              "      <td>0</td>\n",
              "      <td>270000.00</td>\n",
              "      <td>52</td>\n",
              "      <td>1</td>\n",
              "      <td>8.40</td>\n",
              "      <td>0</td>\n",
              "      <td>1</td>\n",
              "      <td>0</td>\n",
              "      <td>1</td>\n",
              "      <td>1</td>\n",
              "      <td>Associado comercial</td>\n",
              "      <td>Solteiro</td>\n",
              "      <td>Casa propria</td>\n",
              "      <td>Venda</td>\n",
              "      <td>Ensino medio</td>\n",
              "      <td>0</td>\n",
              "      <td>1.00</td>\n",
              "      <td>0.00</td>\n",
              "      <td>0.00</td>\n",
              "      <td>0.00</td>\n",
              "      <td>0.00</td>\n",
              "      <td>0.00</td>\n",
              "      <td>0.00</td>\n",
              "      <td>1.00</td>\n",
              "      <td>0.00</td>\n",
              "      <td>0.00</td>\n",
              "      <td>0.00</td>\n",
              "      <td>0.00</td>\n",
              "      <td>1.00</td>\n",
              "      <td>0.00</td>\n",
              "      <td>0.00</td>\n",
              "      <td>0.00</td>\n",
              "      <td>0.00</td>\n",
              "      <td>0.00</td>\n",
              "      <td>0.00</td>\n",
              "      <td>0.00</td>\n",
              "      <td>0.00</td>\n",
              "      <td>0.00</td>\n",
              "      <td>0.00</td>\n",
              "      <td>0.00</td>\n",
              "      <td>0.00</td>\n",
              "      <td>0.00</td>\n",
              "      <td>0.00</td>\n",
              "      <td>0.00</td>\n",
              "      <td>0.00</td>\n",
              "      <td>0.00</td>\n",
              "      <td>0.00</td>\n",
              "      <td>0.00</td>\n",
              "      <td>0.00</td>\n",
              "      <td>0.00</td>\n",
              "      <td>1.00</td>\n",
              "      <td>0.00</td>\n",
              "      <td>1.00</td>\n",
              "      <td>0.00</td>\n",
              "      <td>0.00</td>\n",
              "      <td>0.00</td>\n",
              "    </tr>\n",
              "    <tr>\n",
              "      <th>...</th>\n",
              "      <td>...</td>\n",
              "      <td>...</td>\n",
              "      <td>...</td>\n",
              "      <td>...</td>\n",
              "      <td>...</td>\n",
              "      <td>...</td>\n",
              "      <td>...</td>\n",
              "      <td>...</td>\n",
              "      <td>...</td>\n",
              "      <td>...</td>\n",
              "      <td>...</td>\n",
              "      <td>...</td>\n",
              "      <td>...</td>\n",
              "      <td>...</td>\n",
              "      <td>...</td>\n",
              "      <td>...</td>\n",
              "      <td>...</td>\n",
              "      <td>...</td>\n",
              "      <td>...</td>\n",
              "      <td>...</td>\n",
              "      <td>...</td>\n",
              "      <td>...</td>\n",
              "      <td>...</td>\n",
              "      <td>...</td>\n",
              "      <td>...</td>\n",
              "      <td>...</td>\n",
              "      <td>...</td>\n",
              "      <td>...</td>\n",
              "      <td>...</td>\n",
              "      <td>...</td>\n",
              "      <td>...</td>\n",
              "      <td>...</td>\n",
              "      <td>...</td>\n",
              "      <td>...</td>\n",
              "      <td>...</td>\n",
              "      <td>...</td>\n",
              "      <td>...</td>\n",
              "      <td>...</td>\n",
              "      <td>...</td>\n",
              "      <td>...</td>\n",
              "      <td>...</td>\n",
              "      <td>...</td>\n",
              "      <td>...</td>\n",
              "      <td>...</td>\n",
              "      <td>...</td>\n",
              "      <td>...</td>\n",
              "      <td>...</td>\n",
              "      <td>...</td>\n",
              "      <td>...</td>\n",
              "      <td>...</td>\n",
              "      <td>...</td>\n",
              "      <td>...</td>\n",
              "      <td>...</td>\n",
              "      <td>...</td>\n",
              "      <td>...</td>\n",
              "      <td>...</td>\n",
              "      <td>...</td>\n",
              "    </tr>\n",
              "    <tr>\n",
              "      <th>23414</th>\n",
              "      <td>5149729</td>\n",
              "      <td>0</td>\n",
              "      <td>90000.00</td>\n",
              "      <td>52</td>\n",
              "      <td>2</td>\n",
              "      <td>4.70</td>\n",
              "      <td>1</td>\n",
              "      <td>1</td>\n",
              "      <td>0</td>\n",
              "      <td>0</td>\n",
              "      <td>0</td>\n",
              "      <td>Empregado</td>\n",
              "      <td>Casado</td>\n",
              "      <td>Casa propria</td>\n",
              "      <td>Outros</td>\n",
              "      <td>Ensino medio</td>\n",
              "      <td>1</td>\n",
              "      <td>0.00</td>\n",
              "      <td>1.00</td>\n",
              "      <td>0.00</td>\n",
              "      <td>0.00</td>\n",
              "      <td>0.00</td>\n",
              "      <td>1.00</td>\n",
              "      <td>0.00</td>\n",
              "      <td>0.00</td>\n",
              "      <td>0.00</td>\n",
              "      <td>0.00</td>\n",
              "      <td>0.00</td>\n",
              "      <td>0.00</td>\n",
              "      <td>1.00</td>\n",
              "      <td>0.00</td>\n",
              "      <td>0.00</td>\n",
              "      <td>0.00</td>\n",
              "      <td>0.00</td>\n",
              "      <td>0.00</td>\n",
              "      <td>0.00</td>\n",
              "      <td>0.00</td>\n",
              "      <td>0.00</td>\n",
              "      <td>0.00</td>\n",
              "      <td>0.00</td>\n",
              "      <td>0.00</td>\n",
              "      <td>0.00</td>\n",
              "      <td>0.00</td>\n",
              "      <td>0.00</td>\n",
              "      <td>0.00</td>\n",
              "      <td>1.00</td>\n",
              "      <td>0.00</td>\n",
              "      <td>0.00</td>\n",
              "      <td>0.00</td>\n",
              "      <td>0.00</td>\n",
              "      <td>0.00</td>\n",
              "      <td>0.00</td>\n",
              "      <td>0.00</td>\n",
              "      <td>1.00</td>\n",
              "      <td>0.00</td>\n",
              "      <td>0.00</td>\n",
              "      <td>0.00</td>\n",
              "    </tr>\n",
              "    <tr>\n",
              "      <th>23415</th>\n",
              "      <td>5149775</td>\n",
              "      <td>0</td>\n",
              "      <td>130500.00</td>\n",
              "      <td>44</td>\n",
              "      <td>2</td>\n",
              "      <td>25.70</td>\n",
              "      <td>1</td>\n",
              "      <td>1</td>\n",
              "      <td>0</td>\n",
              "      <td>1</td>\n",
              "      <td>0</td>\n",
              "      <td>Empregado</td>\n",
              "      <td>Casado</td>\n",
              "      <td>Casa propria</td>\n",
              "      <td>Construcao Civil</td>\n",
              "      <td>Ensino medio</td>\n",
              "      <td>1</td>\n",
              "      <td>0.00</td>\n",
              "      <td>1.00</td>\n",
              "      <td>0.00</td>\n",
              "      <td>0.00</td>\n",
              "      <td>0.00</td>\n",
              "      <td>1.00</td>\n",
              "      <td>0.00</td>\n",
              "      <td>0.00</td>\n",
              "      <td>0.00</td>\n",
              "      <td>0.00</td>\n",
              "      <td>0.00</td>\n",
              "      <td>0.00</td>\n",
              "      <td>1.00</td>\n",
              "      <td>0.00</td>\n",
              "      <td>0.00</td>\n",
              "      <td>0.00</td>\n",
              "      <td>0.00</td>\n",
              "      <td>0.00</td>\n",
              "      <td>1.00</td>\n",
              "      <td>0.00</td>\n",
              "      <td>0.00</td>\n",
              "      <td>0.00</td>\n",
              "      <td>0.00</td>\n",
              "      <td>0.00</td>\n",
              "      <td>0.00</td>\n",
              "      <td>0.00</td>\n",
              "      <td>0.00</td>\n",
              "      <td>0.00</td>\n",
              "      <td>0.00</td>\n",
              "      <td>0.00</td>\n",
              "      <td>0.00</td>\n",
              "      <td>0.00</td>\n",
              "      <td>0.00</td>\n",
              "      <td>0.00</td>\n",
              "      <td>0.00</td>\n",
              "      <td>0.00</td>\n",
              "      <td>1.00</td>\n",
              "      <td>0.00</td>\n",
              "      <td>0.00</td>\n",
              "      <td>0.00</td>\n",
              "    </tr>\n",
              "    <tr>\n",
              "      <th>23416</th>\n",
              "      <td>5149834</td>\n",
              "      <td>0</td>\n",
              "      <td>157500.00</td>\n",
              "      <td>34</td>\n",
              "      <td>2</td>\n",
              "      <td>3.60</td>\n",
              "      <td>0</td>\n",
              "      <td>1</td>\n",
              "      <td>0</td>\n",
              "      <td>1</td>\n",
              "      <td>1</td>\n",
              "      <td>Associado comercial</td>\n",
              "      <td>Casado</td>\n",
              "      <td>Casa propria</td>\n",
              "      <td>Medicina</td>\n",
              "      <td>Ensino superior</td>\n",
              "      <td>1</td>\n",
              "      <td>1.00</td>\n",
              "      <td>0.00</td>\n",
              "      <td>0.00</td>\n",
              "      <td>0.00</td>\n",
              "      <td>0.00</td>\n",
              "      <td>1.00</td>\n",
              "      <td>0.00</td>\n",
              "      <td>0.00</td>\n",
              "      <td>0.00</td>\n",
              "      <td>0.00</td>\n",
              "      <td>0.00</td>\n",
              "      <td>0.00</td>\n",
              "      <td>1.00</td>\n",
              "      <td>0.00</td>\n",
              "      <td>0.00</td>\n",
              "      <td>0.00</td>\n",
              "      <td>0.00</td>\n",
              "      <td>0.00</td>\n",
              "      <td>0.00</td>\n",
              "      <td>0.00</td>\n",
              "      <td>0.00</td>\n",
              "      <td>0.00</td>\n",
              "      <td>0.00</td>\n",
              "      <td>0.00</td>\n",
              "      <td>0.00</td>\n",
              "      <td>0.00</td>\n",
              "      <td>1.00</td>\n",
              "      <td>0.00</td>\n",
              "      <td>0.00</td>\n",
              "      <td>0.00</td>\n",
              "      <td>0.00</td>\n",
              "      <td>0.00</td>\n",
              "      <td>0.00</td>\n",
              "      <td>0.00</td>\n",
              "      <td>0.00</td>\n",
              "      <td>0.00</td>\n",
              "      <td>0.00</td>\n",
              "      <td>1.00</td>\n",
              "      <td>0.00</td>\n",
              "      <td>0.00</td>\n",
              "    </tr>\n",
              "    <tr>\n",
              "      <th>23417</th>\n",
              "      <td>5149838</td>\n",
              "      <td>0</td>\n",
              "      <td>157500.00</td>\n",
              "      <td>34</td>\n",
              "      <td>2</td>\n",
              "      <td>3.60</td>\n",
              "      <td>0</td>\n",
              "      <td>1</td>\n",
              "      <td>0</td>\n",
              "      <td>1</td>\n",
              "      <td>1</td>\n",
              "      <td>Pensionista</td>\n",
              "      <td>Casado</td>\n",
              "      <td>Casa propria</td>\n",
              "      <td>Medicina</td>\n",
              "      <td>Ensino superior</td>\n",
              "      <td>1</td>\n",
              "      <td>0.00</td>\n",
              "      <td>0.00</td>\n",
              "      <td>0.00</td>\n",
              "      <td>1.00</td>\n",
              "      <td>0.00</td>\n",
              "      <td>1.00</td>\n",
              "      <td>0.00</td>\n",
              "      <td>0.00</td>\n",
              "      <td>0.00</td>\n",
              "      <td>0.00</td>\n",
              "      <td>0.00</td>\n",
              "      <td>0.00</td>\n",
              "      <td>1.00</td>\n",
              "      <td>0.00</td>\n",
              "      <td>0.00</td>\n",
              "      <td>0.00</td>\n",
              "      <td>0.00</td>\n",
              "      <td>0.00</td>\n",
              "      <td>0.00</td>\n",
              "      <td>0.00</td>\n",
              "      <td>0.00</td>\n",
              "      <td>0.00</td>\n",
              "      <td>0.00</td>\n",
              "      <td>0.00</td>\n",
              "      <td>0.00</td>\n",
              "      <td>0.00</td>\n",
              "      <td>1.00</td>\n",
              "      <td>0.00</td>\n",
              "      <td>0.00</td>\n",
              "      <td>0.00</td>\n",
              "      <td>0.00</td>\n",
              "      <td>0.00</td>\n",
              "      <td>0.00</td>\n",
              "      <td>0.00</td>\n",
              "      <td>0.00</td>\n",
              "      <td>0.00</td>\n",
              "      <td>0.00</td>\n",
              "      <td>1.00</td>\n",
              "      <td>0.00</td>\n",
              "      <td>0.00</td>\n",
              "    </tr>\n",
              "    <tr>\n",
              "      <th>23418</th>\n",
              "      <td>5150337</td>\n",
              "      <td>0</td>\n",
              "      <td>112500.00</td>\n",
              "      <td>25</td>\n",
              "      <td>1</td>\n",
              "      <td>3.30</td>\n",
              "      <td>0</td>\n",
              "      <td>1</td>\n",
              "      <td>0</td>\n",
              "      <td>0</td>\n",
              "      <td>0</td>\n",
              "      <td>Empregado</td>\n",
              "      <td>Solteiro</td>\n",
              "      <td>Alugado</td>\n",
              "      <td>Construcao Civil</td>\n",
              "      <td>Ensino medio</td>\n",
              "      <td>1</td>\n",
              "      <td>0.00</td>\n",
              "      <td>1.00</td>\n",
              "      <td>0.00</td>\n",
              "      <td>0.00</td>\n",
              "      <td>0.00</td>\n",
              "      <td>0.00</td>\n",
              "      <td>0.00</td>\n",
              "      <td>1.00</td>\n",
              "      <td>0.00</td>\n",
              "      <td>0.00</td>\n",
              "      <td>1.00</td>\n",
              "      <td>0.00</td>\n",
              "      <td>0.00</td>\n",
              "      <td>0.00</td>\n",
              "      <td>0.00</td>\n",
              "      <td>0.00</td>\n",
              "      <td>0.00</td>\n",
              "      <td>0.00</td>\n",
              "      <td>1.00</td>\n",
              "      <td>0.00</td>\n",
              "      <td>0.00</td>\n",
              "      <td>0.00</td>\n",
              "      <td>0.00</td>\n",
              "      <td>0.00</td>\n",
              "      <td>0.00</td>\n",
              "      <td>0.00</td>\n",
              "      <td>0.00</td>\n",
              "      <td>0.00</td>\n",
              "      <td>0.00</td>\n",
              "      <td>0.00</td>\n",
              "      <td>0.00</td>\n",
              "      <td>0.00</td>\n",
              "      <td>0.00</td>\n",
              "      <td>0.00</td>\n",
              "      <td>0.00</td>\n",
              "      <td>0.00</td>\n",
              "      <td>1.00</td>\n",
              "      <td>0.00</td>\n",
              "      <td>0.00</td>\n",
              "      <td>0.00</td>\n",
              "    </tr>\n",
              "  </tbody>\n",
              "</table>\n",
              "<p>23419 rows × 57 columns</p>\n",
              "</div>"
            ],
            "text/plain": [
              "       id_cliente  qtd_filhos  rendimento_anual  idade  tamanho_familia  \\\n",
              "0         5008804           0         161100.00     33                2   \n",
              "1         5008805           0         161100.00     33                2   \n",
              "2         5008806           0         112500.00     59                2   \n",
              "3         5008810           0         270000.00     52                1   \n",
              "4         5008811           0         270000.00     52                1   \n",
              "...           ...         ...               ...    ...              ...   \n",
              "23414     5149729           0          90000.00     52                2   \n",
              "23415     5149775           0         130500.00     44                2   \n",
              "23416     5149834           0         157500.00     34                2   \n",
              "23417     5149838           0         157500.00     34                2   \n",
              "23418     5150337           0         112500.00     25                1   \n",
              "\n",
              "       anos_empregado  tem_carro  tem_casa_propria  tem_telefone_trabalho  \\\n",
              "0               12.40          1                 1                      1   \n",
              "1               12.40          1                 1                      1   \n",
              "2                3.10          1                 1                      0   \n",
              "3                8.40          0                 1                      0   \n",
              "4                8.40          0                 1                      0   \n",
              "...               ...        ...               ...                    ...   \n",
              "23414            4.70          1                 1                      0   \n",
              "23415           25.70          1                 1                      0   \n",
              "23416            3.60          0                 1                      0   \n",
              "23417            3.60          0                 1                      0   \n",
              "23418            3.30          0                 1                      0   \n",
              "\n",
              "       tem_telefone_fixo  tem_email   categoria_de_renda   estado_civil  \\\n",
              "0                      0          0            Empregado  Uniao estavel   \n",
              "1                      0          0            Empregado  Uniao estavel   \n",
              "2                      0          0            Empregado         Casado   \n",
              "3                      1          1  Associado comercial       Solteiro   \n",
              "4                      1          1  Associado comercial       Solteiro   \n",
              "...                  ...        ...                  ...            ...   \n",
              "23414                  0          0            Empregado         Casado   \n",
              "23415                  1          0            Empregado         Casado   \n",
              "23416                  1          1  Associado comercial         Casado   \n",
              "23417                  1          1          Pensionista         Casado   \n",
              "23418                  0          0            Empregado       Solteiro   \n",
              "\n",
              "            moradia          ocupacao grau_escolaridade  mau    0    1    2  \\\n",
              "0           Alugado            Outros   Ensino superior    0 0.00 1.00 0.00   \n",
              "1           Alugado            Outros   Ensino superior    0 0.00 1.00 0.00   \n",
              "2      Casa propria         Seguranca      Ensino medio    0 0.00 1.00 0.00   \n",
              "3      Casa propria             Venda      Ensino medio    0 1.00 0.00 0.00   \n",
              "4      Casa propria             Venda      Ensino medio    0 1.00 0.00 0.00   \n",
              "...             ...               ...               ...  ...  ...  ...  ...   \n",
              "23414  Casa propria            Outros      Ensino medio    1 0.00 1.00 0.00   \n",
              "23415  Casa propria  Construcao Civil      Ensino medio    1 0.00 1.00 0.00   \n",
              "23416  Casa propria          Medicina   Ensino superior    1 1.00 0.00 0.00   \n",
              "23417  Casa propria          Medicina   Ensino superior    1 0.00 0.00 0.00   \n",
              "23418       Alugado  Construcao Civil      Ensino medio    1 0.00 1.00 0.00   \n",
              "\n",
              "         3    4    5    6    7    8    9   10   11   12   13   14   15   16  \\\n",
              "0     0.00 0.00 0.00 0.00 0.00 1.00 0.00 1.00 0.00 0.00 0.00 0.00 0.00 0.00   \n",
              "1     0.00 0.00 0.00 0.00 0.00 1.00 0.00 1.00 0.00 0.00 0.00 0.00 0.00 0.00   \n",
              "2     0.00 0.00 1.00 0.00 0.00 0.00 0.00 0.00 0.00 1.00 0.00 0.00 0.00 0.00   \n",
              "3     0.00 0.00 0.00 0.00 1.00 0.00 0.00 0.00 0.00 1.00 0.00 0.00 0.00 0.00   \n",
              "4     0.00 0.00 0.00 0.00 1.00 0.00 0.00 0.00 0.00 1.00 0.00 0.00 0.00 0.00   \n",
              "...    ...  ...  ...  ...  ...  ...  ...  ...  ...  ...  ...  ...  ...  ...   \n",
              "23414 0.00 0.00 1.00 0.00 0.00 0.00 0.00 0.00 0.00 1.00 0.00 0.00 0.00 0.00   \n",
              "23415 0.00 0.00 1.00 0.00 0.00 0.00 0.00 0.00 0.00 1.00 0.00 0.00 0.00 0.00   \n",
              "23416 0.00 0.00 1.00 0.00 0.00 0.00 0.00 0.00 0.00 1.00 0.00 0.00 0.00 0.00   \n",
              "23417 1.00 0.00 1.00 0.00 0.00 0.00 0.00 0.00 0.00 1.00 0.00 0.00 0.00 0.00   \n",
              "23418 0.00 0.00 0.00 0.00 1.00 0.00 0.00 1.00 0.00 0.00 0.00 0.00 0.00 0.00   \n",
              "\n",
              "        17   18   19   20   21   22   23   24   25   26   27   28   29   30  \\\n",
              "0     0.00 0.00 0.00 0.00 0.00 0.00 0.00 0.00 0.00 0.00 0.00 1.00 0.00 0.00   \n",
              "1     0.00 0.00 0.00 0.00 0.00 0.00 0.00 0.00 0.00 0.00 0.00 1.00 0.00 0.00   \n",
              "2     0.00 0.00 0.00 0.00 0.00 0.00 0.00 0.00 0.00 0.00 0.00 0.00 0.00 0.00   \n",
              "3     0.00 0.00 0.00 0.00 0.00 0.00 0.00 0.00 0.00 0.00 0.00 0.00 0.00 0.00   \n",
              "4     0.00 0.00 0.00 0.00 0.00 0.00 0.00 0.00 0.00 0.00 0.00 0.00 0.00 0.00   \n",
              "...    ...  ...  ...  ...  ...  ...  ...  ...  ...  ...  ...  ...  ...  ...   \n",
              "23414 0.00 0.00 0.00 0.00 0.00 0.00 0.00 0.00 0.00 0.00 0.00 1.00 0.00 0.00   \n",
              "23415 0.00 1.00 0.00 0.00 0.00 0.00 0.00 0.00 0.00 0.00 0.00 0.00 0.00 0.00   \n",
              "23416 0.00 0.00 0.00 0.00 0.00 0.00 0.00 0.00 0.00 1.00 0.00 0.00 0.00 0.00   \n",
              "23417 0.00 0.00 0.00 0.00 0.00 0.00 0.00 0.00 0.00 1.00 0.00 0.00 0.00 0.00   \n",
              "23418 0.00 1.00 0.00 0.00 0.00 0.00 0.00 0.00 0.00 0.00 0.00 0.00 0.00 0.00   \n",
              "\n",
              "        31   32   33   34   35   36   37   38   39  \n",
              "0     0.00 0.00 0.00 0.00 0.00 0.00 1.00 0.00 0.00  \n",
              "1     0.00 0.00 0.00 0.00 0.00 0.00 1.00 0.00 0.00  \n",
              "2     1.00 0.00 0.00 0.00 0.00 1.00 0.00 0.00 0.00  \n",
              "3     0.00 0.00 0.00 1.00 0.00 1.00 0.00 0.00 0.00  \n",
              "4     0.00 0.00 0.00 1.00 0.00 1.00 0.00 0.00 0.00  \n",
              "...    ...  ...  ...  ...  ...  ...  ...  ...  ...  \n",
              "23414 0.00 0.00 0.00 0.00 0.00 1.00 0.00 0.00 0.00  \n",
              "23415 0.00 0.00 0.00 0.00 0.00 1.00 0.00 0.00 0.00  \n",
              "23416 0.00 0.00 0.00 0.00 0.00 0.00 1.00 0.00 0.00  \n",
              "23417 0.00 0.00 0.00 0.00 0.00 0.00 1.00 0.00 0.00  \n",
              "23418 0.00 0.00 0.00 0.00 0.00 1.00 0.00 0.00 0.00  \n",
              "\n",
              "[23419 rows x 57 columns]"
            ]
          },
          "metadata": {},
          "execution_count": 7
        }
      ]
    },
    {
      "cell_type": "code",
      "metadata": {
        "colab": {
          "base_uri": "https://localhost:8080/",
          "height": 575
        },
        "id": "ehGa1_WOtWZj",
        "outputId": "4dcd2d32-e934-487f-8ac2-80928186a76d"
      },
      "source": [
        "df_registro_clientes_targets = df_registro_clientes_targets[['id_cliente'] + quant_columns + cat_binary_columns + categorical_columns + ['mau']]\n",
        "df_registro_clientes_targets"
      ],
      "execution_count": null,
      "outputs": [
        {
          "output_type": "execute_result",
          "data": {
            "text/html": [
              "<div>\n",
              "<style scoped>\n",
              "    .dataframe tbody tr th:only-of-type {\n",
              "        vertical-align: middle;\n",
              "    }\n",
              "\n",
              "    .dataframe tbody tr th {\n",
              "        vertical-align: top;\n",
              "    }\n",
              "\n",
              "    .dataframe thead th {\n",
              "        text-align: right;\n",
              "    }\n",
              "</style>\n",
              "<table border=\"1\" class=\"dataframe\">\n",
              "  <thead>\n",
              "    <tr style=\"text-align: right;\">\n",
              "      <th></th>\n",
              "      <th>id_cliente</th>\n",
              "      <th>qtd_filhos</th>\n",
              "      <th>rendimento_anual</th>\n",
              "      <th>idade</th>\n",
              "      <th>tamanho_familia</th>\n",
              "      <th>anos_empregado</th>\n",
              "      <th>tem_carro</th>\n",
              "      <th>tem_casa_propria</th>\n",
              "      <th>tem_telefone_trabalho</th>\n",
              "      <th>tem_telefone_fixo</th>\n",
              "      <th>tem_email</th>\n",
              "      <th>categoria_de_renda</th>\n",
              "      <th>estado_civil</th>\n",
              "      <th>moradia</th>\n",
              "      <th>ocupacao</th>\n",
              "      <th>grau_escolaridade</th>\n",
              "      <th>mau</th>\n",
              "    </tr>\n",
              "  </thead>\n",
              "  <tbody>\n",
              "    <tr>\n",
              "      <th>0</th>\n",
              "      <td>5008804</td>\n",
              "      <td>0</td>\n",
              "      <td>161100.00</td>\n",
              "      <td>33</td>\n",
              "      <td>2</td>\n",
              "      <td>12.40</td>\n",
              "      <td>1</td>\n",
              "      <td>1</td>\n",
              "      <td>1</td>\n",
              "      <td>0</td>\n",
              "      <td>0</td>\n",
              "      <td>Empregado</td>\n",
              "      <td>Uniao estavel</td>\n",
              "      <td>Alugado</td>\n",
              "      <td>Outros</td>\n",
              "      <td>Ensino superior</td>\n",
              "      <td>0</td>\n",
              "    </tr>\n",
              "    <tr>\n",
              "      <th>1</th>\n",
              "      <td>5008805</td>\n",
              "      <td>0</td>\n",
              "      <td>161100.00</td>\n",
              "      <td>33</td>\n",
              "      <td>2</td>\n",
              "      <td>12.40</td>\n",
              "      <td>1</td>\n",
              "      <td>1</td>\n",
              "      <td>1</td>\n",
              "      <td>0</td>\n",
              "      <td>0</td>\n",
              "      <td>Empregado</td>\n",
              "      <td>Uniao estavel</td>\n",
              "      <td>Alugado</td>\n",
              "      <td>Outros</td>\n",
              "      <td>Ensino superior</td>\n",
              "      <td>0</td>\n",
              "    </tr>\n",
              "    <tr>\n",
              "      <th>2</th>\n",
              "      <td>5008806</td>\n",
              "      <td>0</td>\n",
              "      <td>112500.00</td>\n",
              "      <td>59</td>\n",
              "      <td>2</td>\n",
              "      <td>3.10</td>\n",
              "      <td>1</td>\n",
              "      <td>1</td>\n",
              "      <td>0</td>\n",
              "      <td>0</td>\n",
              "      <td>0</td>\n",
              "      <td>Empregado</td>\n",
              "      <td>Casado</td>\n",
              "      <td>Casa propria</td>\n",
              "      <td>Seguranca</td>\n",
              "      <td>Ensino medio</td>\n",
              "      <td>0</td>\n",
              "    </tr>\n",
              "    <tr>\n",
              "      <th>3</th>\n",
              "      <td>5008810</td>\n",
              "      <td>0</td>\n",
              "      <td>270000.00</td>\n",
              "      <td>52</td>\n",
              "      <td>1</td>\n",
              "      <td>8.40</td>\n",
              "      <td>0</td>\n",
              "      <td>1</td>\n",
              "      <td>0</td>\n",
              "      <td>1</td>\n",
              "      <td>1</td>\n",
              "      <td>Associado comercial</td>\n",
              "      <td>Solteiro</td>\n",
              "      <td>Casa propria</td>\n",
              "      <td>Venda</td>\n",
              "      <td>Ensino medio</td>\n",
              "      <td>0</td>\n",
              "    </tr>\n",
              "    <tr>\n",
              "      <th>4</th>\n",
              "      <td>5008811</td>\n",
              "      <td>0</td>\n",
              "      <td>270000.00</td>\n",
              "      <td>52</td>\n",
              "      <td>1</td>\n",
              "      <td>8.40</td>\n",
              "      <td>0</td>\n",
              "      <td>1</td>\n",
              "      <td>0</td>\n",
              "      <td>1</td>\n",
              "      <td>1</td>\n",
              "      <td>Associado comercial</td>\n",
              "      <td>Solteiro</td>\n",
              "      <td>Casa propria</td>\n",
              "      <td>Venda</td>\n",
              "      <td>Ensino medio</td>\n",
              "      <td>0</td>\n",
              "    </tr>\n",
              "    <tr>\n",
              "      <th>...</th>\n",
              "      <td>...</td>\n",
              "      <td>...</td>\n",
              "      <td>...</td>\n",
              "      <td>...</td>\n",
              "      <td>...</td>\n",
              "      <td>...</td>\n",
              "      <td>...</td>\n",
              "      <td>...</td>\n",
              "      <td>...</td>\n",
              "      <td>...</td>\n",
              "      <td>...</td>\n",
              "      <td>...</td>\n",
              "      <td>...</td>\n",
              "      <td>...</td>\n",
              "      <td>...</td>\n",
              "      <td>...</td>\n",
              "      <td>...</td>\n",
              "    </tr>\n",
              "    <tr>\n",
              "      <th>23414</th>\n",
              "      <td>5149729</td>\n",
              "      <td>0</td>\n",
              "      <td>90000.00</td>\n",
              "      <td>52</td>\n",
              "      <td>2</td>\n",
              "      <td>4.70</td>\n",
              "      <td>1</td>\n",
              "      <td>1</td>\n",
              "      <td>0</td>\n",
              "      <td>0</td>\n",
              "      <td>0</td>\n",
              "      <td>Empregado</td>\n",
              "      <td>Casado</td>\n",
              "      <td>Casa propria</td>\n",
              "      <td>Outros</td>\n",
              "      <td>Ensino medio</td>\n",
              "      <td>1</td>\n",
              "    </tr>\n",
              "    <tr>\n",
              "      <th>23415</th>\n",
              "      <td>5149775</td>\n",
              "      <td>0</td>\n",
              "      <td>130500.00</td>\n",
              "      <td>44</td>\n",
              "      <td>2</td>\n",
              "      <td>25.70</td>\n",
              "      <td>1</td>\n",
              "      <td>1</td>\n",
              "      <td>0</td>\n",
              "      <td>1</td>\n",
              "      <td>0</td>\n",
              "      <td>Empregado</td>\n",
              "      <td>Casado</td>\n",
              "      <td>Casa propria</td>\n",
              "      <td>Construcao Civil</td>\n",
              "      <td>Ensino medio</td>\n",
              "      <td>1</td>\n",
              "    </tr>\n",
              "    <tr>\n",
              "      <th>23416</th>\n",
              "      <td>5149834</td>\n",
              "      <td>0</td>\n",
              "      <td>157500.00</td>\n",
              "      <td>34</td>\n",
              "      <td>2</td>\n",
              "      <td>3.60</td>\n",
              "      <td>0</td>\n",
              "      <td>1</td>\n",
              "      <td>0</td>\n",
              "      <td>1</td>\n",
              "      <td>1</td>\n",
              "      <td>Associado comercial</td>\n",
              "      <td>Casado</td>\n",
              "      <td>Casa propria</td>\n",
              "      <td>Medicina</td>\n",
              "      <td>Ensino superior</td>\n",
              "      <td>1</td>\n",
              "    </tr>\n",
              "    <tr>\n",
              "      <th>23417</th>\n",
              "      <td>5149838</td>\n",
              "      <td>0</td>\n",
              "      <td>157500.00</td>\n",
              "      <td>34</td>\n",
              "      <td>2</td>\n",
              "      <td>3.60</td>\n",
              "      <td>0</td>\n",
              "      <td>1</td>\n",
              "      <td>0</td>\n",
              "      <td>1</td>\n",
              "      <td>1</td>\n",
              "      <td>Pensionista</td>\n",
              "      <td>Casado</td>\n",
              "      <td>Casa propria</td>\n",
              "      <td>Medicina</td>\n",
              "      <td>Ensino superior</td>\n",
              "      <td>1</td>\n",
              "    </tr>\n",
              "    <tr>\n",
              "      <th>23418</th>\n",
              "      <td>5150337</td>\n",
              "      <td>0</td>\n",
              "      <td>112500.00</td>\n",
              "      <td>25</td>\n",
              "      <td>1</td>\n",
              "      <td>3.30</td>\n",
              "      <td>0</td>\n",
              "      <td>1</td>\n",
              "      <td>0</td>\n",
              "      <td>0</td>\n",
              "      <td>0</td>\n",
              "      <td>Empregado</td>\n",
              "      <td>Solteiro</td>\n",
              "      <td>Alugado</td>\n",
              "      <td>Construcao Civil</td>\n",
              "      <td>Ensino medio</td>\n",
              "      <td>1</td>\n",
              "    </tr>\n",
              "  </tbody>\n",
              "</table>\n",
              "<p>23419 rows × 17 columns</p>\n",
              "</div>"
            ],
            "text/plain": [
              "       id_cliente  qtd_filhos  rendimento_anual  idade  tamanho_familia  \\\n",
              "0         5008804           0         161100.00     33                2   \n",
              "1         5008805           0         161100.00     33                2   \n",
              "2         5008806           0         112500.00     59                2   \n",
              "3         5008810           0         270000.00     52                1   \n",
              "4         5008811           0         270000.00     52                1   \n",
              "...           ...         ...               ...    ...              ...   \n",
              "23414     5149729           0          90000.00     52                2   \n",
              "23415     5149775           0         130500.00     44                2   \n",
              "23416     5149834           0         157500.00     34                2   \n",
              "23417     5149838           0         157500.00     34                2   \n",
              "23418     5150337           0         112500.00     25                1   \n",
              "\n",
              "       anos_empregado  tem_carro  tem_casa_propria  tem_telefone_trabalho  \\\n",
              "0               12.40          1                 1                      1   \n",
              "1               12.40          1                 1                      1   \n",
              "2                3.10          1                 1                      0   \n",
              "3                8.40          0                 1                      0   \n",
              "4                8.40          0                 1                      0   \n",
              "...               ...        ...               ...                    ...   \n",
              "23414            4.70          1                 1                      0   \n",
              "23415           25.70          1                 1                      0   \n",
              "23416            3.60          0                 1                      0   \n",
              "23417            3.60          0                 1                      0   \n",
              "23418            3.30          0                 1                      0   \n",
              "\n",
              "       tem_telefone_fixo  tem_email   categoria_de_renda   estado_civil  \\\n",
              "0                      0          0            Empregado  Uniao estavel   \n",
              "1                      0          0            Empregado  Uniao estavel   \n",
              "2                      0          0            Empregado         Casado   \n",
              "3                      1          1  Associado comercial       Solteiro   \n",
              "4                      1          1  Associado comercial       Solteiro   \n",
              "...                  ...        ...                  ...            ...   \n",
              "23414                  0          0            Empregado         Casado   \n",
              "23415                  1          0            Empregado         Casado   \n",
              "23416                  1          1  Associado comercial         Casado   \n",
              "23417                  1          1          Pensionista         Casado   \n",
              "23418                  0          0            Empregado       Solteiro   \n",
              "\n",
              "            moradia          ocupacao grau_escolaridade  mau  \n",
              "0           Alugado            Outros   Ensino superior    0  \n",
              "1           Alugado            Outros   Ensino superior    0  \n",
              "2      Casa propria         Seguranca      Ensino medio    0  \n",
              "3      Casa propria             Venda      Ensino medio    0  \n",
              "4      Casa propria             Venda      Ensino medio    0  \n",
              "...             ...               ...               ...  ...  \n",
              "23414  Casa propria            Outros      Ensino medio    1  \n",
              "23415  Casa propria  Construcao Civil      Ensino medio    1  \n",
              "23416  Casa propria          Medicina   Ensino superior    1  \n",
              "23417  Casa propria          Medicina   Ensino superior    1  \n",
              "23418       Alugado  Construcao Civil      Ensino medio    1  \n",
              "\n",
              "[23419 rows x 17 columns]"
            ]
          },
          "metadata": {},
          "execution_count": 8
        }
      ]
    },
    {
      "cell_type": "markdown",
      "metadata": {
        "id": "R3BIdLLJtZ3P"
      },
      "source": [
        "###Aprofundando o pré-processamento dos dados e construindo a aplicação de Machine Learning"
      ]
    },
    {
      "cell_type": "markdown",
      "metadata": {
        "id": "SWIuqVfdtcn-"
      },
      "source": [
        "###Criando uma classe própria para um Pipeline dos modelos e primeiras aplicações de ML\n",
        "\n",
        "---\n",
        "Nesta seção construímos um Pipeline para a aplicação rápida e eficiente de uma preparação dos dados e scoring de modelos. \n",
        "\n",
        "Na primeira parte fazemos uma classe própria de transformador, fazemos o Pipeline e o aplicamos num def que roda os modelos e computa diversas métricas automaticamente.\n",
        "\n",
        "Confirmaremos o desbalanceamento dos dados e vamos tratar tal problema.\n"
      ]
    },
    {
      "cell_type": "code",
      "metadata": {
        "id": "AtwVqzgitYA1"
      },
      "source": [
        "#Criando uma classe e um Pipeline para os modelos\n",
        "class Transformer(BaseEstimator, TransformerMixin):\n",
        "  def __init__(self, quant_columns, cat_columns):\n",
        "    self.quant_columns = quant_columns\n",
        "    self.cat_columns = cat_columns\n",
        "    self.enc = OneHotEncoder()\n",
        "    self.scaler = MinMaxScaler()\n",
        "\n",
        "  def fit(self, x, y=None): #funções da classe devem ter o mesmo nome do método usado\n",
        "    self.enc.fit(x[self.cat_columns])\n",
        "    self.scaler.fit(x[self.quant_columns])\n",
        "    return self\n",
        "\n",
        "  def transform(self, x, y=None): #funções da classe devem ter o mesmo nome do método usado\n",
        "    x_categoricals = pd.DataFrame(data=self.enc.transform(x[self.cat_columns]).toarray(),\n",
        "                                  columns=self.enc.get_feature_names(self.cat_columns))\n",
        "    \n",
        "    x_quants = pd.DataFrame(data=self.scaler.transform(x[self.quant_columns]),\n",
        "                            columns=self.quant_columns)\n",
        "    \n",
        "    x = pd.concat([x_quants , x_categoricals], axis=1)\n",
        "\n",
        "    return x"
      ],
      "execution_count": null,
      "outputs": []
    },
    {
      "cell_type": "code",
      "metadata": {
        "id": "jMdF8mi8tefV"
      },
      "source": [
        "SEED= 98465\n",
        "def roda_modelo(modelo, dados):\n",
        "\n",
        "    # separando dados em x e y, e também removendo a coluna de ID_cliente\n",
        "    x = dados.drop(['id_cliente', 'mau'], axis=1)\n",
        "    y = dados['mau']\n",
        "    \n",
        "    # Separando dados em treino e teste\n",
        "    x_train, x_test, y_train, y_test = train_test_split(x, y, stratify=y, random_state=SEED)\n",
        "\n",
        "    # Treinando modelo com os dados de treino\n",
        "    modelo.fit(x_train, y_train)\n",
        "\n",
        "    # Calculando a probabilidade e calculando o AUC\n",
        "    prob_predic = modelo.predict_proba(x_test)\n",
        "    auc = roc_auc_score(y_test, prob_predic[:,1])\n",
        "    print(f\"AUC {auc}\")\n",
        "    \n",
        "    # Separando a probabilidade de ser bom e mau, e calculando o KS\n",
        "    data_bom = np.sort(modelo.predict_proba(x_test)[:, 1])\n",
        "    data_mau = np.sort(modelo.predict_proba(x_test)[:, 0])\n",
        "    kstest = stats.ks_2samp(data_bom, data_mau)\n",
        "    print(f\"KS {kstest}\")\n",
        "\n",
        "    # Criando matriz de confusão\n",
        "    matriz_confusao = plot_confusion_matrix(modelo, x_test, y_test, values_format='.0f', display_labels=['Bons', 'Maus'])\n",
        "    plt.grid(False)    \n",
        "    plt.show(matriz_confusao)\n",
        "\n",
        "    # Fazendo a predicao dos dados de teste e calculando o classification report\n",
        "    predicao = modelo.predict(x_test)\n",
        "    print(\"\\nClassification Report\")\n",
        "    print(classification_report(y_test, predicao, zero_division=0))"
      ],
      "execution_count": null,
      "outputs": []
    },
    {
      "cell_type": "code",
      "metadata": {
        "colab": {
          "base_uri": "https://localhost:8080/",
          "height": 17
        },
        "id": "0hVL65j-tgvl",
        "outputId": "517f40a6-868f-4fb9-be6f-c22f42abecb1"
      },
      "source": [
        "dummy_classifier = DummyClassifier()\n",
        "pipeline_dummy = Pipeline(steps=[(\"feature_transformer\", Transformer(quant_columns,cat_columns)),\n",
        "                           (\"modelo_dummy\", dummy_classifier)])"
      ],
      "execution_count": null,
      "outputs": [
        {
          "data": {
            "application/javascript": [
              "\n",
              "        if (window._pyforest_update_imports_cell) { window._pyforest_update_imports_cell('from sklearn.preprocessing import OneHotEncoder\\nfrom sklearn.preprocessing import MinMaxScaler'); }\n",
              "    "
            ],
            "text/plain": [
              "<IPython.core.display.Javascript object>"
            ]
          },
          "metadata": {},
          "output_type": "display_data"
        },
        {
          "data": {
            "application/javascript": [
              "\n",
              "        if (window._pyforest_update_imports_cell) { window._pyforest_update_imports_cell('from sklearn.preprocessing import OneHotEncoder\\nfrom sklearn.preprocessing import MinMaxScaler'); }\n",
              "    "
            ],
            "text/plain": [
              "<IPython.core.display.Javascript object>"
            ]
          },
          "metadata": {},
          "output_type": "display_data"
        }
      ]
    },
    {
      "cell_type": "code",
      "metadata": {
        "colab": {
          "base_uri": "https://localhost:8080/",
          "height": 500
        },
        "id": "vTzAZ1H8tiVV",
        "outputId": "118e4e23-a5d0-46c8-df5e-332ec20a3a9e"
      },
      "source": [
        "roda_modelo(pipeline_dummy, df_registro_clientes_targets)"
      ],
      "execution_count": null,
      "outputs": [
        {
          "name": "stdout",
          "output_type": "stream",
          "text": [
            "AUC 0.5065958878914291\n"
          ]
        },
        {
          "data": {
            "application/javascript": [
              "\n",
              "        if (window._pyforest_update_imports_cell) { window._pyforest_update_imports_cell('from sklearn.preprocessing import MinMaxScaler\\nfrom sklearn.preprocessing import OneHotEncoder\\nfrom scipy import stats'); }\n",
              "    "
            ],
            "text/plain": [
              "<IPython.core.display.Javascript object>"
            ]
          },
          "metadata": {},
          "output_type": "display_data"
        },
        {
          "name": "stdout",
          "output_type": "stream",
          "text": [
            "KS KstestResult(statistic=0.9537147736976943, pvalue=0.0)\n"
          ]
        },
        {
          "data": {
            "application/javascript": [
              "\n",
              "        if (window._pyforest_update_imports_cell) { window._pyforest_update_imports_cell('from sklearn.preprocessing import MinMaxScaler\\nimport matplotlib.pyplot as plt\\nfrom sklearn.preprocessing import OneHotEncoder\\nfrom scipy import stats'); }\n",
              "    "
            ],
            "text/plain": [
              "<IPython.core.display.Javascript object>"
            ]
          },
          "metadata": {},
          "output_type": "display_data"
        },
        {
          "data": {
            "application/javascript": [
              "\n",
              "        if (window._pyforest_update_imports_cell) { window._pyforest_update_imports_cell('from sklearn.preprocessing import MinMaxScaler\\nimport matplotlib.pyplot as plt\\nfrom sklearn.preprocessing import OneHotEncoder\\nfrom scipy import stats'); }\n",
              "    "
            ],
            "text/plain": [
              "<IPython.core.display.Javascript object>"
            ]
          },
          "metadata": {},
          "output_type": "display_data"
        },
        {
          "data": {
            "image/png": "[encoded data removed]",
            "text/plain": [
              "<Figure size 432x288 with 2 Axes>"
            ]
          },
          "metadata": {},
          "output_type": "display_data"
        },
        {
          "name": "stdout",
          "output_type": "stream",
          "text": [
            "\n",
            "Classification Report\n",
            "              precision    recall  f1-score   support\n",
            "\n",
            "           0       0.98      0.98      0.98      5721\n",
            "           1       0.05      0.05      0.05       134\n",
            "\n",
            "    accuracy                           0.96      5855\n",
            "   macro avg       0.51      0.51      0.51      5855\n",
            "weighted avg       0.96      0.96      0.96      5855\n",
            "\n"
          ]
        }
      ]
    },
    {
      "cell_type": "code",
      "metadata": {
        "colab": {
          "base_uri": "https://localhost:8080/",
          "height": 17
        },
        "id": "2XR1lUtdtkCd",
        "outputId": "ba7e5042-7145-41b7-9a15-ddcb51ca4b17"
      },
      "source": [
        "lr_model = LogisticRegression(max_iter=1000)\n",
        "pipeline_lr_model = Pipeline([(\"feature_transformator\",Transformer(quant_columns, cat_columns)),\n",
        "                              (\"lr_model\",lr_model)])"
      ],
      "execution_count": null,
      "outputs": [
        {
          "data": {
            "application/javascript": [
              "\n",
              "        if (window._pyforest_update_imports_cell) { window._pyforest_update_imports_cell('import matplotlib.pyplot as plt\\nfrom sklearn.preprocessing import OneHotEncoder\\nfrom scipy import stats\\nfrom sklearn.linear_model import LogisticRegression\\nfrom sklearn.preprocessing import MinMaxScaler'); }\n",
              "    "
            ],
            "text/plain": [
              "<IPython.core.display.Javascript object>"
            ]
          },
          "metadata": {},
          "output_type": "display_data"
        },
        {
          "data": {
            "application/javascript": [
              "\n",
              "        if (window._pyforest_update_imports_cell) { window._pyforest_update_imports_cell('import matplotlib.pyplot as plt\\nfrom sklearn.preprocessing import OneHotEncoder\\nfrom scipy import stats\\nfrom sklearn.linear_model import LogisticRegression\\nfrom sklearn.preprocessing import MinMaxScaler'); }\n",
              "    "
            ],
            "text/plain": [
              "<IPython.core.display.Javascript object>"
            ]
          },
          "metadata": {},
          "output_type": "display_data"
        },
        {
          "data": {
            "application/javascript": [
              "\n",
              "        if (window._pyforest_update_imports_cell) { window._pyforest_update_imports_cell('import matplotlib.pyplot as plt\\nfrom sklearn.preprocessing import OneHotEncoder\\nfrom scipy import stats\\nfrom sklearn.linear_model import LogisticRegression\\nfrom sklearn.preprocessing import MinMaxScaler'); }\n",
              "    "
            ],
            "text/plain": [
              "<IPython.core.display.Javascript object>"
            ]
          },
          "metadata": {},
          "output_type": "display_data"
        }
      ]
    },
    {
      "cell_type": "code",
      "metadata": {
        "colab": {
          "base_uri": "https://localhost:8080/",
          "height": 500
        },
        "id": "e-pqee85tllF",
        "outputId": "2490cc49-49d0-4b35-97e6-faba86233acd"
      },
      "source": [
        "roda_modelo(pipeline_lr_model, df_registro_clientes_targets)"
      ],
      "execution_count": null,
      "outputs": [
        {
          "name": "stdout",
          "output_type": "stream",
          "text": [
            "AUC 0.5848712650695135\n"
          ]
        },
        {
          "data": {
            "application/javascript": [
              "\n",
              "        if (window._pyforest_update_imports_cell) { window._pyforest_update_imports_cell('import matplotlib.pyplot as plt\\nfrom sklearn.preprocessing import OneHotEncoder\\nfrom scipy import stats\\nfrom sklearn.linear_model import LogisticRegression\\nfrom sklearn.preprocessing import MinMaxScaler'); }\n",
              "    "
            ],
            "text/plain": [
              "<IPython.core.display.Javascript object>"
            ]
          },
          "metadata": {},
          "output_type": "display_data"
        },
        {
          "name": "stdout",
          "output_type": "stream",
          "text": [
            "KS KstestResult(statistic=1.0, pvalue=0.0)\n"
          ]
        },
        {
          "data": {
            "application/javascript": [
              "\n",
              "        if (window._pyforest_update_imports_cell) { window._pyforest_update_imports_cell('import matplotlib.pyplot as plt\\nfrom sklearn.preprocessing import OneHotEncoder\\nfrom scipy import stats\\nfrom sklearn.linear_model import LogisticRegression\\nfrom sklearn.preprocessing import MinMaxScaler'); }\n",
              "    "
            ],
            "text/plain": [
              "<IPython.core.display.Javascript object>"
            ]
          },
          "metadata": {},
          "output_type": "display_data"
        },
        {
          "data": {
            "application/javascript": [
              "\n",
              "        if (window._pyforest_update_imports_cell) { window._pyforest_update_imports_cell('import matplotlib.pyplot as plt\\nfrom sklearn.preprocessing import OneHotEncoder\\nfrom scipy import stats\\nfrom sklearn.linear_model import LogisticRegression\\nfrom sklearn.preprocessing import MinMaxScaler'); }\n",
              "    "
            ],
            "text/plain": [
              "<IPython.core.display.Javascript object>"
            ]
          },
          "metadata": {},
          "output_type": "display_data"
        },
        {
          "data": {
            "image/png": "[encoded data removed]",
            "text/plain": [
              "<Figure size 432x288 with 2 Axes>"
            ]
          },
          "metadata": {},
          "output_type": "display_data"
        },
        {
          "name": "stdout",
          "output_type": "stream",
          "text": [
            "\n",
            "Classification Report\n",
            "              precision    recall  f1-score   support\n",
            "\n",
            "           0       0.98      1.00      0.99      5721\n",
            "           1       0.00      0.00      0.00       134\n",
            "\n",
            "    accuracy                           0.98      5855\n",
            "   macro avg       0.49      0.50      0.49      5855\n",
            "weighted avg       0.95      0.98      0.97      5855\n",
            "\n"
          ]
        }
      ]
    },
    {
      "cell_type": "markdown",
      "metadata": {
        "id": "nguDNrsqtqgd"
      },
      "source": [
        "Como pudemos ver acima nos dois modelos, o dummy e a Logistic Regression, temos um modelo *biased* quase 100% para bons clientes. O que é péssimo para o negócio, não podemos fornecer crédito para clientes que sabemos serem ruins e irão dar *default* nos pagamentos."
      ]
    },
    {
      "cell_type": "markdown",
      "metadata": {
        "id": "_EPPlPOPts-e"
      },
      "source": [
        "##Utlizando os métodos de Undersample e Oversample para tratar o desbalanceamento do Target"
      ]
    },
    {
      "cell_type": "markdown",
      "metadata": {
        "id": "_IhRfcIktuac"
      },
      "source": [
        "Começaremos utilizando duas técnicas tradicionais de tratamento Oversampling: \n",
        "- *RandomOverSampler*, método simples que consiste em duplicar as observações da classe minoritária de forma aletatória;\n",
        "- *SMOTE*, Synthetic Minority Over-sampling Technique, técnica que gera novas observações através da interposição de dados já existentes. "
      ]
    },
    {
      "cell_type": "code",
      "metadata": {
        "colab": {
          "base_uri": "https://localhost:8080/",
          "height": 17
        },
        "id": "nygQukljtwcM",
        "outputId": "904af62b-af8e-4e4b-c615-5353b9ac398d"
      },
      "source": [
        "#Criando um objeto de RandomForestClassifier para comparar desempenho com a Logistic Regression\n",
        "rf_clf_model = RandomForestClassifier()\n",
        "pipeline_rf_clf_model = Pipeline([(\"feature_transformator\",Transformer(quant_columns, cat_columns)),\n",
        "                              (\"rf_clf_model\",rf_clf_model)])"
      ],
      "execution_count": null,
      "outputs": [
        {
          "output_type": "display_data",
          "data": {
            "application/javascript": [
              "\n",
              "        if (window._pyforest_update_imports_cell) { window._pyforest_update_imports_cell('from sklearn.model_selection import cross_val_score\\nimport imutils\\nimport bokeh\\nimport matplotlib.pyplot as plt\\nfrom scipy import stats\\nfrom statsmodels.tsa.arima_model import ARIMA\\nfrom sklearn.feature_extraction.text import CountVectorizer\\nfrom sklearn.linear_model import LogisticRegression\\nfrom sklearn.preprocessing import MinMaxScaler\\nimport fbprophet\\nimport cv2\\nfrom sklearn.preprocessing import OneHotEncoder\\nfrom sklearn.ensemble import RandomForestClassifier\\nimport altair as alt\\nimport fastai'); }\n",
              "    "
            ],
            "text/plain": [
              "<IPython.core.display.Javascript object>"
            ]
          },
          "metadata": {}
        },
        {
          "output_type": "display_data",
          "data": {
            "application/javascript": [
              "\n",
              "        if (window._pyforest_update_imports_cell) { window._pyforest_update_imports_cell('from sklearn.model_selection import cross_val_score\\nimport imutils\\nimport bokeh\\nimport matplotlib.pyplot as plt\\nfrom scipy import stats\\nfrom statsmodels.tsa.arima_model import ARIMA\\nfrom sklearn.feature_extraction.text import CountVectorizer\\nfrom sklearn.linear_model import LogisticRegression\\nfrom sklearn.preprocessing import MinMaxScaler\\nimport fbprophet\\nimport cv2\\nfrom sklearn.preprocessing import OneHotEncoder\\nfrom sklearn.ensemble import RandomForestClassifier\\nimport altair as alt\\nimport fastai'); }\n",
              "    "
            ],
            "text/plain": [
              "<IPython.core.display.Javascript object>"
            ]
          },
          "metadata": {}
        },
        {
          "output_type": "display_data",
          "data": {
            "application/javascript": [
              "\n",
              "        if (window._pyforest_update_imports_cell) { window._pyforest_update_imports_cell('from sklearn.model_selection import cross_val_score\\nimport imutils\\nimport bokeh\\nimport matplotlib.pyplot as plt\\nfrom scipy import stats\\nfrom statsmodels.tsa.arima_model import ARIMA\\nfrom sklearn.feature_extraction.text import CountVectorizer\\nfrom sklearn.linear_model import LogisticRegression\\nfrom sklearn.preprocessing import MinMaxScaler\\nimport fbprophet\\nimport cv2\\nfrom sklearn.preprocessing import OneHotEncoder\\nfrom sklearn.ensemble import RandomForestClassifier\\nimport altair as alt\\nimport fastai'); }\n",
              "    "
            ],
            "text/plain": [
              "<IPython.core.display.Javascript object>"
            ]
          },
          "metadata": {}
        }
      ]
    },
    {
      "cell_type": "code",
      "metadata": {
        "colab": {
          "base_uri": "https://localhost:8080/",
          "height": 500
        },
        "id": "kNGzGU9AtyPd",
        "outputId": "89d89820-45ff-49a6-e52b-3a335d2aadaa"
      },
      "source": [
        "ovs = RandomOverSampler(random_state=5152)\n",
        "pipeline_ovs = Pipeline([('transformer', Transformer(quant_columns, cat_columns)),('ovs',ovs),(\"logistic_regression\",lr_model)])\n",
        "roda_modelo(pipeline_ovs, df_registro_clientes_targets)"
      ],
      "execution_count": null,
      "outputs": [
        {
          "data": {
            "application/javascript": [
              "\n",
              "        if (window._pyforest_update_imports_cell) { window._pyforest_update_imports_cell('import matplotlib.pyplot as plt\\nfrom sklearn.preprocessing import OneHotEncoder\\nfrom scipy import stats\\nfrom sklearn.linear_model import LogisticRegression\\nfrom sklearn.ensemble import RandomForestClassifier\\nfrom sklearn.preprocessing import MinMaxScaler'); }\n",
              "    "
            ],
            "text/plain": [
              "<IPython.core.display.Javascript object>"
            ]
          },
          "metadata": {},
          "output_type": "display_data"
        },
        {
          "data": {
            "application/javascript": [
              "\n",
              "        if (window._pyforest_update_imports_cell) { window._pyforest_update_imports_cell('import matplotlib.pyplot as plt\\nfrom sklearn.preprocessing import OneHotEncoder\\nfrom scipy import stats\\nfrom sklearn.linear_model import LogisticRegression\\nfrom sklearn.ensemble import RandomForestClassifier\\nfrom sklearn.preprocessing import MinMaxScaler'); }\n",
              "    "
            ],
            "text/plain": [
              "<IPython.core.display.Javascript object>"
            ]
          },
          "metadata": {},
          "output_type": "display_data"
        },
        {
          "name": "stdout",
          "output_type": "stream",
          "text": [
            "AUC 0.5812971064968812\n"
          ]
        },
        {
          "data": {
            "application/javascript": [
              "\n",
              "        if (window._pyforest_update_imports_cell) { window._pyforest_update_imports_cell('import matplotlib.pyplot as plt\\nfrom sklearn.preprocessing import OneHotEncoder\\nfrom scipy import stats\\nfrom sklearn.linear_model import LogisticRegression\\nfrom sklearn.ensemble import RandomForestClassifier\\nfrom sklearn.preprocessing import MinMaxScaler'); }\n",
              "    "
            ],
            "text/plain": [
              "<IPython.core.display.Javascript object>"
            ]
          },
          "metadata": {},
          "output_type": "display_data"
        },
        {
          "name": "stdout",
          "output_type": "stream",
          "text": [
            "KS KstestResult(statistic=0.1842869342442357, pvalue=2.8537316242840004e-87)\n"
          ]
        },
        {
          "data": {
            "application/javascript": [
              "\n",
              "        if (window._pyforest_update_imports_cell) { window._pyforest_update_imports_cell('import matplotlib.pyplot as plt\\nfrom sklearn.preprocessing import OneHotEncoder\\nfrom scipy import stats\\nfrom sklearn.linear_model import LogisticRegression\\nfrom sklearn.ensemble import RandomForestClassifier\\nfrom sklearn.preprocessing import MinMaxScaler'); }\n",
              "    "
            ],
            "text/plain": [
              "<IPython.core.display.Javascript object>"
            ]
          },
          "metadata": {},
          "output_type": "display_data"
        },
        {
          "data": {
            "application/javascript": [
              "\n",
              "        if (window._pyforest_update_imports_cell) { window._pyforest_update_imports_cell('import matplotlib.pyplot as plt\\nfrom sklearn.preprocessing import OneHotEncoder\\nfrom scipy import stats\\nfrom sklearn.linear_model import LogisticRegression\\nfrom sklearn.ensemble import RandomForestClassifier\\nfrom sklearn.preprocessing import MinMaxScaler'); }\n",
              "    "
            ],
            "text/plain": [
              "<IPython.core.display.Javascript object>"
            ]
          },
          "metadata": {},
          "output_type": "display_data"
        },
        {
          "data": {
            "image/png": "[encoded data removed]",
            "text/plain": [
              "<Figure size 432x288 with 2 Axes>"
            ]
          },
          "metadata": {},
          "output_type": "display_data"
        },
        {
          "name": "stdout",
          "output_type": "stream",
          "text": [
            "\n",
            "Classification Report\n",
            "              precision    recall  f1-score   support\n",
            "\n",
            "           0       0.98      0.57      0.72      5721\n",
            "           1       0.03      0.51      0.05       134\n",
            "\n",
            "    accuracy                           0.57      5855\n",
            "   macro avg       0.50      0.54      0.39      5855\n",
            "weighted avg       0.96      0.57      0.71      5855\n",
            "\n"
          ]
        }
      ]
    },
    {
      "cell_type": "code",
      "metadata": {
        "colab": {
          "base_uri": "https://localhost:8080/",
          "height": 500
        },
        "id": "qQeMc53ZtzoO",
        "outputId": "9e9b2e46-a603-46a9-f9e7-dde78e873774"
      },
      "source": [
        "pipeline_ovs2 = Pipeline([('transformer', Transformer(quant_columns, cat_columns)),('ovs',ovs),(\"rf_clf_model\",rf_clf_model)])\n",
        "roda_modelo(pipeline_ovs2, df_registro_clientes_targets)"
      ],
      "execution_count": null,
      "outputs": [
        {
          "data": {
            "application/javascript": [
              "\n",
              "        if (window._pyforest_update_imports_cell) { window._pyforest_update_imports_cell('import matplotlib.pyplot as plt\\nfrom sklearn.preprocessing import OneHotEncoder\\nfrom scipy import stats\\nfrom sklearn.linear_model import LogisticRegression\\nfrom sklearn.ensemble import RandomForestClassifier\\nfrom sklearn.preprocessing import MinMaxScaler'); }\n",
              "    "
            ],
            "text/plain": [
              "<IPython.core.display.Javascript object>"
            ]
          },
          "metadata": {},
          "output_type": "display_data"
        },
        {
          "data": {
            "application/javascript": [
              "\n",
              "        if (window._pyforest_update_imports_cell) { window._pyforest_update_imports_cell('import matplotlib.pyplot as plt\\nfrom sklearn.preprocessing import OneHotEncoder\\nfrom scipy import stats\\nfrom sklearn.linear_model import LogisticRegression\\nfrom sklearn.ensemble import RandomForestClassifier\\nfrom sklearn.preprocessing import MinMaxScaler'); }\n",
              "    "
            ],
            "text/plain": [
              "<IPython.core.display.Javascript object>"
            ]
          },
          "metadata": {},
          "output_type": "display_data"
        },
        {
          "name": "stdout",
          "output_type": "stream",
          "text": [
            "AUC 0.787996958051901\n"
          ]
        },
        {
          "data": {
            "application/javascript": [
              "\n",
              "        if (window._pyforest_update_imports_cell) { window._pyforest_update_imports_cell('import matplotlib.pyplot as plt\\nfrom sklearn.preprocessing import OneHotEncoder\\nfrom scipy import stats\\nfrom sklearn.linear_model import LogisticRegression\\nfrom sklearn.ensemble import RandomForestClassifier\\nfrom sklearn.preprocessing import MinMaxScaler'); }\n",
              "    "
            ],
            "text/plain": [
              "<IPython.core.display.Javascript object>"
            ]
          },
          "metadata": {},
          "output_type": "display_data"
        },
        {
          "name": "stdout",
          "output_type": "stream",
          "text": [
            "KS KstestResult(statistic=0.9330486763450043, pvalue=0.0)\n"
          ]
        },
        {
          "data": {
            "application/javascript": [
              "\n",
              "        if (window._pyforest_update_imports_cell) { window._pyforest_update_imports_cell('import matplotlib.pyplot as plt\\nfrom sklearn.preprocessing import OneHotEncoder\\nfrom scipy import stats\\nfrom sklearn.linear_model import LogisticRegression\\nfrom sklearn.ensemble import RandomForestClassifier\\nfrom sklearn.preprocessing import MinMaxScaler'); }\n",
              "    "
            ],
            "text/plain": [
              "<IPython.core.display.Javascript object>"
            ]
          },
          "metadata": {},
          "output_type": "display_data"
        },
        {
          "data": {
            "application/javascript": [
              "\n",
              "        if (window._pyforest_update_imports_cell) { window._pyforest_update_imports_cell('import matplotlib.pyplot as plt\\nfrom sklearn.preprocessing import OneHotEncoder\\nfrom scipy import stats\\nfrom sklearn.linear_model import LogisticRegression\\nfrom sklearn.ensemble import RandomForestClassifier\\nfrom sklearn.preprocessing import MinMaxScaler'); }\n",
              "    "
            ],
            "text/plain": [
              "<IPython.core.display.Javascript object>"
            ]
          },
          "metadata": {},
          "output_type": "display_data"
        },
        {
          "data": {
            "image/png": "[encoded data removed]",
            "text/plain": [
              "<Figure size 432x288 with 2 Axes>"
            ]
          },
          "metadata": {},
          "output_type": "display_data"
        },
        {
          "name": "stdout",
          "output_type": "stream",
          "text": [
            "\n",
            "Classification Report\n",
            "              precision    recall  f1-score   support\n",
            "\n",
            "           0       0.99      0.97      0.98      5721\n",
            "           1       0.26      0.39      0.31       134\n",
            "\n",
            "    accuracy                           0.96      5855\n",
            "   macro avg       0.62      0.68      0.65      5855\n",
            "weighted avg       0.97      0.96      0.96      5855\n",
            "\n"
          ]
        }
      ]
    },
    {
      "cell_type": "code",
      "metadata": {
        "colab": {
          "base_uri": "https://localhost:8080/",
          "height": 500
        },
        "id": "w3N9L2DSt1PW",
        "outputId": "7aa41c9f-adb4-46a3-9af8-52dd46541ea7"
      },
      "source": [
        "smt = SMOTE(sampling_strategy='not majority', n_jobs=8)\n",
        "pipeline_smt = Pipeline([('transformer', Transformer(quant_columns, cat_columns)),('smt',smt),(\"logistic_regression\",lr_model)])\n",
        "roda_modelo(pipeline_smt, df_registro_clientes_targets)"
      ],
      "execution_count": null,
      "outputs": [
        {
          "output_type": "display_data",
          "data": {
            "application/javascript": [
              "\n",
              "        if (window._pyforest_update_imports_cell) { window._pyforest_update_imports_cell('from sklearn.model_selection import cross_val_score\\nimport imutils\\nimport bokeh\\nimport matplotlib.pyplot as plt\\nfrom scipy import stats\\nfrom statsmodels.tsa.arima_model import ARIMA\\nfrom sklearn.feature_extraction.text import CountVectorizer\\nfrom sklearn.linear_model import LogisticRegression\\nfrom sklearn.preprocessing import MinMaxScaler\\nimport fbprophet\\nimport cv2\\nfrom sklearn.preprocessing import OneHotEncoder\\nfrom sklearn.ensemble import RandomForestClassifier\\nimport altair as alt\\nimport fastai'); }\n",
              "    "
            ],
            "text/plain": [
              "<IPython.core.display.Javascript object>"
            ]
          },
          "metadata": {}
        },
        {
          "output_type": "display_data",
          "data": {
            "application/javascript": [
              "\n",
              "        if (window._pyforest_update_imports_cell) { window._pyforest_update_imports_cell('from sklearn.model_selection import cross_val_score\\nimport imutils\\nimport bokeh\\nimport matplotlib.pyplot as plt\\nfrom scipy import stats\\nfrom statsmodels.tsa.arima_model import ARIMA\\nfrom sklearn.feature_extraction.text import CountVectorizer\\nfrom sklearn.linear_model import LogisticRegression\\nfrom sklearn.preprocessing import MinMaxScaler\\nimport fbprophet\\nimport cv2\\nfrom sklearn.preprocessing import OneHotEncoder\\nfrom sklearn.ensemble import RandomForestClassifier\\nimport altair as alt\\nimport fastai'); }\n",
              "    "
            ],
            "text/plain": [
              "<IPython.core.display.Javascript object>"
            ]
          },
          "metadata": {}
        },
        {
          "output_type": "stream",
          "name": "stdout",
          "text": [
            "AUC 0.5612518164291287\n"
          ]
        },
        {
          "output_type": "display_data",
          "data": {
            "application/javascript": [
              "\n",
              "        if (window._pyforest_update_imports_cell) { window._pyforest_update_imports_cell('from sklearn.model_selection import cross_val_score\\nimport imutils\\nimport bokeh\\nimport matplotlib.pyplot as plt\\nfrom scipy import stats\\nfrom statsmodels.tsa.arima_model import ARIMA\\nfrom sklearn.feature_extraction.text import CountVectorizer\\nfrom sklearn.linear_model import LogisticRegression\\nfrom sklearn.preprocessing import MinMaxScaler\\nimport fbprophet\\nimport cv2\\nfrom sklearn.preprocessing import OneHotEncoder\\nfrom sklearn.ensemble import RandomForestClassifier\\nimport altair as alt\\nimport fastai'); }\n",
              "    "
            ],
            "text/plain": [
              "<IPython.core.display.Javascript object>"
            ]
          },
          "metadata": {}
        },
        {
          "output_type": "stream",
          "name": "stdout",
          "text": [
            "KS KstestResult(statistic=0.1511528608027327, pvalue=9.707019070009226e-59)\n"
          ]
        },
        {
          "output_type": "display_data",
          "data": {
            "application/javascript": [
              "\n",
              "        if (window._pyforest_update_imports_cell) { window._pyforest_update_imports_cell('from sklearn.model_selection import cross_val_score\\nimport imutils\\nimport bokeh\\nimport matplotlib.pyplot as plt\\nfrom scipy import stats\\nfrom statsmodels.tsa.arima_model import ARIMA\\nfrom sklearn.feature_extraction.text import CountVectorizer\\nfrom sklearn.linear_model import LogisticRegression\\nfrom sklearn.preprocessing import MinMaxScaler\\nimport fbprophet\\nimport cv2\\nfrom sklearn.preprocessing import OneHotEncoder\\nfrom sklearn.ensemble import RandomForestClassifier\\nimport altair as alt\\nimport fastai'); }\n",
              "    "
            ],
            "text/plain": [
              "<IPython.core.display.Javascript object>"
            ]
          },
          "metadata": {}
        },
        {
          "output_type": "display_data",
          "data": {
            "application/javascript": [
              "\n",
              "        if (window._pyforest_update_imports_cell) { window._pyforest_update_imports_cell('from sklearn.model_selection import cross_val_score\\nimport imutils\\nimport bokeh\\nimport matplotlib.pyplot as plt\\nfrom scipy import stats\\nfrom statsmodels.tsa.arima_model import ARIMA\\nfrom sklearn.feature_extraction.text import CountVectorizer\\nfrom sklearn.linear_model import LogisticRegression\\nfrom sklearn.preprocessing import MinMaxScaler\\nimport fbprophet\\nimport cv2\\nfrom sklearn.preprocessing import OneHotEncoder\\nfrom sklearn.ensemble import RandomForestClassifier\\nimport altair as alt\\nimport fastai'); }\n",
              "    "
            ],
            "text/plain": [
              "<IPython.core.display.Javascript object>"
            ]
          },
          "metadata": {}
        },
        {
          "output_type": "display_data",
          "data": {
            "image/png": "[encoded data removed]",
            "text/plain": [
              "<Figure size 432x288 with 2 Axes>"
            ]
          },
          "metadata": {
            "needs_background": "light"
          }
        },
        {
          "output_type": "stream",
          "name": "stdout",
          "text": [
            "\n",
            "Classification Report\n",
            "              precision    recall  f1-score   support\n",
            "\n",
            "           0       0.98      0.54      0.70      5721\n",
            "           1       0.03      0.54      0.05       134\n",
            "\n",
            "    accuracy                           0.54      5855\n",
            "   macro avg       0.50      0.54      0.37      5855\n",
            "weighted avg       0.96      0.54      0.68      5855\n",
            "\n"
          ]
        }
      ]
    },
    {
      "cell_type": "code",
      "metadata": {
        "colab": {
          "base_uri": "https://localhost:8080/",
          "height": 500
        },
        "id": "ldYm4Vm-t2tT",
        "outputId": "d56d90e9-b6a4-4bec-8976-d0fa8df61a8d"
      },
      "source": [
        "pipeline_smt2 = Pipeline([('transformer', Transformer(quant_columns, cat_columns)),('smt',smt),(\"rf_clf_model\",rf_clf_model)])\n",
        "roda_modelo(pipeline_smt2, df_registro_clientes_targets)"
      ],
      "execution_count": null,
      "outputs": [
        {
          "data": {
            "application/javascript": [
              "\n",
              "        if (window._pyforest_update_imports_cell) { window._pyforest_update_imports_cell('import matplotlib.pyplot as plt\\nfrom sklearn.preprocessing import OneHotEncoder\\nfrom scipy import stats\\nfrom sklearn.linear_model import LogisticRegression\\nfrom sklearn.ensemble import RandomForestClassifier\\nfrom sklearn.preprocessing import MinMaxScaler'); }\n",
              "    "
            ],
            "text/plain": [
              "<IPython.core.display.Javascript object>"
            ]
          },
          "metadata": {},
          "output_type": "display_data"
        },
        {
          "data": {
            "application/javascript": [
              "\n",
              "        if (window._pyforest_update_imports_cell) { window._pyforest_update_imports_cell('import matplotlib.pyplot as plt\\nfrom sklearn.preprocessing import OneHotEncoder\\nfrom scipy import stats\\nfrom sklearn.linear_model import LogisticRegression\\nfrom sklearn.ensemble import RandomForestClassifier\\nfrom sklearn.preprocessing import MinMaxScaler'); }\n",
              "    "
            ],
            "text/plain": [
              "<IPython.core.display.Javascript object>"
            ]
          },
          "metadata": {},
          "output_type": "display_data"
        },
        {
          "name": "stdout",
          "output_type": "stream",
          "text": [
            "AUC 0.8126638699528054\n"
          ]
        },
        {
          "data": {
            "application/javascript": [
              "\n",
              "        if (window._pyforest_update_imports_cell) { window._pyforest_update_imports_cell('import matplotlib.pyplot as plt\\nfrom sklearn.preprocessing import OneHotEncoder\\nfrom scipy import stats\\nfrom sklearn.linear_model import LogisticRegression\\nfrom sklearn.ensemble import RandomForestClassifier\\nfrom sklearn.preprocessing import MinMaxScaler'); }\n",
              "    "
            ],
            "text/plain": [
              "<IPython.core.display.Javascript object>"
            ]
          },
          "metadata": {},
          "output_type": "display_data"
        },
        {
          "name": "stdout",
          "output_type": "stream",
          "text": [
            "KS KstestResult(statistic=0.965670367207515, pvalue=0.0)\n"
          ]
        },
        {
          "data": {
            "application/javascript": [
              "\n",
              "        if (window._pyforest_update_imports_cell) { window._pyforest_update_imports_cell('import matplotlib.pyplot as plt\\nfrom sklearn.preprocessing import OneHotEncoder\\nfrom scipy import stats\\nfrom sklearn.linear_model import LogisticRegression\\nfrom sklearn.ensemble import RandomForestClassifier\\nfrom sklearn.preprocessing import MinMaxScaler'); }\n",
              "    "
            ],
            "text/plain": [
              "<IPython.core.display.Javascript object>"
            ]
          },
          "metadata": {},
          "output_type": "display_data"
        },
        {
          "data": {
            "application/javascript": [
              "\n",
              "        if (window._pyforest_update_imports_cell) { window._pyforest_update_imports_cell('import matplotlib.pyplot as plt\\nfrom sklearn.preprocessing import OneHotEncoder\\nfrom scipy import stats\\nfrom sklearn.linear_model import LogisticRegression\\nfrom sklearn.ensemble import RandomForestClassifier\\nfrom sklearn.preprocessing import MinMaxScaler'); }\n",
              "    "
            ],
            "text/plain": [
              "<IPython.core.display.Javascript object>"
            ]
          },
          "metadata": {},
          "output_type": "display_data"
        },
        {
          "data": {
            "image/png": "[encoded data removed]",
            "text/plain": [
              "<Figure size 432x288 with 2 Axes>"
            ]
          },
          "metadata": {},
          "output_type": "display_data"
        },
        {
          "name": "stdout",
          "output_type": "stream",
          "text": [
            "\n",
            "Classification Report\n",
            "              precision    recall  f1-score   support\n",
            "\n",
            "           0       0.98      0.99      0.99      5721\n",
            "           1       0.36      0.28      0.31       134\n",
            "\n",
            "    accuracy                           0.97      5855\n",
            "   macro avg       0.67      0.63      0.65      5855\n",
            "weighted avg       0.97      0.97      0.97      5855\n",
            "\n"
          ]
        }
      ]
    },
    {
      "cell_type": "markdown",
      "metadata": {
        "id": "9JbKADbVt56l"
      },
      "source": [
        "Utilizando as duas técnicas acima e ser realizar hiperparametrização dos algoritmos já podemos ver um incremento na qualidade, apesar dos AUC's baixos, agora o modelo tem capacidade de prever corretamente os 'maus' no dataset.\n",
        "\n",
        "---\n",
        "Vamos agora aplicar métodos de undersampling para observar os resultados.\n",
        "\n",
        "- RandomUnderSampler: Assim como o RandomOverSampler, o método irá aleatoriamente selecionando amostras da classse majoritária para reduzi-la;\n",
        "- RepeatedEditedNearestNeighbours: Método que repete diversas vezers o algoritmo ENN.\n"
      ]
    },
    {
      "cell_type": "code",
      "metadata": {
        "colab": {
          "base_uri": "https://localhost:8080/",
          "height": 500
        },
        "id": "at7o9vLut4VN",
        "outputId": "d73cf771-4d0b-4685-afbc-eef42a552ebb"
      },
      "source": [
        "#RandomUnderSampler - under sampling randomizado\n",
        "uns = RandomUnderSampler(random_state=6510350)\n",
        "pipeline_uns = Pipeline([('transformer', Transformer(quant_columns, cat_columns)),('uns',uns),(\"logistic_regression\",lr_model)])\n",
        "roda_modelo(pipeline_uns, df_registro_clientes_targets)"
      ],
      "execution_count": null,
      "outputs": [
        {
          "output_type": "display_data",
          "data": {
            "application/javascript": [
              "\n",
              "        if (window._pyforest_update_imports_cell) { window._pyforest_update_imports_cell('from sklearn.model_selection import cross_val_score\\nimport imutils\\nimport bokeh\\nimport matplotlib.pyplot as plt\\nfrom scipy import stats\\nfrom statsmodels.tsa.arima_model import ARIMA\\nfrom sklearn.feature_extraction.text import CountVectorizer\\nfrom sklearn.linear_model import LogisticRegression\\nfrom sklearn.preprocessing import MinMaxScaler\\nimport fbprophet\\nimport cv2\\nfrom sklearn.preprocessing import OneHotEncoder\\nfrom sklearn.ensemble import RandomForestClassifier\\nimport altair as alt\\nimport fastai'); }\n",
              "    "
            ],
            "text/plain": [
              "<IPython.core.display.Javascript object>"
            ]
          },
          "metadata": {}
        },
        {
          "output_type": "display_data",
          "data": {
            "application/javascript": [
              "\n",
              "        if (window._pyforest_update_imports_cell) { window._pyforest_update_imports_cell('from sklearn.model_selection import cross_val_score\\nimport imutils\\nimport bokeh\\nimport matplotlib.pyplot as plt\\nfrom scipy import stats\\nfrom statsmodels.tsa.arima_model import ARIMA\\nfrom sklearn.feature_extraction.text import CountVectorizer\\nfrom sklearn.linear_model import LogisticRegression\\nfrom sklearn.preprocessing import MinMaxScaler\\nimport fbprophet\\nimport cv2\\nfrom sklearn.preprocessing import OneHotEncoder\\nfrom sklearn.ensemble import RandomForestClassifier\\nimport altair as alt\\nimport fastai'); }\n",
              "    "
            ],
            "text/plain": [
              "<IPython.core.display.Javascript object>"
            ]
          },
          "metadata": {}
        },
        {
          "output_type": "stream",
          "name": "stdout",
          "text": [
            "AUC 0.5529347233418643\n"
          ]
        },
        {
          "output_type": "display_data",
          "data": {
            "application/javascript": [
              "\n",
              "        if (window._pyforest_update_imports_cell) { window._pyforest_update_imports_cell('from sklearn.model_selection import cross_val_score\\nimport imutils\\nimport bokeh\\nimport matplotlib.pyplot as plt\\nfrom scipy import stats\\nfrom statsmodels.tsa.arima_model import ARIMA\\nfrom sklearn.feature_extraction.text import CountVectorizer\\nfrom sklearn.linear_model import LogisticRegression\\nfrom sklearn.preprocessing import MinMaxScaler\\nimport fbprophet\\nimport cv2\\nfrom sklearn.preprocessing import OneHotEncoder\\nfrom sklearn.ensemble import RandomForestClassifier\\nimport altair as alt\\nimport fastai'); }\n",
              "    "
            ],
            "text/plain": [
              "<IPython.core.display.Javascript object>"
            ]
          },
          "metadata": {}
        },
        {
          "output_type": "stream",
          "name": "stdout",
          "text": [
            "KS KstestResult(statistic=0.13151152860802734, pvalue=1.5805942048847062e-44)\n"
          ]
        },
        {
          "output_type": "display_data",
          "data": {
            "application/javascript": [
              "\n",
              "        if (window._pyforest_update_imports_cell) { window._pyforest_update_imports_cell('from sklearn.model_selection import cross_val_score\\nimport imutils\\nimport bokeh\\nimport matplotlib.pyplot as plt\\nfrom scipy import stats\\nfrom statsmodels.tsa.arima_model import ARIMA\\nfrom sklearn.feature_extraction.text import CountVectorizer\\nfrom sklearn.linear_model import LogisticRegression\\nfrom sklearn.preprocessing import MinMaxScaler\\nimport fbprophet\\nimport cv2\\nfrom sklearn.preprocessing import OneHotEncoder\\nfrom sklearn.ensemble import RandomForestClassifier\\nimport altair as alt\\nimport fastai'); }\n",
              "    "
            ],
            "text/plain": [
              "<IPython.core.display.Javascript object>"
            ]
          },
          "metadata": {}
        },
        {
          "output_type": "display_data",
          "data": {
            "application/javascript": [
              "\n",
              "        if (window._pyforest_update_imports_cell) { window._pyforest_update_imports_cell('from sklearn.model_selection import cross_val_score\\nimport imutils\\nimport bokeh\\nimport matplotlib.pyplot as plt\\nfrom scipy import stats\\nfrom statsmodels.tsa.arima_model import ARIMA\\nfrom sklearn.feature_extraction.text import CountVectorizer\\nfrom sklearn.linear_model import LogisticRegression\\nfrom sklearn.preprocessing import MinMaxScaler\\nimport fbprophet\\nimport cv2\\nfrom sklearn.preprocessing import OneHotEncoder\\nfrom sklearn.ensemble import RandomForestClassifier\\nimport altair as alt\\nimport fastai'); }\n",
              "    "
            ],
            "text/plain": [
              "<IPython.core.display.Javascript object>"
            ]
          },
          "metadata": {}
        },
        {
          "output_type": "display_data",
          "data": {
            "image/png": "[encoded data removed]",
            "text/plain": [
              "<Figure size 432x288 with 2 Axes>"
            ]
          },
          "metadata": {
            "needs_background": "light"
          }
        },
        {
          "output_type": "stream",
          "name": "stdout",
          "text": [
            "\n",
            "Classification Report\n",
            "              precision    recall  f1-score   support\n",
            "\n",
            "           0       0.98      0.54      0.70      5721\n",
            "           1       0.02      0.47      0.04       134\n",
            "\n",
            "    accuracy                           0.54      5855\n",
            "   macro avg       0.50      0.51      0.37      5855\n",
            "weighted avg       0.96      0.54      0.68      5855\n",
            "\n"
          ]
        }
      ]
    },
    {
      "cell_type": "code",
      "metadata": {
        "colab": {
          "base_uri": "https://localhost:8080/",
          "height": 500
        },
        "id": "OhmmlFeZt7n-",
        "outputId": "652db6bb-3839-4d19-e2ef-1bce25aeb6bf"
      },
      "source": [
        "pipeline_uns2 = Pipeline([('transformer', Transformer(quant_columns, cat_columns)),('uns',uns),(\"rf_clf_model\",rf_clf_model)])\n",
        "roda_modelo(pipeline_uns2, df_registro_clientes_targets)"
      ],
      "execution_count": null,
      "outputs": [
        {
          "data": {
            "application/javascript": [
              "\n",
              "        if (window._pyforest_update_imports_cell) { window._pyforest_update_imports_cell('import matplotlib.pyplot as plt\\nfrom sklearn.preprocessing import OneHotEncoder\\nfrom scipy import stats\\nfrom sklearn.linear_model import LogisticRegression\\nfrom sklearn.ensemble import RandomForestClassifier\\nfrom sklearn.preprocessing import MinMaxScaler'); }\n",
              "    "
            ],
            "text/plain": [
              "<IPython.core.display.Javascript object>"
            ]
          },
          "metadata": {},
          "output_type": "display_data"
        },
        {
          "data": {
            "application/javascript": [
              "\n",
              "        if (window._pyforest_update_imports_cell) { window._pyforest_update_imports_cell('import matplotlib.pyplot as plt\\nfrom sklearn.preprocessing import OneHotEncoder\\nfrom scipy import stats\\nfrom sklearn.linear_model import LogisticRegression\\nfrom sklearn.ensemble import RandomForestClassifier\\nfrom sklearn.preprocessing import MinMaxScaler'); }\n",
              "    "
            ],
            "text/plain": [
              "<IPython.core.display.Javascript object>"
            ]
          },
          "metadata": {},
          "output_type": "display_data"
        },
        {
          "name": "stdout",
          "output_type": "stream",
          "text": [
            "AUC 0.7253272181306367\n"
          ]
        },
        {
          "data": {
            "application/javascript": [
              "\n",
              "        if (window._pyforest_update_imports_cell) { window._pyforest_update_imports_cell('import matplotlib.pyplot as plt\\nfrom sklearn.preprocessing import OneHotEncoder\\nfrom scipy import stats\\nfrom sklearn.linear_model import LogisticRegression\\nfrom sklearn.ensemble import RandomForestClassifier\\nfrom sklearn.preprocessing import MinMaxScaler'); }\n",
              "    "
            ],
            "text/plain": [
              "<IPython.core.display.Javascript object>"
            ]
          },
          "metadata": {},
          "output_type": "display_data"
        },
        {
          "name": "stdout",
          "output_type": "stream",
          "text": [
            "KS KstestResult(statistic=0.3496157130657558, pvalue=7.201274e-318)\n"
          ]
        },
        {
          "data": {
            "application/javascript": [
              "\n",
              "        if (window._pyforest_update_imports_cell) { window._pyforest_update_imports_cell('import matplotlib.pyplot as plt\\nfrom sklearn.preprocessing import OneHotEncoder\\nfrom scipy import stats\\nfrom sklearn.linear_model import LogisticRegression\\nfrom sklearn.ensemble import RandomForestClassifier\\nfrom sklearn.preprocessing import MinMaxScaler'); }\n",
              "    "
            ],
            "text/plain": [
              "<IPython.core.display.Javascript object>"
            ]
          },
          "metadata": {},
          "output_type": "display_data"
        },
        {
          "data": {
            "application/javascript": [
              "\n",
              "        if (window._pyforest_update_imports_cell) { window._pyforest_update_imports_cell('import matplotlib.pyplot as plt\\nfrom sklearn.preprocessing import OneHotEncoder\\nfrom scipy import stats\\nfrom sklearn.linear_model import LogisticRegression\\nfrom sklearn.ensemble import RandomForestClassifier\\nfrom sklearn.preprocessing import MinMaxScaler'); }\n",
              "    "
            ],
            "text/plain": [
              "<IPython.core.display.Javascript object>"
            ]
          },
          "metadata": {},
          "output_type": "display_data"
        },
        {
          "data": {
            "image/png": "[encoded data removed]",
            "text/plain": [
              "<Figure size 432x288 with 2 Axes>"
            ]
          },
          "metadata": {},
          "output_type": "display_data"
        },
        {
          "name": "stdout",
          "output_type": "stream",
          "text": [
            "\n",
            "Classification Report\n",
            "              precision    recall  f1-score   support\n",
            "\n",
            "           0       0.99      0.69      0.81      5721\n",
            "           1       0.05      0.67      0.09       134\n",
            "\n",
            "    accuracy                           0.69      5855\n",
            "   macro avg       0.52      0.68      0.45      5855\n",
            "weighted avg       0.97      0.69      0.80      5855\n",
            "\n"
          ]
        }
      ]
    },
    {
      "cell_type": "code",
      "metadata": {
        "colab": {
          "base_uri": "https://localhost:8080/",
          "height": 500
        },
        "id": "hsswMjhdt9KJ",
        "outputId": "58925d76-12a3-47e7-8cfe-2c76b1a046fe"
      },
      "source": [
        "renn = RepeatedEditedNearestNeighbours(max_iter=1000)\n",
        "pipeline_renn = Pipeline([('transformer', Transformer(quant_columns, cat_columns)),('renn',renn),(\"logistic_regression\",lr_model)])\n",
        "roda_modelo(pipeline_renn, df_registro_clientes_targets)"
      ],
      "execution_count": null,
      "outputs": [
        {
          "data": {
            "application/javascript": [
              "\n",
              "        if (window._pyforest_update_imports_cell) { window._pyforest_update_imports_cell('import matplotlib.pyplot as plt\\nfrom sklearn.preprocessing import OneHotEncoder\\nfrom scipy import stats\\nfrom sklearn.linear_model import LogisticRegression\\nfrom sklearn.ensemble import RandomForestClassifier\\nfrom sklearn.preprocessing import MinMaxScaler'); }\n",
              "    "
            ],
            "text/plain": [
              "<IPython.core.display.Javascript object>"
            ]
          },
          "metadata": {},
          "output_type": "display_data"
        },
        {
          "data": {
            "application/javascript": [
              "\n",
              "        if (window._pyforest_update_imports_cell) { window._pyforest_update_imports_cell('import matplotlib.pyplot as plt\\nfrom sklearn.preprocessing import OneHotEncoder\\nfrom scipy import stats\\nfrom sklearn.linear_model import LogisticRegression\\nfrom sklearn.ensemble import RandomForestClassifier\\nfrom sklearn.preprocessing import MinMaxScaler'); }\n",
              "    "
            ],
            "text/plain": [
              "<IPython.core.display.Javascript object>"
            ]
          },
          "metadata": {},
          "output_type": "display_data"
        },
        {
          "name": "stdout",
          "output_type": "stream",
          "text": [
            "AUC 0.5841812176662571\n"
          ]
        },
        {
          "data": {
            "application/javascript": [
              "\n",
              "        if (window._pyforest_update_imports_cell) { window._pyforest_update_imports_cell('import matplotlib.pyplot as plt\\nfrom sklearn.preprocessing import OneHotEncoder\\nfrom scipy import stats\\nfrom sklearn.linear_model import LogisticRegression\\nfrom sklearn.ensemble import RandomForestClassifier\\nfrom sklearn.preprocessing import MinMaxScaler'); }\n",
              "    "
            ],
            "text/plain": [
              "<IPython.core.display.Javascript object>"
            ]
          },
          "metadata": {},
          "output_type": "display_data"
        },
        {
          "name": "stdout",
          "output_type": "stream",
          "text": [
            "KS KstestResult(statistic=1.0, pvalue=0.0)\n"
          ]
        },
        {
          "data": {
            "application/javascript": [
              "\n",
              "        if (window._pyforest_update_imports_cell) { window._pyforest_update_imports_cell('import matplotlib.pyplot as plt\\nfrom sklearn.preprocessing import OneHotEncoder\\nfrom scipy import stats\\nfrom sklearn.linear_model import LogisticRegression\\nfrom sklearn.ensemble import RandomForestClassifier\\nfrom sklearn.preprocessing import MinMaxScaler'); }\n",
              "    "
            ],
            "text/plain": [
              "<IPython.core.display.Javascript object>"
            ]
          },
          "metadata": {},
          "output_type": "display_data"
        },
        {
          "data": {
            "application/javascript": [
              "\n",
              "        if (window._pyforest_update_imports_cell) { window._pyforest_update_imports_cell('import matplotlib.pyplot as plt\\nfrom sklearn.preprocessing import OneHotEncoder\\nfrom scipy import stats\\nfrom sklearn.linear_model import LogisticRegression\\nfrom sklearn.ensemble import RandomForestClassifier\\nfrom sklearn.preprocessing import MinMaxScaler'); }\n",
              "    "
            ],
            "text/plain": [
              "<IPython.core.display.Javascript object>"
            ]
          },
          "metadata": {},
          "output_type": "display_data"
        },
        {
          "data": {
            "image/png": "[encoded data removed]",
            "text/plain": [
              "<Figure size 432x288 with 2 Axes>"
            ]
          },
          "metadata": {},
          "output_type": "display_data"
        },
        {
          "name": "stdout",
          "output_type": "stream",
          "text": [
            "\n",
            "Classification Report\n",
            "              precision    recall  f1-score   support\n",
            "\n",
            "           0       0.98      1.00      0.99      5721\n",
            "           1       0.00      0.00      0.00       134\n",
            "\n",
            "    accuracy                           0.98      5855\n",
            "   macro avg       0.49      0.50      0.49      5855\n",
            "weighted avg       0.95      0.98      0.97      5855\n",
            "\n"
          ]
        }
      ]
    },
    {
      "cell_type": "markdown",
      "metadata": {
        "id": "2jCr88oMuAKV"
      },
      "source": [
        "Para nossa surpresa apesar da sofisticação do modelo RENN, sua performance foi semelhance a se tivéssemos simplesmente aplicado a Regressão Logística.\n",
        "\n",
        "---\n",
        "Ainda buscando melhores performances vamos utilizar métodos **combinados** e depois **ensembled** de sampling e observar os resultados.\n"
      ]
    },
    {
      "cell_type": "code",
      "metadata": {
        "colab": {
          "base_uri": "https://localhost:8080/",
          "height": 500
        },
        "id": "FeHqYxuRt-q8",
        "outputId": "7dfb627b-0cdc-4f2b-d4e7-1dc167c92216"
      },
      "source": [
        "smk = SMOTETomek(random_state=89456) #combinação de under e over sample, entender melhor sobre\n",
        "pipeline_smk = Pipeline([('transformer', Transformer(quant_columns, cat_columns)),('smk',smk),(\"logistic_regression\",lr_model)])\n",
        "roda_modelo(pipeline_smk, df_registro_clientes_targets)"
      ],
      "execution_count": null,
      "outputs": [
        {
          "output_type": "display_data",
          "data": {
            "application/javascript": [
              "\n",
              "        if (window._pyforest_update_imports_cell) { window._pyforest_update_imports_cell('from sklearn.model_selection import cross_val_score\\nimport imutils\\nimport bokeh\\nimport matplotlib.pyplot as plt\\nfrom scipy import stats\\nfrom statsmodels.tsa.arima_model import ARIMA\\nfrom sklearn.feature_extraction.text import CountVectorizer\\nfrom sklearn.linear_model import LogisticRegression\\nfrom sklearn.preprocessing import MinMaxScaler\\nimport fbprophet\\nimport cv2\\nfrom sklearn.preprocessing import OneHotEncoder\\nfrom sklearn.ensemble import RandomForestClassifier\\nimport altair as alt\\nimport fastai'); }\n",
              "    "
            ],
            "text/plain": [
              "<IPython.core.display.Javascript object>"
            ]
          },
          "metadata": {}
        },
        {
          "output_type": "display_data",
          "data": {
            "application/javascript": [
              "\n",
              "        if (window._pyforest_update_imports_cell) { window._pyforest_update_imports_cell('from sklearn.model_selection import cross_val_score\\nimport imutils\\nimport bokeh\\nimport matplotlib.pyplot as plt\\nfrom scipy import stats\\nfrom statsmodels.tsa.arima_model import ARIMA\\nfrom sklearn.feature_extraction.text import CountVectorizer\\nfrom sklearn.linear_model import LogisticRegression\\nfrom sklearn.preprocessing import MinMaxScaler\\nimport fbprophet\\nimport cv2\\nfrom sklearn.preprocessing import OneHotEncoder\\nfrom sklearn.ensemble import RandomForestClassifier\\nimport altair as alt\\nimport fastai'); }\n",
              "    "
            ],
            "text/plain": [
              "<IPython.core.display.Javascript object>"
            ]
          },
          "metadata": {}
        },
        {
          "output_type": "stream",
          "name": "stdout",
          "text": [
            "AUC 0.5575067765524762\n"
          ]
        },
        {
          "output_type": "display_data",
          "data": {
            "application/javascript": [
              "\n",
              "        if (window._pyforest_update_imports_cell) { window._pyforest_update_imports_cell('from sklearn.model_selection import cross_val_score\\nimport imutils\\nimport bokeh\\nimport matplotlib.pyplot as plt\\nfrom scipy import stats\\nfrom statsmodels.tsa.arima_model import ARIMA\\nfrom sklearn.feature_extraction.text import CountVectorizer\\nfrom sklearn.linear_model import LogisticRegression\\nfrom sklearn.preprocessing import MinMaxScaler\\nimport fbprophet\\nimport cv2\\nfrom sklearn.preprocessing import OneHotEncoder\\nfrom sklearn.ensemble import RandomForestClassifier\\nimport altair as alt\\nimport fastai'); }\n",
              "    "
            ],
            "text/plain": [
              "<IPython.core.display.Javascript object>"
            ]
          },
          "metadata": {}
        },
        {
          "output_type": "stream",
          "name": "stdout",
          "text": [
            "KS KstestResult(statistic=0.15046968403074296, pvalue=3.273705940313759e-58)\n"
          ]
        },
        {
          "output_type": "display_data",
          "data": {
            "application/javascript": [
              "\n",
              "        if (window._pyforest_update_imports_cell) { window._pyforest_update_imports_cell('from sklearn.model_selection import cross_val_score\\nimport imutils\\nimport bokeh\\nimport matplotlib.pyplot as plt\\nfrom scipy import stats\\nfrom statsmodels.tsa.arima_model import ARIMA\\nfrom sklearn.feature_extraction.text import CountVectorizer\\nfrom sklearn.linear_model import LogisticRegression\\nfrom sklearn.preprocessing import MinMaxScaler\\nimport fbprophet\\nimport cv2\\nfrom sklearn.preprocessing import OneHotEncoder\\nfrom sklearn.ensemble import RandomForestClassifier\\nimport altair as alt\\nimport fastai'); }\n",
              "    "
            ],
            "text/plain": [
              "<IPython.core.display.Javascript object>"
            ]
          },
          "metadata": {}
        },
        {
          "output_type": "display_data",
          "data": {
            "application/javascript": [
              "\n",
              "        if (window._pyforest_update_imports_cell) { window._pyforest_update_imports_cell('from sklearn.model_selection import cross_val_score\\nimport imutils\\nimport bokeh\\nimport matplotlib.pyplot as plt\\nfrom scipy import stats\\nfrom statsmodels.tsa.arima_model import ARIMA\\nfrom sklearn.feature_extraction.text import CountVectorizer\\nfrom sklearn.linear_model import LogisticRegression\\nfrom sklearn.preprocessing import MinMaxScaler\\nimport fbprophet\\nimport cv2\\nfrom sklearn.preprocessing import OneHotEncoder\\nfrom sklearn.ensemble import RandomForestClassifier\\nimport altair as alt\\nimport fastai'); }\n",
              "    "
            ],
            "text/plain": [
              "<IPython.core.display.Javascript object>"
            ]
          },
          "metadata": {}
        },
        {
          "output_type": "display_data",
          "data": {
            "image/png": "[encoded data removed]",
            "text/plain": [
              "<Figure size 432x288 with 2 Axes>"
            ]
          },
          "metadata": {
            "needs_background": "light"
          }
        },
        {
          "output_type": "stream",
          "name": "stdout",
          "text": [
            "\n",
            "Classification Report\n",
            "              precision    recall  f1-score   support\n",
            "\n",
            "           0       0.98      0.53      0.69      5721\n",
            "           1       0.03      0.56      0.05       134\n",
            "\n",
            "    accuracy                           0.53      5855\n",
            "   macro avg       0.50      0.55      0.37      5855\n",
            "weighted avg       0.96      0.53      0.68      5855\n",
            "\n"
          ]
        }
      ]
    },
    {
      "cell_type": "code",
      "metadata": {
        "colab": {
          "base_uri": "https://localhost:8080/",
          "height": 500
        },
        "id": "h03C0X2zuCHc",
        "outputId": "6dc0393b-5663-4ec5-9540-00d32dc9bbb0"
      },
      "source": [
        "pipeline_smk2 = Pipeline([('transformer', Transformer(quant_columns, cat_columns)),('smk',smk),(\"rf_clf_model\",rf_clf_model)])\n",
        "roda_modelo(pipeline_smk2, df_registro_clientes_targets)"
      ],
      "execution_count": null,
      "outputs": [
        {
          "data": {
            "application/javascript": [
              "\n",
              "        if (window._pyforest_update_imports_cell) { window._pyforest_update_imports_cell('import matplotlib.pyplot as plt\\nfrom sklearn.preprocessing import OneHotEncoder\\nfrom scipy import stats\\nfrom sklearn.linear_model import LogisticRegression\\nfrom sklearn.ensemble import RandomForestClassifier\\nfrom sklearn.preprocessing import MinMaxScaler'); }\n",
              "    "
            ],
            "text/plain": [
              "<IPython.core.display.Javascript object>"
            ]
          },
          "metadata": {},
          "output_type": "display_data"
        },
        {
          "data": {
            "application/javascript": [
              "\n",
              "        if (window._pyforest_update_imports_cell) { window._pyforest_update_imports_cell('import matplotlib.pyplot as plt\\nfrom sklearn.preprocessing import OneHotEncoder\\nfrom scipy import stats\\nfrom sklearn.linear_model import LogisticRegression\\nfrom sklearn.ensemble import RandomForestClassifier\\nfrom sklearn.preprocessing import MinMaxScaler'); }\n",
              "    "
            ],
            "text/plain": [
              "<IPython.core.display.Javascript object>"
            ]
          },
          "metadata": {},
          "output_type": "display_data"
        },
        {
          "name": "stdout",
          "output_type": "stream",
          "text": [
            "AUC 0.8080624668998999\n"
          ]
        },
        {
          "data": {
            "application/javascript": [
              "\n",
              "        if (window._pyforest_update_imports_cell) { window._pyforest_update_imports_cell('import matplotlib.pyplot as plt\\nfrom sklearn.preprocessing import OneHotEncoder\\nfrom scipy import stats\\nfrom sklearn.linear_model import LogisticRegression\\nfrom sklearn.ensemble import RandomForestClassifier\\nfrom sklearn.preprocessing import MinMaxScaler'); }\n",
              "    "
            ],
            "text/plain": [
              "<IPython.core.display.Javascript object>"
            ]
          },
          "metadata": {},
          "output_type": "display_data"
        },
        {
          "name": "stdout",
          "output_type": "stream",
          "text": [
            "KS KstestResult(statistic=0.9637916310845431, pvalue=0.0)\n"
          ]
        },
        {
          "data": {
            "application/javascript": [
              "\n",
              "        if (window._pyforest_update_imports_cell) { window._pyforest_update_imports_cell('import matplotlib.pyplot as plt\\nfrom sklearn.preprocessing import OneHotEncoder\\nfrom scipy import stats\\nfrom sklearn.linear_model import LogisticRegression\\nfrom sklearn.ensemble import RandomForestClassifier\\nfrom sklearn.preprocessing import MinMaxScaler'); }\n",
              "    "
            ],
            "text/plain": [
              "<IPython.core.display.Javascript object>"
            ]
          },
          "metadata": {},
          "output_type": "display_data"
        },
        {
          "data": {
            "application/javascript": [
              "\n",
              "        if (window._pyforest_update_imports_cell) { window._pyforest_update_imports_cell('import matplotlib.pyplot as plt\\nfrom sklearn.preprocessing import OneHotEncoder\\nfrom scipy import stats\\nfrom sklearn.linear_model import LogisticRegression\\nfrom sklearn.ensemble import RandomForestClassifier\\nfrom sklearn.preprocessing import MinMaxScaler'); }\n",
              "    "
            ],
            "text/plain": [
              "<IPython.core.display.Javascript object>"
            ]
          },
          "metadata": {},
          "output_type": "display_data"
        },
        {
          "data": {
            "image/png": "[encoded data removed]",
            "text/plain": [
              "<Figure size 432x288 with 2 Axes>"
            ]
          },
          "metadata": {},
          "output_type": "display_data"
        },
        {
          "name": "stdout",
          "output_type": "stream",
          "text": [
            "\n",
            "Classification Report\n",
            "              precision    recall  f1-score   support\n",
            "\n",
            "           0       0.98      0.99      0.99      5721\n",
            "           1       0.37      0.29      0.33       134\n",
            "\n",
            "    accuracy                           0.97      5855\n",
            "   macro avg       0.68      0.64      0.66      5855\n",
            "weighted avg       0.97      0.97      0.97      5855\n",
            "\n"
          ]
        }
      ]
    },
    {
      "cell_type": "code",
      "metadata": {
        "colab": {
          "base_uri": "https://localhost:8080/",
          "height": 500
        },
        "id": "y1jV2m16uDf7",
        "outputId": "e8693101-bfd6-470e-e116-c8a4e0bf9ac6"
      },
      "source": [
        "#Ensembled Method\n",
        "b_rf_clf = BalancedRandomForestClassifier(random_state=8012587)\n",
        "pipeline_b_rf_clf = Pipeline([('transformer', Transformer(quant_columns, cat_columns)),('b_rf_clf',b_rf_clf)])\n",
        "roda_modelo(pipeline_b_rf_clf, df_registro_clientes_targets)"
      ],
      "execution_count": null,
      "outputs": [
        {
          "output_type": "display_data",
          "data": {
            "application/javascript": [
              "\n",
              "        if (window._pyforest_update_imports_cell) { window._pyforest_update_imports_cell('import imutils\\nfrom sklearn.preprocessing import MinMaxScaler\\nfrom sklearn.linear_model import LogisticRegression\\nimport fbprophet\\nfrom sklearn.preprocessing import OneHotEncoder\\nfrom sklearn.ensemble import RandomForestClassifier\\nimport fastai'); }\n",
              "    "
            ],
            "text/plain": [
              "<IPython.core.display.Javascript object>"
            ]
          },
          "metadata": {}
        },
        {
          "output_type": "display_data",
          "data": {
            "application/javascript": [
              "\n",
              "        if (window._pyforest_update_imports_cell) { window._pyforest_update_imports_cell('import imutils\\nfrom sklearn.preprocessing import MinMaxScaler\\nfrom sklearn.linear_model import LogisticRegression\\nimport fbprophet\\nfrom sklearn.preprocessing import OneHotEncoder\\nfrom sklearn.ensemble import RandomForestClassifier\\nimport fastai'); }\n",
              "    "
            ],
            "text/plain": [
              "<IPython.core.display.Javascript object>"
            ]
          },
          "metadata": {}
        },
        {
          "output_type": "stream",
          "name": "stdout",
          "text": [
            "AUC 0.7672583594873039\n"
          ]
        },
        {
          "output_type": "display_data",
          "data": {
            "application/javascript": [
              "\n",
              "        if (window._pyforest_update_imports_cell) { window._pyforest_update_imports_cell('import imutils\\nfrom scipy import stats\\nfrom sklearn.preprocessing import MinMaxScaler\\nfrom sklearn.linear_model import LogisticRegression\\nimport fbprophet\\nfrom sklearn.preprocessing import OneHotEncoder\\nfrom sklearn.ensemble import RandomForestClassifier\\nimport fastai'); }\n",
              "    "
            ],
            "text/plain": [
              "<IPython.core.display.Javascript object>"
            ]
          },
          "metadata": {}
        },
        {
          "output_type": "stream",
          "name": "stdout",
          "text": [
            "KS KstestResult(statistic=0.4763450042698548, pvalue=0.0)\n"
          ]
        },
        {
          "output_type": "display_data",
          "data": {
            "application/javascript": [
              "\n",
              "        if (window._pyforest_update_imports_cell) { window._pyforest_update_imports_cell('import imutils\\nfrom scipy import stats\\nimport matplotlib.pyplot as plt\\nfrom sklearn.linear_model import LogisticRegression\\nfrom sklearn.preprocessing import MinMaxScaler\\nimport fbprophet\\nfrom sklearn.preprocessing import OneHotEncoder\\nfrom sklearn.ensemble import RandomForestClassifier\\nimport fastai'); }\n",
              "    "
            ],
            "text/plain": [
              "<IPython.core.display.Javascript object>"
            ]
          },
          "metadata": {}
        },
        {
          "output_type": "display_data",
          "data": {
            "application/javascript": [
              "\n",
              "        if (window._pyforest_update_imports_cell) { window._pyforest_update_imports_cell('import imutils\\nfrom scipy import stats\\nimport matplotlib.pyplot as plt\\nfrom sklearn.linear_model import LogisticRegression\\nfrom sklearn.preprocessing import MinMaxScaler\\nimport fbprophet\\nfrom sklearn.preprocessing import OneHotEncoder\\nfrom sklearn.ensemble import RandomForestClassifier\\nimport fastai'); }\n",
              "    "
            ],
            "text/plain": [
              "<IPython.core.display.Javascript object>"
            ]
          },
          "metadata": {}
        },
        {
          "output_type": "display_data",
          "data": {
            "image/png": "[encoded data removed]",
            "text/plain": [
              "<Figure size 432x288 with 2 Axes>"
            ]
          },
          "metadata": {
            "needs_background": "light"
          }
        },
        {
          "output_type": "stream",
          "name": "stdout",
          "text": [
            "\n",
            "Classification Report\n",
            "              precision    recall  f1-score   support\n",
            "\n",
            "           0       0.99      0.75      0.85      5721\n",
            "           1       0.06      0.65      0.11       134\n",
            "\n",
            "    accuracy                           0.75      5855\n",
            "   macro avg       0.52      0.70      0.48      5855\n",
            "weighted avg       0.97      0.75      0.84      5855\n",
            "\n"
          ]
        }
      ]
    },
    {
      "cell_type": "markdown",
      "metadata": {
        "id": "feZiV4bwyEMp"
      },
      "source": [
        "Nessa primeira avaliação, já identificamos que a realização de Oversampling nos dados e a utilização do ensemble method 'BalancedRandomForestClassifier' realmente proporcionaram ganhos de perfomance para os modelos e começaram a fazer com que eles identifiquem os 'maus' pagadores que como já explicitado nas notas sobre PDD são muito importante de serem evitados."
      ]
    },
    {
      "cell_type": "markdown",
      "metadata": {
        "id": "v8lDqP3CygTO"
      },
      "source": [
        "#Aplicação de métodos de busca automática por bons modelos e hiperparametrização\n",
        "\n",
        "---\n",
        "Nesta seção iremos explorar duas bibliotecas de busca por modelos que melhor performem em nossos dados:\n",
        "\n",
        "- Lazypredict - biblioteca mais simples que simplesmente roda vários algoritmos de uma só vez, computa e plota as melhores métricas para comparação;\n",
        "- Pycaret - biblioteca *low_code* completa para Machine Learning, com apenas algumas linhas de código ela é capaz de realizar todo o pipeline de Machine Learning no dataset e testar vários modelos e métricas de uma só vez, possibilita inclusive salvar os modelos output de seu processo.\n"
      ]
    },
    {
      "cell_type": "code",
      "metadata": {
        "id": "LZscmPivuFsn"
      },
      "source": [
        "SEED_2 = 9821300\n",
        "model_clf_lazy_predict = LazyClassifier()\n",
        "def roda_lazy_predict(model, data, imb_learn_model):\n",
        "\n",
        "  x = data.drop(['id_cliente', 'mau'], axis=1)\n",
        "  y = data['mau']\n",
        "\n",
        "  enc.fit(x[cat_columns])\n",
        "  scaler.fit(x[quant_columns])\n",
        "\n",
        "  x_categoricals = pd.DataFrame(data=enc.transform(x[cat_columns]).toarray(),\n",
        "                                  columns=enc.get_feature_names(cat_columns))\n",
        "  x_quants = pd.DataFrame(data=scaler.transform(x[quant_columns]),\n",
        "                            columns=quant_columns)\n",
        "  x = pd.concat([x_quants,x_categoricals], axis=1)\n",
        "\n",
        "  x_train, x_test, y_train, y_test = train_test_split(x, y, stratify=y, random_state=SEED_2)\n",
        "\n",
        "  x_res_train, y_res_train = imb_learn_model.fit_resample(x_train, y_train)\n",
        "  \n",
        "  models,predictions = model_clf_lazy_predict.fit(x_res_train, x_test, y_res_train, y_test)\n",
        "  print(models)"
      ],
      "execution_count": null,
      "outputs": []
    },
    {
      "cell_type": "code",
      "metadata": {
        "id": "Kls4Pr-OCKpM"
      },
      "source": [
        "#Lazy_predict com técnica SMOTE\n",
        "roda_lazy_predict(model_clf_lazy_predict, df_registro_clientes_targets, smt)\n",
        "roda_lazy_predict(model_clf_lazy_predict, df_registro_clientes_targets, smk)\n",
        "roda_lazy_predict(model_clf_lazy_predict, df_registro_clientes_targets, uns)"
      ],
      "execution_count": null,
      "outputs": []
    },
    {
      "cell_type": "markdown",
      "metadata": {
        "id": "lAKEtpSaStZ-"
      },
      "source": [
        "Infelizmente, devido as limitaçõs de memória do Google Colab, a aplicação de técnicas de balanceamento combinadas com o uso do Lazy_predict consumiram toda a RAM disponível em todas as tentativas realizadas (9 vezes).\n",
        "\n",
        "Essa é uma crítica feita na comunidade em geral, de que a biblioteca não contempla processamento em paralelo dos algoritmos, diminuindo a performance. \n",
        "\n",
        "Assim, seguiremos adiante com a aplicação da biblioteca pycaret."
      ]
    },
    {
      "cell_type": "code",
      "metadata": {
        "colab": {
          "base_uri": "https://localhost:8080/",
          "height": 1000
        },
        "id": "6SUzIGm5FWhE",
        "outputId": "49db16fc-48fa-44b5-ee7e-1c7a4ec3b0c0"
      },
      "source": [
        "repeated_stratified_kfold = RepeatedStratifiedKFold(n_splits=5, n_repeats=10, random_state=84563)\n",
        "pycaret_clf_2 = setup(df_registro_clientes_targets.drop(columns=['id_cliente']), target=\"mau\", session_id=456, log_experiment=True, experiment_name='pycaret_clf_1',\n",
        "                      categorical_features=categorical_columns, numeric_features=quant_columns, remove_multicollinearity=True, \n",
        "                      multicollinearity_threshold=0.95, feature_selection=True, feature_selection_threshold=0.8, fix_imbalance=True, \n",
        "                      fix_imbalance_method=smk, data_split_shuffle=True, data_split_stratify=True, fold_strategy=repeated_stratified_kfold)"
      ],
      "execution_count": null,
      "outputs": [
        {
          "data": {
            "text/html": [
              "<div>\n",
              "<style scoped>\n",
              "    .dataframe tbody tr th:only-of-type {\n",
              "        vertical-align: middle;\n",
              "    }\n",
              "\n",
              "    .dataframe tbody tr th {\n",
              "        vertical-align: top;\n",
              "    }\n",
              "\n",
              "    .dataframe thead th {\n",
              "        text-align: right;\n",
              "    }\n",
              "</style>\n",
              "<table border=\"1\" class=\"dataframe\">\n",
              "  <thead>\n",
              "    <tr style=\"text-align: right;\">\n",
              "      <th></th>\n",
              "      <th>Description</th>\n",
              "      <th>Value</th>\n",
              "    </tr>\n",
              "  </thead>\n",
              "  <tbody>\n",
              "    <tr>\n",
              "      <th>0</th>\n",
              "      <td>session_id</td>\n",
              "      <td>456</td>\n",
              "    </tr>\n",
              "    <tr>\n",
              "      <th>1</th>\n",
              "      <td>Target</td>\n",
              "      <td>mau</td>\n",
              "    </tr>\n",
              "    <tr>\n",
              "      <th>2</th>\n",
              "      <td>Target Type</td>\n",
              "      <td>Binary</td>\n",
              "    </tr>\n",
              "    <tr>\n",
              "      <th>3</th>\n",
              "      <td>Label Encoded</td>\n",
              "      <td>0: 0, 1: 1</td>\n",
              "    </tr>\n",
              "    <tr>\n",
              "      <th>4</th>\n",
              "      <td>Original Data</td>\n",
              "      <td>(23419, 17)</td>\n",
              "    </tr>\n",
              "    <tr>\n",
              "      <th>5</th>\n",
              "      <td>Missing Values</td>\n",
              "      <td>False</td>\n",
              "    </tr>\n",
              "    <tr>\n",
              "      <th>6</th>\n",
              "      <td>Numeric Features</td>\n",
              "      <td>6</td>\n",
              "    </tr>\n",
              "    <tr>\n",
              "      <th>7</th>\n",
              "      <td>Categorical Features</td>\n",
              "      <td>10</td>\n",
              "    </tr>\n",
              "    <tr>\n",
              "      <th>8</th>\n",
              "      <td>Ordinal Features</td>\n",
              "      <td>False</td>\n",
              "    </tr>\n",
              "    <tr>\n",
              "      <th>9</th>\n",
              "      <td>High Cardinality Features</td>\n",
              "      <td>False</td>\n",
              "    </tr>\n",
              "    <tr>\n",
              "      <th>10</th>\n",
              "      <td>High Cardinality Method</td>\n",
              "      <td>None</td>\n",
              "    </tr>\n",
              "    <tr>\n",
              "      <th>11</th>\n",
              "      <td>Transformed Train Set</td>\n",
              "      <td>(16393, 51)</td>\n",
              "    </tr>\n",
              "    <tr>\n",
              "      <th>12</th>\n",
              "      <td>Transformed Test Set</td>\n",
              "      <td>(7026, 51)</td>\n",
              "    </tr>\n",
              "    <tr>\n",
              "      <th>13</th>\n",
              "      <td>Shuffle Train-Test</td>\n",
              "      <td>True</td>\n",
              "    </tr>\n",
              "    <tr>\n",
              "      <th>14</th>\n",
              "      <td>Stratify Train-Test</td>\n",
              "      <td>True</td>\n",
              "    </tr>\n",
              "    <tr>\n",
              "      <th>15</th>\n",
              "      <td>Fold Generator</td>\n",
              "      <td>RepeatedStratifiedKFold</td>\n",
              "    </tr>\n",
              "    <tr>\n",
              "      <th>16</th>\n",
              "      <td>Fold Number</td>\n",
              "      <td>10</td>\n",
              "    </tr>\n",
              "    <tr>\n",
              "      <th>17</th>\n",
              "      <td>CPU Jobs</td>\n",
              "      <td>-1</td>\n",
              "    </tr>\n",
              "    <tr>\n",
              "      <th>18</th>\n",
              "      <td>Use GPU</td>\n",
              "      <td>False</td>\n",
              "    </tr>\n",
              "    <tr>\n",
              "      <th>19</th>\n",
              "      <td>Log Experiment</td>\n",
              "      <td>True</td>\n",
              "    </tr>\n",
              "    <tr>\n",
              "      <th>20</th>\n",
              "      <td>Experiment Name</td>\n",
              "      <td>pycaret_clf_1</td>\n",
              "    </tr>\n",
              "    <tr>\n",
              "      <th>21</th>\n",
              "      <td>USI</td>\n",
              "      <td>e6f9</td>\n",
              "    </tr>\n",
              "    <tr>\n",
              "      <th>22</th>\n",
              "      <td>Imputation Type</td>\n",
              "      <td>simple</td>\n",
              "    </tr>\n",
              "    <tr>\n",
              "      <th>23</th>\n",
              "      <td>Iterative Imputation Iteration</td>\n",
              "      <td>None</td>\n",
              "    </tr>\n",
              "    <tr>\n",
              "      <th>24</th>\n",
              "      <td>Numeric Imputer</td>\n",
              "      <td>mean</td>\n",
              "    </tr>\n",
              "    <tr>\n",
              "      <th>25</th>\n",
              "      <td>Iterative Imputation Numeric Model</td>\n",
              "      <td>None</td>\n",
              "    </tr>\n",
              "    <tr>\n",
              "      <th>26</th>\n",
              "      <td>Categorical Imputer</td>\n",
              "      <td>constant</td>\n",
              "    </tr>\n",
              "    <tr>\n",
              "      <th>27</th>\n",
              "      <td>Iterative Imputation Categorical Model</td>\n",
              "      <td>None</td>\n",
              "    </tr>\n",
              "    <tr>\n",
              "      <th>28</th>\n",
              "      <td>Unknown Categoricals Handling</td>\n",
              "      <td>least_frequent</td>\n",
              "    </tr>\n",
              "    <tr>\n",
              "      <th>29</th>\n",
              "      <td>Normalize</td>\n",
              "      <td>False</td>\n",
              "    </tr>\n",
              "    <tr>\n",
              "      <th>30</th>\n",
              "      <td>Normalize Method</td>\n",
              "      <td>None</td>\n",
              "    </tr>\n",
              "    <tr>\n",
              "      <th>31</th>\n",
              "      <td>Transformation</td>\n",
              "      <td>False</td>\n",
              "    </tr>\n",
              "    <tr>\n",
              "      <th>32</th>\n",
              "      <td>Transformation Method</td>\n",
              "      <td>None</td>\n",
              "    </tr>\n",
              "    <tr>\n",
              "      <th>33</th>\n",
              "      <td>PCA</td>\n",
              "      <td>False</td>\n",
              "    </tr>\n",
              "    <tr>\n",
              "      <th>34</th>\n",
              "      <td>PCA Method</td>\n",
              "      <td>None</td>\n",
              "    </tr>\n",
              "    <tr>\n",
              "      <th>35</th>\n",
              "      <td>PCA Components</td>\n",
              "      <td>None</td>\n",
              "    </tr>\n",
              "    <tr>\n",
              "      <th>36</th>\n",
              "      <td>Ignore Low Variance</td>\n",
              "      <td>False</td>\n",
              "    </tr>\n",
              "    <tr>\n",
              "      <th>37</th>\n",
              "      <td>Combine Rare Levels</td>\n",
              "      <td>False</td>\n",
              "    </tr>\n",
              "    <tr>\n",
              "      <th>38</th>\n",
              "      <td>Rare Level Threshold</td>\n",
              "      <td>None</td>\n",
              "    </tr>\n",
              "    <tr>\n",
              "      <th>39</th>\n",
              "      <td>Numeric Binning</td>\n",
              "      <td>False</td>\n",
              "    </tr>\n",
              "    <tr>\n",
              "      <th>40</th>\n",
              "      <td>Remove Outliers</td>\n",
              "      <td>False</td>\n",
              "    </tr>\n",
              "    <tr>\n",
              "      <th>41</th>\n",
              "      <td>Outliers Threshold</td>\n",
              "      <td>None</td>\n",
              "    </tr>\n",
              "    <tr>\n",
              "      <th>42</th>\n",
              "      <td>Remove Multicollinearity</td>\n",
              "      <td>True</td>\n",
              "    </tr>\n",
              "    <tr>\n",
              "      <th>43</th>\n",
              "      <td>Multicollinearity Threshold</td>\n",
              "      <td>0.95</td>\n",
              "    </tr>\n",
              "    <tr>\n",
              "      <th>44</th>\n",
              "      <td>Remove Perfect Collinearity</td>\n",
              "      <td>True</td>\n",
              "    </tr>\n",
              "    <tr>\n",
              "      <th>45</th>\n",
              "      <td>Clustering</td>\n",
              "      <td>False</td>\n",
              "    </tr>\n",
              "    <tr>\n",
              "      <th>46</th>\n",
              "      <td>Clustering Iteration</td>\n",
              "      <td>None</td>\n",
              "    </tr>\n",
              "    <tr>\n",
              "      <th>47</th>\n",
              "      <td>Polynomial Features</td>\n",
              "      <td>False</td>\n",
              "    </tr>\n",
              "    <tr>\n",
              "      <th>48</th>\n",
              "      <td>Polynomial Degree</td>\n",
              "      <td>None</td>\n",
              "    </tr>\n",
              "    <tr>\n",
              "      <th>49</th>\n",
              "      <td>Trignometry Features</td>\n",
              "      <td>False</td>\n",
              "    </tr>\n",
              "    <tr>\n",
              "      <th>50</th>\n",
              "      <td>Polynomial Threshold</td>\n",
              "      <td>None</td>\n",
              "    </tr>\n",
              "    <tr>\n",
              "      <th>51</th>\n",
              "      <td>Group Features</td>\n",
              "      <td>False</td>\n",
              "    </tr>\n",
              "    <tr>\n",
              "      <th>52</th>\n",
              "      <td>Feature Selection</td>\n",
              "      <td>True</td>\n",
              "    </tr>\n",
              "    <tr>\n",
              "      <th>53</th>\n",
              "      <td>Feature Selection Method</td>\n",
              "      <td>classic</td>\n",
              "    </tr>\n",
              "    <tr>\n",
              "      <th>54</th>\n",
              "      <td>Features Selection Threshold</td>\n",
              "      <td>0.80</td>\n",
              "    </tr>\n",
              "    <tr>\n",
              "      <th>55</th>\n",
              "      <td>Feature Interaction</td>\n",
              "      <td>False</td>\n",
              "    </tr>\n",
              "    <tr>\n",
              "      <th>56</th>\n",
              "      <td>Feature Ratio</td>\n",
              "      <td>False</td>\n",
              "    </tr>\n",
              "    <tr>\n",
              "      <th>57</th>\n",
              "      <td>Interaction Threshold</td>\n",
              "      <td>None</td>\n",
              "    </tr>\n",
              "    <tr>\n",
              "      <th>58</th>\n",
              "      <td>Fix Imbalance</td>\n",
              "      <td>True</td>\n",
              "    </tr>\n",
              "    <tr>\n",
              "      <th>59</th>\n",
              "      <td>Fix Imbalance Method</td>\n",
              "      <td>SMOTETomek</td>\n",
              "    </tr>\n",
              "  </tbody>\n",
              "</table>\n",
              "</div>"
            ],
            "text/plain": [
              "                               Description                    Value\n",
              "0                               session_id                      456\n",
              "1                                   Target                      mau\n",
              "2                              Target Type                   Binary\n",
              "3                            Label Encoded               0: 0, 1: 1\n",
              "4                            Original Data              (23419, 17)\n",
              "5                           Missing Values                    False\n",
              "6                         Numeric Features                        6\n",
              "7                     Categorical Features                       10\n",
              "8                         Ordinal Features                    False\n",
              "9                High Cardinality Features                    False\n",
              "10                 High Cardinality Method                     None\n",
              "11                   Transformed Train Set              (16393, 51)\n",
              "12                    Transformed Test Set               (7026, 51)\n",
              "13                      Shuffle Train-Test                     True\n",
              "14                     Stratify Train-Test                     True\n",
              "15                          Fold Generator  RepeatedStratifiedKFold\n",
              "16                             Fold Number                       10\n",
              "17                                CPU Jobs                       -1\n",
              "18                                 Use GPU                    False\n",
              "19                          Log Experiment                     True\n",
              "20                         Experiment Name            pycaret_clf_1\n",
              "21                                     USI                     e6f9\n",
              "22                         Imputation Type                   simple\n",
              "23          Iterative Imputation Iteration                     None\n",
              "24                         Numeric Imputer                     mean\n",
              "25      Iterative Imputation Numeric Model                     None\n",
              "26                     Categorical Imputer                 constant\n",
              "27  Iterative Imputation Categorical Model                     None\n",
              "28           Unknown Categoricals Handling           least_frequent\n",
              "29                               Normalize                    False\n",
              "30                        Normalize Method                     None\n",
              "31                          Transformation                    False\n",
              "32                   Transformation Method                     None\n",
              "33                                     PCA                    False\n",
              "34                              PCA Method                     None\n",
              "35                          PCA Components                     None\n",
              "36                     Ignore Low Variance                    False\n",
              "37                     Combine Rare Levels                    False\n",
              "38                    Rare Level Threshold                     None\n",
              "39                         Numeric Binning                    False\n",
              "40                         Remove Outliers                    False\n",
              "41                      Outliers Threshold                     None\n",
              "42                Remove Multicollinearity                     True\n",
              "43             Multicollinearity Threshold                     0.95\n",
              "44             Remove Perfect Collinearity                     True\n",
              "45                              Clustering                    False\n",
              "46                    Clustering Iteration                     None\n",
              "47                     Polynomial Features                    False\n",
              "48                       Polynomial Degree                     None\n",
              "49                    Trignometry Features                    False\n",
              "50                    Polynomial Threshold                     None\n",
              "51                          Group Features                    False\n",
              "52                       Feature Selection                     True\n",
              "53                Feature Selection Method                  classic\n",
              "54            Features Selection Threshold                     0.80\n",
              "55                     Feature Interaction                    False\n",
              "56                           Feature Ratio                    False\n",
              "57                   Interaction Threshold                     None\n",
              "58                           Fix Imbalance                     True\n",
              "59                    Fix Imbalance Method               SMOTETomek"
            ]
          },
          "metadata": {},
          "output_type": "display_data"
        }
      ]
    },
    {
      "cell_type": "code",
      "metadata": {
        "colab": {
          "base_uri": "https://localhost:8080/",
          "height": 483
        },
        "id": "BrG75hbNFn5F",
        "outputId": "44712ef7-ca8e-48f6-a5b6-fb89c0bcf11a"
      },
      "source": [
        "best_model = compare_models()"
      ],
      "execution_count": null,
      "outputs": [
        {
          "data": {
            "text/html": [
              "<div>\n",
              "<style scoped>\n",
              "    .dataframe tbody tr th:only-of-type {\n",
              "        vertical-align: middle;\n",
              "    }\n",
              "\n",
              "    .dataframe tbody tr th {\n",
              "        vertical-align: top;\n",
              "    }\n",
              "\n",
              "    .dataframe thead th {\n",
              "        text-align: right;\n",
              "    }\n",
              "</style>\n",
              "<table border=\"1\" class=\"dataframe\">\n",
              "  <thead>\n",
              "    <tr style=\"text-align: right;\">\n",
              "      <th></th>\n",
              "      <th>Model</th>\n",
              "      <th>Accuracy</th>\n",
              "      <th>AUC</th>\n",
              "      <th>Recall</th>\n",
              "      <th>Prec.</th>\n",
              "      <th>F1</th>\n",
              "      <th>Kappa</th>\n",
              "      <th>MCC</th>\n",
              "      <th>TT (Sec)</th>\n",
              "    </tr>\n",
              "  </thead>\n",
              "  <tbody>\n",
              "    <tr>\n",
              "      <th>xgboost</th>\n",
              "      <td>Extreme Gradient Boosting</td>\n",
              "      <td>0.98</td>\n",
              "      <td>0.67</td>\n",
              "      <td>0.20</td>\n",
              "      <td>0.49</td>\n",
              "      <td>0.28</td>\n",
              "      <td>0.27</td>\n",
              "      <td>0.30</td>\n",
              "      <td>6.96</td>\n",
              "    </tr>\n",
              "    <tr>\n",
              "      <th>lightgbm</th>\n",
              "      <td>Light Gradient Boosting Machine</td>\n",
              "      <td>0.98</td>\n",
              "      <td>0.67</td>\n",
              "      <td>0.16</td>\n",
              "      <td>0.49</td>\n",
              "      <td>0.23</td>\n",
              "      <td>0.23</td>\n",
              "      <td>0.26</td>\n",
              "      <td>2.17</td>\n",
              "    </tr>\n",
              "    <tr>\n",
              "      <th>rf</th>\n",
              "      <td>Random Forest Classifier</td>\n",
              "      <td>0.97</td>\n",
              "      <td>0.74</td>\n",
              "      <td>0.20</td>\n",
              "      <td>0.39</td>\n",
              "      <td>0.26</td>\n",
              "      <td>0.25</td>\n",
              "      <td>0.27</td>\n",
              "      <td>3.30</td>\n",
              "    </tr>\n",
              "    <tr>\n",
              "      <th>gbc</th>\n",
              "      <td>Gradient Boosting Classifier</td>\n",
              "      <td>0.97</td>\n",
              "      <td>0.62</td>\n",
              "      <td>0.05</td>\n",
              "      <td>0.26</td>\n",
              "      <td>0.08</td>\n",
              "      <td>0.07</td>\n",
              "      <td>0.10</td>\n",
              "      <td>7.43</td>\n",
              "    </tr>\n",
              "    <tr>\n",
              "      <th>et</th>\n",
              "      <td>Extra Trees Classifier</td>\n",
              "      <td>0.97</td>\n",
              "      <td>0.72</td>\n",
              "      <td>0.23</td>\n",
              "      <td>0.37</td>\n",
              "      <td>0.28</td>\n",
              "      <td>0.27</td>\n",
              "      <td>0.28</td>\n",
              "      <td>3.17</td>\n",
              "    </tr>\n",
              "    <tr>\n",
              "      <th>dt</th>\n",
              "      <td>Decision Tree Classifier</td>\n",
              "      <td>0.97</td>\n",
              "      <td>0.61</td>\n",
              "      <td>0.23</td>\n",
              "      <td>0.25</td>\n",
              "      <td>0.24</td>\n",
              "      <td>0.22</td>\n",
              "      <td>0.22</td>\n",
              "      <td>1.02</td>\n",
              "    </tr>\n",
              "    <tr>\n",
              "      <th>ada</th>\n",
              "      <td>Ada Boost Classifier</td>\n",
              "      <td>0.96</td>\n",
              "      <td>0.57</td>\n",
              "      <td>0.05</td>\n",
              "      <td>0.08</td>\n",
              "      <td>0.06</td>\n",
              "      <td>0.04</td>\n",
              "      <td>0.04</td>\n",
              "      <td>2.48</td>\n",
              "    </tr>\n",
              "    <tr>\n",
              "      <th>knn</th>\n",
              "      <td>K Neighbors Classifier</td>\n",
              "      <td>0.89</td>\n",
              "      <td>0.67</td>\n",
              "      <td>0.35</td>\n",
              "      <td>0.08</td>\n",
              "      <td>0.13</td>\n",
              "      <td>0.09</td>\n",
              "      <td>0.13</td>\n",
              "      <td>1.34</td>\n",
              "    </tr>\n",
              "    <tr>\n",
              "      <th>lda</th>\n",
              "      <td>Linear Discriminant Analysis</td>\n",
              "      <td>0.63</td>\n",
              "      <td>0.58</td>\n",
              "      <td>0.48</td>\n",
              "      <td>0.03</td>\n",
              "      <td>0.06</td>\n",
              "      <td>0.01</td>\n",
              "      <td>0.03</td>\n",
              "      <td>1.12</td>\n",
              "    </tr>\n",
              "    <tr>\n",
              "      <th>ridge</th>\n",
              "      <td>Ridge Classifier</td>\n",
              "      <td>0.63</td>\n",
              "      <td>0.00</td>\n",
              "      <td>0.48</td>\n",
              "      <td>0.03</td>\n",
              "      <td>0.06</td>\n",
              "      <td>0.01</td>\n",
              "      <td>0.03</td>\n",
              "      <td>0.92</td>\n",
              "    </tr>\n",
              "    <tr>\n",
              "      <th>svm</th>\n",
              "      <td>SVM - Linear Kernel</td>\n",
              "      <td>0.60</td>\n",
              "      <td>0.00</td>\n",
              "      <td>0.39</td>\n",
              "      <td>0.01</td>\n",
              "      <td>0.02</td>\n",
              "      <td>0.00</td>\n",
              "      <td>0.00</td>\n",
              "      <td>2.63</td>\n",
              "    </tr>\n",
              "    <tr>\n",
              "      <th>lr</th>\n",
              "      <td>Logistic Regression</td>\n",
              "      <td>0.43</td>\n",
              "      <td>0.51</td>\n",
              "      <td>0.58</td>\n",
              "      <td>0.02</td>\n",
              "      <td>0.04</td>\n",
              "      <td>0.00</td>\n",
              "      <td>0.00</td>\n",
              "      <td>1.05</td>\n",
              "    </tr>\n",
              "    <tr>\n",
              "      <th>nb</th>\n",
              "      <td>Naive Bayes</td>\n",
              "      <td>0.29</td>\n",
              "      <td>0.56</td>\n",
              "      <td>0.80</td>\n",
              "      <td>0.03</td>\n",
              "      <td>0.05</td>\n",
              "      <td>0.01</td>\n",
              "      <td>0.03</td>\n",
              "      <td>0.92</td>\n",
              "    </tr>\n",
              "    <tr>\n",
              "      <th>qda</th>\n",
              "      <td>Quadratic Discriminant Analysis</td>\n",
              "      <td>0.03</td>\n",
              "      <td>0.50</td>\n",
              "      <td>0.99</td>\n",
              "      <td>0.02</td>\n",
              "      <td>0.04</td>\n",
              "      <td>0.00</td>\n",
              "      <td>0.00</td>\n",
              "      <td>1.03</td>\n",
              "    </tr>\n",
              "  </tbody>\n",
              "</table>\n",
              "</div>"
            ],
            "text/plain": [
              "                                    Model  Accuracy  AUC  Recall  Prec.   F1  \\\n",
              "xgboost         Extreme Gradient Boosting      0.98 0.67    0.20   0.49 0.28   \n",
              "lightgbm  Light Gradient Boosting Machine      0.98 0.67    0.16   0.49 0.23   \n",
              "rf               Random Forest Classifier      0.97 0.74    0.20   0.39 0.26   \n",
              "gbc          Gradient Boosting Classifier      0.97 0.62    0.05   0.26 0.08   \n",
              "et                 Extra Trees Classifier      0.97 0.72    0.23   0.37 0.28   \n",
              "dt               Decision Tree Classifier      0.97 0.61    0.23   0.25 0.24   \n",
              "ada                  Ada Boost Classifier      0.96 0.57    0.05   0.08 0.06   \n",
              "knn                K Neighbors Classifier      0.89 0.67    0.35   0.08 0.13   \n",
              "lda          Linear Discriminant Analysis      0.63 0.58    0.48   0.03 0.06   \n",
              "ridge                    Ridge Classifier      0.63 0.00    0.48   0.03 0.06   \n",
              "svm                   SVM - Linear Kernel      0.60 0.00    0.39   0.01 0.02   \n",
              "lr                    Logistic Regression      0.43 0.51    0.58   0.02 0.04   \n",
              "nb                            Naive Bayes      0.29 0.56    0.80   0.03 0.05   \n",
              "qda       Quadratic Discriminant Analysis      0.03 0.50    0.99   0.02 0.04   \n",
              "\n",
              "          Kappa  MCC  TT (Sec)  \n",
              "xgboost    0.27 0.30      6.96  \n",
              "lightgbm   0.23 0.26      2.17  \n",
              "rf         0.25 0.27      3.30  \n",
              "gbc        0.07 0.10      7.43  \n",
              "et         0.27 0.28      3.17  \n",
              "dt         0.22 0.22      1.02  \n",
              "ada        0.04 0.04      2.48  \n",
              "knn        0.09 0.13      1.34  \n",
              "lda        0.01 0.03      1.12  \n",
              "ridge      0.01 0.03      0.92  \n",
              "svm        0.00 0.00      2.63  \n",
              "lr         0.00 0.00      1.05  \n",
              "nb         0.01 0.03      0.92  \n",
              "qda        0.00 0.00      1.03  "
            ]
          },
          "metadata": {},
          "output_type": "display_data"
        }
      ]
    },
    {
      "cell_type": "markdown",
      "metadata": {
        "id": "ECm7fS5OfzH8"
      },
      "source": [
        "Nessa primeira parte criamos a configuração básica do Pycaret e rodamos os vários modelos de classificação disponíveis na biblioteca.\n",
        "\n",
        "Agora iremos criar os objetos dos melhores e apronfudá-los."
      ]
    },
    {
      "cell_type": "code",
      "metadata": {
        "id": "MEP1BbD3Pers",
        "colab": {
          "base_uri": "https://localhost:8080/",
          "height": 1000,
          "referenced_widgets": [
            "4e3050300b75482f823a4f1928b27919",
            "17c8342097b84e588a4450176f062784",
            "f6eb36debc5e4eeaacef6383dd520520"
          ]
        },
        "outputId": "b4aa287d-1679-40d5-b373-f70ac0982512"
      },
      "source": [
        "#Criando os modelos\n",
        "xgb_model = create_model('xgboost')"
      ],
      "execution_count": null,
      "outputs": [
        {
          "output_type": "display_data",
          "data": {
            "text/html": [
              "<div>\n",
              "<style scoped>\n",
              "    .dataframe tbody tr th:only-of-type {\n",
              "        vertical-align: middle;\n",
              "    }\n",
              "\n",
              "    .dataframe tbody tr th {\n",
              "        vertical-align: top;\n",
              "    }\n",
              "\n",
              "    .dataframe thead th {\n",
              "        text-align: right;\n",
              "    }\n",
              "</style>\n",
              "<table border=\"1\" class=\"dataframe\">\n",
              "  <thead>\n",
              "    <tr style=\"text-align: right;\">\n",
              "      <th></th>\n",
              "      <th>Accuracy</th>\n",
              "      <th>AUC</th>\n",
              "      <th>Recall</th>\n",
              "      <th>Prec.</th>\n",
              "      <th>F1</th>\n",
              "      <th>Kappa</th>\n",
              "      <th>MCC</th>\n",
              "    </tr>\n",
              "  </thead>\n",
              "  <tbody>\n",
              "    <tr>\n",
              "      <th>0</th>\n",
              "      <td>0.97</td>\n",
              "      <td>0.71</td>\n",
              "      <td>0.16</td>\n",
              "      <td>0.36</td>\n",
              "      <td>0.22</td>\n",
              "      <td>0.21</td>\n",
              "      <td>0.23</td>\n",
              "    </tr>\n",
              "    <tr>\n",
              "      <th>1</th>\n",
              "      <td>0.98</td>\n",
              "      <td>0.75</td>\n",
              "      <td>0.21</td>\n",
              "      <td>0.53</td>\n",
              "      <td>0.30</td>\n",
              "      <td>0.30</td>\n",
              "      <td>0.33</td>\n",
              "    </tr>\n",
              "    <tr>\n",
              "      <th>2</th>\n",
              "      <td>0.98</td>\n",
              "      <td>0.72</td>\n",
              "      <td>0.19</td>\n",
              "      <td>0.47</td>\n",
              "      <td>0.27</td>\n",
              "      <td>0.26</td>\n",
              "      <td>0.29</td>\n",
              "    </tr>\n",
              "    <tr>\n",
              "      <th>3</th>\n",
              "      <td>0.98</td>\n",
              "      <td>0.66</td>\n",
              "      <td>0.21</td>\n",
              "      <td>0.76</td>\n",
              "      <td>0.33</td>\n",
              "      <td>0.33</td>\n",
              "      <td>0.40</td>\n",
              "    </tr>\n",
              "    <tr>\n",
              "      <th>4</th>\n",
              "      <td>0.98</td>\n",
              "      <td>0.71</td>\n",
              "      <td>0.20</td>\n",
              "      <td>0.50</td>\n",
              "      <td>0.29</td>\n",
              "      <td>0.28</td>\n",
              "      <td>0.31</td>\n",
              "    </tr>\n",
              "    <tr>\n",
              "      <th>5</th>\n",
              "      <td>0.98</td>\n",
              "      <td>0.71</td>\n",
              "      <td>0.25</td>\n",
              "      <td>0.56</td>\n",
              "      <td>0.35</td>\n",
              "      <td>0.34</td>\n",
              "      <td>0.37</td>\n",
              "    </tr>\n",
              "    <tr>\n",
              "      <th>6</th>\n",
              "      <td>0.98</td>\n",
              "      <td>0.72</td>\n",
              "      <td>0.20</td>\n",
              "      <td>0.62</td>\n",
              "      <td>0.30</td>\n",
              "      <td>0.30</td>\n",
              "      <td>0.35</td>\n",
              "    </tr>\n",
              "    <tr>\n",
              "      <th>7</th>\n",
              "      <td>0.98</td>\n",
              "      <td>0.69</td>\n",
              "      <td>0.23</td>\n",
              "      <td>0.49</td>\n",
              "      <td>0.31</td>\n",
              "      <td>0.30</td>\n",
              "      <td>0.32</td>\n",
              "    </tr>\n",
              "    <tr>\n",
              "      <th>8</th>\n",
              "      <td>0.98</td>\n",
              "      <td>0.74</td>\n",
              "      <td>0.17</td>\n",
              "      <td>0.57</td>\n",
              "      <td>0.27</td>\n",
              "      <td>0.26</td>\n",
              "      <td>0.30</td>\n",
              "    </tr>\n",
              "    <tr>\n",
              "      <th>9</th>\n",
              "      <td>0.98</td>\n",
              "      <td>0.68</td>\n",
              "      <td>0.19</td>\n",
              "      <td>0.48</td>\n",
              "      <td>0.27</td>\n",
              "      <td>0.26</td>\n",
              "      <td>0.29</td>\n",
              "    </tr>\n",
              "    <tr>\n",
              "      <th>10</th>\n",
              "      <td>0.98</td>\n",
              "      <td>0.73</td>\n",
              "      <td>0.21</td>\n",
              "      <td>0.48</td>\n",
              "      <td>0.30</td>\n",
              "      <td>0.29</td>\n",
              "      <td>0.31</td>\n",
              "    </tr>\n",
              "    <tr>\n",
              "      <th>11</th>\n",
              "      <td>0.98</td>\n",
              "      <td>0.70</td>\n",
              "      <td>0.23</td>\n",
              "      <td>0.47</td>\n",
              "      <td>0.31</td>\n",
              "      <td>0.30</td>\n",
              "      <td>0.32</td>\n",
              "    </tr>\n",
              "    <tr>\n",
              "      <th>12</th>\n",
              "      <td>0.98</td>\n",
              "      <td>0.76</td>\n",
              "      <td>0.20</td>\n",
              "      <td>0.50</td>\n",
              "      <td>0.29</td>\n",
              "      <td>0.28</td>\n",
              "      <td>0.31</td>\n",
              "    </tr>\n",
              "    <tr>\n",
              "      <th>13</th>\n",
              "      <td>0.98</td>\n",
              "      <td>0.70</td>\n",
              "      <td>0.21</td>\n",
              "      <td>0.50</td>\n",
              "      <td>0.30</td>\n",
              "      <td>0.29</td>\n",
              "      <td>0.32</td>\n",
              "    </tr>\n",
              "    <tr>\n",
              "      <th>14</th>\n",
              "      <td>0.98</td>\n",
              "      <td>0.71</td>\n",
              "      <td>0.13</td>\n",
              "      <td>0.62</td>\n",
              "      <td>0.22</td>\n",
              "      <td>0.21</td>\n",
              "      <td>0.28</td>\n",
              "    </tr>\n",
              "    <tr>\n",
              "      <th>15</th>\n",
              "      <td>0.98</td>\n",
              "      <td>0.66</td>\n",
              "      <td>0.17</td>\n",
              "      <td>0.42</td>\n",
              "      <td>0.25</td>\n",
              "      <td>0.23</td>\n",
              "      <td>0.26</td>\n",
              "    </tr>\n",
              "    <tr>\n",
              "      <th>16</th>\n",
              "      <td>0.98</td>\n",
              "      <td>0.70</td>\n",
              "      <td>0.19</td>\n",
              "      <td>0.58</td>\n",
              "      <td>0.28</td>\n",
              "      <td>0.27</td>\n",
              "      <td>0.32</td>\n",
              "    </tr>\n",
              "    <tr>\n",
              "      <th>17</th>\n",
              "      <td>0.98</td>\n",
              "      <td>0.73</td>\n",
              "      <td>0.21</td>\n",
              "      <td>0.48</td>\n",
              "      <td>0.30</td>\n",
              "      <td>0.29</td>\n",
              "      <td>0.31</td>\n",
              "    </tr>\n",
              "    <tr>\n",
              "      <th>18</th>\n",
              "      <td>0.98</td>\n",
              "      <td>0.66</td>\n",
              "      <td>0.08</td>\n",
              "      <td>0.40</td>\n",
              "      <td>0.13</td>\n",
              "      <td>0.13</td>\n",
              "      <td>0.17</td>\n",
              "    </tr>\n",
              "    <tr>\n",
              "      <th>19</th>\n",
              "      <td>0.98</td>\n",
              "      <td>0.78</td>\n",
              "      <td>0.25</td>\n",
              "      <td>0.59</td>\n",
              "      <td>0.36</td>\n",
              "      <td>0.35</td>\n",
              "      <td>0.38</td>\n",
              "    </tr>\n",
              "    <tr>\n",
              "      <th>20</th>\n",
              "      <td>0.98</td>\n",
              "      <td>0.67</td>\n",
              "      <td>0.21</td>\n",
              "      <td>0.52</td>\n",
              "      <td>0.30</td>\n",
              "      <td>0.29</td>\n",
              "      <td>0.32</td>\n",
              "    </tr>\n",
              "    <tr>\n",
              "      <th>21</th>\n",
              "      <td>0.98</td>\n",
              "      <td>0.73</td>\n",
              "      <td>0.13</td>\n",
              "      <td>0.43</td>\n",
              "      <td>0.20</td>\n",
              "      <td>0.20</td>\n",
              "      <td>0.23</td>\n",
              "    </tr>\n",
              "    <tr>\n",
              "      <th>22</th>\n",
              "      <td>0.98</td>\n",
              "      <td>0.75</td>\n",
              "      <td>0.23</td>\n",
              "      <td>0.61</td>\n",
              "      <td>0.33</td>\n",
              "      <td>0.32</td>\n",
              "      <td>0.36</td>\n",
              "    </tr>\n",
              "    <tr>\n",
              "      <th>23</th>\n",
              "      <td>0.98</td>\n",
              "      <td>0.68</td>\n",
              "      <td>0.17</td>\n",
              "      <td>0.41</td>\n",
              "      <td>0.24</td>\n",
              "      <td>0.23</td>\n",
              "      <td>0.25</td>\n",
              "    </tr>\n",
              "    <tr>\n",
              "      <th>24</th>\n",
              "      <td>0.98</td>\n",
              "      <td>0.74</td>\n",
              "      <td>0.27</td>\n",
              "      <td>0.59</td>\n",
              "      <td>0.37</td>\n",
              "      <td>0.36</td>\n",
              "      <td>0.39</td>\n",
              "    </tr>\n",
              "    <tr>\n",
              "      <th>25</th>\n",
              "      <td>0.98</td>\n",
              "      <td>0.72</td>\n",
              "      <td>0.15</td>\n",
              "      <td>0.46</td>\n",
              "      <td>0.22</td>\n",
              "      <td>0.21</td>\n",
              "      <td>0.25</td>\n",
              "    </tr>\n",
              "    <tr>\n",
              "      <th>26</th>\n",
              "      <td>0.98</td>\n",
              "      <td>0.74</td>\n",
              "      <td>0.20</td>\n",
              "      <td>0.50</td>\n",
              "      <td>0.29</td>\n",
              "      <td>0.28</td>\n",
              "      <td>0.31</td>\n",
              "    </tr>\n",
              "    <tr>\n",
              "      <th>27</th>\n",
              "      <td>0.98</td>\n",
              "      <td>0.69</td>\n",
              "      <td>0.19</td>\n",
              "      <td>0.48</td>\n",
              "      <td>0.27</td>\n",
              "      <td>0.26</td>\n",
              "      <td>0.29</td>\n",
              "    </tr>\n",
              "    <tr>\n",
              "      <th>28</th>\n",
              "      <td>0.98</td>\n",
              "      <td>0.71</td>\n",
              "      <td>0.23</td>\n",
              "      <td>0.47</td>\n",
              "      <td>0.31</td>\n",
              "      <td>0.30</td>\n",
              "      <td>0.32</td>\n",
              "    </tr>\n",
              "    <tr>\n",
              "      <th>29</th>\n",
              "      <td>0.98</td>\n",
              "      <td>0.70</td>\n",
              "      <td>0.17</td>\n",
              "      <td>0.48</td>\n",
              "      <td>0.25</td>\n",
              "      <td>0.25</td>\n",
              "      <td>0.28</td>\n",
              "    </tr>\n",
              "    <tr>\n",
              "      <th>30</th>\n",
              "      <td>0.98</td>\n",
              "      <td>0.73</td>\n",
              "      <td>0.28</td>\n",
              "      <td>0.64</td>\n",
              "      <td>0.39</td>\n",
              "      <td>0.38</td>\n",
              "      <td>0.41</td>\n",
              "    </tr>\n",
              "    <tr>\n",
              "      <th>31</th>\n",
              "      <td>0.98</td>\n",
              "      <td>0.64</td>\n",
              "      <td>0.20</td>\n",
              "      <td>0.44</td>\n",
              "      <td>0.28</td>\n",
              "      <td>0.26</td>\n",
              "      <td>0.29</td>\n",
              "    </tr>\n",
              "    <tr>\n",
              "      <th>32</th>\n",
              "      <td>0.98</td>\n",
              "      <td>0.65</td>\n",
              "      <td>0.11</td>\n",
              "      <td>0.40</td>\n",
              "      <td>0.17</td>\n",
              "      <td>0.16</td>\n",
              "      <td>0.20</td>\n",
              "    </tr>\n",
              "    <tr>\n",
              "      <th>33</th>\n",
              "      <td>0.98</td>\n",
              "      <td>0.71</td>\n",
              "      <td>0.23</td>\n",
              "      <td>0.59</td>\n",
              "      <td>0.33</td>\n",
              "      <td>0.32</td>\n",
              "      <td>0.36</td>\n",
              "    </tr>\n",
              "    <tr>\n",
              "      <th>34</th>\n",
              "      <td>0.98</td>\n",
              "      <td>0.67</td>\n",
              "      <td>0.23</td>\n",
              "      <td>0.57</td>\n",
              "      <td>0.32</td>\n",
              "      <td>0.31</td>\n",
              "      <td>0.35</td>\n",
              "    </tr>\n",
              "    <tr>\n",
              "      <th>35</th>\n",
              "      <td>0.98</td>\n",
              "      <td>0.73</td>\n",
              "      <td>0.16</td>\n",
              "      <td>0.57</td>\n",
              "      <td>0.25</td>\n",
              "      <td>0.24</td>\n",
              "      <td>0.29</td>\n",
              "    </tr>\n",
              "    <tr>\n",
              "      <th>36</th>\n",
              "      <td>0.98</td>\n",
              "      <td>0.75</td>\n",
              "      <td>0.20</td>\n",
              "      <td>0.60</td>\n",
              "      <td>0.30</td>\n",
              "      <td>0.29</td>\n",
              "      <td>0.34</td>\n",
              "    </tr>\n",
              "    <tr>\n",
              "      <th>37</th>\n",
              "      <td>0.98</td>\n",
              "      <td>0.72</td>\n",
              "      <td>0.23</td>\n",
              "      <td>0.45</td>\n",
              "      <td>0.30</td>\n",
              "      <td>0.29</td>\n",
              "      <td>0.31</td>\n",
              "    </tr>\n",
              "    <tr>\n",
              "      <th>38</th>\n",
              "      <td>0.98</td>\n",
              "      <td>0.66</td>\n",
              "      <td>0.16</td>\n",
              "      <td>0.44</td>\n",
              "      <td>0.24</td>\n",
              "      <td>0.23</td>\n",
              "      <td>0.26</td>\n",
              "    </tr>\n",
              "    <tr>\n",
              "      <th>39</th>\n",
              "      <td>0.98</td>\n",
              "      <td>0.70</td>\n",
              "      <td>0.20</td>\n",
              "      <td>0.60</td>\n",
              "      <td>0.30</td>\n",
              "      <td>0.29</td>\n",
              "      <td>0.34</td>\n",
              "    </tr>\n",
              "    <tr>\n",
              "      <th>40</th>\n",
              "      <td>0.98</td>\n",
              "      <td>0.69</td>\n",
              "      <td>0.17</td>\n",
              "      <td>0.62</td>\n",
              "      <td>0.27</td>\n",
              "      <td>0.26</td>\n",
              "      <td>0.32</td>\n",
              "    </tr>\n",
              "    <tr>\n",
              "      <th>41</th>\n",
              "      <td>0.98</td>\n",
              "      <td>0.66</td>\n",
              "      <td>0.17</td>\n",
              "      <td>0.43</td>\n",
              "      <td>0.25</td>\n",
              "      <td>0.24</td>\n",
              "      <td>0.26</td>\n",
              "    </tr>\n",
              "    <tr>\n",
              "      <th>42</th>\n",
              "      <td>0.98</td>\n",
              "      <td>0.77</td>\n",
              "      <td>0.23</td>\n",
              "      <td>0.52</td>\n",
              "      <td>0.31</td>\n",
              "      <td>0.31</td>\n",
              "      <td>0.33</td>\n",
              "    </tr>\n",
              "    <tr>\n",
              "      <th>43</th>\n",
              "      <td>0.98</td>\n",
              "      <td>0.70</td>\n",
              "      <td>0.16</td>\n",
              "      <td>0.57</td>\n",
              "      <td>0.25</td>\n",
              "      <td>0.24</td>\n",
              "      <td>0.29</td>\n",
              "    </tr>\n",
              "    <tr>\n",
              "      <th>44</th>\n",
              "      <td>0.98</td>\n",
              "      <td>0.72</td>\n",
              "      <td>0.24</td>\n",
              "      <td>0.44</td>\n",
              "      <td>0.31</td>\n",
              "      <td>0.30</td>\n",
              "      <td>0.31</td>\n",
              "    </tr>\n",
              "    <tr>\n",
              "      <th>45</th>\n",
              "      <td>0.98</td>\n",
              "      <td>0.73</td>\n",
              "      <td>0.21</td>\n",
              "      <td>0.53</td>\n",
              "      <td>0.30</td>\n",
              "      <td>0.30</td>\n",
              "      <td>0.33</td>\n",
              "    </tr>\n",
              "    <tr>\n",
              "      <th>46</th>\n",
              "      <td>0.98</td>\n",
              "      <td>0.66</td>\n",
              "      <td>0.21</td>\n",
              "      <td>0.57</td>\n",
              "      <td>0.31</td>\n",
              "      <td>0.30</td>\n",
              "      <td>0.34</td>\n",
              "    </tr>\n",
              "    <tr>\n",
              "      <th>47</th>\n",
              "      <td>0.98</td>\n",
              "      <td>0.66</td>\n",
              "      <td>0.20</td>\n",
              "      <td>0.52</td>\n",
              "      <td>0.29</td>\n",
              "      <td>0.28</td>\n",
              "      <td>0.31</td>\n",
              "    </tr>\n",
              "    <tr>\n",
              "      <th>48</th>\n",
              "      <td>0.98</td>\n",
              "      <td>0.74</td>\n",
              "      <td>0.23</td>\n",
              "      <td>0.52</td>\n",
              "      <td>0.31</td>\n",
              "      <td>0.31</td>\n",
              "      <td>0.33</td>\n",
              "    </tr>\n",
              "    <tr>\n",
              "      <th>49</th>\n",
              "      <td>0.97</td>\n",
              "      <td>0.76</td>\n",
              "      <td>0.11</td>\n",
              "      <td>0.30</td>\n",
              "      <td>0.16</td>\n",
              "      <td>0.15</td>\n",
              "      <td>0.17</td>\n",
              "    </tr>\n",
              "    <tr>\n",
              "      <th>Mean</th>\n",
              "      <td>0.98</td>\n",
              "      <td>0.71</td>\n",
              "      <td>0.20</td>\n",
              "      <td>0.51</td>\n",
              "      <td>0.28</td>\n",
              "      <td>0.27</td>\n",
              "      <td>0.31</td>\n",
              "    </tr>\n",
              "    <tr>\n",
              "      <th>SD</th>\n",
              "      <td>0.00</td>\n",
              "      <td>0.03</td>\n",
              "      <td>0.04</td>\n",
              "      <td>0.08</td>\n",
              "      <td>0.05</td>\n",
              "      <td>0.05</td>\n",
              "      <td>0.05</td>\n",
              "    </tr>\n",
              "  </tbody>\n",
              "</table>\n",
              "</div>"
            ],
            "text/plain": [
              "      Accuracy  AUC  Recall  Prec.   F1  Kappa  MCC\n",
              "0         0.97 0.71    0.16   0.36 0.22   0.21 0.23\n",
              "1         0.98 0.75    0.21   0.53 0.30   0.30 0.33\n",
              "2         0.98 0.72    0.19   0.47 0.27   0.26 0.29\n",
              "3         0.98 0.66    0.21   0.76 0.33   0.33 0.40\n",
              "4         0.98 0.71    0.20   0.50 0.29   0.28 0.31\n",
              "5         0.98 0.71    0.25   0.56 0.35   0.34 0.37\n",
              "6         0.98 0.72    0.20   0.62 0.30   0.30 0.35\n",
              "7         0.98 0.69    0.23   0.49 0.31   0.30 0.32\n",
              "8         0.98 0.74    0.17   0.57 0.27   0.26 0.30\n",
              "9         0.98 0.68    0.19   0.48 0.27   0.26 0.29\n",
              "10        0.98 0.73    0.21   0.48 0.30   0.29 0.31\n",
              "11        0.98 0.70    0.23   0.47 0.31   0.30 0.32\n",
              "12        0.98 0.76    0.20   0.50 0.29   0.28 0.31\n",
              "13        0.98 0.70    0.21   0.50 0.30   0.29 0.32\n",
              "14        0.98 0.71    0.13   0.62 0.22   0.21 0.28\n",
              "15        0.98 0.66    0.17   0.42 0.25   0.23 0.26\n",
              "16        0.98 0.70    0.19   0.58 0.28   0.27 0.32\n",
              "17        0.98 0.73    0.21   0.48 0.30   0.29 0.31\n",
              "18        0.98 0.66    0.08   0.40 0.13   0.13 0.17\n",
              "19        0.98 0.78    0.25   0.59 0.36   0.35 0.38\n",
              "20        0.98 0.67    0.21   0.52 0.30   0.29 0.32\n",
              "21        0.98 0.73    0.13   0.43 0.20   0.20 0.23\n",
              "22        0.98 0.75    0.23   0.61 0.33   0.32 0.36\n",
              "23        0.98 0.68    0.17   0.41 0.24   0.23 0.25\n",
              "24        0.98 0.74    0.27   0.59 0.37   0.36 0.39\n",
              "25        0.98 0.72    0.15   0.46 0.22   0.21 0.25\n",
              "26        0.98 0.74    0.20   0.50 0.29   0.28 0.31\n",
              "27        0.98 0.69    0.19   0.48 0.27   0.26 0.29\n",
              "28        0.98 0.71    0.23   0.47 0.31   0.30 0.32\n",
              "29        0.98 0.70    0.17   0.48 0.25   0.25 0.28\n",
              "30        0.98 0.73    0.28   0.64 0.39   0.38 0.41\n",
              "31        0.98 0.64    0.20   0.44 0.28   0.26 0.29\n",
              "32        0.98 0.65    0.11   0.40 0.17   0.16 0.20\n",
              "33        0.98 0.71    0.23   0.59 0.33   0.32 0.36\n",
              "34        0.98 0.67    0.23   0.57 0.32   0.31 0.35\n",
              "35        0.98 0.73    0.16   0.57 0.25   0.24 0.29\n",
              "36        0.98 0.75    0.20   0.60 0.30   0.29 0.34\n",
              "37        0.98 0.72    0.23   0.45 0.30   0.29 0.31\n",
              "38        0.98 0.66    0.16   0.44 0.24   0.23 0.26\n",
              "39        0.98 0.70    0.20   0.60 0.30   0.29 0.34\n",
              "40        0.98 0.69    0.17   0.62 0.27   0.26 0.32\n",
              "41        0.98 0.66    0.17   0.43 0.25   0.24 0.26\n",
              "42        0.98 0.77    0.23   0.52 0.31   0.31 0.33\n",
              "43        0.98 0.70    0.16   0.57 0.25   0.24 0.29\n",
              "44        0.98 0.72    0.24   0.44 0.31   0.30 0.31\n",
              "45        0.98 0.73    0.21   0.53 0.30   0.30 0.33\n",
              "46        0.98 0.66    0.21   0.57 0.31   0.30 0.34\n",
              "47        0.98 0.66    0.20   0.52 0.29   0.28 0.31\n",
              "48        0.98 0.74    0.23   0.52 0.31   0.31 0.33\n",
              "49        0.97 0.76    0.11   0.30 0.16   0.15 0.17\n",
              "Mean      0.98 0.71    0.20   0.51 0.28   0.27 0.31\n",
              "SD        0.00 0.03    0.04   0.08 0.05   0.05 0.05"
            ]
          },
          "metadata": {}
        }
      ]
    },
    {
      "cell_type": "code",
      "metadata": {
        "colab": {
          "base_uri": "https://localhost:8080/",
          "height": 1000
        },
        "id": "EYR5tuSIhTjJ",
        "outputId": "639fa628-12ca-4078-b576-35b44bda4596"
      },
      "source": [
        "rf_clf = create_model('rf', fold=5)"
      ],
      "execution_count": null,
      "outputs": [
        {
          "data": {
            "text/html": [
              "<div>\n",
              "<style scoped>\n",
              "    .dataframe tbody tr th:only-of-type {\n",
              "        vertical-align: middle;\n",
              "    }\n",
              "\n",
              "    .dataframe tbody tr th {\n",
              "        vertical-align: top;\n",
              "    }\n",
              "\n",
              "    .dataframe thead th {\n",
              "        text-align: right;\n",
              "    }\n",
              "</style>\n",
              "<table border=\"1\" class=\"dataframe\">\n",
              "  <thead>\n",
              "    <tr style=\"text-align: right;\">\n",
              "      <th></th>\n",
              "      <th>Accuracy</th>\n",
              "      <th>AUC</th>\n",
              "      <th>Recall</th>\n",
              "      <th>Prec.</th>\n",
              "      <th>F1</th>\n",
              "      <th>Kappa</th>\n",
              "      <th>MCC</th>\n",
              "    </tr>\n",
              "  </thead>\n",
              "  <tbody>\n",
              "    <tr>\n",
              "      <th>0</th>\n",
              "      <td>0.97</td>\n",
              "      <td>0.74</td>\n",
              "      <td>0.17</td>\n",
              "      <td>0.36</td>\n",
              "      <td>0.23</td>\n",
              "      <td>0.22</td>\n",
              "      <td>0.24</td>\n",
              "    </tr>\n",
              "    <tr>\n",
              "      <th>1</th>\n",
              "      <td>0.97</td>\n",
              "      <td>0.74</td>\n",
              "      <td>0.19</td>\n",
              "      <td>0.39</td>\n",
              "      <td>0.25</td>\n",
              "      <td>0.24</td>\n",
              "      <td>0.26</td>\n",
              "    </tr>\n",
              "    <tr>\n",
              "      <th>2</th>\n",
              "      <td>0.98</td>\n",
              "      <td>0.75</td>\n",
              "      <td>0.21</td>\n",
              "      <td>0.46</td>\n",
              "      <td>0.29</td>\n",
              "      <td>0.28</td>\n",
              "      <td>0.30</td>\n",
              "    </tr>\n",
              "    <tr>\n",
              "      <th>3</th>\n",
              "      <td>0.98</td>\n",
              "      <td>0.75</td>\n",
              "      <td>0.17</td>\n",
              "      <td>0.45</td>\n",
              "      <td>0.25</td>\n",
              "      <td>0.24</td>\n",
              "      <td>0.27</td>\n",
              "    </tr>\n",
              "    <tr>\n",
              "      <th>4</th>\n",
              "      <td>0.97</td>\n",
              "      <td>0.77</td>\n",
              "      <td>0.20</td>\n",
              "      <td>0.38</td>\n",
              "      <td>0.26</td>\n",
              "      <td>0.25</td>\n",
              "      <td>0.26</td>\n",
              "    </tr>\n",
              "    <tr>\n",
              "      <th>5</th>\n",
              "      <td>0.97</td>\n",
              "      <td>0.74</td>\n",
              "      <td>0.21</td>\n",
              "      <td>0.40</td>\n",
              "      <td>0.28</td>\n",
              "      <td>0.27</td>\n",
              "      <td>0.28</td>\n",
              "    </tr>\n",
              "    <tr>\n",
              "      <th>6</th>\n",
              "      <td>0.97</td>\n",
              "      <td>0.78</td>\n",
              "      <td>0.16</td>\n",
              "      <td>0.36</td>\n",
              "      <td>0.22</td>\n",
              "      <td>0.21</td>\n",
              "      <td>0.23</td>\n",
              "    </tr>\n",
              "    <tr>\n",
              "      <th>7</th>\n",
              "      <td>0.97</td>\n",
              "      <td>0.73</td>\n",
              "      <td>0.24</td>\n",
              "      <td>0.39</td>\n",
              "      <td>0.30</td>\n",
              "      <td>0.29</td>\n",
              "      <td>0.29</td>\n",
              "    </tr>\n",
              "    <tr>\n",
              "      <th>8</th>\n",
              "      <td>0.97</td>\n",
              "      <td>0.69</td>\n",
              "      <td>0.21</td>\n",
              "      <td>0.40</td>\n",
              "      <td>0.28</td>\n",
              "      <td>0.27</td>\n",
              "      <td>0.28</td>\n",
              "    </tr>\n",
              "    <tr>\n",
              "      <th>9</th>\n",
              "      <td>0.97</td>\n",
              "      <td>0.76</td>\n",
              "      <td>0.20</td>\n",
              "      <td>0.37</td>\n",
              "      <td>0.26</td>\n",
              "      <td>0.25</td>\n",
              "      <td>0.26</td>\n",
              "    </tr>\n",
              "    <tr>\n",
              "      <th>10</th>\n",
              "      <td>0.97</td>\n",
              "      <td>0.76</td>\n",
              "      <td>0.20</td>\n",
              "      <td>0.30</td>\n",
              "      <td>0.24</td>\n",
              "      <td>0.23</td>\n",
              "      <td>0.23</td>\n",
              "    </tr>\n",
              "    <tr>\n",
              "      <th>11</th>\n",
              "      <td>0.98</td>\n",
              "      <td>0.75</td>\n",
              "      <td>0.27</td>\n",
              "      <td>0.45</td>\n",
              "      <td>0.34</td>\n",
              "      <td>0.32</td>\n",
              "      <td>0.34</td>\n",
              "    </tr>\n",
              "    <tr>\n",
              "      <th>12</th>\n",
              "      <td>0.97</td>\n",
              "      <td>0.79</td>\n",
              "      <td>0.17</td>\n",
              "      <td>0.39</td>\n",
              "      <td>0.24</td>\n",
              "      <td>0.23</td>\n",
              "      <td>0.25</td>\n",
              "    </tr>\n",
              "    <tr>\n",
              "      <th>13</th>\n",
              "      <td>0.98</td>\n",
              "      <td>0.73</td>\n",
              "      <td>0.31</td>\n",
              "      <td>0.48</td>\n",
              "      <td>0.37</td>\n",
              "      <td>0.36</td>\n",
              "      <td>0.37</td>\n",
              "    </tr>\n",
              "    <tr>\n",
              "      <th>14</th>\n",
              "      <td>0.97</td>\n",
              "      <td>0.70</td>\n",
              "      <td>0.16</td>\n",
              "      <td>0.39</td>\n",
              "      <td>0.23</td>\n",
              "      <td>0.22</td>\n",
              "      <td>0.24</td>\n",
              "    </tr>\n",
              "    <tr>\n",
              "      <th>15</th>\n",
              "      <td>0.97</td>\n",
              "      <td>0.66</td>\n",
              "      <td>0.17</td>\n",
              "      <td>0.35</td>\n",
              "      <td>0.23</td>\n",
              "      <td>0.22</td>\n",
              "      <td>0.23</td>\n",
              "    </tr>\n",
              "    <tr>\n",
              "      <th>16</th>\n",
              "      <td>0.98</td>\n",
              "      <td>0.77</td>\n",
              "      <td>0.24</td>\n",
              "      <td>0.45</td>\n",
              "      <td>0.31</td>\n",
              "      <td>0.30</td>\n",
              "      <td>0.32</td>\n",
              "    </tr>\n",
              "    <tr>\n",
              "      <th>17</th>\n",
              "      <td>0.97</td>\n",
              "      <td>0.75</td>\n",
              "      <td>0.21</td>\n",
              "      <td>0.37</td>\n",
              "      <td>0.27</td>\n",
              "      <td>0.26</td>\n",
              "      <td>0.27</td>\n",
              "    </tr>\n",
              "    <tr>\n",
              "      <th>18</th>\n",
              "      <td>0.98</td>\n",
              "      <td>0.73</td>\n",
              "      <td>0.11</td>\n",
              "      <td>0.42</td>\n",
              "      <td>0.17</td>\n",
              "      <td>0.16</td>\n",
              "      <td>0.20</td>\n",
              "    </tr>\n",
              "    <tr>\n",
              "      <th>19</th>\n",
              "      <td>0.97</td>\n",
              "      <td>0.76</td>\n",
              "      <td>0.20</td>\n",
              "      <td>0.38</td>\n",
              "      <td>0.26</td>\n",
              "      <td>0.25</td>\n",
              "      <td>0.27</td>\n",
              "    </tr>\n",
              "    <tr>\n",
              "      <th>20</th>\n",
              "      <td>0.97</td>\n",
              "      <td>0.70</td>\n",
              "      <td>0.20</td>\n",
              "      <td>0.38</td>\n",
              "      <td>0.26</td>\n",
              "      <td>0.25</td>\n",
              "      <td>0.26</td>\n",
              "    </tr>\n",
              "    <tr>\n",
              "      <th>21</th>\n",
              "      <td>0.98</td>\n",
              "      <td>0.77</td>\n",
              "      <td>0.20</td>\n",
              "      <td>0.43</td>\n",
              "      <td>0.27</td>\n",
              "      <td>0.26</td>\n",
              "      <td>0.28</td>\n",
              "    </tr>\n",
              "    <tr>\n",
              "      <th>22</th>\n",
              "      <td>0.97</td>\n",
              "      <td>0.75</td>\n",
              "      <td>0.23</td>\n",
              "      <td>0.39</td>\n",
              "      <td>0.29</td>\n",
              "      <td>0.27</td>\n",
              "      <td>0.28</td>\n",
              "    </tr>\n",
              "    <tr>\n",
              "      <th>23</th>\n",
              "      <td>0.97</td>\n",
              "      <td>0.75</td>\n",
              "      <td>0.16</td>\n",
              "      <td>0.26</td>\n",
              "      <td>0.20</td>\n",
              "      <td>0.18</td>\n",
              "      <td>0.19</td>\n",
              "    </tr>\n",
              "    <tr>\n",
              "      <th>24</th>\n",
              "      <td>0.98</td>\n",
              "      <td>0.75</td>\n",
              "      <td>0.25</td>\n",
              "      <td>0.56</td>\n",
              "      <td>0.35</td>\n",
              "      <td>0.34</td>\n",
              "      <td>0.37</td>\n",
              "    </tr>\n",
              "    <tr>\n",
              "      <th>25</th>\n",
              "      <td>0.97</td>\n",
              "      <td>0.77</td>\n",
              "      <td>0.23</td>\n",
              "      <td>0.40</td>\n",
              "      <td>0.29</td>\n",
              "      <td>0.28</td>\n",
              "      <td>0.29</td>\n",
              "    </tr>\n",
              "    <tr>\n",
              "      <th>26</th>\n",
              "      <td>0.98</td>\n",
              "      <td>0.73</td>\n",
              "      <td>0.16</td>\n",
              "      <td>0.41</td>\n",
              "      <td>0.23</td>\n",
              "      <td>0.22</td>\n",
              "      <td>0.25</td>\n",
              "    </tr>\n",
              "    <tr>\n",
              "      <th>27</th>\n",
              "      <td>0.97</td>\n",
              "      <td>0.74</td>\n",
              "      <td>0.19</td>\n",
              "      <td>0.37</td>\n",
              "      <td>0.25</td>\n",
              "      <td>0.24</td>\n",
              "      <td>0.25</td>\n",
              "    </tr>\n",
              "    <tr>\n",
              "      <th>28</th>\n",
              "      <td>0.97</td>\n",
              "      <td>0.71</td>\n",
              "      <td>0.24</td>\n",
              "      <td>0.38</td>\n",
              "      <td>0.30</td>\n",
              "      <td>0.28</td>\n",
              "      <td>0.29</td>\n",
              "    </tr>\n",
              "    <tr>\n",
              "      <th>29</th>\n",
              "      <td>0.97</td>\n",
              "      <td>0.75</td>\n",
              "      <td>0.17</td>\n",
              "      <td>0.36</td>\n",
              "      <td>0.23</td>\n",
              "      <td>0.22</td>\n",
              "      <td>0.24</td>\n",
              "    </tr>\n",
              "    <tr>\n",
              "      <th>30</th>\n",
              "      <td>0.98</td>\n",
              "      <td>0.75</td>\n",
              "      <td>0.25</td>\n",
              "      <td>0.43</td>\n",
              "      <td>0.32</td>\n",
              "      <td>0.31</td>\n",
              "      <td>0.32</td>\n",
              "    </tr>\n",
              "    <tr>\n",
              "      <th>31</th>\n",
              "      <td>0.97</td>\n",
              "      <td>0.73</td>\n",
              "      <td>0.17</td>\n",
              "      <td>0.34</td>\n",
              "      <td>0.23</td>\n",
              "      <td>0.22</td>\n",
              "      <td>0.23</td>\n",
              "    </tr>\n",
              "    <tr>\n",
              "      <th>32</th>\n",
              "      <td>0.97</td>\n",
              "      <td>0.69</td>\n",
              "      <td>0.12</td>\n",
              "      <td>0.29</td>\n",
              "      <td>0.17</td>\n",
              "      <td>0.16</td>\n",
              "      <td>0.17</td>\n",
              "    </tr>\n",
              "    <tr>\n",
              "      <th>33</th>\n",
              "      <td>0.97</td>\n",
              "      <td>0.71</td>\n",
              "      <td>0.19</td>\n",
              "      <td>0.32</td>\n",
              "      <td>0.24</td>\n",
              "      <td>0.22</td>\n",
              "      <td>0.23</td>\n",
              "    </tr>\n",
              "    <tr>\n",
              "      <th>34</th>\n",
              "      <td>0.97</td>\n",
              "      <td>0.76</td>\n",
              "      <td>0.16</td>\n",
              "      <td>0.28</td>\n",
              "      <td>0.20</td>\n",
              "      <td>0.19</td>\n",
              "      <td>0.20</td>\n",
              "    </tr>\n",
              "    <tr>\n",
              "      <th>35</th>\n",
              "      <td>0.98</td>\n",
              "      <td>0.78</td>\n",
              "      <td>0.24</td>\n",
              "      <td>0.50</td>\n",
              "      <td>0.32</td>\n",
              "      <td>0.31</td>\n",
              "      <td>0.34</td>\n",
              "    </tr>\n",
              "    <tr>\n",
              "      <th>36</th>\n",
              "      <td>0.97</td>\n",
              "      <td>0.74</td>\n",
              "      <td>0.16</td>\n",
              "      <td>0.36</td>\n",
              "      <td>0.22</td>\n",
              "      <td>0.21</td>\n",
              "      <td>0.23</td>\n",
              "    </tr>\n",
              "    <tr>\n",
              "      <th>37</th>\n",
              "      <td>0.97</td>\n",
              "      <td>0.77</td>\n",
              "      <td>0.19</td>\n",
              "      <td>0.30</td>\n",
              "      <td>0.23</td>\n",
              "      <td>0.22</td>\n",
              "      <td>0.22</td>\n",
              "    </tr>\n",
              "    <tr>\n",
              "      <th>38</th>\n",
              "      <td>0.97</td>\n",
              "      <td>0.66</td>\n",
              "      <td>0.17</td>\n",
              "      <td>0.33</td>\n",
              "      <td>0.23</td>\n",
              "      <td>0.22</td>\n",
              "      <td>0.23</td>\n",
              "    </tr>\n",
              "    <tr>\n",
              "      <th>39</th>\n",
              "      <td>0.98</td>\n",
              "      <td>0.72</td>\n",
              "      <td>0.25</td>\n",
              "      <td>0.49</td>\n",
              "      <td>0.33</td>\n",
              "      <td>0.32</td>\n",
              "      <td>0.34</td>\n",
              "    </tr>\n",
              "    <tr>\n",
              "      <th>40</th>\n",
              "      <td>0.98</td>\n",
              "      <td>0.72</td>\n",
              "      <td>0.17</td>\n",
              "      <td>0.46</td>\n",
              "      <td>0.25</td>\n",
              "      <td>0.24</td>\n",
              "      <td>0.27</td>\n",
              "    </tr>\n",
              "    <tr>\n",
              "      <th>41</th>\n",
              "      <td>0.97</td>\n",
              "      <td>0.74</td>\n",
              "      <td>0.21</td>\n",
              "      <td>0.37</td>\n",
              "      <td>0.27</td>\n",
              "      <td>0.26</td>\n",
              "      <td>0.27</td>\n",
              "    </tr>\n",
              "    <tr>\n",
              "      <th>42</th>\n",
              "      <td>0.97</td>\n",
              "      <td>0.74</td>\n",
              "      <td>0.23</td>\n",
              "      <td>0.38</td>\n",
              "      <td>0.28</td>\n",
              "      <td>0.27</td>\n",
              "      <td>0.28</td>\n",
              "    </tr>\n",
              "    <tr>\n",
              "      <th>43</th>\n",
              "      <td>0.97</td>\n",
              "      <td>0.74</td>\n",
              "      <td>0.15</td>\n",
              "      <td>0.33</td>\n",
              "      <td>0.20</td>\n",
              "      <td>0.19</td>\n",
              "      <td>0.21</td>\n",
              "    </tr>\n",
              "    <tr>\n",
              "      <th>44</th>\n",
              "      <td>0.97</td>\n",
              "      <td>0.73</td>\n",
              "      <td>0.21</td>\n",
              "      <td>0.29</td>\n",
              "      <td>0.24</td>\n",
              "      <td>0.23</td>\n",
              "      <td>0.23</td>\n",
              "    </tr>\n",
              "    <tr>\n",
              "      <th>45</th>\n",
              "      <td>0.98</td>\n",
              "      <td>0.72</td>\n",
              "      <td>0.23</td>\n",
              "      <td>0.46</td>\n",
              "      <td>0.30</td>\n",
              "      <td>0.29</td>\n",
              "      <td>0.31</td>\n",
              "    </tr>\n",
              "    <tr>\n",
              "      <th>46</th>\n",
              "      <td>0.98</td>\n",
              "      <td>0.73</td>\n",
              "      <td>0.27</td>\n",
              "      <td>0.48</td>\n",
              "      <td>0.34</td>\n",
              "      <td>0.33</td>\n",
              "      <td>0.35</td>\n",
              "    </tr>\n",
              "    <tr>\n",
              "      <th>47</th>\n",
              "      <td>0.97</td>\n",
              "      <td>0.70</td>\n",
              "      <td>0.23</td>\n",
              "      <td>0.39</td>\n",
              "      <td>0.29</td>\n",
              "      <td>0.27</td>\n",
              "      <td>0.28</td>\n",
              "    </tr>\n",
              "    <tr>\n",
              "      <th>48</th>\n",
              "      <td>0.97</td>\n",
              "      <td>0.74</td>\n",
              "      <td>0.19</td>\n",
              "      <td>0.33</td>\n",
              "      <td>0.24</td>\n",
              "      <td>0.22</td>\n",
              "      <td>0.23</td>\n",
              "    </tr>\n",
              "    <tr>\n",
              "      <th>49</th>\n",
              "      <td>0.97</td>\n",
              "      <td>0.82</td>\n",
              "      <td>0.20</td>\n",
              "      <td>0.30</td>\n",
              "      <td>0.24</td>\n",
              "      <td>0.23</td>\n",
              "      <td>0.23</td>\n",
              "    </tr>\n",
              "    <tr>\n",
              "      <th>Mean</th>\n",
              "      <td>0.97</td>\n",
              "      <td>0.74</td>\n",
              "      <td>0.20</td>\n",
              "      <td>0.39</td>\n",
              "      <td>0.26</td>\n",
              "      <td>0.25</td>\n",
              "      <td>0.27</td>\n",
              "    </tr>\n",
              "    <tr>\n",
              "      <th>SD</th>\n",
              "      <td>0.00</td>\n",
              "      <td>0.03</td>\n",
              "      <td>0.04</td>\n",
              "      <td>0.06</td>\n",
              "      <td>0.04</td>\n",
              "      <td>0.04</td>\n",
              "      <td>0.04</td>\n",
              "    </tr>\n",
              "  </tbody>\n",
              "</table>\n",
              "</div>"
            ],
            "text/plain": [
              "      Accuracy  AUC  Recall  Prec.   F1  Kappa  MCC\n",
              "0         0.97 0.74    0.17   0.36 0.23   0.22 0.24\n",
              "1         0.97 0.74    0.19   0.39 0.25   0.24 0.26\n",
              "2         0.98 0.75    0.21   0.46 0.29   0.28 0.30\n",
              "3         0.98 0.75    0.17   0.45 0.25   0.24 0.27\n",
              "4         0.97 0.77    0.20   0.38 0.26   0.25 0.26\n",
              "5         0.97 0.74    0.21   0.40 0.28   0.27 0.28\n",
              "6         0.97 0.78    0.16   0.36 0.22   0.21 0.23\n",
              "7         0.97 0.73    0.24   0.39 0.30   0.29 0.29\n",
              "8         0.97 0.69    0.21   0.40 0.28   0.27 0.28\n",
              "9         0.97 0.76    0.20   0.37 0.26   0.25 0.26\n",
              "10        0.97 0.76    0.20   0.30 0.24   0.23 0.23\n",
              "11        0.98 0.75    0.27   0.45 0.34   0.32 0.34\n",
              "12        0.97 0.79    0.17   0.39 0.24   0.23 0.25\n",
              "13        0.98 0.73    0.31   0.48 0.37   0.36 0.37\n",
              "14        0.97 0.70    0.16   0.39 0.23   0.22 0.24\n",
              "15        0.97 0.66    0.17   0.35 0.23   0.22 0.23\n",
              "16        0.98 0.77    0.24   0.45 0.31   0.30 0.32\n",
              "17        0.97 0.75    0.21   0.37 0.27   0.26 0.27\n",
              "18        0.98 0.73    0.11   0.42 0.17   0.16 0.20\n",
              "19        0.97 0.76    0.20   0.38 0.26   0.25 0.27\n",
              "20        0.97 0.70    0.20   0.38 0.26   0.25 0.26\n",
              "21        0.98 0.77    0.20   0.43 0.27   0.26 0.28\n",
              "22        0.97 0.75    0.23   0.39 0.29   0.27 0.28\n",
              "23        0.97 0.75    0.16   0.26 0.20   0.18 0.19\n",
              "24        0.98 0.75    0.25   0.56 0.35   0.34 0.37\n",
              "25        0.97 0.77    0.23   0.40 0.29   0.28 0.29\n",
              "26        0.98 0.73    0.16   0.41 0.23   0.22 0.25\n",
              "27        0.97 0.74    0.19   0.37 0.25   0.24 0.25\n",
              "28        0.97 0.71    0.24   0.38 0.30   0.28 0.29\n",
              "29        0.97 0.75    0.17   0.36 0.23   0.22 0.24\n",
              "30        0.98 0.75    0.25   0.43 0.32   0.31 0.32\n",
              "31        0.97 0.73    0.17   0.34 0.23   0.22 0.23\n",
              "32        0.97 0.69    0.12   0.29 0.17   0.16 0.17\n",
              "33        0.97 0.71    0.19   0.32 0.24   0.22 0.23\n",
              "34        0.97 0.76    0.16   0.28 0.20   0.19 0.20\n",
              "35        0.98 0.78    0.24   0.50 0.32   0.31 0.34\n",
              "36        0.97 0.74    0.16   0.36 0.22   0.21 0.23\n",
              "37        0.97 0.77    0.19   0.30 0.23   0.22 0.22\n",
              "38        0.97 0.66    0.17   0.33 0.23   0.22 0.23\n",
              "39        0.98 0.72    0.25   0.49 0.33   0.32 0.34\n",
              "40        0.98 0.72    0.17   0.46 0.25   0.24 0.27\n",
              "41        0.97 0.74    0.21   0.37 0.27   0.26 0.27\n",
              "42        0.97 0.74    0.23   0.38 0.28   0.27 0.28\n",
              "43        0.97 0.74    0.15   0.33 0.20   0.19 0.21\n",
              "44        0.97 0.73    0.21   0.29 0.24   0.23 0.23\n",
              "45        0.98 0.72    0.23   0.46 0.30   0.29 0.31\n",
              "46        0.98 0.73    0.27   0.48 0.34   0.33 0.35\n",
              "47        0.97 0.70    0.23   0.39 0.29   0.27 0.28\n",
              "48        0.97 0.74    0.19   0.33 0.24   0.22 0.23\n",
              "49        0.97 0.82    0.20   0.30 0.24   0.23 0.23\n",
              "Mean      0.97 0.74    0.20   0.39 0.26   0.25 0.27\n",
              "SD        0.00 0.03    0.04   0.06 0.04   0.04 0.04"
            ]
          },
          "metadata": {},
          "output_type": "display_data"
        }
      ]
    },
    {
      "cell_type": "code",
      "metadata": {
        "id": "nF9d5Fnvn_Bt",
        "colab": {
          "base_uri": "https://localhost:8080/",
          "height": 1000,
          "referenced_widgets": [
            "9d7a5b9907074f2da0ad32a95245ca0c",
            "3114143ce6d44ad39a20c67d4f736890",
            "6b6b101a75044d4aa2dab64c9696991c"
          ]
        },
        "outputId": "86a8b44b-632b-4b20-a7de-f1f3b48c3f28"
      },
      "source": [
        "lda_clf = create_model('lda')"
      ],
      "execution_count": null,
      "outputs": [
        {
          "output_type": "display_data",
          "data": {
            "text/html": [
              "<div>\n",
              "<style scoped>\n",
              "    .dataframe tbody tr th:only-of-type {\n",
              "        vertical-align: middle;\n",
              "    }\n",
              "\n",
              "    .dataframe tbody tr th {\n",
              "        vertical-align: top;\n",
              "    }\n",
              "\n",
              "    .dataframe thead th {\n",
              "        text-align: right;\n",
              "    }\n",
              "</style>\n",
              "<table border=\"1\" class=\"dataframe\">\n",
              "  <thead>\n",
              "    <tr style=\"text-align: right;\">\n",
              "      <th></th>\n",
              "      <th>Accuracy</th>\n",
              "      <th>AUC</th>\n",
              "      <th>Recall</th>\n",
              "      <th>Prec.</th>\n",
              "      <th>F1</th>\n",
              "      <th>Kappa</th>\n",
              "      <th>MCC</th>\n",
              "    </tr>\n",
              "  </thead>\n",
              "  <tbody>\n",
              "    <tr>\n",
              "      <th>0</th>\n",
              "      <td>0.61</td>\n",
              "      <td>0.60</td>\n",
              "      <td>0.51</td>\n",
              "      <td>0.03</td>\n",
              "      <td>0.06</td>\n",
              "      <td>0.01</td>\n",
              "      <td>0.04</td>\n",
              "    </tr>\n",
              "    <tr>\n",
              "      <th>1</th>\n",
              "      <td>0.60</td>\n",
              "      <td>0.61</td>\n",
              "      <td>0.56</td>\n",
              "      <td>0.03</td>\n",
              "      <td>0.06</td>\n",
              "      <td>0.02</td>\n",
              "      <td>0.05</td>\n",
              "    </tr>\n",
              "    <tr>\n",
              "      <th>2</th>\n",
              "      <td>0.63</td>\n",
              "      <td>0.57</td>\n",
              "      <td>0.47</td>\n",
              "      <td>0.03</td>\n",
              "      <td>0.06</td>\n",
              "      <td>0.01</td>\n",
              "      <td>0.03</td>\n",
              "    </tr>\n",
              "    <tr>\n",
              "      <th>3</th>\n",
              "      <td>0.61</td>\n",
              "      <td>0.58</td>\n",
              "      <td>0.52</td>\n",
              "      <td>0.03</td>\n",
              "      <td>0.06</td>\n",
              "      <td>0.01</td>\n",
              "      <td>0.04</td>\n",
              "    </tr>\n",
              "    <tr>\n",
              "      <th>4</th>\n",
              "      <td>0.65</td>\n",
              "      <td>0.53</td>\n",
              "      <td>0.37</td>\n",
              "      <td>0.02</td>\n",
              "      <td>0.05</td>\n",
              "      <td>0.00</td>\n",
              "      <td>0.01</td>\n",
              "    </tr>\n",
              "    <tr>\n",
              "      <th>5</th>\n",
              "      <td>0.62</td>\n",
              "      <td>0.60</td>\n",
              "      <td>0.55</td>\n",
              "      <td>0.03</td>\n",
              "      <td>0.06</td>\n",
              "      <td>0.02</td>\n",
              "      <td>0.05</td>\n",
              "    </tr>\n",
              "    <tr>\n",
              "      <th>6</th>\n",
              "      <td>0.61</td>\n",
              "      <td>0.57</td>\n",
              "      <td>0.47</td>\n",
              "      <td>0.03</td>\n",
              "      <td>0.05</td>\n",
              "      <td>0.01</td>\n",
              "      <td>0.02</td>\n",
              "    </tr>\n",
              "    <tr>\n",
              "      <th>7</th>\n",
              "      <td>0.66</td>\n",
              "      <td>0.55</td>\n",
              "      <td>0.41</td>\n",
              "      <td>0.03</td>\n",
              "      <td>0.05</td>\n",
              "      <td>0.01</td>\n",
              "      <td>0.03</td>\n",
              "    </tr>\n",
              "    <tr>\n",
              "      <th>8</th>\n",
              "      <td>0.62</td>\n",
              "      <td>0.58</td>\n",
              "      <td>0.48</td>\n",
              "      <td>0.03</td>\n",
              "      <td>0.05</td>\n",
              "      <td>0.01</td>\n",
              "      <td>0.03</td>\n",
              "    </tr>\n",
              "    <tr>\n",
              "      <th>9</th>\n",
              "      <td>0.63</td>\n",
              "      <td>0.63</td>\n",
              "      <td>0.49</td>\n",
              "      <td>0.03</td>\n",
              "      <td>0.06</td>\n",
              "      <td>0.01</td>\n",
              "      <td>0.04</td>\n",
              "    </tr>\n",
              "    <tr>\n",
              "      <th>10</th>\n",
              "      <td>0.65</td>\n",
              "      <td>0.57</td>\n",
              "      <td>0.44</td>\n",
              "      <td>0.03</td>\n",
              "      <td>0.05</td>\n",
              "      <td>0.01</td>\n",
              "      <td>0.03</td>\n",
              "    </tr>\n",
              "    <tr>\n",
              "      <th>11</th>\n",
              "      <td>0.63</td>\n",
              "      <td>0.56</td>\n",
              "      <td>0.44</td>\n",
              "      <td>0.03</td>\n",
              "      <td>0.05</td>\n",
              "      <td>0.01</td>\n",
              "      <td>0.02</td>\n",
              "    </tr>\n",
              "    <tr>\n",
              "      <th>12</th>\n",
              "      <td>0.60</td>\n",
              "      <td>0.66</td>\n",
              "      <td>0.61</td>\n",
              "      <td>0.03</td>\n",
              "      <td>0.07</td>\n",
              "      <td>0.02</td>\n",
              "      <td>0.07</td>\n",
              "    </tr>\n",
              "    <tr>\n",
              "      <th>13</th>\n",
              "      <td>0.61</td>\n",
              "      <td>0.59</td>\n",
              "      <td>0.53</td>\n",
              "      <td>0.03</td>\n",
              "      <td>0.06</td>\n",
              "      <td>0.02</td>\n",
              "      <td>0.04</td>\n",
              "    </tr>\n",
              "    <tr>\n",
              "      <th>14</th>\n",
              "      <td>0.64</td>\n",
              "      <td>0.59</td>\n",
              "      <td>0.45</td>\n",
              "      <td>0.03</td>\n",
              "      <td>0.05</td>\n",
              "      <td>0.01</td>\n",
              "      <td>0.03</td>\n",
              "    </tr>\n",
              "    <tr>\n",
              "      <th>15</th>\n",
              "      <td>0.61</td>\n",
              "      <td>0.55</td>\n",
              "      <td>0.41</td>\n",
              "      <td>0.02</td>\n",
              "      <td>0.05</td>\n",
              "      <td>0.00</td>\n",
              "      <td>0.01</td>\n",
              "    </tr>\n",
              "    <tr>\n",
              "      <th>16</th>\n",
              "      <td>0.62</td>\n",
              "      <td>0.57</td>\n",
              "      <td>0.44</td>\n",
              "      <td>0.03</td>\n",
              "      <td>0.05</td>\n",
              "      <td>0.01</td>\n",
              "      <td>0.02</td>\n",
              "    </tr>\n",
              "    <tr>\n",
              "      <th>17</th>\n",
              "      <td>0.66</td>\n",
              "      <td>0.57</td>\n",
              "      <td>0.44</td>\n",
              "      <td>0.03</td>\n",
              "      <td>0.06</td>\n",
              "      <td>0.01</td>\n",
              "      <td>0.03</td>\n",
              "    </tr>\n",
              "    <tr>\n",
              "      <th>18</th>\n",
              "      <td>0.60</td>\n",
              "      <td>0.54</td>\n",
              "      <td>0.44</td>\n",
              "      <td>0.03</td>\n",
              "      <td>0.05</td>\n",
              "      <td>0.01</td>\n",
              "      <td>0.01</td>\n",
              "    </tr>\n",
              "    <tr>\n",
              "      <th>19</th>\n",
              "      <td>0.63</td>\n",
              "      <td>0.60</td>\n",
              "      <td>0.55</td>\n",
              "      <td>0.03</td>\n",
              "      <td>0.06</td>\n",
              "      <td>0.02</td>\n",
              "      <td>0.05</td>\n",
              "    </tr>\n",
              "    <tr>\n",
              "      <th>20</th>\n",
              "      <td>0.62</td>\n",
              "      <td>0.59</td>\n",
              "      <td>0.51</td>\n",
              "      <td>0.03</td>\n",
              "      <td>0.06</td>\n",
              "      <td>0.01</td>\n",
              "      <td>0.04</td>\n",
              "    </tr>\n",
              "    <tr>\n",
              "      <th>21</th>\n",
              "      <td>0.63</td>\n",
              "      <td>0.65</td>\n",
              "      <td>0.57</td>\n",
              "      <td>0.03</td>\n",
              "      <td>0.07</td>\n",
              "      <td>0.02</td>\n",
              "      <td>0.06</td>\n",
              "    </tr>\n",
              "    <tr>\n",
              "      <th>22</th>\n",
              "      <td>0.63</td>\n",
              "      <td>0.57</td>\n",
              "      <td>0.43</td>\n",
              "      <td>0.03</td>\n",
              "      <td>0.05</td>\n",
              "      <td>0.01</td>\n",
              "      <td>0.02</td>\n",
              "    </tr>\n",
              "    <tr>\n",
              "      <th>23</th>\n",
              "      <td>0.64</td>\n",
              "      <td>0.57</td>\n",
              "      <td>0.40</td>\n",
              "      <td>0.03</td>\n",
              "      <td>0.05</td>\n",
              "      <td>0.01</td>\n",
              "      <td>0.01</td>\n",
              "    </tr>\n",
              "    <tr>\n",
              "      <th>24</th>\n",
              "      <td>0.62</td>\n",
              "      <td>0.57</td>\n",
              "      <td>0.49</td>\n",
              "      <td>0.03</td>\n",
              "      <td>0.06</td>\n",
              "      <td>0.01</td>\n",
              "      <td>0.04</td>\n",
              "    </tr>\n",
              "    <tr>\n",
              "      <th>25</th>\n",
              "      <td>0.64</td>\n",
              "      <td>0.59</td>\n",
              "      <td>0.44</td>\n",
              "      <td>0.03</td>\n",
              "      <td>0.05</td>\n",
              "      <td>0.01</td>\n",
              "      <td>0.03</td>\n",
              "    </tr>\n",
              "    <tr>\n",
              "      <th>26</th>\n",
              "      <td>0.62</td>\n",
              "      <td>0.59</td>\n",
              "      <td>0.48</td>\n",
              "      <td>0.03</td>\n",
              "      <td>0.05</td>\n",
              "      <td>0.01</td>\n",
              "      <td>0.03</td>\n",
              "    </tr>\n",
              "    <tr>\n",
              "      <th>27</th>\n",
              "      <td>0.60</td>\n",
              "      <td>0.58</td>\n",
              "      <td>0.51</td>\n",
              "      <td>0.03</td>\n",
              "      <td>0.05</td>\n",
              "      <td>0.01</td>\n",
              "      <td>0.03</td>\n",
              "    </tr>\n",
              "    <tr>\n",
              "      <th>28</th>\n",
              "      <td>0.66</td>\n",
              "      <td>0.59</td>\n",
              "      <td>0.44</td>\n",
              "      <td>0.03</td>\n",
              "      <td>0.06</td>\n",
              "      <td>0.01</td>\n",
              "      <td>0.03</td>\n",
              "    </tr>\n",
              "    <tr>\n",
              "      <th>29</th>\n",
              "      <td>0.63</td>\n",
              "      <td>0.61</td>\n",
              "      <td>0.53</td>\n",
              "      <td>0.03</td>\n",
              "      <td>0.06</td>\n",
              "      <td>0.02</td>\n",
              "      <td>0.05</td>\n",
              "    </tr>\n",
              "    <tr>\n",
              "      <th>30</th>\n",
              "      <td>0.61</td>\n",
              "      <td>0.59</td>\n",
              "      <td>0.52</td>\n",
              "      <td>0.03</td>\n",
              "      <td>0.06</td>\n",
              "      <td>0.01</td>\n",
              "      <td>0.04</td>\n",
              "    </tr>\n",
              "    <tr>\n",
              "      <th>31</th>\n",
              "      <td>0.59</td>\n",
              "      <td>0.55</td>\n",
              "      <td>0.51</td>\n",
              "      <td>0.03</td>\n",
              "      <td>0.05</td>\n",
              "      <td>0.01</td>\n",
              "      <td>0.03</td>\n",
              "    </tr>\n",
              "    <tr>\n",
              "      <th>32</th>\n",
              "      <td>0.65</td>\n",
              "      <td>0.55</td>\n",
              "      <td>0.31</td>\n",
              "      <td>0.02</td>\n",
              "      <td>0.04</td>\n",
              "      <td>-0.00</td>\n",
              "      <td>-0.01</td>\n",
              "    </tr>\n",
              "    <tr>\n",
              "      <th>33</th>\n",
              "      <td>0.61</td>\n",
              "      <td>0.59</td>\n",
              "      <td>0.53</td>\n",
              "      <td>0.03</td>\n",
              "      <td>0.06</td>\n",
              "      <td>0.02</td>\n",
              "      <td>0.04</td>\n",
              "    </tr>\n",
              "    <tr>\n",
              "      <th>34</th>\n",
              "      <td>0.64</td>\n",
              "      <td>0.64</td>\n",
              "      <td>0.57</td>\n",
              "      <td>0.04</td>\n",
              "      <td>0.07</td>\n",
              "      <td>0.03</td>\n",
              "      <td>0.07</td>\n",
              "    </tr>\n",
              "    <tr>\n",
              "      <th>35</th>\n",
              "      <td>0.63</td>\n",
              "      <td>0.60</td>\n",
              "      <td>0.51</td>\n",
              "      <td>0.03</td>\n",
              "      <td>0.06</td>\n",
              "      <td>0.02</td>\n",
              "      <td>0.04</td>\n",
              "    </tr>\n",
              "    <tr>\n",
              "      <th>36</th>\n",
              "      <td>0.61</td>\n",
              "      <td>0.60</td>\n",
              "      <td>0.55</td>\n",
              "      <td>0.03</td>\n",
              "      <td>0.06</td>\n",
              "      <td>0.02</td>\n",
              "      <td>0.05</td>\n",
              "    </tr>\n",
              "    <tr>\n",
              "      <th>37</th>\n",
              "      <td>0.63</td>\n",
              "      <td>0.57</td>\n",
              "      <td>0.51</td>\n",
              "      <td>0.03</td>\n",
              "      <td>0.06</td>\n",
              "      <td>0.02</td>\n",
              "      <td>0.04</td>\n",
              "    </tr>\n",
              "    <tr>\n",
              "      <th>38</th>\n",
              "      <td>0.64</td>\n",
              "      <td>0.52</td>\n",
              "      <td>0.39</td>\n",
              "      <td>0.02</td>\n",
              "      <td>0.05</td>\n",
              "      <td>0.00</td>\n",
              "      <td>0.01</td>\n",
              "    </tr>\n",
              "    <tr>\n",
              "      <th>39</th>\n",
              "      <td>0.64</td>\n",
              "      <td>0.58</td>\n",
              "      <td>0.49</td>\n",
              "      <td>0.03</td>\n",
              "      <td>0.06</td>\n",
              "      <td>0.02</td>\n",
              "      <td>0.04</td>\n",
              "    </tr>\n",
              "    <tr>\n",
              "      <th>40</th>\n",
              "      <td>0.59</td>\n",
              "      <td>0.55</td>\n",
              "      <td>0.47</td>\n",
              "      <td>0.03</td>\n",
              "      <td>0.05</td>\n",
              "      <td>0.01</td>\n",
              "      <td>0.02</td>\n",
              "    </tr>\n",
              "    <tr>\n",
              "      <th>41</th>\n",
              "      <td>0.64</td>\n",
              "      <td>0.60</td>\n",
              "      <td>0.48</td>\n",
              "      <td>0.03</td>\n",
              "      <td>0.06</td>\n",
              "      <td>0.02</td>\n",
              "      <td>0.04</td>\n",
              "    </tr>\n",
              "    <tr>\n",
              "      <th>42</th>\n",
              "      <td>0.67</td>\n",
              "      <td>0.61</td>\n",
              "      <td>0.47</td>\n",
              "      <td>0.03</td>\n",
              "      <td>0.06</td>\n",
              "      <td>0.02</td>\n",
              "      <td>0.04</td>\n",
              "    </tr>\n",
              "    <tr>\n",
              "      <th>43</th>\n",
              "      <td>0.64</td>\n",
              "      <td>0.55</td>\n",
              "      <td>0.39</td>\n",
              "      <td>0.02</td>\n",
              "      <td>0.05</td>\n",
              "      <td>0.00</td>\n",
              "      <td>0.01</td>\n",
              "    </tr>\n",
              "    <tr>\n",
              "      <th>44</th>\n",
              "      <td>0.60</td>\n",
              "      <td>0.59</td>\n",
              "      <td>0.49</td>\n",
              "      <td>0.03</td>\n",
              "      <td>0.05</td>\n",
              "      <td>0.01</td>\n",
              "      <td>0.03</td>\n",
              "    </tr>\n",
              "    <tr>\n",
              "      <th>45</th>\n",
              "      <td>0.59</td>\n",
              "      <td>0.59</td>\n",
              "      <td>0.55</td>\n",
              "      <td>0.03</td>\n",
              "      <td>0.06</td>\n",
              "      <td>0.02</td>\n",
              "      <td>0.04</td>\n",
              "    </tr>\n",
              "    <tr>\n",
              "      <th>46</th>\n",
              "      <td>0.65</td>\n",
              "      <td>0.58</td>\n",
              "      <td>0.48</td>\n",
              "      <td>0.03</td>\n",
              "      <td>0.06</td>\n",
              "      <td>0.02</td>\n",
              "      <td>0.04</td>\n",
              "    </tr>\n",
              "    <tr>\n",
              "      <th>47</th>\n",
              "      <td>0.65</td>\n",
              "      <td>0.54</td>\n",
              "      <td>0.39</td>\n",
              "      <td>0.03</td>\n",
              "      <td>0.05</td>\n",
              "      <td>0.01</td>\n",
              "      <td>0.01</td>\n",
              "    </tr>\n",
              "    <tr>\n",
              "      <th>48</th>\n",
              "      <td>0.60</td>\n",
              "      <td>0.60</td>\n",
              "      <td>0.53</td>\n",
              "      <td>0.03</td>\n",
              "      <td>0.06</td>\n",
              "      <td>0.02</td>\n",
              "      <td>0.04</td>\n",
              "    </tr>\n",
              "    <tr>\n",
              "      <th>49</th>\n",
              "      <td>0.61</td>\n",
              "      <td>0.59</td>\n",
              "      <td>0.47</td>\n",
              "      <td>0.03</td>\n",
              "      <td>0.05</td>\n",
              "      <td>0.01</td>\n",
              "      <td>0.03</td>\n",
              "    </tr>\n",
              "    <tr>\n",
              "      <th>Mean</th>\n",
              "      <td>0.62</td>\n",
              "      <td>0.58</td>\n",
              "      <td>0.48</td>\n",
              "      <td>0.03</td>\n",
              "      <td>0.06</td>\n",
              "      <td>0.01</td>\n",
              "      <td>0.03</td>\n",
              "    </tr>\n",
              "    <tr>\n",
              "      <th>SD</th>\n",
              "      <td>0.02</td>\n",
              "      <td>0.03</td>\n",
              "      <td>0.06</td>\n",
              "      <td>0.00</td>\n",
              "      <td>0.01</td>\n",
              "      <td>0.01</td>\n",
              "      <td>0.02</td>\n",
              "    </tr>\n",
              "  </tbody>\n",
              "</table>\n",
              "</div>"
            ],
            "text/plain": [
              "      Accuracy  AUC  Recall  Prec.   F1  Kappa   MCC\n",
              "0         0.61 0.60    0.51   0.03 0.06   0.01  0.04\n",
              "1         0.60 0.61    0.56   0.03 0.06   0.02  0.05\n",
              "2         0.63 0.57    0.47   0.03 0.06   0.01  0.03\n",
              "3         0.61 0.58    0.52   0.03 0.06   0.01  0.04\n",
              "4         0.65 0.53    0.37   0.02 0.05   0.00  0.01\n",
              "5         0.62 0.60    0.55   0.03 0.06   0.02  0.05\n",
              "6         0.61 0.57    0.47   0.03 0.05   0.01  0.02\n",
              "7         0.66 0.55    0.41   0.03 0.05   0.01  0.03\n",
              "8         0.62 0.58    0.48   0.03 0.05   0.01  0.03\n",
              "9         0.63 0.63    0.49   0.03 0.06   0.01  0.04\n",
              "10        0.65 0.57    0.44   0.03 0.05   0.01  0.03\n",
              "11        0.63 0.56    0.44   0.03 0.05   0.01  0.02\n",
              "12        0.60 0.66    0.61   0.03 0.07   0.02  0.07\n",
              "13        0.61 0.59    0.53   0.03 0.06   0.02  0.04\n",
              "14        0.64 0.59    0.45   0.03 0.05   0.01  0.03\n",
              "15        0.61 0.55    0.41   0.02 0.05   0.00  0.01\n",
              "16        0.62 0.57    0.44   0.03 0.05   0.01  0.02\n",
              "17        0.66 0.57    0.44   0.03 0.06   0.01  0.03\n",
              "18        0.60 0.54    0.44   0.03 0.05   0.01  0.01\n",
              "19        0.63 0.60    0.55   0.03 0.06   0.02  0.05\n",
              "20        0.62 0.59    0.51   0.03 0.06   0.01  0.04\n",
              "21        0.63 0.65    0.57   0.03 0.07   0.02  0.06\n",
              "22        0.63 0.57    0.43   0.03 0.05   0.01  0.02\n",
              "23        0.64 0.57    0.40   0.03 0.05   0.01  0.01\n",
              "24        0.62 0.57    0.49   0.03 0.06   0.01  0.04\n",
              "25        0.64 0.59    0.44   0.03 0.05   0.01  0.03\n",
              "26        0.62 0.59    0.48   0.03 0.05   0.01  0.03\n",
              "27        0.60 0.58    0.51   0.03 0.05   0.01  0.03\n",
              "28        0.66 0.59    0.44   0.03 0.06   0.01  0.03\n",
              "29        0.63 0.61    0.53   0.03 0.06   0.02  0.05\n",
              "30        0.61 0.59    0.52   0.03 0.06   0.01  0.04\n",
              "31        0.59 0.55    0.51   0.03 0.05   0.01  0.03\n",
              "32        0.65 0.55    0.31   0.02 0.04  -0.00 -0.01\n",
              "33        0.61 0.59    0.53   0.03 0.06   0.02  0.04\n",
              "34        0.64 0.64    0.57   0.04 0.07   0.03  0.07\n",
              "35        0.63 0.60    0.51   0.03 0.06   0.02  0.04\n",
              "36        0.61 0.60    0.55   0.03 0.06   0.02  0.05\n",
              "37        0.63 0.57    0.51   0.03 0.06   0.02  0.04\n",
              "38        0.64 0.52    0.39   0.02 0.05   0.00  0.01\n",
              "39        0.64 0.58    0.49   0.03 0.06   0.02  0.04\n",
              "40        0.59 0.55    0.47   0.03 0.05   0.01  0.02\n",
              "41        0.64 0.60    0.48   0.03 0.06   0.02  0.04\n",
              "42        0.67 0.61    0.47   0.03 0.06   0.02  0.04\n",
              "43        0.64 0.55    0.39   0.02 0.05   0.00  0.01\n",
              "44        0.60 0.59    0.49   0.03 0.05   0.01  0.03\n",
              "45        0.59 0.59    0.55   0.03 0.06   0.02  0.04\n",
              "46        0.65 0.58    0.48   0.03 0.06   0.02  0.04\n",
              "47        0.65 0.54    0.39   0.03 0.05   0.01  0.01\n",
              "48        0.60 0.60    0.53   0.03 0.06   0.02  0.04\n",
              "49        0.61 0.59    0.47   0.03 0.05   0.01  0.03\n",
              "Mean      0.62 0.58    0.48   0.03 0.06   0.01  0.03\n",
              "SD        0.02 0.03    0.06   0.00 0.01   0.01  0.02"
            ]
          },
          "metadata": {}
        }
      ]
    },
    {
      "cell_type": "code",
      "metadata": {
        "id": "-xBPaHa3oA-J",
        "colab": {
          "base_uri": "https://localhost:8080/",
          "height": 1000
        },
        "outputId": "095f5c31-9ae5-40f0-b1d9-fe9836ee124d"
      },
      "source": [
        "dt_clf = create_model('dt')"
      ],
      "execution_count": null,
      "outputs": [
        {
          "output_type": "display_data",
          "data": {
            "text/html": [
              "<div>\n",
              "<style scoped>\n",
              "    .dataframe tbody tr th:only-of-type {\n",
              "        vertical-align: middle;\n",
              "    }\n",
              "\n",
              "    .dataframe tbody tr th {\n",
              "        vertical-align: top;\n",
              "    }\n",
              "\n",
              "    .dataframe thead th {\n",
              "        text-align: right;\n",
              "    }\n",
              "</style>\n",
              "<table border=\"1\" class=\"dataframe\">\n",
              "  <thead>\n",
              "    <tr style=\"text-align: right;\">\n",
              "      <th></th>\n",
              "      <th>Accuracy</th>\n",
              "      <th>AUC</th>\n",
              "      <th>Recall</th>\n",
              "      <th>Prec.</th>\n",
              "      <th>F1</th>\n",
              "      <th>Kappa</th>\n",
              "      <th>MCC</th>\n",
              "    </tr>\n",
              "  </thead>\n",
              "  <tbody>\n",
              "    <tr>\n",
              "      <th>0</th>\n",
              "      <td>0.96</td>\n",
              "      <td>0.60</td>\n",
              "      <td>0.23</td>\n",
              "      <td>0.22</td>\n",
              "      <td>0.22</td>\n",
              "      <td>0.20</td>\n",
              "      <td>0.20</td>\n",
              "    </tr>\n",
              "    <tr>\n",
              "      <th>1</th>\n",
              "      <td>0.96</td>\n",
              "      <td>0.64</td>\n",
              "      <td>0.29</td>\n",
              "      <td>0.23</td>\n",
              "      <td>0.26</td>\n",
              "      <td>0.24</td>\n",
              "      <td>0.24</td>\n",
              "    </tr>\n",
              "    <tr>\n",
              "      <th>2</th>\n",
              "      <td>0.97</td>\n",
              "      <td>0.62</td>\n",
              "      <td>0.27</td>\n",
              "      <td>0.26</td>\n",
              "      <td>0.26</td>\n",
              "      <td>0.25</td>\n",
              "      <td>0.25</td>\n",
              "    </tr>\n",
              "    <tr>\n",
              "      <th>3</th>\n",
              "      <td>0.97</td>\n",
              "      <td>0.60</td>\n",
              "      <td>0.21</td>\n",
              "      <td>0.25</td>\n",
              "      <td>0.23</td>\n",
              "      <td>0.21</td>\n",
              "      <td>0.21</td>\n",
              "    </tr>\n",
              "    <tr>\n",
              "      <th>4</th>\n",
              "      <td>0.96</td>\n",
              "      <td>0.65</td>\n",
              "      <td>0.32</td>\n",
              "      <td>0.27</td>\n",
              "      <td>0.29</td>\n",
              "      <td>0.27</td>\n",
              "      <td>0.28</td>\n",
              "    </tr>\n",
              "    <tr>\n",
              "      <th>5</th>\n",
              "      <td>0.97</td>\n",
              "      <td>0.64</td>\n",
              "      <td>0.31</td>\n",
              "      <td>0.28</td>\n",
              "      <td>0.29</td>\n",
              "      <td>0.28</td>\n",
              "      <td>0.28</td>\n",
              "    </tr>\n",
              "    <tr>\n",
              "      <th>6</th>\n",
              "      <td>0.96</td>\n",
              "      <td>0.61</td>\n",
              "      <td>0.24</td>\n",
              "      <td>0.23</td>\n",
              "      <td>0.24</td>\n",
              "      <td>0.22</td>\n",
              "      <td>0.22</td>\n",
              "    </tr>\n",
              "    <tr>\n",
              "      <th>7</th>\n",
              "      <td>0.97</td>\n",
              "      <td>0.64</td>\n",
              "      <td>0.29</td>\n",
              "      <td>0.28</td>\n",
              "      <td>0.28</td>\n",
              "      <td>0.27</td>\n",
              "      <td>0.27</td>\n",
              "    </tr>\n",
              "    <tr>\n",
              "      <th>8</th>\n",
              "      <td>0.96</td>\n",
              "      <td>0.62</td>\n",
              "      <td>0.27</td>\n",
              "      <td>0.23</td>\n",
              "      <td>0.25</td>\n",
              "      <td>0.23</td>\n",
              "      <td>0.23</td>\n",
              "    </tr>\n",
              "    <tr>\n",
              "      <th>9</th>\n",
              "      <td>0.96</td>\n",
              "      <td>0.60</td>\n",
              "      <td>0.21</td>\n",
              "      <td>0.20</td>\n",
              "      <td>0.21</td>\n",
              "      <td>0.19</td>\n",
              "      <td>0.19</td>\n",
              "    </tr>\n",
              "    <tr>\n",
              "      <th>10</th>\n",
              "      <td>0.96</td>\n",
              "      <td>0.64</td>\n",
              "      <td>0.29</td>\n",
              "      <td>0.25</td>\n",
              "      <td>0.27</td>\n",
              "      <td>0.25</td>\n",
              "      <td>0.25</td>\n",
              "    </tr>\n",
              "    <tr>\n",
              "      <th>11</th>\n",
              "      <td>0.97</td>\n",
              "      <td>0.64</td>\n",
              "      <td>0.29</td>\n",
              "      <td>0.29</td>\n",
              "      <td>0.29</td>\n",
              "      <td>0.28</td>\n",
              "      <td>0.28</td>\n",
              "    </tr>\n",
              "    <tr>\n",
              "      <th>12</th>\n",
              "      <td>0.97</td>\n",
              "      <td>0.62</td>\n",
              "      <td>0.25</td>\n",
              "      <td>0.28</td>\n",
              "      <td>0.27</td>\n",
              "      <td>0.25</td>\n",
              "      <td>0.25</td>\n",
              "    </tr>\n",
              "    <tr>\n",
              "      <th>13</th>\n",
              "      <td>0.97</td>\n",
              "      <td>0.68</td>\n",
              "      <td>0.37</td>\n",
              "      <td>0.33</td>\n",
              "      <td>0.35</td>\n",
              "      <td>0.33</td>\n",
              "      <td>0.33</td>\n",
              "    </tr>\n",
              "    <tr>\n",
              "      <th>14</th>\n",
              "      <td>0.97</td>\n",
              "      <td>0.59</td>\n",
              "      <td>0.20</td>\n",
              "      <td>0.24</td>\n",
              "      <td>0.22</td>\n",
              "      <td>0.20</td>\n",
              "      <td>0.20</td>\n",
              "    </tr>\n",
              "    <tr>\n",
              "      <th>15</th>\n",
              "      <td>0.96</td>\n",
              "      <td>0.60</td>\n",
              "      <td>0.23</td>\n",
              "      <td>0.22</td>\n",
              "      <td>0.23</td>\n",
              "      <td>0.21</td>\n",
              "      <td>0.21</td>\n",
              "    </tr>\n",
              "    <tr>\n",
              "      <th>16</th>\n",
              "      <td>0.97</td>\n",
              "      <td>0.65</td>\n",
              "      <td>0.32</td>\n",
              "      <td>0.29</td>\n",
              "      <td>0.31</td>\n",
              "      <td>0.29</td>\n",
              "      <td>0.29</td>\n",
              "    </tr>\n",
              "    <tr>\n",
              "      <th>17</th>\n",
              "      <td>0.96</td>\n",
              "      <td>0.62</td>\n",
              "      <td>0.27</td>\n",
              "      <td>0.24</td>\n",
              "      <td>0.25</td>\n",
              "      <td>0.23</td>\n",
              "      <td>0.23</td>\n",
              "    </tr>\n",
              "    <tr>\n",
              "      <th>18</th>\n",
              "      <td>0.97</td>\n",
              "      <td>0.60</td>\n",
              "      <td>0.21</td>\n",
              "      <td>0.25</td>\n",
              "      <td>0.23</td>\n",
              "      <td>0.22</td>\n",
              "      <td>0.22</td>\n",
              "    </tr>\n",
              "    <tr>\n",
              "      <th>19</th>\n",
              "      <td>0.96</td>\n",
              "      <td>0.64</td>\n",
              "      <td>0.31</td>\n",
              "      <td>0.25</td>\n",
              "      <td>0.28</td>\n",
              "      <td>0.26</td>\n",
              "      <td>0.26</td>\n",
              "    </tr>\n",
              "    <tr>\n",
              "      <th>20</th>\n",
              "      <td>0.96</td>\n",
              "      <td>0.62</td>\n",
              "      <td>0.25</td>\n",
              "      <td>0.23</td>\n",
              "      <td>0.24</td>\n",
              "      <td>0.22</td>\n",
              "      <td>0.22</td>\n",
              "    </tr>\n",
              "    <tr>\n",
              "      <th>21</th>\n",
              "      <td>0.96</td>\n",
              "      <td>0.62</td>\n",
              "      <td>0.25</td>\n",
              "      <td>0.24</td>\n",
              "      <td>0.25</td>\n",
              "      <td>0.23</td>\n",
              "      <td>0.23</td>\n",
              "    </tr>\n",
              "    <tr>\n",
              "      <th>22</th>\n",
              "      <td>0.96</td>\n",
              "      <td>0.65</td>\n",
              "      <td>0.32</td>\n",
              "      <td>0.24</td>\n",
              "      <td>0.28</td>\n",
              "      <td>0.26</td>\n",
              "      <td>0.26</td>\n",
              "    </tr>\n",
              "    <tr>\n",
              "      <th>23</th>\n",
              "      <td>0.96</td>\n",
              "      <td>0.60</td>\n",
              "      <td>0.23</td>\n",
              "      <td>0.21</td>\n",
              "      <td>0.22</td>\n",
              "      <td>0.20</td>\n",
              "      <td>0.20</td>\n",
              "    </tr>\n",
              "    <tr>\n",
              "      <th>24</th>\n",
              "      <td>0.97</td>\n",
              "      <td>0.66</td>\n",
              "      <td>0.35</td>\n",
              "      <td>0.31</td>\n",
              "      <td>0.33</td>\n",
              "      <td>0.31</td>\n",
              "      <td>0.31</td>\n",
              "    </tr>\n",
              "    <tr>\n",
              "      <th>25</th>\n",
              "      <td>0.96</td>\n",
              "      <td>0.64</td>\n",
              "      <td>0.29</td>\n",
              "      <td>0.24</td>\n",
              "      <td>0.26</td>\n",
              "      <td>0.24</td>\n",
              "      <td>0.25</td>\n",
              "    </tr>\n",
              "    <tr>\n",
              "      <th>26</th>\n",
              "      <td>0.97</td>\n",
              "      <td>0.59</td>\n",
              "      <td>0.19</td>\n",
              "      <td>0.22</td>\n",
              "      <td>0.20</td>\n",
              "      <td>0.19</td>\n",
              "      <td>0.19</td>\n",
              "    </tr>\n",
              "    <tr>\n",
              "      <th>27</th>\n",
              "      <td>0.97</td>\n",
              "      <td>0.62</td>\n",
              "      <td>0.25</td>\n",
              "      <td>0.26</td>\n",
              "      <td>0.26</td>\n",
              "      <td>0.24</td>\n",
              "      <td>0.24</td>\n",
              "    </tr>\n",
              "    <tr>\n",
              "      <th>28</th>\n",
              "      <td>0.96</td>\n",
              "      <td>0.63</td>\n",
              "      <td>0.28</td>\n",
              "      <td>0.24</td>\n",
              "      <td>0.26</td>\n",
              "      <td>0.24</td>\n",
              "      <td>0.24</td>\n",
              "    </tr>\n",
              "    <tr>\n",
              "      <th>29</th>\n",
              "      <td>0.97</td>\n",
              "      <td>0.60</td>\n",
              "      <td>0.23</td>\n",
              "      <td>0.23</td>\n",
              "      <td>0.23</td>\n",
              "      <td>0.21</td>\n",
              "      <td>0.21</td>\n",
              "    </tr>\n",
              "    <tr>\n",
              "      <th>30</th>\n",
              "      <td>0.97</td>\n",
              "      <td>0.62</td>\n",
              "      <td>0.27</td>\n",
              "      <td>0.26</td>\n",
              "      <td>0.26</td>\n",
              "      <td>0.25</td>\n",
              "      <td>0.25</td>\n",
              "    </tr>\n",
              "    <tr>\n",
              "      <th>31</th>\n",
              "      <td>0.97</td>\n",
              "      <td>0.62</td>\n",
              "      <td>0.27</td>\n",
              "      <td>0.26</td>\n",
              "      <td>0.26</td>\n",
              "      <td>0.25</td>\n",
              "      <td>0.25</td>\n",
              "    </tr>\n",
              "    <tr>\n",
              "      <th>32</th>\n",
              "      <td>0.96</td>\n",
              "      <td>0.59</td>\n",
              "      <td>0.20</td>\n",
              "      <td>0.20</td>\n",
              "      <td>0.20</td>\n",
              "      <td>0.18</td>\n",
              "      <td>0.18</td>\n",
              "    </tr>\n",
              "    <tr>\n",
              "      <th>33</th>\n",
              "      <td>0.96</td>\n",
              "      <td>0.63</td>\n",
              "      <td>0.29</td>\n",
              "      <td>0.22</td>\n",
              "      <td>0.25</td>\n",
              "      <td>0.23</td>\n",
              "      <td>0.23</td>\n",
              "    </tr>\n",
              "    <tr>\n",
              "      <th>34</th>\n",
              "      <td>0.97</td>\n",
              "      <td>0.60</td>\n",
              "      <td>0.23</td>\n",
              "      <td>0.23</td>\n",
              "      <td>0.23</td>\n",
              "      <td>0.21</td>\n",
              "      <td>0.21</td>\n",
              "    </tr>\n",
              "    <tr>\n",
              "      <th>35</th>\n",
              "      <td>0.97</td>\n",
              "      <td>0.65</td>\n",
              "      <td>0.32</td>\n",
              "      <td>0.29</td>\n",
              "      <td>0.30</td>\n",
              "      <td>0.29</td>\n",
              "      <td>0.29</td>\n",
              "    </tr>\n",
              "    <tr>\n",
              "      <th>36</th>\n",
              "      <td>0.97</td>\n",
              "      <td>0.63</td>\n",
              "      <td>0.28</td>\n",
              "      <td>0.31</td>\n",
              "      <td>0.30</td>\n",
              "      <td>0.28</td>\n",
              "      <td>0.28</td>\n",
              "    </tr>\n",
              "    <tr>\n",
              "      <th>37</th>\n",
              "      <td>0.96</td>\n",
              "      <td>0.63</td>\n",
              "      <td>0.28</td>\n",
              "      <td>0.24</td>\n",
              "      <td>0.26</td>\n",
              "      <td>0.24</td>\n",
              "      <td>0.24</td>\n",
              "    </tr>\n",
              "    <tr>\n",
              "      <th>38</th>\n",
              "      <td>0.96</td>\n",
              "      <td>0.58</td>\n",
              "      <td>0.19</td>\n",
              "      <td>0.20</td>\n",
              "      <td>0.19</td>\n",
              "      <td>0.17</td>\n",
              "      <td>0.17</td>\n",
              "    </tr>\n",
              "    <tr>\n",
              "      <th>39</th>\n",
              "      <td>0.97</td>\n",
              "      <td>0.64</td>\n",
              "      <td>0.29</td>\n",
              "      <td>0.29</td>\n",
              "      <td>0.29</td>\n",
              "      <td>0.27</td>\n",
              "      <td>0.27</td>\n",
              "    </tr>\n",
              "    <tr>\n",
              "      <th>40</th>\n",
              "      <td>0.97</td>\n",
              "      <td>0.61</td>\n",
              "      <td>0.23</td>\n",
              "      <td>0.26</td>\n",
              "      <td>0.24</td>\n",
              "      <td>0.23</td>\n",
              "      <td>0.23</td>\n",
              "    </tr>\n",
              "    <tr>\n",
              "      <th>41</th>\n",
              "      <td>0.96</td>\n",
              "      <td>0.60</td>\n",
              "      <td>0.23</td>\n",
              "      <td>0.22</td>\n",
              "      <td>0.22</td>\n",
              "      <td>0.20</td>\n",
              "      <td>0.20</td>\n",
              "    </tr>\n",
              "    <tr>\n",
              "      <th>42</th>\n",
              "      <td>0.97</td>\n",
              "      <td>0.68</td>\n",
              "      <td>0.37</td>\n",
              "      <td>0.33</td>\n",
              "      <td>0.35</td>\n",
              "      <td>0.34</td>\n",
              "      <td>0.34</td>\n",
              "    </tr>\n",
              "    <tr>\n",
              "      <th>43</th>\n",
              "      <td>0.97</td>\n",
              "      <td>0.59</td>\n",
              "      <td>0.20</td>\n",
              "      <td>0.23</td>\n",
              "      <td>0.22</td>\n",
              "      <td>0.20</td>\n",
              "      <td>0.20</td>\n",
              "    </tr>\n",
              "    <tr>\n",
              "      <th>44</th>\n",
              "      <td>0.96</td>\n",
              "      <td>0.64</td>\n",
              "      <td>0.31</td>\n",
              "      <td>0.20</td>\n",
              "      <td>0.24</td>\n",
              "      <td>0.22</td>\n",
              "      <td>0.23</td>\n",
              "    </tr>\n",
              "    <tr>\n",
              "      <th>45</th>\n",
              "      <td>0.96</td>\n",
              "      <td>0.64</td>\n",
              "      <td>0.29</td>\n",
              "      <td>0.26</td>\n",
              "      <td>0.28</td>\n",
              "      <td>0.26</td>\n",
              "      <td>0.26</td>\n",
              "    </tr>\n",
              "    <tr>\n",
              "      <th>46</th>\n",
              "      <td>0.97</td>\n",
              "      <td>0.64</td>\n",
              "      <td>0.29</td>\n",
              "      <td>0.28</td>\n",
              "      <td>0.28</td>\n",
              "      <td>0.27</td>\n",
              "      <td>0.27</td>\n",
              "    </tr>\n",
              "    <tr>\n",
              "      <th>47</th>\n",
              "      <td>0.96</td>\n",
              "      <td>0.64</td>\n",
              "      <td>0.31</td>\n",
              "      <td>0.26</td>\n",
              "      <td>0.28</td>\n",
              "      <td>0.27</td>\n",
              "      <td>0.27</td>\n",
              "    </tr>\n",
              "    <tr>\n",
              "      <th>48</th>\n",
              "      <td>0.96</td>\n",
              "      <td>0.64</td>\n",
              "      <td>0.29</td>\n",
              "      <td>0.23</td>\n",
              "      <td>0.26</td>\n",
              "      <td>0.24</td>\n",
              "      <td>0.24</td>\n",
              "    </tr>\n",
              "    <tr>\n",
              "      <th>49</th>\n",
              "      <td>0.96</td>\n",
              "      <td>0.61</td>\n",
              "      <td>0.24</td>\n",
              "      <td>0.21</td>\n",
              "      <td>0.22</td>\n",
              "      <td>0.20</td>\n",
              "      <td>0.20</td>\n",
              "    </tr>\n",
              "    <tr>\n",
              "      <th>Mean</th>\n",
              "      <td>0.96</td>\n",
              "      <td>0.62</td>\n",
              "      <td>0.27</td>\n",
              "      <td>0.25</td>\n",
              "      <td>0.26</td>\n",
              "      <td>0.24</td>\n",
              "      <td>0.24</td>\n",
              "    </tr>\n",
              "    <tr>\n",
              "      <th>SD</th>\n",
              "      <td>0.00</td>\n",
              "      <td>0.02</td>\n",
              "      <td>0.05</td>\n",
              "      <td>0.03</td>\n",
              "      <td>0.04</td>\n",
              "      <td>0.04</td>\n",
              "      <td>0.04</td>\n",
              "    </tr>\n",
              "  </tbody>\n",
              "</table>\n",
              "</div>"
            ],
            "text/plain": [
              "      Accuracy  AUC  Recall  Prec.   F1  Kappa  MCC\n",
              "0         0.96 0.60    0.23   0.22 0.22   0.20 0.20\n",
              "1         0.96 0.64    0.29   0.23 0.26   0.24 0.24\n",
              "2         0.97 0.62    0.27   0.26 0.26   0.25 0.25\n",
              "3         0.97 0.60    0.21   0.25 0.23   0.21 0.21\n",
              "4         0.96 0.65    0.32   0.27 0.29   0.27 0.28\n",
              "5         0.97 0.64    0.31   0.28 0.29   0.28 0.28\n",
              "6         0.96 0.61    0.24   0.23 0.24   0.22 0.22\n",
              "7         0.97 0.64    0.29   0.28 0.28   0.27 0.27\n",
              "8         0.96 0.62    0.27   0.23 0.25   0.23 0.23\n",
              "9         0.96 0.60    0.21   0.20 0.21   0.19 0.19\n",
              "10        0.96 0.64    0.29   0.25 0.27   0.25 0.25\n",
              "11        0.97 0.64    0.29   0.29 0.29   0.28 0.28\n",
              "12        0.97 0.62    0.25   0.28 0.27   0.25 0.25\n",
              "13        0.97 0.68    0.37   0.33 0.35   0.33 0.33\n",
              "14        0.97 0.59    0.20   0.24 0.22   0.20 0.20\n",
              "15        0.96 0.60    0.23   0.22 0.23   0.21 0.21\n",
              "16        0.97 0.65    0.32   0.29 0.31   0.29 0.29\n",
              "17        0.96 0.62    0.27   0.24 0.25   0.23 0.23\n",
              "18        0.97 0.60    0.21   0.25 0.23   0.22 0.22\n",
              "19        0.96 0.64    0.31   0.25 0.28   0.26 0.26\n",
              "20        0.96 0.62    0.25   0.23 0.24   0.22 0.22\n",
              "21        0.96 0.62    0.25   0.24 0.25   0.23 0.23\n",
              "22        0.96 0.65    0.32   0.24 0.28   0.26 0.26\n",
              "23        0.96 0.60    0.23   0.21 0.22   0.20 0.20\n",
              "24        0.97 0.66    0.35   0.31 0.33   0.31 0.31\n",
              "25        0.96 0.64    0.29   0.24 0.26   0.24 0.25\n",
              "26        0.97 0.59    0.19   0.22 0.20   0.19 0.19\n",
              "27        0.97 0.62    0.25   0.26 0.26   0.24 0.24\n",
              "28        0.96 0.63    0.28   0.24 0.26   0.24 0.24\n",
              "29        0.97 0.60    0.23   0.23 0.23   0.21 0.21\n",
              "30        0.97 0.62    0.27   0.26 0.26   0.25 0.25\n",
              "31        0.97 0.62    0.27   0.26 0.26   0.25 0.25\n",
              "32        0.96 0.59    0.20   0.20 0.20   0.18 0.18\n",
              "33        0.96 0.63    0.29   0.22 0.25   0.23 0.23\n",
              "34        0.97 0.60    0.23   0.23 0.23   0.21 0.21\n",
              "35        0.97 0.65    0.32   0.29 0.30   0.29 0.29\n",
              "36        0.97 0.63    0.28   0.31 0.30   0.28 0.28\n",
              "37        0.96 0.63    0.28   0.24 0.26   0.24 0.24\n",
              "38        0.96 0.58    0.19   0.20 0.19   0.17 0.17\n",
              "39        0.97 0.64    0.29   0.29 0.29   0.27 0.27\n",
              "40        0.97 0.61    0.23   0.26 0.24   0.23 0.23\n",
              "41        0.96 0.60    0.23   0.22 0.22   0.20 0.20\n",
              "42        0.97 0.68    0.37   0.33 0.35   0.34 0.34\n",
              "43        0.97 0.59    0.20   0.23 0.22   0.20 0.20\n",
              "44        0.96 0.64    0.31   0.20 0.24   0.22 0.23\n",
              "45        0.96 0.64    0.29   0.26 0.28   0.26 0.26\n",
              "46        0.97 0.64    0.29   0.28 0.28   0.27 0.27\n",
              "47        0.96 0.64    0.31   0.26 0.28   0.27 0.27\n",
              "48        0.96 0.64    0.29   0.23 0.26   0.24 0.24\n",
              "49        0.96 0.61    0.24   0.21 0.22   0.20 0.20\n",
              "Mean      0.96 0.62    0.27   0.25 0.26   0.24 0.24\n",
              "SD        0.00 0.02    0.05   0.03 0.04   0.04 0.04"
            ]
          },
          "metadata": {}
        }
      ]
    },
    {
      "cell_type": "code",
      "metadata": {
        "colab": {
          "base_uri": "https://localhost:8080/",
          "height": 1000
        },
        "id": "0RPOkU3_oFmc",
        "outputId": "78ae3ed3-4278-4e5d-ef88-535bf90594f1"
      },
      "source": [
        "lr_model_clf = create_model('lr')"
      ],
      "execution_count": null,
      "outputs": [
        {
          "data": {
            "text/html": [
              "<div>\n",
              "<style scoped>\n",
              "    .dataframe tbody tr th:only-of-type {\n",
              "        vertical-align: middle;\n",
              "    }\n",
              "\n",
              "    .dataframe tbody tr th {\n",
              "        vertical-align: top;\n",
              "    }\n",
              "\n",
              "    .dataframe thead th {\n",
              "        text-align: right;\n",
              "    }\n",
              "</style>\n",
              "<table border=\"1\" class=\"dataframe\">\n",
              "  <thead>\n",
              "    <tr style=\"text-align: right;\">\n",
              "      <th></th>\n",
              "      <th>Accuracy</th>\n",
              "      <th>AUC</th>\n",
              "      <th>Recall</th>\n",
              "      <th>Prec.</th>\n",
              "      <th>F1</th>\n",
              "      <th>Kappa</th>\n",
              "      <th>MCC</th>\n",
              "    </tr>\n",
              "  </thead>\n",
              "  <tbody>\n",
              "    <tr>\n",
              "      <th>0</th>\n",
              "      <td>0.55</td>\n",
              "      <td>0.44</td>\n",
              "      <td>0.39</td>\n",
              "      <td>0.02</td>\n",
              "      <td>0.04</td>\n",
              "      <td>-0.01</td>\n",
              "      <td>-0.02</td>\n",
              "    </tr>\n",
              "    <tr>\n",
              "      <th>1</th>\n",
              "      <td>0.52</td>\n",
              "      <td>0.45</td>\n",
              "      <td>0.39</td>\n",
              "      <td>0.02</td>\n",
              "      <td>0.04</td>\n",
              "      <td>-0.01</td>\n",
              "      <td>-0.03</td>\n",
              "    </tr>\n",
              "    <tr>\n",
              "      <th>2</th>\n",
              "      <td>0.47</td>\n",
              "      <td>0.48</td>\n",
              "      <td>0.51</td>\n",
              "      <td>0.02</td>\n",
              "      <td>0.04</td>\n",
              "      <td>-0.00</td>\n",
              "      <td>-0.01</td>\n",
              "    </tr>\n",
              "    <tr>\n",
              "      <th>3</th>\n",
              "      <td>0.43</td>\n",
              "      <td>0.49</td>\n",
              "      <td>0.51</td>\n",
              "      <td>0.02</td>\n",
              "      <td>0.04</td>\n",
              "      <td>-0.01</td>\n",
              "      <td>-0.02</td>\n",
              "    </tr>\n",
              "    <tr>\n",
              "      <th>4</th>\n",
              "      <td>0.45</td>\n",
              "      <td>0.48</td>\n",
              "      <td>0.56</td>\n",
              "      <td>0.02</td>\n",
              "      <td>0.04</td>\n",
              "      <td>0.00</td>\n",
              "      <td>0.00</td>\n",
              "    </tr>\n",
              "    <tr>\n",
              "      <th>5</th>\n",
              "      <td>0.42</td>\n",
              "      <td>0.52</td>\n",
              "      <td>0.61</td>\n",
              "      <td>0.02</td>\n",
              "      <td>0.05</td>\n",
              "      <td>0.00</td>\n",
              "      <td>0.01</td>\n",
              "    </tr>\n",
              "    <tr>\n",
              "      <th>6</th>\n",
              "      <td>0.40</td>\n",
              "      <td>0.52</td>\n",
              "      <td>0.65</td>\n",
              "      <td>0.02</td>\n",
              "      <td>0.05</td>\n",
              "      <td>0.00</td>\n",
              "      <td>0.02</td>\n",
              "    </tr>\n",
              "    <tr>\n",
              "      <th>7</th>\n",
              "      <td>0.40</td>\n",
              "      <td>0.52</td>\n",
              "      <td>0.63</td>\n",
              "      <td>0.02</td>\n",
              "      <td>0.05</td>\n",
              "      <td>0.00</td>\n",
              "      <td>0.01</td>\n",
              "    </tr>\n",
              "    <tr>\n",
              "      <th>8</th>\n",
              "      <td>0.43</td>\n",
              "      <td>0.51</td>\n",
              "      <td>0.57</td>\n",
              "      <td>0.02</td>\n",
              "      <td>0.04</td>\n",
              "      <td>-0.00</td>\n",
              "      <td>-0.00</td>\n",
              "    </tr>\n",
              "    <tr>\n",
              "      <th>9</th>\n",
              "      <td>0.45</td>\n",
              "      <td>0.49</td>\n",
              "      <td>0.53</td>\n",
              "      <td>0.02</td>\n",
              "      <td>0.04</td>\n",
              "      <td>-0.00</td>\n",
              "      <td>-0.01</td>\n",
              "    </tr>\n",
              "    <tr>\n",
              "      <th>10</th>\n",
              "      <td>0.41</td>\n",
              "      <td>0.51</td>\n",
              "      <td>0.63</td>\n",
              "      <td>0.02</td>\n",
              "      <td>0.05</td>\n",
              "      <td>0.00</td>\n",
              "      <td>0.01</td>\n",
              "    </tr>\n",
              "    <tr>\n",
              "      <th>11</th>\n",
              "      <td>0.41</td>\n",
              "      <td>0.51</td>\n",
              "      <td>0.60</td>\n",
              "      <td>0.02</td>\n",
              "      <td>0.04</td>\n",
              "      <td>0.00</td>\n",
              "      <td>0.00</td>\n",
              "    </tr>\n",
              "    <tr>\n",
              "      <th>12</th>\n",
              "      <td>0.46</td>\n",
              "      <td>0.50</td>\n",
              "      <td>0.59</td>\n",
              "      <td>0.02</td>\n",
              "      <td>0.05</td>\n",
              "      <td>0.00</td>\n",
              "      <td>0.01</td>\n",
              "    </tr>\n",
              "    <tr>\n",
              "      <th>13</th>\n",
              "      <td>0.38</td>\n",
              "      <td>0.56</td>\n",
              "      <td>0.69</td>\n",
              "      <td>0.03</td>\n",
              "      <td>0.05</td>\n",
              "      <td>0.01</td>\n",
              "      <td>0.02</td>\n",
              "    </tr>\n",
              "    <tr>\n",
              "      <th>14</th>\n",
              "      <td>0.45</td>\n",
              "      <td>0.48</td>\n",
              "      <td>0.48</td>\n",
              "      <td>0.02</td>\n",
              "      <td>0.04</td>\n",
              "      <td>-0.01</td>\n",
              "      <td>-0.02</td>\n",
              "    </tr>\n",
              "    <tr>\n",
              "      <th>15</th>\n",
              "      <td>0.46</td>\n",
              "      <td>0.48</td>\n",
              "      <td>0.52</td>\n",
              "      <td>0.02</td>\n",
              "      <td>0.04</td>\n",
              "      <td>-0.00</td>\n",
              "      <td>-0.01</td>\n",
              "    </tr>\n",
              "    <tr>\n",
              "      <th>16</th>\n",
              "      <td>0.37</td>\n",
              "      <td>0.56</td>\n",
              "      <td>0.72</td>\n",
              "      <td>0.03</td>\n",
              "      <td>0.05</td>\n",
              "      <td>0.01</td>\n",
              "      <td>0.02</td>\n",
              "    </tr>\n",
              "    <tr>\n",
              "      <th>17</th>\n",
              "      <td>0.17</td>\n",
              "      <td>0.54</td>\n",
              "      <td>0.91</td>\n",
              "      <td>0.02</td>\n",
              "      <td>0.05</td>\n",
              "      <td>0.00</td>\n",
              "      <td>0.03</td>\n",
              "    </tr>\n",
              "    <tr>\n",
              "      <th>18</th>\n",
              "      <td>0.46</td>\n",
              "      <td>0.47</td>\n",
              "      <td>0.52</td>\n",
              "      <td>0.02</td>\n",
              "      <td>0.04</td>\n",
              "      <td>-0.00</td>\n",
              "      <td>-0.01</td>\n",
              "    </tr>\n",
              "    <tr>\n",
              "      <th>19</th>\n",
              "      <td>0.45</td>\n",
              "      <td>0.50</td>\n",
              "      <td>0.55</td>\n",
              "      <td>0.02</td>\n",
              "      <td>0.04</td>\n",
              "      <td>-0.00</td>\n",
              "      <td>-0.00</td>\n",
              "    </tr>\n",
              "    <tr>\n",
              "      <th>20</th>\n",
              "      <td>0.57</td>\n",
              "      <td>0.56</td>\n",
              "      <td>0.56</td>\n",
              "      <td>0.03</td>\n",
              "      <td>0.06</td>\n",
              "      <td>0.01</td>\n",
              "      <td>0.04</td>\n",
              "    </tr>\n",
              "    <tr>\n",
              "      <th>21</th>\n",
              "      <td>0.45</td>\n",
              "      <td>0.44</td>\n",
              "      <td>0.44</td>\n",
              "      <td>0.02</td>\n",
              "      <td>0.04</td>\n",
              "      <td>-0.01</td>\n",
              "      <td>-0.03</td>\n",
              "    </tr>\n",
              "    <tr>\n",
              "      <th>22</th>\n",
              "      <td>0.43</td>\n",
              "      <td>0.52</td>\n",
              "      <td>0.63</td>\n",
              "      <td>0.03</td>\n",
              "      <td>0.05</td>\n",
              "      <td>0.00</td>\n",
              "      <td>0.02</td>\n",
              "    </tr>\n",
              "    <tr>\n",
              "      <th>23</th>\n",
              "      <td>0.44</td>\n",
              "      <td>0.51</td>\n",
              "      <td>0.57</td>\n",
              "      <td>0.02</td>\n",
              "      <td>0.04</td>\n",
              "      <td>0.00</td>\n",
              "      <td>0.00</td>\n",
              "    </tr>\n",
              "    <tr>\n",
              "      <th>24</th>\n",
              "      <td>0.37</td>\n",
              "      <td>0.54</td>\n",
              "      <td>0.69</td>\n",
              "      <td>0.02</td>\n",
              "      <td>0.05</td>\n",
              "      <td>0.00</td>\n",
              "      <td>0.02</td>\n",
              "    </tr>\n",
              "    <tr>\n",
              "      <th>25</th>\n",
              "      <td>0.44</td>\n",
              "      <td>0.49</td>\n",
              "      <td>0.52</td>\n",
              "      <td>0.02</td>\n",
              "      <td>0.04</td>\n",
              "      <td>-0.00</td>\n",
              "      <td>-0.01</td>\n",
              "    </tr>\n",
              "    <tr>\n",
              "      <th>26</th>\n",
              "      <td>0.46</td>\n",
              "      <td>0.48</td>\n",
              "      <td>0.51</td>\n",
              "      <td>0.02</td>\n",
              "      <td>0.04</td>\n",
              "      <td>-0.00</td>\n",
              "      <td>-0.01</td>\n",
              "    </tr>\n",
              "    <tr>\n",
              "      <th>27</th>\n",
              "      <td>0.46</td>\n",
              "      <td>0.52</td>\n",
              "      <td>0.60</td>\n",
              "      <td>0.03</td>\n",
              "      <td>0.05</td>\n",
              "      <td>0.00</td>\n",
              "      <td>0.02</td>\n",
              "    </tr>\n",
              "    <tr>\n",
              "      <th>28</th>\n",
              "      <td>0.39</td>\n",
              "      <td>0.51</td>\n",
              "      <td>0.60</td>\n",
              "      <td>0.02</td>\n",
              "      <td>0.04</td>\n",
              "      <td>-0.00</td>\n",
              "      <td>-0.00</td>\n",
              "    </tr>\n",
              "    <tr>\n",
              "      <th>29</th>\n",
              "      <td>0.37</td>\n",
              "      <td>0.55</td>\n",
              "      <td>0.71</td>\n",
              "      <td>0.03</td>\n",
              "      <td>0.05</td>\n",
              "      <td>0.00</td>\n",
              "      <td>0.02</td>\n",
              "    </tr>\n",
              "    <tr>\n",
              "      <th>30</th>\n",
              "      <td>0.38</td>\n",
              "      <td>0.54</td>\n",
              "      <td>0.71</td>\n",
              "      <td>0.03</td>\n",
              "      <td>0.05</td>\n",
              "      <td>0.01</td>\n",
              "      <td>0.02</td>\n",
              "    </tr>\n",
              "    <tr>\n",
              "      <th>31</th>\n",
              "      <td>0.46</td>\n",
              "      <td>0.50</td>\n",
              "      <td>0.59</td>\n",
              "      <td>0.02</td>\n",
              "      <td>0.05</td>\n",
              "      <td>0.00</td>\n",
              "      <td>0.01</td>\n",
              "    </tr>\n",
              "    <tr>\n",
              "      <th>32</th>\n",
              "      <td>0.42</td>\n",
              "      <td>0.52</td>\n",
              "      <td>0.63</td>\n",
              "      <td>0.02</td>\n",
              "      <td>0.05</td>\n",
              "      <td>0.00</td>\n",
              "      <td>0.01</td>\n",
              "    </tr>\n",
              "    <tr>\n",
              "      <th>33</th>\n",
              "      <td>0.41</td>\n",
              "      <td>0.52</td>\n",
              "      <td>0.65</td>\n",
              "      <td>0.02</td>\n",
              "      <td>0.05</td>\n",
              "      <td>0.00</td>\n",
              "      <td>0.02</td>\n",
              "    </tr>\n",
              "    <tr>\n",
              "      <th>34</th>\n",
              "      <td>0.45</td>\n",
              "      <td>0.48</td>\n",
              "      <td>0.48</td>\n",
              "      <td>0.02</td>\n",
              "      <td>0.04</td>\n",
              "      <td>-0.01</td>\n",
              "      <td>-0.02</td>\n",
              "    </tr>\n",
              "    <tr>\n",
              "      <th>35</th>\n",
              "      <td>0.42</td>\n",
              "      <td>0.54</td>\n",
              "      <td>0.61</td>\n",
              "      <td>0.02</td>\n",
              "      <td>0.05</td>\n",
              "      <td>0.00</td>\n",
              "      <td>0.01</td>\n",
              "    </tr>\n",
              "    <tr>\n",
              "      <th>36</th>\n",
              "      <td>0.43</td>\n",
              "      <td>0.52</td>\n",
              "      <td>0.57</td>\n",
              "      <td>0.02</td>\n",
              "      <td>0.04</td>\n",
              "      <td>-0.00</td>\n",
              "      <td>-0.00</td>\n",
              "    </tr>\n",
              "    <tr>\n",
              "      <th>37</th>\n",
              "      <td>0.44</td>\n",
              "      <td>0.50</td>\n",
              "      <td>0.59</td>\n",
              "      <td>0.02</td>\n",
              "      <td>0.05</td>\n",
              "      <td>0.00</td>\n",
              "      <td>0.01</td>\n",
              "    </tr>\n",
              "    <tr>\n",
              "      <th>38</th>\n",
              "      <td>0.42</td>\n",
              "      <td>0.51</td>\n",
              "      <td>0.61</td>\n",
              "      <td>0.02</td>\n",
              "      <td>0.05</td>\n",
              "      <td>0.00</td>\n",
              "      <td>0.01</td>\n",
              "    </tr>\n",
              "    <tr>\n",
              "      <th>39</th>\n",
              "      <td>0.46</td>\n",
              "      <td>0.49</td>\n",
              "      <td>0.51</td>\n",
              "      <td>0.02</td>\n",
              "      <td>0.04</td>\n",
              "      <td>-0.00</td>\n",
              "      <td>-0.01</td>\n",
              "    </tr>\n",
              "    <tr>\n",
              "      <th>40</th>\n",
              "      <td>0.38</td>\n",
              "      <td>0.45</td>\n",
              "      <td>0.52</td>\n",
              "      <td>0.02</td>\n",
              "      <td>0.04</td>\n",
              "      <td>-0.01</td>\n",
              "      <td>-0.03</td>\n",
              "    </tr>\n",
              "    <tr>\n",
              "      <th>41</th>\n",
              "      <td>0.40</td>\n",
              "      <td>0.52</td>\n",
              "      <td>0.59</td>\n",
              "      <td>0.02</td>\n",
              "      <td>0.04</td>\n",
              "      <td>-0.00</td>\n",
              "      <td>-0.00</td>\n",
              "    </tr>\n",
              "    <tr>\n",
              "      <th>42</th>\n",
              "      <td>0.45</td>\n",
              "      <td>0.50</td>\n",
              "      <td>0.59</td>\n",
              "      <td>0.02</td>\n",
              "      <td>0.05</td>\n",
              "      <td>0.00</td>\n",
              "      <td>0.01</td>\n",
              "    </tr>\n",
              "    <tr>\n",
              "      <th>43</th>\n",
              "      <td>0.43</td>\n",
              "      <td>0.51</td>\n",
              "      <td>0.61</td>\n",
              "      <td>0.02</td>\n",
              "      <td>0.05</td>\n",
              "      <td>0.00</td>\n",
              "      <td>0.01</td>\n",
              "    </tr>\n",
              "    <tr>\n",
              "      <th>44</th>\n",
              "      <td>0.45</td>\n",
              "      <td>0.48</td>\n",
              "      <td>0.51</td>\n",
              "      <td>0.02</td>\n",
              "      <td>0.04</td>\n",
              "      <td>-0.00</td>\n",
              "      <td>-0.01</td>\n",
              "    </tr>\n",
              "    <tr>\n",
              "      <th>45</th>\n",
              "      <td>0.44</td>\n",
              "      <td>0.51</td>\n",
              "      <td>0.61</td>\n",
              "      <td>0.02</td>\n",
              "      <td>0.05</td>\n",
              "      <td>0.00</td>\n",
              "      <td>0.01</td>\n",
              "    </tr>\n",
              "    <tr>\n",
              "      <th>46</th>\n",
              "      <td>0.44</td>\n",
              "      <td>0.49</td>\n",
              "      <td>0.49</td>\n",
              "      <td>0.02</td>\n",
              "      <td>0.04</td>\n",
              "      <td>-0.01</td>\n",
              "      <td>-0.02</td>\n",
              "    </tr>\n",
              "    <tr>\n",
              "      <th>47</th>\n",
              "      <td>0.44</td>\n",
              "      <td>0.52</td>\n",
              "      <td>0.60</td>\n",
              "      <td>0.02</td>\n",
              "      <td>0.05</td>\n",
              "      <td>0.00</td>\n",
              "      <td>0.01</td>\n",
              "    </tr>\n",
              "    <tr>\n",
              "      <th>48</th>\n",
              "      <td>0.41</td>\n",
              "      <td>0.52</td>\n",
              "      <td>0.64</td>\n",
              "      <td>0.02</td>\n",
              "      <td>0.05</td>\n",
              "      <td>0.00</td>\n",
              "      <td>0.01</td>\n",
              "    </tr>\n",
              "    <tr>\n",
              "      <th>49</th>\n",
              "      <td>0.46</td>\n",
              "      <td>0.51</td>\n",
              "      <td>0.56</td>\n",
              "      <td>0.02</td>\n",
              "      <td>0.04</td>\n",
              "      <td>0.00</td>\n",
              "      <td>0.00</td>\n",
              "    </tr>\n",
              "    <tr>\n",
              "      <th>Mean</th>\n",
              "      <td>0.43</td>\n",
              "      <td>0.51</td>\n",
              "      <td>0.58</td>\n",
              "      <td>0.02</td>\n",
              "      <td>0.04</td>\n",
              "      <td>0.00</td>\n",
              "      <td>0.00</td>\n",
              "    </tr>\n",
              "    <tr>\n",
              "      <th>SD</th>\n",
              "      <td>0.05</td>\n",
              "      <td>0.03</td>\n",
              "      <td>0.09</td>\n",
              "      <td>0.00</td>\n",
              "      <td>0.00</td>\n",
              "      <td>0.00</td>\n",
              "      <td>0.02</td>\n",
              "    </tr>\n",
              "  </tbody>\n",
              "</table>\n",
              "</div>"
            ],
            "text/plain": [
              "      Accuracy  AUC  Recall  Prec.   F1  Kappa   MCC\n",
              "0         0.55 0.44    0.39   0.02 0.04  -0.01 -0.02\n",
              "1         0.52 0.45    0.39   0.02 0.04  -0.01 -0.03\n",
              "2         0.47 0.48    0.51   0.02 0.04  -0.00 -0.01\n",
              "3         0.43 0.49    0.51   0.02 0.04  -0.01 -0.02\n",
              "4         0.45 0.48    0.56   0.02 0.04   0.00  0.00\n",
              "5         0.42 0.52    0.61   0.02 0.05   0.00  0.01\n",
              "6         0.40 0.52    0.65   0.02 0.05   0.00  0.02\n",
              "7         0.40 0.52    0.63   0.02 0.05   0.00  0.01\n",
              "8         0.43 0.51    0.57   0.02 0.04  -0.00 -0.00\n",
              "9         0.45 0.49    0.53   0.02 0.04  -0.00 -0.01\n",
              "10        0.41 0.51    0.63   0.02 0.05   0.00  0.01\n",
              "11        0.41 0.51    0.60   0.02 0.04   0.00  0.00\n",
              "12        0.46 0.50    0.59   0.02 0.05   0.00  0.01\n",
              "13        0.38 0.56    0.69   0.03 0.05   0.01  0.02\n",
              "14        0.45 0.48    0.48   0.02 0.04  -0.01 -0.02\n",
              "15        0.46 0.48    0.52   0.02 0.04  -0.00 -0.01\n",
              "16        0.37 0.56    0.72   0.03 0.05   0.01  0.02\n",
              "17        0.17 0.54    0.91   0.02 0.05   0.00  0.03\n",
              "18        0.46 0.47    0.52   0.02 0.04  -0.00 -0.01\n",
              "19        0.45 0.50    0.55   0.02 0.04  -0.00 -0.00\n",
              "20        0.57 0.56    0.56   0.03 0.06   0.01  0.04\n",
              "21        0.45 0.44    0.44   0.02 0.04  -0.01 -0.03\n",
              "22        0.43 0.52    0.63   0.03 0.05   0.00  0.02\n",
              "23        0.44 0.51    0.57   0.02 0.04   0.00  0.00\n",
              "24        0.37 0.54    0.69   0.02 0.05   0.00  0.02\n",
              "25        0.44 0.49    0.52   0.02 0.04  -0.00 -0.01\n",
              "26        0.46 0.48    0.51   0.02 0.04  -0.00 -0.01\n",
              "27        0.46 0.52    0.60   0.03 0.05   0.00  0.02\n",
              "28        0.39 0.51    0.60   0.02 0.04  -0.00 -0.00\n",
              "29        0.37 0.55    0.71   0.03 0.05   0.00  0.02\n",
              "30        0.38 0.54    0.71   0.03 0.05   0.01  0.02\n",
              "31        0.46 0.50    0.59   0.02 0.05   0.00  0.01\n",
              "32        0.42 0.52    0.63   0.02 0.05   0.00  0.01\n",
              "33        0.41 0.52    0.65   0.02 0.05   0.00  0.02\n",
              "34        0.45 0.48    0.48   0.02 0.04  -0.01 -0.02\n",
              "35        0.42 0.54    0.61   0.02 0.05   0.00  0.01\n",
              "36        0.43 0.52    0.57   0.02 0.04  -0.00 -0.00\n",
              "37        0.44 0.50    0.59   0.02 0.05   0.00  0.01\n",
              "38        0.42 0.51    0.61   0.02 0.05   0.00  0.01\n",
              "39        0.46 0.49    0.51   0.02 0.04  -0.00 -0.01\n",
              "40        0.38 0.45    0.52   0.02 0.04  -0.01 -0.03\n",
              "41        0.40 0.52    0.59   0.02 0.04  -0.00 -0.00\n",
              "42        0.45 0.50    0.59   0.02 0.05   0.00  0.01\n",
              "43        0.43 0.51    0.61   0.02 0.05   0.00  0.01\n",
              "44        0.45 0.48    0.51   0.02 0.04  -0.00 -0.01\n",
              "45        0.44 0.51    0.61   0.02 0.05   0.00  0.01\n",
              "46        0.44 0.49    0.49   0.02 0.04  -0.01 -0.02\n",
              "47        0.44 0.52    0.60   0.02 0.05   0.00  0.01\n",
              "48        0.41 0.52    0.64   0.02 0.05   0.00  0.01\n",
              "49        0.46 0.51    0.56   0.02 0.04   0.00  0.00\n",
              "Mean      0.43 0.51    0.58   0.02 0.04   0.00  0.00\n",
              "SD        0.05 0.03    0.09   0.00 0.00   0.00  0.02"
            ]
          },
          "metadata": {},
          "output_type": "display_data"
        }
      ]
    },
    {
      "cell_type": "markdown",
      "metadata": {
        "id": "otXjqGIpt8te"
      },
      "source": [
        "Mesmo aplicando balanceamento das classes, todos os modelos ainda continuam performando de uma forma pouco satisfatória, porém de todos entendemos que a métricas médias do XGBoost e do Random Forest Classifier foram as melhores, tendo um Recall e Precision mais balanceados comparados aos outros."
      ]
    },
    {
      "cell_type": "markdown",
      "metadata": {
        "id": "WhTmrxNFuUg_"
      },
      "source": [
        "Agora iremos refazer esse processo utilizando a técnica SMOTE e não a combinação SMOTETomek e ver os *outcomes* nos modelos.\n",
        "\n",
        "Em seguida faremos as tunagens dos modelos selecionados, ainda usando a biblioteca pycaret, finalmente, modelos selecionados a partir dela, faremos nossa própria busca por hiperparâmetros, mais algumas cross-validation e seleção do modelo final treinado, testado e validado.\n",
        "\n",
        "Caso não vejamos nenhum modelo com bons outcomes, realizaremos a técnica de StackedModels numa tentativa de melhoria da performance."
      ]
    },
    {
      "cell_type": "code",
      "metadata": {
        "colab": {
          "base_uri": "https://localhost:8080/",
          "height": 1000,
          "referenced_widgets": [
            "96fb587284f649dca5f9257fcb3a8b4b",
            "bafc551f5db64c1c8822a9b35bd12929",
            "0e4778d9ce364445a3fbdc929a8961ca",
            "42f1eb7665f34ae6af30f4228660fc84",
            "ed4cc456468748b0af3c4bc48faaee49",
            "3040cba851ac4e6bbe7c05df40dc02b9"
          ]
        },
        "id": "Hubz1S4NvE0U",
        "outputId": "215fb5e0-6164-4e07-f750-6eaf8c02a9ea"
      },
      "source": [
        "repeated_stratified_kfold = RepeatedStratifiedKFold(n_splits=5, n_repeats=10, random_state=84563)\n",
        "pycaret_clf_3 = setup(df_registro_clientes_targets.drop(columns=['id_cliente']), target=\"mau\", session_id=456, log_experiment=True, experiment_name='pycaret_clf_1',\n",
        "                      categorical_features=categorical_columns, numeric_features=quant_columns, remove_multicollinearity=True, \n",
        "                      multicollinearity_threshold=0.95, feature_selection=True, feature_selection_threshold=0.8, fix_imbalance=True, \n",
        "                      data_split_shuffle=True, data_split_stratify=True, fold_strategy=repeated_stratified_kfold)"
      ],
      "execution_count": null,
      "outputs": [
        {
          "output_type": "display_data",
          "data": {
            "text/html": [
              "<div>\n",
              "<style scoped>\n",
              "    .dataframe tbody tr th:only-of-type {\n",
              "        vertical-align: middle;\n",
              "    }\n",
              "\n",
              "    .dataframe tbody tr th {\n",
              "        vertical-align: top;\n",
              "    }\n",
              "\n",
              "    .dataframe thead th {\n",
              "        text-align: right;\n",
              "    }\n",
              "</style>\n",
              "<table border=\"1\" class=\"dataframe\">\n",
              "  <thead>\n",
              "    <tr style=\"text-align: right;\">\n",
              "      <th></th>\n",
              "      <th>Description</th>\n",
              "      <th>Value</th>\n",
              "    </tr>\n",
              "  </thead>\n",
              "  <tbody>\n",
              "    <tr>\n",
              "      <th>0</th>\n",
              "      <td>session_id</td>\n",
              "      <td>456</td>\n",
              "    </tr>\n",
              "    <tr>\n",
              "      <th>1</th>\n",
              "      <td>Target</td>\n",
              "      <td>mau</td>\n",
              "    </tr>\n",
              "    <tr>\n",
              "      <th>2</th>\n",
              "      <td>Target Type</td>\n",
              "      <td>Binary</td>\n",
              "    </tr>\n",
              "    <tr>\n",
              "      <th>3</th>\n",
              "      <td>Label Encoded</td>\n",
              "      <td>0: 0, 1: 1</td>\n",
              "    </tr>\n",
              "    <tr>\n",
              "      <th>4</th>\n",
              "      <td>Original Data</td>\n",
              "      <td>(23419, 17)</td>\n",
              "    </tr>\n",
              "    <tr>\n",
              "      <th>5</th>\n",
              "      <td>Missing Values</td>\n",
              "      <td>False</td>\n",
              "    </tr>\n",
              "    <tr>\n",
              "      <th>6</th>\n",
              "      <td>Numeric Features</td>\n",
              "      <td>6</td>\n",
              "    </tr>\n",
              "    <tr>\n",
              "      <th>7</th>\n",
              "      <td>Categorical Features</td>\n",
              "      <td>10</td>\n",
              "    </tr>\n",
              "    <tr>\n",
              "      <th>8</th>\n",
              "      <td>Ordinal Features</td>\n",
              "      <td>False</td>\n",
              "    </tr>\n",
              "    <tr>\n",
              "      <th>9</th>\n",
              "      <td>High Cardinality Features</td>\n",
              "      <td>False</td>\n",
              "    </tr>\n",
              "    <tr>\n",
              "      <th>10</th>\n",
              "      <td>High Cardinality Method</td>\n",
              "      <td>None</td>\n",
              "    </tr>\n",
              "    <tr>\n",
              "      <th>11</th>\n",
              "      <td>Transformed Train Set</td>\n",
              "      <td>(16393, 51)</td>\n",
              "    </tr>\n",
              "    <tr>\n",
              "      <th>12</th>\n",
              "      <td>Transformed Test Set</td>\n",
              "      <td>(7026, 51)</td>\n",
              "    </tr>\n",
              "    <tr>\n",
              "      <th>13</th>\n",
              "      <td>Shuffle Train-Test</td>\n",
              "      <td>True</td>\n",
              "    </tr>\n",
              "    <tr>\n",
              "      <th>14</th>\n",
              "      <td>Stratify Train-Test</td>\n",
              "      <td>True</td>\n",
              "    </tr>\n",
              "    <tr>\n",
              "      <th>15</th>\n",
              "      <td>Fold Generator</td>\n",
              "      <td>RepeatedStratifiedKFold</td>\n",
              "    </tr>\n",
              "    <tr>\n",
              "      <th>16</th>\n",
              "      <td>Fold Number</td>\n",
              "      <td>10</td>\n",
              "    </tr>\n",
              "    <tr>\n",
              "      <th>17</th>\n",
              "      <td>CPU Jobs</td>\n",
              "      <td>-1</td>\n",
              "    </tr>\n",
              "    <tr>\n",
              "      <th>18</th>\n",
              "      <td>Use GPU</td>\n",
              "      <td>False</td>\n",
              "    </tr>\n",
              "    <tr>\n",
              "      <th>19</th>\n",
              "      <td>Log Experiment</td>\n",
              "      <td>True</td>\n",
              "    </tr>\n",
              "    <tr>\n",
              "      <th>20</th>\n",
              "      <td>Experiment Name</td>\n",
              "      <td>pycaret_clf_1</td>\n",
              "    </tr>\n",
              "    <tr>\n",
              "      <th>21</th>\n",
              "      <td>USI</td>\n",
              "      <td>3a13</td>\n",
              "    </tr>\n",
              "    <tr>\n",
              "      <th>22</th>\n",
              "      <td>Imputation Type</td>\n",
              "      <td>simple</td>\n",
              "    </tr>\n",
              "    <tr>\n",
              "      <th>23</th>\n",
              "      <td>Iterative Imputation Iteration</td>\n",
              "      <td>None</td>\n",
              "    </tr>\n",
              "    <tr>\n",
              "      <th>24</th>\n",
              "      <td>Numeric Imputer</td>\n",
              "      <td>mean</td>\n",
              "    </tr>\n",
              "    <tr>\n",
              "      <th>25</th>\n",
              "      <td>Iterative Imputation Numeric Model</td>\n",
              "      <td>None</td>\n",
              "    </tr>\n",
              "    <tr>\n",
              "      <th>26</th>\n",
              "      <td>Categorical Imputer</td>\n",
              "      <td>constant</td>\n",
              "    </tr>\n",
              "    <tr>\n",
              "      <th>27</th>\n",
              "      <td>Iterative Imputation Categorical Model</td>\n",
              "      <td>None</td>\n",
              "    </tr>\n",
              "    <tr>\n",
              "      <th>28</th>\n",
              "      <td>Unknown Categoricals Handling</td>\n",
              "      <td>least_frequent</td>\n",
              "    </tr>\n",
              "    <tr>\n",
              "      <th>29</th>\n",
              "      <td>Normalize</td>\n",
              "      <td>False</td>\n",
              "    </tr>\n",
              "    <tr>\n",
              "      <th>30</th>\n",
              "      <td>Normalize Method</td>\n",
              "      <td>None</td>\n",
              "    </tr>\n",
              "    <tr>\n",
              "      <th>31</th>\n",
              "      <td>Transformation</td>\n",
              "      <td>False</td>\n",
              "    </tr>\n",
              "    <tr>\n",
              "      <th>32</th>\n",
              "      <td>Transformation Method</td>\n",
              "      <td>None</td>\n",
              "    </tr>\n",
              "    <tr>\n",
              "      <th>33</th>\n",
              "      <td>PCA</td>\n",
              "      <td>False</td>\n",
              "    </tr>\n",
              "    <tr>\n",
              "      <th>34</th>\n",
              "      <td>PCA Method</td>\n",
              "      <td>None</td>\n",
              "    </tr>\n",
              "    <tr>\n",
              "      <th>35</th>\n",
              "      <td>PCA Components</td>\n",
              "      <td>None</td>\n",
              "    </tr>\n",
              "    <tr>\n",
              "      <th>36</th>\n",
              "      <td>Ignore Low Variance</td>\n",
              "      <td>False</td>\n",
              "    </tr>\n",
              "    <tr>\n",
              "      <th>37</th>\n",
              "      <td>Combine Rare Levels</td>\n",
              "      <td>False</td>\n",
              "    </tr>\n",
              "    <tr>\n",
              "      <th>38</th>\n",
              "      <td>Rare Level Threshold</td>\n",
              "      <td>None</td>\n",
              "    </tr>\n",
              "    <tr>\n",
              "      <th>39</th>\n",
              "      <td>Numeric Binning</td>\n",
              "      <td>False</td>\n",
              "    </tr>\n",
              "    <tr>\n",
              "      <th>40</th>\n",
              "      <td>Remove Outliers</td>\n",
              "      <td>False</td>\n",
              "    </tr>\n",
              "    <tr>\n",
              "      <th>41</th>\n",
              "      <td>Outliers Threshold</td>\n",
              "      <td>None</td>\n",
              "    </tr>\n",
              "    <tr>\n",
              "      <th>42</th>\n",
              "      <td>Remove Multicollinearity</td>\n",
              "      <td>True</td>\n",
              "    </tr>\n",
              "    <tr>\n",
              "      <th>43</th>\n",
              "      <td>Multicollinearity Threshold</td>\n",
              "      <td>0.95</td>\n",
              "    </tr>\n",
              "    <tr>\n",
              "      <th>44</th>\n",
              "      <td>Remove Perfect Collinearity</td>\n",
              "      <td>True</td>\n",
              "    </tr>\n",
              "    <tr>\n",
              "      <th>45</th>\n",
              "      <td>Clustering</td>\n",
              "      <td>False</td>\n",
              "    </tr>\n",
              "    <tr>\n",
              "      <th>46</th>\n",
              "      <td>Clustering Iteration</td>\n",
              "      <td>None</td>\n",
              "    </tr>\n",
              "    <tr>\n",
              "      <th>47</th>\n",
              "      <td>Polynomial Features</td>\n",
              "      <td>False</td>\n",
              "    </tr>\n",
              "    <tr>\n",
              "      <th>48</th>\n",
              "      <td>Polynomial Degree</td>\n",
              "      <td>None</td>\n",
              "    </tr>\n",
              "    <tr>\n",
              "      <th>49</th>\n",
              "      <td>Trignometry Features</td>\n",
              "      <td>False</td>\n",
              "    </tr>\n",
              "    <tr>\n",
              "      <th>50</th>\n",
              "      <td>Polynomial Threshold</td>\n",
              "      <td>None</td>\n",
              "    </tr>\n",
              "    <tr>\n",
              "      <th>51</th>\n",
              "      <td>Group Features</td>\n",
              "      <td>False</td>\n",
              "    </tr>\n",
              "    <tr>\n",
              "      <th>52</th>\n",
              "      <td>Feature Selection</td>\n",
              "      <td>True</td>\n",
              "    </tr>\n",
              "    <tr>\n",
              "      <th>53</th>\n",
              "      <td>Feature Selection Method</td>\n",
              "      <td>classic</td>\n",
              "    </tr>\n",
              "    <tr>\n",
              "      <th>54</th>\n",
              "      <td>Features Selection Threshold</td>\n",
              "      <td>0.80</td>\n",
              "    </tr>\n",
              "    <tr>\n",
              "      <th>55</th>\n",
              "      <td>Feature Interaction</td>\n",
              "      <td>False</td>\n",
              "    </tr>\n",
              "    <tr>\n",
              "      <th>56</th>\n",
              "      <td>Feature Ratio</td>\n",
              "      <td>False</td>\n",
              "    </tr>\n",
              "    <tr>\n",
              "      <th>57</th>\n",
              "      <td>Interaction Threshold</td>\n",
              "      <td>None</td>\n",
              "    </tr>\n",
              "    <tr>\n",
              "      <th>58</th>\n",
              "      <td>Fix Imbalance</td>\n",
              "      <td>True</td>\n",
              "    </tr>\n",
              "    <tr>\n",
              "      <th>59</th>\n",
              "      <td>Fix Imbalance Method</td>\n",
              "      <td>SMOTE</td>\n",
              "    </tr>\n",
              "  </tbody>\n",
              "</table>\n",
              "</div>"
            ],
            "text/plain": [
              "                               Description                    Value\n",
              "0                               session_id                      456\n",
              "1                                   Target                      mau\n",
              "2                              Target Type                   Binary\n",
              "3                            Label Encoded               0: 0, 1: 1\n",
              "4                            Original Data              (23419, 17)\n",
              "5                           Missing Values                    False\n",
              "6                         Numeric Features                        6\n",
              "7                     Categorical Features                       10\n",
              "8                         Ordinal Features                    False\n",
              "9                High Cardinality Features                    False\n",
              "10                 High Cardinality Method                     None\n",
              "11                   Transformed Train Set              (16393, 51)\n",
              "12                    Transformed Test Set               (7026, 51)\n",
              "13                      Shuffle Train-Test                     True\n",
              "14                     Stratify Train-Test                     True\n",
              "15                          Fold Generator  RepeatedStratifiedKFold\n",
              "16                             Fold Number                       10\n",
              "17                                CPU Jobs                       -1\n",
              "18                                 Use GPU                    False\n",
              "19                          Log Experiment                     True\n",
              "20                         Experiment Name            pycaret_clf_1\n",
              "21                                     USI                     3a13\n",
              "22                         Imputation Type                   simple\n",
              "23          Iterative Imputation Iteration                     None\n",
              "24                         Numeric Imputer                     mean\n",
              "25      Iterative Imputation Numeric Model                     None\n",
              "26                     Categorical Imputer                 constant\n",
              "27  Iterative Imputation Categorical Model                     None\n",
              "28           Unknown Categoricals Handling           least_frequent\n",
              "29                               Normalize                    False\n",
              "30                        Normalize Method                     None\n",
              "31                          Transformation                    False\n",
              "32                   Transformation Method                     None\n",
              "33                                     PCA                    False\n",
              "34                              PCA Method                     None\n",
              "35                          PCA Components                     None\n",
              "36                     Ignore Low Variance                    False\n",
              "37                     Combine Rare Levels                    False\n",
              "38                    Rare Level Threshold                     None\n",
              "39                         Numeric Binning                    False\n",
              "40                         Remove Outliers                    False\n",
              "41                      Outliers Threshold                     None\n",
              "42                Remove Multicollinearity                     True\n",
              "43             Multicollinearity Threshold                     0.95\n",
              "44             Remove Perfect Collinearity                     True\n",
              "45                              Clustering                    False\n",
              "46                    Clustering Iteration                     None\n",
              "47                     Polynomial Features                    False\n",
              "48                       Polynomial Degree                     None\n",
              "49                    Trignometry Features                    False\n",
              "50                    Polynomial Threshold                     None\n",
              "51                          Group Features                    False\n",
              "52                       Feature Selection                     True\n",
              "53                Feature Selection Method                  classic\n",
              "54            Features Selection Threshold                     0.80\n",
              "55                     Feature Interaction                    False\n",
              "56                           Feature Ratio                    False\n",
              "57                   Interaction Threshold                     None\n",
              "58                           Fix Imbalance                     True\n",
              "59                    Fix Imbalance Method                    SMOTE"
            ]
          },
          "metadata": {}
        }
      ]
    },
    {
      "cell_type": "code",
      "metadata": {
        "id": "Gqa40pDAvK7D",
        "colab": {
          "base_uri": "https://localhost:8080/",
          "height": 483,
          "referenced_widgets": [
            "4a5caa97bdcf499bb38e5d5a973183a2",
            "90a4054564784702ab9b99923600ab29",
            "2a6bfd407daf479a8b2a3612339eae8d"
          ]
        },
        "outputId": "75d5aa76-ad06-4725-bdb1-5d4974208c3e"
      },
      "source": [
        "best_model_2 = compare_models()"
      ],
      "execution_count": null,
      "outputs": [
        {
          "output_type": "display_data",
          "data": {
            "text/html": [
              "<div>\n",
              "<style scoped>\n",
              "    .dataframe tbody tr th:only-of-type {\n",
              "        vertical-align: middle;\n",
              "    }\n",
              "\n",
              "    .dataframe tbody tr th {\n",
              "        vertical-align: top;\n",
              "    }\n",
              "\n",
              "    .dataframe thead th {\n",
              "        text-align: right;\n",
              "    }\n",
              "</style>\n",
              "<table border=\"1\" class=\"dataframe\">\n",
              "  <thead>\n",
              "    <tr style=\"text-align: right;\">\n",
              "      <th></th>\n",
              "      <th>Model</th>\n",
              "      <th>Accuracy</th>\n",
              "      <th>AUC</th>\n",
              "      <th>Recall</th>\n",
              "      <th>Prec.</th>\n",
              "      <th>F1</th>\n",
              "      <th>Kappa</th>\n",
              "      <th>MCC</th>\n",
              "      <th>TT (Sec)</th>\n",
              "    </tr>\n",
              "  </thead>\n",
              "  <tbody>\n",
              "    <tr>\n",
              "      <th>xgboost</th>\n",
              "      <td>Extreme Gradient Boosting</td>\n",
              "      <td>0.98</td>\n",
              "      <td>0.71</td>\n",
              "      <td>0.20</td>\n",
              "      <td>0.51</td>\n",
              "      <td>0.28</td>\n",
              "      <td>0.27</td>\n",
              "      <td>0.31</td>\n",
              "      <td>6.28</td>\n",
              "    </tr>\n",
              "    <tr>\n",
              "      <th>lightgbm</th>\n",
              "      <td>Light Gradient Boosting Machine</td>\n",
              "      <td>0.98</td>\n",
              "      <td>0.70</td>\n",
              "      <td>0.16</td>\n",
              "      <td>0.51</td>\n",
              "      <td>0.24</td>\n",
              "      <td>0.23</td>\n",
              "      <td>0.28</td>\n",
              "      <td>1.32</td>\n",
              "    </tr>\n",
              "    <tr>\n",
              "      <th>gbc</th>\n",
              "      <td>Gradient Boosting Classifier</td>\n",
              "      <td>0.97</td>\n",
              "      <td>0.62</td>\n",
              "      <td>0.04</td>\n",
              "      <td>0.24</td>\n",
              "      <td>0.07</td>\n",
              "      <td>0.06</td>\n",
              "      <td>0.09</td>\n",
              "      <td>6.76</td>\n",
              "    </tr>\n",
              "    <tr>\n",
              "      <th>rf</th>\n",
              "      <td>Random Forest Classifier</td>\n",
              "      <td>0.97</td>\n",
              "      <td>0.76</td>\n",
              "      <td>0.24</td>\n",
              "      <td>0.36</td>\n",
              "      <td>0.29</td>\n",
              "      <td>0.27</td>\n",
              "      <td>0.28</td>\n",
              "      <td>2.47</td>\n",
              "    </tr>\n",
              "    <tr>\n",
              "      <th>et</th>\n",
              "      <td>Extra Trees Classifier</td>\n",
              "      <td>0.97</td>\n",
              "      <td>0.71</td>\n",
              "      <td>0.25</td>\n",
              "      <td>0.36</td>\n",
              "      <td>0.29</td>\n",
              "      <td>0.28</td>\n",
              "      <td>0.29</td>\n",
              "      <td>2.42</td>\n",
              "    </tr>\n",
              "    <tr>\n",
              "      <th>dt</th>\n",
              "      <td>Decision Tree Classifier</td>\n",
              "      <td>0.96</td>\n",
              "      <td>0.62</td>\n",
              "      <td>0.27</td>\n",
              "      <td>0.25</td>\n",
              "      <td>0.26</td>\n",
              "      <td>0.24</td>\n",
              "      <td>0.24</td>\n",
              "      <td>0.20</td>\n",
              "    </tr>\n",
              "    <tr>\n",
              "      <th>ada</th>\n",
              "      <td>Ada Boost Classifier</td>\n",
              "      <td>0.96</td>\n",
              "      <td>0.57</td>\n",
              "      <td>0.04</td>\n",
              "      <td>0.07</td>\n",
              "      <td>0.05</td>\n",
              "      <td>0.03</td>\n",
              "      <td>0.03</td>\n",
              "      <td>1.65</td>\n",
              "    </tr>\n",
              "    <tr>\n",
              "      <th>knn</th>\n",
              "      <td>K Neighbors Classifier</td>\n",
              "      <td>0.89</td>\n",
              "      <td>0.68</td>\n",
              "      <td>0.35</td>\n",
              "      <td>0.08</td>\n",
              "      <td>0.13</td>\n",
              "      <td>0.10</td>\n",
              "      <td>0.13</td>\n",
              "      <td>0.50</td>\n",
              "    </tr>\n",
              "    <tr>\n",
              "      <th>ridge</th>\n",
              "      <td>Ridge Classifier</td>\n",
              "      <td>0.62</td>\n",
              "      <td>0.00</td>\n",
              "      <td>0.48</td>\n",
              "      <td>0.03</td>\n",
              "      <td>0.06</td>\n",
              "      <td>0.01</td>\n",
              "      <td>0.03</td>\n",
              "      <td>0.07</td>\n",
              "    </tr>\n",
              "    <tr>\n",
              "      <th>lda</th>\n",
              "      <td>Linear Discriminant Analysis</td>\n",
              "      <td>0.62</td>\n",
              "      <td>0.58</td>\n",
              "      <td>0.48</td>\n",
              "      <td>0.03</td>\n",
              "      <td>0.06</td>\n",
              "      <td>0.01</td>\n",
              "      <td>0.03</td>\n",
              "      <td>0.28</td>\n",
              "    </tr>\n",
              "    <tr>\n",
              "      <th>svm</th>\n",
              "      <td>SVM - Linear Kernel</td>\n",
              "      <td>0.61</td>\n",
              "      <td>0.00</td>\n",
              "      <td>0.39</td>\n",
              "      <td>0.01</td>\n",
              "      <td>0.02</td>\n",
              "      <td>0.00</td>\n",
              "      <td>0.00</td>\n",
              "      <td>1.75</td>\n",
              "    </tr>\n",
              "    <tr>\n",
              "      <th>lr</th>\n",
              "      <td>Logistic Regression</td>\n",
              "      <td>0.42</td>\n",
              "      <td>0.51</td>\n",
              "      <td>0.60</td>\n",
              "      <td>0.02</td>\n",
              "      <td>0.04</td>\n",
              "      <td>0.00</td>\n",
              "      <td>0.00</td>\n",
              "      <td>0.16</td>\n",
              "    </tr>\n",
              "    <tr>\n",
              "      <th>nb</th>\n",
              "      <td>Naive Bayes</td>\n",
              "      <td>0.29</td>\n",
              "      <td>0.56</td>\n",
              "      <td>0.80</td>\n",
              "      <td>0.03</td>\n",
              "      <td>0.05</td>\n",
              "      <td>0.00</td>\n",
              "      <td>0.03</td>\n",
              "      <td>0.07</td>\n",
              "    </tr>\n",
              "    <tr>\n",
              "      <th>qda</th>\n",
              "      <td>Quadratic Discriminant Analysis</td>\n",
              "      <td>0.03</td>\n",
              "      <td>0.50</td>\n",
              "      <td>0.99</td>\n",
              "      <td>0.02</td>\n",
              "      <td>0.04</td>\n",
              "      <td>0.00</td>\n",
              "      <td>0.00</td>\n",
              "      <td>0.15</td>\n",
              "    </tr>\n",
              "  </tbody>\n",
              "</table>\n",
              "</div>"
            ],
            "text/plain": [
              "                                    Model  Accuracy  AUC  Recall  Prec.   F1  \\\n",
              "xgboost         Extreme Gradient Boosting      0.98 0.71    0.20   0.51 0.28   \n",
              "lightgbm  Light Gradient Boosting Machine      0.98 0.70    0.16   0.51 0.24   \n",
              "gbc          Gradient Boosting Classifier      0.97 0.62    0.04   0.24 0.07   \n",
              "rf               Random Forest Classifier      0.97 0.76    0.24   0.36 0.29   \n",
              "et                 Extra Trees Classifier      0.97 0.71    0.25   0.36 0.29   \n",
              "dt               Decision Tree Classifier      0.96 0.62    0.27   0.25 0.26   \n",
              "ada                  Ada Boost Classifier      0.96 0.57    0.04   0.07 0.05   \n",
              "knn                K Neighbors Classifier      0.89 0.68    0.35   0.08 0.13   \n",
              "ridge                    Ridge Classifier      0.62 0.00    0.48   0.03 0.06   \n",
              "lda          Linear Discriminant Analysis      0.62 0.58    0.48   0.03 0.06   \n",
              "svm                   SVM - Linear Kernel      0.61 0.00    0.39   0.01 0.02   \n",
              "lr                    Logistic Regression      0.42 0.51    0.60   0.02 0.04   \n",
              "nb                            Naive Bayes      0.29 0.56    0.80   0.03 0.05   \n",
              "qda       Quadratic Discriminant Analysis      0.03 0.50    0.99   0.02 0.04   \n",
              "\n",
              "          Kappa  MCC  TT (Sec)  \n",
              "xgboost    0.27 0.31      6.28  \n",
              "lightgbm   0.23 0.28      1.32  \n",
              "gbc        0.06 0.09      6.76  \n",
              "rf         0.27 0.28      2.47  \n",
              "et         0.28 0.29      2.42  \n",
              "dt         0.24 0.24      0.20  \n",
              "ada        0.03 0.03      1.65  \n",
              "knn        0.10 0.13      0.50  \n",
              "ridge      0.01 0.03      0.07  \n",
              "lda        0.01 0.03      0.28  \n",
              "svm        0.00 0.00      1.75  \n",
              "lr         0.00 0.00      0.16  \n",
              "nb         0.00 0.03      0.07  \n",
              "qda        0.00 0.00      0.15  "
            ]
          },
          "metadata": {}
        }
      ]
    },
    {
      "cell_type": "code",
      "metadata": {
        "id": "lJVBAXJQvYYU",
        "colab": {
          "base_uri": "https://localhost:8080/",
          "height": 1000,
          "referenced_widgets": [
            "3ff12fa4c492459091ad68f898247e14",
            "3b4debf09e16431cb59ec8e065b74e3a",
            "4de470744ccd4eb99ff83bb1de8c107e"
          ]
        },
        "outputId": "f0ecc678-22a0-4eee-faeb-fe4ae78d49ec"
      },
      "source": [
        "tune_model_xgb = tune_model(xgb_model)"
      ],
      "execution_count": null,
      "outputs": [
        {
          "output_type": "display_data",
          "data": {
            "text/html": [
              "<div>\n",
              "<style scoped>\n",
              "    .dataframe tbody tr th:only-of-type {\n",
              "        vertical-align: middle;\n",
              "    }\n",
              "\n",
              "    .dataframe tbody tr th {\n",
              "        vertical-align: top;\n",
              "    }\n",
              "\n",
              "    .dataframe thead th {\n",
              "        text-align: right;\n",
              "    }\n",
              "</style>\n",
              "<table border=\"1\" class=\"dataframe\">\n",
              "  <thead>\n",
              "    <tr style=\"text-align: right;\">\n",
              "      <th></th>\n",
              "      <th>Accuracy</th>\n",
              "      <th>AUC</th>\n",
              "      <th>Recall</th>\n",
              "      <th>Prec.</th>\n",
              "      <th>F1</th>\n",
              "      <th>Kappa</th>\n",
              "      <th>MCC</th>\n",
              "    </tr>\n",
              "  </thead>\n",
              "  <tbody>\n",
              "    <tr>\n",
              "      <th>0</th>\n",
              "      <td>0.96</td>\n",
              "      <td>0.68</td>\n",
              "      <td>0.29</td>\n",
              "      <td>0.22</td>\n",
              "      <td>0.25</td>\n",
              "      <td>0.23</td>\n",
              "      <td>0.24</td>\n",
              "    </tr>\n",
              "    <tr>\n",
              "      <th>1</th>\n",
              "      <td>0.96</td>\n",
              "      <td>0.73</td>\n",
              "      <td>0.37</td>\n",
              "      <td>0.28</td>\n",
              "      <td>0.32</td>\n",
              "      <td>0.30</td>\n",
              "      <td>0.31</td>\n",
              "    </tr>\n",
              "    <tr>\n",
              "      <th>2</th>\n",
              "      <td>0.96</td>\n",
              "      <td>0.75</td>\n",
              "      <td>0.35</td>\n",
              "      <td>0.27</td>\n",
              "      <td>0.31</td>\n",
              "      <td>0.29</td>\n",
              "      <td>0.29</td>\n",
              "    </tr>\n",
              "    <tr>\n",
              "      <th>3</th>\n",
              "      <td>0.97</td>\n",
              "      <td>0.67</td>\n",
              "      <td>0.35</td>\n",
              "      <td>0.32</td>\n",
              "      <td>0.33</td>\n",
              "      <td>0.31</td>\n",
              "      <td>0.32</td>\n",
              "    </tr>\n",
              "    <tr>\n",
              "      <th>4</th>\n",
              "      <td>0.96</td>\n",
              "      <td>0.74</td>\n",
              "      <td>0.36</td>\n",
              "      <td>0.27</td>\n",
              "      <td>0.31</td>\n",
              "      <td>0.29</td>\n",
              "      <td>0.29</td>\n",
              "    </tr>\n",
              "    <tr>\n",
              "      <th>5</th>\n",
              "      <td>0.97</td>\n",
              "      <td>0.72</td>\n",
              "      <td>0.36</td>\n",
              "      <td>0.33</td>\n",
              "      <td>0.35</td>\n",
              "      <td>0.33</td>\n",
              "      <td>0.33</td>\n",
              "    </tr>\n",
              "    <tr>\n",
              "      <th>6</th>\n",
              "      <td>0.96</td>\n",
              "      <td>0.74</td>\n",
              "      <td>0.37</td>\n",
              "      <td>0.29</td>\n",
              "      <td>0.32</td>\n",
              "      <td>0.31</td>\n",
              "      <td>0.31</td>\n",
              "    </tr>\n",
              "    <tr>\n",
              "      <th>7</th>\n",
              "      <td>0.96</td>\n",
              "      <td>0.70</td>\n",
              "      <td>0.33</td>\n",
              "      <td>0.25</td>\n",
              "      <td>0.28</td>\n",
              "      <td>0.26</td>\n",
              "      <td>0.27</td>\n",
              "    </tr>\n",
              "    <tr>\n",
              "      <th>8</th>\n",
              "      <td>0.96</td>\n",
              "      <td>0.72</td>\n",
              "      <td>0.35</td>\n",
              "      <td>0.27</td>\n",
              "      <td>0.30</td>\n",
              "      <td>0.29</td>\n",
              "      <td>0.29</td>\n",
              "    </tr>\n",
              "    <tr>\n",
              "      <th>9</th>\n",
              "      <td>0.96</td>\n",
              "      <td>0.73</td>\n",
              "      <td>0.32</td>\n",
              "      <td>0.27</td>\n",
              "      <td>0.29</td>\n",
              "      <td>0.28</td>\n",
              "      <td>0.28</td>\n",
              "    </tr>\n",
              "    <tr>\n",
              "      <th>10</th>\n",
              "      <td>0.96</td>\n",
              "      <td>0.72</td>\n",
              "      <td>0.32</td>\n",
              "      <td>0.26</td>\n",
              "      <td>0.29</td>\n",
              "      <td>0.27</td>\n",
              "      <td>0.27</td>\n",
              "    </tr>\n",
              "    <tr>\n",
              "      <th>11</th>\n",
              "      <td>0.97</td>\n",
              "      <td>0.68</td>\n",
              "      <td>0.41</td>\n",
              "      <td>0.33</td>\n",
              "      <td>0.36</td>\n",
              "      <td>0.35</td>\n",
              "      <td>0.35</td>\n",
              "    </tr>\n",
              "    <tr>\n",
              "      <th>12</th>\n",
              "      <td>0.96</td>\n",
              "      <td>0.77</td>\n",
              "      <td>0.39</td>\n",
              "      <td>0.28</td>\n",
              "      <td>0.33</td>\n",
              "      <td>0.31</td>\n",
              "      <td>0.31</td>\n",
              "    </tr>\n",
              "    <tr>\n",
              "      <th>13</th>\n",
              "      <td>0.96</td>\n",
              "      <td>0.74</td>\n",
              "      <td>0.44</td>\n",
              "      <td>0.30</td>\n",
              "      <td>0.36</td>\n",
              "      <td>0.34</td>\n",
              "      <td>0.35</td>\n",
              "    </tr>\n",
              "    <tr>\n",
              "      <th>14</th>\n",
              "      <td>0.97</td>\n",
              "      <td>0.70</td>\n",
              "      <td>0.32</td>\n",
              "      <td>0.29</td>\n",
              "      <td>0.30</td>\n",
              "      <td>0.29</td>\n",
              "      <td>0.29</td>\n",
              "    </tr>\n",
              "    <tr>\n",
              "      <th>15</th>\n",
              "      <td>0.96</td>\n",
              "      <td>0.66</td>\n",
              "      <td>0.35</td>\n",
              "      <td>0.23</td>\n",
              "      <td>0.28</td>\n",
              "      <td>0.25</td>\n",
              "      <td>0.26</td>\n",
              "    </tr>\n",
              "    <tr>\n",
              "      <th>16</th>\n",
              "      <td>0.97</td>\n",
              "      <td>0.72</td>\n",
              "      <td>0.36</td>\n",
              "      <td>0.32</td>\n",
              "      <td>0.34</td>\n",
              "      <td>0.32</td>\n",
              "      <td>0.32</td>\n",
              "    </tr>\n",
              "    <tr>\n",
              "      <th>17</th>\n",
              "      <td>0.96</td>\n",
              "      <td>0.73</td>\n",
              "      <td>0.41</td>\n",
              "      <td>0.28</td>\n",
              "      <td>0.34</td>\n",
              "      <td>0.32</td>\n",
              "      <td>0.32</td>\n",
              "    </tr>\n",
              "    <tr>\n",
              "      <th>18</th>\n",
              "      <td>0.97</td>\n",
              "      <td>0.69</td>\n",
              "      <td>0.28</td>\n",
              "      <td>0.27</td>\n",
              "      <td>0.27</td>\n",
              "      <td>0.26</td>\n",
              "      <td>0.26</td>\n",
              "    </tr>\n",
              "    <tr>\n",
              "      <th>19</th>\n",
              "      <td>0.96</td>\n",
              "      <td>0.78</td>\n",
              "      <td>0.45</td>\n",
              "      <td>0.29</td>\n",
              "      <td>0.36</td>\n",
              "      <td>0.34</td>\n",
              "      <td>0.35</td>\n",
              "    </tr>\n",
              "    <tr>\n",
              "      <th>20</th>\n",
              "      <td>0.96</td>\n",
              "      <td>0.67</td>\n",
              "      <td>0.31</td>\n",
              "      <td>0.25</td>\n",
              "      <td>0.28</td>\n",
              "      <td>0.26</td>\n",
              "      <td>0.26</td>\n",
              "    </tr>\n",
              "    <tr>\n",
              "      <th>21</th>\n",
              "      <td>0.96</td>\n",
              "      <td>0.74</td>\n",
              "      <td>0.40</td>\n",
              "      <td>0.29</td>\n",
              "      <td>0.33</td>\n",
              "      <td>0.32</td>\n",
              "      <td>0.32</td>\n",
              "    </tr>\n",
              "    <tr>\n",
              "      <th>22</th>\n",
              "      <td>0.96</td>\n",
              "      <td>0.75</td>\n",
              "      <td>0.36</td>\n",
              "      <td>0.28</td>\n",
              "      <td>0.32</td>\n",
              "      <td>0.30</td>\n",
              "      <td>0.30</td>\n",
              "    </tr>\n",
              "    <tr>\n",
              "      <th>23</th>\n",
              "      <td>0.96</td>\n",
              "      <td>0.66</td>\n",
              "      <td>0.29</td>\n",
              "      <td>0.21</td>\n",
              "      <td>0.24</td>\n",
              "      <td>0.22</td>\n",
              "      <td>0.23</td>\n",
              "    </tr>\n",
              "    <tr>\n",
              "      <th>24</th>\n",
              "      <td>0.97</td>\n",
              "      <td>0.74</td>\n",
              "      <td>0.44</td>\n",
              "      <td>0.36</td>\n",
              "      <td>0.40</td>\n",
              "      <td>0.38</td>\n",
              "      <td>0.38</td>\n",
              "    </tr>\n",
              "    <tr>\n",
              "      <th>25</th>\n",
              "      <td>0.96</td>\n",
              "      <td>0.73</td>\n",
              "      <td>0.36</td>\n",
              "      <td>0.29</td>\n",
              "      <td>0.32</td>\n",
              "      <td>0.30</td>\n",
              "      <td>0.30</td>\n",
              "    </tr>\n",
              "    <tr>\n",
              "      <th>26</th>\n",
              "      <td>0.97</td>\n",
              "      <td>0.74</td>\n",
              "      <td>0.37</td>\n",
              "      <td>0.35</td>\n",
              "      <td>0.36</td>\n",
              "      <td>0.34</td>\n",
              "      <td>0.34</td>\n",
              "    </tr>\n",
              "    <tr>\n",
              "      <th>27</th>\n",
              "      <td>0.96</td>\n",
              "      <td>0.69</td>\n",
              "      <td>0.33</td>\n",
              "      <td>0.26</td>\n",
              "      <td>0.29</td>\n",
              "      <td>0.27</td>\n",
              "      <td>0.28</td>\n",
              "    </tr>\n",
              "    <tr>\n",
              "      <th>28</th>\n",
              "      <td>0.96</td>\n",
              "      <td>0.73</td>\n",
              "      <td>0.41</td>\n",
              "      <td>0.30</td>\n",
              "      <td>0.35</td>\n",
              "      <td>0.33</td>\n",
              "      <td>0.34</td>\n",
              "    </tr>\n",
              "    <tr>\n",
              "      <th>29</th>\n",
              "      <td>0.97</td>\n",
              "      <td>0.73</td>\n",
              "      <td>0.36</td>\n",
              "      <td>0.29</td>\n",
              "      <td>0.32</td>\n",
              "      <td>0.30</td>\n",
              "      <td>0.31</td>\n",
              "    </tr>\n",
              "    <tr>\n",
              "      <th>30</th>\n",
              "      <td>0.96</td>\n",
              "      <td>0.73</td>\n",
              "      <td>0.36</td>\n",
              "      <td>0.28</td>\n",
              "      <td>0.31</td>\n",
              "      <td>0.30</td>\n",
              "      <td>0.30</td>\n",
              "    </tr>\n",
              "    <tr>\n",
              "      <th>31</th>\n",
              "      <td>0.96</td>\n",
              "      <td>0.69</td>\n",
              "      <td>0.25</td>\n",
              "      <td>0.21</td>\n",
              "      <td>0.23</td>\n",
              "      <td>0.21</td>\n",
              "      <td>0.21</td>\n",
              "    </tr>\n",
              "    <tr>\n",
              "      <th>32</th>\n",
              "      <td>0.96</td>\n",
              "      <td>0.68</td>\n",
              "      <td>0.27</td>\n",
              "      <td>0.22</td>\n",
              "      <td>0.24</td>\n",
              "      <td>0.22</td>\n",
              "      <td>0.23</td>\n",
              "    </tr>\n",
              "    <tr>\n",
              "      <th>33</th>\n",
              "      <td>0.96</td>\n",
              "      <td>0.71</td>\n",
              "      <td>0.40</td>\n",
              "      <td>0.28</td>\n",
              "      <td>0.33</td>\n",
              "      <td>0.31</td>\n",
              "      <td>0.31</td>\n",
              "    </tr>\n",
              "    <tr>\n",
              "      <th>34</th>\n",
              "      <td>0.97</td>\n",
              "      <td>0.68</td>\n",
              "      <td>0.36</td>\n",
              "      <td>0.31</td>\n",
              "      <td>0.34</td>\n",
              "      <td>0.32</td>\n",
              "      <td>0.32</td>\n",
              "    </tr>\n",
              "    <tr>\n",
              "      <th>35</th>\n",
              "      <td>0.97</td>\n",
              "      <td>0.77</td>\n",
              "      <td>0.41</td>\n",
              "      <td>0.33</td>\n",
              "      <td>0.37</td>\n",
              "      <td>0.35</td>\n",
              "      <td>0.35</td>\n",
              "    </tr>\n",
              "    <tr>\n",
              "      <th>36</th>\n",
              "      <td>0.97</td>\n",
              "      <td>0.74</td>\n",
              "      <td>0.43</td>\n",
              "      <td>0.33</td>\n",
              "      <td>0.37</td>\n",
              "      <td>0.35</td>\n",
              "      <td>0.36</td>\n",
              "    </tr>\n",
              "    <tr>\n",
              "      <th>37</th>\n",
              "      <td>0.96</td>\n",
              "      <td>0.70</td>\n",
              "      <td>0.36</td>\n",
              "      <td>0.26</td>\n",
              "      <td>0.30</td>\n",
              "      <td>0.28</td>\n",
              "      <td>0.29</td>\n",
              "    </tr>\n",
              "    <tr>\n",
              "      <th>38</th>\n",
              "      <td>0.96</td>\n",
              "      <td>0.67</td>\n",
              "      <td>0.27</td>\n",
              "      <td>0.22</td>\n",
              "      <td>0.24</td>\n",
              "      <td>0.22</td>\n",
              "      <td>0.22</td>\n",
              "    </tr>\n",
              "    <tr>\n",
              "      <th>39</th>\n",
              "      <td>0.96</td>\n",
              "      <td>0.71</td>\n",
              "      <td>0.35</td>\n",
              "      <td>0.26</td>\n",
              "      <td>0.30</td>\n",
              "      <td>0.28</td>\n",
              "      <td>0.28</td>\n",
              "    </tr>\n",
              "    <tr>\n",
              "      <th>40</th>\n",
              "      <td>0.96</td>\n",
              "      <td>0.71</td>\n",
              "      <td>0.35</td>\n",
              "      <td>0.27</td>\n",
              "      <td>0.30</td>\n",
              "      <td>0.28</td>\n",
              "      <td>0.28</td>\n",
              "    </tr>\n",
              "    <tr>\n",
              "      <th>41</th>\n",
              "      <td>0.96</td>\n",
              "      <td>0.66</td>\n",
              "      <td>0.29</td>\n",
              "      <td>0.23</td>\n",
              "      <td>0.26</td>\n",
              "      <td>0.24</td>\n",
              "      <td>0.24</td>\n",
              "    </tr>\n",
              "    <tr>\n",
              "      <th>42</th>\n",
              "      <td>0.97</td>\n",
              "      <td>0.77</td>\n",
              "      <td>0.40</td>\n",
              "      <td>0.31</td>\n",
              "      <td>0.35</td>\n",
              "      <td>0.33</td>\n",
              "      <td>0.33</td>\n",
              "    </tr>\n",
              "    <tr>\n",
              "      <th>43</th>\n",
              "      <td>0.96</td>\n",
              "      <td>0.72</td>\n",
              "      <td>0.36</td>\n",
              "      <td>0.28</td>\n",
              "      <td>0.32</td>\n",
              "      <td>0.30</td>\n",
              "      <td>0.30</td>\n",
              "    </tr>\n",
              "    <tr>\n",
              "      <th>44</th>\n",
              "      <td>0.96</td>\n",
              "      <td>0.69</td>\n",
              "      <td>0.36</td>\n",
              "      <td>0.24</td>\n",
              "      <td>0.29</td>\n",
              "      <td>0.27</td>\n",
              "      <td>0.27</td>\n",
              "    </tr>\n",
              "    <tr>\n",
              "      <th>45</th>\n",
              "      <td>0.97</td>\n",
              "      <td>0.73</td>\n",
              "      <td>0.39</td>\n",
              "      <td>0.36</td>\n",
              "      <td>0.37</td>\n",
              "      <td>0.36</td>\n",
              "      <td>0.36</td>\n",
              "    </tr>\n",
              "    <tr>\n",
              "      <th>46</th>\n",
              "      <td>0.97</td>\n",
              "      <td>0.67</td>\n",
              "      <td>0.37</td>\n",
              "      <td>0.30</td>\n",
              "      <td>0.33</td>\n",
              "      <td>0.32</td>\n",
              "      <td>0.32</td>\n",
              "    </tr>\n",
              "    <tr>\n",
              "      <th>47</th>\n",
              "      <td>0.97</td>\n",
              "      <td>0.67</td>\n",
              "      <td>0.33</td>\n",
              "      <td>0.29</td>\n",
              "      <td>0.31</td>\n",
              "      <td>0.29</td>\n",
              "      <td>0.29</td>\n",
              "    </tr>\n",
              "    <tr>\n",
              "      <th>48</th>\n",
              "      <td>0.96</td>\n",
              "      <td>0.76</td>\n",
              "      <td>0.36</td>\n",
              "      <td>0.27</td>\n",
              "      <td>0.31</td>\n",
              "      <td>0.29</td>\n",
              "      <td>0.29</td>\n",
              "    </tr>\n",
              "    <tr>\n",
              "      <th>49</th>\n",
              "      <td>0.96</td>\n",
              "      <td>0.77</td>\n",
              "      <td>0.47</td>\n",
              "      <td>0.29</td>\n",
              "      <td>0.36</td>\n",
              "      <td>0.34</td>\n",
              "      <td>0.35</td>\n",
              "    </tr>\n",
              "    <tr>\n",
              "      <th>Mean</th>\n",
              "      <td>0.96</td>\n",
              "      <td>0.72</td>\n",
              "      <td>0.36</td>\n",
              "      <td>0.28</td>\n",
              "      <td>0.31</td>\n",
              "      <td>0.30</td>\n",
              "      <td>0.30</td>\n",
              "    </tr>\n",
              "    <tr>\n",
              "      <th>SD</th>\n",
              "      <td>0.00</td>\n",
              "      <td>0.03</td>\n",
              "      <td>0.05</td>\n",
              "      <td>0.04</td>\n",
              "      <td>0.04</td>\n",
              "      <td>0.04</td>\n",
              "      <td>0.04</td>\n",
              "    </tr>\n",
              "  </tbody>\n",
              "</table>\n",
              "</div>"
            ],
            "text/plain": [
              "      Accuracy  AUC  Recall  Prec.   F1  Kappa  MCC\n",
              "0         0.96 0.68    0.29   0.22 0.25   0.23 0.24\n",
              "1         0.96 0.73    0.37   0.28 0.32   0.30 0.31\n",
              "2         0.96 0.75    0.35   0.27 0.31   0.29 0.29\n",
              "3         0.97 0.67    0.35   0.32 0.33   0.31 0.32\n",
              "4         0.96 0.74    0.36   0.27 0.31   0.29 0.29\n",
              "5         0.97 0.72    0.36   0.33 0.35   0.33 0.33\n",
              "6         0.96 0.74    0.37   0.29 0.32   0.31 0.31\n",
              "7         0.96 0.70    0.33   0.25 0.28   0.26 0.27\n",
              "8         0.96 0.72    0.35   0.27 0.30   0.29 0.29\n",
              "9         0.96 0.73    0.32   0.27 0.29   0.28 0.28\n",
              "10        0.96 0.72    0.32   0.26 0.29   0.27 0.27\n",
              "11        0.97 0.68    0.41   0.33 0.36   0.35 0.35\n",
              "12        0.96 0.77    0.39   0.28 0.33   0.31 0.31\n",
              "13        0.96 0.74    0.44   0.30 0.36   0.34 0.35\n",
              "14        0.97 0.70    0.32   0.29 0.30   0.29 0.29\n",
              "15        0.96 0.66    0.35   0.23 0.28   0.25 0.26\n",
              "16        0.97 0.72    0.36   0.32 0.34   0.32 0.32\n",
              "17        0.96 0.73    0.41   0.28 0.34   0.32 0.32\n",
              "18        0.97 0.69    0.28   0.27 0.27   0.26 0.26\n",
              "19        0.96 0.78    0.45   0.29 0.36   0.34 0.35\n",
              "20        0.96 0.67    0.31   0.25 0.28   0.26 0.26\n",
              "21        0.96 0.74    0.40   0.29 0.33   0.32 0.32\n",
              "22        0.96 0.75    0.36   0.28 0.32   0.30 0.30\n",
              "23        0.96 0.66    0.29   0.21 0.24   0.22 0.23\n",
              "24        0.97 0.74    0.44   0.36 0.40   0.38 0.38\n",
              "25        0.96 0.73    0.36   0.29 0.32   0.30 0.30\n",
              "26        0.97 0.74    0.37   0.35 0.36   0.34 0.34\n",
              "27        0.96 0.69    0.33   0.26 0.29   0.27 0.28\n",
              "28        0.96 0.73    0.41   0.30 0.35   0.33 0.34\n",
              "29        0.97 0.73    0.36   0.29 0.32   0.30 0.31\n",
              "30        0.96 0.73    0.36   0.28 0.31   0.30 0.30\n",
              "31        0.96 0.69    0.25   0.21 0.23   0.21 0.21\n",
              "32        0.96 0.68    0.27   0.22 0.24   0.22 0.23\n",
              "33        0.96 0.71    0.40   0.28 0.33   0.31 0.31\n",
              "34        0.97 0.68    0.36   0.31 0.34   0.32 0.32\n",
              "35        0.97 0.77    0.41   0.33 0.37   0.35 0.35\n",
              "36        0.97 0.74    0.43   0.33 0.37   0.35 0.36\n",
              "37        0.96 0.70    0.36   0.26 0.30   0.28 0.29\n",
              "38        0.96 0.67    0.27   0.22 0.24   0.22 0.22\n",
              "39        0.96 0.71    0.35   0.26 0.30   0.28 0.28\n",
              "40        0.96 0.71    0.35   0.27 0.30   0.28 0.28\n",
              "41        0.96 0.66    0.29   0.23 0.26   0.24 0.24\n",
              "42        0.97 0.77    0.40   0.31 0.35   0.33 0.33\n",
              "43        0.96 0.72    0.36   0.28 0.32   0.30 0.30\n",
              "44        0.96 0.69    0.36   0.24 0.29   0.27 0.27\n",
              "45        0.97 0.73    0.39   0.36 0.37   0.36 0.36\n",
              "46        0.97 0.67    0.37   0.30 0.33   0.32 0.32\n",
              "47        0.97 0.67    0.33   0.29 0.31   0.29 0.29\n",
              "48        0.96 0.76    0.36   0.27 0.31   0.29 0.29\n",
              "49        0.96 0.77    0.47   0.29 0.36   0.34 0.35\n",
              "Mean      0.96 0.72    0.36   0.28 0.31   0.30 0.30\n",
              "SD        0.00 0.03    0.05   0.04 0.04   0.04 0.04"
            ]
          },
          "metadata": {}
        }
      ]
    },
    {
      "cell_type": "code",
      "metadata": {
        "id": "Ab1KqJPAkO3r",
        "colab": {
          "base_uri": "https://localhost:8080/",
          "height": 1000,
          "referenced_widgets": [
            "763e4139ba7f47dda033a33f42fab355",
            "1cdecdf320704b2c90803c9346eb6ec2",
            "a13f8a248a1847bf9b7d461364afecd2"
          ]
        },
        "outputId": "557d0f77-ae95-425d-c8ab-fe6f671d9f09"
      },
      "source": [
        "tune_model_rf = tune_model(rf_clf)"
      ],
      "execution_count": null,
      "outputs": [
        {
          "output_type": "display_data",
          "data": {
            "text/html": [
              "<div>\n",
              "<style scoped>\n",
              "    .dataframe tbody tr th:only-of-type {\n",
              "        vertical-align: middle;\n",
              "    }\n",
              "\n",
              "    .dataframe tbody tr th {\n",
              "        vertical-align: top;\n",
              "    }\n",
              "\n",
              "    .dataframe thead th {\n",
              "        text-align: right;\n",
              "    }\n",
              "</style>\n",
              "<table border=\"1\" class=\"dataframe\">\n",
              "  <thead>\n",
              "    <tr style=\"text-align: right;\">\n",
              "      <th></th>\n",
              "      <th>Accuracy</th>\n",
              "      <th>AUC</th>\n",
              "      <th>Recall</th>\n",
              "      <th>Prec.</th>\n",
              "      <th>F1</th>\n",
              "      <th>Kappa</th>\n",
              "      <th>MCC</th>\n",
              "    </tr>\n",
              "  </thead>\n",
              "  <tbody>\n",
              "    <tr>\n",
              "      <th>0</th>\n",
              "      <td>0.98</td>\n",
              "      <td>0.50</td>\n",
              "      <td>0.00</td>\n",
              "      <td>0.00</td>\n",
              "      <td>0.00</td>\n",
              "      <td>0.00</td>\n",
              "      <td>0.00</td>\n",
              "    </tr>\n",
              "    <tr>\n",
              "      <th>1</th>\n",
              "      <td>0.98</td>\n",
              "      <td>0.50</td>\n",
              "      <td>0.00</td>\n",
              "      <td>0.00</td>\n",
              "      <td>0.00</td>\n",
              "      <td>0.00</td>\n",
              "      <td>0.00</td>\n",
              "    </tr>\n",
              "    <tr>\n",
              "      <th>2</th>\n",
              "      <td>0.98</td>\n",
              "      <td>0.50</td>\n",
              "      <td>0.00</td>\n",
              "      <td>0.00</td>\n",
              "      <td>0.00</td>\n",
              "      <td>0.00</td>\n",
              "      <td>0.00</td>\n",
              "    </tr>\n",
              "    <tr>\n",
              "      <th>3</th>\n",
              "      <td>0.98</td>\n",
              "      <td>0.50</td>\n",
              "      <td>0.00</td>\n",
              "      <td>0.00</td>\n",
              "      <td>0.00</td>\n",
              "      <td>0.00</td>\n",
              "      <td>0.00</td>\n",
              "    </tr>\n",
              "    <tr>\n",
              "      <th>4</th>\n",
              "      <td>0.98</td>\n",
              "      <td>0.50</td>\n",
              "      <td>0.00</td>\n",
              "      <td>0.00</td>\n",
              "      <td>0.00</td>\n",
              "      <td>0.00</td>\n",
              "      <td>0.00</td>\n",
              "    </tr>\n",
              "    <tr>\n",
              "      <th>5</th>\n",
              "      <td>0.98</td>\n",
              "      <td>0.50</td>\n",
              "      <td>0.00</td>\n",
              "      <td>0.00</td>\n",
              "      <td>0.00</td>\n",
              "      <td>0.00</td>\n",
              "      <td>0.00</td>\n",
              "    </tr>\n",
              "    <tr>\n",
              "      <th>6</th>\n",
              "      <td>0.98</td>\n",
              "      <td>0.50</td>\n",
              "      <td>0.00</td>\n",
              "      <td>0.00</td>\n",
              "      <td>0.00</td>\n",
              "      <td>0.00</td>\n",
              "      <td>0.00</td>\n",
              "    </tr>\n",
              "    <tr>\n",
              "      <th>7</th>\n",
              "      <td>0.98</td>\n",
              "      <td>0.50</td>\n",
              "      <td>0.00</td>\n",
              "      <td>0.00</td>\n",
              "      <td>0.00</td>\n",
              "      <td>0.00</td>\n",
              "      <td>0.00</td>\n",
              "    </tr>\n",
              "    <tr>\n",
              "      <th>8</th>\n",
              "      <td>0.98</td>\n",
              "      <td>0.50</td>\n",
              "      <td>0.00</td>\n",
              "      <td>0.00</td>\n",
              "      <td>0.00</td>\n",
              "      <td>0.00</td>\n",
              "      <td>0.00</td>\n",
              "    </tr>\n",
              "    <tr>\n",
              "      <th>9</th>\n",
              "      <td>0.98</td>\n",
              "      <td>0.50</td>\n",
              "      <td>0.00</td>\n",
              "      <td>0.00</td>\n",
              "      <td>0.00</td>\n",
              "      <td>0.00</td>\n",
              "      <td>0.00</td>\n",
              "    </tr>\n",
              "    <tr>\n",
              "      <th>10</th>\n",
              "      <td>0.98</td>\n",
              "      <td>0.50</td>\n",
              "      <td>0.00</td>\n",
              "      <td>0.00</td>\n",
              "      <td>0.00</td>\n",
              "      <td>0.00</td>\n",
              "      <td>0.00</td>\n",
              "    </tr>\n",
              "    <tr>\n",
              "      <th>11</th>\n",
              "      <td>0.98</td>\n",
              "      <td>0.50</td>\n",
              "      <td>0.00</td>\n",
              "      <td>0.00</td>\n",
              "      <td>0.00</td>\n",
              "      <td>0.00</td>\n",
              "      <td>0.00</td>\n",
              "    </tr>\n",
              "    <tr>\n",
              "      <th>12</th>\n",
              "      <td>0.98</td>\n",
              "      <td>0.50</td>\n",
              "      <td>0.00</td>\n",
              "      <td>0.00</td>\n",
              "      <td>0.00</td>\n",
              "      <td>0.00</td>\n",
              "      <td>0.00</td>\n",
              "    </tr>\n",
              "    <tr>\n",
              "      <th>13</th>\n",
              "      <td>0.98</td>\n",
              "      <td>0.50</td>\n",
              "      <td>0.00</td>\n",
              "      <td>0.00</td>\n",
              "      <td>0.00</td>\n",
              "      <td>0.00</td>\n",
              "      <td>0.00</td>\n",
              "    </tr>\n",
              "    <tr>\n",
              "      <th>14</th>\n",
              "      <td>0.98</td>\n",
              "      <td>0.50</td>\n",
              "      <td>0.00</td>\n",
              "      <td>0.00</td>\n",
              "      <td>0.00</td>\n",
              "      <td>0.00</td>\n",
              "      <td>0.00</td>\n",
              "    </tr>\n",
              "    <tr>\n",
              "      <th>15</th>\n",
              "      <td>0.98</td>\n",
              "      <td>0.50</td>\n",
              "      <td>0.00</td>\n",
              "      <td>0.00</td>\n",
              "      <td>0.00</td>\n",
              "      <td>0.00</td>\n",
              "      <td>0.00</td>\n",
              "    </tr>\n",
              "    <tr>\n",
              "      <th>16</th>\n",
              "      <td>0.98</td>\n",
              "      <td>0.50</td>\n",
              "      <td>0.00</td>\n",
              "      <td>0.00</td>\n",
              "      <td>0.00</td>\n",
              "      <td>0.00</td>\n",
              "      <td>0.00</td>\n",
              "    </tr>\n",
              "    <tr>\n",
              "      <th>17</th>\n",
              "      <td>0.98</td>\n",
              "      <td>0.50</td>\n",
              "      <td>0.00</td>\n",
              "      <td>0.00</td>\n",
              "      <td>0.00</td>\n",
              "      <td>0.00</td>\n",
              "      <td>0.00</td>\n",
              "    </tr>\n",
              "    <tr>\n",
              "      <th>18</th>\n",
              "      <td>0.98</td>\n",
              "      <td>0.50</td>\n",
              "      <td>0.00</td>\n",
              "      <td>0.00</td>\n",
              "      <td>0.00</td>\n",
              "      <td>0.00</td>\n",
              "      <td>0.00</td>\n",
              "    </tr>\n",
              "    <tr>\n",
              "      <th>19</th>\n",
              "      <td>0.98</td>\n",
              "      <td>0.50</td>\n",
              "      <td>0.00</td>\n",
              "      <td>0.00</td>\n",
              "      <td>0.00</td>\n",
              "      <td>0.00</td>\n",
              "      <td>0.00</td>\n",
              "    </tr>\n",
              "    <tr>\n",
              "      <th>20</th>\n",
              "      <td>0.98</td>\n",
              "      <td>0.50</td>\n",
              "      <td>0.00</td>\n",
              "      <td>0.00</td>\n",
              "      <td>0.00</td>\n",
              "      <td>0.00</td>\n",
              "      <td>0.00</td>\n",
              "    </tr>\n",
              "    <tr>\n",
              "      <th>21</th>\n",
              "      <td>0.98</td>\n",
              "      <td>0.50</td>\n",
              "      <td>0.00</td>\n",
              "      <td>0.00</td>\n",
              "      <td>0.00</td>\n",
              "      <td>0.00</td>\n",
              "      <td>0.00</td>\n",
              "    </tr>\n",
              "    <tr>\n",
              "      <th>22</th>\n",
              "      <td>0.98</td>\n",
              "      <td>0.50</td>\n",
              "      <td>0.00</td>\n",
              "      <td>0.00</td>\n",
              "      <td>0.00</td>\n",
              "      <td>0.00</td>\n",
              "      <td>0.00</td>\n",
              "    </tr>\n",
              "    <tr>\n",
              "      <th>23</th>\n",
              "      <td>0.98</td>\n",
              "      <td>0.50</td>\n",
              "      <td>0.00</td>\n",
              "      <td>0.00</td>\n",
              "      <td>0.00</td>\n",
              "      <td>0.00</td>\n",
              "      <td>0.00</td>\n",
              "    </tr>\n",
              "    <tr>\n",
              "      <th>24</th>\n",
              "      <td>0.98</td>\n",
              "      <td>0.50</td>\n",
              "      <td>0.00</td>\n",
              "      <td>0.00</td>\n",
              "      <td>0.00</td>\n",
              "      <td>0.00</td>\n",
              "      <td>0.00</td>\n",
              "    </tr>\n",
              "    <tr>\n",
              "      <th>25</th>\n",
              "      <td>0.98</td>\n",
              "      <td>0.50</td>\n",
              "      <td>0.00</td>\n",
              "      <td>0.00</td>\n",
              "      <td>0.00</td>\n",
              "      <td>0.00</td>\n",
              "      <td>0.00</td>\n",
              "    </tr>\n",
              "    <tr>\n",
              "      <th>26</th>\n",
              "      <td>0.98</td>\n",
              "      <td>0.50</td>\n",
              "      <td>0.00</td>\n",
              "      <td>0.00</td>\n",
              "      <td>0.00</td>\n",
              "      <td>0.00</td>\n",
              "      <td>0.00</td>\n",
              "    </tr>\n",
              "    <tr>\n",
              "      <th>27</th>\n",
              "      <td>0.98</td>\n",
              "      <td>0.50</td>\n",
              "      <td>0.00</td>\n",
              "      <td>0.00</td>\n",
              "      <td>0.00</td>\n",
              "      <td>0.00</td>\n",
              "      <td>0.00</td>\n",
              "    </tr>\n",
              "    <tr>\n",
              "      <th>28</th>\n",
              "      <td>0.98</td>\n",
              "      <td>0.50</td>\n",
              "      <td>0.00</td>\n",
              "      <td>0.00</td>\n",
              "      <td>0.00</td>\n",
              "      <td>0.00</td>\n",
              "      <td>0.00</td>\n",
              "    </tr>\n",
              "    <tr>\n",
              "      <th>29</th>\n",
              "      <td>0.98</td>\n",
              "      <td>0.50</td>\n",
              "      <td>0.00</td>\n",
              "      <td>0.00</td>\n",
              "      <td>0.00</td>\n",
              "      <td>0.00</td>\n",
              "      <td>0.00</td>\n",
              "    </tr>\n",
              "    <tr>\n",
              "      <th>30</th>\n",
              "      <td>0.98</td>\n",
              "      <td>0.50</td>\n",
              "      <td>0.00</td>\n",
              "      <td>0.00</td>\n",
              "      <td>0.00</td>\n",
              "      <td>0.00</td>\n",
              "      <td>0.00</td>\n",
              "    </tr>\n",
              "    <tr>\n",
              "      <th>31</th>\n",
              "      <td>0.98</td>\n",
              "      <td>0.50</td>\n",
              "      <td>0.00</td>\n",
              "      <td>0.00</td>\n",
              "      <td>0.00</td>\n",
              "      <td>0.00</td>\n",
              "      <td>0.00</td>\n",
              "    </tr>\n",
              "    <tr>\n",
              "      <th>32</th>\n",
              "      <td>0.98</td>\n",
              "      <td>0.50</td>\n",
              "      <td>0.00</td>\n",
              "      <td>0.00</td>\n",
              "      <td>0.00</td>\n",
              "      <td>0.00</td>\n",
              "      <td>0.00</td>\n",
              "    </tr>\n",
              "    <tr>\n",
              "      <th>33</th>\n",
              "      <td>0.98</td>\n",
              "      <td>0.50</td>\n",
              "      <td>0.00</td>\n",
              "      <td>0.00</td>\n",
              "      <td>0.00</td>\n",
              "      <td>0.00</td>\n",
              "      <td>0.00</td>\n",
              "    </tr>\n",
              "    <tr>\n",
              "      <th>34</th>\n",
              "      <td>0.98</td>\n",
              "      <td>0.50</td>\n",
              "      <td>0.00</td>\n",
              "      <td>0.00</td>\n",
              "      <td>0.00</td>\n",
              "      <td>0.00</td>\n",
              "      <td>0.00</td>\n",
              "    </tr>\n",
              "    <tr>\n",
              "      <th>35</th>\n",
              "      <td>0.98</td>\n",
              "      <td>0.50</td>\n",
              "      <td>0.00</td>\n",
              "      <td>0.00</td>\n",
              "      <td>0.00</td>\n",
              "      <td>0.00</td>\n",
              "      <td>0.00</td>\n",
              "    </tr>\n",
              "    <tr>\n",
              "      <th>36</th>\n",
              "      <td>0.98</td>\n",
              "      <td>0.50</td>\n",
              "      <td>0.00</td>\n",
              "      <td>0.00</td>\n",
              "      <td>0.00</td>\n",
              "      <td>0.00</td>\n",
              "      <td>0.00</td>\n",
              "    </tr>\n",
              "    <tr>\n",
              "      <th>37</th>\n",
              "      <td>0.98</td>\n",
              "      <td>0.50</td>\n",
              "      <td>0.00</td>\n",
              "      <td>0.00</td>\n",
              "      <td>0.00</td>\n",
              "      <td>0.00</td>\n",
              "      <td>0.00</td>\n",
              "    </tr>\n",
              "    <tr>\n",
              "      <th>38</th>\n",
              "      <td>0.98</td>\n",
              "      <td>0.50</td>\n",
              "      <td>0.00</td>\n",
              "      <td>0.00</td>\n",
              "      <td>0.00</td>\n",
              "      <td>0.00</td>\n",
              "      <td>0.00</td>\n",
              "    </tr>\n",
              "    <tr>\n",
              "      <th>39</th>\n",
              "      <td>0.98</td>\n",
              "      <td>0.50</td>\n",
              "      <td>0.00</td>\n",
              "      <td>0.00</td>\n",
              "      <td>0.00</td>\n",
              "      <td>0.00</td>\n",
              "      <td>0.00</td>\n",
              "    </tr>\n",
              "    <tr>\n",
              "      <th>40</th>\n",
              "      <td>0.98</td>\n",
              "      <td>0.50</td>\n",
              "      <td>0.00</td>\n",
              "      <td>0.00</td>\n",
              "      <td>0.00</td>\n",
              "      <td>0.00</td>\n",
              "      <td>0.00</td>\n",
              "    </tr>\n",
              "    <tr>\n",
              "      <th>41</th>\n",
              "      <td>0.98</td>\n",
              "      <td>0.50</td>\n",
              "      <td>0.00</td>\n",
              "      <td>0.00</td>\n",
              "      <td>0.00</td>\n",
              "      <td>0.00</td>\n",
              "      <td>0.00</td>\n",
              "    </tr>\n",
              "    <tr>\n",
              "      <th>42</th>\n",
              "      <td>0.98</td>\n",
              "      <td>0.50</td>\n",
              "      <td>0.00</td>\n",
              "      <td>0.00</td>\n",
              "      <td>0.00</td>\n",
              "      <td>0.00</td>\n",
              "      <td>0.00</td>\n",
              "    </tr>\n",
              "    <tr>\n",
              "      <th>43</th>\n",
              "      <td>0.98</td>\n",
              "      <td>0.50</td>\n",
              "      <td>0.00</td>\n",
              "      <td>0.00</td>\n",
              "      <td>0.00</td>\n",
              "      <td>0.00</td>\n",
              "      <td>0.00</td>\n",
              "    </tr>\n",
              "    <tr>\n",
              "      <th>44</th>\n",
              "      <td>0.98</td>\n",
              "      <td>0.50</td>\n",
              "      <td>0.00</td>\n",
              "      <td>0.00</td>\n",
              "      <td>0.00</td>\n",
              "      <td>0.00</td>\n",
              "      <td>0.00</td>\n",
              "    </tr>\n",
              "    <tr>\n",
              "      <th>45</th>\n",
              "      <td>0.98</td>\n",
              "      <td>0.50</td>\n",
              "      <td>0.00</td>\n",
              "      <td>0.00</td>\n",
              "      <td>0.00</td>\n",
              "      <td>0.00</td>\n",
              "      <td>0.00</td>\n",
              "    </tr>\n",
              "    <tr>\n",
              "      <th>46</th>\n",
              "      <td>0.98</td>\n",
              "      <td>0.50</td>\n",
              "      <td>0.00</td>\n",
              "      <td>0.00</td>\n",
              "      <td>0.00</td>\n",
              "      <td>0.00</td>\n",
              "      <td>0.00</td>\n",
              "    </tr>\n",
              "    <tr>\n",
              "      <th>47</th>\n",
              "      <td>0.98</td>\n",
              "      <td>0.50</td>\n",
              "      <td>0.00</td>\n",
              "      <td>0.00</td>\n",
              "      <td>0.00</td>\n",
              "      <td>0.00</td>\n",
              "      <td>0.00</td>\n",
              "    </tr>\n",
              "    <tr>\n",
              "      <th>48</th>\n",
              "      <td>0.98</td>\n",
              "      <td>0.50</td>\n",
              "      <td>0.00</td>\n",
              "      <td>0.00</td>\n",
              "      <td>0.00</td>\n",
              "      <td>0.00</td>\n",
              "      <td>0.00</td>\n",
              "    </tr>\n",
              "    <tr>\n",
              "      <th>49</th>\n",
              "      <td>0.98</td>\n",
              "      <td>0.50</td>\n",
              "      <td>0.00</td>\n",
              "      <td>0.00</td>\n",
              "      <td>0.00</td>\n",
              "      <td>0.00</td>\n",
              "      <td>0.00</td>\n",
              "    </tr>\n",
              "    <tr>\n",
              "      <th>Mean</th>\n",
              "      <td>0.98</td>\n",
              "      <td>0.50</td>\n",
              "      <td>0.00</td>\n",
              "      <td>0.00</td>\n",
              "      <td>0.00</td>\n",
              "      <td>0.00</td>\n",
              "      <td>0.00</td>\n",
              "    </tr>\n",
              "    <tr>\n",
              "      <th>SD</th>\n",
              "      <td>0.00</td>\n",
              "      <td>0.00</td>\n",
              "      <td>0.00</td>\n",
              "      <td>0.00</td>\n",
              "      <td>0.00</td>\n",
              "      <td>0.00</td>\n",
              "      <td>0.00</td>\n",
              "    </tr>\n",
              "  </tbody>\n",
              "</table>\n",
              "</div>"
            ],
            "text/plain": [
              "      Accuracy  AUC  Recall  Prec.   F1  Kappa  MCC\n",
              "0         0.98 0.50    0.00   0.00 0.00   0.00 0.00\n",
              "1         0.98 0.50    0.00   0.00 0.00   0.00 0.00\n",
              "2         0.98 0.50    0.00   0.00 0.00   0.00 0.00\n",
              "3         0.98 0.50    0.00   0.00 0.00   0.00 0.00\n",
              "4         0.98 0.50    0.00   0.00 0.00   0.00 0.00\n",
              "5         0.98 0.50    0.00   0.00 0.00   0.00 0.00\n",
              "6         0.98 0.50    0.00   0.00 0.00   0.00 0.00\n",
              "7         0.98 0.50    0.00   0.00 0.00   0.00 0.00\n",
              "8         0.98 0.50    0.00   0.00 0.00   0.00 0.00\n",
              "9         0.98 0.50    0.00   0.00 0.00   0.00 0.00\n",
              "10        0.98 0.50    0.00   0.00 0.00   0.00 0.00\n",
              "11        0.98 0.50    0.00   0.00 0.00   0.00 0.00\n",
              "12        0.98 0.50    0.00   0.00 0.00   0.00 0.00\n",
              "13        0.98 0.50    0.00   0.00 0.00   0.00 0.00\n",
              "14        0.98 0.50    0.00   0.00 0.00   0.00 0.00\n",
              "15        0.98 0.50    0.00   0.00 0.00   0.00 0.00\n",
              "16        0.98 0.50    0.00   0.00 0.00   0.00 0.00\n",
              "17        0.98 0.50    0.00   0.00 0.00   0.00 0.00\n",
              "18        0.98 0.50    0.00   0.00 0.00   0.00 0.00\n",
              "19        0.98 0.50    0.00   0.00 0.00   0.00 0.00\n",
              "20        0.98 0.50    0.00   0.00 0.00   0.00 0.00\n",
              "21        0.98 0.50    0.00   0.00 0.00   0.00 0.00\n",
              "22        0.98 0.50    0.00   0.00 0.00   0.00 0.00\n",
              "23        0.98 0.50    0.00   0.00 0.00   0.00 0.00\n",
              "24        0.98 0.50    0.00   0.00 0.00   0.00 0.00\n",
              "25        0.98 0.50    0.00   0.00 0.00   0.00 0.00\n",
              "26        0.98 0.50    0.00   0.00 0.00   0.00 0.00\n",
              "27        0.98 0.50    0.00   0.00 0.00   0.00 0.00\n",
              "28        0.98 0.50    0.00   0.00 0.00   0.00 0.00\n",
              "29        0.98 0.50    0.00   0.00 0.00   0.00 0.00\n",
              "30        0.98 0.50    0.00   0.00 0.00   0.00 0.00\n",
              "31        0.98 0.50    0.00   0.00 0.00   0.00 0.00\n",
              "32        0.98 0.50    0.00   0.00 0.00   0.00 0.00\n",
              "33        0.98 0.50    0.00   0.00 0.00   0.00 0.00\n",
              "34        0.98 0.50    0.00   0.00 0.00   0.00 0.00\n",
              "35        0.98 0.50    0.00   0.00 0.00   0.00 0.00\n",
              "36        0.98 0.50    0.00   0.00 0.00   0.00 0.00\n",
              "37        0.98 0.50    0.00   0.00 0.00   0.00 0.00\n",
              "38        0.98 0.50    0.00   0.00 0.00   0.00 0.00\n",
              "39        0.98 0.50    0.00   0.00 0.00   0.00 0.00\n",
              "40        0.98 0.50    0.00   0.00 0.00   0.00 0.00\n",
              "41        0.98 0.50    0.00   0.00 0.00   0.00 0.00\n",
              "42        0.98 0.50    0.00   0.00 0.00   0.00 0.00\n",
              "43        0.98 0.50    0.00   0.00 0.00   0.00 0.00\n",
              "44        0.98 0.50    0.00   0.00 0.00   0.00 0.00\n",
              "45        0.98 0.50    0.00   0.00 0.00   0.00 0.00\n",
              "46        0.98 0.50    0.00   0.00 0.00   0.00 0.00\n",
              "47        0.98 0.50    0.00   0.00 0.00   0.00 0.00\n",
              "48        0.98 0.50    0.00   0.00 0.00   0.00 0.00\n",
              "49        0.98 0.50    0.00   0.00 0.00   0.00 0.00\n",
              "Mean      0.98 0.50    0.00   0.00 0.00   0.00 0.00\n",
              "SD        0.00 0.00    0.00   0.00 0.00   0.00 0.00"
            ]
          },
          "metadata": {}
        }
      ]
    },
    {
      "cell_type": "markdown",
      "metadata": {
        "id": "rV1QP8NGYM8n"
      },
      "source": [
        "A tunagem do modelo XGBoost teve uma performance ainda baixa, porém razoavelmente melhor do que sem a mesma. A média foi 0.96 Accuracy, 0.72 ROC AUC, 0.28 Recall e 0.31 de Precision.\n",
        "\n",
        "No entanto, podemos ver que a tunagem do modelo Random Forest ficou completamente enviesada para o desbalanceamento do Target.\n",
        "\n",
        "Vamos agora, treinar esses modelos do zero, realizar um Stacked ML e analisar as performances de cada um.\n",
        "\n",
        "Já esperamos métricas baixas, como todos os testes por aqui mostraram. Algo em torno 0.6 a 0.7 de ROC AUC será suficiente para seguirmos adiante com o modelo e o projeto."
      ]
    },
    {
      "cell_type": "code",
      "metadata": {
        "id": "fDneDznKkV4v",
        "colab": {
          "base_uri": "https://localhost:8080/",
          "height": 17
        },
        "outputId": "233b66b9-3935-4638-af31-c7905f732d72"
      },
      "source": [
        "#criando os modelos\n",
        "xgb_model_pure = xgb.XGBClassifier()\n",
        "rf_clf_pure = RandomForestClassifier()\n",
        "lr_model = LogisticRegression(max_iter=1000)\n",
        "dt_model = DecisionTreeClassifier()\n",
        "et_model = ExtraTreeClassifier()"
      ],
      "execution_count": null,
      "outputs": [
        {
          "output_type": "display_data",
          "data": {
            "application/javascript": [
              "\n",
              "        if (window._pyforest_update_imports_cell) { window._pyforest_update_imports_cell('import imutils\\nfrom sklearn.preprocessing import MinMaxScaler\\nimport fbprophet\\nfrom sklearn.ensemble import RandomForestClassifier\\nfrom sklearn.preprocessing import OneHotEncoder\\nimport fastai'); }\n",
              "    "
            ],
            "text/plain": [
              "<IPython.core.display.Javascript object>"
            ]
          },
          "metadata": {}
        },
        {
          "output_type": "display_data",
          "data": {
            "application/javascript": [
              "\n",
              "        if (window._pyforest_update_imports_cell) { window._pyforest_update_imports_cell('import imutils\\nfrom sklearn.preprocessing import MinMaxScaler\\nfrom sklearn.linear_model import LogisticRegression\\nimport fbprophet\\nfrom sklearn.preprocessing import OneHotEncoder\\nfrom sklearn.ensemble import RandomForestClassifier\\nimport fastai'); }\n",
              "    "
            ],
            "text/plain": [
              "<IPython.core.display.Javascript object>"
            ]
          },
          "metadata": {}
        }
      ]
    },
    {
      "cell_type": "code",
      "metadata": {
        "id": "JcQesI323bgo"
      },
      "source": [
        "#def para rodar cross-validation no Stacked Model\n",
        "def roda_modelo_cv(modelo, data, n_splits, n_repeats):\n",
        "\n",
        "    #prepara os dados\n",
        "    np.random.seed(68568)\n",
        "    data = data.sample(frac=1).reset_index(drop=True)\n",
        "    y = data[\"mau\"]\n",
        "    x = data.drop(['id_cliente', 'mau'], axis=1)\n",
        "    \n",
        "    #roda a cross validation\n",
        "    scoring = {'AUC':'roc_auc','recall':'recall'}\n",
        "    cv = RepeatedStratifiedKFold(n_splits = n_splits, n_repeats=n_repeats)\n",
        "    resultados=cross_validate(modelo, x, y, cv=cv, scoring=('roc_auc','recall'))\n",
        "    \n",
        "    #computa os resultados\n",
        "    auc_medio = np.mean(resultados['test_roc_auc'])\n",
        "    auc_std = np.std(resultados['test_roc_auc'])\n",
        "    recall_medio = np.mean(resultados['test_recall'])\n",
        "    recall_std = np.std(resultados['test_recall'])\n",
        "\n",
        "    #plota os resultados\n",
        "    print(f\"AUC Médio {auc_medio} Intervalo {auc_medio - (2*auc_std)} - {auc_medio + (2*auc_std)}\")\n",
        "    print(f\"Recall médio {recall_medio} Intervalo {recall_medio - (2*recall_std)} - {recall_medio + (2*recall_std)}\")"
      ],
      "execution_count": null,
      "outputs": []
    },
    {
      "cell_type": "code",
      "metadata": {
        "id": "9i5i2teM4yfz"
      },
      "source": [
        "#criando o stacked_model e seu pipeline\n",
        "stacked_model = StackingCVClassifier(classifiers=(xgb_model_pure, dt_model, et_model, rf_clf_pure),\n",
        "                            meta_classifier=b_rf_clf, cv=10,\n",
        "                            use_features_in_secondary=True,\n",
        "                            store_train_meta_features=True,\n",
        "                            shuffle=True,\n",
        "                            stratify=True)"
      ],
      "execution_count": null,
      "outputs": []
    },
    {
      "cell_type": "code",
      "metadata": {
        "id": "jCj0Ylw_OzAp"
      },
      "source": [
        "#def para rodar o stacked_model CV\n",
        "def roda_modelo_stacked_(modelo, data, imblearn_model):\n",
        "  np.random.seed(8445251)\n",
        "  data = data.sample(frac=1).reset_index(drop=True)\n",
        "  y = data[\"mau\"]\n",
        "  x = data.drop(['id_cliente', 'mau'], axis=1)\n",
        "\n",
        "  enc.fit(x[cat_columns])\n",
        "  scaler.fit(x[quant_columns])\n",
        "\n",
        "  x_categoricals = pd.DataFrame(data=enc.transform(x[cat_columns]).toarray(),\n",
        "                                  columns=enc.get_feature_names(cat_columns))\n",
        "  x_quants = pd.DataFrame(data=scaler.transform(x[quant_columns]),\n",
        "                            columns=quant_columns)\n",
        "  x = pd.concat([x_quants,x_categoricals], axis=1)\n",
        "\n",
        "  x_train, x_test, y_train, y_test = train_test_split(x,y, stratify=y, train_size=0.75)\n",
        "\n",
        "  for i, col in enumerate(x_test.columns):\n",
        "    x_test[f'f{i}'] = x_test[col]\n",
        "  x_test = x_test.drop(x_test.columns[0:55], axis=1)\n",
        "\n",
        "  x_train, y_train = imblearn_model.fit_resample(x_train, y_train)\n",
        "\n",
        "  modelo.fit(x_train.values, y_train.values)\n",
        "  y_pred = modelo.predict(x_test)\n",
        "  y_pred_proba = modelo.predict_proba(x_test)\n",
        "  auc_score_sclf = roc_auc_score(y_test, y_pred_proba[:,1])\n",
        "  recall_score_sclf = recall_score(y_test, y_pred)\n",
        "\n",
        "  # Separando a probabilidade de ser bom e mau, e calculando o KS\n",
        "  data_bom = np.sort(modelo.predict_proba(x_test)[:, 1])\n",
        "  data_mau = np.sort(modelo.predict_proba(x_test)[:, 0])\n",
        "  kstest = stats.ks_2samp(data_bom, data_mau)\n",
        "  print(f\"KS {kstest}\")\n",
        "\n",
        "  print(f'O ROC AUC Score do Stacked Model é: {auc_score_sclf} \\n E o recall score é: {recall_score_sclf}')\n",
        "\n",
        "  matriz_confusao = plot_confusion_matrix(modelo, x_test, y_test, values_format='.0f', display_labels=['Bons', 'Maus'])\n",
        "  plt.grid(False)    \n",
        "  plt.show(matriz_confusao)"
      ],
      "execution_count": null,
      "outputs": []
    },
    {
      "cell_type": "code",
      "metadata": {
        "colab": {
          "base_uri": "https://localhost:8080/",
          "height": 330
        },
        "id": "AD1D2_dNBZpU",
        "outputId": "364afdd0-b728-4185-acc3-edc265736eb5"
      },
      "source": [
        "#rodando o stacked Model\n",
        "roda_modelo_stacked_(stacked_model, df_registro_clientes_targets, smt)"
      ],
      "execution_count": null,
      "outputs": [
        {
          "output_type": "display_data",
          "data": {
            "application/javascript": [
              "\n",
              "        if (window._pyforest_update_imports_cell) { window._pyforest_update_imports_cell('from sklearn.model_selection import cross_val_score\\nimport imutils\\nimport bokeh\\nimport matplotlib.pyplot as plt\\nfrom scipy import stats\\nfrom statsmodels.tsa.arima_model import ARIMA\\nfrom sklearn.feature_extraction.text import CountVectorizer\\nfrom sklearn.linear_model import LogisticRegression\\nfrom sklearn.preprocessing import MinMaxScaler\\nimport fbprophet\\nimport cv2\\nfrom sklearn.preprocessing import OneHotEncoder\\nfrom sklearn.ensemble import RandomForestClassifier\\nimport altair as alt\\nimport fastai'); }\n",
              "    "
            ],
            "text/plain": [
              "<IPython.core.display.Javascript object>"
            ]
          },
          "metadata": {}
        },
        {
          "output_type": "stream",
          "name": "stdout",
          "text": [
            "KS KstestResult(statistic=0.9596925704526046, pvalue=0.0)\n",
            "O ROC AUC Score do Stacked Model é: 0.7724069740443038 \n",
            " E o recall score é: 0.3582089552238806\n"
          ]
        },
        {
          "output_type": "display_data",
          "data": {
            "application/javascript": [
              "\n",
              "        if (window._pyforest_update_imports_cell) { window._pyforest_update_imports_cell('from sklearn.model_selection import cross_val_score\\nimport imutils\\nimport bokeh\\nimport matplotlib.pyplot as plt\\nfrom scipy import stats\\nfrom statsmodels.tsa.arima_model import ARIMA\\nfrom sklearn.feature_extraction.text import CountVectorizer\\nfrom sklearn.linear_model import LogisticRegression\\nfrom sklearn.preprocessing import MinMaxScaler\\nimport fbprophet\\nimport cv2\\nfrom sklearn.preprocessing import OneHotEncoder\\nfrom sklearn.ensemble import RandomForestClassifier\\nimport altair as alt\\nimport fastai'); }\n",
              "    "
            ],
            "text/plain": [
              "<IPython.core.display.Javascript object>"
            ]
          },
          "metadata": {}
        },
        {
          "output_type": "display_data",
          "data": {
            "application/javascript": [
              "\n",
              "        if (window._pyforest_update_imports_cell) { window._pyforest_update_imports_cell('from sklearn.model_selection import cross_val_score\\nimport imutils\\nimport bokeh\\nimport matplotlib.pyplot as plt\\nfrom scipy import stats\\nfrom statsmodels.tsa.arima_model import ARIMA\\nfrom sklearn.feature_extraction.text import CountVectorizer\\nfrom sklearn.linear_model import LogisticRegression\\nfrom sklearn.preprocessing import MinMaxScaler\\nimport fbprophet\\nimport cv2\\nfrom sklearn.preprocessing import OneHotEncoder\\nfrom sklearn.ensemble import RandomForestClassifier\\nimport altair as alt\\nimport fastai'); }\n",
              "    "
            ],
            "text/plain": [
              "<IPython.core.display.Javascript object>"
            ]
          },
          "metadata": {}
        },
        {
          "output_type": "display_data",
          "data": {
            "image/png": "[encoded data removed]",
            "text/plain": [
              "<Figure size 432x288 with 2 Axes>"
            ]
          },
          "metadata": {
            "needs_background": "light"
          }
        }
      ]
    },
    {
      "cell_type": "code",
      "metadata": {
        "colab": {
          "base_uri": "https://localhost:8080/",
          "height": 330
        },
        "id": "7pkkcvXtO189",
        "outputId": "8d7e21b3-b2b8-440f-ac15-9ae85d09cf01"
      },
      "source": [
        "roda_modelo_stacked_(stacked_model, df_registro_clientes_targets, uns)"
      ],
      "execution_count": null,
      "outputs": [
        {
          "output_type": "display_data",
          "data": {
            "application/javascript": [
              "\n",
              "        if (window._pyforest_update_imports_cell) { window._pyforest_update_imports_cell('from sklearn.model_selection import cross_val_score\\nimport imutils\\nimport bokeh\\nimport matplotlib.pyplot as plt\\nfrom scipy import stats\\nfrom statsmodels.tsa.arima_model import ARIMA\\nfrom sklearn.feature_extraction.text import CountVectorizer\\nfrom sklearn.linear_model import LogisticRegression\\nfrom sklearn.preprocessing import MinMaxScaler\\nimport fbprophet\\nimport cv2\\nfrom sklearn.preprocessing import OneHotEncoder\\nfrom sklearn.ensemble import RandomForestClassifier\\nimport altair as alt\\nimport fastai'); }\n",
              "    "
            ],
            "text/plain": [
              "<IPython.core.display.Javascript object>"
            ]
          },
          "metadata": {}
        },
        {
          "output_type": "stream",
          "name": "stdout",
          "text": [
            "KS KstestResult(statistic=0.46524338172502133, pvalue=0.0)\n",
            "O ROC AUC Score do Stacked Model é: 0.6805634908832867 \n",
            " E o recall score é: 0.5970149253731343\n"
          ]
        },
        {
          "output_type": "display_data",
          "data": {
            "application/javascript": [
              "\n",
              "        if (window._pyforest_update_imports_cell) { window._pyforest_update_imports_cell('from sklearn.model_selection import cross_val_score\\nimport imutils\\nimport bokeh\\nimport matplotlib.pyplot as plt\\nfrom scipy import stats\\nfrom statsmodels.tsa.arima_model import ARIMA\\nfrom sklearn.feature_extraction.text import CountVectorizer\\nfrom sklearn.linear_model import LogisticRegression\\nfrom sklearn.preprocessing import MinMaxScaler\\nimport fbprophet\\nimport cv2\\nfrom sklearn.preprocessing import OneHotEncoder\\nfrom sklearn.ensemble import RandomForestClassifier\\nimport altair as alt\\nimport fastai'); }\n",
              "    "
            ],
            "text/plain": [
              "<IPython.core.display.Javascript object>"
            ]
          },
          "metadata": {}
        },
        {
          "output_type": "display_data",
          "data": {
            "application/javascript": [
              "\n",
              "        if (window._pyforest_update_imports_cell) { window._pyforest_update_imports_cell('from sklearn.model_selection import cross_val_score\\nimport imutils\\nimport bokeh\\nimport matplotlib.pyplot as plt\\nfrom scipy import stats\\nfrom statsmodels.tsa.arima_model import ARIMA\\nfrom sklearn.feature_extraction.text import CountVectorizer\\nfrom sklearn.linear_model import LogisticRegression\\nfrom sklearn.preprocessing import MinMaxScaler\\nimport fbprophet\\nimport cv2\\nfrom sklearn.preprocessing import OneHotEncoder\\nfrom sklearn.ensemble import RandomForestClassifier\\nimport altair as alt\\nimport fastai'); }\n",
              "    "
            ],
            "text/plain": [
              "<IPython.core.display.Javascript object>"
            ]
          },
          "metadata": {}
        },
        {
          "output_type": "display_data",
          "data": {
            "image/png": "[encoded data removed]",
            "text/plain": [
              "<Figure size 432x288 with 2 Axes>"
            ]
          },
          "metadata": {
            "needs_background": "light"
          }
        }
      ]
    },
    {
      "cell_type": "code",
      "metadata": {
        "colab": {
          "base_uri": "https://localhost:8080/",
          "height": 330
        },
        "id": "-TIHui6xQAl8",
        "outputId": "7b3f9f91-77de-466c-e713-6919b2edb7bc"
      },
      "source": [
        "roda_modelo_stacked_(stacked_model, df_registro_clientes_targets, smk)"
      ],
      "execution_count": null,
      "outputs": [
        {
          "output_type": "display_data",
          "data": {
            "application/javascript": [
              "\n",
              "        if (window._pyforest_update_imports_cell) { window._pyforest_update_imports_cell('from sklearn.model_selection import cross_val_score\\nimport imutils\\nimport bokeh\\nimport matplotlib.pyplot as plt\\nfrom scipy import stats\\nfrom statsmodels.tsa.arima_model import ARIMA\\nfrom sklearn.feature_extraction.text import CountVectorizer\\nfrom sklearn.linear_model import LogisticRegression\\nfrom sklearn.preprocessing import MinMaxScaler\\nimport fbprophet\\nimport cv2\\nfrom sklearn.preprocessing import OneHotEncoder\\nfrom sklearn.ensemble import RandomForestClassifier\\nimport altair as alt\\nimport fastai'); }\n",
              "    "
            ],
            "text/plain": [
              "<IPython.core.display.Javascript object>"
            ]
          },
          "metadata": {}
        },
        {
          "output_type": "stream",
          "name": "stdout",
          "text": [
            "KS KstestResult(statistic=0.9579846285226302, pvalue=0.0)\n",
            "O ROC AUC Score do Stacked Model é: 0.7669107269108053 \n",
            " E o recall score é: 0.3283582089552239\n"
          ]
        },
        {
          "output_type": "display_data",
          "data": {
            "application/javascript": [
              "\n",
              "        if (window._pyforest_update_imports_cell) { window._pyforest_update_imports_cell('from sklearn.model_selection import cross_val_score\\nimport imutils\\nimport bokeh\\nimport matplotlib.pyplot as plt\\nfrom scipy import stats\\nfrom statsmodels.tsa.arima_model import ARIMA\\nfrom sklearn.feature_extraction.text import CountVectorizer\\nfrom sklearn.linear_model import LogisticRegression\\nfrom sklearn.preprocessing import MinMaxScaler\\nimport fbprophet\\nimport cv2\\nfrom sklearn.preprocessing import OneHotEncoder\\nfrom sklearn.ensemble import RandomForestClassifier\\nimport altair as alt\\nimport fastai'); }\n",
              "    "
            ],
            "text/plain": [
              "<IPython.core.display.Javascript object>"
            ]
          },
          "metadata": {}
        },
        {
          "output_type": "display_data",
          "data": {
            "application/javascript": [
              "\n",
              "        if (window._pyforest_update_imports_cell) { window._pyforest_update_imports_cell('from sklearn.model_selection import cross_val_score\\nimport imutils\\nimport bokeh\\nimport matplotlib.pyplot as plt\\nfrom scipy import stats\\nfrom statsmodels.tsa.arima_model import ARIMA\\nfrom sklearn.feature_extraction.text import CountVectorizer\\nfrom sklearn.linear_model import LogisticRegression\\nfrom sklearn.preprocessing import MinMaxScaler\\nimport fbprophet\\nimport cv2\\nfrom sklearn.preprocessing import OneHotEncoder\\nfrom sklearn.ensemble import RandomForestClassifier\\nimport altair as alt\\nimport fastai'); }\n",
              "    "
            ],
            "text/plain": [
              "<IPython.core.display.Javascript object>"
            ]
          },
          "metadata": {}
        },
        {
          "output_type": "display_data",
          "data": {
            "image/png": "[encoded data removed]",
            "text/plain": [
              "<Figure size 432x288 with 2 Axes>"
            ]
          },
          "metadata": {
            "needs_background": "light"
          }
        }
      ]
    },
    {
      "cell_type": "code",
      "metadata": {
        "colab": {
          "base_uri": "https://localhost:8080/",
          "height": 500
        },
        "id": "vu1dTyyKEa_k",
        "outputId": "929a67e3-bf34-4cce-ebb1-c84f6876461e"
      },
      "source": [
        "#Ensembled Method\n",
        "b_rf_clf = BalancedRandomForestClassifier(random_state=8012587)\n",
        "pipeline_b_rf_clf = Pipeline([('transformer', Transformer(quant_columns, cat_columns)),('b_rf_clf',b_rf_clf)])\n",
        "roda_modelo(pipeline_b_rf_clf, df_registro_clientes_targets)"
      ],
      "execution_count": null,
      "outputs": [
        {
          "output_type": "display_data",
          "data": {
            "application/javascript": [
              "\n",
              "        if (window._pyforest_update_imports_cell) { window._pyforest_update_imports_cell('from sklearn.model_selection import cross_val_score\\nimport imutils\\nimport bokeh\\nimport matplotlib.pyplot as plt\\nfrom scipy import stats\\nfrom statsmodels.tsa.arima_model import ARIMA\\nfrom sklearn.feature_extraction.text import CountVectorizer\\nfrom sklearn.linear_model import LogisticRegression\\nfrom sklearn.preprocessing import MinMaxScaler\\nimport fbprophet\\nimport cv2\\nfrom sklearn.preprocessing import OneHotEncoder\\nfrom sklearn.ensemble import RandomForestClassifier\\nimport altair as alt\\nimport fastai'); }\n",
              "    "
            ],
            "text/plain": [
              "<IPython.core.display.Javascript object>"
            ]
          },
          "metadata": {}
        },
        {
          "output_type": "display_data",
          "data": {
            "application/javascript": [
              "\n",
              "        if (window._pyforest_update_imports_cell) { window._pyforest_update_imports_cell('from sklearn.model_selection import cross_val_score\\nimport imutils\\nimport bokeh\\nimport matplotlib.pyplot as plt\\nfrom scipy import stats\\nfrom statsmodels.tsa.arima_model import ARIMA\\nfrom sklearn.feature_extraction.text import CountVectorizer\\nfrom sklearn.linear_model import LogisticRegression\\nfrom sklearn.preprocessing import MinMaxScaler\\nimport fbprophet\\nimport cv2\\nfrom sklearn.preprocessing import OneHotEncoder\\nfrom sklearn.ensemble import RandomForestClassifier\\nimport altair as alt\\nimport fastai'); }\n",
              "    "
            ],
            "text/plain": [
              "<IPython.core.display.Javascript object>"
            ]
          },
          "metadata": {}
        },
        {
          "output_type": "stream",
          "name": "stdout",
          "text": [
            "AUC 0.7672583594873039\n"
          ]
        },
        {
          "output_type": "display_data",
          "data": {
            "application/javascript": [
              "\n",
              "        if (window._pyforest_update_imports_cell) { window._pyforest_update_imports_cell('from sklearn.model_selection import cross_val_score\\nimport imutils\\nimport bokeh\\nimport matplotlib.pyplot as plt\\nfrom scipy import stats\\nfrom statsmodels.tsa.arima_model import ARIMA\\nfrom sklearn.feature_extraction.text import CountVectorizer\\nfrom sklearn.linear_model import LogisticRegression\\nfrom sklearn.preprocessing import MinMaxScaler\\nimport fbprophet\\nimport cv2\\nfrom sklearn.preprocessing import OneHotEncoder\\nfrom sklearn.ensemble import RandomForestClassifier\\nimport altair as alt\\nimport fastai'); }\n",
              "    "
            ],
            "text/plain": [
              "<IPython.core.display.Javascript object>"
            ]
          },
          "metadata": {}
        },
        {
          "output_type": "stream",
          "name": "stdout",
          "text": [
            "KS KstestResult(statistic=0.4763450042698548, pvalue=0.0)\n"
          ]
        },
        {
          "output_type": "display_data",
          "data": {
            "application/javascript": [
              "\n",
              "        if (window._pyforest_update_imports_cell) { window._pyforest_update_imports_cell('from sklearn.model_selection import cross_val_score\\nimport imutils\\nimport bokeh\\nimport matplotlib.pyplot as plt\\nfrom scipy import stats\\nfrom statsmodels.tsa.arima_model import ARIMA\\nfrom sklearn.feature_extraction.text import CountVectorizer\\nfrom sklearn.linear_model import LogisticRegression\\nfrom sklearn.preprocessing import MinMaxScaler\\nimport fbprophet\\nimport cv2\\nfrom sklearn.preprocessing import OneHotEncoder\\nfrom sklearn.ensemble import RandomForestClassifier\\nimport altair as alt\\nimport fastai'); }\n",
              "    "
            ],
            "text/plain": [
              "<IPython.core.display.Javascript object>"
            ]
          },
          "metadata": {}
        },
        {
          "output_type": "display_data",
          "data": {
            "application/javascript": [
              "\n",
              "        if (window._pyforest_update_imports_cell) { window._pyforest_update_imports_cell('from sklearn.model_selection import cross_val_score\\nimport imutils\\nimport bokeh\\nimport matplotlib.pyplot as plt\\nfrom scipy import stats\\nfrom statsmodels.tsa.arima_model import ARIMA\\nfrom sklearn.feature_extraction.text import CountVectorizer\\nfrom sklearn.linear_model import LogisticRegression\\nfrom sklearn.preprocessing import MinMaxScaler\\nimport fbprophet\\nimport cv2\\nfrom sklearn.preprocessing import OneHotEncoder\\nfrom sklearn.ensemble import RandomForestClassifier\\nimport altair as alt\\nimport fastai'); }\n",
              "    "
            ],
            "text/plain": [
              "<IPython.core.display.Javascript object>"
            ]
          },
          "metadata": {}
        },
        {
          "output_type": "display_data",
          "data": {
            "image/png": "[encoded data removed]",
            "text/plain": [
              "<Figure size 432x288 with 2 Axes>"
            ]
          },
          "metadata": {
            "needs_background": "light"
          }
        },
        {
          "output_type": "stream",
          "name": "stdout",
          "text": [
            "\n",
            "Classification Report\n",
            "              precision    recall  f1-score   support\n",
            "\n",
            "           0       0.99      0.75      0.85      5721\n",
            "           1       0.06      0.65      0.11       134\n",
            "\n",
            "    accuracy                           0.75      5855\n",
            "   macro avg       0.52      0.70      0.48      5855\n",
            "weighted avg       0.97      0.75      0.84      5855\n",
            "\n"
          ]
        }
      ]
    },
    {
      "cell_type": "code",
      "metadata": {
        "colab": {
          "base_uri": "https://localhost:8080/",
          "height": 500
        },
        "id": "o3yd9RiLMimk",
        "outputId": "4b2bae0d-bc0a-4c26-faa2-8de313b8220e"
      },
      "source": [
        "pipeline_uns2 = Pipeline([('transformer', Transformer(quant_columns, cat_columns)),('uns',uns),(\"rf_clf_model\",rf_clf_model)])\n",
        "roda_modelo(pipeline_uns2, df_registro_clientes_targets)"
      ],
      "execution_count": null,
      "outputs": [
        {
          "output_type": "display_data",
          "data": {
            "application/javascript": [
              "\n",
              "        if (window._pyforest_update_imports_cell) { window._pyforest_update_imports_cell('from sklearn.model_selection import cross_val_score\\nimport imutils\\nimport bokeh\\nimport matplotlib.pyplot as plt\\nfrom scipy import stats\\nfrom statsmodels.tsa.arima_model import ARIMA\\nfrom sklearn.feature_extraction.text import CountVectorizer\\nfrom sklearn.linear_model import LogisticRegression\\nfrom sklearn.preprocessing import MinMaxScaler\\nimport fbprophet\\nimport cv2\\nfrom sklearn.preprocessing import OneHotEncoder\\nfrom sklearn.ensemble import RandomForestClassifier\\nimport altair as alt\\nimport fastai'); }\n",
              "    "
            ],
            "text/plain": [
              "<IPython.core.display.Javascript object>"
            ]
          },
          "metadata": {}
        },
        {
          "output_type": "display_data",
          "data": {
            "application/javascript": [
              "\n",
              "        if (window._pyforest_update_imports_cell) { window._pyforest_update_imports_cell('from sklearn.model_selection import cross_val_score\\nimport imutils\\nimport bokeh\\nimport matplotlib.pyplot as plt\\nfrom scipy import stats\\nfrom statsmodels.tsa.arima_model import ARIMA\\nfrom sklearn.feature_extraction.text import CountVectorizer\\nfrom sklearn.linear_model import LogisticRegression\\nfrom sklearn.preprocessing import MinMaxScaler\\nimport fbprophet\\nimport cv2\\nfrom sklearn.preprocessing import OneHotEncoder\\nfrom sklearn.ensemble import RandomForestClassifier\\nimport altair as alt\\nimport fastai'); }\n",
              "    "
            ],
            "text/plain": [
              "<IPython.core.display.Javascript object>"
            ]
          },
          "metadata": {}
        },
        {
          "output_type": "stream",
          "name": "stdout",
          "text": [
            "AUC 0.7286900578387558\n"
          ]
        },
        {
          "output_type": "display_data",
          "data": {
            "application/javascript": [
              "\n",
              "        if (window._pyforest_update_imports_cell) { window._pyforest_update_imports_cell('from sklearn.model_selection import cross_val_score\\nimport imutils\\nimport bokeh\\nimport matplotlib.pyplot as plt\\nfrom scipy import stats\\nfrom statsmodels.tsa.arima_model import ARIMA\\nfrom sklearn.feature_extraction.text import CountVectorizer\\nfrom sklearn.linear_model import LogisticRegression\\nfrom sklearn.preprocessing import MinMaxScaler\\nimport fbprophet\\nimport cv2\\nfrom sklearn.preprocessing import OneHotEncoder\\nfrom sklearn.ensemble import RandomForestClassifier\\nimport altair as alt\\nimport fastai'); }\n",
              "    "
            ],
            "text/plain": [
              "<IPython.core.display.Javascript object>"
            ]
          },
          "metadata": {}
        },
        {
          "output_type": "stream",
          "name": "stdout",
          "text": [
            "KS KstestResult(statistic=0.3439795046968403, pvalue=1.6860851987765255e-307)\n"
          ]
        },
        {
          "output_type": "display_data",
          "data": {
            "application/javascript": [
              "\n",
              "        if (window._pyforest_update_imports_cell) { window._pyforest_update_imports_cell('from sklearn.model_selection import cross_val_score\\nimport imutils\\nimport bokeh\\nimport matplotlib.pyplot as plt\\nfrom scipy import stats\\nfrom statsmodels.tsa.arima_model import ARIMA\\nfrom sklearn.feature_extraction.text import CountVectorizer\\nfrom sklearn.linear_model import LogisticRegression\\nfrom sklearn.preprocessing import MinMaxScaler\\nimport fbprophet\\nimport cv2\\nfrom sklearn.preprocessing import OneHotEncoder\\nfrom sklearn.ensemble import RandomForestClassifier\\nimport altair as alt\\nimport fastai'); }\n",
              "    "
            ],
            "text/plain": [
              "<IPython.core.display.Javascript object>"
            ]
          },
          "metadata": {}
        },
        {
          "output_type": "display_data",
          "data": {
            "application/javascript": [
              "\n",
              "        if (window._pyforest_update_imports_cell) { window._pyforest_update_imports_cell('from sklearn.model_selection import cross_val_score\\nimport imutils\\nimport bokeh\\nimport matplotlib.pyplot as plt\\nfrom scipy import stats\\nfrom statsmodels.tsa.arima_model import ARIMA\\nfrom sklearn.feature_extraction.text import CountVectorizer\\nfrom sklearn.linear_model import LogisticRegression\\nfrom sklearn.preprocessing import MinMaxScaler\\nimport fbprophet\\nimport cv2\\nfrom sklearn.preprocessing import OneHotEncoder\\nfrom sklearn.ensemble import RandomForestClassifier\\nimport altair as alt\\nimport fastai'); }\n",
              "    "
            ],
            "text/plain": [
              "<IPython.core.display.Javascript object>"
            ]
          },
          "metadata": {}
        },
        {
          "output_type": "display_data",
          "data": {
            "image/png": "[encoded data removed]",
            "text/plain": [
              "<Figure size 432x288 with 2 Axes>"
            ]
          },
          "metadata": {
            "needs_background": "light"
          }
        },
        {
          "output_type": "stream",
          "name": "stdout",
          "text": [
            "\n",
            "Classification Report\n",
            "              precision    recall  f1-score   support\n",
            "\n",
            "           0       0.99      0.69      0.81      5721\n",
            "           1       0.05      0.65      0.09       134\n",
            "\n",
            "    accuracy                           0.69      5855\n",
            "   macro avg       0.52      0.67      0.45      5855\n",
            "weighted avg       0.97      0.69      0.79      5855\n",
            "\n"
          ]
        }
      ]
    },
    {
      "cell_type": "markdown",
      "metadata": {
        "id": "pbfyq1JiYIg6"
      },
      "source": [
        "Após rodar o Stacked Model com diferentes variações de balanceamento, o **BalancedRandomForest Classifier** ainda se mostrou mais assertivo em classificar o número de Maus.\n",
        "\n",
        "Vamos agora rodar cross-validations dele."
      ]
    },
    {
      "cell_type": "code",
      "metadata": {
        "id": "fhDG7F1rMwQR",
        "colab": {
          "base_uri": "https://localhost:8080/",
          "height": 51
        },
        "outputId": "8d4c804c-858b-4248-b142-6b662349b999"
      },
      "source": [
        "roda_modelo_cv(pipeline_b_rf_clf, df_registro_clientes_targets, 5,10)"
      ],
      "execution_count": null,
      "outputs": [
        {
          "output_type": "display_data",
          "data": {
            "application/javascript": [
              "\n",
              "        if (window._pyforest_update_imports_cell) { window._pyforest_update_imports_cell('from sklearn.model_selection import cross_val_score\\nimport imutils\\nimport bokeh\\nimport matplotlib.pyplot as plt\\nfrom scipy import stats\\nfrom statsmodels.tsa.arima_model import ARIMA\\nfrom sklearn.feature_extraction.text import CountVectorizer\\nfrom sklearn.linear_model import LogisticRegression\\nfrom sklearn.preprocessing import MinMaxScaler\\nimport fbprophet\\nimport cv2\\nfrom sklearn.preprocessing import OneHotEncoder\\nfrom sklearn.ensemble import RandomForestClassifier\\nimport altair as alt\\nimport fastai'); }\n",
              "    "
            ],
            "text/plain": [
              "<IPython.core.display.Javascript object>"
            ]
          },
          "metadata": {}
        },
        {
          "output_type": "display_data",
          "data": {
            "application/javascript": [
              "\n",
              "        if (window._pyforest_update_imports_cell) { window._pyforest_update_imports_cell('from sklearn.model_selection import cross_val_score\\nimport imutils\\nimport bokeh\\nimport matplotlib.pyplot as plt\\nfrom scipy import stats\\nfrom statsmodels.tsa.arima_model import ARIMA\\nfrom sklearn.feature_extraction.text import CountVectorizer\\nfrom sklearn.linear_model import LogisticRegression\\nfrom sklearn.preprocessing import MinMaxScaler\\nimport fbprophet\\nimport cv2\\nfrom sklearn.preprocessing import OneHotEncoder\\nfrom sklearn.ensemble import RandomForestClassifier\\nimport altair as alt\\nimport fastai'); }\n",
              "    "
            ],
            "text/plain": [
              "<IPython.core.display.Javascript object>"
            ]
          },
          "metadata": {}
        },
        {
          "output_type": "display_data",
          "data": {
            "application/javascript": [
              "\n",
              "        if (window._pyforest_update_imports_cell) { window._pyforest_update_imports_cell('from sklearn.model_selection import cross_val_score\\nimport imutils\\nimport bokeh\\nimport matplotlib.pyplot as plt\\nfrom scipy import stats\\nfrom statsmodels.tsa.arima_model import ARIMA\\nfrom sklearn.feature_extraction.text import CountVectorizer\\nfrom sklearn.linear_model import LogisticRegression\\nfrom sklearn.preprocessing import MinMaxScaler\\nimport fbprophet\\nimport cv2\\nfrom sklearn.preprocessing import OneHotEncoder\\nfrom sklearn.ensemble import RandomForestClassifier\\nimport altair as alt\\nimport fastai'); }\n",
              "    "
            ],
            "text/plain": [
              "<IPython.core.display.Javascript object>"
            ]
          },
          "metadata": {}
        },
        {
          "output_type": "display_data",
          "data": {
            "application/javascript": [
              "\n",
              "        if (window._pyforest_update_imports_cell) { window._pyforest_update_imports_cell('from sklearn.model_selection import cross_val_score\\nimport imutils\\nimport bokeh\\nimport matplotlib.pyplot as plt\\nfrom scipy import stats\\nfrom statsmodels.tsa.arima_model import ARIMA\\nfrom sklearn.feature_extraction.text import CountVectorizer\\nfrom sklearn.linear_model import LogisticRegression\\nfrom sklearn.preprocessing import MinMaxScaler\\nimport fbprophet\\nimport cv2\\nfrom sklearn.preprocessing import OneHotEncoder\\nfrom sklearn.ensemble import RandomForestClassifier\\nimport altair as alt\\nimport fastai'); }\n",
              "    "
            ],
            "text/plain": [
              "<IPython.core.display.Javascript object>"
            ]
          },
          "metadata": {}
        },
        {
          "output_type": "display_data",
          "data": {
            "application/javascript": [
              "\n",
              "        if (window._pyforest_update_imports_cell) { window._pyforest_update_imports_cell('from sklearn.model_selection import cross_val_score\\nimport imutils\\nimport bokeh\\nimport matplotlib.pyplot as plt\\nfrom scipy import stats\\nfrom statsmodels.tsa.arima_model import ARIMA\\nfrom sklearn.feature_extraction.text import CountVectorizer\\nfrom sklearn.linear_model import LogisticRegression\\nfrom sklearn.preprocessing import MinMaxScaler\\nimport fbprophet\\nimport cv2\\nfrom sklearn.preprocessing import OneHotEncoder\\nfrom sklearn.ensemble import RandomForestClassifier\\nimport altair as alt\\nimport fastai'); }\n",
              "    "
            ],
            "text/plain": [
              "<IPython.core.display.Javascript object>"
            ]
          },
          "metadata": {}
        },
        {
          "output_type": "display_data",
          "data": {
            "application/javascript": [
              "\n",
              "        if (window._pyforest_update_imports_cell) { window._pyforest_update_imports_cell('from sklearn.model_selection import cross_val_score\\nimport imutils\\nimport bokeh\\nimport matplotlib.pyplot as plt\\nfrom scipy import stats\\nfrom statsmodels.tsa.arima_model import ARIMA\\nfrom sklearn.feature_extraction.text import CountVectorizer\\nfrom sklearn.linear_model import LogisticRegression\\nfrom sklearn.preprocessing import MinMaxScaler\\nimport fbprophet\\nimport cv2\\nfrom sklearn.preprocessing import OneHotEncoder\\nfrom sklearn.ensemble import RandomForestClassifier\\nimport altair as alt\\nimport fastai'); }\n",
              "    "
            ],
            "text/plain": [
              "<IPython.core.display.Javascript object>"
            ]
          },
          "metadata": {}
        },
        {
          "output_type": "display_data",
          "data": {
            "application/javascript": [
              "\n",
              "        if (window._pyforest_update_imports_cell) { window._pyforest_update_imports_cell('from sklearn.model_selection import cross_val_score\\nimport imutils\\nimport bokeh\\nimport matplotlib.pyplot as plt\\nfrom scipy import stats\\nfrom statsmodels.tsa.arima_model import ARIMA\\nfrom sklearn.feature_extraction.text import CountVectorizer\\nfrom sklearn.linear_model import LogisticRegression\\nfrom sklearn.preprocessing import MinMaxScaler\\nimport fbprophet\\nimport cv2\\nfrom sklearn.preprocessing import OneHotEncoder\\nfrom sklearn.ensemble import RandomForestClassifier\\nimport altair as alt\\nimport fastai'); }\n",
              "    "
            ],
            "text/plain": [
              "<IPython.core.display.Javascript object>"
            ]
          },
          "metadata": {}
        },
        {
          "output_type": "display_data",
          "data": {
            "application/javascript": [
              "\n",
              "        if (window._pyforest_update_imports_cell) { window._pyforest_update_imports_cell('from sklearn.model_selection import cross_val_score\\nimport imutils\\nimport bokeh\\nimport matplotlib.pyplot as plt\\nfrom scipy import stats\\nfrom statsmodels.tsa.arima_model import ARIMA\\nfrom sklearn.feature_extraction.text import CountVectorizer\\nfrom sklearn.linear_model import LogisticRegression\\nfrom sklearn.preprocessing import MinMaxScaler\\nimport fbprophet\\nimport cv2\\nfrom sklearn.preprocessing import OneHotEncoder\\nfrom sklearn.ensemble import RandomForestClassifier\\nimport altair as alt\\nimport fastai'); }\n",
              "    "
            ],
            "text/plain": [
              "<IPython.core.display.Javascript object>"
            ]
          },
          "metadata": {}
        },
        {
          "output_type": "display_data",
          "data": {
            "application/javascript": [
              "\n",
              "        if (window._pyforest_update_imports_cell) { window._pyforest_update_imports_cell('from sklearn.model_selection import cross_val_score\\nimport imutils\\nimport bokeh\\nimport matplotlib.pyplot as plt\\nfrom scipy import stats\\nfrom statsmodels.tsa.arima_model import ARIMA\\nfrom sklearn.feature_extraction.text import CountVectorizer\\nfrom sklearn.linear_model import LogisticRegression\\nfrom sklearn.preprocessing import MinMaxScaler\\nimport fbprophet\\nimport cv2\\nfrom sklearn.preprocessing import OneHotEncoder\\nfrom sklearn.ensemble import RandomForestClassifier\\nimport altair as alt\\nimport fastai'); }\n",
              "    "
            ],
            "text/plain": [
              "<IPython.core.display.Javascript object>"
            ]
          },
          "metadata": {}
        },
        {
          "output_type": "display_data",
          "data": {
            "application/javascript": [
              "\n",
              "        if (window._pyforest_update_imports_cell) { window._pyforest_update_imports_cell('from sklearn.model_selection import cross_val_score\\nimport imutils\\nimport bokeh\\nimport matplotlib.pyplot as plt\\nfrom scipy import stats\\nfrom statsmodels.tsa.arima_model import ARIMA\\nfrom sklearn.feature_extraction.text import CountVectorizer\\nfrom sklearn.linear_model import LogisticRegression\\nfrom sklearn.preprocessing import MinMaxScaler\\nimport fbprophet\\nimport cv2\\nfrom sklearn.preprocessing import OneHotEncoder\\nfrom sklearn.ensemble import RandomForestClassifier\\nimport altair as alt\\nimport fastai'); }\n",
              "    "
            ],
            "text/plain": [
              "<IPython.core.display.Javascript object>"
            ]
          },
          "metadata": {}
        },
        {
          "output_type": "display_data",
          "data": {
            "application/javascript": [
              "\n",
              "        if (window._pyforest_update_imports_cell) { window._pyforest_update_imports_cell('from sklearn.model_selection import cross_val_score\\nimport imutils\\nimport bokeh\\nimport matplotlib.pyplot as plt\\nfrom scipy import stats\\nfrom statsmodels.tsa.arima_model import ARIMA\\nfrom sklearn.feature_extraction.text import CountVectorizer\\nfrom sklearn.linear_model import LogisticRegression\\nfrom sklearn.preprocessing import MinMaxScaler\\nimport fbprophet\\nimport cv2\\nfrom sklearn.preprocessing import OneHotEncoder\\nfrom sklearn.ensemble import RandomForestClassifier\\nimport altair as alt\\nimport fastai'); }\n",
              "    "
            ],
            "text/plain": [
              "<IPython.core.display.Javascript object>"
            ]
          },
          "metadata": {}
        },
        {
          "output_type": "display_data",
          "data": {
            "application/javascript": [
              "\n",
              "        if (window._pyforest_update_imports_cell) { window._pyforest_update_imports_cell('from sklearn.model_selection import cross_val_score\\nimport imutils\\nimport bokeh\\nimport matplotlib.pyplot as plt\\nfrom scipy import stats\\nfrom statsmodels.tsa.arima_model import ARIMA\\nfrom sklearn.feature_extraction.text import CountVectorizer\\nfrom sklearn.linear_model import LogisticRegression\\nfrom sklearn.preprocessing import MinMaxScaler\\nimport fbprophet\\nimport cv2\\nfrom sklearn.preprocessing import OneHotEncoder\\nfrom sklearn.ensemble import RandomForestClassifier\\nimport altair as alt\\nimport fastai'); }\n",
              "    "
            ],
            "text/plain": [
              "<IPython.core.display.Javascript object>"
            ]
          },
          "metadata": {}
        },
        {
          "output_type": "display_data",
          "data": {
            "application/javascript": [
              "\n",
              "        if (window._pyforest_update_imports_cell) { window._pyforest_update_imports_cell('from sklearn.model_selection import cross_val_score\\nimport imutils\\nimport bokeh\\nimport matplotlib.pyplot as plt\\nfrom scipy import stats\\nfrom statsmodels.tsa.arima_model import ARIMA\\nfrom sklearn.feature_extraction.text import CountVectorizer\\nfrom sklearn.linear_model import LogisticRegression\\nfrom sklearn.preprocessing import MinMaxScaler\\nimport fbprophet\\nimport cv2\\nfrom sklearn.preprocessing import OneHotEncoder\\nfrom sklearn.ensemble import RandomForestClassifier\\nimport altair as alt\\nimport fastai'); }\n",
              "    "
            ],
            "text/plain": [
              "<IPython.core.display.Javascript object>"
            ]
          },
          "metadata": {}
        },
        {
          "output_type": "display_data",
          "data": {
            "application/javascript": [
              "\n",
              "        if (window._pyforest_update_imports_cell) { window._pyforest_update_imports_cell('from sklearn.model_selection import cross_val_score\\nimport imutils\\nimport bokeh\\nimport matplotlib.pyplot as plt\\nfrom scipy import stats\\nfrom statsmodels.tsa.arima_model import ARIMA\\nfrom sklearn.feature_extraction.text import CountVectorizer\\nfrom sklearn.linear_model import LogisticRegression\\nfrom sklearn.preprocessing import MinMaxScaler\\nimport fbprophet\\nimport cv2\\nfrom sklearn.preprocessing import OneHotEncoder\\nfrom sklearn.ensemble import RandomForestClassifier\\nimport altair as alt\\nimport fastai'); }\n",
              "    "
            ],
            "text/plain": [
              "<IPython.core.display.Javascript object>"
            ]
          },
          "metadata": {}
        },
        {
          "output_type": "display_data",
          "data": {
            "application/javascript": [
              "\n",
              "        if (window._pyforest_update_imports_cell) { window._pyforest_update_imports_cell('from sklearn.model_selection import cross_val_score\\nimport imutils\\nimport bokeh\\nimport matplotlib.pyplot as plt\\nfrom scipy import stats\\nfrom statsmodels.tsa.arima_model import ARIMA\\nfrom sklearn.feature_extraction.text import CountVectorizer\\nfrom sklearn.linear_model import LogisticRegression\\nfrom sklearn.preprocessing import MinMaxScaler\\nimport fbprophet\\nimport cv2\\nfrom sklearn.preprocessing import OneHotEncoder\\nfrom sklearn.ensemble import RandomForestClassifier\\nimport altair as alt\\nimport fastai'); }\n",
              "    "
            ],
            "text/plain": [
              "<IPython.core.display.Javascript object>"
            ]
          },
          "metadata": {}
        },
        {
          "output_type": "display_data",
          "data": {
            "application/javascript": [
              "\n",
              "        if (window._pyforest_update_imports_cell) { window._pyforest_update_imports_cell('from sklearn.model_selection import cross_val_score\\nimport imutils\\nimport bokeh\\nimport matplotlib.pyplot as plt\\nfrom scipy import stats\\nfrom statsmodels.tsa.arima_model import ARIMA\\nfrom sklearn.feature_extraction.text import CountVectorizer\\nfrom sklearn.linear_model import LogisticRegression\\nfrom sklearn.preprocessing import MinMaxScaler\\nimport fbprophet\\nimport cv2\\nfrom sklearn.preprocessing import OneHotEncoder\\nfrom sklearn.ensemble import RandomForestClassifier\\nimport altair as alt\\nimport fastai'); }\n",
              "    "
            ],
            "text/plain": [
              "<IPython.core.display.Javascript object>"
            ]
          },
          "metadata": {}
        },
        {
          "output_type": "display_data",
          "data": {
            "application/javascript": [
              "\n",
              "        if (window._pyforest_update_imports_cell) { window._pyforest_update_imports_cell('from sklearn.model_selection import cross_val_score\\nimport imutils\\nimport bokeh\\nimport matplotlib.pyplot as plt\\nfrom scipy import stats\\nfrom statsmodels.tsa.arima_model import ARIMA\\nfrom sklearn.feature_extraction.text import CountVectorizer\\nfrom sklearn.linear_model import LogisticRegression\\nfrom sklearn.preprocessing import MinMaxScaler\\nimport fbprophet\\nimport cv2\\nfrom sklearn.preprocessing import OneHotEncoder\\nfrom sklearn.ensemble import RandomForestClassifier\\nimport altair as alt\\nimport fastai'); }\n",
              "    "
            ],
            "text/plain": [
              "<IPython.core.display.Javascript object>"
            ]
          },
          "metadata": {}
        },
        {
          "output_type": "display_data",
          "data": {
            "application/javascript": [
              "\n",
              "        if (window._pyforest_update_imports_cell) { window._pyforest_update_imports_cell('from sklearn.model_selection import cross_val_score\\nimport imutils\\nimport bokeh\\nimport matplotlib.pyplot as plt\\nfrom scipy import stats\\nfrom statsmodels.tsa.arima_model import ARIMA\\nfrom sklearn.feature_extraction.text import CountVectorizer\\nfrom sklearn.linear_model import LogisticRegression\\nfrom sklearn.preprocessing import MinMaxScaler\\nimport fbprophet\\nimport cv2\\nfrom sklearn.preprocessing import OneHotEncoder\\nfrom sklearn.ensemble import RandomForestClassifier\\nimport altair as alt\\nimport fastai'); }\n",
              "    "
            ],
            "text/plain": [
              "<IPython.core.display.Javascript object>"
            ]
          },
          "metadata": {}
        },
        {
          "output_type": "display_data",
          "data": {
            "application/javascript": [
              "\n",
              "        if (window._pyforest_update_imports_cell) { window._pyforest_update_imports_cell('from sklearn.model_selection import cross_val_score\\nimport imutils\\nimport bokeh\\nimport matplotlib.pyplot as plt\\nfrom scipy import stats\\nfrom statsmodels.tsa.arima_model import ARIMA\\nfrom sklearn.feature_extraction.text import CountVectorizer\\nfrom sklearn.linear_model import LogisticRegression\\nfrom sklearn.preprocessing import MinMaxScaler\\nimport fbprophet\\nimport cv2\\nfrom sklearn.preprocessing import OneHotEncoder\\nfrom sklearn.ensemble import RandomForestClassifier\\nimport altair as alt\\nimport fastai'); }\n",
              "    "
            ],
            "text/plain": [
              "<IPython.core.display.Javascript object>"
            ]
          },
          "metadata": {}
        },
        {
          "output_type": "display_data",
          "data": {
            "application/javascript": [
              "\n",
              "        if (window._pyforest_update_imports_cell) { window._pyforest_update_imports_cell('from sklearn.model_selection import cross_val_score\\nimport imutils\\nimport bokeh\\nimport matplotlib.pyplot as plt\\nfrom scipy import stats\\nfrom statsmodels.tsa.arima_model import ARIMA\\nfrom sklearn.feature_extraction.text import CountVectorizer\\nfrom sklearn.linear_model import LogisticRegression\\nfrom sklearn.preprocessing import MinMaxScaler\\nimport fbprophet\\nimport cv2\\nfrom sklearn.preprocessing import OneHotEncoder\\nfrom sklearn.ensemble import RandomForestClassifier\\nimport altair as alt\\nimport fastai'); }\n",
              "    "
            ],
            "text/plain": [
              "<IPython.core.display.Javascript object>"
            ]
          },
          "metadata": {}
        },
        {
          "output_type": "display_data",
          "data": {
            "application/javascript": [
              "\n",
              "        if (window._pyforest_update_imports_cell) { window._pyforest_update_imports_cell('from sklearn.model_selection import cross_val_score\\nimport imutils\\nimport bokeh\\nimport matplotlib.pyplot as plt\\nfrom scipy import stats\\nfrom statsmodels.tsa.arima_model import ARIMA\\nfrom sklearn.feature_extraction.text import CountVectorizer\\nfrom sklearn.linear_model import LogisticRegression\\nfrom sklearn.preprocessing import MinMaxScaler\\nimport fbprophet\\nimport cv2\\nfrom sklearn.preprocessing import OneHotEncoder\\nfrom sklearn.ensemble import RandomForestClassifier\\nimport altair as alt\\nimport fastai'); }\n",
              "    "
            ],
            "text/plain": [
              "<IPython.core.display.Javascript object>"
            ]
          },
          "metadata": {}
        },
        {
          "output_type": "display_data",
          "data": {
            "application/javascript": [
              "\n",
              "        if (window._pyforest_update_imports_cell) { window._pyforest_update_imports_cell('from sklearn.model_selection import cross_val_score\\nimport imutils\\nimport bokeh\\nimport matplotlib.pyplot as plt\\nfrom scipy import stats\\nfrom statsmodels.tsa.arima_model import ARIMA\\nfrom sklearn.feature_extraction.text import CountVectorizer\\nfrom sklearn.linear_model import LogisticRegression\\nfrom sklearn.preprocessing import MinMaxScaler\\nimport fbprophet\\nimport cv2\\nfrom sklearn.preprocessing import OneHotEncoder\\nfrom sklearn.ensemble import RandomForestClassifier\\nimport altair as alt\\nimport fastai'); }\n",
              "    "
            ],
            "text/plain": [
              "<IPython.core.display.Javascript object>"
            ]
          },
          "metadata": {}
        },
        {
          "output_type": "display_data",
          "data": {
            "application/javascript": [
              "\n",
              "        if (window._pyforest_update_imports_cell) { window._pyforest_update_imports_cell('from sklearn.model_selection import cross_val_score\\nimport imutils\\nimport bokeh\\nimport matplotlib.pyplot as plt\\nfrom scipy import stats\\nfrom statsmodels.tsa.arima_model import ARIMA\\nfrom sklearn.feature_extraction.text import CountVectorizer\\nfrom sklearn.linear_model import LogisticRegression\\nfrom sklearn.preprocessing import MinMaxScaler\\nimport fbprophet\\nimport cv2\\nfrom sklearn.preprocessing import OneHotEncoder\\nfrom sklearn.ensemble import RandomForestClassifier\\nimport altair as alt\\nimport fastai'); }\n",
              "    "
            ],
            "text/plain": [
              "<IPython.core.display.Javascript object>"
            ]
          },
          "metadata": {}
        },
        {
          "output_type": "display_data",
          "data": {
            "application/javascript": [
              "\n",
              "        if (window._pyforest_update_imports_cell) { window._pyforest_update_imports_cell('from sklearn.model_selection import cross_val_score\\nimport imutils\\nimport bokeh\\nimport matplotlib.pyplot as plt\\nfrom scipy import stats\\nfrom statsmodels.tsa.arima_model import ARIMA\\nfrom sklearn.feature_extraction.text import CountVectorizer\\nfrom sklearn.linear_model import LogisticRegression\\nfrom sklearn.preprocessing import MinMaxScaler\\nimport fbprophet\\nimport cv2\\nfrom sklearn.preprocessing import OneHotEncoder\\nfrom sklearn.ensemble import RandomForestClassifier\\nimport altair as alt\\nimport fastai'); }\n",
              "    "
            ],
            "text/plain": [
              "<IPython.core.display.Javascript object>"
            ]
          },
          "metadata": {}
        },
        {
          "output_type": "display_data",
          "data": {
            "application/javascript": [
              "\n",
              "        if (window._pyforest_update_imports_cell) { window._pyforest_update_imports_cell('from sklearn.model_selection import cross_val_score\\nimport imutils\\nimport bokeh\\nimport matplotlib.pyplot as plt\\nfrom scipy import stats\\nfrom statsmodels.tsa.arima_model import ARIMA\\nfrom sklearn.feature_extraction.text import CountVectorizer\\nfrom sklearn.linear_model import LogisticRegression\\nfrom sklearn.preprocessing import MinMaxScaler\\nimport fbprophet\\nimport cv2\\nfrom sklearn.preprocessing import OneHotEncoder\\nfrom sklearn.ensemble import RandomForestClassifier\\nimport altair as alt\\nimport fastai'); }\n",
              "    "
            ],
            "text/plain": [
              "<IPython.core.display.Javascript object>"
            ]
          },
          "metadata": {}
        },
        {
          "output_type": "display_data",
          "data": {
            "application/javascript": [
              "\n",
              "        if (window._pyforest_update_imports_cell) { window._pyforest_update_imports_cell('from sklearn.model_selection import cross_val_score\\nimport imutils\\nimport bokeh\\nimport matplotlib.pyplot as plt\\nfrom scipy import stats\\nfrom statsmodels.tsa.arima_model import ARIMA\\nfrom sklearn.feature_extraction.text import CountVectorizer\\nfrom sklearn.linear_model import LogisticRegression\\nfrom sklearn.preprocessing import MinMaxScaler\\nimport fbprophet\\nimport cv2\\nfrom sklearn.preprocessing import OneHotEncoder\\nfrom sklearn.ensemble import RandomForestClassifier\\nimport altair as alt\\nimport fastai'); }\n",
              "    "
            ],
            "text/plain": [
              "<IPython.core.display.Javascript object>"
            ]
          },
          "metadata": {}
        },
        {
          "output_type": "display_data",
          "data": {
            "application/javascript": [
              "\n",
              "        if (window._pyforest_update_imports_cell) { window._pyforest_update_imports_cell('from sklearn.model_selection import cross_val_score\\nimport imutils\\nimport bokeh\\nimport matplotlib.pyplot as plt\\nfrom scipy import stats\\nfrom statsmodels.tsa.arima_model import ARIMA\\nfrom sklearn.feature_extraction.text import CountVectorizer\\nfrom sklearn.linear_model import LogisticRegression\\nfrom sklearn.preprocessing import MinMaxScaler\\nimport fbprophet\\nimport cv2\\nfrom sklearn.preprocessing import OneHotEncoder\\nfrom sklearn.ensemble import RandomForestClassifier\\nimport altair as alt\\nimport fastai'); }\n",
              "    "
            ],
            "text/plain": [
              "<IPython.core.display.Javascript object>"
            ]
          },
          "metadata": {}
        },
        {
          "output_type": "display_data",
          "data": {
            "application/javascript": [
              "\n",
              "        if (window._pyforest_update_imports_cell) { window._pyforest_update_imports_cell('from sklearn.model_selection import cross_val_score\\nimport imutils\\nimport bokeh\\nimport matplotlib.pyplot as plt\\nfrom scipy import stats\\nfrom statsmodels.tsa.arima_model import ARIMA\\nfrom sklearn.feature_extraction.text import CountVectorizer\\nfrom sklearn.linear_model import LogisticRegression\\nfrom sklearn.preprocessing import MinMaxScaler\\nimport fbprophet\\nimport cv2\\nfrom sklearn.preprocessing import OneHotEncoder\\nfrom sklearn.ensemble import RandomForestClassifier\\nimport altair as alt\\nimport fastai'); }\n",
              "    "
            ],
            "text/plain": [
              "<IPython.core.display.Javascript object>"
            ]
          },
          "metadata": {}
        },
        {
          "output_type": "display_data",
          "data": {
            "application/javascript": [
              "\n",
              "        if (window._pyforest_update_imports_cell) { window._pyforest_update_imports_cell('from sklearn.model_selection import cross_val_score\\nimport imutils\\nimport bokeh\\nimport matplotlib.pyplot as plt\\nfrom scipy import stats\\nfrom statsmodels.tsa.arima_model import ARIMA\\nfrom sklearn.feature_extraction.text import CountVectorizer\\nfrom sklearn.linear_model import LogisticRegression\\nfrom sklearn.preprocessing import MinMaxScaler\\nimport fbprophet\\nimport cv2\\nfrom sklearn.preprocessing import OneHotEncoder\\nfrom sklearn.ensemble import RandomForestClassifier\\nimport altair as alt\\nimport fastai'); }\n",
              "    "
            ],
            "text/plain": [
              "<IPython.core.display.Javascript object>"
            ]
          },
          "metadata": {}
        },
        {
          "output_type": "display_data",
          "data": {
            "application/javascript": [
              "\n",
              "        if (window._pyforest_update_imports_cell) { window._pyforest_update_imports_cell('from sklearn.model_selection import cross_val_score\\nimport imutils\\nimport bokeh\\nimport matplotlib.pyplot as plt\\nfrom scipy import stats\\nfrom statsmodels.tsa.arima_model import ARIMA\\nfrom sklearn.feature_extraction.text import CountVectorizer\\nfrom sklearn.linear_model import LogisticRegression\\nfrom sklearn.preprocessing import MinMaxScaler\\nimport fbprophet\\nimport cv2\\nfrom sklearn.preprocessing import OneHotEncoder\\nfrom sklearn.ensemble import RandomForestClassifier\\nimport altair as alt\\nimport fastai'); }\n",
              "    "
            ],
            "text/plain": [
              "<IPython.core.display.Javascript object>"
            ]
          },
          "metadata": {}
        },
        {
          "output_type": "display_data",
          "data": {
            "application/javascript": [
              "\n",
              "        if (window._pyforest_update_imports_cell) { window._pyforest_update_imports_cell('from sklearn.model_selection import cross_val_score\\nimport imutils\\nimport bokeh\\nimport matplotlib.pyplot as plt\\nfrom scipy import stats\\nfrom statsmodels.tsa.arima_model import ARIMA\\nfrom sklearn.feature_extraction.text import CountVectorizer\\nfrom sklearn.linear_model import LogisticRegression\\nfrom sklearn.preprocessing import MinMaxScaler\\nimport fbprophet\\nimport cv2\\nfrom sklearn.preprocessing import OneHotEncoder\\nfrom sklearn.ensemble import RandomForestClassifier\\nimport altair as alt\\nimport fastai'); }\n",
              "    "
            ],
            "text/plain": [
              "<IPython.core.display.Javascript object>"
            ]
          },
          "metadata": {}
        },
        {
          "output_type": "display_data",
          "data": {
            "application/javascript": [
              "\n",
              "        if (window._pyforest_update_imports_cell) { window._pyforest_update_imports_cell('from sklearn.model_selection import cross_val_score\\nimport imutils\\nimport bokeh\\nimport matplotlib.pyplot as plt\\nfrom scipy import stats\\nfrom statsmodels.tsa.arima_model import ARIMA\\nfrom sklearn.feature_extraction.text import CountVectorizer\\nfrom sklearn.linear_model import LogisticRegression\\nfrom sklearn.preprocessing import MinMaxScaler\\nimport fbprophet\\nimport cv2\\nfrom sklearn.preprocessing import OneHotEncoder\\nfrom sklearn.ensemble import RandomForestClassifier\\nimport altair as alt\\nimport fastai'); }\n",
              "    "
            ],
            "text/plain": [
              "<IPython.core.display.Javascript object>"
            ]
          },
          "metadata": {}
        },
        {
          "output_type": "display_data",
          "data": {
            "application/javascript": [
              "\n",
              "        if (window._pyforest_update_imports_cell) { window._pyforest_update_imports_cell('from sklearn.model_selection import cross_val_score\\nimport imutils\\nimport bokeh\\nimport matplotlib.pyplot as plt\\nfrom scipy import stats\\nfrom statsmodels.tsa.arima_model import ARIMA\\nfrom sklearn.feature_extraction.text import CountVectorizer\\nfrom sklearn.linear_model import LogisticRegression\\nfrom sklearn.preprocessing import MinMaxScaler\\nimport fbprophet\\nimport cv2\\nfrom sklearn.preprocessing import OneHotEncoder\\nfrom sklearn.ensemble import RandomForestClassifier\\nimport altair as alt\\nimport fastai'); }\n",
              "    "
            ],
            "text/plain": [
              "<IPython.core.display.Javascript object>"
            ]
          },
          "metadata": {}
        },
        {
          "output_type": "display_data",
          "data": {
            "application/javascript": [
              "\n",
              "        if (window._pyforest_update_imports_cell) { window._pyforest_update_imports_cell('from sklearn.model_selection import cross_val_score\\nimport imutils\\nimport bokeh\\nimport matplotlib.pyplot as plt\\nfrom scipy import stats\\nfrom statsmodels.tsa.arima_model import ARIMA\\nfrom sklearn.feature_extraction.text import CountVectorizer\\nfrom sklearn.linear_model import LogisticRegression\\nfrom sklearn.preprocessing import MinMaxScaler\\nimport fbprophet\\nimport cv2\\nfrom sklearn.preprocessing import OneHotEncoder\\nfrom sklearn.ensemble import RandomForestClassifier\\nimport altair as alt\\nimport fastai'); }\n",
              "    "
            ],
            "text/plain": [
              "<IPython.core.display.Javascript object>"
            ]
          },
          "metadata": {}
        },
        {
          "output_type": "display_data",
          "data": {
            "application/javascript": [
              "\n",
              "        if (window._pyforest_update_imports_cell) { window._pyforest_update_imports_cell('from sklearn.model_selection import cross_val_score\\nimport imutils\\nimport bokeh\\nimport matplotlib.pyplot as plt\\nfrom scipy import stats\\nfrom statsmodels.tsa.arima_model import ARIMA\\nfrom sklearn.feature_extraction.text import CountVectorizer\\nfrom sklearn.linear_model import LogisticRegression\\nfrom sklearn.preprocessing import MinMaxScaler\\nimport fbprophet\\nimport cv2\\nfrom sklearn.preprocessing import OneHotEncoder\\nfrom sklearn.ensemble import RandomForestClassifier\\nimport altair as alt\\nimport fastai'); }\n",
              "    "
            ],
            "text/plain": [
              "<IPython.core.display.Javascript object>"
            ]
          },
          "metadata": {}
        },
        {
          "output_type": "display_data",
          "data": {
            "application/javascript": [
              "\n",
              "        if (window._pyforest_update_imports_cell) { window._pyforest_update_imports_cell('from sklearn.model_selection import cross_val_score\\nimport imutils\\nimport bokeh\\nimport matplotlib.pyplot as plt\\nfrom scipy import stats\\nfrom statsmodels.tsa.arima_model import ARIMA\\nfrom sklearn.feature_extraction.text import CountVectorizer\\nfrom sklearn.linear_model import LogisticRegression\\nfrom sklearn.preprocessing import MinMaxScaler\\nimport fbprophet\\nimport cv2\\nfrom sklearn.preprocessing import OneHotEncoder\\nfrom sklearn.ensemble import RandomForestClassifier\\nimport altair as alt\\nimport fastai'); }\n",
              "    "
            ],
            "text/plain": [
              "<IPython.core.display.Javascript object>"
            ]
          },
          "metadata": {}
        },
        {
          "output_type": "display_data",
          "data": {
            "application/javascript": [
              "\n",
              "        if (window._pyforest_update_imports_cell) { window._pyforest_update_imports_cell('from sklearn.model_selection import cross_val_score\\nimport imutils\\nimport bokeh\\nimport matplotlib.pyplot as plt\\nfrom scipy import stats\\nfrom statsmodels.tsa.arima_model import ARIMA\\nfrom sklearn.feature_extraction.text import CountVectorizer\\nfrom sklearn.linear_model import LogisticRegression\\nfrom sklearn.preprocessing import MinMaxScaler\\nimport fbprophet\\nimport cv2\\nfrom sklearn.preprocessing import OneHotEncoder\\nfrom sklearn.ensemble import RandomForestClassifier\\nimport altair as alt\\nimport fastai'); }\n",
              "    "
            ],
            "text/plain": [
              "<IPython.core.display.Javascript object>"
            ]
          },
          "metadata": {}
        },
        {
          "output_type": "display_data",
          "data": {
            "application/javascript": [
              "\n",
              "        if (window._pyforest_update_imports_cell) { window._pyforest_update_imports_cell('from sklearn.model_selection import cross_val_score\\nimport imutils\\nimport bokeh\\nimport matplotlib.pyplot as plt\\nfrom scipy import stats\\nfrom statsmodels.tsa.arima_model import ARIMA\\nfrom sklearn.feature_extraction.text import CountVectorizer\\nfrom sklearn.linear_model import LogisticRegression\\nfrom sklearn.preprocessing import MinMaxScaler\\nimport fbprophet\\nimport cv2\\nfrom sklearn.preprocessing import OneHotEncoder\\nfrom sklearn.ensemble import RandomForestClassifier\\nimport altair as alt\\nimport fastai'); }\n",
              "    "
            ],
            "text/plain": [
              "<IPython.core.display.Javascript object>"
            ]
          },
          "metadata": {}
        },
        {
          "output_type": "display_data",
          "data": {
            "application/javascript": [
              "\n",
              "        if (window._pyforest_update_imports_cell) { window._pyforest_update_imports_cell('from sklearn.model_selection import cross_val_score\\nimport imutils\\nimport bokeh\\nimport matplotlib.pyplot as plt\\nfrom scipy import stats\\nfrom statsmodels.tsa.arima_model import ARIMA\\nfrom sklearn.feature_extraction.text import CountVectorizer\\nfrom sklearn.linear_model import LogisticRegression\\nfrom sklearn.preprocessing import MinMaxScaler\\nimport fbprophet\\nimport cv2\\nfrom sklearn.preprocessing import OneHotEncoder\\nfrom sklearn.ensemble import RandomForestClassifier\\nimport altair as alt\\nimport fastai'); }\n",
              "    "
            ],
            "text/plain": [
              "<IPython.core.display.Javascript object>"
            ]
          },
          "metadata": {}
        },
        {
          "output_type": "display_data",
          "data": {
            "application/javascript": [
              "\n",
              "        if (window._pyforest_update_imports_cell) { window._pyforest_update_imports_cell('from sklearn.model_selection import cross_val_score\\nimport imutils\\nimport bokeh\\nimport matplotlib.pyplot as plt\\nfrom scipy import stats\\nfrom statsmodels.tsa.arima_model import ARIMA\\nfrom sklearn.feature_extraction.text import CountVectorizer\\nfrom sklearn.linear_model import LogisticRegression\\nfrom sklearn.preprocessing import MinMaxScaler\\nimport fbprophet\\nimport cv2\\nfrom sklearn.preprocessing import OneHotEncoder\\nfrom sklearn.ensemble import RandomForestClassifier\\nimport altair as alt\\nimport fastai'); }\n",
              "    "
            ],
            "text/plain": [
              "<IPython.core.display.Javascript object>"
            ]
          },
          "metadata": {}
        },
        {
          "output_type": "display_data",
          "data": {
            "application/javascript": [
              "\n",
              "        if (window._pyforest_update_imports_cell) { window._pyforest_update_imports_cell('from sklearn.model_selection import cross_val_score\\nimport imutils\\nimport bokeh\\nimport matplotlib.pyplot as plt\\nfrom scipy import stats\\nfrom statsmodels.tsa.arima_model import ARIMA\\nfrom sklearn.feature_extraction.text import CountVectorizer\\nfrom sklearn.linear_model import LogisticRegression\\nfrom sklearn.preprocessing import MinMaxScaler\\nimport fbprophet\\nimport cv2\\nfrom sklearn.preprocessing import OneHotEncoder\\nfrom sklearn.ensemble import RandomForestClassifier\\nimport altair as alt\\nimport fastai'); }\n",
              "    "
            ],
            "text/plain": [
              "<IPython.core.display.Javascript object>"
            ]
          },
          "metadata": {}
        },
        {
          "output_type": "display_data",
          "data": {
            "application/javascript": [
              "\n",
              "        if (window._pyforest_update_imports_cell) { window._pyforest_update_imports_cell('from sklearn.model_selection import cross_val_score\\nimport imutils\\nimport bokeh\\nimport matplotlib.pyplot as plt\\nfrom scipy import stats\\nfrom statsmodels.tsa.arima_model import ARIMA\\nfrom sklearn.feature_extraction.text import CountVectorizer\\nfrom sklearn.linear_model import LogisticRegression\\nfrom sklearn.preprocessing import MinMaxScaler\\nimport fbprophet\\nimport cv2\\nfrom sklearn.preprocessing import OneHotEncoder\\nfrom sklearn.ensemble import RandomForestClassifier\\nimport altair as alt\\nimport fastai'); }\n",
              "    "
            ],
            "text/plain": [
              "<IPython.core.display.Javascript object>"
            ]
          },
          "metadata": {}
        },
        {
          "output_type": "display_data",
          "data": {
            "application/javascript": [
              "\n",
              "        if (window._pyforest_update_imports_cell) { window._pyforest_update_imports_cell('from sklearn.model_selection import cross_val_score\\nimport imutils\\nimport bokeh\\nimport matplotlib.pyplot as plt\\nfrom scipy import stats\\nfrom statsmodels.tsa.arima_model import ARIMA\\nfrom sklearn.feature_extraction.text import CountVectorizer\\nfrom sklearn.linear_model import LogisticRegression\\nfrom sklearn.preprocessing import MinMaxScaler\\nimport fbprophet\\nimport cv2\\nfrom sklearn.preprocessing import OneHotEncoder\\nfrom sklearn.ensemble import RandomForestClassifier\\nimport altair as alt\\nimport fastai'); }\n",
              "    "
            ],
            "text/plain": [
              "<IPython.core.display.Javascript object>"
            ]
          },
          "metadata": {}
        },
        {
          "output_type": "display_data",
          "data": {
            "application/javascript": [
              "\n",
              "        if (window._pyforest_update_imports_cell) { window._pyforest_update_imports_cell('from sklearn.model_selection import cross_val_score\\nimport imutils\\nimport bokeh\\nimport matplotlib.pyplot as plt\\nfrom scipy import stats\\nfrom statsmodels.tsa.arima_model import ARIMA\\nfrom sklearn.feature_extraction.text import CountVectorizer\\nfrom sklearn.linear_model import LogisticRegression\\nfrom sklearn.preprocessing import MinMaxScaler\\nimport fbprophet\\nimport cv2\\nfrom sklearn.preprocessing import OneHotEncoder\\nfrom sklearn.ensemble import RandomForestClassifier\\nimport altair as alt\\nimport fastai'); }\n",
              "    "
            ],
            "text/plain": [
              "<IPython.core.display.Javascript object>"
            ]
          },
          "metadata": {}
        },
        {
          "output_type": "display_data",
          "data": {
            "application/javascript": [
              "\n",
              "        if (window._pyforest_update_imports_cell) { window._pyforest_update_imports_cell('from sklearn.model_selection import cross_val_score\\nimport imutils\\nimport bokeh\\nimport matplotlib.pyplot as plt\\nfrom scipy import stats\\nfrom statsmodels.tsa.arima_model import ARIMA\\nfrom sklearn.feature_extraction.text import CountVectorizer\\nfrom sklearn.linear_model import LogisticRegression\\nfrom sklearn.preprocessing import MinMaxScaler\\nimport fbprophet\\nimport cv2\\nfrom sklearn.preprocessing import OneHotEncoder\\nfrom sklearn.ensemble import RandomForestClassifier\\nimport altair as alt\\nimport fastai'); }\n",
              "    "
            ],
            "text/plain": [
              "<IPython.core.display.Javascript object>"
            ]
          },
          "metadata": {}
        },
        {
          "output_type": "display_data",
          "data": {
            "application/javascript": [
              "\n",
              "        if (window._pyforest_update_imports_cell) { window._pyforest_update_imports_cell('from sklearn.model_selection import cross_val_score\\nimport imutils\\nimport bokeh\\nimport matplotlib.pyplot as plt\\nfrom scipy import stats\\nfrom statsmodels.tsa.arima_model import ARIMA\\nfrom sklearn.feature_extraction.text import CountVectorizer\\nfrom sklearn.linear_model import LogisticRegression\\nfrom sklearn.preprocessing import MinMaxScaler\\nimport fbprophet\\nimport cv2\\nfrom sklearn.preprocessing import OneHotEncoder\\nfrom sklearn.ensemble import RandomForestClassifier\\nimport altair as alt\\nimport fastai'); }\n",
              "    "
            ],
            "text/plain": [
              "<IPython.core.display.Javascript object>"
            ]
          },
          "metadata": {}
        },
        {
          "output_type": "display_data",
          "data": {
            "application/javascript": [
              "\n",
              "        if (window._pyforest_update_imports_cell) { window._pyforest_update_imports_cell('from sklearn.model_selection import cross_val_score\\nimport imutils\\nimport bokeh\\nimport matplotlib.pyplot as plt\\nfrom scipy import stats\\nfrom statsmodels.tsa.arima_model import ARIMA\\nfrom sklearn.feature_extraction.text import CountVectorizer\\nfrom sklearn.linear_model import LogisticRegression\\nfrom sklearn.preprocessing import MinMaxScaler\\nimport fbprophet\\nimport cv2\\nfrom sklearn.preprocessing import OneHotEncoder\\nfrom sklearn.ensemble import RandomForestClassifier\\nimport altair as alt\\nimport fastai'); }\n",
              "    "
            ],
            "text/plain": [
              "<IPython.core.display.Javascript object>"
            ]
          },
          "metadata": {}
        },
        {
          "output_type": "display_data",
          "data": {
            "application/javascript": [
              "\n",
              "        if (window._pyforest_update_imports_cell) { window._pyforest_update_imports_cell('from sklearn.model_selection import cross_val_score\\nimport imutils\\nimport bokeh\\nimport matplotlib.pyplot as plt\\nfrom scipy import stats\\nfrom statsmodels.tsa.arima_model import ARIMA\\nfrom sklearn.feature_extraction.text import CountVectorizer\\nfrom sklearn.linear_model import LogisticRegression\\nfrom sklearn.preprocessing import MinMaxScaler\\nimport fbprophet\\nimport cv2\\nfrom sklearn.preprocessing import OneHotEncoder\\nfrom sklearn.ensemble import RandomForestClassifier\\nimport altair as alt\\nimport fastai'); }\n",
              "    "
            ],
            "text/plain": [
              "<IPython.core.display.Javascript object>"
            ]
          },
          "metadata": {}
        },
        {
          "output_type": "display_data",
          "data": {
            "application/javascript": [
              "\n",
              "        if (window._pyforest_update_imports_cell) { window._pyforest_update_imports_cell('from sklearn.model_selection import cross_val_score\\nimport imutils\\nimport bokeh\\nimport matplotlib.pyplot as plt\\nfrom scipy import stats\\nfrom statsmodels.tsa.arima_model import ARIMA\\nfrom sklearn.feature_extraction.text import CountVectorizer\\nfrom sklearn.linear_model import LogisticRegression\\nfrom sklearn.preprocessing import MinMaxScaler\\nimport fbprophet\\nimport cv2\\nfrom sklearn.preprocessing import OneHotEncoder\\nfrom sklearn.ensemble import RandomForestClassifier\\nimport altair as alt\\nimport fastai'); }\n",
              "    "
            ],
            "text/plain": [
              "<IPython.core.display.Javascript object>"
            ]
          },
          "metadata": {}
        },
        {
          "output_type": "display_data",
          "data": {
            "application/javascript": [
              "\n",
              "        if (window._pyforest_update_imports_cell) { window._pyforest_update_imports_cell('from sklearn.model_selection import cross_val_score\\nimport imutils\\nimport bokeh\\nimport matplotlib.pyplot as plt\\nfrom scipy import stats\\nfrom statsmodels.tsa.arima_model import ARIMA\\nfrom sklearn.feature_extraction.text import CountVectorizer\\nfrom sklearn.linear_model import LogisticRegression\\nfrom sklearn.preprocessing import MinMaxScaler\\nimport fbprophet\\nimport cv2\\nfrom sklearn.preprocessing import OneHotEncoder\\nfrom sklearn.ensemble import RandomForestClassifier\\nimport altair as alt\\nimport fastai'); }\n",
              "    "
            ],
            "text/plain": [
              "<IPython.core.display.Javascript object>"
            ]
          },
          "metadata": {}
        },
        {
          "output_type": "display_data",
          "data": {
            "application/javascript": [
              "\n",
              "        if (window._pyforest_update_imports_cell) { window._pyforest_update_imports_cell('from sklearn.model_selection import cross_val_score\\nimport imutils\\nimport bokeh\\nimport matplotlib.pyplot as plt\\nfrom scipy import stats\\nfrom statsmodels.tsa.arima_model import ARIMA\\nfrom sklearn.feature_extraction.text import CountVectorizer\\nfrom sklearn.linear_model import LogisticRegression\\nfrom sklearn.preprocessing import MinMaxScaler\\nimport fbprophet\\nimport cv2\\nfrom sklearn.preprocessing import OneHotEncoder\\nfrom sklearn.ensemble import RandomForestClassifier\\nimport altair as alt\\nimport fastai'); }\n",
              "    "
            ],
            "text/plain": [
              "<IPython.core.display.Javascript object>"
            ]
          },
          "metadata": {}
        },
        {
          "output_type": "display_data",
          "data": {
            "application/javascript": [
              "\n",
              "        if (window._pyforest_update_imports_cell) { window._pyforest_update_imports_cell('from sklearn.model_selection import cross_val_score\\nimport imutils\\nimport bokeh\\nimport matplotlib.pyplot as plt\\nfrom scipy import stats\\nfrom statsmodels.tsa.arima_model import ARIMA\\nfrom sklearn.feature_extraction.text import CountVectorizer\\nfrom sklearn.linear_model import LogisticRegression\\nfrom sklearn.preprocessing import MinMaxScaler\\nimport fbprophet\\nimport cv2\\nfrom sklearn.preprocessing import OneHotEncoder\\nfrom sklearn.ensemble import RandomForestClassifier\\nimport altair as alt\\nimport fastai'); }\n",
              "    "
            ],
            "text/plain": [
              "<IPython.core.display.Javascript object>"
            ]
          },
          "metadata": {}
        },
        {
          "output_type": "display_data",
          "data": {
            "application/javascript": [
              "\n",
              "        if (window._pyforest_update_imports_cell) { window._pyforest_update_imports_cell('from sklearn.model_selection import cross_val_score\\nimport imutils\\nimport bokeh\\nimport matplotlib.pyplot as plt\\nfrom scipy import stats\\nfrom statsmodels.tsa.arima_model import ARIMA\\nfrom sklearn.feature_extraction.text import CountVectorizer\\nfrom sklearn.linear_model import LogisticRegression\\nfrom sklearn.preprocessing import MinMaxScaler\\nimport fbprophet\\nimport cv2\\nfrom sklearn.preprocessing import OneHotEncoder\\nfrom sklearn.ensemble import RandomForestClassifier\\nimport altair as alt\\nimport fastai'); }\n",
              "    "
            ],
            "text/plain": [
              "<IPython.core.display.Javascript object>"
            ]
          },
          "metadata": {}
        },
        {
          "output_type": "display_data",
          "data": {
            "application/javascript": [
              "\n",
              "        if (window._pyforest_update_imports_cell) { window._pyforest_update_imports_cell('from sklearn.model_selection import cross_val_score\\nimport imutils\\nimport bokeh\\nimport matplotlib.pyplot as plt\\nfrom scipy import stats\\nfrom statsmodels.tsa.arima_model import ARIMA\\nfrom sklearn.feature_extraction.text import CountVectorizer\\nfrom sklearn.linear_model import LogisticRegression\\nfrom sklearn.preprocessing import MinMaxScaler\\nimport fbprophet\\nimport cv2\\nfrom sklearn.preprocessing import OneHotEncoder\\nfrom sklearn.ensemble import RandomForestClassifier\\nimport altair as alt\\nimport fastai'); }\n",
              "    "
            ],
            "text/plain": [
              "<IPython.core.display.Javascript object>"
            ]
          },
          "metadata": {}
        },
        {
          "output_type": "display_data",
          "data": {
            "application/javascript": [
              "\n",
              "        if (window._pyforest_update_imports_cell) { window._pyforest_update_imports_cell('from sklearn.model_selection import cross_val_score\\nimport imutils\\nimport bokeh\\nimport matplotlib.pyplot as plt\\nfrom scipy import stats\\nfrom statsmodels.tsa.arima_model import ARIMA\\nfrom sklearn.feature_extraction.text import CountVectorizer\\nfrom sklearn.linear_model import LogisticRegression\\nfrom sklearn.preprocessing import MinMaxScaler\\nimport fbprophet\\nimport cv2\\nfrom sklearn.preprocessing import OneHotEncoder\\nfrom sklearn.ensemble import RandomForestClassifier\\nimport altair as alt\\nimport fastai'); }\n",
              "    "
            ],
            "text/plain": [
              "<IPython.core.display.Javascript object>"
            ]
          },
          "metadata": {}
        },
        {
          "output_type": "display_data",
          "data": {
            "application/javascript": [
              "\n",
              "        if (window._pyforest_update_imports_cell) { window._pyforest_update_imports_cell('from sklearn.model_selection import cross_val_score\\nimport imutils\\nimport bokeh\\nimport matplotlib.pyplot as plt\\nfrom scipy import stats\\nfrom statsmodels.tsa.arima_model import ARIMA\\nfrom sklearn.feature_extraction.text import CountVectorizer\\nfrom sklearn.linear_model import LogisticRegression\\nfrom sklearn.preprocessing import MinMaxScaler\\nimport fbprophet\\nimport cv2\\nfrom sklearn.preprocessing import OneHotEncoder\\nfrom sklearn.ensemble import RandomForestClassifier\\nimport altair as alt\\nimport fastai'); }\n",
              "    "
            ],
            "text/plain": [
              "<IPython.core.display.Javascript object>"
            ]
          },
          "metadata": {}
        },
        {
          "output_type": "display_data",
          "data": {
            "application/javascript": [
              "\n",
              "        if (window._pyforest_update_imports_cell) { window._pyforest_update_imports_cell('from sklearn.model_selection import cross_val_score\\nimport imutils\\nimport bokeh\\nimport matplotlib.pyplot as plt\\nfrom scipy import stats\\nfrom statsmodels.tsa.arima_model import ARIMA\\nfrom sklearn.feature_extraction.text import CountVectorizer\\nfrom sklearn.linear_model import LogisticRegression\\nfrom sklearn.preprocessing import MinMaxScaler\\nimport fbprophet\\nimport cv2\\nfrom sklearn.preprocessing import OneHotEncoder\\nfrom sklearn.ensemble import RandomForestClassifier\\nimport altair as alt\\nimport fastai'); }\n",
              "    "
            ],
            "text/plain": [
              "<IPython.core.display.Javascript object>"
            ]
          },
          "metadata": {}
        },
        {
          "output_type": "display_data",
          "data": {
            "application/javascript": [
              "\n",
              "        if (window._pyforest_update_imports_cell) { window._pyforest_update_imports_cell('from sklearn.model_selection import cross_val_score\\nimport imutils\\nimport bokeh\\nimport matplotlib.pyplot as plt\\nfrom scipy import stats\\nfrom statsmodels.tsa.arima_model import ARIMA\\nfrom sklearn.feature_extraction.text import CountVectorizer\\nfrom sklearn.linear_model import LogisticRegression\\nfrom sklearn.preprocessing import MinMaxScaler\\nimport fbprophet\\nimport cv2\\nfrom sklearn.preprocessing import OneHotEncoder\\nfrom sklearn.ensemble import RandomForestClassifier\\nimport altair as alt\\nimport fastai'); }\n",
              "    "
            ],
            "text/plain": [
              "<IPython.core.display.Javascript object>"
            ]
          },
          "metadata": {}
        },
        {
          "output_type": "display_data",
          "data": {
            "application/javascript": [
              "\n",
              "        if (window._pyforest_update_imports_cell) { window._pyforest_update_imports_cell('from sklearn.model_selection import cross_val_score\\nimport imutils\\nimport bokeh\\nimport matplotlib.pyplot as plt\\nfrom scipy import stats\\nfrom statsmodels.tsa.arima_model import ARIMA\\nfrom sklearn.feature_extraction.text import CountVectorizer\\nfrom sklearn.linear_model import LogisticRegression\\nfrom sklearn.preprocessing import MinMaxScaler\\nimport fbprophet\\nimport cv2\\nfrom sklearn.preprocessing import OneHotEncoder\\nfrom sklearn.ensemble import RandomForestClassifier\\nimport altair as alt\\nimport fastai'); }\n",
              "    "
            ],
            "text/plain": [
              "<IPython.core.display.Javascript object>"
            ]
          },
          "metadata": {}
        },
        {
          "output_type": "display_data",
          "data": {
            "application/javascript": [
              "\n",
              "        if (window._pyforest_update_imports_cell) { window._pyforest_update_imports_cell('from sklearn.model_selection import cross_val_score\\nimport imutils\\nimport bokeh\\nimport matplotlib.pyplot as plt\\nfrom scipy import stats\\nfrom statsmodels.tsa.arima_model import ARIMA\\nfrom sklearn.feature_extraction.text import CountVectorizer\\nfrom sklearn.linear_model import LogisticRegression\\nfrom sklearn.preprocessing import MinMaxScaler\\nimport fbprophet\\nimport cv2\\nfrom sklearn.preprocessing import OneHotEncoder\\nfrom sklearn.ensemble import RandomForestClassifier\\nimport altair as alt\\nimport fastai'); }\n",
              "    "
            ],
            "text/plain": [
              "<IPython.core.display.Javascript object>"
            ]
          },
          "metadata": {}
        },
        {
          "output_type": "display_data",
          "data": {
            "application/javascript": [
              "\n",
              "        if (window._pyforest_update_imports_cell) { window._pyforest_update_imports_cell('from sklearn.model_selection import cross_val_score\\nimport imutils\\nimport bokeh\\nimport matplotlib.pyplot as plt\\nfrom scipy import stats\\nfrom statsmodels.tsa.arima_model import ARIMA\\nfrom sklearn.feature_extraction.text import CountVectorizer\\nfrom sklearn.linear_model import LogisticRegression\\nfrom sklearn.preprocessing import MinMaxScaler\\nimport fbprophet\\nimport cv2\\nfrom sklearn.preprocessing import OneHotEncoder\\nfrom sklearn.ensemble import RandomForestClassifier\\nimport altair as alt\\nimport fastai'); }\n",
              "    "
            ],
            "text/plain": [
              "<IPython.core.display.Javascript object>"
            ]
          },
          "metadata": {}
        },
        {
          "output_type": "display_data",
          "data": {
            "application/javascript": [
              "\n",
              "        if (window._pyforest_update_imports_cell) { window._pyforest_update_imports_cell('from sklearn.model_selection import cross_val_score\\nimport imutils\\nimport bokeh\\nimport matplotlib.pyplot as plt\\nfrom scipy import stats\\nfrom statsmodels.tsa.arima_model import ARIMA\\nfrom sklearn.feature_extraction.text import CountVectorizer\\nfrom sklearn.linear_model import LogisticRegression\\nfrom sklearn.preprocessing import MinMaxScaler\\nimport fbprophet\\nimport cv2\\nfrom sklearn.preprocessing import OneHotEncoder\\nfrom sklearn.ensemble import RandomForestClassifier\\nimport altair as alt\\nimport fastai'); }\n",
              "    "
            ],
            "text/plain": [
              "<IPython.core.display.Javascript object>"
            ]
          },
          "metadata": {}
        },
        {
          "output_type": "display_data",
          "data": {
            "application/javascript": [
              "\n",
              "        if (window._pyforest_update_imports_cell) { window._pyforest_update_imports_cell('from sklearn.model_selection import cross_val_score\\nimport imutils\\nimport bokeh\\nimport matplotlib.pyplot as plt\\nfrom scipy import stats\\nfrom statsmodels.tsa.arima_model import ARIMA\\nfrom sklearn.feature_extraction.text import CountVectorizer\\nfrom sklearn.linear_model import LogisticRegression\\nfrom sklearn.preprocessing import MinMaxScaler\\nimport fbprophet\\nimport cv2\\nfrom sklearn.preprocessing import OneHotEncoder\\nfrom sklearn.ensemble import RandomForestClassifier\\nimport altair as alt\\nimport fastai'); }\n",
              "    "
            ],
            "text/plain": [
              "<IPython.core.display.Javascript object>"
            ]
          },
          "metadata": {}
        },
        {
          "output_type": "display_data",
          "data": {
            "application/javascript": [
              "\n",
              "        if (window._pyforest_update_imports_cell) { window._pyforest_update_imports_cell('from sklearn.model_selection import cross_val_score\\nimport imutils\\nimport bokeh\\nimport matplotlib.pyplot as plt\\nfrom scipy import stats\\nfrom statsmodels.tsa.arima_model import ARIMA\\nfrom sklearn.feature_extraction.text import CountVectorizer\\nfrom sklearn.linear_model import LogisticRegression\\nfrom sklearn.preprocessing import MinMaxScaler\\nimport fbprophet\\nimport cv2\\nfrom sklearn.preprocessing import OneHotEncoder\\nfrom sklearn.ensemble import RandomForestClassifier\\nimport altair as alt\\nimport fastai'); }\n",
              "    "
            ],
            "text/plain": [
              "<IPython.core.display.Javascript object>"
            ]
          },
          "metadata": {}
        },
        {
          "output_type": "display_data",
          "data": {
            "application/javascript": [
              "\n",
              "        if (window._pyforest_update_imports_cell) { window._pyforest_update_imports_cell('from sklearn.model_selection import cross_val_score\\nimport imutils\\nimport bokeh\\nimport matplotlib.pyplot as plt\\nfrom scipy import stats\\nfrom statsmodels.tsa.arima_model import ARIMA\\nfrom sklearn.feature_extraction.text import CountVectorizer\\nfrom sklearn.linear_model import LogisticRegression\\nfrom sklearn.preprocessing import MinMaxScaler\\nimport fbprophet\\nimport cv2\\nfrom sklearn.preprocessing import OneHotEncoder\\nfrom sklearn.ensemble import RandomForestClassifier\\nimport altair as alt\\nimport fastai'); }\n",
              "    "
            ],
            "text/plain": [
              "<IPython.core.display.Javascript object>"
            ]
          },
          "metadata": {}
        },
        {
          "output_type": "display_data",
          "data": {
            "application/javascript": [
              "\n",
              "        if (window._pyforest_update_imports_cell) { window._pyforest_update_imports_cell('from sklearn.model_selection import cross_val_score\\nimport imutils\\nimport bokeh\\nimport matplotlib.pyplot as plt\\nfrom scipy import stats\\nfrom statsmodels.tsa.arima_model import ARIMA\\nfrom sklearn.feature_extraction.text import CountVectorizer\\nfrom sklearn.linear_model import LogisticRegression\\nfrom sklearn.preprocessing import MinMaxScaler\\nimport fbprophet\\nimport cv2\\nfrom sklearn.preprocessing import OneHotEncoder\\nfrom sklearn.ensemble import RandomForestClassifier\\nimport altair as alt\\nimport fastai'); }\n",
              "    "
            ],
            "text/plain": [
              "<IPython.core.display.Javascript object>"
            ]
          },
          "metadata": {}
        },
        {
          "output_type": "display_data",
          "data": {
            "application/javascript": [
              "\n",
              "        if (window._pyforest_update_imports_cell) { window._pyforest_update_imports_cell('from sklearn.model_selection import cross_val_score\\nimport imutils\\nimport bokeh\\nimport matplotlib.pyplot as plt\\nfrom scipy import stats\\nfrom statsmodels.tsa.arima_model import ARIMA\\nfrom sklearn.feature_extraction.text import CountVectorizer\\nfrom sklearn.linear_model import LogisticRegression\\nfrom sklearn.preprocessing import MinMaxScaler\\nimport fbprophet\\nimport cv2\\nfrom sklearn.preprocessing import OneHotEncoder\\nfrom sklearn.ensemble import RandomForestClassifier\\nimport altair as alt\\nimport fastai'); }\n",
              "    "
            ],
            "text/plain": [
              "<IPython.core.display.Javascript object>"
            ]
          },
          "metadata": {}
        },
        {
          "output_type": "display_data",
          "data": {
            "application/javascript": [
              "\n",
              "        if (window._pyforest_update_imports_cell) { window._pyforest_update_imports_cell('from sklearn.model_selection import cross_val_score\\nimport imutils\\nimport bokeh\\nimport matplotlib.pyplot as plt\\nfrom scipy import stats\\nfrom statsmodels.tsa.arima_model import ARIMA\\nfrom sklearn.feature_extraction.text import CountVectorizer\\nfrom sklearn.linear_model import LogisticRegression\\nfrom sklearn.preprocessing import MinMaxScaler\\nimport fbprophet\\nimport cv2\\nfrom sklearn.preprocessing import OneHotEncoder\\nfrom sklearn.ensemble import RandomForestClassifier\\nimport altair as alt\\nimport fastai'); }\n",
              "    "
            ],
            "text/plain": [
              "<IPython.core.display.Javascript object>"
            ]
          },
          "metadata": {}
        },
        {
          "output_type": "display_data",
          "data": {
            "application/javascript": [
              "\n",
              "        if (window._pyforest_update_imports_cell) { window._pyforest_update_imports_cell('from sklearn.model_selection import cross_val_score\\nimport imutils\\nimport bokeh\\nimport matplotlib.pyplot as plt\\nfrom scipy import stats\\nfrom statsmodels.tsa.arima_model import ARIMA\\nfrom sklearn.feature_extraction.text import CountVectorizer\\nfrom sklearn.linear_model import LogisticRegression\\nfrom sklearn.preprocessing import MinMaxScaler\\nimport fbprophet\\nimport cv2\\nfrom sklearn.preprocessing import OneHotEncoder\\nfrom sklearn.ensemble import RandomForestClassifier\\nimport altair as alt\\nimport fastai'); }\n",
              "    "
            ],
            "text/plain": [
              "<IPython.core.display.Javascript object>"
            ]
          },
          "metadata": {}
        },
        {
          "output_type": "display_data",
          "data": {
            "application/javascript": [
              "\n",
              "        if (window._pyforest_update_imports_cell) { window._pyforest_update_imports_cell('from sklearn.model_selection import cross_val_score\\nimport imutils\\nimport bokeh\\nimport matplotlib.pyplot as plt\\nfrom scipy import stats\\nfrom statsmodels.tsa.arima_model import ARIMA\\nfrom sklearn.feature_extraction.text import CountVectorizer\\nfrom sklearn.linear_model import LogisticRegression\\nfrom sklearn.preprocessing import MinMaxScaler\\nimport fbprophet\\nimport cv2\\nfrom sklearn.preprocessing import OneHotEncoder\\nfrom sklearn.ensemble import RandomForestClassifier\\nimport altair as alt\\nimport fastai'); }\n",
              "    "
            ],
            "text/plain": [
              "<IPython.core.display.Javascript object>"
            ]
          },
          "metadata": {}
        },
        {
          "output_type": "display_data",
          "data": {
            "application/javascript": [
              "\n",
              "        if (window._pyforest_update_imports_cell) { window._pyforest_update_imports_cell('from sklearn.model_selection import cross_val_score\\nimport imutils\\nimport bokeh\\nimport matplotlib.pyplot as plt\\nfrom scipy import stats\\nfrom statsmodels.tsa.arima_model import ARIMA\\nfrom sklearn.feature_extraction.text import CountVectorizer\\nfrom sklearn.linear_model import LogisticRegression\\nfrom sklearn.preprocessing import MinMaxScaler\\nimport fbprophet\\nimport cv2\\nfrom sklearn.preprocessing import OneHotEncoder\\nfrom sklearn.ensemble import RandomForestClassifier\\nimport altair as alt\\nimport fastai'); }\n",
              "    "
            ],
            "text/plain": [
              "<IPython.core.display.Javascript object>"
            ]
          },
          "metadata": {}
        },
        {
          "output_type": "display_data",
          "data": {
            "application/javascript": [
              "\n",
              "        if (window._pyforest_update_imports_cell) { window._pyforest_update_imports_cell('from sklearn.model_selection import cross_val_score\\nimport imutils\\nimport bokeh\\nimport matplotlib.pyplot as plt\\nfrom scipy import stats\\nfrom statsmodels.tsa.arima_model import ARIMA\\nfrom sklearn.feature_extraction.text import CountVectorizer\\nfrom sklearn.linear_model import LogisticRegression\\nfrom sklearn.preprocessing import MinMaxScaler\\nimport fbprophet\\nimport cv2\\nfrom sklearn.preprocessing import OneHotEncoder\\nfrom sklearn.ensemble import RandomForestClassifier\\nimport altair as alt\\nimport fastai'); }\n",
              "    "
            ],
            "text/plain": [
              "<IPython.core.display.Javascript object>"
            ]
          },
          "metadata": {}
        },
        {
          "output_type": "display_data",
          "data": {
            "application/javascript": [
              "\n",
              "        if (window._pyforest_update_imports_cell) { window._pyforest_update_imports_cell('from sklearn.model_selection import cross_val_score\\nimport imutils\\nimport bokeh\\nimport matplotlib.pyplot as plt\\nfrom scipy import stats\\nfrom statsmodels.tsa.arima_model import ARIMA\\nfrom sklearn.feature_extraction.text import CountVectorizer\\nfrom sklearn.linear_model import LogisticRegression\\nfrom sklearn.preprocessing import MinMaxScaler\\nimport fbprophet\\nimport cv2\\nfrom sklearn.preprocessing import OneHotEncoder\\nfrom sklearn.ensemble import RandomForestClassifier\\nimport altair as alt\\nimport fastai'); }\n",
              "    "
            ],
            "text/plain": [
              "<IPython.core.display.Javascript object>"
            ]
          },
          "metadata": {}
        },
        {
          "output_type": "display_data",
          "data": {
            "application/javascript": [
              "\n",
              "        if (window._pyforest_update_imports_cell) { window._pyforest_update_imports_cell('from sklearn.model_selection import cross_val_score\\nimport imutils\\nimport bokeh\\nimport matplotlib.pyplot as plt\\nfrom scipy import stats\\nfrom statsmodels.tsa.arima_model import ARIMA\\nfrom sklearn.feature_extraction.text import CountVectorizer\\nfrom sklearn.linear_model import LogisticRegression\\nfrom sklearn.preprocessing import MinMaxScaler\\nimport fbprophet\\nimport cv2\\nfrom sklearn.preprocessing import OneHotEncoder\\nfrom sklearn.ensemble import RandomForestClassifier\\nimport altair as alt\\nimport fastai'); }\n",
              "    "
            ],
            "text/plain": [
              "<IPython.core.display.Javascript object>"
            ]
          },
          "metadata": {}
        },
        {
          "output_type": "display_data",
          "data": {
            "application/javascript": [
              "\n",
              "        if (window._pyforest_update_imports_cell) { window._pyforest_update_imports_cell('from sklearn.model_selection import cross_val_score\\nimport imutils\\nimport bokeh\\nimport matplotlib.pyplot as plt\\nfrom scipy import stats\\nfrom statsmodels.tsa.arima_model import ARIMA\\nfrom sklearn.feature_extraction.text import CountVectorizer\\nfrom sklearn.linear_model import LogisticRegression\\nfrom sklearn.preprocessing import MinMaxScaler\\nimport fbprophet\\nimport cv2\\nfrom sklearn.preprocessing import OneHotEncoder\\nfrom sklearn.ensemble import RandomForestClassifier\\nimport altair as alt\\nimport fastai'); }\n",
              "    "
            ],
            "text/plain": [
              "<IPython.core.display.Javascript object>"
            ]
          },
          "metadata": {}
        },
        {
          "output_type": "display_data",
          "data": {
            "application/javascript": [
              "\n",
              "        if (window._pyforest_update_imports_cell) { window._pyforest_update_imports_cell('from sklearn.model_selection import cross_val_score\\nimport imutils\\nimport bokeh\\nimport matplotlib.pyplot as plt\\nfrom scipy import stats\\nfrom statsmodels.tsa.arima_model import ARIMA\\nfrom sklearn.feature_extraction.text import CountVectorizer\\nfrom sklearn.linear_model import LogisticRegression\\nfrom sklearn.preprocessing import MinMaxScaler\\nimport fbprophet\\nimport cv2\\nfrom sklearn.preprocessing import OneHotEncoder\\nfrom sklearn.ensemble import RandomForestClassifier\\nimport altair as alt\\nimport fastai'); }\n",
              "    "
            ],
            "text/plain": [
              "<IPython.core.display.Javascript object>"
            ]
          },
          "metadata": {}
        },
        {
          "output_type": "display_data",
          "data": {
            "application/javascript": [
              "\n",
              "        if (window._pyforest_update_imports_cell) { window._pyforest_update_imports_cell('from sklearn.model_selection import cross_val_score\\nimport imutils\\nimport bokeh\\nimport matplotlib.pyplot as plt\\nfrom scipy import stats\\nfrom statsmodels.tsa.arima_model import ARIMA\\nfrom sklearn.feature_extraction.text import CountVectorizer\\nfrom sklearn.linear_model import LogisticRegression\\nfrom sklearn.preprocessing import MinMaxScaler\\nimport fbprophet\\nimport cv2\\nfrom sklearn.preprocessing import OneHotEncoder\\nfrom sklearn.ensemble import RandomForestClassifier\\nimport altair as alt\\nimport fastai'); }\n",
              "    "
            ],
            "text/plain": [
              "<IPython.core.display.Javascript object>"
            ]
          },
          "metadata": {}
        },
        {
          "output_type": "display_data",
          "data": {
            "application/javascript": [
              "\n",
              "        if (window._pyforest_update_imports_cell) { window._pyforest_update_imports_cell('from sklearn.model_selection import cross_val_score\\nimport imutils\\nimport bokeh\\nimport matplotlib.pyplot as plt\\nfrom scipy import stats\\nfrom statsmodels.tsa.arima_model import ARIMA\\nfrom sklearn.feature_extraction.text import CountVectorizer\\nfrom sklearn.linear_model import LogisticRegression\\nfrom sklearn.preprocessing import MinMaxScaler\\nimport fbprophet\\nimport cv2\\nfrom sklearn.preprocessing import OneHotEncoder\\nfrom sklearn.ensemble import RandomForestClassifier\\nimport altair as alt\\nimport fastai'); }\n",
              "    "
            ],
            "text/plain": [
              "<IPython.core.display.Javascript object>"
            ]
          },
          "metadata": {}
        },
        {
          "output_type": "display_data",
          "data": {
            "application/javascript": [
              "\n",
              "        if (window._pyforest_update_imports_cell) { window._pyforest_update_imports_cell('from sklearn.model_selection import cross_val_score\\nimport imutils\\nimport bokeh\\nimport matplotlib.pyplot as plt\\nfrom scipy import stats\\nfrom statsmodels.tsa.arima_model import ARIMA\\nfrom sklearn.feature_extraction.text import CountVectorizer\\nfrom sklearn.linear_model import LogisticRegression\\nfrom sklearn.preprocessing import MinMaxScaler\\nimport fbprophet\\nimport cv2\\nfrom sklearn.preprocessing import OneHotEncoder\\nfrom sklearn.ensemble import RandomForestClassifier\\nimport altair as alt\\nimport fastai'); }\n",
              "    "
            ],
            "text/plain": [
              "<IPython.core.display.Javascript object>"
            ]
          },
          "metadata": {}
        },
        {
          "output_type": "display_data",
          "data": {
            "application/javascript": [
              "\n",
              "        if (window._pyforest_update_imports_cell) { window._pyforest_update_imports_cell('from sklearn.model_selection import cross_val_score\\nimport imutils\\nimport bokeh\\nimport matplotlib.pyplot as plt\\nfrom scipy import stats\\nfrom statsmodels.tsa.arima_model import ARIMA\\nfrom sklearn.feature_extraction.text import CountVectorizer\\nfrom sklearn.linear_model import LogisticRegression\\nfrom sklearn.preprocessing import MinMaxScaler\\nimport fbprophet\\nimport cv2\\nfrom sklearn.preprocessing import OneHotEncoder\\nfrom sklearn.ensemble import RandomForestClassifier\\nimport altair as alt\\nimport fastai'); }\n",
              "    "
            ],
            "text/plain": [
              "<IPython.core.display.Javascript object>"
            ]
          },
          "metadata": {}
        },
        {
          "output_type": "display_data",
          "data": {
            "application/javascript": [
              "\n",
              "        if (window._pyforest_update_imports_cell) { window._pyforest_update_imports_cell('from sklearn.model_selection import cross_val_score\\nimport imutils\\nimport bokeh\\nimport matplotlib.pyplot as plt\\nfrom scipy import stats\\nfrom statsmodels.tsa.arima_model import ARIMA\\nfrom sklearn.feature_extraction.text import CountVectorizer\\nfrom sklearn.linear_model import LogisticRegression\\nfrom sklearn.preprocessing import MinMaxScaler\\nimport fbprophet\\nimport cv2\\nfrom sklearn.preprocessing import OneHotEncoder\\nfrom sklearn.ensemble import RandomForestClassifier\\nimport altair as alt\\nimport fastai'); }\n",
              "    "
            ],
            "text/plain": [
              "<IPython.core.display.Javascript object>"
            ]
          },
          "metadata": {}
        },
        {
          "output_type": "display_data",
          "data": {
            "application/javascript": [
              "\n",
              "        if (window._pyforest_update_imports_cell) { window._pyforest_update_imports_cell('from sklearn.model_selection import cross_val_score\\nimport imutils\\nimport bokeh\\nimport matplotlib.pyplot as plt\\nfrom scipy import stats\\nfrom statsmodels.tsa.arima_model import ARIMA\\nfrom sklearn.feature_extraction.text import CountVectorizer\\nfrom sklearn.linear_model import LogisticRegression\\nfrom sklearn.preprocessing import MinMaxScaler\\nimport fbprophet\\nimport cv2\\nfrom sklearn.preprocessing import OneHotEncoder\\nfrom sklearn.ensemble import RandomForestClassifier\\nimport altair as alt\\nimport fastai'); }\n",
              "    "
            ],
            "text/plain": [
              "<IPython.core.display.Javascript object>"
            ]
          },
          "metadata": {}
        },
        {
          "output_type": "display_data",
          "data": {
            "application/javascript": [
              "\n",
              "        if (window._pyforest_update_imports_cell) { window._pyforest_update_imports_cell('from sklearn.model_selection import cross_val_score\\nimport imutils\\nimport bokeh\\nimport matplotlib.pyplot as plt\\nfrom scipy import stats\\nfrom statsmodels.tsa.arima_model import ARIMA\\nfrom sklearn.feature_extraction.text import CountVectorizer\\nfrom sklearn.linear_model import LogisticRegression\\nfrom sklearn.preprocessing import MinMaxScaler\\nimport fbprophet\\nimport cv2\\nfrom sklearn.preprocessing import OneHotEncoder\\nfrom sklearn.ensemble import RandomForestClassifier\\nimport altair as alt\\nimport fastai'); }\n",
              "    "
            ],
            "text/plain": [
              "<IPython.core.display.Javascript object>"
            ]
          },
          "metadata": {}
        },
        {
          "output_type": "display_data",
          "data": {
            "application/javascript": [
              "\n",
              "        if (window._pyforest_update_imports_cell) { window._pyforest_update_imports_cell('from sklearn.model_selection import cross_val_score\\nimport imutils\\nimport bokeh\\nimport matplotlib.pyplot as plt\\nfrom scipy import stats\\nfrom statsmodels.tsa.arima_model import ARIMA\\nfrom sklearn.feature_extraction.text import CountVectorizer\\nfrom sklearn.linear_model import LogisticRegression\\nfrom sklearn.preprocessing import MinMaxScaler\\nimport fbprophet\\nimport cv2\\nfrom sklearn.preprocessing import OneHotEncoder\\nfrom sklearn.ensemble import RandomForestClassifier\\nimport altair as alt\\nimport fastai'); }\n",
              "    "
            ],
            "text/plain": [
              "<IPython.core.display.Javascript object>"
            ]
          },
          "metadata": {}
        },
        {
          "output_type": "display_data",
          "data": {
            "application/javascript": [
              "\n",
              "        if (window._pyforest_update_imports_cell) { window._pyforest_update_imports_cell('from sklearn.model_selection import cross_val_score\\nimport imutils\\nimport bokeh\\nimport matplotlib.pyplot as plt\\nfrom scipy import stats\\nfrom statsmodels.tsa.arima_model import ARIMA\\nfrom sklearn.feature_extraction.text import CountVectorizer\\nfrom sklearn.linear_model import LogisticRegression\\nfrom sklearn.preprocessing import MinMaxScaler\\nimport fbprophet\\nimport cv2\\nfrom sklearn.preprocessing import OneHotEncoder\\nfrom sklearn.ensemble import RandomForestClassifier\\nimport altair as alt\\nimport fastai'); }\n",
              "    "
            ],
            "text/plain": [
              "<IPython.core.display.Javascript object>"
            ]
          },
          "metadata": {}
        },
        {
          "output_type": "display_data",
          "data": {
            "application/javascript": [
              "\n",
              "        if (window._pyforest_update_imports_cell) { window._pyforest_update_imports_cell('from sklearn.model_selection import cross_val_score\\nimport imutils\\nimport bokeh\\nimport matplotlib.pyplot as plt\\nfrom scipy import stats\\nfrom statsmodels.tsa.arima_model import ARIMA\\nfrom sklearn.feature_extraction.text import CountVectorizer\\nfrom sklearn.linear_model import LogisticRegression\\nfrom sklearn.preprocessing import MinMaxScaler\\nimport fbprophet\\nimport cv2\\nfrom sklearn.preprocessing import OneHotEncoder\\nfrom sklearn.ensemble import RandomForestClassifier\\nimport altair as alt\\nimport fastai'); }\n",
              "    "
            ],
            "text/plain": [
              "<IPython.core.display.Javascript object>"
            ]
          },
          "metadata": {}
        },
        {
          "output_type": "display_data",
          "data": {
            "application/javascript": [
              "\n",
              "        if (window._pyforest_update_imports_cell) { window._pyforest_update_imports_cell('from sklearn.model_selection import cross_val_score\\nimport imutils\\nimport bokeh\\nimport matplotlib.pyplot as plt\\nfrom scipy import stats\\nfrom statsmodels.tsa.arima_model import ARIMA\\nfrom sklearn.feature_extraction.text import CountVectorizer\\nfrom sklearn.linear_model import LogisticRegression\\nfrom sklearn.preprocessing import MinMaxScaler\\nimport fbprophet\\nimport cv2\\nfrom sklearn.preprocessing import OneHotEncoder\\nfrom sklearn.ensemble import RandomForestClassifier\\nimport altair as alt\\nimport fastai'); }\n",
              "    "
            ],
            "text/plain": [
              "<IPython.core.display.Javascript object>"
            ]
          },
          "metadata": {}
        },
        {
          "output_type": "display_data",
          "data": {
            "application/javascript": [
              "\n",
              "        if (window._pyforest_update_imports_cell) { window._pyforest_update_imports_cell('from sklearn.model_selection import cross_val_score\\nimport imutils\\nimport bokeh\\nimport matplotlib.pyplot as plt\\nfrom scipy import stats\\nfrom statsmodels.tsa.arima_model import ARIMA\\nfrom sklearn.feature_extraction.text import CountVectorizer\\nfrom sklearn.linear_model import LogisticRegression\\nfrom sklearn.preprocessing import MinMaxScaler\\nimport fbprophet\\nimport cv2\\nfrom sklearn.preprocessing import OneHotEncoder\\nfrom sklearn.ensemble import RandomForestClassifier\\nimport altair as alt\\nimport fastai'); }\n",
              "    "
            ],
            "text/plain": [
              "<IPython.core.display.Javascript object>"
            ]
          },
          "metadata": {}
        },
        {
          "output_type": "display_data",
          "data": {
            "application/javascript": [
              "\n",
              "        if (window._pyforest_update_imports_cell) { window._pyforest_update_imports_cell('from sklearn.model_selection import cross_val_score\\nimport imutils\\nimport bokeh\\nimport matplotlib.pyplot as plt\\nfrom scipy import stats\\nfrom statsmodels.tsa.arima_model import ARIMA\\nfrom sklearn.feature_extraction.text import CountVectorizer\\nfrom sklearn.linear_model import LogisticRegression\\nfrom sklearn.preprocessing import MinMaxScaler\\nimport fbprophet\\nimport cv2\\nfrom sklearn.preprocessing import OneHotEncoder\\nfrom sklearn.ensemble import RandomForestClassifier\\nimport altair as alt\\nimport fastai'); }\n",
              "    "
            ],
            "text/plain": [
              "<IPython.core.display.Javascript object>"
            ]
          },
          "metadata": {}
        },
        {
          "output_type": "display_data",
          "data": {
            "application/javascript": [
              "\n",
              "        if (window._pyforest_update_imports_cell) { window._pyforest_update_imports_cell('from sklearn.model_selection import cross_val_score\\nimport imutils\\nimport bokeh\\nimport matplotlib.pyplot as plt\\nfrom scipy import stats\\nfrom statsmodels.tsa.arima_model import ARIMA\\nfrom sklearn.feature_extraction.text import CountVectorizer\\nfrom sklearn.linear_model import LogisticRegression\\nfrom sklearn.preprocessing import MinMaxScaler\\nimport fbprophet\\nimport cv2\\nfrom sklearn.preprocessing import OneHotEncoder\\nfrom sklearn.ensemble import RandomForestClassifier\\nimport altair as alt\\nimport fastai'); }\n",
              "    "
            ],
            "text/plain": [
              "<IPython.core.display.Javascript object>"
            ]
          },
          "metadata": {}
        },
        {
          "output_type": "display_data",
          "data": {
            "application/javascript": [
              "\n",
              "        if (window._pyforest_update_imports_cell) { window._pyforest_update_imports_cell('from sklearn.model_selection import cross_val_score\\nimport imutils\\nimport bokeh\\nimport matplotlib.pyplot as plt\\nfrom scipy import stats\\nfrom statsmodels.tsa.arima_model import ARIMA\\nfrom sklearn.feature_extraction.text import CountVectorizer\\nfrom sklearn.linear_model import LogisticRegression\\nfrom sklearn.preprocessing import MinMaxScaler\\nimport fbprophet\\nimport cv2\\nfrom sklearn.preprocessing import OneHotEncoder\\nfrom sklearn.ensemble import RandomForestClassifier\\nimport altair as alt\\nimport fastai'); }\n",
              "    "
            ],
            "text/plain": [
              "<IPython.core.display.Javascript object>"
            ]
          },
          "metadata": {}
        },
        {
          "output_type": "display_data",
          "data": {
            "application/javascript": [
              "\n",
              "        if (window._pyforest_update_imports_cell) { window._pyforest_update_imports_cell('from sklearn.model_selection import cross_val_score\\nimport imutils\\nimport bokeh\\nimport matplotlib.pyplot as plt\\nfrom scipy import stats\\nfrom statsmodels.tsa.arima_model import ARIMA\\nfrom sklearn.feature_extraction.text import CountVectorizer\\nfrom sklearn.linear_model import LogisticRegression\\nfrom sklearn.preprocessing import MinMaxScaler\\nimport fbprophet\\nimport cv2\\nfrom sklearn.preprocessing import OneHotEncoder\\nfrom sklearn.ensemble import RandomForestClassifier\\nimport altair as alt\\nimport fastai'); }\n",
              "    "
            ],
            "text/plain": [
              "<IPython.core.display.Javascript object>"
            ]
          },
          "metadata": {}
        },
        {
          "output_type": "display_data",
          "data": {
            "application/javascript": [
              "\n",
              "        if (window._pyforest_update_imports_cell) { window._pyforest_update_imports_cell('from sklearn.model_selection import cross_val_score\\nimport imutils\\nimport bokeh\\nimport matplotlib.pyplot as plt\\nfrom scipy import stats\\nfrom statsmodels.tsa.arima_model import ARIMA\\nfrom sklearn.feature_extraction.text import CountVectorizer\\nfrom sklearn.linear_model import LogisticRegression\\nfrom sklearn.preprocessing import MinMaxScaler\\nimport fbprophet\\nimport cv2\\nfrom sklearn.preprocessing import OneHotEncoder\\nfrom sklearn.ensemble import RandomForestClassifier\\nimport altair as alt\\nimport fastai'); }\n",
              "    "
            ],
            "text/plain": [
              "<IPython.core.display.Javascript object>"
            ]
          },
          "metadata": {}
        },
        {
          "output_type": "display_data",
          "data": {
            "application/javascript": [
              "\n",
              "        if (window._pyforest_update_imports_cell) { window._pyforest_update_imports_cell('from sklearn.model_selection import cross_val_score\\nimport imutils\\nimport bokeh\\nimport matplotlib.pyplot as plt\\nfrom scipy import stats\\nfrom statsmodels.tsa.arima_model import ARIMA\\nfrom sklearn.feature_extraction.text import CountVectorizer\\nfrom sklearn.linear_model import LogisticRegression\\nfrom sklearn.preprocessing import MinMaxScaler\\nimport fbprophet\\nimport cv2\\nfrom sklearn.preprocessing import OneHotEncoder\\nfrom sklearn.ensemble import RandomForestClassifier\\nimport altair as alt\\nimport fastai'); }\n",
              "    "
            ],
            "text/plain": [
              "<IPython.core.display.Javascript object>"
            ]
          },
          "metadata": {}
        },
        {
          "output_type": "display_data",
          "data": {
            "application/javascript": [
              "\n",
              "        if (window._pyforest_update_imports_cell) { window._pyforest_update_imports_cell('from sklearn.model_selection import cross_val_score\\nimport imutils\\nimport bokeh\\nimport matplotlib.pyplot as plt\\nfrom scipy import stats\\nfrom statsmodels.tsa.arima_model import ARIMA\\nfrom sklearn.feature_extraction.text import CountVectorizer\\nfrom sklearn.linear_model import LogisticRegression\\nfrom sklearn.preprocessing import MinMaxScaler\\nimport fbprophet\\nimport cv2\\nfrom sklearn.preprocessing import OneHotEncoder\\nfrom sklearn.ensemble import RandomForestClassifier\\nimport altair as alt\\nimport fastai'); }\n",
              "    "
            ],
            "text/plain": [
              "<IPython.core.display.Javascript object>"
            ]
          },
          "metadata": {}
        },
        {
          "output_type": "display_data",
          "data": {
            "application/javascript": [
              "\n",
              "        if (window._pyforest_update_imports_cell) { window._pyforest_update_imports_cell('from sklearn.model_selection import cross_val_score\\nimport imutils\\nimport bokeh\\nimport matplotlib.pyplot as plt\\nfrom scipy import stats\\nfrom statsmodels.tsa.arima_model import ARIMA\\nfrom sklearn.feature_extraction.text import CountVectorizer\\nfrom sklearn.linear_model import LogisticRegression\\nfrom sklearn.preprocessing import MinMaxScaler\\nimport fbprophet\\nimport cv2\\nfrom sklearn.preprocessing import OneHotEncoder\\nfrom sklearn.ensemble import RandomForestClassifier\\nimport altair as alt\\nimport fastai'); }\n",
              "    "
            ],
            "text/plain": [
              "<IPython.core.display.Javascript object>"
            ]
          },
          "metadata": {}
        },
        {
          "output_type": "display_data",
          "data": {
            "application/javascript": [
              "\n",
              "        if (window._pyforest_update_imports_cell) { window._pyforest_update_imports_cell('from sklearn.model_selection import cross_val_score\\nimport imutils\\nimport bokeh\\nimport matplotlib.pyplot as plt\\nfrom scipy import stats\\nfrom statsmodels.tsa.arima_model import ARIMA\\nfrom sklearn.feature_extraction.text import CountVectorizer\\nfrom sklearn.linear_model import LogisticRegression\\nfrom sklearn.preprocessing import MinMaxScaler\\nimport fbprophet\\nimport cv2\\nfrom sklearn.preprocessing import OneHotEncoder\\nfrom sklearn.ensemble import RandomForestClassifier\\nimport altair as alt\\nimport fastai'); }\n",
              "    "
            ],
            "text/plain": [
              "<IPython.core.display.Javascript object>"
            ]
          },
          "metadata": {}
        },
        {
          "output_type": "display_data",
          "data": {
            "application/javascript": [
              "\n",
              "        if (window._pyforest_update_imports_cell) { window._pyforest_update_imports_cell('from sklearn.model_selection import cross_val_score\\nimport imutils\\nimport bokeh\\nimport matplotlib.pyplot as plt\\nfrom scipy import stats\\nfrom statsmodels.tsa.arima_model import ARIMA\\nfrom sklearn.feature_extraction.text import CountVectorizer\\nfrom sklearn.linear_model import LogisticRegression\\nfrom sklearn.preprocessing import MinMaxScaler\\nimport fbprophet\\nimport cv2\\nfrom sklearn.preprocessing import OneHotEncoder\\nfrom sklearn.ensemble import RandomForestClassifier\\nimport altair as alt\\nimport fastai'); }\n",
              "    "
            ],
            "text/plain": [
              "<IPython.core.display.Javascript object>"
            ]
          },
          "metadata": {}
        },
        {
          "output_type": "display_data",
          "data": {
            "application/javascript": [
              "\n",
              "        if (window._pyforest_update_imports_cell) { window._pyforest_update_imports_cell('from sklearn.model_selection import cross_val_score\\nimport imutils\\nimport bokeh\\nimport matplotlib.pyplot as plt\\nfrom scipy import stats\\nfrom statsmodels.tsa.arima_model import ARIMA\\nfrom sklearn.feature_extraction.text import CountVectorizer\\nfrom sklearn.linear_model import LogisticRegression\\nfrom sklearn.preprocessing import MinMaxScaler\\nimport fbprophet\\nimport cv2\\nfrom sklearn.preprocessing import OneHotEncoder\\nfrom sklearn.ensemble import RandomForestClassifier\\nimport altair as alt\\nimport fastai'); }\n",
              "    "
            ],
            "text/plain": [
              "<IPython.core.display.Javascript object>"
            ]
          },
          "metadata": {}
        },
        {
          "output_type": "display_data",
          "data": {
            "application/javascript": [
              "\n",
              "        if (window._pyforest_update_imports_cell) { window._pyforest_update_imports_cell('from sklearn.model_selection import cross_val_score\\nimport imutils\\nimport bokeh\\nimport matplotlib.pyplot as plt\\nfrom scipy import stats\\nfrom statsmodels.tsa.arima_model import ARIMA\\nfrom sklearn.feature_extraction.text import CountVectorizer\\nfrom sklearn.linear_model import LogisticRegression\\nfrom sklearn.preprocessing import MinMaxScaler\\nimport fbprophet\\nimport cv2\\nfrom sklearn.preprocessing import OneHotEncoder\\nfrom sklearn.ensemble import RandomForestClassifier\\nimport altair as alt\\nimport fastai'); }\n",
              "    "
            ],
            "text/plain": [
              "<IPython.core.display.Javascript object>"
            ]
          },
          "metadata": {}
        },
        {
          "output_type": "stream",
          "name": "stdout",
          "text": [
            "AUC Médio 0.7522443546742076 Intervalo 0.6965311476553219 - 0.8079575616930933\n",
            "Recall médio 0.6326600899965386 Intervalo 0.5345452355819704 - 0.7307749444111067\n"
          ]
        }
      ]
    },
    {
      "cell_type": "markdown",
      "metadata": {
        "id": "819qaO7MhKn7"
      },
      "source": [
        "O resultados saíram dentro do que esperávamos, como havíamos adiantado.\n",
        "\n",
        "Por fim, de forma a dar a maior robustez possível ao modelo, iremos treiná-lo com todos os dados disponíveis e então salvá-lo, salvar mais algumas informações úteis para colocá-lo em Produção e partir para o deploy através da biblioteca Streamlit."
      ]
    },
    {
      "cell_type": "code",
      "metadata": {
        "id": "w1SlNlmilddb",
        "colab": {
          "base_uri": "https://localhost:8080/"
        },
        "outputId": "105aae88-c6fe-4816-d6b0-045820ff057d"
      },
      "source": [
        "x = df_registro_clientes_targets.drop(columns=['id_cliente','mau'])\n",
        "y = df_registro_clientes_targets['mau']\n",
        "\n",
        "pipeline_b_rf_clf.fit(x,y)"
      ],
      "execution_count": null,
      "outputs": [
        {
          "output_type": "execute_result",
          "data": {
            "text/plain": [
              "Pipeline(steps=[('transformer',\n",
              "                 Transformer(cat_columns=['categoria_de_renda', 'estado_civil',\n",
              "                                          'moradia', 'ocupacao',\n",
              "                                          'grau_escolaridade', 'tem_carro',\n",
              "                                          'tem_casa_propria',\n",
              "                                          'tem_telefone_trabalho',\n",
              "                                          'tem_telefone_fixo', 'tem_email'],\n",
              "                             quant_columns=['qtd_filhos', 'rendimento_anual',\n",
              "                                            'idade', 'tamanho_familia',\n",
              "                                            'anos_empregado'])),\n",
              "                ('b_rf_clf',\n",
              "                 BalancedRandomForestClassifier(random_state=8012587))])"
            ]
          },
          "metadata": {},
          "execution_count": 41
        }
      ]
    },
    {
      "cell_type": "code",
      "metadata": {
        "colab": {
          "base_uri": "https://localhost:8080/"
        },
        "id": "Yt4lE40SGxxU",
        "outputId": "685ed83c-6f69-4638-bf61-f81a6528ca3d"
      },
      "source": [
        "#salvando o modelo\n",
        "dump(pipeline_b_rf_clf, 'pipeline_modelo.joblib')"
      ],
      "execution_count": null,
      "outputs": [
        {
          "output_type": "execute_result",
          "data": {
            "text/plain": [
              "['pipeline_modelo.joblib']"
            ]
          },
          "metadata": {},
          "execution_count": 42
        }
      ]
    },
    {
      "cell_type": "code",
      "metadata": {
        "colab": {
          "base_uri": "https://localhost:8080/"
        },
        "id": "XSZyQ0KcLo0D",
        "outputId": "d79026c6-fd92-4d44-b490-3f8ca646126b"
      },
      "source": [
        "#salvando as features que precisam ser preenchidas pelo cliente\n",
        "features = x.columns\n",
        "dump(features, 'features_a_preencher.joblib')"
      ],
      "execution_count": null,
      "outputs": [
        {
          "output_type": "execute_result",
          "data": {
            "text/plain": [
              "['features_a_preencher.joblib']"
            ]
          },
          "metadata": {},
          "execution_count": 43
        }
      ]
    },
    {
      "cell_type": "code",
      "metadata": {
        "colab": {
          "base_uri": "https://localhost:8080/"
        },
        "id": "7NVQDfjhM0gl",
        "outputId": "0a0e85cb-8be5-4bb0-add0-702a97069ad8"
      },
      "source": [
        "!pip install pandas==1.1.5"
      ],
      "execution_count": null,
      "outputs": [
        {
          "output_type": "stream",
          "name": "stdout",
          "text": [
            "Requirement already satisfied: pandas==1.1.5 in /usr/local/lib/python3.7/dist-packages (1.1.5)\n",
            "Requirement already satisfied: pytz>=2017.2 in /usr/local/lib/python3.7/dist-packages (from pandas==1.1.5) (2018.9)\n",
            "Requirement already satisfied: numpy>=1.15.4 in /usr/local/lib/python3.7/dist-packages (from pandas==1.1.5) (1.19.5)\n",
            "Requirement already satisfied: python-dateutil>=2.7.3 in /usr/local/lib/python3.7/dist-packages (from pandas==1.1.5) (2.8.2)\n",
            "Requirement already satisfied: six>=1.5 in /usr/local/lib/python3.7/dist-packages (from python-dateutil>=2.7.3->pandas==1.1.5) (1.15.0)\n"
          ]
        }
      ]
    },
    {
      "cell_type": "code",
      "metadata": {
        "id": "dSoIoR7aOGlI"
      },
      "source": [
        "import pandas as pd\n",
        "#Por um conflito de versão com o apply do Pandas tivemos que reinstalar a versão 1.1.5 em ordem de poder salvar as cat_options"
      ],
      "execution_count": null,
      "outputs": []
    },
    {
      "cell_type": "code",
      "metadata": {
        "colab": {
          "base_uri": "https://localhost:8080/"
        },
        "id": "fMOWYJtaL7pj",
        "outputId": "1927669b-4402-4a2f-a56b-e974c1eb9a4f"
      },
      "source": [
        "#salvando as opções categóricas para preenchimento do cliente\n",
        "cat_options_a_preencher = df_registro_clientes_targets[categorical_columns].apply(lambda x: x.unique(),axis=0)\n",
        "dump(cat_options_a_preencher, 'cat_options_a_preencher.joblib')"
      ],
      "execution_count": null,
      "outputs": [
        {
          "output_type": "execute_result",
          "data": {
            "text/plain": [
              "['cat_options_a_preencher.joblib']"
            ]
          },
          "metadata": {},
          "execution_count": 7
        }
      ]
    },
    {
      "cell_type": "markdown",
      "metadata": {
        "id": "XnpOLiLSOq3B"
      },
      "source": [
        "Conclusões e notas sobre Machine Learning no projeto\n",
        "\n",
        "Em primeiro lugar pudemos verificar que apesar de várias tentativas e configurações diferentes, o problema do desbalanceamento das classes foi muito forte no projeto. O que manteve certo viés no modelo.\n",
        "\n",
        "Outro ponto que gostaríamos de ressaltar é que nessa vez, provavelmente devido ao viés, um StackedModel não performou melhor do que um modelo comum.\n",
        "\n",
        "Se desejar volte ao notebook de análise [aqui](https://) inserir link\n",
        "\n",
        "Agora, acesse o [site](https://share.streamlit.io/enzogolfetti/projeto_concessao_credito_ml/main/streamlit_files/streamlit_app_v1.py) com o modelo em produção deste projeto."
      ]
    },
    {
      "cell_type": "code",
      "metadata": {
        "id": "7Ca2sFqZWZvD"
      },
      "source": [
        ""
      ],
      "execution_count": null,
      "outputs": []
    }
  ]
}