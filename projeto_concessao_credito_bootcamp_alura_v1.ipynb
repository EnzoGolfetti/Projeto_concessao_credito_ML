{
  "nbformat": 4,
  "nbformat_minor": 0,
  "metadata": {
    "colab": {
      "name": "projeto_concessao_credito_bootcamp_alura_v1.ipynb",
      "provenance": [],
      "collapsed_sections": [],
      "authorship_tag": "ABX9TyNYbQwYawoeIvxAKsZarBaB",
      "include_colab_link": true
    },
    "kernelspec": {
      "name": "python3",
      "display_name": "Python 3"
    },
    "language_info": {
      "name": "python"
    }
  },
  "cells": [
    {
      "cell_type": "markdown",
      "metadata": {
        "id": "view-in-github",
        "colab_type": "text"
      },
      "source": [
        "<a href=\"https://colab.research.google.com/github/EnzoGolfetti/Projeto_concessao_credito_ML/blob/main/projeto_concessao_credito_bootcamp_alura_v1.ipynb\" target=\"_parent\"><img src=\"https://colab.research.google.com/assets/colab-badge.svg\" alt=\"Open In Colab\"/></a>"
      ]
    },
    {
      "cell_type": "markdown",
      "metadata": {
        "id": "39fFhdkNTxDj"
      },
      "source": [
        "#Machine Learning project, módulo extra Bootcamp DS Alura\n",
        "\n",
        "---\n",
        "Prevendo concessão de crédito\n",
        "\n",
        "\n"
      ]
    },
    {
      "cell_type": "code",
      "metadata": {
        "colab": {
          "base_uri": "https://localhost:8080/"
        },
        "id": "8iT3GKpRjnka",
        "outputId": "0392ba5f-1f0c-498c-8285-22d3f6bd85ae"
      },
      "source": [
        "!pip install pyforest"
      ],
      "execution_count": null,
      "outputs": [
        {
          "output_type": "stream",
          "name": "stdout",
          "text": [
            "Collecting pyforest\n",
            "  Downloading pyforest-1.1.0.tar.gz (15 kB)\n",
            "Building wheels for collected packages: pyforest\n",
            "  Building wheel for pyforest (setup.py) ... \u001b[?25l\u001b[?25hdone\n",
            "  Created wheel for pyforest: filename=pyforest-1.1.0-py2.py3-none-any.whl size=14607 sha256=b33eba234d52e580019da33553f9ca9d1e5cfe894778a2d25829941beab1d991\n",
            "  Stored in directory: /root/.cache/pip/wheels/61/1c/da/48e6c884142d485475d852d69d20a096aba5beceb338822893\n",
            "Successfully built pyforest\n",
            "Installing collected packages: pyforest\n",
            "Successfully installed pyforest-1.1.0\n"
          ]
        }
      ]
    },
    {
      "cell_type": "code",
      "metadata": {
        "id": "F-ETnRocPCO-",
        "colab": {
          "base_uri": "https://localhost:8080/"
        },
        "outputId": "31bdd167-6aef-4614-8de7-01a7245d8186"
      },
      "source": [
        "import matplotlib.ticker as ticker\n",
        "import pyforest\n",
        "lazy_imports()"
      ],
      "execution_count": null,
      "outputs": [
        {
          "output_type": "execute_result",
          "data": {
            "text/plain": [
              "['import plotly.graph_objs as go',\n",
              " 'from sklearn.decomposition import PCA',\n",
              " 'import imutils',\n",
              " 'from sklearn.linear_model import LogisticRegression',\n",
              " 'from scipy import signal as sg',\n",
              " 'import plotly as py',\n",
              " 'from openpyxl import load_workbook',\n",
              " 'import nltk',\n",
              " 'from sklearn.manifold import TSNE',\n",
              " 'import matplotlib.pyplot as plt',\n",
              " 'from sklearn.cluster import KMeans',\n",
              " 'from dask import dataframe as dd',\n",
              " 'from sklearn.ensemble import GradientBoostingClassifier',\n",
              " 'import sklearn',\n",
              " 'from sklearn.ensemble import RandomForestClassifier',\n",
              " 'from sklearn.preprocessing import PolynomialFeatures',\n",
              " 'from sklearn.model_selection import RandomizedSearchCV',\n",
              " 'import statistics',\n",
              " 'import fbprophet',\n",
              " 'from sklearn.model_selection import StratifiedKFold',\n",
              " 'from sklearn.ensemble import RandomForestRegressor',\n",
              " 'from sklearn.preprocessing import RobustScaler',\n",
              " 'import statsmodels.api as sm',\n",
              " 'import glob',\n",
              " 'import numpy as np',\n",
              " 'import os',\n",
              " 'from xlrd import open_workbook',\n",
              " 'import awswrangler as wr',\n",
              " 'import skimage',\n",
              " 'from sklearn.linear_model import LassoCV',\n",
              " 'import sys',\n",
              " 'import dash',\n",
              " 'import cv2',\n",
              " 'from sklearn.preprocessing import OneHotEncoder',\n",
              " 'import seaborn as sns',\n",
              " 'from sklearn.model_selection import KFold',\n",
              " 'from sklearn.linear_model import RidgeCV',\n",
              " 'from pyspark import SparkContext',\n",
              " 'from sklearn.linear_model import LinearRegression',\n",
              " 'import matplotlib as mpl',\n",
              " 'import fastai',\n",
              " 'from statsmodels.tsa.arima_model import ARIMA',\n",
              " 'import xgboost as xgb',\n",
              " 'import keras',\n",
              " 'from scipy import stats',\n",
              " 'import pickle',\n",
              " 'from sklearn.preprocessing import StandardScaler',\n",
              " 'import datetime as dt',\n",
              " 'from sklearn.linear_model import ElasticNetCV',\n",
              " 'from fbprophet import Prophet',\n",
              " 'from sklearn.model_selection import cross_val_score',\n",
              " 'import tensorflow as tf',\n",
              " 'import re',\n",
              " 'from sklearn.linear_model import Ridge',\n",
              " 'import torch',\n",
              " 'from sklearn.linear_model import ElasticNet',\n",
              " 'from sklearn.preprocessing import LabelEncoder',\n",
              " 'from sklearn import svm',\n",
              " 'from pathlib import Path',\n",
              " 'from sklearn.preprocessing import MinMaxScaler',\n",
              " 'from sklearn.feature_extraction.text import CountVectorizer',\n",
              " 'import tqdm',\n",
              " 'from sklearn.linear_model import Lasso',\n",
              " 'from sklearn import metrics',\n",
              " 'from sklearn.model_selection import GridSearchCV',\n",
              " 'from sklearn.feature_extraction.text import TfidfVectorizer',\n",
              " 'from sklearn.model_selection import train_test_split',\n",
              " 'import textblob',\n",
              " 'import spacy',\n",
              " 'import pandas as pd',\n",
              " 'from PIL import Image',\n",
              " 'import gensim',\n",
              " 'import bokeh',\n",
              " 'import plotly.express as px',\n",
              " 'import lightgbm as lgb',\n",
              " 'import altair as alt',\n",
              " 'from sklearn.impute import SimpleImputer',\n",
              " 'import pydot',\n",
              " 'from sklearn.ensemble import GradientBoostingRegressor']"
            ]
          },
          "metadata": {},
          "execution_count": 2
        }
      ]
    },
    {
      "cell_type": "code",
      "metadata": {
        "colab": {
          "base_uri": "https://localhost:8080/",
          "height": 204
        },
        "id": "mbbebmX4PLXu",
        "outputId": "2f791237-265d-4e06-9c4f-92bfa4689e6d"
      },
      "source": [
        "#clientes aprovados / base target\n",
        "df_aprovados = pd.read_csv('https://raw.githubusercontent.com/EnzoGolfetti/Avaliacao_Credito/main/dados/clientes_aprovados.csv', sep=',')\n",
        "df_aprovados.head()"
      ],
      "execution_count": null,
      "outputs": [
        {
          "output_type": "display_data",
          "data": {
            "application/javascript": [
              "\n",
              "        if (window._pyforest_update_imports_cell) { window._pyforest_update_imports_cell('import pandas as pd'); }\n",
              "    "
            ],
            "text/plain": [
              "<IPython.core.display.Javascript object>"
            ]
          },
          "metadata": {}
        },
        {
          "output_type": "execute_result",
          "data": {
            "text/html": [
              "<div>\n",
              "<style scoped>\n",
              "    .dataframe tbody tr th:only-of-type {\n",
              "        vertical-align: middle;\n",
              "    }\n",
              "\n",
              "    .dataframe tbody tr th {\n",
              "        vertical-align: top;\n",
              "    }\n",
              "\n",
              "    .dataframe thead th {\n",
              "        text-align: right;\n",
              "    }\n",
              "</style>\n",
              "<table border=\"1\" class=\"dataframe\">\n",
              "  <thead>\n",
              "    <tr style=\"text-align: right;\">\n",
              "      <th></th>\n",
              "      <th>ID_Cliente</th>\n",
              "      <th>Mes_referencia</th>\n",
              "      <th>Faixa_atraso</th>\n",
              "    </tr>\n",
              "  </thead>\n",
              "  <tbody>\n",
              "    <tr>\n",
              "      <th>0</th>\n",
              "      <td>5001711</td>\n",
              "      <td>0</td>\n",
              "      <td>nenhum empréstimo</td>\n",
              "    </tr>\n",
              "    <tr>\n",
              "      <th>1</th>\n",
              "      <td>5001711</td>\n",
              "      <td>-1</td>\n",
              "      <td>1-29 dias</td>\n",
              "    </tr>\n",
              "    <tr>\n",
              "      <th>2</th>\n",
              "      <td>5001711</td>\n",
              "      <td>-2</td>\n",
              "      <td>1-29 dias</td>\n",
              "    </tr>\n",
              "    <tr>\n",
              "      <th>3</th>\n",
              "      <td>5001711</td>\n",
              "      <td>-3</td>\n",
              "      <td>1-29 dias</td>\n",
              "    </tr>\n",
              "    <tr>\n",
              "      <th>4</th>\n",
              "      <td>5001712</td>\n",
              "      <td>0</td>\n",
              "      <td>pagamento realizado</td>\n",
              "    </tr>\n",
              "  </tbody>\n",
              "</table>\n",
              "</div>"
            ],
            "text/plain": [
              "   ID_Cliente  Mes_referencia         Faixa_atraso\n",
              "0     5001711               0    nenhum empréstimo\n",
              "1     5001711              -1            1-29 dias\n",
              "2     5001711              -2            1-29 dias\n",
              "3     5001711              -3            1-29 dias\n",
              "4     5001712               0  pagamento realizado"
            ]
          },
          "metadata": {},
          "execution_count": 3
        }
      ]
    },
    {
      "cell_type": "code",
      "metadata": {
        "colab": {
          "base_uri": "https://localhost:8080/",
          "height": 275
        },
        "id": "KwoW4rcATjen",
        "outputId": "b85b8432-8733-4191-9132-0369da8ba290"
      },
      "source": [
        "#clientes cadastrados\n",
        "df_cadastrados = pd.read_csv('https://raw.githubusercontent.com/EnzoGolfetti/Avaliacao_Credito/main/dados/clientes_cadastrados.csv')\n",
        "df_cadastrados.head()"
      ],
      "execution_count": null,
      "outputs": [
        {
          "output_type": "display_data",
          "data": {
            "application/javascript": [
              "\n",
              "        if (window._pyforest_update_imports_cell) { window._pyforest_update_imports_cell('import pandas as pd'); }\n",
              "    "
            ],
            "text/plain": [
              "<IPython.core.display.Javascript object>"
            ]
          },
          "metadata": {}
        },
        {
          "output_type": "execute_result",
          "data": {
            "text/html": [
              "<div>\n",
              "<style scoped>\n",
              "    .dataframe tbody tr th:only-of-type {\n",
              "        vertical-align: middle;\n",
              "    }\n",
              "\n",
              "    .dataframe tbody tr th {\n",
              "        vertical-align: top;\n",
              "    }\n",
              "\n",
              "    .dataframe thead th {\n",
              "        text-align: right;\n",
              "    }\n",
              "</style>\n",
              "<table border=\"1\" class=\"dataframe\">\n",
              "  <thead>\n",
              "    <tr style=\"text-align: right;\">\n",
              "      <th></th>\n",
              "      <th>ID_Cliente</th>\n",
              "      <th>Genero</th>\n",
              "      <th>Tem_Carro</th>\n",
              "      <th>Tem_Casa_Propria</th>\n",
              "      <th>Qtd_Filhos</th>\n",
              "      <th>Rendimento_Anual</th>\n",
              "      <th>Categoria_de_renda</th>\n",
              "      <th>Grau_Escolaridade</th>\n",
              "      <th>Estado_Civil</th>\n",
              "      <th>Moradia</th>\n",
              "      <th>Idade</th>\n",
              "      <th>Tem_Celular</th>\n",
              "      <th>Tem_telefone_trabalho</th>\n",
              "      <th>Tem_telefone_fixo</th>\n",
              "      <th>Tem_email</th>\n",
              "      <th>Ocupacao</th>\n",
              "      <th>Tamanho_Familia</th>\n",
              "      <th>Anos_empregado</th>\n",
              "    </tr>\n",
              "  </thead>\n",
              "  <tbody>\n",
              "    <tr>\n",
              "      <th>0</th>\n",
              "      <td>5008804</td>\n",
              "      <td>H</td>\n",
              "      <td>1</td>\n",
              "      <td>1</td>\n",
              "      <td>0</td>\n",
              "      <td>427500.0</td>\n",
              "      <td>Empregado</td>\n",
              "      <td>Ensino superior</td>\n",
              "      <td>Uniao estavel</td>\n",
              "      <td>Alugado</td>\n",
              "      <td>33.0</td>\n",
              "      <td>1</td>\n",
              "      <td>1</td>\n",
              "      <td>0</td>\n",
              "      <td>0</td>\n",
              "      <td>Outros</td>\n",
              "      <td>2.0</td>\n",
              "      <td>12.4</td>\n",
              "    </tr>\n",
              "    <tr>\n",
              "      <th>1</th>\n",
              "      <td>5008805</td>\n",
              "      <td>H</td>\n",
              "      <td>1</td>\n",
              "      <td>1</td>\n",
              "      <td>0</td>\n",
              "      <td>427500.0</td>\n",
              "      <td>Empregado</td>\n",
              "      <td>Ensino superior</td>\n",
              "      <td>Uniao estavel</td>\n",
              "      <td>Alugado</td>\n",
              "      <td>33.0</td>\n",
              "      <td>1</td>\n",
              "      <td>1</td>\n",
              "      <td>0</td>\n",
              "      <td>0</td>\n",
              "      <td>Outros</td>\n",
              "      <td>2.0</td>\n",
              "      <td>12.4</td>\n",
              "    </tr>\n",
              "    <tr>\n",
              "      <th>2</th>\n",
              "      <td>5008806</td>\n",
              "      <td>H</td>\n",
              "      <td>1</td>\n",
              "      <td>1</td>\n",
              "      <td>0</td>\n",
              "      <td>112500.0</td>\n",
              "      <td>Empregado</td>\n",
              "      <td>Ensino medio</td>\n",
              "      <td>Casado</td>\n",
              "      <td>Casa propria</td>\n",
              "      <td>59.0</td>\n",
              "      <td>1</td>\n",
              "      <td>0</td>\n",
              "      <td>0</td>\n",
              "      <td>0</td>\n",
              "      <td>Seguranca</td>\n",
              "      <td>2.0</td>\n",
              "      <td>3.1</td>\n",
              "    </tr>\n",
              "    <tr>\n",
              "      <th>3</th>\n",
              "      <td>5008808</td>\n",
              "      <td>M</td>\n",
              "      <td>0</td>\n",
              "      <td>1</td>\n",
              "      <td>0</td>\n",
              "      <td>270000.0</td>\n",
              "      <td>Associado comercial</td>\n",
              "      <td>Ensino medio</td>\n",
              "      <td>Solteiro</td>\n",
              "      <td>Casa propria</td>\n",
              "      <td>52.0</td>\n",
              "      <td>1</td>\n",
              "      <td>0</td>\n",
              "      <td>1</td>\n",
              "      <td>1</td>\n",
              "      <td>Venda</td>\n",
              "      <td>1.0</td>\n",
              "      <td>8.4</td>\n",
              "    </tr>\n",
              "    <tr>\n",
              "      <th>4</th>\n",
              "      <td>5008809</td>\n",
              "      <td>M</td>\n",
              "      <td>0</td>\n",
              "      <td>1</td>\n",
              "      <td>0</td>\n",
              "      <td>270000.0</td>\n",
              "      <td>Associado comercial</td>\n",
              "      <td>Ensino medio</td>\n",
              "      <td>Solteiro</td>\n",
              "      <td>Casa propria</td>\n",
              "      <td>52.0</td>\n",
              "      <td>1</td>\n",
              "      <td>0</td>\n",
              "      <td>1</td>\n",
              "      <td>1</td>\n",
              "      <td>Venda</td>\n",
              "      <td>1.0</td>\n",
              "      <td>8.4</td>\n",
              "    </tr>\n",
              "  </tbody>\n",
              "</table>\n",
              "</div>"
            ],
            "text/plain": [
              "   ID_Cliente Genero  Tem_Carro  ...   Ocupacao  Tamanho_Familia  Anos_empregado\n",
              "0     5008804      H          1  ...     Outros              2.0            12.4\n",
              "1     5008805      H          1  ...     Outros              2.0            12.4\n",
              "2     5008806      H          1  ...  Seguranca              2.0             3.1\n",
              "3     5008808      M          0  ...      Venda              1.0             8.4\n",
              "4     5008809      M          0  ...      Venda              1.0             8.4\n",
              "\n",
              "[5 rows x 18 columns]"
            ]
          },
          "metadata": {},
          "execution_count": 4
        }
      ]
    },
    {
      "cell_type": "markdown",
      "metadata": {
        "id": "pPp_zIEyi8oZ"
      },
      "source": [
        "#Explorações iniciais no dataframe de clientes cadastrados"
      ]
    },
    {
      "cell_type": "code",
      "metadata": {
        "colab": {
          "base_uri": "https://localhost:8080/"
        },
        "id": "P4owaNSCTweX",
        "outputId": "a0beb0f5-a4d3-41ba-dec3-0c8df33c529d"
      },
      "source": [
        "df_cadastrados.info()"
      ],
      "execution_count": null,
      "outputs": [
        {
          "output_type": "stream",
          "name": "stdout",
          "text": [
            "<class 'pandas.core.frame.DataFrame'>\n",
            "RangeIndex: 438557 entries, 0 to 438556\n",
            "Data columns (total 18 columns):\n",
            " #   Column                 Non-Null Count   Dtype  \n",
            "---  ------                 --------------   -----  \n",
            " 0   ID_Cliente             438557 non-null  int64  \n",
            " 1   Genero                 438557 non-null  object \n",
            " 2   Tem_Carro              438557 non-null  int64  \n",
            " 3   Tem_Casa_Propria       438557 non-null  int64  \n",
            " 4   Qtd_Filhos             438557 non-null  int64  \n",
            " 5   Rendimento_Anual       438557 non-null  float64\n",
            " 6   Categoria_de_renda     438557 non-null  object \n",
            " 7   Grau_Escolaridade      438557 non-null  object \n",
            " 8   Estado_Civil           438557 non-null  object \n",
            " 9   Moradia                438557 non-null  object \n",
            " 10  Idade                  438557 non-null  float64\n",
            " 11  Tem_Celular            438557 non-null  int64  \n",
            " 12  Tem_telefone_trabalho  438557 non-null  int64  \n",
            " 13  Tem_telefone_fixo      438557 non-null  int64  \n",
            " 14  Tem_email              438557 non-null  int64  \n",
            " 15  Ocupacao               438557 non-null  object \n",
            " 16  Tamanho_Familia        438557 non-null  float64\n",
            " 17  Anos_empregado         438557 non-null  float64\n",
            "dtypes: float64(4), int64(8), object(6)\n",
            "memory usage: 60.2+ MB\n"
          ]
        }
      ]
    },
    {
      "cell_type": "code",
      "metadata": {
        "colab": {
          "base_uri": "https://localhost:8080/",
          "height": 317
        },
        "id": "JxuDV_RG4UV_",
        "outputId": "710ca733-c1ae-43f9-e7ab-15a98eebd6f9"
      },
      "source": [
        "df_cadastrados.describe()"
      ],
      "execution_count": null,
      "outputs": [
        {
          "output_type": "execute_result",
          "data": {
            "text/html": [
              "<div>\n",
              "<style scoped>\n",
              "    .dataframe tbody tr th:only-of-type {\n",
              "        vertical-align: middle;\n",
              "    }\n",
              "\n",
              "    .dataframe tbody tr th {\n",
              "        vertical-align: top;\n",
              "    }\n",
              "\n",
              "    .dataframe thead th {\n",
              "        text-align: right;\n",
              "    }\n",
              "</style>\n",
              "<table border=\"1\" class=\"dataframe\">\n",
              "  <thead>\n",
              "    <tr style=\"text-align: right;\">\n",
              "      <th></th>\n",
              "      <th>ID_Cliente</th>\n",
              "      <th>Tem_Carro</th>\n",
              "      <th>Tem_Casa_Propria</th>\n",
              "      <th>Qtd_Filhos</th>\n",
              "      <th>Rendimento_Anual</th>\n",
              "      <th>Idade</th>\n",
              "      <th>Tem_Celular</th>\n",
              "      <th>Tem_telefone_trabalho</th>\n",
              "      <th>Tem_telefone_fixo</th>\n",
              "      <th>Tem_email</th>\n",
              "      <th>Tamanho_Familia</th>\n",
              "      <th>Anos_empregado</th>\n",
              "    </tr>\n",
              "  </thead>\n",
              "  <tbody>\n",
              "    <tr>\n",
              "      <th>count</th>\n",
              "      <td>4.385570e+05</td>\n",
              "      <td>438557.000000</td>\n",
              "      <td>438557.000000</td>\n",
              "      <td>438557.000000</td>\n",
              "      <td>4.385570e+05</td>\n",
              "      <td>438557.000000</td>\n",
              "      <td>438557.0</td>\n",
              "      <td>438557.000000</td>\n",
              "      <td>438557.000000</td>\n",
              "      <td>438557.000000</td>\n",
              "      <td>438557.000000</td>\n",
              "      <td>438557.000000</td>\n",
              "    </tr>\n",
              "    <tr>\n",
              "      <th>mean</th>\n",
              "      <td>6.022176e+06</td>\n",
              "      <td>0.371897</td>\n",
              "      <td>0.693351</td>\n",
              "      <td>0.427390</td>\n",
              "      <td>1.875243e+05</td>\n",
              "      <td>43.833960</td>\n",
              "      <td>1.0</td>\n",
              "      <td>0.206133</td>\n",
              "      <td>0.287771</td>\n",
              "      <td>0.108207</td>\n",
              "      <td>2.194465</td>\n",
              "      <td>-165.933682</td>\n",
              "    </tr>\n",
              "    <tr>\n",
              "      <th>std</th>\n",
              "      <td>5.716370e+05</td>\n",
              "      <td>0.483312</td>\n",
              "      <td>0.461103</td>\n",
              "      <td>0.724882</td>\n",
              "      <td>1.100869e+05</td>\n",
              "      <td>11.472765</td>\n",
              "      <td>0.0</td>\n",
              "      <td>0.404527</td>\n",
              "      <td>0.452724</td>\n",
              "      <td>0.310642</td>\n",
              "      <td>0.897207</td>\n",
              "      <td>380.198708</td>\n",
              "    </tr>\n",
              "    <tr>\n",
              "      <th>min</th>\n",
              "      <td>5.008804e+06</td>\n",
              "      <td>0.000000</td>\n",
              "      <td>0.000000</td>\n",
              "      <td>0.000000</td>\n",
              "      <td>2.610000e+04</td>\n",
              "      <td>21.000000</td>\n",
              "      <td>1.0</td>\n",
              "      <td>0.000000</td>\n",
              "      <td>0.000000</td>\n",
              "      <td>0.000000</td>\n",
              "      <td>1.000000</td>\n",
              "      <td>-1000.700000</td>\n",
              "    </tr>\n",
              "    <tr>\n",
              "      <th>25%</th>\n",
              "      <td>5.609375e+06</td>\n",
              "      <td>0.000000</td>\n",
              "      <td>0.000000</td>\n",
              "      <td>0.000000</td>\n",
              "      <td>1.215000e+05</td>\n",
              "      <td>34.000000</td>\n",
              "      <td>1.0</td>\n",
              "      <td>0.000000</td>\n",
              "      <td>0.000000</td>\n",
              "      <td>0.000000</td>\n",
              "      <td>2.000000</td>\n",
              "      <td>1.000000</td>\n",
              "    </tr>\n",
              "    <tr>\n",
              "      <th>50%</th>\n",
              "      <td>6.047745e+06</td>\n",
              "      <td>0.000000</td>\n",
              "      <td>1.000000</td>\n",
              "      <td>0.000000</td>\n",
              "      <td>1.607805e+05</td>\n",
              "      <td>43.000000</td>\n",
              "      <td>1.0</td>\n",
              "      <td>0.000000</td>\n",
              "      <td>0.000000</td>\n",
              "      <td>0.000000</td>\n",
              "      <td>2.000000</td>\n",
              "      <td>4.000000</td>\n",
              "    </tr>\n",
              "    <tr>\n",
              "      <th>75%</th>\n",
              "      <td>6.456971e+06</td>\n",
              "      <td>1.000000</td>\n",
              "      <td>1.000000</td>\n",
              "      <td>1.000000</td>\n",
              "      <td>2.250000e+05</td>\n",
              "      <td>53.000000</td>\n",
              "      <td>1.0</td>\n",
              "      <td>0.000000</td>\n",
              "      <td>1.000000</td>\n",
              "      <td>0.000000</td>\n",
              "      <td>3.000000</td>\n",
              "      <td>8.500000</td>\n",
              "    </tr>\n",
              "    <tr>\n",
              "      <th>max</th>\n",
              "      <td>7.999952e+06</td>\n",
              "      <td>1.000000</td>\n",
              "      <td>1.000000</td>\n",
              "      <td>19.000000</td>\n",
              "      <td>6.750000e+06</td>\n",
              "      <td>69.000000</td>\n",
              "      <td>1.0</td>\n",
              "      <td>1.000000</td>\n",
              "      <td>1.000000</td>\n",
              "      <td>1.000000</td>\n",
              "      <td>20.000000</td>\n",
              "      <td>48.000000</td>\n",
              "    </tr>\n",
              "  </tbody>\n",
              "</table>\n",
              "</div>"
            ],
            "text/plain": [
              "         ID_Cliente      Tem_Carro  ...  Tamanho_Familia  Anos_empregado\n",
              "count  4.385570e+05  438557.000000  ...    438557.000000   438557.000000\n",
              "mean   6.022176e+06       0.371897  ...         2.194465     -165.933682\n",
              "std    5.716370e+05       0.483312  ...         0.897207      380.198708\n",
              "min    5.008804e+06       0.000000  ...         1.000000    -1000.700000\n",
              "25%    5.609375e+06       0.000000  ...         2.000000        1.000000\n",
              "50%    6.047745e+06       0.000000  ...         2.000000        4.000000\n",
              "75%    6.456971e+06       1.000000  ...         3.000000        8.500000\n",
              "max    7.999952e+06       1.000000  ...        20.000000       48.000000\n",
              "\n",
              "[8 rows x 12 columns]"
            ]
          },
          "metadata": {},
          "execution_count": 6
        }
      ]
    },
    {
      "cell_type": "markdown",
      "metadata": {
        "id": "D14GQ4In5E2C"
      },
      "source": [
        "No describe vemos que na coluna de anos_empregados tem um mínimo de -1000 e uma média distorcida por ele de -165, a documentação fala em número negativo nos anos empregados ser o tempo desempregado. Mais a frente olhamos esse valor."
      ]
    },
    {
      "cell_type": "code",
      "metadata": {
        "id": "hZdP7rsEkEaD"
      },
      "source": [
        "#observando o .info() vemos que as colunas estão com a primeira letra maiúscula, o python foi feito para lidar apenas com letras minúsculas\n",
        "# e não é eficiente para nós ficar tendo essas letras, vamos jogar tudo para minúscula\n",
        "df_cadastrados.columns = df_cadastrados.columns.str.lower()"
      ],
      "execution_count": null,
      "outputs": []
    },
    {
      "cell_type": "markdown",
      "metadata": {
        "id": "2GveyaGMjNfU"
      },
      "source": [
        "Nesse problema de negócio é importante que só tenhamos uma linha de informação para cada cliente, no intuito de ter um snapshot da situação do cliente no momento da solicitação de crédito. Não podemos ter uma linha em que o cliente tem dois filhos e na outro ele tem 4, as informações devem estar o mais confiáveis e atualizadas possível.\n",
        "\n",
        "Dito isso, vamos verificar se é como o dataframe está constituído."
      ]
    },
    {
      "cell_type": "code",
      "metadata": {
        "colab": {
          "base_uri": "https://localhost:8080/"
        },
        "id": "H8K95Us_jI9K",
        "outputId": "40e45a33-984b-44bb-9292-191fa178b973"
      },
      "source": [
        "#verificando se há apenas uma linha por cliente\n",
        "df_cadastrados['id_cliente'].value_counts()"
      ],
      "execution_count": null,
      "outputs": [
        {
          "output_type": "execute_result",
          "data": {
            "text/plain": [
              "7603224    2\n",
              "7742853    2\n",
              "7836711    2\n",
              "7091721    2\n",
              "7022327    2\n",
              "          ..\n",
              "5372264    1\n",
              "6412652    1\n",
              "6410605    1\n",
              "6367602    1\n",
              "6291456    1\n",
              "Name: id_cliente, Length: 438510, dtype: int64"
            ]
          },
          "metadata": {},
          "execution_count": 8
        }
      ]
    },
    {
      "cell_type": "markdown",
      "metadata": {
        "id": "c5Ez7FZWkpiq"
      },
      "source": [
        "Identificamos uma diferença de 47 linhas que estão com ids dobrados, vamos entender esses dados e tratá-los da melhor forma, seja transformando ou apenas dropando."
      ]
    },
    {
      "cell_type": "code",
      "metadata": {
        "colab": {
          "base_uri": "https://localhost:8080/",
          "height": 165
        },
        "id": "hsdw88F2kdtL",
        "outputId": "a3ece897-e18e-43e1-da53-ff5f302fc8b0"
      },
      "source": [
        "df_cadastrados[df_cadastrados['id_cliente'] == 7603224]"
      ],
      "execution_count": null,
      "outputs": [
        {
          "output_type": "execute_result",
          "data": {
            "text/html": [
              "<div>\n",
              "<style scoped>\n",
              "    .dataframe tbody tr th:only-of-type {\n",
              "        vertical-align: middle;\n",
              "    }\n",
              "\n",
              "    .dataframe tbody tr th {\n",
              "        vertical-align: top;\n",
              "    }\n",
              "\n",
              "    .dataframe thead th {\n",
              "        text-align: right;\n",
              "    }\n",
              "</style>\n",
              "<table border=\"1\" class=\"dataframe\">\n",
              "  <thead>\n",
              "    <tr style=\"text-align: right;\">\n",
              "      <th></th>\n",
              "      <th>id_cliente</th>\n",
              "      <th>genero</th>\n",
              "      <th>tem_carro</th>\n",
              "      <th>tem_casa_propria</th>\n",
              "      <th>qtd_filhos</th>\n",
              "      <th>rendimento_anual</th>\n",
              "      <th>categoria_de_renda</th>\n",
              "      <th>grau_escolaridade</th>\n",
              "      <th>estado_civil</th>\n",
              "      <th>moradia</th>\n",
              "      <th>idade</th>\n",
              "      <th>tem_celular</th>\n",
              "      <th>tem_telefone_trabalho</th>\n",
              "      <th>tem_telefone_fixo</th>\n",
              "      <th>tem_email</th>\n",
              "      <th>ocupacao</th>\n",
              "      <th>tamanho_familia</th>\n",
              "      <th>anos_empregado</th>\n",
              "    </tr>\n",
              "  </thead>\n",
              "  <tbody>\n",
              "    <tr>\n",
              "      <th>425235</th>\n",
              "      <td>7603224</td>\n",
              "      <td>H</td>\n",
              "      <td>1</td>\n",
              "      <td>1</td>\n",
              "      <td>0</td>\n",
              "      <td>540000.0</td>\n",
              "      <td>Associado comercial</td>\n",
              "      <td>Ensino medio</td>\n",
              "      <td>Casado</td>\n",
              "      <td>Casa propria</td>\n",
              "      <td>44.0</td>\n",
              "      <td>1</td>\n",
              "      <td>0</td>\n",
              "      <td>0</td>\n",
              "      <td>1</td>\n",
              "      <td>Gerencia</td>\n",
              "      <td>2.0</td>\n",
              "      <td>8.4</td>\n",
              "    </tr>\n",
              "    <tr>\n",
              "      <th>430187</th>\n",
              "      <td>7603224</td>\n",
              "      <td>M</td>\n",
              "      <td>0</td>\n",
              "      <td>0</td>\n",
              "      <td>0</td>\n",
              "      <td>47250.0</td>\n",
              "      <td>Pensionista</td>\n",
              "      <td>Ensino medio</td>\n",
              "      <td>Casado</td>\n",
              "      <td>Casa propria</td>\n",
              "      <td>60.0</td>\n",
              "      <td>1</td>\n",
              "      <td>0</td>\n",
              "      <td>0</td>\n",
              "      <td>0</td>\n",
              "      <td>Outros</td>\n",
              "      <td>2.0</td>\n",
              "      <td>-1000.7</td>\n",
              "    </tr>\n",
              "  </tbody>\n",
              "</table>\n",
              "</div>"
            ],
            "text/plain": [
              "        id_cliente genero  tem_carro  ...  ocupacao  tamanho_familia  anos_empregado\n",
              "425235     7603224      H          1  ...  Gerencia              2.0             8.4\n",
              "430187     7603224      M          0  ...    Outros              2.0         -1000.7\n",
              "\n",
              "[2 rows x 18 columns]"
            ]
          },
          "metadata": {},
          "execution_count": 9
        }
      ]
    },
    {
      "cell_type": "code",
      "metadata": {
        "colab": {
          "base_uri": "https://localhost:8080/",
          "height": 165
        },
        "id": "ACmWZdKslCEl",
        "outputId": "de40c38a-1e39-4333-8211-a77f65075ed9"
      },
      "source": [
        "df_cadastrados[df_cadastrados['id_cliente'] == 7091721]"
      ],
      "execution_count": null,
      "outputs": [
        {
          "output_type": "execute_result",
          "data": {
            "text/html": [
              "<div>\n",
              "<style scoped>\n",
              "    .dataframe tbody tr th:only-of-type {\n",
              "        vertical-align: middle;\n",
              "    }\n",
              "\n",
              "    .dataframe tbody tr th {\n",
              "        vertical-align: top;\n",
              "    }\n",
              "\n",
              "    .dataframe thead th {\n",
              "        text-align: right;\n",
              "    }\n",
              "</style>\n",
              "<table border=\"1\" class=\"dataframe\">\n",
              "  <thead>\n",
              "    <tr style=\"text-align: right;\">\n",
              "      <th></th>\n",
              "      <th>id_cliente</th>\n",
              "      <th>genero</th>\n",
              "      <th>tem_carro</th>\n",
              "      <th>tem_casa_propria</th>\n",
              "      <th>qtd_filhos</th>\n",
              "      <th>rendimento_anual</th>\n",
              "      <th>categoria_de_renda</th>\n",
              "      <th>grau_escolaridade</th>\n",
              "      <th>estado_civil</th>\n",
              "      <th>moradia</th>\n",
              "      <th>idade</th>\n",
              "      <th>tem_celular</th>\n",
              "      <th>tem_telefone_trabalho</th>\n",
              "      <th>tem_telefone_fixo</th>\n",
              "      <th>tem_email</th>\n",
              "      <th>ocupacao</th>\n",
              "      <th>tamanho_familia</th>\n",
              "      <th>anos_empregado</th>\n",
              "    </tr>\n",
              "  </thead>\n",
              "  <tbody>\n",
              "    <tr>\n",
              "      <th>423143</th>\n",
              "      <td>7091721</td>\n",
              "      <td>H</td>\n",
              "      <td>1</td>\n",
              "      <td>1</td>\n",
              "      <td>0</td>\n",
              "      <td>441000.0</td>\n",
              "      <td>Servidor publico</td>\n",
              "      <td>Ensino superior</td>\n",
              "      <td>Casado</td>\n",
              "      <td>Casa propria</td>\n",
              "      <td>51.0</td>\n",
              "      <td>1</td>\n",
              "      <td>1</td>\n",
              "      <td>0</td>\n",
              "      <td>1</td>\n",
              "      <td>Outros</td>\n",
              "      <td>2.0</td>\n",
              "      <td>24.3</td>\n",
              "    </tr>\n",
              "    <tr>\n",
              "      <th>433666</th>\n",
              "      <td>7091721</td>\n",
              "      <td>M</td>\n",
              "      <td>1</td>\n",
              "      <td>1</td>\n",
              "      <td>0</td>\n",
              "      <td>90000.0</td>\n",
              "      <td>Associado comercial</td>\n",
              "      <td>Ensino medio</td>\n",
              "      <td>Casado</td>\n",
              "      <td>Casa propria</td>\n",
              "      <td>39.0</td>\n",
              "      <td>1</td>\n",
              "      <td>0</td>\n",
              "      <td>0</td>\n",
              "      <td>0</td>\n",
              "      <td>Medicina</td>\n",
              "      <td>2.0</td>\n",
              "      <td>6.2</td>\n",
              "    </tr>\n",
              "  </tbody>\n",
              "</table>\n",
              "</div>"
            ],
            "text/plain": [
              "        id_cliente genero  tem_carro  ...  ocupacao  tamanho_familia  anos_empregado\n",
              "423143     7091721      H          1  ...    Outros              2.0            24.3\n",
              "433666     7091721      M          1  ...  Medicina              2.0             6.2\n",
              "\n",
              "[2 rows x 18 columns]"
            ]
          },
          "metadata": {},
          "execution_count": 10
        }
      ]
    },
    {
      "cell_type": "code",
      "metadata": {
        "colab": {
          "base_uri": "https://localhost:8080/",
          "height": 165
        },
        "id": "vw5uJJkWlQ1A",
        "outputId": "c8214f36-c295-4b8e-8f70-252d54d3e3f2"
      },
      "source": [
        "df_cadastrados[df_cadastrados['id_cliente'] == 7022327]"
      ],
      "execution_count": null,
      "outputs": [
        {
          "output_type": "execute_result",
          "data": {
            "text/html": [
              "<div>\n",
              "<style scoped>\n",
              "    .dataframe tbody tr th:only-of-type {\n",
              "        vertical-align: middle;\n",
              "    }\n",
              "\n",
              "    .dataframe tbody tr th {\n",
              "        vertical-align: top;\n",
              "    }\n",
              "\n",
              "    .dataframe thead th {\n",
              "        text-align: right;\n",
              "    }\n",
              "</style>\n",
              "<table border=\"1\" class=\"dataframe\">\n",
              "  <thead>\n",
              "    <tr style=\"text-align: right;\">\n",
              "      <th></th>\n",
              "      <th>id_cliente</th>\n",
              "      <th>genero</th>\n",
              "      <th>tem_carro</th>\n",
              "      <th>tem_casa_propria</th>\n",
              "      <th>qtd_filhos</th>\n",
              "      <th>rendimento_anual</th>\n",
              "      <th>categoria_de_renda</th>\n",
              "      <th>grau_escolaridade</th>\n",
              "      <th>estado_civil</th>\n",
              "      <th>moradia</th>\n",
              "      <th>idade</th>\n",
              "      <th>tem_celular</th>\n",
              "      <th>tem_telefone_trabalho</th>\n",
              "      <th>tem_telefone_fixo</th>\n",
              "      <th>tem_email</th>\n",
              "      <th>ocupacao</th>\n",
              "      <th>tamanho_familia</th>\n",
              "      <th>anos_empregado</th>\n",
              "    </tr>\n",
              "  </thead>\n",
              "  <tbody>\n",
              "    <tr>\n",
              "      <th>431545</th>\n",
              "      <td>7022327</td>\n",
              "      <td>M</td>\n",
              "      <td>0</td>\n",
              "      <td>1</td>\n",
              "      <td>0</td>\n",
              "      <td>135000.0</td>\n",
              "      <td>Associado comercial</td>\n",
              "      <td>Ensino medio</td>\n",
              "      <td>Solteiro</td>\n",
              "      <td>Casa propria</td>\n",
              "      <td>40.0</td>\n",
              "      <td>1</td>\n",
              "      <td>0</td>\n",
              "      <td>0</td>\n",
              "      <td>0</td>\n",
              "      <td>Alta tecnologia</td>\n",
              "      <td>1.0</td>\n",
              "      <td>14.5</td>\n",
              "    </tr>\n",
              "    <tr>\n",
              "      <th>431911</th>\n",
              "      <td>7022327</td>\n",
              "      <td>H</td>\n",
              "      <td>1</td>\n",
              "      <td>1</td>\n",
              "      <td>0</td>\n",
              "      <td>256500.0</td>\n",
              "      <td>Associado comercial</td>\n",
              "      <td>Ensino superior</td>\n",
              "      <td>Casado</td>\n",
              "      <td>Casa propria</td>\n",
              "      <td>59.0</td>\n",
              "      <td>1</td>\n",
              "      <td>0</td>\n",
              "      <td>0</td>\n",
              "      <td>1</td>\n",
              "      <td>Equipe principal</td>\n",
              "      <td>2.0</td>\n",
              "      <td>4.6</td>\n",
              "    </tr>\n",
              "  </tbody>\n",
              "</table>\n",
              "</div>"
            ],
            "text/plain": [
              "        id_cliente genero  ...  tamanho_familia  anos_empregado\n",
              "431545     7022327      M  ...              1.0            14.5\n",
              "431911     7022327      H  ...              2.0             4.6\n",
              "\n",
              "[2 rows x 18 columns]"
            ]
          },
          "metadata": {},
          "execution_count": 11
        }
      ]
    },
    {
      "cell_type": "code",
      "metadata": {
        "colab": {
          "base_uri": "https://localhost:8080/",
          "height": 165
        },
        "id": "CIr7CAZCmA0i",
        "outputId": "8e6cb1be-cae7-4a3e-be62-f01fc79e8bdd"
      },
      "source": [
        "df_cadastrados[df_cadastrados['id_cliente'] == 7836711]"
      ],
      "execution_count": null,
      "outputs": [
        {
          "output_type": "execute_result",
          "data": {
            "text/html": [
              "<div>\n",
              "<style scoped>\n",
              "    .dataframe tbody tr th:only-of-type {\n",
              "        vertical-align: middle;\n",
              "    }\n",
              "\n",
              "    .dataframe tbody tr th {\n",
              "        vertical-align: top;\n",
              "    }\n",
              "\n",
              "    .dataframe thead th {\n",
              "        text-align: right;\n",
              "    }\n",
              "</style>\n",
              "<table border=\"1\" class=\"dataframe\">\n",
              "  <thead>\n",
              "    <tr style=\"text-align: right;\">\n",
              "      <th></th>\n",
              "      <th>id_cliente</th>\n",
              "      <th>genero</th>\n",
              "      <th>tem_carro</th>\n",
              "      <th>tem_casa_propria</th>\n",
              "      <th>qtd_filhos</th>\n",
              "      <th>rendimento_anual</th>\n",
              "      <th>categoria_de_renda</th>\n",
              "      <th>grau_escolaridade</th>\n",
              "      <th>estado_civil</th>\n",
              "      <th>moradia</th>\n",
              "      <th>idade</th>\n",
              "      <th>tem_celular</th>\n",
              "      <th>tem_telefone_trabalho</th>\n",
              "      <th>tem_telefone_fixo</th>\n",
              "      <th>tem_email</th>\n",
              "      <th>ocupacao</th>\n",
              "      <th>tamanho_familia</th>\n",
              "      <th>anos_empregado</th>\n",
              "    </tr>\n",
              "  </thead>\n",
              "  <tbody>\n",
              "    <tr>\n",
              "      <th>426563</th>\n",
              "      <td>7836711</td>\n",
              "      <td>M</td>\n",
              "      <td>0</td>\n",
              "      <td>1</td>\n",
              "      <td>2</td>\n",
              "      <td>292500.0</td>\n",
              "      <td>Empregado</td>\n",
              "      <td>Ensino superior</td>\n",
              "      <td>Casado</td>\n",
              "      <td>Casa propria</td>\n",
              "      <td>38.0</td>\n",
              "      <td>1</td>\n",
              "      <td>0</td>\n",
              "      <td>1</td>\n",
              "      <td>0</td>\n",
              "      <td>Contabilidade</td>\n",
              "      <td>4.0</td>\n",
              "      <td>12.0</td>\n",
              "    </tr>\n",
              "    <tr>\n",
              "      <th>426714</th>\n",
              "      <td>7836711</td>\n",
              "      <td>H</td>\n",
              "      <td>1</td>\n",
              "      <td>0</td>\n",
              "      <td>2</td>\n",
              "      <td>315000.0</td>\n",
              "      <td>Servidor publico</td>\n",
              "      <td>Ensino superior</td>\n",
              "      <td>Casado</td>\n",
              "      <td>Casa propria</td>\n",
              "      <td>32.0</td>\n",
              "      <td>1</td>\n",
              "      <td>1</td>\n",
              "      <td>1</td>\n",
              "      <td>0</td>\n",
              "      <td>Gerencia</td>\n",
              "      <td>4.0</td>\n",
              "      <td>4.2</td>\n",
              "    </tr>\n",
              "  </tbody>\n",
              "</table>\n",
              "</div>"
            ],
            "text/plain": [
              "        id_cliente genero  ...  tamanho_familia  anos_empregado\n",
              "426563     7836711      M  ...              4.0            12.0\n",
              "426714     7836711      H  ...              4.0             4.2\n",
              "\n",
              "[2 rows x 18 columns]"
            ]
          },
          "metadata": {},
          "execution_count": 12
        }
      ]
    },
    {
      "cell_type": "markdown",
      "metadata": {
        "id": "cqDFIse4nZDY"
      },
      "source": [
        "Observando uma amostra selecionada de 4 casos, e sem o background do acesso às pessoas que construíram o dataset, entendemos que provavelmente é um erro em indicar o número correto do ID. Sendo assim iremos ver o total de linhas duplicadas (spoiler: será 94 (47*2)) e removê-las mantendo uma copia dos dados duplicados para se necessário uso futuro e conferirmos esses dados."
      ]
    },
    {
      "cell_type": "code",
      "metadata": {
        "id": "4fcZ7s3EmbsK"
      },
      "source": [
        "cadastrados_unique = df_cadastrados.copy()\n",
        "id_duplicados = cadastrados_unique[cadastrados_unique['id_cliente'].duplicated(keep=False)]\n",
        "cadastrados_unique = cadastrados_unique.drop(id_duplicados.index)"
      ],
      "execution_count": null,
      "outputs": []
    },
    {
      "cell_type": "markdown",
      "metadata": {
        "id": "44Zpq15dqVui"
      },
      "source": [
        "###Desafio 2: Explorar as features e identificar binárias, categóricas e contínuas."
      ]
    },
    {
      "cell_type": "code",
      "metadata": {
        "colab": {
          "base_uri": "https://localhost:8080/"
        },
        "id": "K8NiLNQZpW1y",
        "outputId": "5e5a4562-3806-4008-b01a-98854129aec2"
      },
      "source": [
        "cadastrados_unique.info()"
      ],
      "execution_count": null,
      "outputs": [
        {
          "output_type": "stream",
          "name": "stdout",
          "text": [
            "<class 'pandas.core.frame.DataFrame'>\n",
            "Int64Index: 438463 entries, 0 to 438556\n",
            "Data columns (total 18 columns):\n",
            " #   Column                 Non-Null Count   Dtype  \n",
            "---  ------                 --------------   -----  \n",
            " 0   id_cliente             438463 non-null  int64  \n",
            " 1   genero                 438463 non-null  object \n",
            " 2   tem_carro              438463 non-null  int64  \n",
            " 3   tem_casa_propria       438463 non-null  int64  \n",
            " 4   qtd_filhos             438463 non-null  int64  \n",
            " 5   rendimento_anual       438463 non-null  float64\n",
            " 6   categoria_de_renda     438463 non-null  object \n",
            " 7   grau_escolaridade      438463 non-null  object \n",
            " 8   estado_civil           438463 non-null  object \n",
            " 9   moradia                438463 non-null  object \n",
            " 10  idade                  438463 non-null  float64\n",
            " 11  tem_celular            438463 non-null  int64  \n",
            " 12  tem_telefone_trabalho  438463 non-null  int64  \n",
            " 13  tem_telefone_fixo      438463 non-null  int64  \n",
            " 14  tem_email              438463 non-null  int64  \n",
            " 15  ocupacao               438463 non-null  object \n",
            " 16  tamanho_familia        438463 non-null  float64\n",
            " 17  anos_empregado         438463 non-null  float64\n",
            "dtypes: float64(4), int64(8), object(6)\n",
            "memory usage: 63.6+ MB\n"
          ]
        }
      ]
    },
    {
      "cell_type": "markdown",
      "metadata": {
        "id": "i1xYSLH3rmmJ"
      },
      "source": [
        "Uma observação importante é que não temos dados nulos, olhando o total de linhas e o total de Non-Null Count do info vemos que são iguais."
      ]
    },
    {
      "cell_type": "markdown",
      "metadata": {
        "id": "P1TqIRd350Yc"
      },
      "source": [
        "##Análise e classificação das features"
      ]
    },
    {
      "cell_type": "code",
      "metadata": {
        "colab": {
          "base_uri": "https://localhost:8080/"
        },
        "id": "TJIXFzWXqrmM",
        "outputId": "feba3df6-e8ae-42e6-c9b4-1e24af1c3a20"
      },
      "source": [
        "cadastrados_unique['idade'].value_counts()"
      ],
      "execution_count": null,
      "outputs": [
        {
          "output_type": "execute_result",
          "data": {
            "text/plain": [
              "39.0    13959\n",
              "40.0    13222\n",
              "42.0    12947\n",
              "28.0    12839\n",
              "38.0    12790\n",
              "32.0    12729\n",
              "41.0    12720\n",
              "43.0    12653\n",
              "37.0    12498\n",
              "30.0    12408\n",
              "36.0    12396\n",
              "35.0    12238\n",
              "44.0    12110\n",
              "29.0    12043\n",
              "33.0    12006\n",
              "34.0    11894\n",
              "31.0    11330\n",
              "46.0    10629\n",
              "45.0    10582\n",
              "54.0    10390\n",
              "47.0    10282\n",
              "48.0    10025\n",
              "52.0     9953\n",
              "53.0     9881\n",
              "55.0     9824\n",
              "60.0     9768\n",
              "49.0     9758\n",
              "57.0     9730\n",
              "51.0     9669\n",
              "50.0     9530\n",
              "58.0     9321\n",
              "59.0     9197\n",
              "56.0     8987\n",
              "27.0     8971\n",
              "61.0     8221\n",
              "63.0     7778\n",
              "62.0     7582\n",
              "64.0     6889\n",
              "65.0     5710\n",
              "26.0     5408\n",
              "25.0     4524\n",
              "24.0     3590\n",
              "23.0     3348\n",
              "66.0     2451\n",
              "67.0     1595\n",
              "22.0     1048\n",
              "68.0      948\n",
              "69.0       62\n",
              "21.0       30\n",
              "Name: idade, dtype: int64"
            ]
          },
          "metadata": {},
          "execution_count": 15
        }
      ]
    },
    {
      "cell_type": "code",
      "metadata": {
        "colab": {
          "base_uri": "https://localhost:8080/"
        },
        "id": "1GdlZjCHq4e2",
        "outputId": "67818adf-2db8-4505-e8d0-b5c5b52c0e4d"
      },
      "source": [
        "cadastrados_unique['tamanho_familia'].value_counts()"
      ],
      "execution_count": null,
      "outputs": [
        {
          "output_type": "execute_result",
          "data": {
            "text/plain": [
              "2.0     233846\n",
              "1.0      84471\n",
              "3.0      77112\n",
              "4.0      37345\n",
              "5.0       5080\n",
              "6.0        459\n",
              "7.0        124\n",
              "9.0          9\n",
              "11.0         5\n",
              "8.0          4\n",
              "14.0         4\n",
              "15.0         3\n",
              "20.0         1\n",
              "Name: tamanho_familia, dtype: int64"
            ]
          },
          "metadata": {},
          "execution_count": 16
        }
      ]
    },
    {
      "cell_type": "markdown",
      "metadata": {
        "id": "G4r6uFiwrI4r"
      },
      "source": [
        "Uma análise rápida de .info() com os value_counts dessas duas colunas: idade e tamanho_familia confirma uma suspeita, apesar de estarem como float64 elas são integer, afinal não existe alguém com uma idade e meia ou um filho e meio etc.\n",
        "\n",
        "Vamos tranformá-las e continuar avaliando as outras."
      ]
    },
    {
      "cell_type": "code",
      "metadata": {
        "colab": {
          "base_uri": "https://localhost:8080/"
        },
        "id": "3yx-mZHWq_8g",
        "outputId": "b51a84b8-8eb4-499a-aacc-8a2742c6be24"
      },
      "source": [
        "cadastrados_unique = cadastrados_unique.astype({'idade':'int64','tamanho_familia':'int64'})\n",
        "cadastrados_unique.info()"
      ],
      "execution_count": null,
      "outputs": [
        {
          "output_type": "stream",
          "name": "stdout",
          "text": [
            "<class 'pandas.core.frame.DataFrame'>\n",
            "Int64Index: 438463 entries, 0 to 438556\n",
            "Data columns (total 18 columns):\n",
            " #   Column                 Non-Null Count   Dtype  \n",
            "---  ------                 --------------   -----  \n",
            " 0   id_cliente             438463 non-null  int64  \n",
            " 1   genero                 438463 non-null  object \n",
            " 2   tem_carro              438463 non-null  int64  \n",
            " 3   tem_casa_propria       438463 non-null  int64  \n",
            " 4   qtd_filhos             438463 non-null  int64  \n",
            " 5   rendimento_anual       438463 non-null  float64\n",
            " 6   categoria_de_renda     438463 non-null  object \n",
            " 7   grau_escolaridade      438463 non-null  object \n",
            " 8   estado_civil           438463 non-null  object \n",
            " 9   moradia                438463 non-null  object \n",
            " 10  idade                  438463 non-null  int64  \n",
            " 11  tem_celular            438463 non-null  int64  \n",
            " 12  tem_telefone_trabalho  438463 non-null  int64  \n",
            " 13  tem_telefone_fixo      438463 non-null  int64  \n",
            " 14  tem_email              438463 non-null  int64  \n",
            " 15  ocupacao               438463 non-null  object \n",
            " 16  tamanho_familia        438463 non-null  int64  \n",
            " 17  anos_empregado         438463 non-null  float64\n",
            "dtypes: float64(2), int64(10), object(6)\n",
            "memory usage: 63.6+ MB\n"
          ]
        }
      ]
    },
    {
      "cell_type": "code",
      "metadata": {
        "colab": {
          "base_uri": "https://localhost:8080/"
        },
        "id": "kdayJAG_r6r_",
        "outputId": "6952b7a4-1ee9-432c-df61-97fb22f410ba"
      },
      "source": [
        "#colunas genero, tem_carro, tem_casa_propria, tem_celular, tem_telefone_trabalho, tem_telefone_fixo, tem_email suspeitamos serem cat binárias, vamos confirmar\n",
        "cadastrados_unique['genero'].value_counts()\n",
        "#pelas regras do BC não podemos ter essa coluna no modelo"
      ],
      "execution_count": null,
      "outputs": [
        {
          "output_type": "execute_result",
          "data": {
            "text/plain": [
              "M    294378\n",
              "H    144085\n",
              "Name: genero, dtype: int64"
            ]
          },
          "metadata": {},
          "execution_count": 18
        }
      ]
    },
    {
      "cell_type": "code",
      "metadata": {
        "id": "ovaycUMnUSEr"
      },
      "source": [
        "cadastrados_unique = cadastrados_unique.drop(columns=['genero'])"
      ],
      "execution_count": null,
      "outputs": []
    },
    {
      "cell_type": "code",
      "metadata": {
        "colab": {
          "base_uri": "https://localhost:8080/"
        },
        "id": "RDU-tpfktGEM",
        "outputId": "9fee1d9c-d6f2-4c23-c6cb-caa538fde5cf"
      },
      "source": [
        "cadastrados_unique['tem_celular'].value_counts()"
      ],
      "execution_count": null,
      "outputs": [
        {
          "output_type": "execute_result",
          "data": {
            "text/plain": [
              "1    438463\n",
              "Name: tem_celular, dtype: int64"
            ]
          },
          "metadata": {},
          "execution_count": 20
        }
      ]
    },
    {
      "cell_type": "markdown",
      "metadata": {
        "id": "agF5I43kTdVh"
      },
      "source": [
        "Importante notarmos aqui que essa coluna é inútil para o modelo, se todos tem celular ela não é relevante para o modelo. Não há conclusões a serem tiradas dela portanto, vamos excluí-la."
      ]
    },
    {
      "cell_type": "code",
      "metadata": {
        "id": "7etVdTgXTu0K"
      },
      "source": [
        "cadastrados_unique = cadastrados_unique.drop(columns=['tem_celular'])"
      ],
      "execution_count": null,
      "outputs": []
    },
    {
      "cell_type": "code",
      "metadata": {
        "colab": {
          "base_uri": "https://localhost:8080/"
        },
        "id": "ZbLxxlRttjFu",
        "outputId": "52715d45-3570-4341-91cd-bf479772c1a9"
      },
      "source": [
        "cadastrados_unique['tem_telefone_trabalho'].value_counts()"
      ],
      "execution_count": null,
      "outputs": [
        {
          "output_type": "execute_result",
          "data": {
            "text/plain": [
              "0    348083\n",
              "1     90380\n",
              "Name: tem_telefone_trabalho, dtype: int64"
            ]
          },
          "metadata": {},
          "execution_count": 22
        }
      ]
    },
    {
      "cell_type": "code",
      "metadata": {
        "colab": {
          "base_uri": "https://localhost:8080/"
        },
        "id": "YC0xGCiLtl2s",
        "outputId": "653b62b6-8ccb-4d0a-af58-87e59ad01aba"
      },
      "source": [
        "cadastrados_unique['tem_telefone_fixo'].value_counts()"
      ],
      "execution_count": null,
      "outputs": [
        {
          "output_type": "execute_result",
          "data": {
            "text/plain": [
              "0    312290\n",
              "1    126173\n",
              "Name: tem_telefone_fixo, dtype: int64"
            ]
          },
          "metadata": {},
          "execution_count": 23
        }
      ]
    },
    {
      "cell_type": "code",
      "metadata": {
        "colab": {
          "base_uri": "https://localhost:8080/"
        },
        "id": "uYkhHPuStqZH",
        "outputId": "fa12f0b0-e551-44f1-8e73-8e55202a6fcb"
      },
      "source": [
        "cadastrados_unique['tem_email'].value_counts()"
      ],
      "execution_count": null,
      "outputs": [
        {
          "output_type": "execute_result",
          "data": {
            "text/plain": [
              "0    391023\n",
              "1     47440\n",
              "Name: tem_email, dtype: int64"
            ]
          },
          "metadata": {},
          "execution_count": 24
        }
      ]
    },
    {
      "cell_type": "markdown",
      "metadata": {
        "id": "FqNc6dvytwR0"
      },
      "source": [
        "Todas essas são realmente binárias e como esperado a coluna de tem_celular não tem 0, seria muito difícil um cliente ter acesso a um banco sem um celular."
      ]
    },
    {
      "cell_type": "markdown",
      "metadata": {
        "id": "TgmIUOo1xbi1"
      },
      "source": [
        "Vamos salvar essas colunas numa lista para se necessário acessá-las mais rápido no futuro."
      ]
    },
    {
      "cell_type": "code",
      "metadata": {
        "id": "BBGyuuIXxh2X"
      },
      "source": [
        "cat_binary_columns = ['tem_carro', 'tem_casa_propria', 'tem_telefone_trabalho', 'tem_telefone_fixo', 'tem_email']"
      ],
      "execution_count": null,
      "outputs": []
    },
    {
      "cell_type": "code",
      "metadata": {
        "colab": {
          "base_uri": "https://localhost:8080/"
        },
        "id": "wsaaFI-JubHR",
        "outputId": "3a8ddefb-a31b-45be-b5e1-ec3915b9b1a6"
      },
      "source": [
        "cadastrados_unique.info()"
      ],
      "execution_count": null,
      "outputs": [
        {
          "output_type": "stream",
          "name": "stdout",
          "text": [
            "<class 'pandas.core.frame.DataFrame'>\n",
            "Int64Index: 438463 entries, 0 to 438556\n",
            "Data columns (total 16 columns):\n",
            " #   Column                 Non-Null Count   Dtype  \n",
            "---  ------                 --------------   -----  \n",
            " 0   id_cliente             438463 non-null  int64  \n",
            " 1   tem_carro              438463 non-null  int64  \n",
            " 2   tem_casa_propria       438463 non-null  int64  \n",
            " 3   qtd_filhos             438463 non-null  int64  \n",
            " 4   rendimento_anual       438463 non-null  float64\n",
            " 5   categoria_de_renda     438463 non-null  object \n",
            " 6   grau_escolaridade      438463 non-null  object \n",
            " 7   estado_civil           438463 non-null  object \n",
            " 8   moradia                438463 non-null  object \n",
            " 9   idade                  438463 non-null  int64  \n",
            " 10  tem_telefone_trabalho  438463 non-null  int64  \n",
            " 11  tem_telefone_fixo      438463 non-null  int64  \n",
            " 12  tem_email              438463 non-null  int64  \n",
            " 13  ocupacao               438463 non-null  object \n",
            " 14  tamanho_familia        438463 non-null  int64  \n",
            " 15  anos_empregado         438463 non-null  float64\n",
            "dtypes: float64(2), int64(9), object(5)\n",
            "memory usage: 56.9+ MB\n"
          ]
        }
      ]
    },
    {
      "cell_type": "code",
      "metadata": {
        "colab": {
          "base_uri": "https://localhost:8080/"
        },
        "id": "MUxfZke-uikr",
        "outputId": "f916ecd4-fcd7-4006-9398-d903e4e5bcb9"
      },
      "source": [
        "#colunas categoria_de_renda, estado_civil, moradia, ocupacao e grau_escolaridade provavelmente são categóricas não-binárias\n",
        "cadastrados_unique['categoria_de_renda'].unique()"
      ],
      "execution_count": null,
      "outputs": [
        {
          "output_type": "execute_result",
          "data": {
            "text/plain": [
              "array(['Empregado', 'Associado comercial', 'Pensionista',\n",
              "       'Servidor publico', 'Estudante'], dtype=object)"
            ]
          },
          "metadata": {},
          "execution_count": 27
        }
      ]
    },
    {
      "cell_type": "code",
      "metadata": {
        "colab": {
          "base_uri": "https://localhost:8080/"
        },
        "id": "ggNjOpjowrIu",
        "outputId": "d2d5a987-2911-4d41-dec8-b7480f7b3950"
      },
      "source": [
        "cadastrados_unique['estado_civil'].unique()"
      ],
      "execution_count": null,
      "outputs": [
        {
          "output_type": "execute_result",
          "data": {
            "text/plain": [
              "array(['Uniao estavel', 'Casado', 'Solteiro', 'Separado', 'Viuvo'],\n",
              "      dtype=object)"
            ]
          },
          "metadata": {},
          "execution_count": 28
        }
      ]
    },
    {
      "cell_type": "code",
      "metadata": {
        "colab": {
          "base_uri": "https://localhost:8080/"
        },
        "id": "Gm2A00QIwvpH",
        "outputId": "1afa4cdf-801c-4876-cc3c-81157f62a8db"
      },
      "source": [
        "cadastrados_unique['moradia'].unique()"
      ],
      "execution_count": null,
      "outputs": [
        {
          "output_type": "execute_result",
          "data": {
            "text/plain": [
              "array(['Alugado', 'Casa propria', 'Habitacao publica', 'Mora com os pais',\n",
              "       'Cooperativa habitacional', 'Apartamento comercial'], dtype=object)"
            ]
          },
          "metadata": {},
          "execution_count": 29
        }
      ]
    },
    {
      "cell_type": "code",
      "metadata": {
        "colab": {
          "base_uri": "https://localhost:8080/"
        },
        "id": "15xLj-uewx_-",
        "outputId": "87276d77-dff8-4575-f864-f255c0521e0f"
      },
      "source": [
        "cadastrados_unique['ocupacao'].unique()"
      ],
      "execution_count": null,
      "outputs": [
        {
          "output_type": "execute_result",
          "data": {
            "text/plain": [
              "array(['Outros', 'Seguranca', 'Venda', 'Contabilidade',\n",
              "       'Construcao Civil', 'Gerencia', 'Motorista', 'Equipe principal',\n",
              "       'Alta tecnologia', 'Limpeza', 'Servico privado', 'Cozinha',\n",
              "       'Baixa qualificacao', 'Medicina', 'Secretariado', 'Garcom', 'RH',\n",
              "       'Corretor imobiliario', 'TI'], dtype=object)"
            ]
          },
          "metadata": {},
          "execution_count": 30
        }
      ]
    },
    {
      "cell_type": "code",
      "metadata": {
        "colab": {
          "base_uri": "https://localhost:8080/"
        },
        "id": "UPE-dSyByXan",
        "outputId": "7e9a7d64-75fa-4087-c00d-99c6b7481703"
      },
      "source": [
        "cadastrados_unique['grau_escolaridade'].unique()"
      ],
      "execution_count": null,
      "outputs": [
        {
          "output_type": "execute_result",
          "data": {
            "text/plain": [
              "array(['Ensino superior', 'Ensino medio', 'Ensino superior incompleto',\n",
              "       'Ensino fundamental', 'Pos graduacao'], dtype=object)"
            ]
          },
          "metadata": {},
          "execution_count": 31
        }
      ]
    },
    {
      "cell_type": "markdown",
      "metadata": {
        "id": "ZctKIcruw5nV"
      },
      "source": [
        "Todas categóricas, já fica o aviso de que teremos de fazer transformações no momento de aplicar os algoritmos.\n",
        "\n",
        "Vamos salvá-las numa variável para facilitar no futuro."
      ]
    },
    {
      "cell_type": "code",
      "metadata": {
        "id": "ThGRYJGXw1kl"
      },
      "source": [
        "categorical_columns = ['categoria_de_renda', 'estado_civil', 'moradia', 'ocupacao','grau_escolaridade']"
      ],
      "execution_count": null,
      "outputs": []
    },
    {
      "cell_type": "code",
      "metadata": {
        "colab": {
          "base_uri": "https://localhost:8080/"
        },
        "id": "JtAMAxiuxVow",
        "outputId": "fa1990b2-ecb0-42bf-f8c2-3abc703bcad4"
      },
      "source": [
        "cadastrados_unique.info()"
      ],
      "execution_count": null,
      "outputs": [
        {
          "output_type": "stream",
          "name": "stdout",
          "text": [
            "<class 'pandas.core.frame.DataFrame'>\n",
            "Int64Index: 438463 entries, 0 to 438556\n",
            "Data columns (total 16 columns):\n",
            " #   Column                 Non-Null Count   Dtype  \n",
            "---  ------                 --------------   -----  \n",
            " 0   id_cliente             438463 non-null  int64  \n",
            " 1   tem_carro              438463 non-null  int64  \n",
            " 2   tem_casa_propria       438463 non-null  int64  \n",
            " 3   qtd_filhos             438463 non-null  int64  \n",
            " 4   rendimento_anual       438463 non-null  float64\n",
            " 5   categoria_de_renda     438463 non-null  object \n",
            " 6   grau_escolaridade      438463 non-null  object \n",
            " 7   estado_civil           438463 non-null  object \n",
            " 8   moradia                438463 non-null  object \n",
            " 9   idade                  438463 non-null  int64  \n",
            " 10  tem_telefone_trabalho  438463 non-null  int64  \n",
            " 11  tem_telefone_fixo      438463 non-null  int64  \n",
            " 12  tem_email              438463 non-null  int64  \n",
            " 13  ocupacao               438463 non-null  object \n",
            " 14  tamanho_familia        438463 non-null  int64  \n",
            " 15  anos_empregado         438463 non-null  float64\n",
            "dtypes: float64(2), int64(9), object(5)\n",
            "memory usage: 56.9+ MB\n"
          ]
        }
      ]
    },
    {
      "cell_type": "code",
      "metadata": {
        "colab": {
          "base_uri": "https://localhost:8080/"
        },
        "id": "Dcq4FuQNxuMj",
        "outputId": "f4f77686-10f4-492e-87e5-43ae75edcb5b"
      },
      "source": [
        "# colunas qtd_filhos, rendimento_anual, idade, tamanho_familia e anos_empregado são quantitativas\n",
        "cadastrados_unique['qtd_filhos'].unique()"
      ],
      "execution_count": null,
      "outputs": [
        {
          "output_type": "execute_result",
          "data": {
            "text/plain": [
              "array([ 0,  1,  3,  2,  4,  5, 14, 19,  7,  9, 12,  6])"
            ]
          },
          "metadata": {},
          "execution_count": 34
        }
      ]
    },
    {
      "cell_type": "code",
      "metadata": {
        "colab": {
          "base_uri": "https://localhost:8080/"
        },
        "id": "2V18qhBFyykb",
        "outputId": "58368684-baf6-461a-f861-d02bcb949ff4"
      },
      "source": [
        "cadastrados_unique['rendimento_anual'].value_counts()"
      ],
      "execution_count": null,
      "outputs": [
        {
          "output_type": "execute_result",
          "data": {
            "text/plain": [
              "135000.0    46866\n",
              "157500.0    39756\n",
              "180000.0    37907\n",
              "112500.0    36972\n",
              "225000.0    34125\n",
              "            ...  \n",
              "300600.0        1\n",
              "621000.0        1\n",
              "109899.0        1\n",
              "283185.0        1\n",
              "83304.0         1\n",
              "Name: rendimento_anual, Length: 866, dtype: int64"
            ]
          },
          "metadata": {},
          "execution_count": 35
        }
      ]
    },
    {
      "cell_type": "code",
      "metadata": {
        "colab": {
          "base_uri": "https://localhost:8080/"
        },
        "id": "ktGnB-0Cy4eY",
        "outputId": "a488fede-3cb0-4be4-acfa-eeac7fde423d"
      },
      "source": [
        "cadastrados_unique['idade'].unique()"
      ],
      "execution_count": null,
      "outputs": [
        {
          "output_type": "execute_result",
          "data": {
            "text/plain": [
              "array([33, 59, 52, 62, 46, 49, 29, 27, 30, 35, 32, 56, 43, 44, 34, 55, 47,\n",
              "       37, 42, 28, 61, 57, 45, 54, 40, 51, 39, 48, 24, 21, 36, 26, 50, 63,\n",
              "       58, 41, 60, 64, 31, 38, 53, 22, 23, 25, 65, 67, 66, 69, 68])"
            ]
          },
          "metadata": {},
          "execution_count": 36
        }
      ]
    },
    {
      "cell_type": "code",
      "metadata": {
        "colab": {
          "base_uri": "https://localhost:8080/"
        },
        "id": "a4zv_fZgzAay",
        "outputId": "61ad712e-6324-450d-d35b-196210c30d08"
      },
      "source": [
        "cadastrados_unique['tamanho_familia'].unique()"
      ],
      "execution_count": null,
      "outputs": [
        {
          "output_type": "execute_result",
          "data": {
            "text/plain": [
              "array([ 2,  1,  5,  3,  4,  6, 15,  7, 20,  9, 11, 14,  8])"
            ]
          },
          "metadata": {},
          "execution_count": 37
        }
      ]
    },
    {
      "cell_type": "code",
      "metadata": {
        "colab": {
          "base_uri": "https://localhost:8080/"
        },
        "id": "z78MK3nezDx8",
        "outputId": "48dbcc39-fc0c-49a3-920d-2d625b03361a"
      },
      "source": [
        "cadastrados_unique['anos_empregado'].value_counts()"
      ],
      "execution_count": null,
      "outputs": [
        {
          "output_type": "execute_result",
          "data": {
            "text/plain": [
              "-1000.7    75314\n",
              " 0.6        5504\n",
              " 0.5        4639\n",
              " 0.7        4602\n",
              " 1.2        4597\n",
              "           ...  \n",
              " 41.0          3\n",
              " 42.4          3\n",
              " 42.3          2\n",
              " 45.9          1\n",
              " 44.2          1\n",
              "Name: anos_empregado, Length: 429, dtype: int64"
            ]
          },
          "metadata": {},
          "execution_count": 38
        }
      ]
    },
    {
      "cell_type": "markdown",
      "metadata": {
        "id": "lLqt1CpdzOt-"
      },
      "source": [
        "Uma coisa bastante estranha, é que a maioria dos anos_empregados é esse valor de -1000.7, teremos que fazer um tratamento nisso, talvez substituir pela média de anos empregados."
      ]
    },
    {
      "cell_type": "code",
      "metadata": {
        "id": "AGdWrU4dzGTM"
      },
      "source": [
        "#salvando as quantitativas numa variável\n",
        "quant_columns = ['qtd_filhos', 'rendimento_anual', 'idade', 'tamanho_familia', 'anos_empregado']"
      ],
      "execution_count": null,
      "outputs": []
    },
    {
      "cell_type": "markdown",
      "metadata": {
        "id": "zii0uLe059Sh"
      },
      "source": [
        "##Tratando dados incorretos e outliers"
      ]
    },
    {
      "cell_type": "code",
      "metadata": {
        "id": "mx7RMqaFzwn_"
      },
      "source": [
        "#retomando os dados incorretos da coluna anos_empregados\n",
        "#acima pudemos ver que existem 75mil+ dados com o -1000, é plausível que no momento do assign dos dados um erro na database (bastante comum inclusive)\n",
        "#tenha levado à inserção de zeros nesses dados, observando que a coluna é uma float, vamos substituir evitando distorções no dataset esses valores\n",
        "#por -1.7 acatando a hipótese dos zeros a mais.\n",
        "cadastrados_unique['anos_empregado'].replace(-1000.7, -1.7, inplace=True)"
      ],
      "execution_count": null,
      "outputs": []
    },
    {
      "cell_type": "code",
      "metadata": {
        "id": "76_k8JU27G4s",
        "colab": {
          "base_uri": "https://localhost:8080/",
          "height": 297
        },
        "outputId": "ac9912b3-3da0-42cc-b89f-731875a5215d"
      },
      "source": [
        "cadastrados_unique[quant_columns].describe()"
      ],
      "execution_count": null,
      "outputs": [
        {
          "output_type": "execute_result",
          "data": {
            "text/html": [
              "<div>\n",
              "<style scoped>\n",
              "    .dataframe tbody tr th:only-of-type {\n",
              "        vertical-align: middle;\n",
              "    }\n",
              "\n",
              "    .dataframe tbody tr th {\n",
              "        vertical-align: top;\n",
              "    }\n",
              "\n",
              "    .dataframe thead th {\n",
              "        text-align: right;\n",
              "    }\n",
              "</style>\n",
              "<table border=\"1\" class=\"dataframe\">\n",
              "  <thead>\n",
              "    <tr style=\"text-align: right;\">\n",
              "      <th></th>\n",
              "      <th>qtd_filhos</th>\n",
              "      <th>rendimento_anual</th>\n",
              "      <th>idade</th>\n",
              "      <th>tamanho_familia</th>\n",
              "      <th>anos_empregado</th>\n",
              "    </tr>\n",
              "  </thead>\n",
              "  <tbody>\n",
              "    <tr>\n",
              "      <th>count</th>\n",
              "      <td>438463.000000</td>\n",
              "      <td>4.384630e+05</td>\n",
              "      <td>438463.000000</td>\n",
              "      <td>438463.000000</td>\n",
              "      <td>438463.000000</td>\n",
              "    </tr>\n",
              "    <tr>\n",
              "      <th>mean</th>\n",
              "      <td>0.427384</td>\n",
              "      <td>1.875220e+05</td>\n",
              "      <td>43.834032</td>\n",
              "      <td>2.194461</td>\n",
              "      <td>5.660395</td>\n",
              "    </tr>\n",
              "    <tr>\n",
              "      <th>std</th>\n",
              "      <td>0.724879</td>\n",
              "      <td>1.100832e+05</td>\n",
              "      <td>11.472815</td>\n",
              "      <td>0.897194</td>\n",
              "      <td>6.858252</td>\n",
              "    </tr>\n",
              "    <tr>\n",
              "      <th>min</th>\n",
              "      <td>0.000000</td>\n",
              "      <td>2.610000e+04</td>\n",
              "      <td>21.000000</td>\n",
              "      <td>1.000000</td>\n",
              "      <td>-1.700000</td>\n",
              "    </tr>\n",
              "    <tr>\n",
              "      <th>25%</th>\n",
              "      <td>0.000000</td>\n",
              "      <td>1.215000e+05</td>\n",
              "      <td>34.000000</td>\n",
              "      <td>2.000000</td>\n",
              "      <td>1.000000</td>\n",
              "    </tr>\n",
              "    <tr>\n",
              "      <th>50%</th>\n",
              "      <td>0.000000</td>\n",
              "      <td>1.611000e+05</td>\n",
              "      <td>43.000000</td>\n",
              "      <td>2.000000</td>\n",
              "      <td>4.000000</td>\n",
              "    </tr>\n",
              "    <tr>\n",
              "      <th>75%</th>\n",
              "      <td>1.000000</td>\n",
              "      <td>2.250000e+05</td>\n",
              "      <td>53.000000</td>\n",
              "      <td>3.000000</td>\n",
              "      <td>8.500000</td>\n",
              "    </tr>\n",
              "    <tr>\n",
              "      <th>max</th>\n",
              "      <td>19.000000</td>\n",
              "      <td>6.750000e+06</td>\n",
              "      <td>69.000000</td>\n",
              "      <td>20.000000</td>\n",
              "      <td>48.000000</td>\n",
              "    </tr>\n",
              "  </tbody>\n",
              "</table>\n",
              "</div>"
            ],
            "text/plain": [
              "          qtd_filhos  rendimento_anual  ...  tamanho_familia  anos_empregado\n",
              "count  438463.000000      4.384630e+05  ...    438463.000000   438463.000000\n",
              "mean        0.427384      1.875220e+05  ...         2.194461        5.660395\n",
              "std         0.724879      1.100832e+05  ...         0.897194        6.858252\n",
              "min         0.000000      2.610000e+04  ...         1.000000       -1.700000\n",
              "25%         0.000000      1.215000e+05  ...         2.000000        1.000000\n",
              "50%         0.000000      1.611000e+05  ...         2.000000        4.000000\n",
              "75%         1.000000      2.250000e+05  ...         3.000000        8.500000\n",
              "max        19.000000      6.750000e+06  ...        20.000000       48.000000\n",
              "\n",
              "[8 rows x 5 columns]"
            ]
          },
          "metadata": {},
          "execution_count": 41
        }
      ]
    },
    {
      "cell_type": "markdown",
      "metadata": {
        "id": "EAf8Z-cAC2ri"
      },
      "source": [
        "Valores de anos empregados corrigidos, vamos analisar e tratar outros dados, dessa vez outliers, nas colunas de rendimento_anual e tamanho_familia."
      ]
    },
    {
      "cell_type": "code",
      "metadata": {
        "colab": {
          "base_uri": "https://localhost:8080/",
          "height": 431
        },
        "id": "OwlIns7kCd8y",
        "outputId": "0f6b5918-ed70-447a-815d-fe360a965132"
      },
      "source": [
        "#Tamanho_familia\n",
        "fig, ax = plt.subplots(1,2, figsize=(10,6))\n",
        "\n",
        "ax[0] = sns.histplot(ax=ax[0], data=cadastrados_unique, x='tamanho_familia',bins=20)\n",
        "ax[1] = sns.boxplot(ax=ax[1], data=cadastrados_unique, x='tamanho_familia')\n",
        "ax[0].set_xlabel('Tamanho da família')\n",
        "ax[0].set_ylabel(\"Total de ID's\")\n",
        "ax[1].set_xlabel('Tamanho da família')\n",
        "plt.suptitle('Tamanho da Família', fontsize=20)\n",
        "sns.despine()\n",
        "plt.show()"
      ],
      "execution_count": null,
      "outputs": [
        {
          "output_type": "display_data",
          "data": {
            "application/javascript": [
              "\n",
              "        if (window._pyforest_update_imports_cell) { window._pyforest_update_imports_cell('import pandas as pd\\nimport matplotlib.pyplot as plt'); }\n",
              "    "
            ],
            "text/plain": [
              "<IPython.core.display.Javascript object>"
            ]
          },
          "metadata": {}
        },
        {
          "output_type": "display_data",
          "data": {
            "application/javascript": [
              "\n",
              "        if (window._pyforest_update_imports_cell) { window._pyforest_update_imports_cell('import seaborn as sns\\nimport pandas as pd\\nimport matplotlib.pyplot as plt'); }\n",
              "    "
            ],
            "text/plain": [
              "<IPython.core.display.Javascript object>"
            ]
          },
          "metadata": {}
        },
        {
          "output_type": "display_data",
          "data": {
            "application/javascript": [
              "\n",
              "        if (window._pyforest_update_imports_cell) { window._pyforest_update_imports_cell('import seaborn as sns\\nimport pandas as pd\\nimport matplotlib.pyplot as plt'); }\n",
              "    "
            ],
            "text/plain": [
              "<IPython.core.display.Javascript object>"
            ]
          },
          "metadata": {}
        },
        {
          "output_type": "display_data",
          "data": {
            "application/javascript": [
              "\n",
              "        if (window._pyforest_update_imports_cell) { window._pyforest_update_imports_cell('import seaborn as sns\\nimport pandas as pd\\nimport matplotlib.pyplot as plt'); }\n",
              "    "
            ],
            "text/plain": [
              "<IPython.core.display.Javascript object>"
            ]
          },
          "metadata": {}
        },
        {
          "output_type": "display_data",
          "data": {
            "application/javascript": [
              "\n",
              "        if (window._pyforest_update_imports_cell) { window._pyforest_update_imports_cell('import seaborn as sns\\nimport pandas as pd\\nimport matplotlib.pyplot as plt'); }\n",
              "    "
            ],
            "text/plain": [
              "<IPython.core.display.Javascript object>"
            ]
          },
          "metadata": {}
        },
        {
          "output_type": "display_data",
          "data": {
            "application/javascript": [
              "\n",
              "        if (window._pyforest_update_imports_cell) { window._pyforest_update_imports_cell('import seaborn as sns\\nimport pandas as pd\\nimport matplotlib.pyplot as plt'); }\n",
              "    "
            ],
            "text/plain": [
              "<IPython.core.display.Javascript object>"
            ]
          },
          "metadata": {}
        },
        {
          "output_type": "display_data",
          "data": {
            "image/png": "[encoded data removed]",
            "text/plain": [
              "<Figure size 720x432 with 2 Axes>"
            ]
          },
          "metadata": {
            "needs_background": "light"
          }
        }
      ]
    },
    {
      "cell_type": "code",
      "metadata": {
        "colab": {
          "base_uri": "https://localhost:8080/",
          "height": 431
        },
        "id": "tJ5z5wZXEe_E",
        "outputId": "d5091881-eb93-4d72-be23-09adee779d63"
      },
      "source": [
        "#Rendimento anual\n",
        "fig, ax = plt.subplots(1,2, figsize=(10,6))\n",
        "\n",
        "ax[0] = sns.histplot(ax=ax[0], data=cadastrados_unique, x='rendimento_anual', bins=10)\n",
        "ax[1] = sns.boxplot(ax=ax[1], data=cadastrados_unique, x='rendimento_anual')\n",
        "ax[0].set_ylabel(\"Total de ID's\")\n",
        "ax[0].set_xlabel('Rendimento anual')\n",
        "ax[1].set_xlabel('Rendimento anual')\n",
        "plt.suptitle('Rendimento anual', fontsize=20)\n",
        "sns.despine()\n",
        "plt.show()"
      ],
      "execution_count": null,
      "outputs": [
        {
          "output_type": "display_data",
          "data": {
            "application/javascript": [
              "\n",
              "        if (window._pyforest_update_imports_cell) { window._pyforest_update_imports_cell('import seaborn as sns\\nimport pandas as pd\\nimport matplotlib.pyplot as plt'); }\n",
              "    "
            ],
            "text/plain": [
              "<IPython.core.display.Javascript object>"
            ]
          },
          "metadata": {}
        },
        {
          "output_type": "display_data",
          "data": {
            "application/javascript": [
              "\n",
              "        if (window._pyforest_update_imports_cell) { window._pyforest_update_imports_cell('import seaborn as sns\\nimport pandas as pd\\nimport matplotlib.pyplot as plt'); }\n",
              "    "
            ],
            "text/plain": [
              "<IPython.core.display.Javascript object>"
            ]
          },
          "metadata": {}
        },
        {
          "output_type": "display_data",
          "data": {
            "application/javascript": [
              "\n",
              "        if (window._pyforest_update_imports_cell) { window._pyforest_update_imports_cell('import seaborn as sns\\nimport pandas as pd\\nimport matplotlib.pyplot as plt'); }\n",
              "    "
            ],
            "text/plain": [
              "<IPython.core.display.Javascript object>"
            ]
          },
          "metadata": {}
        },
        {
          "output_type": "display_data",
          "data": {
            "application/javascript": [
              "\n",
              "        if (window._pyforest_update_imports_cell) { window._pyforest_update_imports_cell('import seaborn as sns\\nimport pandas as pd\\nimport matplotlib.pyplot as plt'); }\n",
              "    "
            ],
            "text/plain": [
              "<IPython.core.display.Javascript object>"
            ]
          },
          "metadata": {}
        },
        {
          "output_type": "display_data",
          "data": {
            "application/javascript": [
              "\n",
              "        if (window._pyforest_update_imports_cell) { window._pyforest_update_imports_cell('import seaborn as sns\\nimport pandas as pd\\nimport matplotlib.pyplot as plt'); }\n",
              "    "
            ],
            "text/plain": [
              "<IPython.core.display.Javascript object>"
            ]
          },
          "metadata": {}
        },
        {
          "output_type": "display_data",
          "data": {
            "application/javascript": [
              "\n",
              "        if (window._pyforest_update_imports_cell) { window._pyforest_update_imports_cell('import seaborn as sns\\nimport pandas as pd\\nimport matplotlib.pyplot as plt'); }\n",
              "    "
            ],
            "text/plain": [
              "<IPython.core.display.Javascript object>"
            ]
          },
          "metadata": {}
        },
        {
          "output_type": "display_data",
          "data": {
            "image/png": "[encoded data removed]",
            "text/plain": [
              "<Figure size 720x432 with 2 Axes>"
            ]
          },
          "metadata": {
            "needs_background": "light"
          }
        }
      ]
    },
    {
      "cell_type": "markdown",
      "metadata": {
        "id": "aq73ZaHbFb80"
      },
      "source": [
        "No rendimento anual podemos perceber que há muitos outliers principalmente até 2e6 que estão distorcendo a média e a mediana."
      ]
    },
    {
      "cell_type": "code",
      "metadata": {
        "colab": {
          "base_uri": "https://localhost:8080/"
        },
        "id": "AyRkj_npFbS1",
        "outputId": "74b87b8a-35e2-4ed3-9e19-f3e9db60d977"
      },
      "source": [
        "#tratando outliers no rendimento anual\n",
        "#uma forma usual de tratar outliers é a de excluir todos aqueles que estiverem a dois desvio-padrão da média.\n",
        "#Porém nesse caso, pensando no negócio, excluir clientes com muita alta renda não é a melhor forma, por isso vamos substituir os valores pela mediana.\n",
        "\n",
        "media_rendimentos = cadastrados_unique['rendimento_anual'].mean()\n",
        "std_rendimentos = cadastrados_unique['rendimento_anual'].std()\n",
        "\n",
        "lista_outliers = [ index for index,valor in cadastrados_unique['rendimento_anual'].items() \n",
        "                  if valor > (media_rendimentos+(2*std_rendimentos)) \n",
        "                  or valor < (media_rendimentos-(2*std_rendimentos))\n",
        "                  ]\n",
        "len(lista_outliers)"
      ],
      "execution_count": null,
      "outputs": [
        {
          "output_type": "execute_result",
          "data": {
            "text/plain": [
              "12641"
            ]
          },
          "metadata": {},
          "execution_count": 44
        }
      ]
    },
    {
      "cell_type": "code",
      "metadata": {
        "id": "G3hxiwQZHKIp"
      },
      "source": [
        "#substituindo pela mediana\n",
        "cadastrados_clean_v1 = cadastrados_unique.copy()\n",
        "cadastrados_clean_v1.loc[lista_outliers,'rendimento_anual'] = cadastrados_clean_v1['rendimento_anual'].median()"
      ],
      "execution_count": null,
      "outputs": []
    },
    {
      "cell_type": "code",
      "metadata": {
        "colab": {
          "base_uri": "https://localhost:8080/",
          "height": 455
        },
        "id": "mqVVlL4jOiZ2",
        "outputId": "4738a348-b252-4a5e-d672-03f107f336a1"
      },
      "source": [
        "#Rendimento anual corrigido\n",
        "fig, ax = plt.subplots(1,2, figsize=(10,6))\n",
        "\n",
        "ax[0] = sns.histplot(ax=ax[0], data=cadastrados_clean_v1, x='rendimento_anual', bins=10)\n",
        "ax[1] = sns.boxplot(ax=ax[1], data=cadastrados_clean_v1, x='rendimento_anual')\n",
        "ax[0].set_ylabel(\"Total de ID's\")\n",
        "ax[0].set_xlabel('Rendimento anual')\n",
        "ax[1].set_xlabel('Rendimento anual')\n",
        "ax[0].tick_params('x', rotation=45)\n",
        "plt.suptitle('Rendimento anual', fontsize=20)\n",
        "sns.despine()\n",
        "plt.show()"
      ],
      "execution_count": null,
      "outputs": [
        {
          "output_type": "display_data",
          "data": {
            "application/javascript": [
              "\n",
              "        if (window._pyforest_update_imports_cell) { window._pyforest_update_imports_cell('import seaborn as sns\\nimport pandas as pd\\nimport matplotlib.pyplot as plt'); }\n",
              "    "
            ],
            "text/plain": [
              "<IPython.core.display.Javascript object>"
            ]
          },
          "metadata": {}
        },
        {
          "output_type": "display_data",
          "data": {
            "application/javascript": [
              "\n",
              "        if (window._pyforest_update_imports_cell) { window._pyforest_update_imports_cell('import seaborn as sns\\nimport pandas as pd\\nimport matplotlib.pyplot as plt'); }\n",
              "    "
            ],
            "text/plain": [
              "<IPython.core.display.Javascript object>"
            ]
          },
          "metadata": {}
        },
        {
          "output_type": "display_data",
          "data": {
            "application/javascript": [
              "\n",
              "        if (window._pyforest_update_imports_cell) { window._pyforest_update_imports_cell('import seaborn as sns\\nimport pandas as pd\\nimport matplotlib.pyplot as plt'); }\n",
              "    "
            ],
            "text/plain": [
              "<IPython.core.display.Javascript object>"
            ]
          },
          "metadata": {}
        },
        {
          "output_type": "display_data",
          "data": {
            "application/javascript": [
              "\n",
              "        if (window._pyforest_update_imports_cell) { window._pyforest_update_imports_cell('import seaborn as sns\\nimport pandas as pd\\nimport matplotlib.pyplot as plt'); }\n",
              "    "
            ],
            "text/plain": [
              "<IPython.core.display.Javascript object>"
            ]
          },
          "metadata": {}
        },
        {
          "output_type": "display_data",
          "data": {
            "application/javascript": [
              "\n",
              "        if (window._pyforest_update_imports_cell) { window._pyforest_update_imports_cell('import seaborn as sns\\nimport pandas as pd\\nimport matplotlib.pyplot as plt'); }\n",
              "    "
            ],
            "text/plain": [
              "<IPython.core.display.Javascript object>"
            ]
          },
          "metadata": {}
        },
        {
          "output_type": "display_data",
          "data": {
            "application/javascript": [
              "\n",
              "        if (window._pyforest_update_imports_cell) { window._pyforest_update_imports_cell('import seaborn as sns\\nimport pandas as pd\\nimport matplotlib.pyplot as plt'); }\n",
              "    "
            ],
            "text/plain": [
              "<IPython.core.display.Javascript object>"
            ]
          },
          "metadata": {}
        },
        {
          "output_type": "display_data",
          "data": {
            "image/png": "[encoded data removed]",
            "text/plain": [
              "<Figure size 720x432 with 2 Axes>"
            ]
          },
          "metadata": {
            "needs_background": "light"
          }
        }
      ]
    },
    {
      "cell_type": "markdown",
      "metadata": {
        "id": "m7AdlRRUXZiP"
      },
      "source": [
        "##Aprofundando a análise exploratória\n",
        "\n",
        "---\n",
        "Vamos agora observar melhor as váriaveis categóricas e também combinar com algumas quantitativas.\n"
      ]
    },
    {
      "cell_type": "code",
      "metadata": {
        "colab": {
          "base_uri": "https://localhost:8080/"
        },
        "id": "iv5soeLBP_CS",
        "outputId": "ae791d87-9616-4adb-b8c9-b0a404c9a1fd"
      },
      "source": [
        "categorical_columns"
      ],
      "execution_count": null,
      "outputs": [
        {
          "output_type": "execute_result",
          "data": {
            "text/plain": [
              "['categoria_de_renda',\n",
              " 'estado_civil',\n",
              " 'moradia',\n",
              " 'ocupacao',\n",
              " 'grau_escolaridade']"
            ]
          },
          "metadata": {},
          "execution_count": 47
        }
      ]
    },
    {
      "cell_type": "code",
      "metadata": {
        "id": "D0TO45QxX44j",
        "colab": {
          "base_uri": "https://localhost:8080/",
          "height": 17
        },
        "outputId": "5d0b4b59-f3b7-459f-f265-3e2bd1c56179"
      },
      "source": [
        "def plota_countplot(eixo_x: pd.Series, titulo: str, xlabel: str, paleta:'mpl_colormap'='Set1', order=None):\n",
        "  \"\"\" Função para visualizar as variáveis categóricas do dataset \n",
        "  \"\"\"\n",
        "  fig, ax = plt.subplots(figsize=(14,6))\n",
        "  sns.countplot(ax=ax, x=eixo_x, palette=paleta, order=order)\n",
        "  ax.set_title(titulo, fontsize=14)\n",
        "  ax.set_xlabel(xlabel, fontsize=11)\n",
        "  ax.set_ylabel(\"Total de ID's\", fontsize=11)\n",
        "  \n",
        "  plt.tick_params('x', rotation=45)\n",
        "  sns.despine()\n",
        "  plt.show()"
      ],
      "execution_count": null,
      "outputs": [
        {
          "output_type": "display_data",
          "data": {
            "application/javascript": [
              "\n",
              "        if (window._pyforest_update_imports_cell) { window._pyforest_update_imports_cell('import seaborn as sns\\nimport pandas as pd\\nimport matplotlib.pyplot as plt'); }\n",
              "    "
            ],
            "text/plain": [
              "<IPython.core.display.Javascript object>"
            ]
          },
          "metadata": {}
        }
      ]
    },
    {
      "cell_type": "code",
      "metadata": {
        "colab": {
          "base_uri": "https://localhost:8080/",
          "height": 474
        },
        "id": "Nc4UtNXtYyGW",
        "outputId": "5ef6e11d-8c16-4575-f9a9-a7e6c30baf4b"
      },
      "source": [
        "plota_countplot(cadastrados_clean_v1['categoria_de_renda'], 'Categoria de Renda', 'categoria')"
      ],
      "execution_count": null,
      "outputs": [
        {
          "output_type": "display_data",
          "data": {
            "application/javascript": [
              "\n",
              "        if (window._pyforest_update_imports_cell) { window._pyforest_update_imports_cell('import seaborn as sns\\nimport pandas as pd\\nimport matplotlib.pyplot as plt'); }\n",
              "    "
            ],
            "text/plain": [
              "<IPython.core.display.Javascript object>"
            ]
          },
          "metadata": {}
        },
        {
          "output_type": "display_data",
          "data": {
            "application/javascript": [
              "\n",
              "        if (window._pyforest_update_imports_cell) { window._pyforest_update_imports_cell('import seaborn as sns\\nimport pandas as pd\\nimport matplotlib.pyplot as plt'); }\n",
              "    "
            ],
            "text/plain": [
              "<IPython.core.display.Javascript object>"
            ]
          },
          "metadata": {}
        },
        {
          "output_type": "display_data",
          "data": {
            "application/javascript": [
              "\n",
              "        if (window._pyforest_update_imports_cell) { window._pyforest_update_imports_cell('import seaborn as sns\\nimport pandas as pd\\nimport matplotlib.pyplot as plt'); }\n",
              "    "
            ],
            "text/plain": [
              "<IPython.core.display.Javascript object>"
            ]
          },
          "metadata": {}
        },
        {
          "output_type": "display_data",
          "data": {
            "application/javascript": [
              "\n",
              "        if (window._pyforest_update_imports_cell) { window._pyforest_update_imports_cell('import seaborn as sns\\nimport pandas as pd\\nimport matplotlib.pyplot as plt'); }\n",
              "    "
            ],
            "text/plain": [
              "<IPython.core.display.Javascript object>"
            ]
          },
          "metadata": {}
        },
        {
          "output_type": "display_data",
          "data": {
            "application/javascript": [
              "\n",
              "        if (window._pyforest_update_imports_cell) { window._pyforest_update_imports_cell('import seaborn as sns\\nimport pandas as pd\\nimport matplotlib.pyplot as plt'); }\n",
              "    "
            ],
            "text/plain": [
              "<IPython.core.display.Javascript object>"
            ]
          },
          "metadata": {}
        },
        {
          "output_type": "display_data",
          "data": {
            "image/png": "[encoded data removed]",
            "text/plain": [
              "<Figure size 1008x432 with 1 Axes>"
            ]
          },
          "metadata": {
            "needs_background": "light"
          }
        }
      ]
    },
    {
      "cell_type": "markdown",
      "metadata": {
        "id": "425SOo-Abf6K"
      },
      "source": [
        "A maioria dos clientes são empregados, o que segue o padrão esperado de que a maioria das pessoas sejam empregadas, uma visão interessante seria se tivessémos um divisão desses empregados entre informais e formais."
      ]
    },
    {
      "cell_type": "code",
      "metadata": {
        "colab": {
          "base_uri": "https://localhost:8080/",
          "height": 450
        },
        "id": "iiKo2wi3Zqxj",
        "outputId": "e7a41f46-e6d8-456e-eaf0-0bebd8caad91"
      },
      "source": [
        "plota_countplot(cadastrados_clean_v1['estado_civil'].sort_values(), 'Estado Civil', 'Condição civil')"
      ],
      "execution_count": null,
      "outputs": [
        {
          "output_type": "display_data",
          "data": {
            "application/javascript": [
              "\n",
              "        if (window._pyforest_update_imports_cell) { window._pyforest_update_imports_cell('import seaborn as sns\\nimport pandas as pd\\nimport matplotlib.pyplot as plt'); }\n",
              "    "
            ],
            "text/plain": [
              "<IPython.core.display.Javascript object>"
            ]
          },
          "metadata": {}
        },
        {
          "output_type": "display_data",
          "data": {
            "application/javascript": [
              "\n",
              "        if (window._pyforest_update_imports_cell) { window._pyforest_update_imports_cell('import seaborn as sns\\nimport pandas as pd\\nimport matplotlib.pyplot as plt'); }\n",
              "    "
            ],
            "text/plain": [
              "<IPython.core.display.Javascript object>"
            ]
          },
          "metadata": {}
        },
        {
          "output_type": "display_data",
          "data": {
            "application/javascript": [
              "\n",
              "        if (window._pyforest_update_imports_cell) { window._pyforest_update_imports_cell('import seaborn as sns\\nimport pandas as pd\\nimport matplotlib.pyplot as plt'); }\n",
              "    "
            ],
            "text/plain": [
              "<IPython.core.display.Javascript object>"
            ]
          },
          "metadata": {}
        },
        {
          "output_type": "display_data",
          "data": {
            "application/javascript": [
              "\n",
              "        if (window._pyforest_update_imports_cell) { window._pyforest_update_imports_cell('import seaborn as sns\\nimport pandas as pd\\nimport matplotlib.pyplot as plt'); }\n",
              "    "
            ],
            "text/plain": [
              "<IPython.core.display.Javascript object>"
            ]
          },
          "metadata": {}
        },
        {
          "output_type": "display_data",
          "data": {
            "application/javascript": [
              "\n",
              "        if (window._pyforest_update_imports_cell) { window._pyforest_update_imports_cell('import seaborn as sns\\nimport pandas as pd\\nimport matplotlib.pyplot as plt'); }\n",
              "    "
            ],
            "text/plain": [
              "<IPython.core.display.Javascript object>"
            ]
          },
          "metadata": {}
        },
        {
          "output_type": "display_data",
          "data": {
            "image/png": "[encoded data removed]",
            "text/plain": [
              "<Figure size 1008x432 with 1 Axes>"
            ]
          },
          "metadata": {
            "needs_background": "light"
          }
        }
      ]
    },
    {
      "cell_type": "markdown",
      "metadata": {
        "id": "4LjOVB17b06A"
      },
      "source": [
        "Maioria absoluta dos clientes são casados."
      ]
    },
    {
      "cell_type": "code",
      "metadata": {
        "colab": {
          "base_uri": "https://localhost:8080/",
          "height": 490
        },
        "id": "ShWQ5UYIbPYW",
        "outputId": "3d3f8624-8582-469d-93da-f548957fce38"
      },
      "source": [
        "plota_countplot(cadastrados_clean_v1['moradia'], 'Moradia', 'moradia')"
      ],
      "execution_count": null,
      "outputs": [
        {
          "output_type": "display_data",
          "data": {
            "application/javascript": [
              "\n",
              "        if (window._pyforest_update_imports_cell) { window._pyforest_update_imports_cell('import seaborn as sns\\nimport pandas as pd\\nimport matplotlib.pyplot as plt'); }\n",
              "    "
            ],
            "text/plain": [
              "<IPython.core.display.Javascript object>"
            ]
          },
          "metadata": {}
        },
        {
          "output_type": "display_data",
          "data": {
            "application/javascript": [
              "\n",
              "        if (window._pyforest_update_imports_cell) { window._pyforest_update_imports_cell('import seaborn as sns\\nimport pandas as pd\\nimport matplotlib.pyplot as plt'); }\n",
              "    "
            ],
            "text/plain": [
              "<IPython.core.display.Javascript object>"
            ]
          },
          "metadata": {}
        },
        {
          "output_type": "display_data",
          "data": {
            "application/javascript": [
              "\n",
              "        if (window._pyforest_update_imports_cell) { window._pyforest_update_imports_cell('import seaborn as sns\\nimport pandas as pd\\nimport matplotlib.pyplot as plt'); }\n",
              "    "
            ],
            "text/plain": [
              "<IPython.core.display.Javascript object>"
            ]
          },
          "metadata": {}
        },
        {
          "output_type": "display_data",
          "data": {
            "application/javascript": [
              "\n",
              "        if (window._pyforest_update_imports_cell) { window._pyforest_update_imports_cell('import seaborn as sns\\nimport pandas as pd\\nimport matplotlib.pyplot as plt'); }\n",
              "    "
            ],
            "text/plain": [
              "<IPython.core.display.Javascript object>"
            ]
          },
          "metadata": {}
        },
        {
          "output_type": "display_data",
          "data": {
            "application/javascript": [
              "\n",
              "        if (window._pyforest_update_imports_cell) { window._pyforest_update_imports_cell('import seaborn as sns\\nimport pandas as pd\\nimport matplotlib.pyplot as plt'); }\n",
              "    "
            ],
            "text/plain": [
              "<IPython.core.display.Javascript object>"
            ]
          },
          "metadata": {}
        },
        {
          "output_type": "display_data",
          "data": {
            "image/png": "[encoded data removed]",
            "text/plain": [
              "<Figure size 1008x432 with 1 Axes>"
            ]
          },
          "metadata": {
            "needs_background": "light"
          }
        }
      ]
    },
    {
      "cell_type": "markdown",
      "metadata": {
        "id": "2-e8Jkawcp-m"
      },
      "source": [
        "Esse dado é importante para o negócio, novamente uma sub-divisão seria boa, casa própria quitada ou eles tem parte da renda comprometida por parcelas (quase equivalente ao comprometimento de renda com aluguel)?"
      ]
    },
    {
      "cell_type": "code",
      "metadata": {
        "colab": {
          "base_uri": "https://localhost:8080/",
          "height": 470
        },
        "id": "mnn6GafNcOSr",
        "outputId": "7027cc6e-fd6f-4bdb-8579-9f6ad68ff736"
      },
      "source": [
        "plota_countplot(cadastrados_clean_v1['ocupacao'], 'Ocupação', 'Classes de Ocupação',\n",
        "                order=cadastrados_clean_v1['ocupacao'].value_counts().index)"
      ],
      "execution_count": null,
      "outputs": [
        {
          "output_type": "display_data",
          "data": {
            "application/javascript": [
              "\n",
              "        if (window._pyforest_update_imports_cell) { window._pyforest_update_imports_cell('import seaborn as sns\\nimport pandas as pd\\nimport matplotlib.pyplot as plt'); }\n",
              "    "
            ],
            "text/plain": [
              "<IPython.core.display.Javascript object>"
            ]
          },
          "metadata": {}
        },
        {
          "output_type": "display_data",
          "data": {
            "application/javascript": [
              "\n",
              "        if (window._pyforest_update_imports_cell) { window._pyforest_update_imports_cell('import seaborn as sns\\nimport pandas as pd\\nimport matplotlib.pyplot as plt'); }\n",
              "    "
            ],
            "text/plain": [
              "<IPython.core.display.Javascript object>"
            ]
          },
          "metadata": {}
        },
        {
          "output_type": "display_data",
          "data": {
            "application/javascript": [
              "\n",
              "        if (window._pyforest_update_imports_cell) { window._pyforest_update_imports_cell('import seaborn as sns\\nimport pandas as pd\\nimport matplotlib.pyplot as plt'); }\n",
              "    "
            ],
            "text/plain": [
              "<IPython.core.display.Javascript object>"
            ]
          },
          "metadata": {}
        },
        {
          "output_type": "display_data",
          "data": {
            "application/javascript": [
              "\n",
              "        if (window._pyforest_update_imports_cell) { window._pyforest_update_imports_cell('import seaborn as sns\\nimport pandas as pd\\nimport matplotlib.pyplot as plt'); }\n",
              "    "
            ],
            "text/plain": [
              "<IPython.core.display.Javascript object>"
            ]
          },
          "metadata": {}
        },
        {
          "output_type": "display_data",
          "data": {
            "application/javascript": [
              "\n",
              "        if (window._pyforest_update_imports_cell) { window._pyforest_update_imports_cell('import seaborn as sns\\nimport pandas as pd\\nimport matplotlib.pyplot as plt'); }\n",
              "    "
            ],
            "text/plain": [
              "<IPython.core.display.Javascript object>"
            ]
          },
          "metadata": {}
        },
        {
          "output_type": "display_data",
          "data": {
            "image/png": "[encoded data removed]",
            "text/plain": [
              "<Figure size 1008x432 with 1 Axes>"
            ]
          },
          "metadata": {
            "needs_background": "light"
          }
        }
      ]
    },
    {
      "cell_type": "markdown",
      "metadata": {
        "id": "V3XZs6tNgMEF"
      },
      "source": [
        "A maioria dos clientes forneceram a classe \"Outros\" como Ocupação, vamos investigar o que isso pode significar:\n",
        "\n",
        "Temos uma hipótese:\n",
        " \n",
        " - São outras profissões que não se estão disponíveis (como educação) e os pensionistas;"
      ]
    },
    {
      "cell_type": "code",
      "metadata": {
        "colab": {
          "base_uri": "https://localhost:8080/",
          "height": 467
        },
        "id": "8Ex-mihadQYt",
        "outputId": "b935484a-ef35-4e75-9858-f01a31fc3c58"
      },
      "source": [
        "df_pensionistas = cadastrados_clean_v1.query(\"categoria_de_renda == 'Pensionista'\")\n",
        "plota_countplot(df_pensionistas['ocupacao'], 'Ocupações dos pensionistas', 'Ocupação')"
      ],
      "execution_count": null,
      "outputs": [
        {
          "output_type": "display_data",
          "data": {
            "application/javascript": [
              "\n",
              "        if (window._pyforest_update_imports_cell) { window._pyforest_update_imports_cell('import seaborn as sns\\nimport pandas as pd\\nimport matplotlib.pyplot as plt'); }\n",
              "    "
            ],
            "text/plain": [
              "<IPython.core.display.Javascript object>"
            ]
          },
          "metadata": {}
        },
        {
          "output_type": "display_data",
          "data": {
            "application/javascript": [
              "\n",
              "        if (window._pyforest_update_imports_cell) { window._pyforest_update_imports_cell('import seaborn as sns\\nimport pandas as pd\\nimport matplotlib.pyplot as plt'); }\n",
              "    "
            ],
            "text/plain": [
              "<IPython.core.display.Javascript object>"
            ]
          },
          "metadata": {}
        },
        {
          "output_type": "display_data",
          "data": {
            "application/javascript": [
              "\n",
              "        if (window._pyforest_update_imports_cell) { window._pyforest_update_imports_cell('import seaborn as sns\\nimport pandas as pd\\nimport matplotlib.pyplot as plt'); }\n",
              "    "
            ],
            "text/plain": [
              "<IPython.core.display.Javascript object>"
            ]
          },
          "metadata": {}
        },
        {
          "output_type": "display_data",
          "data": {
            "application/javascript": [
              "\n",
              "        if (window._pyforest_update_imports_cell) { window._pyforest_update_imports_cell('import seaborn as sns\\nimport pandas as pd\\nimport matplotlib.pyplot as plt'); }\n",
              "    "
            ],
            "text/plain": [
              "<IPython.core.display.Javascript object>"
            ]
          },
          "metadata": {}
        },
        {
          "output_type": "display_data",
          "data": {
            "application/javascript": [
              "\n",
              "        if (window._pyforest_update_imports_cell) { window._pyforest_update_imports_cell('import seaborn as sns\\nimport pandas as pd\\nimport matplotlib.pyplot as plt'); }\n",
              "    "
            ],
            "text/plain": [
              "<IPython.core.display.Javascript object>"
            ]
          },
          "metadata": {}
        },
        {
          "output_type": "display_data",
          "data": {
            "image/png": "[encoded data removed]",
            "text/plain": [
              "<Figure size 1008x432 with 1 Axes>"
            ]
          },
          "metadata": {
            "needs_background": "light"
          }
        }
      ]
    },
    {
      "cell_type": "markdown",
      "metadata": {
        "id": "T7sEV3SDhi5x"
      },
      "source": [
        "Como suspeitamos de cerca de 120 mil \"Outros\" mais de 50% são os pensionistas.\n",
        "\n",
        "Agora sobre as outras profissões vamos olhar a distribuição salarial da base toda com a distribuição dos outros (exceto os pensionistas)."
      ]
    },
    {
      "cell_type": "code",
      "metadata": {
        "colab": {
          "base_uri": "https://localhost:8080/",
          "height": 537
        },
        "id": "vMJDDSZThhhA",
        "outputId": "4554147f-46d3-4ded-cfd2-788c7f336bf3"
      },
      "source": [
        "fig, ax = plt.subplots(1,2, figsize=(20,8))\n",
        "\n",
        "df_sem_pensionistas = cadastrados_clean_v1[cadastrados_clean_v1['categoria_de_renda'] != 'Pensionista']\n",
        "\n",
        "sns.histplot(ax=ax[0], data=cadastrados_clean_v1, x='rendimento_anual', bins=20)\n",
        "sns.histplot(ax=ax[1], data=df_sem_pensionistas, x='rendimento_anual', bins=20, color='orange')\n",
        "\n",
        "ax[0].set_title('Rendimento Anual - base completa')\n",
        "ax[0].set_xlabel('Rendimento')\n",
        "ax[0].set_ylabel(\"Total de ID's\")\n",
        "ax[0].tick_params('x',rotation=45)\n",
        "\n",
        "ax[1].set_title('Rendimento Anual - ocupacação Outros (exceto pensionistas)')\n",
        "ax[1].set_xlabel('Rendimento')\n",
        "ax[1].set_ylabel(\"Total de ID's\")\n",
        "ax[1].tick_params('x',rotation=45)\n",
        "\n",
        "sns.despine()\n",
        "plt.show()"
      ],
      "execution_count": null,
      "outputs": [
        {
          "output_type": "display_data",
          "data": {
            "application/javascript": [
              "\n",
              "        if (window._pyforest_update_imports_cell) { window._pyforest_update_imports_cell('import seaborn as sns\\nimport pandas as pd\\nimport matplotlib.pyplot as plt'); }\n",
              "    "
            ],
            "text/plain": [
              "<IPython.core.display.Javascript object>"
            ]
          },
          "metadata": {}
        },
        {
          "output_type": "display_data",
          "data": {
            "application/javascript": [
              "\n",
              "        if (window._pyforest_update_imports_cell) { window._pyforest_update_imports_cell('import seaborn as sns\\nimport pandas as pd\\nimport matplotlib.pyplot as plt'); }\n",
              "    "
            ],
            "text/plain": [
              "<IPython.core.display.Javascript object>"
            ]
          },
          "metadata": {}
        },
        {
          "output_type": "display_data",
          "data": {
            "application/javascript": [
              "\n",
              "        if (window._pyforest_update_imports_cell) { window._pyforest_update_imports_cell('import seaborn as sns\\nimport pandas as pd\\nimport matplotlib.pyplot as plt'); }\n",
              "    "
            ],
            "text/plain": [
              "<IPython.core.display.Javascript object>"
            ]
          },
          "metadata": {}
        },
        {
          "output_type": "display_data",
          "data": {
            "application/javascript": [
              "\n",
              "        if (window._pyforest_update_imports_cell) { window._pyforest_update_imports_cell('import seaborn as sns\\nimport pandas as pd\\nimport matplotlib.pyplot as plt'); }\n",
              "    "
            ],
            "text/plain": [
              "<IPython.core.display.Javascript object>"
            ]
          },
          "metadata": {}
        },
        {
          "output_type": "display_data",
          "data": {
            "application/javascript": [
              "\n",
              "        if (window._pyforest_update_imports_cell) { window._pyforest_update_imports_cell('import seaborn as sns\\nimport pandas as pd\\nimport matplotlib.pyplot as plt'); }\n",
              "    "
            ],
            "text/plain": [
              "<IPython.core.display.Javascript object>"
            ]
          },
          "metadata": {}
        },
        {
          "output_type": "display_data",
          "data": {
            "image/png": "[encoded data removed]",
            "text/plain": [
              "<Figure size 1440x576 with 2 Axes>"
            ]
          },
          "metadata": {
            "needs_background": "light"
          }
        }
      ]
    },
    {
      "cell_type": "markdown",
      "metadata": {
        "id": "UqGLEaPtjwaI"
      },
      "source": [
        "A distribuição é quase idêntica, confirmando que são várias outras profissões não cobertas pelas opções disponíveis."
      ]
    },
    {
      "cell_type": "markdown",
      "metadata": {
        "id": "yo86t2exkEh2"
      },
      "source": [
        "###Observando as colunas binárias"
      ]
    },
    {
      "cell_type": "code",
      "metadata": {
        "id": "vxG99EIBjO0h",
        "colab": {
          "base_uri": "https://localhost:8080/"
        },
        "outputId": "31c1b5d9-eaf4-481a-e13d-09521a7f97e5"
      },
      "source": [
        "cat_binary_columns"
      ],
      "execution_count": null,
      "outputs": [
        {
          "output_type": "execute_result",
          "data": {
            "text/plain": [
              "['tem_carro',\n",
              " 'tem_casa_propria',\n",
              " 'tem_telefone_trabalho',\n",
              " 'tem_telefone_fixo',\n",
              " 'tem_email']"
            ]
          },
          "metadata": {},
          "execution_count": 55
        }
      ]
    },
    {
      "cell_type": "code",
      "metadata": {
        "colab": {
          "base_uri": "https://localhost:8080/",
          "height": 555
        },
        "id": "cr2u19xCNzgk",
        "outputId": "6bd6aab1-98fa-4c17-d6b2-db90aa8b2412"
      },
      "source": [
        "fig, ax = plt.subplots(2,3, figsize=(20,8))\n",
        "\n",
        "palette = sns.color_palette('tab20')\n",
        "ax[0,0] = sns.countplot(ax=ax[0,0], data=cadastrados_clean_v1, x='tem_carro',palette=palette)\n",
        "ax[0,1] = sns.countplot(ax=ax[0,1], data=cadastrados_clean_v1, x='tem_casa_propria',palette=palette)\n",
        "ax[0,2] = sns.countplot(ax=ax[0,2], data=cadastrados_clean_v1, x='tem_telefone_trabalho',palette=palette)\n",
        "ax[1,0] = sns.countplot(ax=ax[1,0], data=cadastrados_clean_v1, x='tem_telefone_fixo',palette=palette)\n",
        "ax[1,1] = sns.countplot(ax=ax[1,1], data=cadastrados_clean_v1, x='tem_email',palette=palette)\n",
        "ax[1,2].xaxis.set_major_locator(ticker.NullLocator()) #apagando os eixos do último gráfico\n",
        "ax[1,2].yaxis.set_major_locator(ticker.NullLocator()) #apagando os eixos do último gráfico\n",
        "\n",
        "plt.suptitle('Colunas categóricas binárias', fontsize=21)\n",
        "sns.despine()\n",
        "sns.despine(ax=ax[1,2], left=True, bottom=True) #apagando os eixos do último gráfico\n",
        "plt.show()"
      ],
      "execution_count": null,
      "outputs": [
        {
          "output_type": "display_data",
          "data": {
            "application/javascript": [
              "\n",
              "        if (window._pyforest_update_imports_cell) { window._pyforest_update_imports_cell('import seaborn as sns\\nimport pandas as pd\\nimport matplotlib.pyplot as plt'); }\n",
              "    "
            ],
            "text/plain": [
              "<IPython.core.display.Javascript object>"
            ]
          },
          "metadata": {}
        },
        {
          "output_type": "display_data",
          "data": {
            "application/javascript": [
              "\n",
              "        if (window._pyforest_update_imports_cell) { window._pyforest_update_imports_cell('import seaborn as sns\\nimport pandas as pd\\nimport matplotlib.pyplot as plt'); }\n",
              "    "
            ],
            "text/plain": [
              "<IPython.core.display.Javascript object>"
            ]
          },
          "metadata": {}
        },
        {
          "output_type": "display_data",
          "data": {
            "application/javascript": [
              "\n",
              "        if (window._pyforest_update_imports_cell) { window._pyforest_update_imports_cell('import seaborn as sns\\nimport pandas as pd\\nimport matplotlib.pyplot as plt'); }\n",
              "    "
            ],
            "text/plain": [
              "<IPython.core.display.Javascript object>"
            ]
          },
          "metadata": {}
        },
        {
          "output_type": "display_data",
          "data": {
            "application/javascript": [
              "\n",
              "        if (window._pyforest_update_imports_cell) { window._pyforest_update_imports_cell('import seaborn as sns\\nimport pandas as pd\\nimport matplotlib.pyplot as plt'); }\n",
              "    "
            ],
            "text/plain": [
              "<IPython.core.display.Javascript object>"
            ]
          },
          "metadata": {}
        },
        {
          "output_type": "display_data",
          "data": {
            "application/javascript": [
              "\n",
              "        if (window._pyforest_update_imports_cell) { window._pyforest_update_imports_cell('import seaborn as sns\\nimport pandas as pd\\nimport matplotlib.pyplot as plt'); }\n",
              "    "
            ],
            "text/plain": [
              "<IPython.core.display.Javascript object>"
            ]
          },
          "metadata": {}
        },
        {
          "output_type": "display_data",
          "data": {
            "application/javascript": [
              "\n",
              "        if (window._pyforest_update_imports_cell) { window._pyforest_update_imports_cell('import seaborn as sns\\nimport pandas as pd\\nimport matplotlib.pyplot as plt'); }\n",
              "    "
            ],
            "text/plain": [
              "<IPython.core.display.Javascript object>"
            ]
          },
          "metadata": {}
        },
        {
          "output_type": "display_data",
          "data": {
            "application/javascript": [
              "\n",
              "        if (window._pyforest_update_imports_cell) { window._pyforest_update_imports_cell('import seaborn as sns\\nimport pandas as pd\\nimport matplotlib.pyplot as plt'); }\n",
              "    "
            ],
            "text/plain": [
              "<IPython.core.display.Javascript object>"
            ]
          },
          "metadata": {}
        },
        {
          "output_type": "display_data",
          "data": {
            "application/javascript": [
              "\n",
              "        if (window._pyforest_update_imports_cell) { window._pyforest_update_imports_cell('import seaborn as sns\\nimport pandas as pd\\nimport matplotlib.pyplot as plt'); }\n",
              "    "
            ],
            "text/plain": [
              "<IPython.core.display.Javascript object>"
            ]
          },
          "metadata": {}
        },
        {
          "output_type": "display_data",
          "data": {
            "application/javascript": [
              "\n",
              "        if (window._pyforest_update_imports_cell) { window._pyforest_update_imports_cell('import seaborn as sns\\nimport pandas as pd\\nimport matplotlib.pyplot as plt'); }\n",
              "    "
            ],
            "text/plain": [
              "<IPython.core.display.Javascript object>"
            ]
          },
          "metadata": {}
        },
        {
          "output_type": "display_data",
          "data": {
            "application/javascript": [
              "\n",
              "        if (window._pyforest_update_imports_cell) { window._pyforest_update_imports_cell('import seaborn as sns\\nimport pandas as pd\\nimport matplotlib.pyplot as plt'); }\n",
              "    "
            ],
            "text/plain": [
              "<IPython.core.display.Javascript object>"
            ]
          },
          "metadata": {}
        },
        {
          "output_type": "display_data",
          "data": {
            "application/javascript": [
              "\n",
              "        if (window._pyforest_update_imports_cell) { window._pyforest_update_imports_cell('import seaborn as sns\\nimport pandas as pd\\nimport matplotlib.pyplot as plt'); }\n",
              "    "
            ],
            "text/plain": [
              "<IPython.core.display.Javascript object>"
            ]
          },
          "metadata": {}
        },
        {
          "output_type": "display_data",
          "data": {
            "image/png": "[encoded data removed]",
            "text/plain": [
              "<Figure size 1440x576 with 6 Axes>"
            ]
          },
          "metadata": {
            "needs_background": "light"
          }
        }
      ]
    },
    {
      "cell_type": "markdown",
      "metadata": {
        "id": "jz8JCDCUPLiJ"
      },
      "source": [
        "#Explorando a base de clientes aprovados\n",
        "\n",
        "---\n",
        "Esta segunda seção principal é dedicada a explorar e preparar a base de clientes aprovados - a base target do projeto.\n"
      ]
    },
    {
      "cell_type": "code",
      "metadata": {
        "colab": {
          "base_uri": "https://localhost:8080/",
          "height": 419
        },
        "id": "PfjXmNN2POfP",
        "outputId": "ac8666bc-dedb-494b-9089-b4b5198eae45"
      },
      "source": [
        "df_aprovados"
      ],
      "execution_count": null,
      "outputs": [
        {
          "output_type": "execute_result",
          "data": {
            "text/html": [
              "<div>\n",
              "<style scoped>\n",
              "    .dataframe tbody tr th:only-of-type {\n",
              "        vertical-align: middle;\n",
              "    }\n",
              "\n",
              "    .dataframe tbody tr th {\n",
              "        vertical-align: top;\n",
              "    }\n",
              "\n",
              "    .dataframe thead th {\n",
              "        text-align: right;\n",
              "    }\n",
              "</style>\n",
              "<table border=\"1\" class=\"dataframe\">\n",
              "  <thead>\n",
              "    <tr style=\"text-align: right;\">\n",
              "      <th></th>\n",
              "      <th>ID_Cliente</th>\n",
              "      <th>Mes_referencia</th>\n",
              "      <th>Faixa_atraso</th>\n",
              "    </tr>\n",
              "  </thead>\n",
              "  <tbody>\n",
              "    <tr>\n",
              "      <th>0</th>\n",
              "      <td>5001711</td>\n",
              "      <td>0</td>\n",
              "      <td>nenhum empréstimo</td>\n",
              "    </tr>\n",
              "    <tr>\n",
              "      <th>1</th>\n",
              "      <td>5001711</td>\n",
              "      <td>-1</td>\n",
              "      <td>1-29 dias</td>\n",
              "    </tr>\n",
              "    <tr>\n",
              "      <th>2</th>\n",
              "      <td>5001711</td>\n",
              "      <td>-2</td>\n",
              "      <td>1-29 dias</td>\n",
              "    </tr>\n",
              "    <tr>\n",
              "      <th>3</th>\n",
              "      <td>5001711</td>\n",
              "      <td>-3</td>\n",
              "      <td>1-29 dias</td>\n",
              "    </tr>\n",
              "    <tr>\n",
              "      <th>4</th>\n",
              "      <td>5001712</td>\n",
              "      <td>0</td>\n",
              "      <td>pagamento realizado</td>\n",
              "    </tr>\n",
              "    <tr>\n",
              "      <th>...</th>\n",
              "      <td>...</td>\n",
              "      <td>...</td>\n",
              "      <td>...</td>\n",
              "    </tr>\n",
              "    <tr>\n",
              "      <th>1048570</th>\n",
              "      <td>5150487</td>\n",
              "      <td>-25</td>\n",
              "      <td>pagamento realizado</td>\n",
              "    </tr>\n",
              "    <tr>\n",
              "      <th>1048571</th>\n",
              "      <td>5150487</td>\n",
              "      <td>-26</td>\n",
              "      <td>pagamento realizado</td>\n",
              "    </tr>\n",
              "    <tr>\n",
              "      <th>1048572</th>\n",
              "      <td>5150487</td>\n",
              "      <td>-27</td>\n",
              "      <td>pagamento realizado</td>\n",
              "    </tr>\n",
              "    <tr>\n",
              "      <th>1048573</th>\n",
              "      <td>5150487</td>\n",
              "      <td>-28</td>\n",
              "      <td>pagamento realizado</td>\n",
              "    </tr>\n",
              "    <tr>\n",
              "      <th>1048574</th>\n",
              "      <td>5150487</td>\n",
              "      <td>-29</td>\n",
              "      <td>pagamento realizado</td>\n",
              "    </tr>\n",
              "  </tbody>\n",
              "</table>\n",
              "<p>1048575 rows × 3 columns</p>\n",
              "</div>"
            ],
            "text/plain": [
              "         ID_Cliente  Mes_referencia         Faixa_atraso\n",
              "0           5001711               0    nenhum empréstimo\n",
              "1           5001711              -1            1-29 dias\n",
              "2           5001711              -2            1-29 dias\n",
              "3           5001711              -3            1-29 dias\n",
              "4           5001712               0  pagamento realizado\n",
              "...             ...             ...                  ...\n",
              "1048570     5150487             -25  pagamento realizado\n",
              "1048571     5150487             -26  pagamento realizado\n",
              "1048572     5150487             -27  pagamento realizado\n",
              "1048573     5150487             -28  pagamento realizado\n",
              "1048574     5150487             -29  pagamento realizado\n",
              "\n",
              "[1048575 rows x 3 columns]"
            ]
          },
          "metadata": {},
          "execution_count": 57
        }
      ]
    },
    {
      "cell_type": "code",
      "metadata": {
        "id": "FPTDHmkVPq0u"
      },
      "source": [
        "#transformando colunas para lowercase\n",
        "df_aprovados.columns = df_aprovados.columns.str.lower()"
      ],
      "execution_count": null,
      "outputs": []
    },
    {
      "cell_type": "code",
      "metadata": {
        "colab": {
          "base_uri": "https://localhost:8080/"
        },
        "id": "wdmTe0WwQ3T3",
        "outputId": "95516367-2317-4a3e-927f-57e27c87d703"
      },
      "source": [
        "df_aprovados.info() #df não tem dados nulos"
      ],
      "execution_count": null,
      "outputs": [
        {
          "output_type": "stream",
          "name": "stdout",
          "text": [
            "<class 'pandas.core.frame.DataFrame'>\n",
            "RangeIndex: 1048575 entries, 0 to 1048574\n",
            "Data columns (total 3 columns):\n",
            " #   Column          Non-Null Count    Dtype \n",
            "---  ------          --------------    ----- \n",
            " 0   id_cliente      1048575 non-null  int64 \n",
            " 1   mes_referencia  1048575 non-null  int64 \n",
            " 2   faixa_atraso    1048575 non-null  object\n",
            "dtypes: int64(2), object(1)\n",
            "memory usage: 24.0+ MB\n"
          ]
        }
      ]
    },
    {
      "cell_type": "markdown",
      "metadata": {
        "id": "mx3cCFJZPf4G"
      },
      "source": [
        "##Entendendo as colunas"
      ]
    },
    {
      "cell_type": "code",
      "metadata": {
        "colab": {
          "base_uri": "https://localhost:8080/"
        },
        "id": "Zh8jlELtPRSX",
        "outputId": "6e8ea41d-5f08-47d5-9c10-e56219f18995"
      },
      "source": [
        "#Observando a coluna de ID_Cliente\n",
        "df_aprovados['id_cliente'].value_counts()"
      ],
      "execution_count": null,
      "outputs": [
        {
          "output_type": "execute_result",
          "data": {
            "text/plain": [
              "5145767    61\n",
              "5116236    61\n",
              "5037153    61\n",
              "5002523    61\n",
              "5028973    61\n",
              "           ..\n",
              "5149044     1\n",
              "5079047     1\n",
              "5137258     1\n",
              "5023604     1\n",
              "5023029     1\n",
              "Name: id_cliente, Length: 45985, dtype: int64"
            ]
          },
          "metadata": {},
          "execution_count": 60
        }
      ]
    },
    {
      "cell_type": "markdown",
      "metadata": {
        "id": "QkkDQ-xeP5Ih"
      },
      "source": [
        "A coluna de ID mostra que o df não é uma linha por cliente, há clientes com até 61 linhas.\n",
        "\n",
        "Vamos olhar o cliente 5145767 que aparece em 1º no value_counts() para entender se são repetições."
      ]
    },
    {
      "cell_type": "code",
      "metadata": {
        "colab": {
          "base_uri": "https://localhost:8080/",
          "height": 419
        },
        "id": "X0EUKrliQQd3",
        "outputId": "0573268c-b13c-466e-81e9-76c2a81d05c4"
      },
      "source": [
        "df_aprovados.query(\"id_cliente == 5145767\")"
      ],
      "execution_count": null,
      "outputs": [
        {
          "output_type": "execute_result",
          "data": {
            "text/html": [
              "<div>\n",
              "<style scoped>\n",
              "    .dataframe tbody tr th:only-of-type {\n",
              "        vertical-align: middle;\n",
              "    }\n",
              "\n",
              "    .dataframe tbody tr th {\n",
              "        vertical-align: top;\n",
              "    }\n",
              "\n",
              "    .dataframe thead th {\n",
              "        text-align: right;\n",
              "    }\n",
              "</style>\n",
              "<table border=\"1\" class=\"dataframe\">\n",
              "  <thead>\n",
              "    <tr style=\"text-align: right;\">\n",
              "      <th></th>\n",
              "      <th>id_cliente</th>\n",
              "      <th>mes_referencia</th>\n",
              "      <th>faixa_atraso</th>\n",
              "    </tr>\n",
              "  </thead>\n",
              "  <tbody>\n",
              "    <tr>\n",
              "      <th>1004969</th>\n",
              "      <td>5145767</td>\n",
              "      <td>0</td>\n",
              "      <td>1-29 dias</td>\n",
              "    </tr>\n",
              "    <tr>\n",
              "      <th>1004970</th>\n",
              "      <td>5145767</td>\n",
              "      <td>-1</td>\n",
              "      <td>1-29 dias</td>\n",
              "    </tr>\n",
              "    <tr>\n",
              "      <th>1004971</th>\n",
              "      <td>5145767</td>\n",
              "      <td>-2</td>\n",
              "      <td>1-29 dias</td>\n",
              "    </tr>\n",
              "    <tr>\n",
              "      <th>1004972</th>\n",
              "      <td>5145767</td>\n",
              "      <td>-3</td>\n",
              "      <td>1-29 dias</td>\n",
              "    </tr>\n",
              "    <tr>\n",
              "      <th>1004973</th>\n",
              "      <td>5145767</td>\n",
              "      <td>-4</td>\n",
              "      <td>1-29 dias</td>\n",
              "    </tr>\n",
              "    <tr>\n",
              "      <th>...</th>\n",
              "      <td>...</td>\n",
              "      <td>...</td>\n",
              "      <td>...</td>\n",
              "    </tr>\n",
              "    <tr>\n",
              "      <th>1005025</th>\n",
              "      <td>5145767</td>\n",
              "      <td>-56</td>\n",
              "      <td>1-29 dias</td>\n",
              "    </tr>\n",
              "    <tr>\n",
              "      <th>1005026</th>\n",
              "      <td>5145767</td>\n",
              "      <td>-57</td>\n",
              "      <td>1-29 dias</td>\n",
              "    </tr>\n",
              "    <tr>\n",
              "      <th>1005027</th>\n",
              "      <td>5145767</td>\n",
              "      <td>-58</td>\n",
              "      <td>1-29 dias</td>\n",
              "    </tr>\n",
              "    <tr>\n",
              "      <th>1005028</th>\n",
              "      <td>5145767</td>\n",
              "      <td>-59</td>\n",
              "      <td>1-29 dias</td>\n",
              "    </tr>\n",
              "    <tr>\n",
              "      <th>1005029</th>\n",
              "      <td>5145767</td>\n",
              "      <td>-60</td>\n",
              "      <td>nenhum empréstimo</td>\n",
              "    </tr>\n",
              "  </tbody>\n",
              "</table>\n",
              "<p>61 rows × 3 columns</p>\n",
              "</div>"
            ],
            "text/plain": [
              "         id_cliente  mes_referencia       faixa_atraso\n",
              "1004969     5145767               0          1-29 dias\n",
              "1004970     5145767              -1          1-29 dias\n",
              "1004971     5145767              -2          1-29 dias\n",
              "1004972     5145767              -3          1-29 dias\n",
              "1004973     5145767              -4          1-29 dias\n",
              "...             ...             ...                ...\n",
              "1005025     5145767             -56          1-29 dias\n",
              "1005026     5145767             -57          1-29 dias\n",
              "1005027     5145767             -58          1-29 dias\n",
              "1005028     5145767             -59          1-29 dias\n",
              "1005029     5145767             -60  nenhum empréstimo\n",
              "\n",
              "[61 rows x 3 columns]"
            ]
          },
          "metadata": {},
          "execution_count": 61
        }
      ]
    },
    {
      "cell_type": "markdown",
      "metadata": {
        "id": "a6S9vKrqQdg2"
      },
      "source": [
        "O dataframe está organizando por ID então (podemos ver que o index é sequencial para o ID) e está falando de meses desde o mês 0 (atual) até X meses no passado. A coluna faixa_atraso explica a condição do cliente com o crédito naquele momento."
      ]
    },
    {
      "cell_type": "code",
      "metadata": {
        "colab": {
          "base_uri": "https://localhost:8080/"
        },
        "id": "Y-yc8DJZQWb-",
        "outputId": "12689ec0-9c63-4011-94cf-0af596fdd727"
      },
      "source": [
        "df_aprovados['faixa_atraso'].value_counts()"
      ],
      "execution_count": null,
      "outputs": [
        {
          "output_type": "execute_result",
          "data": {
            "text/plain": [
              "pagamento realizado    442031\n",
              "1-29 dias              383120\n",
              "nenhum empréstimo      209230\n",
              "30-59 dias              11090\n",
              ">150 dias                1693\n",
              "60-89 dias                868\n",
              "90-119 dias               320\n",
              "120-149 dias              223\n",
              "Name: faixa_atraso, dtype: int64"
            ]
          },
          "metadata": {},
          "execution_count": 62
        }
      ]
    },
    {
      "cell_type": "markdown",
      "metadata": {
        "id": "hVCgOJvwRIHt"
      },
      "source": [
        "Existem 8 classificações possíveis para o mês de referência do cliente:\n",
        "- Nenhum empréstimo ativo;\n",
        "- Pagamento realizado (em dia ou adiantamento);\n",
        "- 1-29 dias de atraso;\n",
        "- 30-59 dias de atraso;\n",
        "- 60-89 dias de atraso;\n",
        "- 90-119 dias de atraso;\n",
        "- 120-149 dias de atraso;\n",
        "- '>150 dias de atraso.\n",
        "\n",
        "Essas faixas são uma métrica importante tanto para a saúde financeira do tomador quando para a saúde do emprestador, visto que, existem regras determinadas pelo Banco Central sobre a Provisão para Devedores Duvidosos (PDD). Em linhas gerais a PDD versa sobre que para cada faixa de atraso uma determinada quantidade do emprestado para o tomador deva ser reservada em caso de default (não pagamento), o que afeta diretamente a rentabilidade dos empréstimos.\n",
        "\n",
        "A lógica é de quanto mais PDD mais caixa deve ser reservado para cobrir os rombos e menos dinheiro foi recebido pelos empréstimos feitos. É importante notar que a porcentagem de PDD em relação ao total do empréstimo aumenta com a rolagem de faixa - chegando a 100% do emprestado em rolagens maiores de 90 dias."
      ]
    },
    {
      "cell_type": "code",
      "metadata": {
        "colab": {
          "base_uri": "https://localhost:8080/",
          "height": 117
        },
        "id": "DO4ZALb4RBRH",
        "outputId": "e7ebb531-ffa4-4226-9b22-be0746940738"
      },
      "source": [
        "cadastrados_clean_v1.query(\"id_cliente == 5001711 or id_cliente == 5145767\")"
      ],
      "execution_count": null,
      "outputs": [
        {
          "output_type": "execute_result",
          "data": {
            "text/html": [
              "<div>\n",
              "<style scoped>\n",
              "    .dataframe tbody tr th:only-of-type {\n",
              "        vertical-align: middle;\n",
              "    }\n",
              "\n",
              "    .dataframe tbody tr th {\n",
              "        vertical-align: top;\n",
              "    }\n",
              "\n",
              "    .dataframe thead th {\n",
              "        text-align: right;\n",
              "    }\n",
              "</style>\n",
              "<table border=\"1\" class=\"dataframe\">\n",
              "  <thead>\n",
              "    <tr style=\"text-align: right;\">\n",
              "      <th></th>\n",
              "      <th>id_cliente</th>\n",
              "      <th>tem_carro</th>\n",
              "      <th>tem_casa_propria</th>\n",
              "      <th>qtd_filhos</th>\n",
              "      <th>rendimento_anual</th>\n",
              "      <th>categoria_de_renda</th>\n",
              "      <th>grau_escolaridade</th>\n",
              "      <th>estado_civil</th>\n",
              "      <th>moradia</th>\n",
              "      <th>idade</th>\n",
              "      <th>tem_telefone_trabalho</th>\n",
              "      <th>tem_telefone_fixo</th>\n",
              "      <th>tem_email</th>\n",
              "      <th>ocupacao</th>\n",
              "      <th>tamanho_familia</th>\n",
              "      <th>anos_empregado</th>\n",
              "    </tr>\n",
              "  </thead>\n",
              "  <tbody>\n",
              "    <tr>\n",
              "      <th>32335</th>\n",
              "      <td>5145767</td>\n",
              "      <td>1</td>\n",
              "      <td>1</td>\n",
              "      <td>0</td>\n",
              "      <td>135000.0</td>\n",
              "      <td>Empregado</td>\n",
              "      <td>Ensino superior</td>\n",
              "      <td>Casado</td>\n",
              "      <td>Casa propria</td>\n",
              "      <td>42</td>\n",
              "      <td>0</td>\n",
              "      <td>0</td>\n",
              "      <td>1</td>\n",
              "      <td>Outros</td>\n",
              "      <td>2</td>\n",
              "      <td>13.2</td>\n",
              "    </tr>\n",
              "  </tbody>\n",
              "</table>\n",
              "</div>"
            ],
            "text/plain": [
              "       id_cliente  tem_carro  ...  tamanho_familia  anos_empregado\n",
              "32335     5145767          1  ...                2            13.2\n",
              "\n",
              "[1 rows x 16 columns]"
            ]
          },
          "metadata": {},
          "execution_count": 63
        }
      ]
    },
    {
      "cell_type": "markdown",
      "metadata": {
        "id": "ZBaVq7j1Tg2F"
      },
      "source": [
        "Uma exploração rápida com alguns clientes que utilizamos para entender a base mostra que nem todos estão nos cadastrados. \n",
        "\n",
        "Notamos que como a base de cadastro tem ~= 425 mil clientes e a de aprovados ~=45 mil, **cerca de 10,8% tem ou teve empréstimos.**"
      ]
    },
    {
      "cell_type": "markdown",
      "metadata": {
        "id": "yPx--QTwTvZG"
      },
      "source": [
        "Uma forma de começar a preparar a base target com colunas que serão usada pelo modelo para a predição é cruzar com a de cadastro e trazer as informações desses clientes que estão lá."
      ]
    },
    {
      "cell_type": "code",
      "metadata": {
        "colab": {
          "base_uri": "https://localhost:8080/",
          "height": 258
        },
        "id": "07_wYK82S5k1",
        "outputId": "8f72438a-68da-475f-f53d-7143dabeeb3f"
      },
      "source": [
        "#cruzando as bases de aprovação e cadastro\n",
        "base_dados_aprovados_v1 = pd.merge(df_aprovados, cadastrados_clean_v1, how='left', on='id_cliente', sort=True)\n",
        "base_dados_aprovados_v1.head()"
      ],
      "execution_count": null,
      "outputs": [
        {
          "output_type": "display_data",
          "data": {
            "application/javascript": [
              "\n",
              "        if (window._pyforest_update_imports_cell) { window._pyforest_update_imports_cell('import seaborn as sns\\nimport pandas as pd\\nimport matplotlib.pyplot as plt'); }\n",
              "    "
            ],
            "text/plain": [
              "<IPython.core.display.Javascript object>"
            ]
          },
          "metadata": {}
        },
        {
          "output_type": "execute_result",
          "data": {
            "text/html": [
              "<div>\n",
              "<style scoped>\n",
              "    .dataframe tbody tr th:only-of-type {\n",
              "        vertical-align: middle;\n",
              "    }\n",
              "\n",
              "    .dataframe tbody tr th {\n",
              "        vertical-align: top;\n",
              "    }\n",
              "\n",
              "    .dataframe thead th {\n",
              "        text-align: right;\n",
              "    }\n",
              "</style>\n",
              "<table border=\"1\" class=\"dataframe\">\n",
              "  <thead>\n",
              "    <tr style=\"text-align: right;\">\n",
              "      <th></th>\n",
              "      <th>id_cliente</th>\n",
              "      <th>mes_referencia</th>\n",
              "      <th>faixa_atraso</th>\n",
              "      <th>tem_carro</th>\n",
              "      <th>tem_casa_propria</th>\n",
              "      <th>qtd_filhos</th>\n",
              "      <th>rendimento_anual</th>\n",
              "      <th>categoria_de_renda</th>\n",
              "      <th>grau_escolaridade</th>\n",
              "      <th>estado_civil</th>\n",
              "      <th>moradia</th>\n",
              "      <th>idade</th>\n",
              "      <th>tem_telefone_trabalho</th>\n",
              "      <th>tem_telefone_fixo</th>\n",
              "      <th>tem_email</th>\n",
              "      <th>ocupacao</th>\n",
              "      <th>tamanho_familia</th>\n",
              "      <th>anos_empregado</th>\n",
              "    </tr>\n",
              "  </thead>\n",
              "  <tbody>\n",
              "    <tr>\n",
              "      <th>0</th>\n",
              "      <td>5001711</td>\n",
              "      <td>0</td>\n",
              "      <td>nenhum empréstimo</td>\n",
              "      <td>NaN</td>\n",
              "      <td>NaN</td>\n",
              "      <td>NaN</td>\n",
              "      <td>NaN</td>\n",
              "      <td>NaN</td>\n",
              "      <td>NaN</td>\n",
              "      <td>NaN</td>\n",
              "      <td>NaN</td>\n",
              "      <td>NaN</td>\n",
              "      <td>NaN</td>\n",
              "      <td>NaN</td>\n",
              "      <td>NaN</td>\n",
              "      <td>NaN</td>\n",
              "      <td>NaN</td>\n",
              "      <td>NaN</td>\n",
              "    </tr>\n",
              "    <tr>\n",
              "      <th>1</th>\n",
              "      <td>5001711</td>\n",
              "      <td>-1</td>\n",
              "      <td>1-29 dias</td>\n",
              "      <td>NaN</td>\n",
              "      <td>NaN</td>\n",
              "      <td>NaN</td>\n",
              "      <td>NaN</td>\n",
              "      <td>NaN</td>\n",
              "      <td>NaN</td>\n",
              "      <td>NaN</td>\n",
              "      <td>NaN</td>\n",
              "      <td>NaN</td>\n",
              "      <td>NaN</td>\n",
              "      <td>NaN</td>\n",
              "      <td>NaN</td>\n",
              "      <td>NaN</td>\n",
              "      <td>NaN</td>\n",
              "      <td>NaN</td>\n",
              "    </tr>\n",
              "    <tr>\n",
              "      <th>2</th>\n",
              "      <td>5001711</td>\n",
              "      <td>-2</td>\n",
              "      <td>1-29 dias</td>\n",
              "      <td>NaN</td>\n",
              "      <td>NaN</td>\n",
              "      <td>NaN</td>\n",
              "      <td>NaN</td>\n",
              "      <td>NaN</td>\n",
              "      <td>NaN</td>\n",
              "      <td>NaN</td>\n",
              "      <td>NaN</td>\n",
              "      <td>NaN</td>\n",
              "      <td>NaN</td>\n",
              "      <td>NaN</td>\n",
              "      <td>NaN</td>\n",
              "      <td>NaN</td>\n",
              "      <td>NaN</td>\n",
              "      <td>NaN</td>\n",
              "    </tr>\n",
              "    <tr>\n",
              "      <th>3</th>\n",
              "      <td>5001711</td>\n",
              "      <td>-3</td>\n",
              "      <td>1-29 dias</td>\n",
              "      <td>NaN</td>\n",
              "      <td>NaN</td>\n",
              "      <td>NaN</td>\n",
              "      <td>NaN</td>\n",
              "      <td>NaN</td>\n",
              "      <td>NaN</td>\n",
              "      <td>NaN</td>\n",
              "      <td>NaN</td>\n",
              "      <td>NaN</td>\n",
              "      <td>NaN</td>\n",
              "      <td>NaN</td>\n",
              "      <td>NaN</td>\n",
              "      <td>NaN</td>\n",
              "      <td>NaN</td>\n",
              "      <td>NaN</td>\n",
              "    </tr>\n",
              "    <tr>\n",
              "      <th>4</th>\n",
              "      <td>5001712</td>\n",
              "      <td>0</td>\n",
              "      <td>pagamento realizado</td>\n",
              "      <td>NaN</td>\n",
              "      <td>NaN</td>\n",
              "      <td>NaN</td>\n",
              "      <td>NaN</td>\n",
              "      <td>NaN</td>\n",
              "      <td>NaN</td>\n",
              "      <td>NaN</td>\n",
              "      <td>NaN</td>\n",
              "      <td>NaN</td>\n",
              "      <td>NaN</td>\n",
              "      <td>NaN</td>\n",
              "      <td>NaN</td>\n",
              "      <td>NaN</td>\n",
              "      <td>NaN</td>\n",
              "      <td>NaN</td>\n",
              "    </tr>\n",
              "  </tbody>\n",
              "</table>\n",
              "</div>"
            ],
            "text/plain": [
              "   id_cliente  mes_referencia  ... tamanho_familia  anos_empregado\n",
              "0     5001711               0  ...             NaN             NaN\n",
              "1     5001711              -1  ...             NaN             NaN\n",
              "2     5001711              -2  ...             NaN             NaN\n",
              "3     5001711              -3  ...             NaN             NaN\n",
              "4     5001712               0  ...             NaN             NaN\n",
              "\n",
              "[5 rows x 18 columns]"
            ]
          },
          "metadata": {},
          "execution_count": 64
        }
      ]
    },
    {
      "cell_type": "markdown",
      "metadata": {
        "id": "H4HSBHf-_rhD"
      },
      "source": [
        "##Criando medidas auxiliares para chegar à binagem no dataframe de aprovados\n",
        "\n",
        "---\n",
        "Esta seção é dedicada à criarmos medidas auxiliares para o dataframe com os clientes aprovados de forma a depois conseguir diminuir sua dimensionalidade para uma coluna target binária.\n"
      ]
    },
    {
      "cell_type": "code",
      "metadata": {
        "colab": {
          "base_uri": "https://localhost:8080/",
          "height": 142
        },
        "id": "rbDAjgomAwnF",
        "outputId": "1fc58f3c-3d11-42ce-8779-7159339fbec9"
      },
      "source": [
        "df_aprovados.head(3)"
      ],
      "execution_count": null,
      "outputs": [
        {
          "output_type": "execute_result",
          "data": {
            "text/html": [
              "<div>\n",
              "<style scoped>\n",
              "    .dataframe tbody tr th:only-of-type {\n",
              "        vertical-align: middle;\n",
              "    }\n",
              "\n",
              "    .dataframe tbody tr th {\n",
              "        vertical-align: top;\n",
              "    }\n",
              "\n",
              "    .dataframe thead th {\n",
              "        text-align: right;\n",
              "    }\n",
              "</style>\n",
              "<table border=\"1\" class=\"dataframe\">\n",
              "  <thead>\n",
              "    <tr style=\"text-align: right;\">\n",
              "      <th></th>\n",
              "      <th>id_cliente</th>\n",
              "      <th>mes_referencia</th>\n",
              "      <th>faixa_atraso</th>\n",
              "    </tr>\n",
              "  </thead>\n",
              "  <tbody>\n",
              "    <tr>\n",
              "      <th>0</th>\n",
              "      <td>5001711</td>\n",
              "      <td>0</td>\n",
              "      <td>nenhum empréstimo</td>\n",
              "    </tr>\n",
              "    <tr>\n",
              "      <th>1</th>\n",
              "      <td>5001711</td>\n",
              "      <td>-1</td>\n",
              "      <td>1-29 dias</td>\n",
              "    </tr>\n",
              "    <tr>\n",
              "      <th>2</th>\n",
              "      <td>5001711</td>\n",
              "      <td>-2</td>\n",
              "      <td>1-29 dias</td>\n",
              "    </tr>\n",
              "  </tbody>\n",
              "</table>\n",
              "</div>"
            ],
            "text/plain": [
              "   id_cliente  mes_referencia       faixa_atraso\n",
              "0     5001711               0  nenhum empréstimo\n",
              "1     5001711              -1          1-29 dias\n",
              "2     5001711              -2          1-29 dias"
            ]
          },
          "metadata": {},
          "execution_count": 65
        }
      ]
    },
    {
      "cell_type": "code",
      "metadata": {
        "id": "nrDCWdqDVEq2",
        "colab": {
          "base_uri": "https://localhost:8080/",
          "height": 204
        },
        "outputId": "41ef95c1-c6b8-439e-fa39-288d05fe19b8"
      },
      "source": [
        "#A primeira medida que criaremos é a 'abertura', métrica que vai mostrar o primeiro mês que o cliente tinha crédito na base\n",
        "df_aprovados_grouped = df_aprovados.groupby(\"id_cliente\")\n",
        "column_abertura = df_aprovados_grouped.apply(lambda x: min(x['mes_referencia']))\n",
        "column_abertura.name = 'abertura'\n",
        "df_aprovados = df_aprovados.merge(column_abertura, on='id_cliente', how='left')\n",
        "df_aprovados.head()"
      ],
      "execution_count": null,
      "outputs": [
        {
          "output_type": "execute_result",
          "data": {
            "text/html": [
              "<div>\n",
              "<style scoped>\n",
              "    .dataframe tbody tr th:only-of-type {\n",
              "        vertical-align: middle;\n",
              "    }\n",
              "\n",
              "    .dataframe tbody tr th {\n",
              "        vertical-align: top;\n",
              "    }\n",
              "\n",
              "    .dataframe thead th {\n",
              "        text-align: right;\n",
              "    }\n",
              "</style>\n",
              "<table border=\"1\" class=\"dataframe\">\n",
              "  <thead>\n",
              "    <tr style=\"text-align: right;\">\n",
              "      <th></th>\n",
              "      <th>id_cliente</th>\n",
              "      <th>mes_referencia</th>\n",
              "      <th>faixa_atraso</th>\n",
              "      <th>abertura</th>\n",
              "    </tr>\n",
              "  </thead>\n",
              "  <tbody>\n",
              "    <tr>\n",
              "      <th>0</th>\n",
              "      <td>5001711</td>\n",
              "      <td>0</td>\n",
              "      <td>nenhum empréstimo</td>\n",
              "      <td>-3</td>\n",
              "    </tr>\n",
              "    <tr>\n",
              "      <th>1</th>\n",
              "      <td>5001711</td>\n",
              "      <td>-1</td>\n",
              "      <td>1-29 dias</td>\n",
              "      <td>-3</td>\n",
              "    </tr>\n",
              "    <tr>\n",
              "      <th>2</th>\n",
              "      <td>5001711</td>\n",
              "      <td>-2</td>\n",
              "      <td>1-29 dias</td>\n",
              "      <td>-3</td>\n",
              "    </tr>\n",
              "    <tr>\n",
              "      <th>3</th>\n",
              "      <td>5001711</td>\n",
              "      <td>-3</td>\n",
              "      <td>1-29 dias</td>\n",
              "      <td>-3</td>\n",
              "    </tr>\n",
              "    <tr>\n",
              "      <th>4</th>\n",
              "      <td>5001712</td>\n",
              "      <td>0</td>\n",
              "      <td>pagamento realizado</td>\n",
              "      <td>-18</td>\n",
              "    </tr>\n",
              "  </tbody>\n",
              "</table>\n",
              "</div>"
            ],
            "text/plain": [
              "   id_cliente  mes_referencia         faixa_atraso  abertura\n",
              "0     5001711               0    nenhum empréstimo        -3\n",
              "1     5001711              -1            1-29 dias        -3\n",
              "2     5001711              -2            1-29 dias        -3\n",
              "3     5001711              -3            1-29 dias        -3\n",
              "4     5001712               0  pagamento realizado       -18"
            ]
          },
          "metadata": {},
          "execution_count": 66
        }
      ]
    },
    {
      "cell_type": "code",
      "metadata": {
        "colab": {
          "base_uri": "https://localhost:8080/",
          "height": 204
        },
        "id": "g_F5zOUKA2Hn",
        "outputId": "b3b48f7f-28b2-4a0b-a004-dee942edd781"
      },
      "source": [
        "#A segunda medida que criaremos é a de 'final', métrica para indicar o último mês que ele tinha crédito na base\n",
        "df_aprovados_grouped = df_aprovados.groupby(\"id_cliente\")\n",
        "column_final = df_aprovados_grouped.apply(lambda x: max(x['mes_referencia']))\n",
        "column_final.name = 'final'\n",
        "df_aprovados = df_aprovados.merge(column_final, on='id_cliente', how='left')\n",
        "df_aprovados.head()"
      ],
      "execution_count": null,
      "outputs": [
        {
          "output_type": "execute_result",
          "data": {
            "text/html": [
              "<div>\n",
              "<style scoped>\n",
              "    .dataframe tbody tr th:only-of-type {\n",
              "        vertical-align: middle;\n",
              "    }\n",
              "\n",
              "    .dataframe tbody tr th {\n",
              "        vertical-align: top;\n",
              "    }\n",
              "\n",
              "    .dataframe thead th {\n",
              "        text-align: right;\n",
              "    }\n",
              "</style>\n",
              "<table border=\"1\" class=\"dataframe\">\n",
              "  <thead>\n",
              "    <tr style=\"text-align: right;\">\n",
              "      <th></th>\n",
              "      <th>id_cliente</th>\n",
              "      <th>mes_referencia</th>\n",
              "      <th>faixa_atraso</th>\n",
              "      <th>abertura</th>\n",
              "      <th>final</th>\n",
              "    </tr>\n",
              "  </thead>\n",
              "  <tbody>\n",
              "    <tr>\n",
              "      <th>0</th>\n",
              "      <td>5001711</td>\n",
              "      <td>0</td>\n",
              "      <td>nenhum empréstimo</td>\n",
              "      <td>-3</td>\n",
              "      <td>0</td>\n",
              "    </tr>\n",
              "    <tr>\n",
              "      <th>1</th>\n",
              "      <td>5001711</td>\n",
              "      <td>-1</td>\n",
              "      <td>1-29 dias</td>\n",
              "      <td>-3</td>\n",
              "      <td>0</td>\n",
              "    </tr>\n",
              "    <tr>\n",
              "      <th>2</th>\n",
              "      <td>5001711</td>\n",
              "      <td>-2</td>\n",
              "      <td>1-29 dias</td>\n",
              "      <td>-3</td>\n",
              "      <td>0</td>\n",
              "    </tr>\n",
              "    <tr>\n",
              "      <th>3</th>\n",
              "      <td>5001711</td>\n",
              "      <td>-3</td>\n",
              "      <td>1-29 dias</td>\n",
              "      <td>-3</td>\n",
              "      <td>0</td>\n",
              "    </tr>\n",
              "    <tr>\n",
              "      <th>4</th>\n",
              "      <td>5001712</td>\n",
              "      <td>0</td>\n",
              "      <td>pagamento realizado</td>\n",
              "      <td>-18</td>\n",
              "      <td>0</td>\n",
              "    </tr>\n",
              "  </tbody>\n",
              "</table>\n",
              "</div>"
            ],
            "text/plain": [
              "   id_cliente  mes_referencia         faixa_atraso  abertura  final\n",
              "0     5001711               0    nenhum empréstimo        -3      0\n",
              "1     5001711              -1            1-29 dias        -3      0\n",
              "2     5001711              -2            1-29 dias        -3      0\n",
              "3     5001711              -3            1-29 dias        -3      0\n",
              "4     5001712               0  pagamento realizado       -18      0"
            ]
          },
          "metadata": {},
          "execution_count": 67
        }
      ]
    },
    {
      "cell_type": "code",
      "metadata": {
        "colab": {
          "base_uri": "https://localhost:8080/",
          "height": 204
        },
        "id": "f419Ma2fCp4L",
        "outputId": "e8a798c2-a513-4973-8878-aa5b5a80b323"
      },
      "source": [
        "#A terceira métrica é justamente a Janela, a diferença entre a abertura e o final do crédito\n",
        "df_aprovados['janela'] = df_aprovados['final'] - df_aprovados['abertura']\n",
        "df_aprovados.head()"
      ],
      "execution_count": null,
      "outputs": [
        {
          "output_type": "execute_result",
          "data": {
            "text/html": [
              "<div>\n",
              "<style scoped>\n",
              "    .dataframe tbody tr th:only-of-type {\n",
              "        vertical-align: middle;\n",
              "    }\n",
              "\n",
              "    .dataframe tbody tr th {\n",
              "        vertical-align: top;\n",
              "    }\n",
              "\n",
              "    .dataframe thead th {\n",
              "        text-align: right;\n",
              "    }\n",
              "</style>\n",
              "<table border=\"1\" class=\"dataframe\">\n",
              "  <thead>\n",
              "    <tr style=\"text-align: right;\">\n",
              "      <th></th>\n",
              "      <th>id_cliente</th>\n",
              "      <th>mes_referencia</th>\n",
              "      <th>faixa_atraso</th>\n",
              "      <th>abertura</th>\n",
              "      <th>final</th>\n",
              "      <th>janela</th>\n",
              "    </tr>\n",
              "  </thead>\n",
              "  <tbody>\n",
              "    <tr>\n",
              "      <th>0</th>\n",
              "      <td>5001711</td>\n",
              "      <td>0</td>\n",
              "      <td>nenhum empréstimo</td>\n",
              "      <td>-3</td>\n",
              "      <td>0</td>\n",
              "      <td>3</td>\n",
              "    </tr>\n",
              "    <tr>\n",
              "      <th>1</th>\n",
              "      <td>5001711</td>\n",
              "      <td>-1</td>\n",
              "      <td>1-29 dias</td>\n",
              "      <td>-3</td>\n",
              "      <td>0</td>\n",
              "      <td>3</td>\n",
              "    </tr>\n",
              "    <tr>\n",
              "      <th>2</th>\n",
              "      <td>5001711</td>\n",
              "      <td>-2</td>\n",
              "      <td>1-29 dias</td>\n",
              "      <td>-3</td>\n",
              "      <td>0</td>\n",
              "      <td>3</td>\n",
              "    </tr>\n",
              "    <tr>\n",
              "      <th>3</th>\n",
              "      <td>5001711</td>\n",
              "      <td>-3</td>\n",
              "      <td>1-29 dias</td>\n",
              "      <td>-3</td>\n",
              "      <td>0</td>\n",
              "      <td>3</td>\n",
              "    </tr>\n",
              "    <tr>\n",
              "      <th>4</th>\n",
              "      <td>5001712</td>\n",
              "      <td>0</td>\n",
              "      <td>pagamento realizado</td>\n",
              "      <td>-18</td>\n",
              "      <td>0</td>\n",
              "      <td>18</td>\n",
              "    </tr>\n",
              "  </tbody>\n",
              "</table>\n",
              "</div>"
            ],
            "text/plain": [
              "   id_cliente  mes_referencia         faixa_atraso  abertura  final  janela\n",
              "0     5001711               0    nenhum empréstimo        -3      0       3\n",
              "1     5001711              -1            1-29 dias        -3      0       3\n",
              "2     5001711              -2            1-29 dias        -3      0       3\n",
              "3     5001711              -3            1-29 dias        -3      0       3\n",
              "4     5001712               0  pagamento realizado       -18      0      18"
            ]
          },
          "metadata": {},
          "execution_count": 68
        }
      ]
    },
    {
      "cell_type": "code",
      "metadata": {
        "colab": {
          "base_uri": "https://localhost:8080/",
          "height": 204
        },
        "id": "GE5WSlCqDNmZ",
        "outputId": "0d8df071-ce72-4942-86d8-62d07e1c831a"
      },
      "source": [
        "#A quarta métrica é o MOB (Months on the Book), ou a qual mês de recebimento daquele crédito estamos se referindo para fins de rentabilidade e contabilidade\n",
        "#Exemplo: cliente pegou crédito em Jul/2021 (Jul/2021 é o MOB 0 então), em Setembro/2021 cliente está no MOB 2 \n",
        "#O comum de se interpretar, é que os pagamentos no MOB 0 são Adiantamentos, porque geralmente o primeiro vencimento é para o próximo mês de referência\n",
        "df_aprovados['MOB'] = df_aprovados['mes_referencia'] - df_aprovados['abertura']\n",
        "df_aprovados.head()"
      ],
      "execution_count": null,
      "outputs": [
        {
          "output_type": "execute_result",
          "data": {
            "text/html": [
              "<div>\n",
              "<style scoped>\n",
              "    .dataframe tbody tr th:only-of-type {\n",
              "        vertical-align: middle;\n",
              "    }\n",
              "\n",
              "    .dataframe tbody tr th {\n",
              "        vertical-align: top;\n",
              "    }\n",
              "\n",
              "    .dataframe thead th {\n",
              "        text-align: right;\n",
              "    }\n",
              "</style>\n",
              "<table border=\"1\" class=\"dataframe\">\n",
              "  <thead>\n",
              "    <tr style=\"text-align: right;\">\n",
              "      <th></th>\n",
              "      <th>id_cliente</th>\n",
              "      <th>mes_referencia</th>\n",
              "      <th>faixa_atraso</th>\n",
              "      <th>abertura</th>\n",
              "      <th>final</th>\n",
              "      <th>janela</th>\n",
              "      <th>MOB</th>\n",
              "    </tr>\n",
              "  </thead>\n",
              "  <tbody>\n",
              "    <tr>\n",
              "      <th>0</th>\n",
              "      <td>5001711</td>\n",
              "      <td>0</td>\n",
              "      <td>nenhum empréstimo</td>\n",
              "      <td>-3</td>\n",
              "      <td>0</td>\n",
              "      <td>3</td>\n",
              "      <td>3</td>\n",
              "    </tr>\n",
              "    <tr>\n",
              "      <th>1</th>\n",
              "      <td>5001711</td>\n",
              "      <td>-1</td>\n",
              "      <td>1-29 dias</td>\n",
              "      <td>-3</td>\n",
              "      <td>0</td>\n",
              "      <td>3</td>\n",
              "      <td>2</td>\n",
              "    </tr>\n",
              "    <tr>\n",
              "      <th>2</th>\n",
              "      <td>5001711</td>\n",
              "      <td>-2</td>\n",
              "      <td>1-29 dias</td>\n",
              "      <td>-3</td>\n",
              "      <td>0</td>\n",
              "      <td>3</td>\n",
              "      <td>1</td>\n",
              "    </tr>\n",
              "    <tr>\n",
              "      <th>3</th>\n",
              "      <td>5001711</td>\n",
              "      <td>-3</td>\n",
              "      <td>1-29 dias</td>\n",
              "      <td>-3</td>\n",
              "      <td>0</td>\n",
              "      <td>3</td>\n",
              "      <td>0</td>\n",
              "    </tr>\n",
              "    <tr>\n",
              "      <th>4</th>\n",
              "      <td>5001712</td>\n",
              "      <td>0</td>\n",
              "      <td>pagamento realizado</td>\n",
              "      <td>-18</td>\n",
              "      <td>0</td>\n",
              "      <td>18</td>\n",
              "      <td>18</td>\n",
              "    </tr>\n",
              "  </tbody>\n",
              "</table>\n",
              "</div>"
            ],
            "text/plain": [
              "   id_cliente  mes_referencia         faixa_atraso  ...  final  janela  MOB\n",
              "0     5001711               0    nenhum empréstimo  ...      0       3    3\n",
              "1     5001711              -1            1-29 dias  ...      0       3    2\n",
              "2     5001711              -2            1-29 dias  ...      0       3    1\n",
              "3     5001711              -3            1-29 dias  ...      0       3    0\n",
              "4     5001712               0  pagamento realizado  ...      0      18   18\n",
              "\n",
              "[5 rows x 7 columns]"
            ]
          },
          "metadata": {},
          "execution_count": 69
        }
      ]
    },
    {
      "cell_type": "code",
      "metadata": {
        "colab": {
          "base_uri": "https://localhost:8080/",
          "height": 204
        },
        "id": "9aRwiy3qEJte",
        "outputId": "cf0ff1cf-756b-4243-b601-268fa4bb2498"
      },
      "source": [
        "#A quinta métrica é uma coluna numérica da faixa de atraso, nesta parte estamos fazendo um Label Encoding 'manual'\n",
        "dict_faixa_atraso_ind ={'nenhum empréstimo': 0, 'pagamento realizado': 1,\n",
        "                        '1-29 dias': 2, '30-59 dias': 3, '60-89 dias': 4,\n",
        "                        '90-119 dias': 5, '120-149 dias': 6, '>150 dias': 7}\n",
        "df_aprovados['faixa_atraso_num'] = df_aprovados['faixa_atraso'].map(dict_faixa_atraso_ind)\n",
        "df_aprovados.head()"
      ],
      "execution_count": null,
      "outputs": [
        {
          "output_type": "execute_result",
          "data": {
            "text/html": [
              "<div>\n",
              "<style scoped>\n",
              "    .dataframe tbody tr th:only-of-type {\n",
              "        vertical-align: middle;\n",
              "    }\n",
              "\n",
              "    .dataframe tbody tr th {\n",
              "        vertical-align: top;\n",
              "    }\n",
              "\n",
              "    .dataframe thead th {\n",
              "        text-align: right;\n",
              "    }\n",
              "</style>\n",
              "<table border=\"1\" class=\"dataframe\">\n",
              "  <thead>\n",
              "    <tr style=\"text-align: right;\">\n",
              "      <th></th>\n",
              "      <th>id_cliente</th>\n",
              "      <th>mes_referencia</th>\n",
              "      <th>faixa_atraso</th>\n",
              "      <th>abertura</th>\n",
              "      <th>final</th>\n",
              "      <th>janela</th>\n",
              "      <th>MOB</th>\n",
              "      <th>faixa_atraso_num</th>\n",
              "    </tr>\n",
              "  </thead>\n",
              "  <tbody>\n",
              "    <tr>\n",
              "      <th>0</th>\n",
              "      <td>5001711</td>\n",
              "      <td>0</td>\n",
              "      <td>nenhum empréstimo</td>\n",
              "      <td>-3</td>\n",
              "      <td>0</td>\n",
              "      <td>3</td>\n",
              "      <td>3</td>\n",
              "      <td>0</td>\n",
              "    </tr>\n",
              "    <tr>\n",
              "      <th>1</th>\n",
              "      <td>5001711</td>\n",
              "      <td>-1</td>\n",
              "      <td>1-29 dias</td>\n",
              "      <td>-3</td>\n",
              "      <td>0</td>\n",
              "      <td>3</td>\n",
              "      <td>2</td>\n",
              "      <td>2</td>\n",
              "    </tr>\n",
              "    <tr>\n",
              "      <th>2</th>\n",
              "      <td>5001711</td>\n",
              "      <td>-2</td>\n",
              "      <td>1-29 dias</td>\n",
              "      <td>-3</td>\n",
              "      <td>0</td>\n",
              "      <td>3</td>\n",
              "      <td>1</td>\n",
              "      <td>2</td>\n",
              "    </tr>\n",
              "    <tr>\n",
              "      <th>3</th>\n",
              "      <td>5001711</td>\n",
              "      <td>-3</td>\n",
              "      <td>1-29 dias</td>\n",
              "      <td>-3</td>\n",
              "      <td>0</td>\n",
              "      <td>3</td>\n",
              "      <td>0</td>\n",
              "      <td>2</td>\n",
              "    </tr>\n",
              "    <tr>\n",
              "      <th>4</th>\n",
              "      <td>5001712</td>\n",
              "      <td>0</td>\n",
              "      <td>pagamento realizado</td>\n",
              "      <td>-18</td>\n",
              "      <td>0</td>\n",
              "      <td>18</td>\n",
              "      <td>18</td>\n",
              "      <td>1</td>\n",
              "    </tr>\n",
              "  </tbody>\n",
              "</table>\n",
              "</div>"
            ],
            "text/plain": [
              "   id_cliente  mes_referencia  ... MOB  faixa_atraso_num\n",
              "0     5001711               0  ...   3                 0\n",
              "1     5001711              -1  ...   2                 2\n",
              "2     5001711              -2  ...   1                 2\n",
              "3     5001711              -3  ...   0                 2\n",
              "4     5001712               0  ...  18                 1\n",
              "\n",
              "[5 rows x 8 columns]"
            ]
          },
          "metadata": {},
          "execution_count": 70
        }
      ]
    },
    {
      "cell_type": "code",
      "metadata": {
        "colab": {
          "base_uri": "https://localhost:8080/",
          "height": 204
        },
        "id": "p3BFssfUFS2U",
        "outputId": "83570820-0fa8-4d78-eee3-4a59bd148932"
      },
      "source": [
        "#A sexta métrica para o dataframe é uma coluna aqui sim binária que define uma lógica para maus pagadores\n",
        "df_aprovados['mau_pagador'] = df_aprovados.apply(lambda x: 1 if x['faixa_atraso_num'] > 3 else 0, axis=1)\n",
        "df_aprovados.head()"
      ],
      "execution_count": null,
      "outputs": [
        {
          "output_type": "execute_result",
          "data": {
            "text/html": [
              "<div>\n",
              "<style scoped>\n",
              "    .dataframe tbody tr th:only-of-type {\n",
              "        vertical-align: middle;\n",
              "    }\n",
              "\n",
              "    .dataframe tbody tr th {\n",
              "        vertical-align: top;\n",
              "    }\n",
              "\n",
              "    .dataframe thead th {\n",
              "        text-align: right;\n",
              "    }\n",
              "</style>\n",
              "<table border=\"1\" class=\"dataframe\">\n",
              "  <thead>\n",
              "    <tr style=\"text-align: right;\">\n",
              "      <th></th>\n",
              "      <th>id_cliente</th>\n",
              "      <th>mes_referencia</th>\n",
              "      <th>faixa_atraso</th>\n",
              "      <th>abertura</th>\n",
              "      <th>final</th>\n",
              "      <th>janela</th>\n",
              "      <th>MOB</th>\n",
              "      <th>faixa_atraso_num</th>\n",
              "      <th>mau_pagador</th>\n",
              "    </tr>\n",
              "  </thead>\n",
              "  <tbody>\n",
              "    <tr>\n",
              "      <th>0</th>\n",
              "      <td>5001711</td>\n",
              "      <td>0</td>\n",
              "      <td>nenhum empréstimo</td>\n",
              "      <td>-3</td>\n",
              "      <td>0</td>\n",
              "      <td>3</td>\n",
              "      <td>3</td>\n",
              "      <td>0</td>\n",
              "      <td>0</td>\n",
              "    </tr>\n",
              "    <tr>\n",
              "      <th>1</th>\n",
              "      <td>5001711</td>\n",
              "      <td>-1</td>\n",
              "      <td>1-29 dias</td>\n",
              "      <td>-3</td>\n",
              "      <td>0</td>\n",
              "      <td>3</td>\n",
              "      <td>2</td>\n",
              "      <td>2</td>\n",
              "      <td>0</td>\n",
              "    </tr>\n",
              "    <tr>\n",
              "      <th>2</th>\n",
              "      <td>5001711</td>\n",
              "      <td>-2</td>\n",
              "      <td>1-29 dias</td>\n",
              "      <td>-3</td>\n",
              "      <td>0</td>\n",
              "      <td>3</td>\n",
              "      <td>1</td>\n",
              "      <td>2</td>\n",
              "      <td>0</td>\n",
              "    </tr>\n",
              "    <tr>\n",
              "      <th>3</th>\n",
              "      <td>5001711</td>\n",
              "      <td>-3</td>\n",
              "      <td>1-29 dias</td>\n",
              "      <td>-3</td>\n",
              "      <td>0</td>\n",
              "      <td>3</td>\n",
              "      <td>0</td>\n",
              "      <td>2</td>\n",
              "      <td>0</td>\n",
              "    </tr>\n",
              "    <tr>\n",
              "      <th>4</th>\n",
              "      <td>5001712</td>\n",
              "      <td>0</td>\n",
              "      <td>pagamento realizado</td>\n",
              "      <td>-18</td>\n",
              "      <td>0</td>\n",
              "      <td>18</td>\n",
              "      <td>18</td>\n",
              "      <td>1</td>\n",
              "      <td>0</td>\n",
              "    </tr>\n",
              "  </tbody>\n",
              "</table>\n",
              "</div>"
            ],
            "text/plain": [
              "   id_cliente  mes_referencia  ... faixa_atraso_num  mau_pagador\n",
              "0     5001711               0  ...                0            0\n",
              "1     5001711              -1  ...                2            0\n",
              "2     5001711              -2  ...                2            0\n",
              "3     5001711              -3  ...                2            0\n",
              "4     5001712               0  ...                1            0\n",
              "\n",
              "[5 rows x 9 columns]"
            ]
          },
          "metadata": {},
          "execution_count": 71
        }
      ]
    },
    {
      "cell_type": "markdown",
      "metadata": {
        "id": "EAfo1yOy3CCc"
      },
      "source": [
        "###Continuando a análise em busca da variável target"
      ]
    },
    {
      "cell_type": "code",
      "metadata": {
        "id": "jCXdf0c3GAiV",
        "colab": {
          "base_uri": "https://localhost:8080/",
          "height": 419
        },
        "outputId": "ec75d784-03d7-4fc7-815d-721ce146f748"
      },
      "source": [
        "df_registros_creditos_ID = df_aprovados[['id_cliente','abertura', 'final', 'janela']]\\\n",
        "                                                                                      .groupby('id_cliente')\\\n",
        "                                                                                      .apply(lambda x: x.iloc[0]).reset_index(drop=True)\n",
        "df_registros_creditos_ID"
      ],
      "execution_count": null,
      "outputs": [
        {
          "output_type": "execute_result",
          "data": {
            "text/html": [
              "<div>\n",
              "<style scoped>\n",
              "    .dataframe tbody tr th:only-of-type {\n",
              "        vertical-align: middle;\n",
              "    }\n",
              "\n",
              "    .dataframe tbody tr th {\n",
              "        vertical-align: top;\n",
              "    }\n",
              "\n",
              "    .dataframe thead th {\n",
              "        text-align: right;\n",
              "    }\n",
              "</style>\n",
              "<table border=\"1\" class=\"dataframe\">\n",
              "  <thead>\n",
              "    <tr style=\"text-align: right;\">\n",
              "      <th></th>\n",
              "      <th>id_cliente</th>\n",
              "      <th>abertura</th>\n",
              "      <th>final</th>\n",
              "      <th>janela</th>\n",
              "    </tr>\n",
              "  </thead>\n",
              "  <tbody>\n",
              "    <tr>\n",
              "      <th>0</th>\n",
              "      <td>5001711</td>\n",
              "      <td>-3</td>\n",
              "      <td>0</td>\n",
              "      <td>3</td>\n",
              "    </tr>\n",
              "    <tr>\n",
              "      <th>1</th>\n",
              "      <td>5001712</td>\n",
              "      <td>-18</td>\n",
              "      <td>0</td>\n",
              "      <td>18</td>\n",
              "    </tr>\n",
              "    <tr>\n",
              "      <th>2</th>\n",
              "      <td>5001713</td>\n",
              "      <td>-21</td>\n",
              "      <td>0</td>\n",
              "      <td>21</td>\n",
              "    </tr>\n",
              "    <tr>\n",
              "      <th>3</th>\n",
              "      <td>5001714</td>\n",
              "      <td>-14</td>\n",
              "      <td>0</td>\n",
              "      <td>14</td>\n",
              "    </tr>\n",
              "    <tr>\n",
              "      <th>4</th>\n",
              "      <td>5001715</td>\n",
              "      <td>-59</td>\n",
              "      <td>0</td>\n",
              "      <td>59</td>\n",
              "    </tr>\n",
              "    <tr>\n",
              "      <th>...</th>\n",
              "      <td>...</td>\n",
              "      <td>...</td>\n",
              "      <td>...</td>\n",
              "      <td>...</td>\n",
              "    </tr>\n",
              "    <tr>\n",
              "      <th>45980</th>\n",
              "      <td>5150482</td>\n",
              "      <td>-28</td>\n",
              "      <td>-11</td>\n",
              "      <td>17</td>\n",
              "    </tr>\n",
              "    <tr>\n",
              "      <th>45981</th>\n",
              "      <td>5150483</td>\n",
              "      <td>-17</td>\n",
              "      <td>0</td>\n",
              "      <td>17</td>\n",
              "    </tr>\n",
              "    <tr>\n",
              "      <th>45982</th>\n",
              "      <td>5150484</td>\n",
              "      <td>-12</td>\n",
              "      <td>0</td>\n",
              "      <td>12</td>\n",
              "    </tr>\n",
              "    <tr>\n",
              "      <th>45983</th>\n",
              "      <td>5150485</td>\n",
              "      <td>-1</td>\n",
              "      <td>0</td>\n",
              "      <td>1</td>\n",
              "    </tr>\n",
              "    <tr>\n",
              "      <th>45984</th>\n",
              "      <td>5150487</td>\n",
              "      <td>-29</td>\n",
              "      <td>0</td>\n",
              "      <td>29</td>\n",
              "    </tr>\n",
              "  </tbody>\n",
              "</table>\n",
              "<p>45985 rows × 4 columns</p>\n",
              "</div>"
            ],
            "text/plain": [
              "       id_cliente  abertura  final  janela\n",
              "0         5001711        -3      0       3\n",
              "1         5001712       -18      0      18\n",
              "2         5001713       -21      0      21\n",
              "3         5001714       -14      0      14\n",
              "4         5001715       -59      0      59\n",
              "...           ...       ...    ...     ...\n",
              "45980     5150482       -28    -11      17\n",
              "45981     5150483       -17      0      17\n",
              "45982     5150484       -12      0      12\n",
              "45983     5150485        -1      0       1\n",
              "45984     5150487       -29      0      29\n",
              "\n",
              "[45985 rows x 4 columns]"
            ]
          },
          "metadata": {},
          "execution_count": 72
        }
      ]
    },
    {
      "cell_type": "code",
      "metadata": {
        "colab": {
          "base_uri": "https://localhost:8080/",
          "height": 419
        },
        "id": "Jbqe6O8z3Tqw",
        "outputId": "6a374d50-e625-43f3-cf64-7dc01f333122"
      },
      "source": [
        "df_denominador = df_registros_creditos_ID.groupby('abertura').apply(lambda X: X['id_cliente'].count()).reset_index()\n",
        "df_denominador.columns = ['abertura','qtd_clientes']\n",
        "df_denominador"
      ],
      "execution_count": null,
      "outputs": [
        {
          "output_type": "execute_result",
          "data": {
            "text/html": [
              "<div>\n",
              "<style scoped>\n",
              "    .dataframe tbody tr th:only-of-type {\n",
              "        vertical-align: middle;\n",
              "    }\n",
              "\n",
              "    .dataframe tbody tr th {\n",
              "        vertical-align: top;\n",
              "    }\n",
              "\n",
              "    .dataframe thead th {\n",
              "        text-align: right;\n",
              "    }\n",
              "</style>\n",
              "<table border=\"1\" class=\"dataframe\">\n",
              "  <thead>\n",
              "    <tr style=\"text-align: right;\">\n",
              "      <th></th>\n",
              "      <th>abertura</th>\n",
              "      <th>qtd_clientes</th>\n",
              "    </tr>\n",
              "  </thead>\n",
              "  <tbody>\n",
              "    <tr>\n",
              "      <th>0</th>\n",
              "      <td>-60</td>\n",
              "      <td>415</td>\n",
              "    </tr>\n",
              "    <tr>\n",
              "      <th>1</th>\n",
              "      <td>-59</td>\n",
              "      <td>406</td>\n",
              "    </tr>\n",
              "    <tr>\n",
              "      <th>2</th>\n",
              "      <td>-58</td>\n",
              "      <td>440</td>\n",
              "    </tr>\n",
              "    <tr>\n",
              "      <th>3</th>\n",
              "      <td>-57</td>\n",
              "      <td>400</td>\n",
              "    </tr>\n",
              "    <tr>\n",
              "      <th>4</th>\n",
              "      <td>-56</td>\n",
              "      <td>470</td>\n",
              "    </tr>\n",
              "    <tr>\n",
              "      <th>...</th>\n",
              "      <td>...</td>\n",
              "      <td>...</td>\n",
              "    </tr>\n",
              "    <tr>\n",
              "      <th>56</th>\n",
              "      <td>-4</td>\n",
              "      <td>874</td>\n",
              "    </tr>\n",
              "    <tr>\n",
              "      <th>57</th>\n",
              "      <td>-3</td>\n",
              "      <td>919</td>\n",
              "    </tr>\n",
              "    <tr>\n",
              "      <th>58</th>\n",
              "      <td>-2</td>\n",
              "      <td>771</td>\n",
              "    </tr>\n",
              "    <tr>\n",
              "      <th>59</th>\n",
              "      <td>-1</td>\n",
              "      <td>686</td>\n",
              "    </tr>\n",
              "    <tr>\n",
              "      <th>60</th>\n",
              "      <td>0</td>\n",
              "      <td>370</td>\n",
              "    </tr>\n",
              "  </tbody>\n",
              "</table>\n",
              "<p>61 rows × 2 columns</p>\n",
              "</div>"
            ],
            "text/plain": [
              "    abertura  qtd_clientes\n",
              "0        -60           415\n",
              "1        -59           406\n",
              "2        -58           440\n",
              "3        -57           400\n",
              "4        -56           470\n",
              "..       ...           ...\n",
              "56        -4           874\n",
              "57        -3           919\n",
              "58        -2           771\n",
              "59        -1           686\n",
              "60         0           370\n",
              "\n",
              "[61 rows x 2 columns]"
            ]
          },
          "metadata": {},
          "execution_count": 73
        }
      ]
    },
    {
      "cell_type": "code",
      "metadata": {
        "colab": {
          "base_uri": "https://localhost:8080/",
          "height": 419
        },
        "id": "g0rfNikZ3nPs",
        "outputId": "791348fe-59a8-4735-810e-a941840229b5"
      },
      "source": [
        "df_vintage = df_aprovados.groupby(['abertura','MOB']).apply(lambda X: X['id_cliente'].count()).reset_index()\n",
        "df_vintage.columns = ['abertura','MOB','qtd_clientes']\n",
        "df_vintage"
      ],
      "execution_count": null,
      "outputs": [
        {
          "output_type": "execute_result",
          "data": {
            "text/html": [
              "<div>\n",
              "<style scoped>\n",
              "    .dataframe tbody tr th:only-of-type {\n",
              "        vertical-align: middle;\n",
              "    }\n",
              "\n",
              "    .dataframe tbody tr th {\n",
              "        vertical-align: top;\n",
              "    }\n",
              "\n",
              "    .dataframe thead th {\n",
              "        text-align: right;\n",
              "    }\n",
              "</style>\n",
              "<table border=\"1\" class=\"dataframe\">\n",
              "  <thead>\n",
              "    <tr style=\"text-align: right;\">\n",
              "      <th></th>\n",
              "      <th>abertura</th>\n",
              "      <th>MOB</th>\n",
              "      <th>qtd_clientes</th>\n",
              "    </tr>\n",
              "  </thead>\n",
              "  <tbody>\n",
              "    <tr>\n",
              "      <th>0</th>\n",
              "      <td>-60</td>\n",
              "      <td>0</td>\n",
              "      <td>415</td>\n",
              "    </tr>\n",
              "    <tr>\n",
              "      <th>1</th>\n",
              "      <td>-60</td>\n",
              "      <td>1</td>\n",
              "      <td>414</td>\n",
              "    </tr>\n",
              "    <tr>\n",
              "      <th>2</th>\n",
              "      <td>-60</td>\n",
              "      <td>2</td>\n",
              "      <td>410</td>\n",
              "    </tr>\n",
              "    <tr>\n",
              "      <th>3</th>\n",
              "      <td>-60</td>\n",
              "      <td>3</td>\n",
              "      <td>408</td>\n",
              "    </tr>\n",
              "    <tr>\n",
              "      <th>4</th>\n",
              "      <td>-60</td>\n",
              "      <td>4</td>\n",
              "      <td>403</td>\n",
              "    </tr>\n",
              "    <tr>\n",
              "      <th>...</th>\n",
              "      <td>...</td>\n",
              "      <td>...</td>\n",
              "      <td>...</td>\n",
              "    </tr>\n",
              "    <tr>\n",
              "      <th>1886</th>\n",
              "      <td>-2</td>\n",
              "      <td>1</td>\n",
              "      <td>770</td>\n",
              "    </tr>\n",
              "    <tr>\n",
              "      <th>1887</th>\n",
              "      <td>-2</td>\n",
              "      <td>2</td>\n",
              "      <td>750</td>\n",
              "    </tr>\n",
              "    <tr>\n",
              "      <th>1888</th>\n",
              "      <td>-1</td>\n",
              "      <td>0</td>\n",
              "      <td>686</td>\n",
              "    </tr>\n",
              "    <tr>\n",
              "      <th>1889</th>\n",
              "      <td>-1</td>\n",
              "      <td>1</td>\n",
              "      <td>682</td>\n",
              "    </tr>\n",
              "    <tr>\n",
              "      <th>1890</th>\n",
              "      <td>0</td>\n",
              "      <td>0</td>\n",
              "      <td>370</td>\n",
              "    </tr>\n",
              "  </tbody>\n",
              "</table>\n",
              "<p>1891 rows × 3 columns</p>\n",
              "</div>"
            ],
            "text/plain": [
              "      abertura  MOB  qtd_clientes\n",
              "0          -60    0           415\n",
              "1          -60    1           414\n",
              "2          -60    2           410\n",
              "3          -60    3           408\n",
              "4          -60    4           403\n",
              "...        ...  ...           ...\n",
              "1886        -2    1           770\n",
              "1887        -2    2           750\n",
              "1888        -1    0           686\n",
              "1889        -1    1           682\n",
              "1890         0    0           370\n",
              "\n",
              "[1891 rows x 3 columns]"
            ]
          },
          "metadata": {},
          "execution_count": 74
        }
      ]
    },
    {
      "cell_type": "code",
      "metadata": {
        "colab": {
          "base_uri": "https://localhost:8080/",
          "height": 419
        },
        "id": "hehMg5hQ3zut",
        "outputId": "957baa48-09bd-4de0-8aa2-449ff9a3c074"
      },
      "source": [
        "df_vintage = pd.merge(df_vintage[['abertura','MOB']], df_denominador, on='abertura', how = 'left')\n",
        "df_vintage"
      ],
      "execution_count": null,
      "outputs": [
        {
          "output_type": "display_data",
          "data": {
            "application/javascript": [
              "\n",
              "        if (window._pyforest_update_imports_cell) { window._pyforest_update_imports_cell('import seaborn as sns\\nimport pandas as pd\\nimport matplotlib.pyplot as plt'); }\n",
              "    "
            ],
            "text/plain": [
              "<IPython.core.display.Javascript object>"
            ]
          },
          "metadata": {}
        },
        {
          "output_type": "execute_result",
          "data": {
            "text/html": [
              "<div>\n",
              "<style scoped>\n",
              "    .dataframe tbody tr th:only-of-type {\n",
              "        vertical-align: middle;\n",
              "    }\n",
              "\n",
              "    .dataframe tbody tr th {\n",
              "        vertical-align: top;\n",
              "    }\n",
              "\n",
              "    .dataframe thead th {\n",
              "        text-align: right;\n",
              "    }\n",
              "</style>\n",
              "<table border=\"1\" class=\"dataframe\">\n",
              "  <thead>\n",
              "    <tr style=\"text-align: right;\">\n",
              "      <th></th>\n",
              "      <th>abertura</th>\n",
              "      <th>MOB</th>\n",
              "      <th>qtd_clientes</th>\n",
              "    </tr>\n",
              "  </thead>\n",
              "  <tbody>\n",
              "    <tr>\n",
              "      <th>0</th>\n",
              "      <td>-60</td>\n",
              "      <td>0</td>\n",
              "      <td>415</td>\n",
              "    </tr>\n",
              "    <tr>\n",
              "      <th>1</th>\n",
              "      <td>-60</td>\n",
              "      <td>1</td>\n",
              "      <td>415</td>\n",
              "    </tr>\n",
              "    <tr>\n",
              "      <th>2</th>\n",
              "      <td>-60</td>\n",
              "      <td>2</td>\n",
              "      <td>415</td>\n",
              "    </tr>\n",
              "    <tr>\n",
              "      <th>3</th>\n",
              "      <td>-60</td>\n",
              "      <td>3</td>\n",
              "      <td>415</td>\n",
              "    </tr>\n",
              "    <tr>\n",
              "      <th>4</th>\n",
              "      <td>-60</td>\n",
              "      <td>4</td>\n",
              "      <td>415</td>\n",
              "    </tr>\n",
              "    <tr>\n",
              "      <th>...</th>\n",
              "      <td>...</td>\n",
              "      <td>...</td>\n",
              "      <td>...</td>\n",
              "    </tr>\n",
              "    <tr>\n",
              "      <th>1886</th>\n",
              "      <td>-2</td>\n",
              "      <td>1</td>\n",
              "      <td>771</td>\n",
              "    </tr>\n",
              "    <tr>\n",
              "      <th>1887</th>\n",
              "      <td>-2</td>\n",
              "      <td>2</td>\n",
              "      <td>771</td>\n",
              "    </tr>\n",
              "    <tr>\n",
              "      <th>1888</th>\n",
              "      <td>-1</td>\n",
              "      <td>0</td>\n",
              "      <td>686</td>\n",
              "    </tr>\n",
              "    <tr>\n",
              "      <th>1889</th>\n",
              "      <td>-1</td>\n",
              "      <td>1</td>\n",
              "      <td>686</td>\n",
              "    </tr>\n",
              "    <tr>\n",
              "      <th>1890</th>\n",
              "      <td>0</td>\n",
              "      <td>0</td>\n",
              "      <td>370</td>\n",
              "    </tr>\n",
              "  </tbody>\n",
              "</table>\n",
              "<p>1891 rows × 3 columns</p>\n",
              "</div>"
            ],
            "text/plain": [
              "      abertura  MOB  qtd_clientes\n",
              "0          -60    0           415\n",
              "1          -60    1           415\n",
              "2          -60    2           415\n",
              "3          -60    3           415\n",
              "4          -60    4           415\n",
              "...        ...  ...           ...\n",
              "1886        -2    1           771\n",
              "1887        -2    2           771\n",
              "1888        -1    0           686\n",
              "1889        -1    1           686\n",
              "1890         0    0           370\n",
              "\n",
              "[1891 rows x 3 columns]"
            ]
          },
          "metadata": {},
          "execution_count": 75
        }
      ]
    },
    {
      "cell_type": "code",
      "metadata": {
        "colab": {
          "base_uri": "https://localhost:8080/",
          "height": 419
        },
        "id": "PzTbmwla36Mc",
        "outputId": "5acc2302-f500-4809-cc4c-b5d688e6527e"
      },
      "source": [
        "df_vintage['qtd_mau'] = np.nan\n",
        "\n",
        "for j in range(-60,1):\n",
        "    ls = []\n",
        "    for i in range(0,61):\n",
        "        due = list(df_aprovados.query('mau_pagador == 1 and MOB == @i and abertura == @j')['id_cliente'])\n",
        "        ls.extend(due)\n",
        "        df_vintage.loc[(df_vintage['MOB'] == i) & (df_vintage['abertura'] == j), 'qtd_mau'] = len(set(ls))\n",
        "        \n",
        "df_vintage['taxa_de_mau']  = df_vintage['qtd_mau'] / df_vintage['qtd_clientes']\n",
        "df_vintage"
      ],
      "execution_count": null,
      "outputs": [
        {
          "output_type": "display_data",
          "data": {
            "application/javascript": [
              "\n",
              "        if (window._pyforest_update_imports_cell) { window._pyforest_update_imports_cell('import seaborn as sns\\nimport numpy as np\\nimport pandas as pd\\nimport matplotlib.pyplot as plt'); }\n",
              "    "
            ],
            "text/plain": [
              "<IPython.core.display.Javascript object>"
            ]
          },
          "metadata": {}
        },
        {
          "output_type": "execute_result",
          "data": {
            "text/html": [
              "<div>\n",
              "<style scoped>\n",
              "    .dataframe tbody tr th:only-of-type {\n",
              "        vertical-align: middle;\n",
              "    }\n",
              "\n",
              "    .dataframe tbody tr th {\n",
              "        vertical-align: top;\n",
              "    }\n",
              "\n",
              "    .dataframe thead th {\n",
              "        text-align: right;\n",
              "    }\n",
              "</style>\n",
              "<table border=\"1\" class=\"dataframe\">\n",
              "  <thead>\n",
              "    <tr style=\"text-align: right;\">\n",
              "      <th></th>\n",
              "      <th>abertura</th>\n",
              "      <th>MOB</th>\n",
              "      <th>qtd_clientes</th>\n",
              "      <th>qtd_mau</th>\n",
              "      <th>taxa_de_mau</th>\n",
              "    </tr>\n",
              "  </thead>\n",
              "  <tbody>\n",
              "    <tr>\n",
              "      <th>0</th>\n",
              "      <td>-60</td>\n",
              "      <td>0</td>\n",
              "      <td>415</td>\n",
              "      <td>0.0</td>\n",
              "      <td>0.000000</td>\n",
              "    </tr>\n",
              "    <tr>\n",
              "      <th>1</th>\n",
              "      <td>-60</td>\n",
              "      <td>1</td>\n",
              "      <td>415</td>\n",
              "      <td>0.0</td>\n",
              "      <td>0.000000</td>\n",
              "    </tr>\n",
              "    <tr>\n",
              "      <th>2</th>\n",
              "      <td>-60</td>\n",
              "      <td>2</td>\n",
              "      <td>415</td>\n",
              "      <td>0.0</td>\n",
              "      <td>0.000000</td>\n",
              "    </tr>\n",
              "    <tr>\n",
              "      <th>3</th>\n",
              "      <td>-60</td>\n",
              "      <td>3</td>\n",
              "      <td>415</td>\n",
              "      <td>0.0</td>\n",
              "      <td>0.000000</td>\n",
              "    </tr>\n",
              "    <tr>\n",
              "      <th>4</th>\n",
              "      <td>-60</td>\n",
              "      <td>4</td>\n",
              "      <td>415</td>\n",
              "      <td>0.0</td>\n",
              "      <td>0.000000</td>\n",
              "    </tr>\n",
              "    <tr>\n",
              "      <th>...</th>\n",
              "      <td>...</td>\n",
              "      <td>...</td>\n",
              "      <td>...</td>\n",
              "      <td>...</td>\n",
              "      <td>...</td>\n",
              "    </tr>\n",
              "    <tr>\n",
              "      <th>1886</th>\n",
              "      <td>-2</td>\n",
              "      <td>1</td>\n",
              "      <td>771</td>\n",
              "      <td>0.0</td>\n",
              "      <td>0.000000</td>\n",
              "    </tr>\n",
              "    <tr>\n",
              "      <th>1887</th>\n",
              "      <td>-2</td>\n",
              "      <td>2</td>\n",
              "      <td>771</td>\n",
              "      <td>1.0</td>\n",
              "      <td>0.001297</td>\n",
              "    </tr>\n",
              "    <tr>\n",
              "      <th>1888</th>\n",
              "      <td>-1</td>\n",
              "      <td>0</td>\n",
              "      <td>686</td>\n",
              "      <td>0.0</td>\n",
              "      <td>0.000000</td>\n",
              "    </tr>\n",
              "    <tr>\n",
              "      <th>1889</th>\n",
              "      <td>-1</td>\n",
              "      <td>1</td>\n",
              "      <td>686</td>\n",
              "      <td>0.0</td>\n",
              "      <td>0.000000</td>\n",
              "    </tr>\n",
              "    <tr>\n",
              "      <th>1890</th>\n",
              "      <td>0</td>\n",
              "      <td>0</td>\n",
              "      <td>370</td>\n",
              "      <td>0.0</td>\n",
              "      <td>0.000000</td>\n",
              "    </tr>\n",
              "  </tbody>\n",
              "</table>\n",
              "<p>1891 rows × 5 columns</p>\n",
              "</div>"
            ],
            "text/plain": [
              "      abertura  MOB  qtd_clientes  qtd_mau  taxa_de_mau\n",
              "0          -60    0           415      0.0     0.000000\n",
              "1          -60    1           415      0.0     0.000000\n",
              "2          -60    2           415      0.0     0.000000\n",
              "3          -60    3           415      0.0     0.000000\n",
              "4          -60    4           415      0.0     0.000000\n",
              "...        ...  ...           ...      ...          ...\n",
              "1886        -2    1           771      0.0     0.000000\n",
              "1887        -2    2           771      1.0     0.001297\n",
              "1888        -1    0           686      0.0     0.000000\n",
              "1889        -1    1           686      0.0     0.000000\n",
              "1890         0    0           370      0.0     0.000000\n",
              "\n",
              "[1891 rows x 5 columns]"
            ]
          },
          "metadata": {},
          "execution_count": 76
        }
      ]
    },
    {
      "cell_type": "code",
      "metadata": {
        "colab": {
          "base_uri": "https://localhost:8080/",
          "height": 470
        },
        "id": "UdA4ZA0y4mWU",
        "outputId": "e5b20d24-323f-4564-a6dc-3665397a2ff6"
      },
      "source": [
        "df_vintage_pivot = df_vintage.pivot(index = 'abertura',\n",
        "                             columns = 'MOB',\n",
        "                             values = 'taxa_de_mau')\n",
        "\n",
        "df_vintage_pivot"
      ],
      "execution_count": null,
      "outputs": [
        {
          "output_type": "execute_result",
          "data": {
            "text/html": [
              "<div>\n",
              "<style scoped>\n",
              "    .dataframe tbody tr th:only-of-type {\n",
              "        vertical-align: middle;\n",
              "    }\n",
              "\n",
              "    .dataframe tbody tr th {\n",
              "        vertical-align: top;\n",
              "    }\n",
              "\n",
              "    .dataframe thead th {\n",
              "        text-align: right;\n",
              "    }\n",
              "</style>\n",
              "<table border=\"1\" class=\"dataframe\">\n",
              "  <thead>\n",
              "    <tr style=\"text-align: right;\">\n",
              "      <th>MOB</th>\n",
              "      <th>0</th>\n",
              "      <th>1</th>\n",
              "      <th>2</th>\n",
              "      <th>3</th>\n",
              "      <th>4</th>\n",
              "      <th>5</th>\n",
              "      <th>6</th>\n",
              "      <th>7</th>\n",
              "      <th>8</th>\n",
              "      <th>9</th>\n",
              "      <th>10</th>\n",
              "      <th>11</th>\n",
              "      <th>12</th>\n",
              "      <th>13</th>\n",
              "      <th>14</th>\n",
              "      <th>15</th>\n",
              "      <th>16</th>\n",
              "      <th>17</th>\n",
              "      <th>18</th>\n",
              "      <th>19</th>\n",
              "      <th>20</th>\n",
              "      <th>21</th>\n",
              "      <th>22</th>\n",
              "      <th>23</th>\n",
              "      <th>24</th>\n",
              "      <th>25</th>\n",
              "      <th>26</th>\n",
              "      <th>27</th>\n",
              "      <th>28</th>\n",
              "      <th>29</th>\n",
              "      <th>30</th>\n",
              "      <th>31</th>\n",
              "      <th>32</th>\n",
              "      <th>33</th>\n",
              "      <th>34</th>\n",
              "      <th>35</th>\n",
              "      <th>36</th>\n",
              "      <th>37</th>\n",
              "      <th>38</th>\n",
              "      <th>39</th>\n",
              "      <th>40</th>\n",
              "      <th>41</th>\n",
              "      <th>42</th>\n",
              "      <th>43</th>\n",
              "      <th>44</th>\n",
              "      <th>45</th>\n",
              "      <th>46</th>\n",
              "      <th>47</th>\n",
              "      <th>48</th>\n",
              "      <th>49</th>\n",
              "      <th>50</th>\n",
              "      <th>51</th>\n",
              "      <th>52</th>\n",
              "      <th>53</th>\n",
              "      <th>54</th>\n",
              "      <th>55</th>\n",
              "      <th>56</th>\n",
              "      <th>57</th>\n",
              "      <th>58</th>\n",
              "      <th>59</th>\n",
              "      <th>60</th>\n",
              "    </tr>\n",
              "    <tr>\n",
              "      <th>abertura</th>\n",
              "      <th></th>\n",
              "      <th></th>\n",
              "      <th></th>\n",
              "      <th></th>\n",
              "      <th></th>\n",
              "      <th></th>\n",
              "      <th></th>\n",
              "      <th></th>\n",
              "      <th></th>\n",
              "      <th></th>\n",
              "      <th></th>\n",
              "      <th></th>\n",
              "      <th></th>\n",
              "      <th></th>\n",
              "      <th></th>\n",
              "      <th></th>\n",
              "      <th></th>\n",
              "      <th></th>\n",
              "      <th></th>\n",
              "      <th></th>\n",
              "      <th></th>\n",
              "      <th></th>\n",
              "      <th></th>\n",
              "      <th></th>\n",
              "      <th></th>\n",
              "      <th></th>\n",
              "      <th></th>\n",
              "      <th></th>\n",
              "      <th></th>\n",
              "      <th></th>\n",
              "      <th></th>\n",
              "      <th></th>\n",
              "      <th></th>\n",
              "      <th></th>\n",
              "      <th></th>\n",
              "      <th></th>\n",
              "      <th></th>\n",
              "      <th></th>\n",
              "      <th></th>\n",
              "      <th></th>\n",
              "      <th></th>\n",
              "      <th></th>\n",
              "      <th></th>\n",
              "      <th></th>\n",
              "      <th></th>\n",
              "      <th></th>\n",
              "      <th></th>\n",
              "      <th></th>\n",
              "      <th></th>\n",
              "      <th></th>\n",
              "      <th></th>\n",
              "      <th></th>\n",
              "      <th></th>\n",
              "      <th></th>\n",
              "      <th></th>\n",
              "      <th></th>\n",
              "      <th></th>\n",
              "      <th></th>\n",
              "      <th></th>\n",
              "      <th></th>\n",
              "      <th></th>\n",
              "    </tr>\n",
              "  </thead>\n",
              "  <tbody>\n",
              "    <tr>\n",
              "      <th>-60</th>\n",
              "      <td>0.0</td>\n",
              "      <td>0.0</td>\n",
              "      <td>0.000000</td>\n",
              "      <td>0.000000</td>\n",
              "      <td>0.000000</td>\n",
              "      <td>0.002410</td>\n",
              "      <td>0.002410</td>\n",
              "      <td>0.007229</td>\n",
              "      <td>0.007229</td>\n",
              "      <td>0.009639</td>\n",
              "      <td>0.009639</td>\n",
              "      <td>0.012048</td>\n",
              "      <td>0.014458</td>\n",
              "      <td>0.016867</td>\n",
              "      <td>0.016867</td>\n",
              "      <td>0.016867</td>\n",
              "      <td>0.016867</td>\n",
              "      <td>0.016867</td>\n",
              "      <td>0.016867</td>\n",
              "      <td>0.016867</td>\n",
              "      <td>0.016867</td>\n",
              "      <td>0.019277</td>\n",
              "      <td>0.019277</td>\n",
              "      <td>0.019277</td>\n",
              "      <td>0.019277</td>\n",
              "      <td>0.021687</td>\n",
              "      <td>0.021687</td>\n",
              "      <td>0.021687</td>\n",
              "      <td>0.021687</td>\n",
              "      <td>0.024096</td>\n",
              "      <td>0.026506</td>\n",
              "      <td>0.026506</td>\n",
              "      <td>0.026506</td>\n",
              "      <td>0.026506</td>\n",
              "      <td>0.026506</td>\n",
              "      <td>0.026506</td>\n",
              "      <td>0.026506</td>\n",
              "      <td>0.026506</td>\n",
              "      <td>0.026506</td>\n",
              "      <td>0.026506</td>\n",
              "      <td>0.026506</td>\n",
              "      <td>0.026506</td>\n",
              "      <td>0.026506</td>\n",
              "      <td>0.026506</td>\n",
              "      <td>0.026506</td>\n",
              "      <td>0.026506</td>\n",
              "      <td>0.026506</td>\n",
              "      <td>0.026506</td>\n",
              "      <td>0.026506</td>\n",
              "      <td>0.026506</td>\n",
              "      <td>0.028916</td>\n",
              "      <td>0.028916</td>\n",
              "      <td>0.028916</td>\n",
              "      <td>0.028916</td>\n",
              "      <td>0.028916</td>\n",
              "      <td>0.028916</td>\n",
              "      <td>0.028916</td>\n",
              "      <td>0.028916</td>\n",
              "      <td>0.031325</td>\n",
              "      <td>0.031325</td>\n",
              "      <td>0.031325</td>\n",
              "    </tr>\n",
              "    <tr>\n",
              "      <th>-59</th>\n",
              "      <td>0.0</td>\n",
              "      <td>0.0</td>\n",
              "      <td>0.000000</td>\n",
              "      <td>0.004926</td>\n",
              "      <td>0.004926</td>\n",
              "      <td>0.004926</td>\n",
              "      <td>0.007389</td>\n",
              "      <td>0.007389</td>\n",
              "      <td>0.007389</td>\n",
              "      <td>0.012315</td>\n",
              "      <td>0.012315</td>\n",
              "      <td>0.019704</td>\n",
              "      <td>0.019704</td>\n",
              "      <td>0.019704</td>\n",
              "      <td>0.019704</td>\n",
              "      <td>0.019704</td>\n",
              "      <td>0.019704</td>\n",
              "      <td>0.019704</td>\n",
              "      <td>0.022167</td>\n",
              "      <td>0.024631</td>\n",
              "      <td>0.024631</td>\n",
              "      <td>0.027094</td>\n",
              "      <td>0.027094</td>\n",
              "      <td>0.027094</td>\n",
              "      <td>0.027094</td>\n",
              "      <td>0.029557</td>\n",
              "      <td>0.029557</td>\n",
              "      <td>0.029557</td>\n",
              "      <td>0.029557</td>\n",
              "      <td>0.029557</td>\n",
              "      <td>0.029557</td>\n",
              "      <td>0.029557</td>\n",
              "      <td>0.029557</td>\n",
              "      <td>0.029557</td>\n",
              "      <td>0.029557</td>\n",
              "      <td>0.029557</td>\n",
              "      <td>0.029557</td>\n",
              "      <td>0.029557</td>\n",
              "      <td>0.029557</td>\n",
              "      <td>0.029557</td>\n",
              "      <td>0.029557</td>\n",
              "      <td>0.029557</td>\n",
              "      <td>0.029557</td>\n",
              "      <td>0.029557</td>\n",
              "      <td>0.029557</td>\n",
              "      <td>0.029557</td>\n",
              "      <td>0.029557</td>\n",
              "      <td>0.029557</td>\n",
              "      <td>0.029557</td>\n",
              "      <td>0.029557</td>\n",
              "      <td>0.029557</td>\n",
              "      <td>0.029557</td>\n",
              "      <td>0.029557</td>\n",
              "      <td>0.029557</td>\n",
              "      <td>0.032020</td>\n",
              "      <td>0.032020</td>\n",
              "      <td>0.032020</td>\n",
              "      <td>0.032020</td>\n",
              "      <td>0.032020</td>\n",
              "      <td>0.032020</td>\n",
              "      <td>NaN</td>\n",
              "    </tr>\n",
              "    <tr>\n",
              "      <th>-58</th>\n",
              "      <td>0.0</td>\n",
              "      <td>0.0</td>\n",
              "      <td>0.000000</td>\n",
              "      <td>0.000000</td>\n",
              "      <td>0.000000</td>\n",
              "      <td>0.000000</td>\n",
              "      <td>0.000000</td>\n",
              "      <td>0.004545</td>\n",
              "      <td>0.006818</td>\n",
              "      <td>0.006818</td>\n",
              "      <td>0.011364</td>\n",
              "      <td>0.013636</td>\n",
              "      <td>0.013636</td>\n",
              "      <td>0.013636</td>\n",
              "      <td>0.013636</td>\n",
              "      <td>0.013636</td>\n",
              "      <td>0.013636</td>\n",
              "      <td>0.015909</td>\n",
              "      <td>0.018182</td>\n",
              "      <td>0.018182</td>\n",
              "      <td>0.018182</td>\n",
              "      <td>0.022727</td>\n",
              "      <td>0.022727</td>\n",
              "      <td>0.022727</td>\n",
              "      <td>0.022727</td>\n",
              "      <td>0.022727</td>\n",
              "      <td>0.022727</td>\n",
              "      <td>0.022727</td>\n",
              "      <td>0.022727</td>\n",
              "      <td>0.022727</td>\n",
              "      <td>0.022727</td>\n",
              "      <td>0.022727</td>\n",
              "      <td>0.022727</td>\n",
              "      <td>0.022727</td>\n",
              "      <td>0.025000</td>\n",
              "      <td>0.025000</td>\n",
              "      <td>0.025000</td>\n",
              "      <td>0.025000</td>\n",
              "      <td>0.025000</td>\n",
              "      <td>0.025000</td>\n",
              "      <td>0.025000</td>\n",
              "      <td>0.025000</td>\n",
              "      <td>0.025000</td>\n",
              "      <td>0.025000</td>\n",
              "      <td>0.025000</td>\n",
              "      <td>0.025000</td>\n",
              "      <td>0.025000</td>\n",
              "      <td>0.025000</td>\n",
              "      <td>0.025000</td>\n",
              "      <td>0.025000</td>\n",
              "      <td>0.025000</td>\n",
              "      <td>0.025000</td>\n",
              "      <td>0.025000</td>\n",
              "      <td>0.025000</td>\n",
              "      <td>0.025000</td>\n",
              "      <td>0.025000</td>\n",
              "      <td>0.025000</td>\n",
              "      <td>0.025000</td>\n",
              "      <td>0.025000</td>\n",
              "      <td>NaN</td>\n",
              "      <td>NaN</td>\n",
              "    </tr>\n",
              "    <tr>\n",
              "      <th>-57</th>\n",
              "      <td>0.0</td>\n",
              "      <td>0.0</td>\n",
              "      <td>0.000000</td>\n",
              "      <td>0.000000</td>\n",
              "      <td>0.002500</td>\n",
              "      <td>0.002500</td>\n",
              "      <td>0.002500</td>\n",
              "      <td>0.007500</td>\n",
              "      <td>0.007500</td>\n",
              "      <td>0.007500</td>\n",
              "      <td>0.007500</td>\n",
              "      <td>0.007500</td>\n",
              "      <td>0.010000</td>\n",
              "      <td>0.017500</td>\n",
              "      <td>0.017500</td>\n",
              "      <td>0.017500</td>\n",
              "      <td>0.017500</td>\n",
              "      <td>0.017500</td>\n",
              "      <td>0.017500</td>\n",
              "      <td>0.017500</td>\n",
              "      <td>0.017500</td>\n",
              "      <td>0.017500</td>\n",
              "      <td>0.017500</td>\n",
              "      <td>0.017500</td>\n",
              "      <td>0.020000</td>\n",
              "      <td>0.020000</td>\n",
              "      <td>0.020000</td>\n",
              "      <td>0.020000</td>\n",
              "      <td>0.020000</td>\n",
              "      <td>0.020000</td>\n",
              "      <td>0.020000</td>\n",
              "      <td>0.020000</td>\n",
              "      <td>0.020000</td>\n",
              "      <td>0.020000</td>\n",
              "      <td>0.020000</td>\n",
              "      <td>0.022500</td>\n",
              "      <td>0.022500</td>\n",
              "      <td>0.022500</td>\n",
              "      <td>0.022500</td>\n",
              "      <td>0.022500</td>\n",
              "      <td>0.022500</td>\n",
              "      <td>0.025000</td>\n",
              "      <td>0.025000</td>\n",
              "      <td>0.025000</td>\n",
              "      <td>0.025000</td>\n",
              "      <td>0.025000</td>\n",
              "      <td>0.025000</td>\n",
              "      <td>0.025000</td>\n",
              "      <td>0.025000</td>\n",
              "      <td>0.025000</td>\n",
              "      <td>0.025000</td>\n",
              "      <td>0.025000</td>\n",
              "      <td>0.025000</td>\n",
              "      <td>0.025000</td>\n",
              "      <td>0.025000</td>\n",
              "      <td>0.025000</td>\n",
              "      <td>0.025000</td>\n",
              "      <td>0.025000</td>\n",
              "      <td>NaN</td>\n",
              "      <td>NaN</td>\n",
              "      <td>NaN</td>\n",
              "    </tr>\n",
              "    <tr>\n",
              "      <th>-56</th>\n",
              "      <td>0.0</td>\n",
              "      <td>0.0</td>\n",
              "      <td>0.004255</td>\n",
              "      <td>0.004255</td>\n",
              "      <td>0.008511</td>\n",
              "      <td>0.010638</td>\n",
              "      <td>0.010638</td>\n",
              "      <td>0.017021</td>\n",
              "      <td>0.017021</td>\n",
              "      <td>0.021277</td>\n",
              "      <td>0.021277</td>\n",
              "      <td>0.025532</td>\n",
              "      <td>0.029787</td>\n",
              "      <td>0.034043</td>\n",
              "      <td>0.034043</td>\n",
              "      <td>0.034043</td>\n",
              "      <td>0.034043</td>\n",
              "      <td>0.034043</td>\n",
              "      <td>0.034043</td>\n",
              "      <td>0.034043</td>\n",
              "      <td>0.034043</td>\n",
              "      <td>0.034043</td>\n",
              "      <td>0.034043</td>\n",
              "      <td>0.034043</td>\n",
              "      <td>0.034043</td>\n",
              "      <td>0.034043</td>\n",
              "      <td>0.034043</td>\n",
              "      <td>0.034043</td>\n",
              "      <td>0.034043</td>\n",
              "      <td>0.034043</td>\n",
              "      <td>0.034043</td>\n",
              "      <td>0.034043</td>\n",
              "      <td>0.034043</td>\n",
              "      <td>0.034043</td>\n",
              "      <td>0.034043</td>\n",
              "      <td>0.034043</td>\n",
              "      <td>0.034043</td>\n",
              "      <td>0.034043</td>\n",
              "      <td>0.034043</td>\n",
              "      <td>0.034043</td>\n",
              "      <td>0.034043</td>\n",
              "      <td>0.034043</td>\n",
              "      <td>0.034043</td>\n",
              "      <td>0.034043</td>\n",
              "      <td>0.034043</td>\n",
              "      <td>0.034043</td>\n",
              "      <td>0.034043</td>\n",
              "      <td>0.034043</td>\n",
              "      <td>0.034043</td>\n",
              "      <td>0.034043</td>\n",
              "      <td>0.034043</td>\n",
              "      <td>0.036170</td>\n",
              "      <td>0.036170</td>\n",
              "      <td>0.036170</td>\n",
              "      <td>0.036170</td>\n",
              "      <td>0.038298</td>\n",
              "      <td>0.038298</td>\n",
              "      <td>NaN</td>\n",
              "      <td>NaN</td>\n",
              "      <td>NaN</td>\n",
              "      <td>NaN</td>\n",
              "    </tr>\n",
              "    <tr>\n",
              "      <th>...</th>\n",
              "      <td>...</td>\n",
              "      <td>...</td>\n",
              "      <td>...</td>\n",
              "      <td>...</td>\n",
              "      <td>...</td>\n",
              "      <td>...</td>\n",
              "      <td>...</td>\n",
              "      <td>...</td>\n",
              "      <td>...</td>\n",
              "      <td>...</td>\n",
              "      <td>...</td>\n",
              "      <td>...</td>\n",
              "      <td>...</td>\n",
              "      <td>...</td>\n",
              "      <td>...</td>\n",
              "      <td>...</td>\n",
              "      <td>...</td>\n",
              "      <td>...</td>\n",
              "      <td>...</td>\n",
              "      <td>...</td>\n",
              "      <td>...</td>\n",
              "      <td>...</td>\n",
              "      <td>...</td>\n",
              "      <td>...</td>\n",
              "      <td>...</td>\n",
              "      <td>...</td>\n",
              "      <td>...</td>\n",
              "      <td>...</td>\n",
              "      <td>...</td>\n",
              "      <td>...</td>\n",
              "      <td>...</td>\n",
              "      <td>...</td>\n",
              "      <td>...</td>\n",
              "      <td>...</td>\n",
              "      <td>...</td>\n",
              "      <td>...</td>\n",
              "      <td>...</td>\n",
              "      <td>...</td>\n",
              "      <td>...</td>\n",
              "      <td>...</td>\n",
              "      <td>...</td>\n",
              "      <td>...</td>\n",
              "      <td>...</td>\n",
              "      <td>...</td>\n",
              "      <td>...</td>\n",
              "      <td>...</td>\n",
              "      <td>...</td>\n",
              "      <td>...</td>\n",
              "      <td>...</td>\n",
              "      <td>...</td>\n",
              "      <td>...</td>\n",
              "      <td>...</td>\n",
              "      <td>...</td>\n",
              "      <td>...</td>\n",
              "      <td>...</td>\n",
              "      <td>...</td>\n",
              "      <td>...</td>\n",
              "      <td>...</td>\n",
              "      <td>...</td>\n",
              "      <td>...</td>\n",
              "      <td>...</td>\n",
              "    </tr>\n",
              "    <tr>\n",
              "      <th>-4</th>\n",
              "      <td>0.0</td>\n",
              "      <td>0.0</td>\n",
              "      <td>0.000000</td>\n",
              "      <td>0.003432</td>\n",
              "      <td>0.003432</td>\n",
              "      <td>NaN</td>\n",
              "      <td>NaN</td>\n",
              "      <td>NaN</td>\n",
              "      <td>NaN</td>\n",
              "      <td>NaN</td>\n",
              "      <td>NaN</td>\n",
              "      <td>NaN</td>\n",
              "      <td>NaN</td>\n",
              "      <td>NaN</td>\n",
              "      <td>NaN</td>\n",
              "      <td>NaN</td>\n",
              "      <td>NaN</td>\n",
              "      <td>NaN</td>\n",
              "      <td>NaN</td>\n",
              "      <td>NaN</td>\n",
              "      <td>NaN</td>\n",
              "      <td>NaN</td>\n",
              "      <td>NaN</td>\n",
              "      <td>NaN</td>\n",
              "      <td>NaN</td>\n",
              "      <td>NaN</td>\n",
              "      <td>NaN</td>\n",
              "      <td>NaN</td>\n",
              "      <td>NaN</td>\n",
              "      <td>NaN</td>\n",
              "      <td>NaN</td>\n",
              "      <td>NaN</td>\n",
              "      <td>NaN</td>\n",
              "      <td>NaN</td>\n",
              "      <td>NaN</td>\n",
              "      <td>NaN</td>\n",
              "      <td>NaN</td>\n",
              "      <td>NaN</td>\n",
              "      <td>NaN</td>\n",
              "      <td>NaN</td>\n",
              "      <td>NaN</td>\n",
              "      <td>NaN</td>\n",
              "      <td>NaN</td>\n",
              "      <td>NaN</td>\n",
              "      <td>NaN</td>\n",
              "      <td>NaN</td>\n",
              "      <td>NaN</td>\n",
              "      <td>NaN</td>\n",
              "      <td>NaN</td>\n",
              "      <td>NaN</td>\n",
              "      <td>NaN</td>\n",
              "      <td>NaN</td>\n",
              "      <td>NaN</td>\n",
              "      <td>NaN</td>\n",
              "      <td>NaN</td>\n",
              "      <td>NaN</td>\n",
              "      <td>NaN</td>\n",
              "      <td>NaN</td>\n",
              "      <td>NaN</td>\n",
              "      <td>NaN</td>\n",
              "      <td>NaN</td>\n",
              "    </tr>\n",
              "    <tr>\n",
              "      <th>-3</th>\n",
              "      <td>0.0</td>\n",
              "      <td>0.0</td>\n",
              "      <td>0.001088</td>\n",
              "      <td>0.001088</td>\n",
              "      <td>NaN</td>\n",
              "      <td>NaN</td>\n",
              "      <td>NaN</td>\n",
              "      <td>NaN</td>\n",
              "      <td>NaN</td>\n",
              "      <td>NaN</td>\n",
              "      <td>NaN</td>\n",
              "      <td>NaN</td>\n",
              "      <td>NaN</td>\n",
              "      <td>NaN</td>\n",
              "      <td>NaN</td>\n",
              "      <td>NaN</td>\n",
              "      <td>NaN</td>\n",
              "      <td>NaN</td>\n",
              "      <td>NaN</td>\n",
              "      <td>NaN</td>\n",
              "      <td>NaN</td>\n",
              "      <td>NaN</td>\n",
              "      <td>NaN</td>\n",
              "      <td>NaN</td>\n",
              "      <td>NaN</td>\n",
              "      <td>NaN</td>\n",
              "      <td>NaN</td>\n",
              "      <td>NaN</td>\n",
              "      <td>NaN</td>\n",
              "      <td>NaN</td>\n",
              "      <td>NaN</td>\n",
              "      <td>NaN</td>\n",
              "      <td>NaN</td>\n",
              "      <td>NaN</td>\n",
              "      <td>NaN</td>\n",
              "      <td>NaN</td>\n",
              "      <td>NaN</td>\n",
              "      <td>NaN</td>\n",
              "      <td>NaN</td>\n",
              "      <td>NaN</td>\n",
              "      <td>NaN</td>\n",
              "      <td>NaN</td>\n",
              "      <td>NaN</td>\n",
              "      <td>NaN</td>\n",
              "      <td>NaN</td>\n",
              "      <td>NaN</td>\n",
              "      <td>NaN</td>\n",
              "      <td>NaN</td>\n",
              "      <td>NaN</td>\n",
              "      <td>NaN</td>\n",
              "      <td>NaN</td>\n",
              "      <td>NaN</td>\n",
              "      <td>NaN</td>\n",
              "      <td>NaN</td>\n",
              "      <td>NaN</td>\n",
              "      <td>NaN</td>\n",
              "      <td>NaN</td>\n",
              "      <td>NaN</td>\n",
              "      <td>NaN</td>\n",
              "      <td>NaN</td>\n",
              "      <td>NaN</td>\n",
              "    </tr>\n",
              "    <tr>\n",
              "      <th>-2</th>\n",
              "      <td>0.0</td>\n",
              "      <td>0.0</td>\n",
              "      <td>0.001297</td>\n",
              "      <td>NaN</td>\n",
              "      <td>NaN</td>\n",
              "      <td>NaN</td>\n",
              "      <td>NaN</td>\n",
              "      <td>NaN</td>\n",
              "      <td>NaN</td>\n",
              "      <td>NaN</td>\n",
              "      <td>NaN</td>\n",
              "      <td>NaN</td>\n",
              "      <td>NaN</td>\n",
              "      <td>NaN</td>\n",
              "      <td>NaN</td>\n",
              "      <td>NaN</td>\n",
              "      <td>NaN</td>\n",
              "      <td>NaN</td>\n",
              "      <td>NaN</td>\n",
              "      <td>NaN</td>\n",
              "      <td>NaN</td>\n",
              "      <td>NaN</td>\n",
              "      <td>NaN</td>\n",
              "      <td>NaN</td>\n",
              "      <td>NaN</td>\n",
              "      <td>NaN</td>\n",
              "      <td>NaN</td>\n",
              "      <td>NaN</td>\n",
              "      <td>NaN</td>\n",
              "      <td>NaN</td>\n",
              "      <td>NaN</td>\n",
              "      <td>NaN</td>\n",
              "      <td>NaN</td>\n",
              "      <td>NaN</td>\n",
              "      <td>NaN</td>\n",
              "      <td>NaN</td>\n",
              "      <td>NaN</td>\n",
              "      <td>NaN</td>\n",
              "      <td>NaN</td>\n",
              "      <td>NaN</td>\n",
              "      <td>NaN</td>\n",
              "      <td>NaN</td>\n",
              "      <td>NaN</td>\n",
              "      <td>NaN</td>\n",
              "      <td>NaN</td>\n",
              "      <td>NaN</td>\n",
              "      <td>NaN</td>\n",
              "      <td>NaN</td>\n",
              "      <td>NaN</td>\n",
              "      <td>NaN</td>\n",
              "      <td>NaN</td>\n",
              "      <td>NaN</td>\n",
              "      <td>NaN</td>\n",
              "      <td>NaN</td>\n",
              "      <td>NaN</td>\n",
              "      <td>NaN</td>\n",
              "      <td>NaN</td>\n",
              "      <td>NaN</td>\n",
              "      <td>NaN</td>\n",
              "      <td>NaN</td>\n",
              "      <td>NaN</td>\n",
              "    </tr>\n",
              "    <tr>\n",
              "      <th>-1</th>\n",
              "      <td>0.0</td>\n",
              "      <td>0.0</td>\n",
              "      <td>NaN</td>\n",
              "      <td>NaN</td>\n",
              "      <td>NaN</td>\n",
              "      <td>NaN</td>\n",
              "      <td>NaN</td>\n",
              "      <td>NaN</td>\n",
              "      <td>NaN</td>\n",
              "      <td>NaN</td>\n",
              "      <td>NaN</td>\n",
              "      <td>NaN</td>\n",
              "      <td>NaN</td>\n",
              "      <td>NaN</td>\n",
              "      <td>NaN</td>\n",
              "      <td>NaN</td>\n",
              "      <td>NaN</td>\n",
              "      <td>NaN</td>\n",
              "      <td>NaN</td>\n",
              "      <td>NaN</td>\n",
              "      <td>NaN</td>\n",
              "      <td>NaN</td>\n",
              "      <td>NaN</td>\n",
              "      <td>NaN</td>\n",
              "      <td>NaN</td>\n",
              "      <td>NaN</td>\n",
              "      <td>NaN</td>\n",
              "      <td>NaN</td>\n",
              "      <td>NaN</td>\n",
              "      <td>NaN</td>\n",
              "      <td>NaN</td>\n",
              "      <td>NaN</td>\n",
              "      <td>NaN</td>\n",
              "      <td>NaN</td>\n",
              "      <td>NaN</td>\n",
              "      <td>NaN</td>\n",
              "      <td>NaN</td>\n",
              "      <td>NaN</td>\n",
              "      <td>NaN</td>\n",
              "      <td>NaN</td>\n",
              "      <td>NaN</td>\n",
              "      <td>NaN</td>\n",
              "      <td>NaN</td>\n",
              "      <td>NaN</td>\n",
              "      <td>NaN</td>\n",
              "      <td>NaN</td>\n",
              "      <td>NaN</td>\n",
              "      <td>NaN</td>\n",
              "      <td>NaN</td>\n",
              "      <td>NaN</td>\n",
              "      <td>NaN</td>\n",
              "      <td>NaN</td>\n",
              "      <td>NaN</td>\n",
              "      <td>NaN</td>\n",
              "      <td>NaN</td>\n",
              "      <td>NaN</td>\n",
              "      <td>NaN</td>\n",
              "      <td>NaN</td>\n",
              "      <td>NaN</td>\n",
              "      <td>NaN</td>\n",
              "      <td>NaN</td>\n",
              "    </tr>\n",
              "    <tr>\n",
              "      <th>0</th>\n",
              "      <td>0.0</td>\n",
              "      <td>NaN</td>\n",
              "      <td>NaN</td>\n",
              "      <td>NaN</td>\n",
              "      <td>NaN</td>\n",
              "      <td>NaN</td>\n",
              "      <td>NaN</td>\n",
              "      <td>NaN</td>\n",
              "      <td>NaN</td>\n",
              "      <td>NaN</td>\n",
              "      <td>NaN</td>\n",
              "      <td>NaN</td>\n",
              "      <td>NaN</td>\n",
              "      <td>NaN</td>\n",
              "      <td>NaN</td>\n",
              "      <td>NaN</td>\n",
              "      <td>NaN</td>\n",
              "      <td>NaN</td>\n",
              "      <td>NaN</td>\n",
              "      <td>NaN</td>\n",
              "      <td>NaN</td>\n",
              "      <td>NaN</td>\n",
              "      <td>NaN</td>\n",
              "      <td>NaN</td>\n",
              "      <td>NaN</td>\n",
              "      <td>NaN</td>\n",
              "      <td>NaN</td>\n",
              "      <td>NaN</td>\n",
              "      <td>NaN</td>\n",
              "      <td>NaN</td>\n",
              "      <td>NaN</td>\n",
              "      <td>NaN</td>\n",
              "      <td>NaN</td>\n",
              "      <td>NaN</td>\n",
              "      <td>NaN</td>\n",
              "      <td>NaN</td>\n",
              "      <td>NaN</td>\n",
              "      <td>NaN</td>\n",
              "      <td>NaN</td>\n",
              "      <td>NaN</td>\n",
              "      <td>NaN</td>\n",
              "      <td>NaN</td>\n",
              "      <td>NaN</td>\n",
              "      <td>NaN</td>\n",
              "      <td>NaN</td>\n",
              "      <td>NaN</td>\n",
              "      <td>NaN</td>\n",
              "      <td>NaN</td>\n",
              "      <td>NaN</td>\n",
              "      <td>NaN</td>\n",
              "      <td>NaN</td>\n",
              "      <td>NaN</td>\n",
              "      <td>NaN</td>\n",
              "      <td>NaN</td>\n",
              "      <td>NaN</td>\n",
              "      <td>NaN</td>\n",
              "      <td>NaN</td>\n",
              "      <td>NaN</td>\n",
              "      <td>NaN</td>\n",
              "      <td>NaN</td>\n",
              "      <td>NaN</td>\n",
              "    </tr>\n",
              "  </tbody>\n",
              "</table>\n",
              "<p>61 rows × 61 columns</p>\n",
              "</div>"
            ],
            "text/plain": [
              "MOB        0    1         2         3   ...        57        58        59        60\n",
              "abertura                                ...                                        \n",
              "-60       0.0  0.0  0.000000  0.000000  ...  0.028916  0.031325  0.031325  0.031325\n",
              "-59       0.0  0.0  0.000000  0.004926  ...  0.032020  0.032020  0.032020       NaN\n",
              "-58       0.0  0.0  0.000000  0.000000  ...  0.025000  0.025000       NaN       NaN\n",
              "-57       0.0  0.0  0.000000  0.000000  ...  0.025000       NaN       NaN       NaN\n",
              "-56       0.0  0.0  0.004255  0.004255  ...       NaN       NaN       NaN       NaN\n",
              "...       ...  ...       ...       ...  ...       ...       ...       ...       ...\n",
              "-4        0.0  0.0  0.000000  0.003432  ...       NaN       NaN       NaN       NaN\n",
              "-3        0.0  0.0  0.001088  0.001088  ...       NaN       NaN       NaN       NaN\n",
              "-2        0.0  0.0  0.001297       NaN  ...       NaN       NaN       NaN       NaN\n",
              "-1        0.0  0.0       NaN       NaN  ...       NaN       NaN       NaN       NaN\n",
              " 0        0.0  NaN       NaN       NaN  ...       NaN       NaN       NaN       NaN\n",
              "\n",
              "[61 rows x 61 columns]"
            ]
          },
          "metadata": {},
          "execution_count": 77
        }
      ]
    },
    {
      "cell_type": "code",
      "metadata": {
        "colab": {
          "base_uri": "https://localhost:8080/",
          "height": 295
        },
        "id": "z7PdPl8H4sNK",
        "outputId": "d606006f-5be5-4742-b7b7-54e30071b881"
      },
      "source": [
        "lst = [i for i in range(0,61)]\n",
        "df_vintage_pivot[lst].T.iloc[:,:10].plot(legend = True, grid = True, title = '% acumulado de maus clientes (Atraso > que 60 dias)')\n",
        "\n",
        "plt.xlabel('MOB')\n",
        "plt.ylabel('% acumulado de maus')\n",
        "plt.legend(bbox_to_anchor=(1.2, 1), title='Abertura')\n",
        "plt.show()"
      ],
      "execution_count": null,
      "outputs": [
        {
          "output_type": "display_data",
          "data": {
            "application/javascript": [
              "\n",
              "        if (window._pyforest_update_imports_cell) { window._pyforest_update_imports_cell('import seaborn as sns\\nimport numpy as np\\nimport pandas as pd\\nimport matplotlib.pyplot as plt'); }\n",
              "    "
            ],
            "text/plain": [
              "<IPython.core.display.Javascript object>"
            ]
          },
          "metadata": {}
        },
        {
          "output_type": "display_data",
          "data": {
            "application/javascript": [
              "\n",
              "        if (window._pyforest_update_imports_cell) { window._pyforest_update_imports_cell('import seaborn as sns\\nimport numpy as np\\nimport pandas as pd\\nimport matplotlib.pyplot as plt'); }\n",
              "    "
            ],
            "text/plain": [
              "<IPython.core.display.Javascript object>"
            ]
          },
          "metadata": {}
        },
        {
          "output_type": "display_data",
          "data": {
            "application/javascript": [
              "\n",
              "        if (window._pyforest_update_imports_cell) { window._pyforest_update_imports_cell('import seaborn as sns\\nimport numpy as np\\nimport pandas as pd\\nimport matplotlib.pyplot as plt'); }\n",
              "    "
            ],
            "text/plain": [
              "<IPython.core.display.Javascript object>"
            ]
          },
          "metadata": {}
        },
        {
          "output_type": "display_data",
          "data": {
            "application/javascript": [
              "\n",
              "        if (window._pyforest_update_imports_cell) { window._pyforest_update_imports_cell('import seaborn as sns\\nimport numpy as np\\nimport pandas as pd\\nimport matplotlib.pyplot as plt'); }\n",
              "    "
            ],
            "text/plain": [
              "<IPython.core.display.Javascript object>"
            ]
          },
          "metadata": {}
        },
        {
          "output_type": "display_data",
          "data": {
            "image/png": "[encoded data removed]",
            "text/plain": [
              "<Figure size 432x288 with 1 Axes>"
            ]
          },
          "metadata": {
            "needs_background": "light"
          }
        }
      ]
    },
    {
      "cell_type": "code",
      "metadata": {
        "colab": {
          "base_uri": "https://localhost:8080/",
          "height": 295
        },
        "id": "coW9RhJ25xdk",
        "outputId": "107bf632-83a6-49e1-b124-06481f9e8e5a"
      },
      "source": [
        "sns.histplot(data=df_registros_creditos_ID, x='janela', cumulative=True, stat='density', kde=True)\n",
        "plt.title('Distribuição de clientes por janela')\n",
        "plt.xlabel('Janela')\n",
        "plt.ylabel('Percentual de clientes')\n",
        "plt.show()"
      ],
      "execution_count": null,
      "outputs": [
        {
          "output_type": "display_data",
          "data": {
            "application/javascript": [
              "\n",
              "        if (window._pyforest_update_imports_cell) { window._pyforest_update_imports_cell('import seaborn as sns\\nimport numpy as np\\nimport pandas as pd\\nimport matplotlib.pyplot as plt'); }\n",
              "    "
            ],
            "text/plain": [
              "<IPython.core.display.Javascript object>"
            ]
          },
          "metadata": {}
        },
        {
          "output_type": "display_data",
          "data": {
            "application/javascript": [
              "\n",
              "        if (window._pyforest_update_imports_cell) { window._pyforest_update_imports_cell('import seaborn as sns\\nimport numpy as np\\nimport pandas as pd\\nimport matplotlib.pyplot as plt'); }\n",
              "    "
            ],
            "text/plain": [
              "<IPython.core.display.Javascript object>"
            ]
          },
          "metadata": {}
        },
        {
          "output_type": "display_data",
          "data": {
            "application/javascript": [
              "\n",
              "        if (window._pyforest_update_imports_cell) { window._pyforest_update_imports_cell('import seaborn as sns\\nimport numpy as np\\nimport pandas as pd\\nimport matplotlib.pyplot as plt'); }\n",
              "    "
            ],
            "text/plain": [
              "<IPython.core.display.Javascript object>"
            ]
          },
          "metadata": {}
        },
        {
          "output_type": "display_data",
          "data": {
            "application/javascript": [
              "\n",
              "        if (window._pyforest_update_imports_cell) { window._pyforest_update_imports_cell('import seaborn as sns\\nimport numpy as np\\nimport pandas as pd\\nimport matplotlib.pyplot as plt'); }\n",
              "    "
            ],
            "text/plain": [
              "<IPython.core.display.Javascript object>"
            ]
          },
          "metadata": {}
        },
        {
          "output_type": "display_data",
          "data": {
            "application/javascript": [
              "\n",
              "        if (window._pyforest_update_imports_cell) { window._pyforest_update_imports_cell('import seaborn as sns\\nimport numpy as np\\nimport pandas as pd\\nimport matplotlib.pyplot as plt'); }\n",
              "    "
            ],
            "text/plain": [
              "<IPython.core.display.Javascript object>"
            ]
          },
          "metadata": {}
        },
        {
          "output_type": "display_data",
          "data": {
            "image/png": "[encoded data removed]",
            "text/plain": [
              "<Figure size 432x288 with 1 Axes>"
            ]
          },
          "metadata": {
            "needs_background": "light"
          }
        }
      ]
    },
    {
      "cell_type": "code",
      "metadata": {
        "id": "glCEgucS52ht"
      },
      "source": [
        "dict_intervalo_atraso = {'maior_30_dias': 3, 'maior_60_dias': 4, 'maior_90_dias': 5,\n",
        "                        'maior_120_dias': 6, 'maior_150_dias': 7}"
      ],
      "execution_count": null,
      "outputs": []
    },
    {
      "cell_type": "code",
      "metadata": {
        "colab": {
          "base_uri": "https://localhost:8080/",
          "height": 258
        },
        "id": "9Lz08iUz5582",
        "outputId": "588589b6-95bc-4f7a-aa08-028d63f3ab07"
      },
      "source": [
        "for chave, valor in dict_intervalo_atraso.items():\n",
        "  df_aprovados[f'Mau_{chave}'] = df_aprovados.apply(lambda x: 1 if x['faixa_atraso_num'] >= valor else 0, axis=1) # mais de 60\n",
        "df_aprovados.head()"
      ],
      "execution_count": null,
      "outputs": [
        {
          "output_type": "execute_result",
          "data": {
            "text/html": [
              "<div>\n",
              "<style scoped>\n",
              "    .dataframe tbody tr th:only-of-type {\n",
              "        vertical-align: middle;\n",
              "    }\n",
              "\n",
              "    .dataframe tbody tr th {\n",
              "        vertical-align: top;\n",
              "    }\n",
              "\n",
              "    .dataframe thead th {\n",
              "        text-align: right;\n",
              "    }\n",
              "</style>\n",
              "<table border=\"1\" class=\"dataframe\">\n",
              "  <thead>\n",
              "    <tr style=\"text-align: right;\">\n",
              "      <th></th>\n",
              "      <th>id_cliente</th>\n",
              "      <th>mes_referencia</th>\n",
              "      <th>faixa_atraso</th>\n",
              "      <th>abertura</th>\n",
              "      <th>final</th>\n",
              "      <th>janela</th>\n",
              "      <th>MOB</th>\n",
              "      <th>faixa_atraso_num</th>\n",
              "      <th>mau_pagador</th>\n",
              "      <th>Mau_maior_30_dias</th>\n",
              "      <th>Mau_maior_60_dias</th>\n",
              "      <th>Mau_maior_90_dias</th>\n",
              "      <th>Mau_maior_120_dias</th>\n",
              "      <th>Mau_maior_150_dias</th>\n",
              "    </tr>\n",
              "  </thead>\n",
              "  <tbody>\n",
              "    <tr>\n",
              "      <th>0</th>\n",
              "      <td>5001711</td>\n",
              "      <td>0</td>\n",
              "      <td>nenhum empréstimo</td>\n",
              "      <td>-3</td>\n",
              "      <td>0</td>\n",
              "      <td>3</td>\n",
              "      <td>3</td>\n",
              "      <td>0</td>\n",
              "      <td>0</td>\n",
              "      <td>0</td>\n",
              "      <td>0</td>\n",
              "      <td>0</td>\n",
              "      <td>0</td>\n",
              "      <td>0</td>\n",
              "    </tr>\n",
              "    <tr>\n",
              "      <th>1</th>\n",
              "      <td>5001711</td>\n",
              "      <td>-1</td>\n",
              "      <td>1-29 dias</td>\n",
              "      <td>-3</td>\n",
              "      <td>0</td>\n",
              "      <td>3</td>\n",
              "      <td>2</td>\n",
              "      <td>2</td>\n",
              "      <td>0</td>\n",
              "      <td>0</td>\n",
              "      <td>0</td>\n",
              "      <td>0</td>\n",
              "      <td>0</td>\n",
              "      <td>0</td>\n",
              "    </tr>\n",
              "    <tr>\n",
              "      <th>2</th>\n",
              "      <td>5001711</td>\n",
              "      <td>-2</td>\n",
              "      <td>1-29 dias</td>\n",
              "      <td>-3</td>\n",
              "      <td>0</td>\n",
              "      <td>3</td>\n",
              "      <td>1</td>\n",
              "      <td>2</td>\n",
              "      <td>0</td>\n",
              "      <td>0</td>\n",
              "      <td>0</td>\n",
              "      <td>0</td>\n",
              "      <td>0</td>\n",
              "      <td>0</td>\n",
              "    </tr>\n",
              "    <tr>\n",
              "      <th>3</th>\n",
              "      <td>5001711</td>\n",
              "      <td>-3</td>\n",
              "      <td>1-29 dias</td>\n",
              "      <td>-3</td>\n",
              "      <td>0</td>\n",
              "      <td>3</td>\n",
              "      <td>0</td>\n",
              "      <td>2</td>\n",
              "      <td>0</td>\n",
              "      <td>0</td>\n",
              "      <td>0</td>\n",
              "      <td>0</td>\n",
              "      <td>0</td>\n",
              "      <td>0</td>\n",
              "    </tr>\n",
              "    <tr>\n",
              "      <th>4</th>\n",
              "      <td>5001712</td>\n",
              "      <td>0</td>\n",
              "      <td>pagamento realizado</td>\n",
              "      <td>-18</td>\n",
              "      <td>0</td>\n",
              "      <td>18</td>\n",
              "      <td>18</td>\n",
              "      <td>1</td>\n",
              "      <td>0</td>\n",
              "      <td>0</td>\n",
              "      <td>0</td>\n",
              "      <td>0</td>\n",
              "      <td>0</td>\n",
              "      <td>0</td>\n",
              "    </tr>\n",
              "  </tbody>\n",
              "</table>\n",
              "</div>"
            ],
            "text/plain": [
              "   id_cliente  mes_referencia  ... Mau_maior_120_dias  Mau_maior_150_dias\n",
              "0     5001711               0  ...                  0                   0\n",
              "1     5001711              -1  ...                  0                   0\n",
              "2     5001711              -2  ...                  0                   0\n",
              "3     5001711              -3  ...                  0                   0\n",
              "4     5001712               0  ...                  0                   0\n",
              "\n",
              "[5 rows x 14 columns]"
            ]
          },
          "metadata": {},
          "execution_count": 81
        }
      ]
    },
    {
      "cell_type": "code",
      "metadata": {
        "colab": {
          "base_uri": "https://localhost:8080/",
          "height": 419
        },
        "id": "YKbFQ2Rp74yL",
        "outputId": "61cc1931-23cc-4138-fa47-38a441056c1e"
      },
      "source": [
        "dict_taxa_mau = {}\n",
        "id_sum = len(set(df_aprovados['id_cliente']))\n",
        "\n",
        "for chave in dict_intervalo_atraso.keys():\n",
        "  df_min_mau = df_aprovados.query(f'Mau_{chave} == 1').groupby('id_cliente')['MOB'].min().reset_index()\n",
        "  df_mob_taxa_mau = pd.DataFrame({'MOB':range(0,61), 'taxa_mau': np.nan})\n",
        "  lst = []\n",
        "  for i in range(0,61):\n",
        "      due = df_min_mau.query('MOB == @i')['id_cliente'].to_list()\n",
        "      lst.extend(due) #cumsum\n",
        "      df_mob_taxa_mau.loc[df_mob_taxa_mau['MOB'] == i, 'taxa_mau'] = len(set(lst)) / id_sum\n",
        "  dict_taxa_mau[chave] = df_mob_taxa_mau['taxa_mau']\n",
        "\n",
        "df_taxa_mau = pd.DataFrame(dict_taxa_mau)\n",
        "df_taxa_mau"
      ],
      "execution_count": null,
      "outputs": [
        {
          "output_type": "display_data",
          "data": {
            "application/javascript": [
              "\n",
              "        if (window._pyforest_update_imports_cell) { window._pyforest_update_imports_cell('import seaborn as sns\\nimport numpy as np\\nimport pandas as pd\\nimport matplotlib.pyplot as plt'); }\n",
              "    "
            ],
            "text/plain": [
              "<IPython.core.display.Javascript object>"
            ]
          },
          "metadata": {}
        },
        {
          "output_type": "display_data",
          "data": {
            "application/javascript": [
              "\n",
              "        if (window._pyforest_update_imports_cell) { window._pyforest_update_imports_cell('import seaborn as sns\\nimport numpy as np\\nimport pandas as pd\\nimport matplotlib.pyplot as plt'); }\n",
              "    "
            ],
            "text/plain": [
              "<IPython.core.display.Javascript object>"
            ]
          },
          "metadata": {}
        },
        {
          "output_type": "display_data",
          "data": {
            "application/javascript": [
              "\n",
              "        if (window._pyforest_update_imports_cell) { window._pyforest_update_imports_cell('import seaborn as sns\\nimport numpy as np\\nimport pandas as pd\\nimport matplotlib.pyplot as plt'); }\n",
              "    "
            ],
            "text/plain": [
              "<IPython.core.display.Javascript object>"
            ]
          },
          "metadata": {}
        },
        {
          "output_type": "display_data",
          "data": {
            "application/javascript": [
              "\n",
              "        if (window._pyforest_update_imports_cell) { window._pyforest_update_imports_cell('import seaborn as sns\\nimport numpy as np\\nimport pandas as pd\\nimport matplotlib.pyplot as plt'); }\n",
              "    "
            ],
            "text/plain": [
              "<IPython.core.display.Javascript object>"
            ]
          },
          "metadata": {}
        },
        {
          "output_type": "display_data",
          "data": {
            "application/javascript": [
              "\n",
              "        if (window._pyforest_update_imports_cell) { window._pyforest_update_imports_cell('import seaborn as sns\\nimport numpy as np\\nimport pandas as pd\\nimport matplotlib.pyplot as plt'); }\n",
              "    "
            ],
            "text/plain": [
              "<IPython.core.display.Javascript object>"
            ]
          },
          "metadata": {}
        },
        {
          "output_type": "display_data",
          "data": {
            "application/javascript": [
              "\n",
              "        if (window._pyforest_update_imports_cell) { window._pyforest_update_imports_cell('import seaborn as sns\\nimport numpy as np\\nimport pandas as pd\\nimport matplotlib.pyplot as plt'); }\n",
              "    "
            ],
            "text/plain": [
              "<IPython.core.display.Javascript object>"
            ]
          },
          "metadata": {}
        },
        {
          "output_type": "display_data",
          "data": {
            "application/javascript": [
              "\n",
              "        if (window._pyforest_update_imports_cell) { window._pyforest_update_imports_cell('import seaborn as sns\\nimport numpy as np\\nimport pandas as pd\\nimport matplotlib.pyplot as plt'); }\n",
              "    "
            ],
            "text/plain": [
              "<IPython.core.display.Javascript object>"
            ]
          },
          "metadata": {}
        },
        {
          "output_type": "display_data",
          "data": {
            "application/javascript": [
              "\n",
              "        if (window._pyforest_update_imports_cell) { window._pyforest_update_imports_cell('import seaborn as sns\\nimport numpy as np\\nimport pandas as pd\\nimport matplotlib.pyplot as plt'); }\n",
              "    "
            ],
            "text/plain": [
              "<IPython.core.display.Javascript object>"
            ]
          },
          "metadata": {}
        },
        {
          "output_type": "display_data",
          "data": {
            "application/javascript": [
              "\n",
              "        if (window._pyforest_update_imports_cell) { window._pyforest_update_imports_cell('import seaborn as sns\\nimport numpy as np\\nimport pandas as pd\\nimport matplotlib.pyplot as plt'); }\n",
              "    "
            ],
            "text/plain": [
              "<IPython.core.display.Javascript object>"
            ]
          },
          "metadata": {}
        },
        {
          "output_type": "display_data",
          "data": {
            "application/javascript": [
              "\n",
              "        if (window._pyforest_update_imports_cell) { window._pyforest_update_imports_cell('import seaborn as sns\\nimport numpy as np\\nimport pandas as pd\\nimport matplotlib.pyplot as plt'); }\n",
              "    "
            ],
            "text/plain": [
              "<IPython.core.display.Javascript object>"
            ]
          },
          "metadata": {}
        },
        {
          "output_type": "display_data",
          "data": {
            "application/javascript": [
              "\n",
              "        if (window._pyforest_update_imports_cell) { window._pyforest_update_imports_cell('import seaborn as sns\\nimport numpy as np\\nimport pandas as pd\\nimport matplotlib.pyplot as plt'); }\n",
              "    "
            ],
            "text/plain": [
              "<IPython.core.display.Javascript object>"
            ]
          },
          "metadata": {}
        },
        {
          "output_type": "execute_result",
          "data": {
            "text/html": [
              "<div>\n",
              "<style scoped>\n",
              "    .dataframe tbody tr th:only-of-type {\n",
              "        vertical-align: middle;\n",
              "    }\n",
              "\n",
              "    .dataframe tbody tr th {\n",
              "        vertical-align: top;\n",
              "    }\n",
              "\n",
              "    .dataframe thead th {\n",
              "        text-align: right;\n",
              "    }\n",
              "</style>\n",
              "<table border=\"1\" class=\"dataframe\">\n",
              "  <thead>\n",
              "    <tr style=\"text-align: right;\">\n",
              "      <th></th>\n",
              "      <th>maior_30_dias</th>\n",
              "      <th>maior_60_dias</th>\n",
              "      <th>maior_90_dias</th>\n",
              "      <th>maior_120_dias</th>\n",
              "      <th>maior_150_dias</th>\n",
              "    </tr>\n",
              "  </thead>\n",
              "  <tbody>\n",
              "    <tr>\n",
              "      <th>0</th>\n",
              "      <td>0.000304</td>\n",
              "      <td>0.000022</td>\n",
              "      <td>0.000022</td>\n",
              "      <td>0.000022</td>\n",
              "      <td>0.000022</td>\n",
              "    </tr>\n",
              "    <tr>\n",
              "      <th>1</th>\n",
              "      <td>0.011612</td>\n",
              "      <td>0.000174</td>\n",
              "      <td>0.000087</td>\n",
              "      <td>0.000087</td>\n",
              "      <td>0.000087</td>\n",
              "    </tr>\n",
              "    <tr>\n",
              "      <th>2</th>\n",
              "      <td>0.025878</td>\n",
              "      <td>0.001153</td>\n",
              "      <td>0.000196</td>\n",
              "      <td>0.000174</td>\n",
              "      <td>0.000174</td>\n",
              "    </tr>\n",
              "    <tr>\n",
              "      <th>3</th>\n",
              "      <td>0.036860</td>\n",
              "      <td>0.002240</td>\n",
              "      <td>0.000696</td>\n",
              "      <td>0.000304</td>\n",
              "      <td>0.000304</td>\n",
              "    </tr>\n",
              "    <tr>\n",
              "      <th>4</th>\n",
              "      <td>0.047385</td>\n",
              "      <td>0.003392</td>\n",
              "      <td>0.001044</td>\n",
              "      <td>0.000696</td>\n",
              "      <td>0.000348</td>\n",
              "    </tr>\n",
              "    <tr>\n",
              "      <th>...</th>\n",
              "      <td>...</td>\n",
              "      <td>...</td>\n",
              "      <td>...</td>\n",
              "      <td>...</td>\n",
              "      <td>...</td>\n",
              "    </tr>\n",
              "    <tr>\n",
              "      <th>56</th>\n",
              "      <td>0.116321</td>\n",
              "      <td>0.014483</td>\n",
              "      <td>0.007176</td>\n",
              "      <td>0.005263</td>\n",
              "      <td>0.004219</td>\n",
              "    </tr>\n",
              "    <tr>\n",
              "      <th>57</th>\n",
              "      <td>0.116321</td>\n",
              "      <td>0.014483</td>\n",
              "      <td>0.007176</td>\n",
              "      <td>0.005263</td>\n",
              "      <td>0.004219</td>\n",
              "    </tr>\n",
              "    <tr>\n",
              "      <th>58</th>\n",
              "      <td>0.116321</td>\n",
              "      <td>0.014505</td>\n",
              "      <td>0.007198</td>\n",
              "      <td>0.005284</td>\n",
              "      <td>0.004241</td>\n",
              "    </tr>\n",
              "    <tr>\n",
              "      <th>59</th>\n",
              "      <td>0.116321</td>\n",
              "      <td>0.014505</td>\n",
              "      <td>0.007198</td>\n",
              "      <td>0.005284</td>\n",
              "      <td>0.004241</td>\n",
              "    </tr>\n",
              "    <tr>\n",
              "      <th>60</th>\n",
              "      <td>0.116342</td>\n",
              "      <td>0.014505</td>\n",
              "      <td>0.007198</td>\n",
              "      <td>0.005284</td>\n",
              "      <td>0.004241</td>\n",
              "    </tr>\n",
              "  </tbody>\n",
              "</table>\n",
              "<p>61 rows × 5 columns</p>\n",
              "</div>"
            ],
            "text/plain": [
              "    maior_30_dias  maior_60_dias  maior_90_dias  maior_120_dias  maior_150_dias\n",
              "0        0.000304       0.000022       0.000022        0.000022        0.000022\n",
              "1        0.011612       0.000174       0.000087        0.000087        0.000087\n",
              "2        0.025878       0.001153       0.000196        0.000174        0.000174\n",
              "3        0.036860       0.002240       0.000696        0.000304        0.000304\n",
              "4        0.047385       0.003392       0.001044        0.000696        0.000348\n",
              "..            ...            ...            ...             ...             ...\n",
              "56       0.116321       0.014483       0.007176        0.005263        0.004219\n",
              "57       0.116321       0.014483       0.007176        0.005263        0.004219\n",
              "58       0.116321       0.014505       0.007198        0.005284        0.004241\n",
              "59       0.116321       0.014505       0.007198        0.005284        0.004241\n",
              "60       0.116342       0.014505       0.007198        0.005284        0.004241\n",
              "\n",
              "[61 rows x 5 columns]"
            ]
          },
          "metadata": {},
          "execution_count": 82
        }
      ]
    },
    {
      "cell_type": "code",
      "metadata": {
        "colab": {
          "base_uri": "https://localhost:8080/",
          "height": 404
        },
        "id": "uygAlOwy84-m",
        "outputId": "80f2cce7-7236-4081-863a-a1c7d62de917"
      },
      "source": [
        "df_taxa_mau.plot(grid = True, title = '% acumulado de clientes maus para diversas faixas de atraso', figsize=(10, 6))\n",
        "plt.xlabel('MOB')\n",
        "plt.ylabel('% acumulado de clientes')\n",
        "plt.show()"
      ],
      "execution_count": null,
      "outputs": [
        {
          "output_type": "display_data",
          "data": {
            "application/javascript": [
              "\n",
              "        if (window._pyforest_update_imports_cell) { window._pyforest_update_imports_cell('import seaborn as sns\\nimport numpy as np\\nimport pandas as pd\\nimport matplotlib.pyplot as plt'); }\n",
              "    "
            ],
            "text/plain": [
              "<IPython.core.display.Javascript object>"
            ]
          },
          "metadata": {}
        },
        {
          "output_type": "display_data",
          "data": {
            "application/javascript": [
              "\n",
              "        if (window._pyforest_update_imports_cell) { window._pyforest_update_imports_cell('import seaborn as sns\\nimport numpy as np\\nimport pandas as pd\\nimport matplotlib.pyplot as plt'); }\n",
              "    "
            ],
            "text/plain": [
              "<IPython.core.display.Javascript object>"
            ]
          },
          "metadata": {}
        },
        {
          "output_type": "display_data",
          "data": {
            "application/javascript": [
              "\n",
              "        if (window._pyforest_update_imports_cell) { window._pyforest_update_imports_cell('import seaborn as sns\\nimport numpy as np\\nimport pandas as pd\\nimport matplotlib.pyplot as plt'); }\n",
              "    "
            ],
            "text/plain": [
              "<IPython.core.display.Javascript object>"
            ]
          },
          "metadata": {}
        },
        {
          "output_type": "display_data",
          "data": {
            "image/png": "[encoded data removed]",
            "text/plain": [
              "<Figure size 720x432 with 1 Axes>"
            ]
          },
          "metadata": {
            "needs_background": "light"
          }
        }
      ]
    },
    {
      "cell_type": "code",
      "metadata": {
        "id": "vwXUbzV79jnk"
      },
      "source": [
        "df_aprovados_v2 = df_aprovados.query('janela >= 12').copy()"
      ],
      "execution_count": null,
      "outputs": []
    },
    {
      "cell_type": "code",
      "metadata": {
        "colab": {
          "base_uri": "https://localhost:8080/",
          "height": 204
        },
        "id": "3CPzgDlG8_nD",
        "outputId": "7c0b9bfe-f44e-48dc-d3ce-416ecd7b2911"
      },
      "source": [
        "def verifica(registros):\n",
        "  lista_status = registros['faixa_atraso'].to_list()\n",
        "  if '60-89 dias' in lista_status or '90-119 dias' in lista_status or '120-149 dias' in lista_status or '>150 dias' in lista_status:\n",
        "    return 1\n",
        "  else:\n",
        "    return 0\n",
        "  \n",
        "df_registros_creditos_id = pd.DataFrame(df_aprovados_v2.groupby('id_cliente').apply(verifica)).reset_index()\n",
        "df_registros_creditos_id.columns = ['id_cliente', 'mau']\n",
        "df_registros_creditos_id.head()"
      ],
      "execution_count": null,
      "outputs": [
        {
          "output_type": "display_data",
          "data": {
            "application/javascript": [
              "\n",
              "        if (window._pyforest_update_imports_cell) { window._pyforest_update_imports_cell('import seaborn as sns\\nimport numpy as np\\nimport pandas as pd\\nimport matplotlib.pyplot as plt'); }\n",
              "    "
            ],
            "text/plain": [
              "<IPython.core.display.Javascript object>"
            ]
          },
          "metadata": {}
        },
        {
          "output_type": "execute_result",
          "data": {
            "text/html": [
              "<div>\n",
              "<style scoped>\n",
              "    .dataframe tbody tr th:only-of-type {\n",
              "        vertical-align: middle;\n",
              "    }\n",
              "\n",
              "    .dataframe tbody tr th {\n",
              "        vertical-align: top;\n",
              "    }\n",
              "\n",
              "    .dataframe thead th {\n",
              "        text-align: right;\n",
              "    }\n",
              "</style>\n",
              "<table border=\"1\" class=\"dataframe\">\n",
              "  <thead>\n",
              "    <tr style=\"text-align: right;\">\n",
              "      <th></th>\n",
              "      <th>id_cliente</th>\n",
              "      <th>mau</th>\n",
              "    </tr>\n",
              "  </thead>\n",
              "  <tbody>\n",
              "    <tr>\n",
              "      <th>0</th>\n",
              "      <td>5001712</td>\n",
              "      <td>0</td>\n",
              "    </tr>\n",
              "    <tr>\n",
              "      <th>1</th>\n",
              "      <td>5001713</td>\n",
              "      <td>0</td>\n",
              "    </tr>\n",
              "    <tr>\n",
              "      <th>2</th>\n",
              "      <td>5001714</td>\n",
              "      <td>0</td>\n",
              "    </tr>\n",
              "    <tr>\n",
              "      <th>3</th>\n",
              "      <td>5001715</td>\n",
              "      <td>0</td>\n",
              "    </tr>\n",
              "    <tr>\n",
              "      <th>4</th>\n",
              "      <td>5001717</td>\n",
              "      <td>0</td>\n",
              "    </tr>\n",
              "  </tbody>\n",
              "</table>\n",
              "</div>"
            ],
            "text/plain": [
              "   id_cliente  mau\n",
              "0     5001712    0\n",
              "1     5001713    0\n",
              "2     5001714    0\n",
              "3     5001715    0\n",
              "4     5001717    0"
            ]
          },
          "metadata": {},
          "execution_count": 85
        }
      ]
    },
    {
      "cell_type": "code",
      "metadata": {
        "colab": {
          "base_uri": "https://localhost:8080/",
          "height": 275
        },
        "id": "udxZ3clU9Y_E",
        "outputId": "58d5a15e-b24f-4477-8f40-c74f0de2438f"
      },
      "source": [
        "#versão final concluída da base com features e target\n",
        "df_registro_clientes_targets = cadastrados_clean_v1.merge(df_registros_creditos_id, on='id_cliente')\n",
        "df_registro_clientes_targets.head()"
      ],
      "execution_count": null,
      "outputs": [
        {
          "output_type": "execute_result",
          "data": {
            "text/html": [
              "<div>\n",
              "<style scoped>\n",
              "    .dataframe tbody tr th:only-of-type {\n",
              "        vertical-align: middle;\n",
              "    }\n",
              "\n",
              "    .dataframe tbody tr th {\n",
              "        vertical-align: top;\n",
              "    }\n",
              "\n",
              "    .dataframe thead th {\n",
              "        text-align: right;\n",
              "    }\n",
              "</style>\n",
              "<table border=\"1\" class=\"dataframe\">\n",
              "  <thead>\n",
              "    <tr style=\"text-align: right;\">\n",
              "      <th></th>\n",
              "      <th>id_cliente</th>\n",
              "      <th>tem_carro</th>\n",
              "      <th>tem_casa_propria</th>\n",
              "      <th>qtd_filhos</th>\n",
              "      <th>rendimento_anual</th>\n",
              "      <th>categoria_de_renda</th>\n",
              "      <th>grau_escolaridade</th>\n",
              "      <th>estado_civil</th>\n",
              "      <th>moradia</th>\n",
              "      <th>idade</th>\n",
              "      <th>tem_telefone_trabalho</th>\n",
              "      <th>tem_telefone_fixo</th>\n",
              "      <th>tem_email</th>\n",
              "      <th>ocupacao</th>\n",
              "      <th>tamanho_familia</th>\n",
              "      <th>anos_empregado</th>\n",
              "      <th>mau</th>\n",
              "    </tr>\n",
              "  </thead>\n",
              "  <tbody>\n",
              "    <tr>\n",
              "      <th>0</th>\n",
              "      <td>5008804</td>\n",
              "      <td>1</td>\n",
              "      <td>1</td>\n",
              "      <td>0</td>\n",
              "      <td>161100.0</td>\n",
              "      <td>Empregado</td>\n",
              "      <td>Ensino superior</td>\n",
              "      <td>Uniao estavel</td>\n",
              "      <td>Alugado</td>\n",
              "      <td>33</td>\n",
              "      <td>1</td>\n",
              "      <td>0</td>\n",
              "      <td>0</td>\n",
              "      <td>Outros</td>\n",
              "      <td>2</td>\n",
              "      <td>12.4</td>\n",
              "      <td>0</td>\n",
              "    </tr>\n",
              "    <tr>\n",
              "      <th>1</th>\n",
              "      <td>5008805</td>\n",
              "      <td>1</td>\n",
              "      <td>1</td>\n",
              "      <td>0</td>\n",
              "      <td>161100.0</td>\n",
              "      <td>Empregado</td>\n",
              "      <td>Ensino superior</td>\n",
              "      <td>Uniao estavel</td>\n",
              "      <td>Alugado</td>\n",
              "      <td>33</td>\n",
              "      <td>1</td>\n",
              "      <td>0</td>\n",
              "      <td>0</td>\n",
              "      <td>Outros</td>\n",
              "      <td>2</td>\n",
              "      <td>12.4</td>\n",
              "      <td>0</td>\n",
              "    </tr>\n",
              "    <tr>\n",
              "      <th>2</th>\n",
              "      <td>5008806</td>\n",
              "      <td>1</td>\n",
              "      <td>1</td>\n",
              "      <td>0</td>\n",
              "      <td>112500.0</td>\n",
              "      <td>Empregado</td>\n",
              "      <td>Ensino medio</td>\n",
              "      <td>Casado</td>\n",
              "      <td>Casa propria</td>\n",
              "      <td>59</td>\n",
              "      <td>0</td>\n",
              "      <td>0</td>\n",
              "      <td>0</td>\n",
              "      <td>Seguranca</td>\n",
              "      <td>2</td>\n",
              "      <td>3.1</td>\n",
              "      <td>0</td>\n",
              "    </tr>\n",
              "    <tr>\n",
              "      <th>3</th>\n",
              "      <td>5008810</td>\n",
              "      <td>0</td>\n",
              "      <td>1</td>\n",
              "      <td>0</td>\n",
              "      <td>270000.0</td>\n",
              "      <td>Associado comercial</td>\n",
              "      <td>Ensino medio</td>\n",
              "      <td>Solteiro</td>\n",
              "      <td>Casa propria</td>\n",
              "      <td>52</td>\n",
              "      <td>0</td>\n",
              "      <td>1</td>\n",
              "      <td>1</td>\n",
              "      <td>Venda</td>\n",
              "      <td>1</td>\n",
              "      <td>8.4</td>\n",
              "      <td>0</td>\n",
              "    </tr>\n",
              "    <tr>\n",
              "      <th>4</th>\n",
              "      <td>5008811</td>\n",
              "      <td>0</td>\n",
              "      <td>1</td>\n",
              "      <td>0</td>\n",
              "      <td>270000.0</td>\n",
              "      <td>Associado comercial</td>\n",
              "      <td>Ensino medio</td>\n",
              "      <td>Solteiro</td>\n",
              "      <td>Casa propria</td>\n",
              "      <td>52</td>\n",
              "      <td>0</td>\n",
              "      <td>1</td>\n",
              "      <td>1</td>\n",
              "      <td>Venda</td>\n",
              "      <td>1</td>\n",
              "      <td>8.4</td>\n",
              "      <td>0</td>\n",
              "    </tr>\n",
              "  </tbody>\n",
              "</table>\n",
              "</div>"
            ],
            "text/plain": [
              "   id_cliente  tem_carro  ...  anos_empregado  mau\n",
              "0     5008804          1  ...            12.4    0\n",
              "1     5008805          1  ...            12.4    0\n",
              "2     5008806          1  ...             3.1    0\n",
              "3     5008810          0  ...             8.4    0\n",
              "4     5008811          0  ...             8.4    0\n",
              "\n",
              "[5 rows x 17 columns]"
            ]
          },
          "metadata": {},
          "execution_count": 86
        }
      ]
    },
    {
      "cell_type": "code",
      "metadata": {
        "colab": {
          "base_uri": "https://localhost:8080/"
        },
        "id": "vEH7bZHY9-HN",
        "outputId": "aa552fc3-29eb-4cdc-a194-e3dcb0391eba"
      },
      "source": [
        "df_registro_clientes_targets['mau'].value_counts(normalize=True)*100"
      ],
      "execution_count": null,
      "outputs": [
        {
          "output_type": "execute_result",
          "data": {
            "text/plain": [
              "0    97.71126\n",
              "1     2.28874\n",
              "Name: mau, dtype: float64"
            ]
          },
          "metadata": {},
          "execution_count": 87
        }
      ]
    },
    {
      "cell_type": "markdown",
      "metadata": {
        "id": "O0d7pvRa-U7s"
      },
      "source": [
        "Apesar de todos nossos tratamentos, podemos ver que o target ficou muito desbalanceado, o que não é o ideal, e teremos que tratar isso.\n",
        "\n",
        "Agora, após a conclusão da parte analítica e de preparação da base, iremos para outro notebook para a seção de aplicação do Machine Learning.\n",
        "\n",
        "Acesse o próximo notebook aqui (inserir link depois)."
      ]
    },
    {
      "cell_type": "code",
      "metadata": {
        "id": "vDR0P3o0isKJ"
      },
      "source": [
        "df_registro_clientes_targets.to_csv('df_registro_clientes_targets.csv', sep=',', encoding='utf-8')"
      ],
      "execution_count": null,
      "outputs": []
    }
  ]
}